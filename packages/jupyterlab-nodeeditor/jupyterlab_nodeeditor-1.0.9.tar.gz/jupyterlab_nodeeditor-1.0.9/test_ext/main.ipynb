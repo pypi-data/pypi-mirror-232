{
 "cells": [
  {
   "cell_type": "code",
   "execution_count": null,
   "id": "d84503b5-8de8-4741-bc80-ae3fcaef24ab",
   "metadata": {},
   "outputs": [],
   "source": []
  },
  {
   "cell_type": "code",
   "execution_count": null,
   "id": "eb8c877d-5668-43e2-aef1-b3e51a6b2428",
   "metadata": {},
   "outputs": [
    {
     "ename": "NameError",
     "evalue": "name 'test_select' is not defined",
     "output_type": "error",
     "traceback": [
      "\u001b[0;31m---------------------------------------------------------------------------\u001b[0m",
      "\u001b[0;31mNameError\u001b[0m                                 Traceback (most recent call last)",
      "Cell \u001b[0;32mIn[8], line 1\u001b[0m\n\u001b[0;32m----> 1\u001b[0m _BeLSaTxJLh_out \u001b[38;5;241m=\u001b[39m \u001b[43mtest_select\u001b[49m\u001b[38;5;241m.\u001b[39mget_option_value(\u001b[38;5;241m0\u001b[39m)\n",
      "\u001b[0;31mNameError\u001b[0m: name 'test_select' is not defined"
     ]
    }
   ],
   "source": [
    "#[nodes_9f25da02-48f3-4178-bd90-a0f893da85e5][未命名]{\"id\":\"9f25da02-48f3-4178-bd90-a0f893da85e5\",\"name\":\"未命名\",\"nodes\":{\"4ceL4n2DUJ\":{\"id\":\"4ceL4n2DUJ\",\"x\":-142,\"y\":-318.5,\"type\":\"tuple\",\"width\":250,\"connections\":{\"inputs\":{},\"outputs\":{}},\"inputData\":{\"control\":{},\"tuple_editor\":{\"index\":0,\"type\":\"any\",\"tuple_editor\":[]}}},\"TzcW1hYfMR\":{\"id\":\"TzcW1hYfMR\",\"x\":-138,\"y\":-89.5,\"type\":\"dict\",\"width\":250,\"connections\":{\"inputs\":{},\"outputs\":{}},\"inputData\":{\"control\":{},\"dict_editor\":{\"name\":\"asdf\",\"type\":\"any\",\"dict_editor\":{\"asdf\":\"any\"}}}}},\"nodeTypes\":{},\"locked\":[],\"runCache\":{},\"comments\":{}}"
   ]
  }
 ],
 "metadata": {
  "kernelspec": {
   "display_name": "Python 3 (ipykernel)",
   "language": "python",
   "name": "python3"
  },
  "language_info": {
   "codemirror_mode": {
    "name": "ipython",
    "version": 3
   },
   "file_extension": ".py",
   "mimetype": "text/x-python",
   "name": "python",
   "nbconvert_exporter": "python",
   "pygments_lexer": "ipython3",
   "version": "3.11.2"
  }
 },
 "nbformat": 4,
 "nbformat_minor": 5
}
