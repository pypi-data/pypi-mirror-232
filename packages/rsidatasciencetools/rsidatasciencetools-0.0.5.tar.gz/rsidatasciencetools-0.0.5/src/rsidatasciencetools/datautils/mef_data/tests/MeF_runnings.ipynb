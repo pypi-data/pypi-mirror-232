{
 "cells": [
  {
   "cell_type": "code",
   "execution_count": 6,
   "id": "a366d657",
   "metadata": {},
   "outputs": [
    {
     "name": "stderr",
     "output_type": "stream",
     "text": [
      "2023-05-09 14:10:10,954 Defining Classes\n",
      "2023-05-09 14:10:10,957 Initializing main MefDataGen record generator object\n",
      "2023-05-09 14:10:10,958 Initializing the Mef Dataset Generator\n"
     ]
    }
   ],
   "source": [
    "#from rsidatasciencetools.datautils.MeF_data.mef_datagen import (IPv6Address, \n",
    "#    MACAddress)\n",
    "from rsidatasciencetools.datautils.fraud_data.fraud_data_generator import IPv4Address, FraudulentFraudRecordGenerator, LegitFraudRecordGenerator\n",
    "from rsidatasciencetools.datautils.MeF_data.mef_datagen import EinGen\n",
    "from rsidatasciencetools.datautils.datagen import Record, RecordGenerator\n",
    "from rsidatasciencetools.config.baseconfig import YmlConfig\n",
    "import datetime as dt\n",
    "from enum import Enum, auto\n",
    "import numpy as np\n",
    "import pandas as pd"
   ]
  },
  {
   "cell_type": "code",
   "execution_count": 28,
   "id": "08df107c",
   "metadata": {},
   "outputs": [
    {
     "data": {
      "text/plain": [
       "2"
      ]
     },
     "execution_count": 28,
     "metadata": {},
     "output_type": "execute_result"
    }
   ],
   "source": [
    "rng = np.random.RandomState()\n",
    "rng.randint(4)"
   ]
  },
  {
   "cell_type": "code",
   "execution_count": 1,
   "id": "a09ba93f",
   "metadata": {},
   "outputs": [
    {
     "data": {
      "text/plain": [
       "'P123456578'"
      ]
     },
     "execution_count": 1,
     "metadata": {},
     "output_type": "execute_result"
    }
   ],
   "source": [
    "\"P\" + str(123456578)"
   ]
  },
  {
   "cell_type": "code",
   "execution_count": 29,
   "id": "f9a980ec",
   "metadata": {},
   "outputs": [
    {
     "data": {
      "text/plain": [
       "{'legit': None, 'fraud': None}"
      ]
     },
     "execution_count": 29,
     "metadata": {},
     "output_type": "execute_result"
    }
   ],
   "source": [
    "# Yaml calls\n",
    "path_to_config = '../tests/mef_rec_gen_config.yaml'\n",
    "yml = YmlConfig(path_to_config, read_all=False, ext='yaml')\n",
    "yml['FinancialTransactions']"
   ]
  },
  {
   "cell_type": "code",
   "execution_count": 8,
   "id": "594eb241",
   "metadata": {},
   "outputs": [
    {
     "data": {
      "text/plain": [
       "'92-9600390'"
      ]
     },
     "execution_count": 8,
     "metadata": {},
     "output_type": "execute_result"
    }
   ],
   "source": [
    "a = EinGen()\n",
    "a.get_sample()"
   ]
  },
  {
   "cell_type": "code",
   "execution_count": 26,
   "id": "094d6e18",
   "metadata": {},
   "outputs": [
    {
     "ename": "NameError",
     "evalue": "name 'taxpayer_gen' is not defined",
     "output_type": "error",
     "traceback": [
      "\u001b[0;31m---------------------------------------------------------------------------\u001b[0m",
      "\u001b[0;31mNameError\u001b[0m                                 Traceback (most recent call last)",
      "Cell \u001b[0;32mIn[26], line 1\u001b[0m\n\u001b[0;32m----> 1\u001b[0m \u001b[43mtaxpayer_gen\u001b[49m\u001b[38;5;241m.\u001b[39mget_record()\u001b[38;5;241m.\u001b[39mcompositename\n",
      "\u001b[0;31mNameError\u001b[0m: name 'taxpayer_gen' is not defined"
     ]
    }
   ],
   "source": [
    "taxpayer_gen.get_record().compositename"
   ]
  },
  {
   "cell_type": "code",
   "execution_count": null,
   "id": "3dee0d33",
   "metadata": {},
   "outputs": [],
   "source": [
    "taxpayer_gen.get_record()"
   ]
  },
  {
   "cell_type": "code",
   "execution_count": 14,
   "id": "213d8295",
   "metadata": {},
   "outputs": [
    {
     "ename": "NameError",
     "evalue": "name 'IPv6Address' is not defined",
     "output_type": "error",
     "traceback": [
      "\u001b[0;31m---------------------------------------------------------------------------\u001b[0m",
      "\u001b[0;31mNameError\u001b[0m                                 Traceback (most recent call last)",
      "Cell \u001b[0;32mIn[14], line 5\u001b[0m\n\u001b[1;32m      3\u001b[0m seed\u001b[38;5;241m=\u001b[39m\u001b[38;5;241m19\u001b[39m\n\u001b[1;32m      4\u001b[0m ipv4_gen \u001b[38;5;241m=\u001b[39m IPv4Address(seed\u001b[38;5;241m=\u001b[39mseed)\n\u001b[0;32m----> 5\u001b[0m ipv6_gen \u001b[38;5;241m=\u001b[39m \u001b[43mIPv6Address\u001b[49m(seed\u001b[38;5;241m=\u001b[39mseed)\n\u001b[1;32m      6\u001b[0m mac_gen \u001b[38;5;241m=\u001b[39m MACAddress(seed\u001b[38;5;241m=\u001b[39mseed)\n",
      "\u001b[0;31mNameError\u001b[0m: name 'IPv6Address' is not defined"
     ]
    }
   ],
   "source": [
    "# Authentication Header Transmission Detail\n",
    "yml={}    \n",
    "seed=19\n",
    "ipv4_gen = IPv4Address(seed=seed)\n",
    "ipv6_gen = IPv6Address(seed=seed)\n",
    "mac_gen = MACAddress(seed=seed)"
   ]
  },
  {
   "cell_type": "code",
   "execution_count": null,
   "id": "c95076d0",
   "metadata": {},
   "outputs": [],
   "source": [
    "df=pd.DataFrame({})\n",
    "df['col1']='5'\n",
    "df"
   ]
  },
  {
   "cell_type": "code",
   "execution_count": 10,
   "id": "28a3497f",
   "metadata": {},
   "outputs": [
    {
     "data": {
      "text/plain": [
       "str"
      ]
     },
     "execution_count": 10,
     "metadata": {},
     "output_type": "execute_result"
    }
   ],
   "source": [
    "ipv4_gen = IPv4Address(seed=19)\n",
    "type(ipv4_gen.get_id())"
   ]
  },
  {
   "cell_type": "code",
   "execution_count": 11,
   "id": "fd9300cb",
   "metadata": {},
   "outputs": [
    {
     "ename": "NameError",
     "evalue": "name 'IPv6Address' is not defined",
     "output_type": "error",
     "traceback": [
      "\u001b[0;31m---------------------------------------------------------------------------\u001b[0m",
      "\u001b[0;31mNameError\u001b[0m                                 Traceback (most recent call last)",
      "Cell \u001b[0;32mIn[11], line 1\u001b[0m\n\u001b[0;32m----> 1\u001b[0m ipv6_gen \u001b[38;5;241m=\u001b[39m \u001b[43mIPv6Address\u001b[49m(seed\u001b[38;5;241m=\u001b[39m\u001b[38;5;241m19\u001b[39m)\n\u001b[1;32m      2\u001b[0m ipv6_gen\u001b[38;5;241m.\u001b[39mget_id()\n",
      "\u001b[0;31mNameError\u001b[0m: name 'IPv6Address' is not defined"
     ]
    }
   ],
   "source": [
    "ipv6_gen = IPv6Address(seed=19)\n",
    "ipv6_gen.get_id()"
   ]
  },
  {
   "cell_type": "code",
   "execution_count": null,
   "id": "2fef63d2",
   "metadata": {},
   "outputs": [],
   "source": [
    "pd.Timestamp(yml['start_date_requests']).year"
   ]
  },
  {
   "cell_type": "code",
   "execution_count": null,
   "id": "f9b4d586",
   "metadata": {},
   "outputs": [],
   "source": [
    "print(dt.datetime(year=2020, day=2, month=1))"
   ]
  },
  {
   "cell_type": "code",
   "execution_count": null,
   "id": "4421d59c",
   "metadata": {},
   "outputs": [],
   "source": [
    "# I desist from this class, because it leaves all too obscure. \n",
    "#Better to know all the fields we are adding when doing debugging later.\n",
    "import yaml\n",
    "\n",
    "def get_c_or_nc_values(yml, parent_key, c_or_nc = 'c'):\n",
    "    \"\"\"\n",
    "    Extracts the compliant('c') or non-complaint('nc') values\n",
    "    for a particular section in a dictionary. Extendable to any subkey.\n",
    "    It is created so assigning complian/non-compliant cases in the yml\n",
    "    is more friendly, and values are comparable at first glance.\n",
    "\n",
    "    Args:\n",
    "    yml (dict): The dictionary to extract values from.\n",
    "    parent_key (str): The key of the parent dictionary to search under.\n",
    "    c_or_nc (str): The subkey to search for ('c' or 'nc' but in general can be any subkey).\n",
    "\n",
    "    Returns:\n",
    "    A dictionary, where each value contains the name of the key and its corresponding 'c' or 'nc' value.\n",
    "    \"\"\"\n",
    "\n",
    "    c_or_nc_values = {}\n",
    "    for key, value in yml[parent_key].items():\n",
    "        if c_or_nc in value:\n",
    "            c_or_nc_values[key] = value[c_or_nc]\n",
    "\n",
    "    return c_or_nc_values\n",
    "\n",
    "# Example usage\n",
    "\n",
    "c_or_nc_values = get_c_or_nc_values(yml, 'AuthenticationHeader', 'nc')\n",
    "\n",
    "c_or_nc_values"
   ]
  },
  {
   "cell_type": "code",
   "execution_count": null,
   "id": "27d2b631",
   "metadata": {},
   "outputs": [],
   "source": [
    "normal = rng.normal(5,5)\n",
    "normal"
   ]
  },
  {
   "cell_type": "code",
   "execution_count": null,
   "id": "bc742417",
   "metadata": {},
   "outputs": [],
   "source": [
    "24*60\n"
   ]
  },
  {
   "cell_type": "markdown",
   "id": "1d6432f2",
   "metadata": {},
   "source": [
    "# Final structure to follow"
   ]
  },
  {
   "cell_type": "code",
   "execution_count": null,
   "id": "8e08d062",
   "metadata": {},
   "outputs": [],
   "source": [
    "# wHAT IS BEST, ONE LONG ENUM CLASS?\n",
    "class MefData(Enum):\n",
    "    ah_td_ini_IPv4Address = auto()\n",
    "    ah_td_ini_IPv6Address = auto()\n",
    "    ah_td_ini_MACAddress = auto()\n",
    "    ah_td_ini_IPTs = auto()\n",
    "    ah_td_ini_DeviceID = auto()\n",
    "    ah_td_ini_DeviceTypeCd = auto()\n",
    "    ah_td_ini_BrowserLanguageTxt = auto()\n",
    "    ah_td_sub_IPv4Address = auto()\n",
    "    ah_td_sub_IPv6Address = auto()\n",
    "    ah_td_sub_MACAddress = auto()\n",
    "    ah_td_sub_IPTs = auto()\n",
    "    ah_td_sub_DeviceID = auto()\n",
    "    ah_td_sub_DeviceTypeCd = auto()\n",
    "    ah_td_sub_BrowserLanguageTxt = auto()\n",
    "    ah_td_TotalActiveTimePrepSubmissionTs = auto()\n",
    "    ah_td_TotalPreparationSubmissionTs = auto()\n",
    "#     ft_sp_Checking\n",
    "#     ft_sp_RoutingTransitNumber\n",
    "#     rh_TaxYr\n",
    "#     rh_flr_prim_tn_FirstName\n",
    "    \n",
    "    \n",
    "# OR 3 SMALLER CLASSES, 1 per output\n",
    "# I like this one better\n",
    "# Here one\n",
    "class MefAuthenticationHeaderData(Enum):\n",
    "    td_ini_IPv4Address = auto()\n",
    "    td_ini_IPv6Address = auto()\n",
    "    td_ini_MACAddress = auto()\n",
    "    td_ini_IPTs = auto()\n",
    "    td_ini_DeviceID = auto()        #No Implemented\n",
    "    td_ini_DeviceTypeCd = auto()    #No Implemented\n",
    "    td_ini_BrowserLanguageTxt = auto() #No Implemented\n",
    "    td_sub_IPv4Address = auto()\n",
    "    td_sub_IPv6Address = auto()\n",
    "    td_sub_MACAddress = auto()\n",
    "    td_sub_IPTs = auto()\n",
    "    td_sub_DeviceID = auto()       #No Implemented\n",
    "    td_sub_DeviceTypeCd = auto()   #No Implemented\n",
    "    td_sub_BrowserLanguageTxt = auto() #No Implemented\n",
    "    td_TotalActiveTimePrepSubmissionTs = auto()\n",
    "    td_TotalPreparationSubmissionTs = auto()\n",
    "\n",
    "    \n",
    "    \n",
    "    \n",
    "class MefAuthenticationHeaderDataCorruptible(Enum):\n",
    "    ah_td_ini_IPv4Address = auto()\n",
    "    ah_td_ini_IPv6Address = auto()\n",
    "    ah_td_ini_MACAddress = auto()\n",
    "    ah_td_ini_DeviceID = auto()\n",
    "    ah_td_ini_DeviceTypeCd = auto()\n",
    "    ah_td_ini_BrowserLanguageTxt = auto()\n",
    "    ah_td_sub_IPv4Address = auto()\n",
    "    ah_td_sub_IPv6Address = auto()\n",
    "    ah_td_sub_MACAddress = auto()\n",
    "    ah_td_sub_DeviceID = auto()\n",
    "    ah_td_sub_DeviceTypeCd = auto()\n",
    "    \n",
    "\n",
    "class MefAuthenticationHeaderDataLengthChangable(Enum):\n",
    "    ah_td_ini_DeviceID = auto()\n",
    "    ah_td_sub_DeviceID = auto()"
   ]
  },
  {
   "cell_type": "code",
   "execution_count": null,
   "id": "a232ba8f",
   "metadata": {},
   "outputs": [],
   "source": [
    "#rng.randint?"
   ]
  },
  {
   "cell_type": "code",
   "execution_count": null,
   "id": "5c34f4f3",
   "metadata": {},
   "outputs": [],
   "source": [
    "from rsidatasciencetools.datautils.fraud_data.fraud_data_generator import GenDateTimeRegistry\n",
    "import datetime\n",
    "\n",
    "class MefDataGen():\n",
    "    def __init__(self,yml=yml,rng=None,**params):\n",
    "        self.rng = rng\n",
    "        self.yml=yml\n",
    "        self.gen_ip4 = IPv4Address(rng=self.rng)\n",
    "        self.gen_ip6 = IPv6Address(rng=self.rng)\n",
    "        self.gen_mac = MACAddress(rng=self.rng)  \n",
    "        self.kwargs = self.yml['AuthenticationHeader']['TransmissionDetail']['legit']  #****LEGIT CASE\n",
    "\n",
    "   \n",
    "        self.gen_sub_time = GenDateTimeRegistry(rng=self.rng, \n",
    "                                                elapse_mean_days=self.kwargs['active_time_preparation_in_days'].get('mean',1),  \n",
    "                                                elapse_std_days=self.kwargs['active_time_preparation_in_days'].get('std',1)\n",
    "                                                )\n",
    "        self.gen_total_time = GenDateTimeRegistry(rng=self.rng, \n",
    "                                                elapse_mean_days=self.kwargs['total_time_preparation_in_days'].get('mean',5),  #****LEGIT CASE\n",
    "                                                elapse_std_days=self.kwargs['total_time_preparation_in_days'].get('std',5)\n",
    "                                                 )\n",
    "\n",
    "                                                \n",
    "    @staticmethod                                                \n",
    "    def convert_to_min(elapse_time):\n",
    "        elapse_minutes = int( abs(elapse_time.total_seconds()) // 60 + 2)\n",
    "        return(elapse_minutes)\n",
    "    \n",
    "    def get_record(self):\n",
    "        \n",
    "        td_TotalActiveTimePrepSubmissionTs=MefDataGen.convert_to_min(abs(self.gen_sub_time.get_sample()['elapse time of submission']))\n",
    "        print(td_TotalActiveTimePrepSubmissionTs)\n",
    "       \n",
    "        return Record(datatype=MefAuthenticationHeaderData, corruptible=MefAuthenticationHeaderDataCorruptible,\n",
    "            lenth_changable=MefAuthenticationHeaderDataLengthChangable,autopop={},\n",
    "            rng=self.rng,\n",
    "            td_ini_IPv4Address=self.gen_ip4.get_id(),\n",
    "            td_ini_IPv6Address=self.gen_ip6.get_id(),\n",
    "            td_ini_MACAddress=self.gen_mac.get_id(),\n",
    "            td_ini_IPTs=rng.randint(low=1,high=3),\n",
    "                      \n",
    "            td_sub_IPv4Address=self.gen_ip4.get_id(),\n",
    "            td_sub_IPv6Address=self.gen_ip6.get_id(),\n",
    "            td_sub_MACAddress=self.gen_mac.get_id(),\n",
    "            td_sub_IPTs=rng.randint(low=1,high=3),\n",
    "            \n",
    "            td_TotalActiveTimePrepSubmissionTs=MefDataGen.convert_to_min(abs(self.gen_sub_time.get_sample()['elapse time of submission'])),\n",
    "            td_TotalPreparationSubmissionTs=max(MefDataGen.convert_to_min(abs(self.gen_total_time.get_sample()['elapse time of submission'])), td_TotalActiveTimePrepSubmissionTs+5)\n",
    "                      \n",
    "        )   "
   ]
  },
  {
   "cell_type": "code",
   "execution_count": null,
   "id": "92ee8f8a",
   "metadata": {},
   "outputs": [],
   "source": [
    "def convert_to_min(elapse_time):\n",
    "    elapse_minutes = int(abs(elapse_time.total_seconds()) / 60 ) + 2\n",
    "    return(elapse_minutes)\n",
    "\n",
    "convert_to_min(GenDateTimeRegistry(rng=rng).get_sample()['elapse time of submission'])"
   ]
  },
  {
   "cell_type": "code",
   "execution_count": null,
   "id": "72391fda",
   "metadata": {},
   "outputs": [],
   "source": [
    "\n",
    "    rng = np.random.RandomState(18)\n",
    "    mef_gen = MefDataGen(rng=rng)\n",
    "    mef_rec = mef_gen.get_record()\n",
    "    Record.as_dataframe(mef_rec)"
   ]
  },
  {
   "cell_type": "code",
   "execution_count": null,
   "id": "3e5a12d5",
   "metadata": {},
   "outputs": [],
   "source": [
    "from rsidatasciencetools.datautils.datagen import Record\n",
    "class MefDatasetGenerator(object):\n",
    "    def __init__(self, rng, p_fraud=0.01, **params):\n",
    "        self.fraud_gen = FraudMefDataGen(**params)\n",
    "        self.legit_gen = MefDataGen(**params)\n",
    "        self.p_fraud = p_fraud\n",
    "        self.rng = rng\n",
    "\n",
    "    @property\n",
    "    def is_fraud(self):\n",
    "        return self.rng.random() < self.p_fraud\n",
    "\n",
    "    def gen_records(self, num):\n",
    "        recs = []\n",
    "        for i in range(num):\n",
    "            if self.is_fraud:\n",
    "                print(\"fraudulent record\")\n",
    "                pass\n",
    "                #rec = self.fraud_gen.get_record()\n",
    "            else:\n",
    "                rec = self.legit_gen.get_record()\n",
    "            recs.append(rec)\n",
    "            df = Record.as_dataframe(recs)\n",
    "        return recs, df"
   ]
  },
  {
   "cell_type": "code",
   "execution_count": null,
   "id": "efb21a6d",
   "metadata": {},
   "outputs": [],
   "source": [
    "recs, df = MefDatasetGenerator(rng=rng).gen_records(num=20)\n",
    "df"
   ]
  },
  {
   "cell_type": "code",
   "execution_count": null,
   "id": "91691a65",
   "metadata": {},
   "outputs": [],
   "source": []
  },
  {
   "cell_type": "code",
   "execution_count": null,
   "id": "0a163b06",
   "metadata": {},
   "outputs": [],
   "source": []
  },
  {
   "cell_type": "code",
   "execution_count": null,
   "id": "c6378e61",
   "metadata": {},
   "outputs": [],
   "source": [
    "for src, furl in yml.items(contains=['legit']):\n",
    "    print(src, furl)"
   ]
  },
  {
   "cell_type": "code",
   "execution_count": null,
   "id": "db50ba48",
   "metadata": {},
   "outputs": [],
   "source": []
  },
  {
   "cell_type": "code",
   "execution_count": null,
   "id": "50674e57",
   "metadata": {},
   "outputs": [],
   "source": [
    "rng.uniform(0.5, 0.6)"
   ]
  },
  {
   "cell_type": "code",
   "execution_count": null,
   "id": "1bf9f2c5",
   "metadata": {},
   "outputs": [],
   "source": [
    "lista = [0.5, 0.55]\n",
    "rng.uniform(*lista)"
   ]
  },
  {
   "cell_type": "code",
   "execution_count": null,
   "id": "45d15ac4",
   "metadata": {},
   "outputs": [],
   "source": [
    "diction = {'low':0.5, 'high':0.55}\n",
    "rng.uniform(**diction)"
   ]
  },
  {
   "cell_type": "code",
   "execution_count": null,
   "id": "2894f71e",
   "metadata": {},
   "outputs": [],
   "source": [
    "str(5)"
   ]
  },
  {
   "cell_type": "code",
   "execution_count": null,
   "id": "d1cc654b",
   "metadata": {},
   "outputs": [],
   "source": [
    "rng.choice(['',0,1,2,3], p=[0.2, 0.1, 0.2, 0.2, 0.3])"
   ]
  },
  {
   "cell_type": "code",
   "execution_count": null,
   "id": "0616e3b2",
   "metadata": {},
   "outputs": [],
   "source": [
    "a = np.nan\n",
    "a"
   ]
  },
  {
   "cell_type": "code",
   "execution_count": null,
   "id": "8c9067d9",
   "metadata": {},
   "outputs": [],
   "source": [
    "type(a)"
   ]
  },
  {
   "cell_type": "code",
   "execution_count": null,
   "id": "77561197",
   "metadata": {},
   "outputs": [],
   "source": [
    "list(np.arange(1,5))"
   ]
  },
  {
   "cell_type": "code",
   "execution_count": null,
   "id": "d8d8f145",
   "metadata": {},
   "outputs": [],
   "source": [
    "str(rng.choice([\"\"] + [str(i).zfill(2) for i in range(0, 13)]))"
   ]
  },
  {
   "cell_type": "code",
   "execution_count": null,
   "id": "7f3576b6",
   "metadata": {},
   "outputs": [],
   "source": [
    "legit_rec = LegitFraudRecordGenerator(yml=yml)"
   ]
  },
  {
   "cell_type": "code",
   "execution_count": null,
   "id": "c0f5b527",
   "metadata": {},
   "outputs": [],
   "source": []
  }
 ],
 "metadata": {
  "kernelspec": {
   "display_name": "nlp2 - spacy plus azure",
   "language": "python",
   "name": "myenv"
  },
  "language_info": {
   "codemirror_mode": {
    "name": "ipython",
    "version": 3
   },
   "file_extension": ".py",
   "mimetype": "text/x-python",
   "name": "python",
   "nbconvert_exporter": "python",
   "pygments_lexer": "ipython3",
   "version": "3.9.12"
  }
 },
 "nbformat": 4,
 "nbformat_minor": 5
}
