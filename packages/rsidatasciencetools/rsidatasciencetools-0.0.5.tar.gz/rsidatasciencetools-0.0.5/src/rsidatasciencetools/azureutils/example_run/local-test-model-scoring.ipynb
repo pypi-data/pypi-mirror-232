{
 "cells": [
  {
   "cell_type": "code",
   "execution_count": 1,
   "id": "eed2db3d",
   "metadata": {},
   "outputs": [],
   "source": [
    "import joblib\n",
    "import numpy as np\n",
    "import os\n",
    "\n",
    "from azureml import core\n",
    "\n",
    "from inference_schema.schema_decorators import input_schema, output_schema\n",
    "from inference_schema.parameter_types.numpy_parameter_type import NumpyParameterType\n",
    "\n",
    "from rsidatasciencetools.azureutils.azurerun import AzureMLRun\n",
    "from rsidatasciencetools.config.cacheconfig import CacheConfig\n",
    "from rsidatasciencetools.azureutils.azureconfig import AzureConfig\n",
    "from rsidatasciencetools.mlutils.model_io import ModelManager"
   ]
  },
  {
   "cell_type": "code",
   "execution_count": 21,
   "id": "c9278f39",
   "metadata": {},
   "outputs": [
    {
     "data": {
      "text/plain": [
       "{'_conda_dependencies': ordereddict([('name', 'project_environment'), ('dependencies', ['python=3.8.12', ordereddict([('pip', ['azureml-defaults'])])]), ('channels', ['anaconda', 'conda-forge'])]),\n",
       " '_python_version': '3.8.12'}"
      ]
     },
     "execution_count": 21,
     "metadata": {},
     "output_type": "execute_result"
    }
   ],
   "source": [
    "env = core.Environment(name=arun.yaml_config['env_name'],workspace=arun.azure_cred.Workspace)\n",
    "env.__dict__['python'].__dict__['conda_dependencies'].__dict__"
   ]
  },
  {
   "cell_type": "code",
   "execution_count": 6,
   "id": "14ec2138",
   "metadata": {},
   "outputs": [],
   "source": [
    "core.Environment?"
   ]
  },
  {
   "cell_type": "code",
   "execution_count": 3,
   "id": "0069b40a",
   "metadata": {},
   "outputs": [],
   "source": [
    "arun = AzureMLRun('./')"
   ]
  },
  {
   "cell_type": "code",
   "execution_count": 4,
   "id": "c0c2eea1",
   "metadata": {},
   "outputs": [
    {
     "name": "stderr",
     "output_type": "stream",
     "text": [
      "/home/nick/Work/code/DataScienceTools/dstools/azureutils/azurerun.py:343: UserWarning: found matching environement to use: sklearn-pandas-x\n",
      "  warn(f'found matching environement to use: {self.azure_env_name}')\n"
     ]
    },
    {
     "name": "stdout",
     "output_type": "stream",
     "text": [
      "Succeeded\n",
      "AmlCompute wait for completion finished\n",
      "\n",
      "Minimum number of nodes requested have been provisioned\n"
     ]
    },
    {
     "name": "stderr",
     "output_type": "stream",
     "text": [
      "/home/nick/Work/code/DataScienceTools/dstools/azureutils/azurerun.py:584: UserWarning: no expr/model naming section in training script, populating from AzureRun object\n",
      "  warn('no expr/model naming section in training script, '\n"
     ]
    },
    {
     "name": "stdout",
     "output_type": "stream",
     "text": [
      "Finished setup of: AzureMLRun: Experiment: train-on-amlcompute (... enceTools/dstools/azureutils/example_run) | Model: sklearn-ridge-regr-diabetes | Azure Cred: AzureConfig | {,    subscription_id:3fa70909-0b38-420d-a9ff-e0bc3242****,    resource_group:nroseveare-rg,    workspace_name:nroseveare-workspace } | Azure Env: sklearn-pandas-x (REGISTERED_EXISTING) | Azure compute: intimidata (Succeeded) | Script folder: ./azure_temp-run_train-on-amlcompute_1656003655\n"
     ]
    }
   ],
   "source": [
    "arun.setup_run(debug=1)"
   ]
  },
  {
   "cell_type": "code",
   "execution_count": 2,
   "id": "db0ba402",
   "metadata": {},
   "outputs": [],
   "source": [
    "\n",
    "\n",
    "cache = CacheConfig(cachepath='./')\n",
    "azure_config = AzureConfig('./')\n",
    "\n",
    "# The init() method is called once, when the web service starts up.\n",
    "#\n",
    "# Typically you would deserialize the model file, as shown here using joblib,\n",
    "# and store it in a global variable so your run() method can access it later.\n",
    "# def init():\n",
    "#     global model\n",
    "\n",
    "#     # The AZUREML_MODEL_DIR environment variable indicates\n",
    "#     # a directory containing the model file you registered.\n",
    "#     model_path = os.path.join(os.environ['AZUREML_MODEL_DIR'], model_filename)\n",
    "\n",
    "#     model = joblib.load(model_path)\n",
    "\n",
    "def init():\n",
    "    global model\n",
    "    model_name = 'sklearn-ridge-regr-diabetes'\n",
    "    if is_config_unset(test_azure=True):\n",
    "        set_configs(cache,azure=azure_config)\n",
    "    model = load_model(model_name, _from='azure')\n",
    "\n",
    "\n",
    "# The run() method is called each time a request is made to the scoring API.\n",
    "#\n",
    "# Shown here are the optional input_schema and output_schema decorators\n",
    "# from the inference-schema pip package. Using these decorators on your\n",
    "# run() method parses and validates the incoming payload against\n",
    "# the example input you provide here. This will also generate a Swagger\n",
    "# API document for your web service.\n",
    "@input_schema('data', NumpyParameterType(np.array([[0.1, 1.2, 2.3, 3.4, 4.5, 5.6, 6.7, 7.8, 8.9, 9.0]])))\n",
    "@output_schema(NumpyParameterType(np.array([4429.929236457418])))\n",
    "def run(data):\n",
    "    # Use the model object loaded by init().\n",
    "    result = model.predict(data)\n",
    "\n",
    "    # You can return any JSON-serializable object.\n",
    "    return result.tolist()\n"
   ]
  },
  {
   "cell_type": "code",
   "execution_count": 5,
   "id": "8f2862bd",
   "metadata": {},
   "outputs": [
    {
     "data": {
      "text/plain": [
       "{'prev_apidata_cache': None,\n",
       " 'prev_traindata_dir': None,\n",
       " 'prev_models_cache': None,\n",
       " 'prefix': None,\n",
       " '_path': './'}"
      ]
     },
     "execution_count": 5,
     "metadata": {},
     "output_type": "execute_result"
    }
   ],
   "source": [
    "cache.__dict__"
   ]
  },
  {
   "cell_type": "code",
   "execution_count": 6,
   "id": "0e68d133",
   "metadata": {},
   "outputs": [],
   "source": [
    "init()"
   ]
  },
  {
   "cell_type": "code",
   "execution_count": 7,
   "id": "850137d2",
   "metadata": {},
   "outputs": [
    {
     "data": {
      "text/plain": [
       "[4839.385092554985]"
      ]
     },
     "execution_count": 7,
     "metadata": {},
     "output_type": "execute_result"
    }
   ],
   "source": [
    "run(np.array([[0.1, 1.2, 2.3, 3.4, 4.5, 5.6, 6.7, 7.8, 8.9, 9.0]]))"
   ]
  },
  {
   "cell_type": "code",
   "execution_count": null,
   "id": "4acdbb5c",
   "metadata": {},
   "outputs": [],
   "source": []
  }
 ],
 "metadata": {
  "kernelspec": {
   "display_name": "Python 3.8.10 64-bit",
   "language": "python",
   "name": "python3"
  },
  "language_info": {
   "codemirror_mode": {
    "name": "ipython",
    "version": 3
   },
   "file_extension": ".py",
   "mimetype": "text/x-python",
   "name": "python",
   "nbconvert_exporter": "python",
   "pygments_lexer": "ipython3",
   "version": "3.8.10"
  },
  "vscode": {
   "interpreter": {
    "hash": "916dbcbb3f70747c44a77c7bcd40155683ae19c65e1c03b4aa3499c5328201f1"
   }
  }
 },
 "nbformat": 4,
 "nbformat_minor": 5
}
