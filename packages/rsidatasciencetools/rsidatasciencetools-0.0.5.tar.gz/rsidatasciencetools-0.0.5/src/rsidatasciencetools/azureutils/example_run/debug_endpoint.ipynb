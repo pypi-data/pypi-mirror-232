{
 "cells": [
  {
   "cell_type": "code",
   "execution_count": 34,
   "id": "00950ce9-29f5-4c79-ac3e-766a9990bc4a",
   "metadata": {},
   "outputs": [],
   "source": [
    "import os\n",
    "import yaml\n",
    "\n",
    "from azureml.core.conda_dependencies import CondaDependencies\n",
    "\n",
    "from rsidatasciencetools.azureutils.azureconfig import AzureConfig"
   ]
  },
  {
   "cell_type": "code",
   "execution_count": 2,
   "id": "be722bff-4ff0-445c-bdab-356fb9c4c817",
   "metadata": {},
   "outputs": [],
   "source": [
    "d = ('/mnt/c/Users/NickRoseveare/Documents/Work/UbuntuVM/code/DataScienceTools/'\n",
    "     'dstools/azureutils/example_run/')"
   ]
  },
  {
   "cell_type": "code",
   "execution_count": 35,
   "id": "223cf252-f3d4-45bc-b6dd-132500883f96",
   "metadata": {},
   "outputs": [
    {
     "name": "stderr",
     "output_type": "stream",
     "text": [
      "/home/nick/Work/code/DataScienceTools/dstools/config/baseconfig.py:154: UserWarning: for *config type: AzureConfig found more than one (json) *config file in this directory, overriding / replacing according to read-in order\n",
      "  warn((f'for {self.base_str} type: {self.__class__.__name__} '\n"
     ]
    }
   ],
   "source": [
    "cfg = AzureConfig('./')\n",
    "ws = cfg.Workspace"
   ]
  },
  {
   "cell_type": "code",
   "execution_count": 21,
   "id": "2ac55a93-32f4-46c8-b0d3-ffd8f66b9885",
   "metadata": {},
   "outputs": [],
   "source": [
    "with open(os.path.join(d,'train-in-azure.yml'),'r') as f:\n",
    "    yaml_config = yaml.safe_load(f)\n",
    "strict_yaml_loc = os.path.join('./temp.yml')\n",
    "envdict = {k:v for k,v in yaml_config.items() if k in CondaDependencies._VALID_YML_KEYS}\n",
    "envdict['name'] = '-'.join([\n",
    "    yaml_config['name'],yaml_config['env_name']])\n",
    "with open(strict_yaml_loc,'w') as f:\n",
    "    yaml.safe_dump(envdict, f)\n",
    "conda_dependencies = CondaDependencies(\n",
    "    conda_dependencies_file_path=strict_yaml_loc)\n",
    "try:\n",
    "    os.remove(strict_yaml_loc)\n",
    "except FileNotFoundError:\n",
    "    pass\n",
    "del envdict"
   ]
  },
  {
   "cell_type": "code",
   "execution_count": 31,
   "id": "daef9dac-1030-46c5-ab6f-7408f07d1fc2",
   "metadata": {},
   "outputs": [],
   "source": [
    "# Usually a good idea to choose specific version numbers\n",
    "# so training is made on same packages as scoring\n",
    "\n",
    "# create env yml file\n",
    "conda_dependencies.add_pip_package(pip_package='debugpy')\n",
    "conda_dependencies.add_pip_package(pip_package='azureml-defaults==1.0.83')\n",
    "\n",
    "with open(\"./debugenv.yml\",\"w\") as f:\n",
    "    f.write(conda_dependencies.serialize_to_string())\n",
    "    # f.write('image: mcr.microsoft.com/azureml/openmpi3.1.2-cuda10.2-cudnn8-ubuntu18.04')\n"
   ]
  },
  {
   "cell_type": "code",
   "execution_count": null,
   "id": "c28e8441-530e-4a08-b02b-e5966eb924b1",
   "metadata": {},
   "outputs": [],
   "source": [
    "from azureml.core.conda_dependencies import CondaDependencies\n",
    "from azureml.core.model import InferenceConfig\n",
    "from azureml.core.environment import Environment\n",
    "from azureml.core import Model\n",
    "\n",
    "model_name = 'sklearn-ridge-regr-diabetes'\n",
    "\n",
    "env = Environment.from_conda_specification(name=\"env\", file_path=\"./debugenv.yml\")\n",
    "env.docker.base_image = None\n",
    "env.docker.base_dockerfile = \"FROM mcr.microsoft.com/azureml/openmpi3.1.2-cuda10.2-cudnn8-ubuntu18.04\"\n",
    "inference_config = InferenceConfig(entry_script=\"score.py\", environment=env)\n",
    "model = Model(workspace=ws, name=model_name)\n",
    "package = Model.package(ws, [model], inference_config)\n",
    "package.wait_for_creation(show_output=True)  # Or show_output=False to hide the Docker build logs.\n",
    "package.pull()"
   ]
  },
  {
   "cell_type": "code",
   "execution_count": null,
   "id": "7faef731-c99f-431d-a8a4-7b15b5390905",
   "metadata": {},
   "outputs": [],
   "source": [
    "# tag the docker image\n",
    "#    docker tag my/path/to/image debug:1"
   ]
  },
  {
   "cell_type": "code",
   "execution_count": null,
   "id": "9b62665a-e0f7-4246-890f-04c0900ed023",
   "metadata": {},
   "outputs": [],
   "source": [
    "# to run in the command line:\n",
    "#     docker run -it --name debug -p 8000:5001 -p 5678:5678 -v (/mnt/c/Users/NickRoseveare/Documents/Work/UbuntuVM/code/DataScienceTools/dstools/azureutils/example_run/score.py:/var/azureml-app/score.py debug:1 /bin/bash"
   ]
  }
 ],
 "metadata": {
  "kernelspec": {
   "display_name": "Python 3 (ipykernel)",
   "language": "python",
   "name": "python3"
  },
  "language_info": {
   "codemirror_mode": {
    "name": "ipython",
    "version": 3
   },
   "file_extension": ".py",
   "mimetype": "text/x-python",
   "name": "python",
   "nbconvert_exporter": "python",
   "pygments_lexer": "ipython3",
   "version": "3.9.7"
  }
 },
 "nbformat": 4,
 "nbformat_minor": 5
}
