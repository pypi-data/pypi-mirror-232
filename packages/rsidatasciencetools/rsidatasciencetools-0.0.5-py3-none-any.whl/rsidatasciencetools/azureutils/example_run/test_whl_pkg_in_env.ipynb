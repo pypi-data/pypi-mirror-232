{
 "cells": [
  {
   "cell_type": "code",
   "execution_count": 23,
   "id": "2cf7290e",
   "metadata": {},
   "outputs": [],
   "source": [
    "import sys\n",
    "from itertools import chain\n",
    "from azureml import core\n",
    "import importlib_metadata\n",
    "from rsidatasciencetools.config.baseconfig import YmlConfig"
   ]
  },
  {
   "cell_type": "code",
   "execution_count": 2,
   "id": "ad38a12f",
   "metadata": {},
   "outputs": [],
   "source": [
    "base_imports = [\n",
    "    'pandas', \n",
    "    'numpy', \n",
    "    'matplotlib',\n",
    "    'scikit-learn',\n",
    "    'packaging',\n",
    "    'pip',\n",
    "    {'pip': ['pip', 'mlflow', 'azureml',\n",
    "        'azureml-core', 'azureml-mlflow', \n",
    "        'azureml-defaults',\n",
    "        'azureml-contrib-services',\n",
    "        'azureml-contrib-dataset',\n",
    "        'azureml-mlflow', 'inference-schema',\n",
    "        'scikit-learn-intelex']}\n",
    "]"
   ]
  },
  {
   "cell_type": "code",
   "execution_count": 3,
   "id": "6f1ebe89",
   "metadata": {},
   "outputs": [
    {
     "data": {
      "text/plain": [
       "YmlConfig | {\n",
       "   name:train-on-amlcompute\n",
       "   model_name:sklearn-ridge-regr-diabetes\n",
       "   env_name:sklearn-pandas-x\n",
       "   service_name:sklearn-test-diabetes\n",
       "   local:['example_imports', '../../../dstools']\n",
       "   dependencies:['scikit-learn', 'pandas', 'numpy', 'matplotlib', 'packaging', 'pip', {'pip': ['mlflow', 'azureml', 'azureml-core', 'azureml-defaults', 'azureml-contrib-services', 'azureml-contrib-dataset', 'azureml-mlflow', 'inference-schema', 'scikit-learn-intelex', 'sqlalchemy', 'pymssql']}] }"
      ]
     },
     "execution_count": 3,
     "metadata": {},
     "output_type": "execute_result"
    }
   ],
   "source": [
    "yaml_config = YmlConfig('./train-in-azure.yml')\n",
    "yaml_config"
   ]
  },
  {
   "cell_type": "code",
   "execution_count": 4,
   "id": "da5d7847",
   "metadata": {},
   "outputs": [],
   "source": [
    "conda_pkgs = set(el for el in base_imports \n",
    "    if not(isinstance(el,dict)))\n",
    "conda_pkgs.update(set(dep for dep in yaml_config['dependencies'] \n",
    "    if not(isinstance(dep,dict))))\n",
    "pip_pkgs = [el for el in base_imports if isinstance(el,dict) and 'pip' in el]\n",
    "if len(pip_pkgs):\n",
    "    pip_pkgs = set(pip_pkgs[0]['pip'])\n",
    "_pip = [dep for dep in yaml_config['dependencies'] \n",
    "    if isinstance(dep,dict) and 'pip' in dep]\n",
    "if len(_pip):\n",
    "    pip_pkgs.update(set(_pip[0]['pip']))\n",
    "\n",
    "pkgs = [el for el in importlib_metadata.distributions() \n",
    "    if el.name in conda_pkgs or el.name in pip_pkgs]\n",
    "pkg_versions = {'azureml-core': core.VERSION}\n",
    "pkg_versions.update({lib.name: lib.version for lib in pkgs})\n",
    "conda_pkgs = list(sorted(conda_pkgs))\n",
    "pip_pkgs = list(sorted(pip_pkgs))"
   ]
  },
  {
   "cell_type": "code",
   "execution_count": 5,
   "id": "83978abf",
   "metadata": {},
   "outputs": [
    {
     "name": "stdout",
     "output_type": "stream",
     "text": [
      "Workspace.create(name='nroseveare-workspace', subscription_id='3fa70909-0b38-420d-a9ff-e0bc32420128', resource_group='nroseveare-rg')\n"
     ]
    }
   ],
   "source": [
    "ws = core.Workspace.from_config('./azure-config.json')\n",
    "print(ws)"
   ]
  },
  {
   "cell_type": "code",
   "execution_count": 6,
   "id": "7f1512f0",
   "metadata": {},
   "outputs": [],
   "source": [
    "# whl_pkgs = [\"../../../DataScienceTools/dist/DataScienceTools-0.0.1-py2.py3-none-any.whl\"]\n",
    "whl_pkgs = [\"../../../dist/DataScienceTools-0.0.1-py2.py3-none-any.whl\"]"
   ]
  },
  {
   "cell_type": "code",
   "execution_count": 25,
   "id": "7d2bb41c",
   "metadata": {},
   "outputs": [
    {
     "name": "stdout",
     "output_type": "stream",
     "text": [
      "conda dep:  ['matplotlib', 'numpy', 'packaging', 'pandas', 'pip', 'scikit-learn']\n",
      "pip dep:  ['azureml', 'azureml-contrib-dataset', 'azureml-contrib-services', 'azureml-core', 'azureml-defaults', 'azureml-mlflow', 'inference-schema', 'mlflow', 'pip', 'pymssql', 'scikit-learn-intelex', 'sqlalchemy']\n"
     ]
    },
    {
     "data": {
      "text/plain": [
       "{'_conda_dependencies': ordereddict([('name', 'project_environment'), ('dependencies', ['python=3.9.7', ordereddict([('pip', ['azureml', 'azureml-contrib-dataset', 'azureml-contrib-services', 'azureml-core', 'azureml-defaults', 'azureml-mlflow', 'inference-schema', 'mlflow', 'pip', 'pymssql', 'scikit-learn-intelex', 'sqlalchemy', 'https://nrosevearework0157530426.blob.core.windows.net/azureml/Environment/azureml-private-packages/DataScienceTools-0.0.1-py2.py3-none-any.whl'])]), 'matplotlib', 'numpy', 'packaging', 'pandas', 'pip', 'scikit-learn']), ('channels', ['anaconda', 'conda-forge'])]),\n",
       " '_python_version': '3.9.7'}"
      ]
     },
     "execution_count": 25,
     "metadata": {},
     "output_type": "execute_result"
    }
   ],
   "source": [
    "PYTHON_VERSION = \"{major}.{minor}.{micro}\".format(\n",
    "    major=sys.version_info.major,\n",
    "    minor=sys.version_info.minor,\n",
    "    micro=sys.version_info.micro)\n",
    "if True:\n",
    "    print('conda dep: ', conda_pkgs)\n",
    "    print('pip dep: ', pip_pkgs)\n",
    "    \n",
    "conda_dependencies = core.conda_dependencies.CondaDependencies.create(\n",
    "    python_version=PYTHON_VERSION,\n",
    "    conda_packages=(conda_pkgs if len(conda_pkgs) else None),\n",
    "    pip_packages=(pip_pkgs if len(pip_pkgs) else None)\n",
    "    )\n",
    "\n",
    "for whl in whl_pkgs:\n",
    "    whl_url = core.Environment.add_private_pip_wheel(workspace=ws,file_path=whl,exist_ok=True)\n",
    "    conda_dependencies.add_pip_package(whl_url)\n",
    "conda_dependencies.__dict__"
   ]
  },
  {
   "cell_type": "code",
   "execution_count": 26,
   "id": "0cf4fc86",
   "metadata": {},
   "outputs": [
    {
     "data": {
      "text/plain": [
       "True"
      ]
     },
     "execution_count": 26,
     "metadata": {},
     "output_type": "execute_result"
    }
   ],
   "source": [
    "azure_env = core.Environment.get(ws, 'test')  #yaml_config['env_name'])  #, version=None, label=None)\n",
    "\n",
    "conda_dep_check = azure_env.python.conda_dependencies.as_dict()\n",
    "conda_dep_dict = conda_dependencies.as_dict()\n",
    "conda_deps = set([dep for dep in conda_dep_check['dependencies'] \n",
    "    if not(isinstance(dep,dict))]), set([\n",
    "        dep for dep in conda_dep_dict['dependencies']\n",
    "            if not(isinstance(dep,dict))])\n",
    "\n",
    "pip_deps = \\\n",
    "    set(chain.from_iterable(\n",
    "        [dep['pip'] for dep in conda_dep_check['dependencies'] \n",
    "        if (isinstance(dep,dict) and ('pip' in dep))])), \\\n",
    "    set(chain.from_iterable(\n",
    "        [dep['pip'] for dep in conda_dep_dict['dependencies'] \n",
    "            if (isinstance(dep,dict) and ('pip' in dep))]))\n",
    "(conda_dep_dict['name'] == conda_dep_check['name'] and\n",
    "                        (len(conda_deps[0].symmetric_difference(conda_deps[1])) == 0) and\n",
    "                        (len(pip_deps[0].symmetric_difference(pip_deps[1])) == 0))"
   ]
  },
  {
   "cell_type": "code",
   "execution_count": 17,
   "id": "e66197d7",
   "metadata": {},
   "outputs": [],
   "source": [
    "azure_env = core.Environment('test')\n",
    "azure_env.python.conda_dependencies = conda_dependencies\n",
    "\n",
    "if (ws is not None): # and self.register_env:\n",
    "    azure_env.register(ws)"
   ]
  },
  {
   "cell_type": "code",
   "execution_count": 27,
   "id": "8a77f38b",
   "metadata": {},
   "outputs": [],
   "source": [
    "core.conda_dependencies.CondaDependencies.create?"
   ]
  },
  {
   "cell_type": "code",
   "execution_count": null,
   "id": "f3720d01",
   "metadata": {},
   "outputs": [],
   "source": []
  }
 ],
 "metadata": {
  "kernelspec": {
   "display_name": "Python 3 (ipykernel)",
   "language": "python",
   "name": "python3"
  },
  "language_info": {
   "codemirror_mode": {
    "name": "ipython",
    "version": 3
   },
   "file_extension": ".py",
   "mimetype": "text/x-python",
   "name": "python",
   "nbconvert_exporter": "python",
   "pygments_lexer": "ipython3",
   "version": "3.9.7"
  }
 },
 "nbformat": 4,
 "nbformat_minor": 5
}
