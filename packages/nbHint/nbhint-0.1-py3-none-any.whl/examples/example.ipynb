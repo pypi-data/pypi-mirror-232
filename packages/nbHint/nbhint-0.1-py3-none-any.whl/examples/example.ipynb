{
 "cells": [
  {
   "cell_type": "markdown",
   "id": "8be24efc-19e3-4ab6-8bab-7bbe3c714456",
   "metadata": {
    "nbgrader": {
     "grade": false,
     "grade_id": "cell-87998b464a450fe7",
     "locked": true,
     "schema_version": 3,
     "solution": false,
     "task": false
    },
    "tags": []
   },
   "source": [
    "### Imports:"
   ]
  },
  {
   "cell_type": "code",
   "execution_count": 1,
   "id": "3146365c-cd78-4486-ad25-67dc7ef5db15",
   "metadata": {
    "nbgrader": {
     "grade": false,
     "grade_id": "cell-b4e32400ae78b91f",
     "locked": true,
     "schema_version": 3,
     "solution": false,
     "task": false
    },
    "tags": []
   },
   "outputs": [],
   "source": [
    "import os\n",
    "from nbk_check_content import NbHint, GetCellContent\n",
    "path = os.getcwd()\n",
    "filename = 'Examples.ipynb'"
   ]
  },
  {
   "cell_type": "markdown",
   "id": "490b2bb3-70ac-4939-8d33-6b88e2e29c2e",
   "metadata": {},
   "source": [
    "### Example 1: Variablenames"
   ]
  },
  {
   "cell_type": "code",
   "execution_count": null,
   "id": "bb6837be-6d38-4c0c-b69d-02f6544a9cae",
   "metadata": {
    "nbgrader": {
     "grade": false,
     "grade_id": "cell-4119246836a38e04",
     "locked": false,
     "schema_version": 3,
     "solution": true,
     "task": false
    },
    "tags": []
   },
   "outputs": [],
   "source": [
    "num_str = '200'\n",
    "\n",
    "number = float(num_str)"
   ]
  },
  {
   "cell_type": "code",
   "execution_count": null,
   "id": "5d1b2802-073c-4c17-a067-66563319a101",
   "metadata": {
    "nbgrader": {
     "grade": false,
     "grade_id": "cell-5e892b85c24ce2ad",
     "locked": true,
     "schema_version": 3,
     "solution": false,
     "task": false
    },
    "tags": []
   },
   "outputs": [],
   "source": [
    "nbk_cells = GetCellContent(path,filename)\n",
    "\n",
    "current_cell = nbk_cells.get_cell_by_id('cell-4119246836a38e04')\n",
    "check_var = current_cell.check_varnames(['num_str','number'])"
   ]
  },
  {
   "cell_type": "markdown",
   "id": "07707772-1b69-4957-87ca-6eff1ea8adbf",
   "metadata": {},
   "source": [
    "### Example 2: Slicing"
   ]
  },
  {
   "cell_type": "code",
   "execution_count": null,
   "id": "cfd54655-3748-42d8-81d0-70d5727ba05c",
   "metadata": {
    "nbgrader": {
     "grade": false,
     "grade_id": "cell-8c00c723f77ed787",
     "locked": false,
     "schema_version": 3,
     "solution": true,
     "task": false
    },
    "tags": []
   },
   "outputs": [],
   "source": [
    "a = 'Hello World'\n",
    "\n",
    "hello = a[0:5]"
   ]
  },
  {
   "cell_type": "code",
   "execution_count": null,
   "id": "9ca945bf-7267-4d16-9647-52adc38287f3",
   "metadata": {
    "nbgrader": {
     "grade": false,
     "grade_id": "cell-1e0155bd01ab2c41",
     "locked": true,
     "schema_version": 3,
     "solution": false,
     "task": false
    },
    "tags": []
   },
   "outputs": [],
   "source": [
    "nbk_cells = GetCellContent(path,filename)\n",
    "\n",
    "current_cell = nbk_cells.get_cell_by_id('cell-8c00c723f77ed787')\n",
    "check_slice = current_cell.check_slicing()"
   ]
  },
  {
   "cell_type": "markdown",
   "id": "d5103338-93f1-4d48-9317-dad5a0f99852",
   "metadata": {},
   "source": [
    "### Example 3: Expretions "
   ]
  },
  {
   "cell_type": "code",
   "execution_count": null,
   "id": "33e78df0-6f8d-4715-bb40-bdb2d3486ba8",
   "metadata": {
    "nbgrader": {
     "grade": false,
     "grade_id": "cell-10f75dadb73653f0",
     "locked": false,
     "schema_version": 3,
     "solution": true,
     "task": false
    },
    "tags": []
   },
   "outputs": [],
   "source": [
    "l = [33,35,26,12,23,6]\n",
    "\n",
    "l.remove(6)\n",
    "l.append(24)\n",
    "l.insert(3,17)\n",
    "print(l)"
   ]
  },
  {
   "cell_type": "code",
   "execution_count": null,
   "id": "2206b5cf-68c9-4217-89dc-71c46d07413c",
   "metadata": {
    "nbgrader": {
     "grade": false,
     "grade_id": "cell-e77196076e3664e1",
     "locked": true,
     "schema_version": 3,
     "solution": false,
     "task": false
    },
    "tags": []
   },
   "outputs": [],
   "source": [
    "nbk_cells = GetCellContent(path,filename)\n",
    "\n",
    "current_cell = nbk_cells.get_cell_by_id('cell-10f75dadb73653f0')\n",
    "check_expr = current_cell.check_expr(['print','append','insert','remove'])"
   ]
  },
  {
   "cell_type": "markdown",
   "id": "f4bc8a72-3956-4732-b8e4-9f9f7480f047",
   "metadata": {},
   "source": [
    "### Example 4: Split"
   ]
  },
  {
   "cell_type": "code",
   "execution_count": null,
   "id": "0adce4b2-65c9-4f13-ba65-f1f65f974462",
   "metadata": {
    "nbgrader": {
     "grade": false,
     "grade_id": "cell-77c22a312433184e",
     "locked": false,
     "schema_version": 3,
     "solution": true,
     "task": false
    },
    "tags": []
   },
   "outputs": [],
   "source": [
    "l = '33,35,26,12,23,6'\n",
    "\n",
    "l_split = l.split(',')"
   ]
  },
  {
   "cell_type": "code",
   "execution_count": null,
   "id": "1ec13292-d0ee-42a2-a838-a56d2c35bac1",
   "metadata": {
    "nbgrader": {
     "grade": false,
     "grade_id": "cell-1a032afb376d1e84",
     "locked": true,
     "schema_version": 3,
     "solution": false,
     "task": false
    },
    "tags": []
   },
   "outputs": [],
   "source": [
    "nbk_cells = GetCellContent(path,filename)\n",
    "\n",
    "current_cell = nbk_cells.get_cell_by_id('cell-77c22a312433184e')\n",
    "check_split = current_cell.check_split()"
   ]
  },
  {
   "cell_type": "markdown",
   "id": "dcad5bf9-8076-4e62-b30b-ee3afe396f2c",
   "metadata": {
    "nbgrader": {
     "grade": false,
     "grade_id": "cell-086bbee1d079fb65",
     "locked": true,
     "schema_version": 3,
     "solution": false,
     "task": false
    },
    "tags": []
   },
   "source": [
    "### Example 5: Assign functions (range,len,...)"
   ]
  },
  {
   "cell_type": "code",
   "execution_count": null,
   "id": "13e4ff75-e127-4f78-8da6-bdfe515ba93f",
   "metadata": {
    "nbgrader": {
     "grade": false,
     "grade_id": "cell-38faea2fd591d49a",
     "locked": false,
     "schema_version": 3,
     "solution": true,
     "task": false
    },
    "tags": []
   },
   "outputs": [],
   "source": [
    "l = [33,35,26,12,23,6]\n",
    "\n",
    "a = len(l)\n",
    "b = range(4)"
   ]
  },
  {
   "cell_type": "code",
   "execution_count": null,
   "id": "685517db-fdf4-43f0-abbf-821864562b2f",
   "metadata": {
    "nbgrader": {
     "grade": false,
     "grade_id": "cell-07b664eeee29a76e",
     "locked": true,
     "schema_version": 3,
     "solution": false,
     "task": false
    },
    "tags": []
   },
   "outputs": [],
   "source": [
    "nbk_cells = GetCellContent(path,filename)\n",
    "\n",
    "current_cell = nbk_cells.get_cell_by_id('cell-38faea2fd591d49a')\n",
    "check_assign_func = current_cell.check_assign_func(allowed = ['len'], not_allowed = ['range'])"
   ]
  },
  {
   "cell_type": "markdown",
   "id": "ba49857e-5609-4a3c-a2fd-8510dee22a09",
   "metadata": {
    "nbgrader": {
     "grade": false,
     "grade_id": "cell-d5dc36eec1fd01d0",
     "locked": true,
     "schema_version": 3,
     "solution": false,
     "task": false
    },
    "tags": []
   },
   "source": [
    "### Example 6.1: If"
   ]
  },
  {
   "cell_type": "code",
   "execution_count": null,
   "id": "800e8971-f9f4-4848-9948-206a2eaa0f31",
   "metadata": {
    "nbgrader": {
     "grade": false,
     "grade_id": "cell-b63ceac8d73de379",
     "locked": false,
     "schema_version": 3,
     "solution": true,
     "task": false
    },
    "tags": []
   },
   "outputs": [],
   "source": [
    "x = 5\n",
    "\n",
    "if x >= 0:\n",
    "    print('Positiv')"
   ]
  },
  {
   "cell_type": "code",
   "execution_count": null,
   "id": "8f55f49b-893a-4d8e-8141-2e8184895eb9",
   "metadata": {
    "nbgrader": {
     "grade": false,
     "grade_id": "cell-e5005bc96cfdea41",
     "locked": true,
     "schema_version": 3,
     "solution": false,
     "task": false
    },
    "tags": []
   },
   "outputs": [],
   "source": [
    "nbk_cells = GetCellContent(path,filename)\n",
    "\n",
    "current_cell = nbk_cells.get_cell_by_id('cell-b63ceac8d73de379')\n",
    "check_if = current_cell.check_if(only_if = True)"
   ]
  },
  {
   "cell_type": "markdown",
   "id": "96c1fd88-7a85-44e1-8c9d-15eeef266874",
   "metadata": {
    "nbgrader": {
     "grade": false,
     "grade_id": "cell-69128c34ad434d7c",
     "locked": true,
     "schema_version": 3,
     "solution": false,
     "task": false
    },
    "tags": []
   },
   "source": [
    "### Example 6.2: If-Else:"
   ]
  },
  {
   "cell_type": "code",
   "execution_count": null,
   "id": "6833bb2c-662d-4a13-9833-38d5aa8c23d3",
   "metadata": {
    "nbgrader": {
     "grade": false,
     "grade_id": "cell-c0ad3a43dabc8621",
     "locked": false,
     "schema_version": 3,
     "solution": true,
     "task": false
    },
    "tags": []
   },
   "outputs": [],
   "source": [
    "x = 5\n",
    "\n",
    "if x >= 0:\n",
    "    print('Positiv')\n",
    "else:\n",
    "    print('Negativ')"
   ]
  },
  {
   "cell_type": "code",
   "execution_count": null,
   "id": "a7f412d4-abde-40fe-aef8-d487f9809ca2",
   "metadata": {
    "nbgrader": {
     "grade": false,
     "grade_id": "cell-c3cc70f8b1ddc12c",
     "locked": true,
     "schema_version": 3,
     "solution": false,
     "task": false
    },
    "tags": []
   },
   "outputs": [],
   "source": [
    "nbk_cells = GetCellContent(path,filename)\n",
    "\n",
    "current_cell = nbk_cells.get_cell_by_id('cell-c0ad3a43dabc8621')\n",
    "check_if = current_cell.check_if(with_else = True)"
   ]
  },
  {
   "cell_type": "markdown",
   "id": "bc5a664c-384e-4708-8d68-28b2e9718fa7",
   "metadata": {
    "nbgrader": {
     "grade": false,
     "grade_id": "cell-388f66858f0fadc3",
     "locked": true,
     "schema_version": 3,
     "solution": false,
     "task": false
    },
    "tags": []
   },
   "source": [
    "### Example 6.3: If-Elif:"
   ]
  },
  {
   "cell_type": "code",
   "execution_count": null,
   "id": "e7a9fc8a-6b3d-48ea-90c0-80a8d501f40f",
   "metadata": {
    "nbgrader": {
     "grade": false,
     "grade_id": "cell-548ab413b68c9989",
     "locked": false,
     "schema_version": 3,
     "solution": true,
     "task": false
    },
    "tags": []
   },
   "outputs": [],
   "source": [
    "x = 5\n",
    "\n",
    "if x >= 0:\n",
    "    print('Positiv')\n",
    "elif x < 0:\n",
    "    print('Negativ')"
   ]
  },
  {
   "cell_type": "code",
   "execution_count": null,
   "id": "e86ccc90-d830-4742-87fc-e2f3d40c7520",
   "metadata": {
    "nbgrader": {
     "grade": false,
     "grade_id": "cell-d95f6f7dc24d5660",
     "locked": true,
     "schema_version": 3,
     "solution": false,
     "task": false
    },
    "tags": []
   },
   "outputs": [],
   "source": [
    "nbk_cells = GetCellContent(path,filename)\n",
    "\n",
    "current_cell = nbk_cells.get_cell_by_id('cell-548ab413b68c9989')\n",
    "check_if = current_cell.check_if(with_elif = True)"
   ]
  },
  {
   "cell_type": "markdown",
   "id": "86909dfb-99a2-4c28-9fca-7bd61d9d5479",
   "metadata": {
    "nbgrader": {
     "grade": false,
     "grade_id": "cell-da86492e8c7b4987",
     "locked": true,
     "schema_version": 3,
     "solution": false,
     "task": false
    },
    "tags": []
   },
   "source": [
    "### Example 7: For"
   ]
  },
  {
   "cell_type": "code",
   "execution_count": null,
   "id": "a2a7edc4-bb0c-4437-aff4-2b057cdd3936",
   "metadata": {
    "nbgrader": {
     "grade": false,
     "grade_id": "cell-845c377b0e2433a9",
     "locked": false,
     "schema_version": 3,
     "solution": true,
     "task": false
    },
    "tags": []
   },
   "outputs": [],
   "source": [
    "l = [33,35,26,12,23,6]\n",
    "\n",
    "for i in l:\n",
    "    print(i)"
   ]
  },
  {
   "cell_type": "code",
   "execution_count": null,
   "id": "e29021c0-df9f-41e0-a293-024767a1022c",
   "metadata": {
    "nbgrader": {
     "grade": false,
     "grade_id": "cell-8bb5348128cb0a32",
     "locked": true,
     "schema_version": 3,
     "solution": false,
     "task": false
    },
    "tags": []
   },
   "outputs": [],
   "source": [
    "nbk_cells = GetCellContent(path,filename)\n",
    "\n",
    "current_cell = nbk_cells.get_cell_by_id('cell-845c377b0e2433a9')\n",
    "check_if = current_cell.check_for()"
   ]
  },
  {
   "cell_type": "markdown",
   "id": "10895fc8-bfd8-403f-967f-59c14970b621",
   "metadata": {
    "nbgrader": {
     "grade": false,
     "grade_id": "cell-3003abc5edfe7628",
     "locked": true,
     "schema_version": 3,
     "solution": false,
     "task": false
    },
    "tags": []
   },
   "source": [
    "### Example 8.1: Functions without return"
   ]
  },
  {
   "cell_type": "code",
   "execution_count": 2,
   "id": "36c26262-a3ba-4b6d-8f7d-708e9107b540",
   "metadata": {
    "nbgrader": {
     "grade": false,
     "grade_id": "cell-d9752f3b1206fb50",
     "locked": false,
     "schema_version": 3,
     "solution": true,
     "task": false
    },
    "tags": []
   },
   "outputs": [],
   "source": [
    "def square(n):\n",
    "    n*n\n",
    "\n",
    "a = square(2)"
   ]
  },
  {
   "cell_type": "code",
   "execution_count": 3,
   "id": "186d2347-a4ec-482e-9525-1982d97268e7",
   "metadata": {
    "nbgrader": {
     "grade": false,
     "grade_id": "cell-34a625a24e9ad951",
     "locked": true,
     "schema_version": 3,
     "solution": false,
     "task": false
    },
    "tags": []
   },
   "outputs": [],
   "source": [
    "nbk_cells = GetCellContent(path,filename)\n",
    "\n",
    "current_cell = nbk_cells.get_cell_by_id('cell-d9752f3b1206fb50')\n",
    "check_if = current_cell.check_function(args = ['n'])"
   ]
  },
  {
   "cell_type": "markdown",
   "id": "05d589d7-c94c-4e57-9f64-205506577c93",
   "metadata": {
    "nbgrader": {
     "grade": false,
     "grade_id": "cell-b081715fb1d551fc",
     "locked": true,
     "schema_version": 3,
     "solution": false,
     "task": false
    },
    "tags": []
   },
   "source": [
    "### Example 8.2: Functions wit return"
   ]
  },
  {
   "cell_type": "code",
   "execution_count": 9,
   "id": "eddf379b-ef04-4cc0-8fc6-15ae03e1a93d",
   "metadata": {
    "nbgrader": {
     "grade": false,
     "grade_id": "cell-ed806236d8b318fc",
     "locked": false,
     "schema_version": 3,
     "solution": true,
     "task": false
    },
    "tags": []
   },
   "outputs": [],
   "source": [
    "def square(n):\n",
    "    return n * n\n",
    "\n",
    "a = square(2)"
   ]
  },
  {
   "cell_type": "code",
   "execution_count": 10,
   "id": "aa2349b0-823d-4aa4-93ef-7a22a34a6944",
   "metadata": {
    "tags": []
   },
   "outputs": [],
   "source": [
    "nbk_cells = GetCellContent(path,filename)\n",
    "\n",
    "current_cell = nbk_cells.get_cell_by_id('cell-ed806236d8b318fc')\n",
    "check_if = current_cell.check_function(args = ['n'], with_return = True)"
   ]
  },
  {
   "cell_type": "markdown",
   "id": "3820f63f-73e1-4f37-bef2-61c3c5f2bfb9",
   "metadata": {
    "nbgrader": {
     "grade": false,
     "grade_id": "cell-d2324583bfba0794",
     "locked": true,
     "schema_version": 3,
     "solution": false,
     "task": false
    },
    "tags": []
   },
   "source": [
    "### Example 9: Imports"
   ]
  },
  {
   "cell_type": "code",
   "execution_count": 13,
   "id": "6f8c334a-02b0-4349-82f2-e2301941924e",
   "metadata": {
    "nbgrader": {
     "grade": false,
     "grade_id": "cell-fa9c35878af0a678",
     "locked": false,
     "schema_version": 3,
     "solution": true,
     "task": false
    },
    "tags": []
   },
   "outputs": [],
   "source": [
    "import numpy as np\n",
    "from numpy import linalg\n",
    "import scipy"
   ]
  },
  {
   "cell_type": "code",
   "execution_count": 14,
   "id": "8952b314-5a5c-489a-8a76-5d345629e3ef",
   "metadata": {
    "nbgrader": {
     "grade": false,
     "grade_id": "cell-1dbf0b37d5110607",
     "locked": true,
     "schema_version": 3,
     "solution": false,
     "task": false
    },
    "tags": []
   },
   "outputs": [
    {
     "name": "stdout",
     "output_type": "stream",
     "text": [
      "Deine Lösung schein von der Syntax korrekt zu sein!\n",
      "Allerdings sieht es so aus als würdest du die Imports ['numpy'] verwenden.\n",
      "Versuche die Aufgabe ohne diesen Imports/ diesen Imports zu lösen\n"
     ]
    }
   ],
   "source": [
    "nbk_cells = GetCellContent(path,filename)\n",
    "\n",
    "current_cell = nbk_cells.get_cell_by_id('cell-fa9c35878af0a678')\n",
    "check_imports = current_cell.check_import(allowed = ['scipy'], not_allowed = ['numpy'])"
   ]
  }
 ],
 "metadata": {
  "kernelspec": {
   "display_name": "Python 3 (ipykernel)",
   "language": "python",
   "name": "python3"
  },
  "language_info": {
   "codemirror_mode": {
    "name": "ipython",
    "version": 3
   },
   "file_extension": ".py",
   "mimetype": "text/x-python",
   "name": "python",
   "nbconvert_exporter": "python",
   "pygments_lexer": "ipython3",
   "version": "3.10.10"
  }
 },
 "nbformat": 4,
 "nbformat_minor": 5
}
