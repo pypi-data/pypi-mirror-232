{
 "cells": [
  {
   "cell_type": "markdown",
   "metadata": {},
   "source": [
    "Welcome to an interactive tutorial for the `b2_plotter` module, which has functionality in both python scripts\n",
    "and jupyter notebooks. It is meant to primarily be used for notebooks, though.\n",
    "\n",
    "Below is a sample analysis using the module to create plots with detailed comments.\n",
    "\n",
    "Note that before you can use its functionality within a file, the `b2_plotter` module needs to be installed via:\n",
    "\n",
    "`pip install b2_plotter`\n",
    "\n",
    "in whichever workspace you are in.\n",
    "\n",
    "Paul"
   ]
  },
  {
   "cell_type": "code",
   "execution_count": 3,
   "metadata": {},
   "outputs": [
    {
     "ename": "ModuleNotFoundError",
     "evalue": "No module named 'numpy'",
     "output_type": "error",
     "traceback": [
      "\u001b[0;31m---------------------------------------------------------------------------\u001b[0m",
      "\u001b[0;31mModuleNotFoundError\u001b[0m                       Traceback (most recent call last)",
      "\u001b[1;32m/Users/psgebeli/projects/b2_plotter/b2_plotter/example.ipynb Cell 2\u001b[0m line \u001b[0;36m4\n\u001b[1;32m      <a href='vscode-notebook-cell:/Users/psgebeli/projects/b2_plotter/b2_plotter/example.ipynb#W1sZmlsZQ%3D%3D?line=0'>1</a>\u001b[0m \u001b[39m# First we need to import libraries. Strictly speaking, the only ones this demo uses are pandas and root_pandas, but I have imported\u001b[39;00m\n\u001b[1;32m      <a href='vscode-notebook-cell:/Users/psgebeli/projects/b2_plotter/b2_plotter/example.ipynb#W1sZmlsZQ%3D%3D?line=1'>2</a>\u001b[0m \u001b[39m# the others in case you need their extra functionalities.\u001b[39;00m\n\u001b[0;32m----> <a href='vscode-notebook-cell:/Users/psgebeli/projects/b2_plotter/b2_plotter/example.ipynb#W1sZmlsZQ%3D%3D?line=3'>4</a>\u001b[0m \u001b[39mimport\u001b[39;00m \u001b[39mnumpy\u001b[39;00m \u001b[39mas\u001b[39;00m \u001b[39mnp\u001b[39;00m\n\u001b[1;32m      <a href='vscode-notebook-cell:/Users/psgebeli/projects/b2_plotter/b2_plotter/example.ipynb#W1sZmlsZQ%3D%3D?line=4'>5</a>\u001b[0m \u001b[39mimport\u001b[39;00m \u001b[39mmatplotlib\u001b[39;00m\u001b[39m.\u001b[39;00m\u001b[39mpyplot\u001b[39;00m \u001b[39mas\u001b[39;00m \u001b[39mplt\u001b[39;00m \n\u001b[1;32m      <a href='vscode-notebook-cell:/Users/psgebeli/projects/b2_plotter/b2_plotter/example.ipynb#W1sZmlsZQ%3D%3D?line=5'>6</a>\u001b[0m \u001b[39mimport\u001b[39;00m \u001b[39mroot_pandas\u001b[39;00m \u001b[39mas\u001b[39;00m \u001b[39mrp\u001b[39;00m \n",
      "\u001b[0;31mModuleNotFoundError\u001b[0m: No module named 'numpy'"
     ]
    }
   ],
   "source": [
    "# First we need to import libraries. Strictly speaking, the only ones this demo uses are pandas and root_pandas, but I have imported\n",
    "# the others in case you need their extra functionalities.\n",
    "\n",
    "# These modules, with the expection of b2_plotter, will automatically be available to you after setting up\n",
    "# the belle 2 environment.\n",
    "\n",
    "import numpy as np\n",
    "import matplotlib.pyplot as plt \n",
    "import root_pandas as rp \n",
    "import pandas as pd \n",
    "\n",
    "\n",
    "# Import the module's Plotter() class\n",
    "from b2_plotter.Plotter import Plotter\n",
    "\n",
    "# Setup matplotlib environment\n",
    "%matplotlib inline \n"
   ]
  },
  {
   "cell_type": "code",
   "execution_count": 4,
   "metadata": {},
   "outputs": [],
   "source": [
    "# Define the absolute path to the files you will use.\n",
    "# Note that the module currently does not support data -- that will be coming soon.\n",
    "# For this example, taupair/charged/mixed were excluded, but the functions will still work\n",
    "# if you include them.\n",
    "\n",
    "ccbar = '/belle2work/psgebeli/samples/gmc/mc15rib/xipipi/ccbar.root'\n",
    "uubar = '/belle2work/psgebeli/samples/gmc/mc15rib/xipipi/uubar.root'\n",
    "ddbar = '/belle2work/psgebeli/samples/gmc/mc15rib/xipipi/ddbar.root'\n",
    "ssbar = '/belle2work/psgebeli/samples/gmc/mc15rib/xipipi/ssbar.root'\n",
    "\n",
    "# Define columns to reduce runtime. You dont need to read in every variable from the root files, just\n",
    "# the ones that you think will be beneficial to plot. \n",
    "# However, you MUST read in the \"isSignal\" variable and the variable corresponding to your particle's mass.\n",
    "\n",
    "#               REQUIRED\n",
    "#       _______________________\n",
    "#       |                     |\n",
    "mycols= ['xic_M','xic_isSignal', 'xic_significanceOfDistance','xi_significanceOfDistance', \n",
    "         'lambda0_p_protonID', 'xi_M', 'xic_mcFlightTime', 'xic_chiProb']\n"
   ]
  },
  {
   "cell_type": "code",
   "execution_count": 5,
   "metadata": {},
   "outputs": [
    {
     "ename": "NameError",
     "evalue": "name 'rp' is not defined",
     "output_type": "error",
     "traceback": [
      "\u001b[0;31m---------------------------------------------------------------------------\u001b[0m",
      "\u001b[0;31mNameError\u001b[0m                                 Traceback (most recent call last)",
      "\u001b[1;32m/Users/psgebeli/projects/b2_plotter/b2_plotter/example.ipynb Cell 4\u001b[0m line \u001b[0;36m2\n\u001b[1;32m      <a href='vscode-notebook-cell:/Users/psgebeli/projects/b2_plotter/b2_plotter/example.ipynb#W3sZmlsZQ%3D%3D?line=0'>1</a>\u001b[0m \u001b[39m# Create pandas dataframes \u001b[39;00m\n\u001b[0;32m----> <a href='vscode-notebook-cell:/Users/psgebeli/projects/b2_plotter/b2_plotter/example.ipynb#W3sZmlsZQ%3D%3D?line=1'>2</a>\u001b[0m df_ccbar \u001b[39m=\u001b[39m rp\u001b[39m.\u001b[39mread_root(ccbar, key\u001b[39m=\u001b[39m\u001b[39m'\u001b[39m\u001b[39mxic_tree\u001b[39m\u001b[39m'\u001b[39m, columns \u001b[39m=\u001b[39m mycols)\n\u001b[1;32m      <a href='vscode-notebook-cell:/Users/psgebeli/projects/b2_plotter/b2_plotter/example.ipynb#W3sZmlsZQ%3D%3D?line=2'>3</a>\u001b[0m df_uubar \u001b[39m=\u001b[39m rp\u001b[39m.\u001b[39mread_root(uubar, key\u001b[39m=\u001b[39m\u001b[39m'\u001b[39m\u001b[39mxic_tree\u001b[39m\u001b[39m'\u001b[39m, columns \u001b[39m=\u001b[39m mycols)\n\u001b[1;32m      <a href='vscode-notebook-cell:/Users/psgebeli/projects/b2_plotter/b2_plotter/example.ipynb#W3sZmlsZQ%3D%3D?line=3'>4</a>\u001b[0m df_ssbar \u001b[39m=\u001b[39m rp\u001b[39m.\u001b[39mread_root(ssbar, key\u001b[39m=\u001b[39m\u001b[39m'\u001b[39m\u001b[39mxic_tree\u001b[39m\u001b[39m'\u001b[39m, columns \u001b[39m=\u001b[39m mycols)\n",
      "\u001b[0;31mNameError\u001b[0m: name 'rp' is not defined"
     ]
    }
   ],
   "source": [
    "# Create pandas dataframes \n",
    "df_ccbar = rp.read_root(ccbar, key='xic_tree', columns = mycols)\n",
    "df_uubar = rp.read_root(uubar, key='xic_tree', columns = mycols)\n",
    "df_ssbar = rp.read_root(ssbar, key='xic_tree', columns = mycols)\n",
    "df_ddbar = rp.read_root(ddbar, key='xic_tree', columns = mycols)\n",
    "\n",
    "# Define the dataframe that will be your Monte Carlo signal as well.\n",
    "# Using ccbar is fine since we work in charm, but I recommend just using all of them\n",
    "# via a concatenation:\n",
    "df_mc = pd.concat([df_ccbar, df_uubar, df_ssbar, df_ddbar])\n",
    "\n",
    "\n",
    "# Create a dictionary that the Plotter() class will use as input. A dictionary is a list of keys and values\n",
    "# {key1: value1, key2:value2, ...}. In this case, the keys are the labels that will be used in the plots.\n",
    "mcdfs = {'ccbar' : df_ccbar, 'uubar' : df_uubar, 'ssbar' : df_ssbar, 'ddbar' : df_ddbar}\n"
   ]
  },
  {
   "cell_type": "code",
   "execution_count": 9,
   "metadata": {},
   "outputs": [
    {
     "ename": "NameError",
     "evalue": "name 'Plotter' is not defined",
     "output_type": "error",
     "traceback": [
      "\u001b[0;31m---------------------------------------------------------------------------\u001b[0m",
      "\u001b[0;31mNameError\u001b[0m                                 Traceback (most recent call last)",
      "\u001b[1;32m/Users/psgebeli/projects/b2_plotter/b2_plotter/example.ipynb Cell 5\u001b[0m line \u001b[0;36m1\n\u001b[1;32m      <a href='vscode-notebook-cell:/Users/psgebeli/projects/b2_plotter/b2_plotter/example.ipynb#W5sZmlsZQ%3D%3D?line=0'>1</a>\u001b[0m \u001b[39m# Create the plotter object. This calls the __init__ method, which you can see documentation for in README.md in the git repository.\u001b[39;00m\n\u001b[1;32m      <a href='vscode-notebook-cell:/Users/psgebeli/projects/b2_plotter/b2_plotter/example.ipynb#W5sZmlsZQ%3D%3D?line=1'>2</a>\u001b[0m \n\u001b[1;32m      <a href='vscode-notebook-cell:/Users/psgebeli/projects/b2_plotter/b2_plotter/example.ipynb#W5sZmlsZQ%3D%3D?line=2'>3</a>\u001b[0m \u001b[39m# def __init__(self, isSigvar: str, mcdfs: dict, signaldf: pd.DataFrame, datadf: pd.DataFrame = None, interactive: bool = True), where\u001b[39;00m\n\u001b[0;32m   (...)\u001b[0m\n\u001b[1;32m      <a href='vscode-notebook-cell:/Users/psgebeli/projects/b2_plotter/b2_plotter/example.ipynb#W5sZmlsZQ%3D%3D?line=6'>7</a>\u001b[0m \u001b[39m# datadf is the dataframe corresponding to data, which currently does not have functionality, so ignore until future release\u001b[39;00m\n\u001b[1;32m      <a href='vscode-notebook-cell:/Users/psgebeli/projects/b2_plotter/b2_plotter/example.ipynb#W5sZmlsZQ%3D%3D?line=7'>8</a>\u001b[0m \u001b[39m# interactive is a boolean that decides if the plots will be shown (jupyter notebook) or saved as pngs (python scripts)\u001b[39;00m\n\u001b[0;32m---> <a href='vscode-notebook-cell:/Users/psgebeli/projects/b2_plotter/b2_plotter/example.ipynb#W5sZmlsZQ%3D%3D?line=9'>10</a>\u001b[0m plotter \u001b[39m=\u001b[39m Plotter(mcdfs \u001b[39m=\u001b[39m mcdfs, signaldf \u001b[39m=\u001b[39m df_mc, isSigvar \u001b[39m=\u001b[39m \u001b[39m'\u001b[39m\u001b[39mxic_isSignal\u001b[39m\u001b[39m'\u001b[39m, interactive \u001b[39m=\u001b[39m \u001b[39mTrue\u001b[39;00m)\n",
      "\u001b[0;31mNameError\u001b[0m: name 'Plotter' is not defined"
     ]
    }
   ],
   "source": [
    "# Create the plotter object. This calls the __init__ method, which you can see documentation for in README.md in the git repository.\n",
    "\n",
    "# __init__(self, isSigvar: str, mcdfs: dict, signaldf: pd.DataFrame, datadf: pd.DataFrame = None, interactive: bool = True), where\n",
    "\n",
    "# isSigvar is the name of your isSignal variable\n",
    "# mcdfs is the dictionary we defined earlier \n",
    "# signaldf is whatever dataframe you want signal to be extracted from (cc or a concatenation)\n",
    "# datadf is the dataframe corresponding to data, which currently does not have functionality, so ignore until future release\n",
    "# interactive is a boolean that decides if the plots will be shown (jupyter notebook) or saved as pngs (python scripts)\n",
    "        \n",
    "plotter = Plotter(mcdfs = mcdfs, signaldf = df_mc, isSigvar = 'xic_isSignal', interactive = True)"
   ]
  },
  {
   "cell_type": "code",
   "execution_count": 10,
   "metadata": {},
   "outputs": [
    {
     "ename": "NameError",
     "evalue": "name 'plotter' is not defined",
     "output_type": "error",
     "traceback": [
      "\u001b[0;31m---------------------------------------------------------------------------\u001b[0m",
      "\u001b[0;31mNameError\u001b[0m                                 Traceback (most recent call last)",
      "\u001b[1;32m/Users/psgebeli/projects/b2_plotter/b2_plotter/example.ipynb Cell 6\u001b[0m line \u001b[0;36m2\n\u001b[1;32m     <a href='vscode-notebook-cell:/Users/psgebeli/projects/b2_plotter/b2_plotter/example.ipynb#W6sZmlsZQ%3D%3D?line=20'>21</a>\u001b[0m mycuts \u001b[39m=\u001b[39m \u001b[39mf\u001b[39m\u001b[39m'\u001b[39m\u001b[39m{\u001b[39;00mmasscuts\u001b[39m}\u001b[39;00m\u001b[39m and \u001b[39m\u001b[39m{\u001b[39;00mpidcuts\u001b[39m}\u001b[39;00m\u001b[39m and \u001b[39m\u001b[39m{\u001b[39;00mflightcuts\u001b[39m}\u001b[39;00m\u001b[39m'\u001b[39m\n\u001b[1;32m     <a href='vscode-notebook-cell:/Users/psgebeli/projects/b2_plotter/b2_plotter/example.ipynb#W6sZmlsZQ%3D%3D?line=22'>23</a>\u001b[0m \u001b[39m# Bare minimum\u001b[39;00m\n\u001b[0;32m---> <a href='vscode-notebook-cell:/Users/psgebeli/projects/b2_plotter/b2_plotter/example.ipynb#W6sZmlsZQ%3D%3D?line=23'>24</a>\u001b[0m plotter\u001b[39m.\u001b[39mplot(\u001b[39m'\u001b[39m\u001b[39mxic_M\u001b[39m\u001b[39m'\u001b[39m, cuts \u001b[39m=\u001b[39m mycuts)\n\u001b[1;32m     <a href='vscode-notebook-cell:/Users/psgebeli/projects/b2_plotter/b2_plotter/example.ipynb#W6sZmlsZQ%3D%3D?line=25'>26</a>\u001b[0m \u001b[39m# More detailed \u001b[39;00m\n\u001b[1;32m     <a href='vscode-notebook-cell:/Users/psgebeli/projects/b2_plotter/b2_plotter/example.ipynb#W6sZmlsZQ%3D%3D?line=26'>27</a>\u001b[0m plotter\u001b[39m.\u001b[39mplot(\u001b[39m'\u001b[39m\u001b[39mxic_M\u001b[39m\u001b[39m'\u001b[39m, cuts \u001b[39m=\u001b[39m mycuts, myrange \u001b[39m=\u001b[39m (\u001b[39m2.3\u001b[39m, \u001b[39m2.65\u001b[39m), nbins \u001b[39m=\u001b[39m \u001b[39m100\u001b[39m, isLog \u001b[39m=\u001b[39m \u001b[39mFalse\u001b[39;00m, xlabel \u001b[39m=\u001b[39m \u001b[39mr\u001b[39m\u001b[39m'\u001b[39m\u001b[39m$\u001b[39m\u001b[39m\\\u001b[39m\u001b[39mXi_c^+$ Mass [GeV/c^2]\u001b[39m\u001b[39m'\u001b[39m, scale \u001b[39m=\u001b[39m \u001b[39m1\u001b[39m, bgscale \u001b[39m=\u001b[39m \u001b[39m1\u001b[39m)\n",
      "\u001b[0;31mNameError\u001b[0m: name 'plotter' is not defined"
     ]
    }
   ],
   "source": [
    "# plot() function \n",
    "\n",
    "# Now you can define cuts and make plots using plot(). \n",
    "\n",
    "# plot(self, var, cuts, myrange = (), nbins = 100, isLog = False, xlabel = '', scale = 1, bgscale = 1), where \n",
    "\n",
    "# var is the name of the variable you want to plot (as a string)\n",
    "# cuts are the cuts to be applied (as a string)\n",
    "# myrange (optional) is a tuple of the range you wish to use. it defaults to (), so if no range is explicity defined, it will be dynamically calculated\n",
    "# nbins (optional) is the number of bins to use\n",
    "# isLog (optional) is a boolean deciding if the plot will be on a logarithmic scale or not \n",
    "# xlabel (optional) is a string for labelling the x axis. if none is defined, the label will just be equal to the variable 'var'\n",
    "# scale, bgscale (optional) are floats determining the amount by which to scale the signal and bkg, respectively, default to 1 \n",
    "\n",
    "xicmassrangeloose = '2.3 < xic_M < 2.65'\n",
    "\n",
    "masscuts = xicmassrangeloose + '& xi_M > 1.32 & xi_M < 1.325'\n",
    "pidcuts = 'lambda0_p_protonID > 0.96'\n",
    "flightcuts = 'xi_significanceOfDistance > 5'\n",
    "\n",
    "mycuts = f'{masscuts} and {pidcuts} and {flightcuts}'\n",
    "\n",
    "# Bare minimum\n",
    "plotter.plot('xic_M', cuts = mycuts)\n",
    "\n",
    "# More detailed \n",
    "plotter.plot('xic_M', cuts = mycuts, myrange = (2.3, 2.65), nbins = 100, isLog = False, xlabel = r'$\\Xi_c^+$ Mass [GeV/c^2]', scale = 1, bgscale = 1)\n"
   ]
  },
  {
   "cell_type": "code",
   "execution_count": 11,
   "metadata": {},
   "outputs": [
    {
     "ename": "NameError",
     "evalue": "name 'plotter' is not defined",
     "output_type": "error",
     "traceback": [
      "\u001b[0;31m---------------------------------------------------------------------------\u001b[0m",
      "\u001b[0;31mNameError\u001b[0m                                 Traceback (most recent call last)",
      "\u001b[1;32m/Users/psgebeli/projects/b2_plotter/b2_plotter/example.ipynb Cell 7\u001b[0m line \u001b[0;36m2\n\u001b[1;32m      <a href='vscode-notebook-cell:/Users/psgebeli/projects/b2_plotter/b2_plotter/example.ipynb#X10sZmlsZQ%3D%3D?line=0'>1</a>\u001b[0m \u001b[39m# plotFom function \u001b[39;00m\n\u001b[1;32m      <a href='vscode-notebook-cell:/Users/psgebeli/projects/b2_plotter/b2_plotter/example.ipynb#X10sZmlsZQ%3D%3D?line=1'>2</a>\u001b[0m \n\u001b[1;32m      <a href='vscode-notebook-cell:/Users/psgebeli/projects/b2_plotter/b2_plotter/example.ipynb#X10sZmlsZQ%3D%3D?line=2'>3</a>\u001b[0m \u001b[39m# Used to create a figure of merit \u001b[39;00m\n\u001b[0;32m   (...)\u001b[0m\n\u001b[1;32m     <a href='vscode-notebook-cell:/Users/psgebeli/projects/b2_plotter/b2_plotter/example.ipynb#X10sZmlsZQ%3D%3D?line=16'>17</a>\u001b[0m \n\u001b[1;32m     <a href='vscode-notebook-cell:/Users/psgebeli/projects/b2_plotter/b2_plotter/example.ipynb#X10sZmlsZQ%3D%3D?line=17'>18</a>\u001b[0m \u001b[39m# nbins, xlabel are the same as for plot()\u001b[39;00m\n\u001b[0;32m---> <a href='vscode-notebook-cell:/Users/psgebeli/projects/b2_plotter/b2_plotter/example.ipynb#X10sZmlsZQ%3D%3D?line=19'>20</a>\u001b[0m plotter\u001b[39m.\u001b[39mplotFom(var \u001b[39m=\u001b[39m \u001b[39m'\u001b[39m\u001b[39mxi_M\u001b[39m\u001b[39m'\u001b[39m, massvar \u001b[39m=\u001b[39m \u001b[39m'\u001b[39m\u001b[39mxic_M\u001b[39m\u001b[39m'\u001b[39m, myrange \u001b[39m=\u001b[39m (), signalregion \u001b[39m=\u001b[39m (\u001b[39m2.46\u001b[39m, \u001b[39m2.475\u001b[39m), isGreaterThan \u001b[39m=\u001b[39m \u001b[39mTrue\u001b[39;00m, nbins \u001b[39m=\u001b[39m \u001b[39m100\u001b[39m, xlabel \u001b[39m=\u001b[39m \u001b[39m'\u001b[39m\u001b[39m'\u001b[39m)\n",
      "\u001b[0;31mNameError\u001b[0m: name 'plotter' is not defined"
     ]
    }
   ],
   "source": [
    "# plotFom function \n",
    "\n",
    "# Used to create a figure of merit \n",
    "\n",
    "# plotFom(self, var, massvar, myrange, signalregion, isGreaterThan = True, nbins = 100, xlabel = '')\n",
    "\n",
    "# var is the name of your variable to plot, as a string\n",
    "# massvar is the name of the variable for your particle's mass, which is used to calculate signal yield \n",
    "# myrange (optional) is the same as the myrange parameter from plot()\n",
    "\n",
    "# signal region is a tuple representing the signal region for your particle, a decent way to define this is \n",
    "# to perform a fit on your mass and define the signal region as (mean - 3*sigma, mean + 3*sigma)\n",
    "\n",
    "# isGreaterThan is a bool that tells the FOM to test all of the cuts like: var > testcut_value \n",
    "# if this is false, then it calculates var < testcut_value\n",
    "# You should have some intuition about which to use (e.g greaterthan = True for protonID), but if not, plot both!\n",
    "\n",
    "# nbins, xlabel are the same as for plot()\n",
    "\n",
    "plotter.plotFom(var = 'xi_M', massvar = 'xic_M', myrange = (), signalregion = (2.46, 2.475), isGreaterThan = True, nbins = 100, xlabel = '')\n",
    "\n",
    "# Note that this function also returns a tuple (optimal_cut, max_fom), so you dont have to eyeball the FOM peak."
   ]
  },
  {
   "cell_type": "code",
   "execution_count": 12,
   "metadata": {},
   "outputs": [
    {
     "ename": "NameError",
     "evalue": "name 'plotter' is not defined",
     "output_type": "error",
     "traceback": [
      "\u001b[0;31m---------------------------------------------------------------------------\u001b[0m",
      "\u001b[0;31mNameError\u001b[0m                                 Traceback (most recent call last)",
      "\u001b[1;32m/Users/psgebeli/projects/b2_plotter/b2_plotter/example.ipynb Cell 8\u001b[0m line \u001b[0;36m1\n\u001b[1;32m      <a href='vscode-notebook-cell:/Users/psgebeli/projects/b2_plotter/b2_plotter/example.ipynb#X11sZmlsZQ%3D%3D?line=0'>1</a>\u001b[0m \u001b[39m# plotStep \u001b[39;00m\n\u001b[1;32m      <a href='vscode-notebook-cell:/Users/psgebeli/projects/b2_plotter/b2_plotter/example.ipynb#X11sZmlsZQ%3D%3D?line=1'>2</a>\u001b[0m \n\u001b[1;32m      <a href='vscode-notebook-cell:/Users/psgebeli/projects/b2_plotter/b2_plotter/example.ipynb#X11sZmlsZQ%3D%3D?line=2'>3</a>\u001b[0m \u001b[39m# A useful plot for when the signal is buried underneath background, or you just dont care to see the distributions for each of the MC types cc, uu\u001b[39;00m\n\u001b[0;32m   (...)\u001b[0m\n\u001b[1;32m      <a href='vscode-notebook-cell:/Users/psgebeli/projects/b2_plotter/b2_plotter/example.ipynb#X11sZmlsZQ%3D%3D?line=7'>8</a>\u001b[0m \n\u001b[1;32m      <a href='vscode-notebook-cell:/Users/psgebeli/projects/b2_plotter/b2_plotter/example.ipynb#X11sZmlsZQ%3D%3D?line=8'>9</a>\u001b[0m \u001b[39m# All of these params are the same as they are in plot()\u001b[39;00m\n\u001b[0;32m---> <a href='vscode-notebook-cell:/Users/psgebeli/projects/b2_plotter/b2_plotter/example.ipynb#X11sZmlsZQ%3D%3D?line=10'>11</a>\u001b[0m plotter\u001b[39m.\u001b[39mplotStep(\u001b[39m'\u001b[39m\u001b[39mxic_M\u001b[39m\u001b[39m'\u001b[39m, cuts \u001b[39m=\u001b[39m xicmassrangeloose)\n",
      "\u001b[0;31mNameError\u001b[0m: name 'plotter' is not defined"
     ]
    }
   ],
   "source": [
    "# plotStep \n",
    "\n",
    "# A useful plot for when the signal is buried underneath background, or you just dont care to see the distributions for each of the MC types cc, uu\n",
    "# etc. individually \n",
    "\n",
    "\n",
    "# plotStep(self, var, cuts, myrange, nbins = 100, xlabel = '')\n",
    "\n",
    "# All of these params are the same as they are in plot()\n",
    "\n",
    "plotter.plotStep('xic_M', cuts = xicmassrangeloose)\n"
   ]
  },
  {
   "cell_type": "code",
   "execution_count": null,
   "metadata": {},
   "outputs": [],
   "source": [
    "# get_purity and get_sigeff \n",
    "\n",
    "# These functions return the purity and signal efficiency of a cut (or series of cuts)\n",
    "\n",
    "# get_sigeff(self, cuts, massVar, signalregion)\n",
    "# get_purity(self, cuts, massVar, signalregion)\n",
    "\n",
    "testcut = 'lambda0_p_protonID'\n",
    "\n",
    "sigeff = plotter.get_sigeff(cuts = testcut, massvar = 'xic_M', signalregion = (2.46, 2.475))\n",
    "purity = plotter.get_purity(cuts = testcut, massvar = 'xic_M', signalregion = (2.46, 2.475))\n",
    "\n",
    "# I just like to print something like this -- this helps to see if the cut is good or not.\n",
    "print(f'Applying {testcut} yields a purity of {purity}% and has signal efficiency {sigeff}.')"
   ]
  }
 ],
 "metadata": {
  "kernelspec": {
   "display_name": "Python 3",
   "language": "python",
   "name": "python3"
  },
  "language_info": {
   "codemirror_mode": {
    "name": "ipython",
    "version": 3
   },
   "file_extension": ".py",
   "mimetype": "text/x-python",
   "name": "python",
   "nbconvert_exporter": "python",
   "pygments_lexer": "ipython3",
   "version": "3.9.6"
  },
  "orig_nbformat": 4
 },
 "nbformat": 4,
 "nbformat_minor": 2
}
