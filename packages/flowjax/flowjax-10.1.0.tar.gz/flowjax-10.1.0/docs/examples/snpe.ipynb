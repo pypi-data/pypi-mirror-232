{
 "cells": [
  {
   "cell_type": "markdown",
   "metadata": {},
   "source": [
    "### Sequential neural posterior estimation\n",
    "Sequential neural posterior estimation (SNPE) is an algorithm for fitting posterior\n",
    "distributions to intractable simulator models. SNPE uses multiple rounds of simulations,\n",
    "in which posterior estimates from each round are used as proposal distributions for the\n",
    "subsequent round. This can lead to much higher simulation efficiency compared to a\n",
    "single round approach. The variant of SNPE used here is often referred to as SNPE-C,\n",
    "as described by [Greenberg et al. (2019)](https://arxiv.org/abs/1905.07488) and\n",
    "[Durkan et al. (2020)](https://arxiv.org/abs/2002.03712)."
   ]
  },
  {
   "cell_type": "code",
   "execution_count": 1,
   "metadata": {},
   "outputs": [],
   "source": [
    "import jax.numpy as jnp\n",
    "import jax.random as jr\n",
    "import matplotlib.pyplot as plt\n",
    "import equinox as eqx\n",
    "\n",
    "from jax import vmap\n",
    "\n",
    "from flowjax.train.data_fit import fit_to_data\n",
    "from flowjax.train.losses import ContrastiveLoss\n",
    "from flowjax.flows import MaskedAutoregressiveFlow\n",
    "from flowjax.distributions import Normal, Transformed\n",
    "import flowjax.bijections as bij\n",
    "from flowjax.tasks import GaussianMixtureSimulator"
   ]
  },
  {
   "cell_type": "markdown",
   "metadata": {},
   "source": [
    "The task we consider is to infer the mean of a mixture of two two-dimensional Normal distributions, in which one of the distributions has a much broader variance.\n",
    "$$\\theta_i \\sim \\text{Uniform}(-10,\\ 10),\\quad i=1,2$$\n",
    "$$x | \\theta \\sim 0.5 \\cdot N(\\theta,\\ I_2) + 0.5 \\cdot N(\\theta,\\ 0.1^2 \\odot I_2)$$"
   ]
  },
  {
   "cell_type": "code",
   "execution_count": 2,
   "metadata": {},
   "outputs": [
    {
     "name": "stderr",
     "output_type": "stream",
     "text": [
      "No GPU/TPU found, falling back to CPU. (Set TF_CPP_MIN_LOG_LEVEL=0 and rerun for more info.)\n"
     ]
    }
   ],
   "source": [
    "task = GaussianMixtureSimulator()\n",
    "\n",
    "# Generating an \"observation\"\n",
    "key, subkey = jr.split(jr.PRNGKey(2))\n",
    "theta_true = task.prior.sample(subkey)\n",
    "key, subkey = jr.split(key)\n",
    "observed = task.simulator(subkey, theta_true)"
   ]
  },
  {
   "cell_type": "markdown",
   "metadata": {},
   "source": [
    "We use an affine masked autoregressive flow as our proposal/posterior estimator"
   ]
  },
  {
   "cell_type": "code",
   "execution_count": 3,
   "metadata": {},
   "outputs": [],
   "source": [
    "key, subkey = jr.split(key)\n",
    "proposal = MaskedAutoregressiveFlow(\n",
    "    subkey,\n",
    "    base_dist=Normal(jnp.zeros(2)),\n",
    "    transformer=bij.Affine(),\n",
    "    cond_dim=observed.size,\n",
    ")"
   ]
  },
  {
   "cell_type": "markdown",
   "metadata": {},
   "source": [
    "As the task is defined on bounded support $[-10, 10]$, we define a map to the unbounded domain which often is more stable for training."
   ]
  },
  {
   "cell_type": "code",
   "execution_count": 4,
   "metadata": {},
   "outputs": [],
   "source": [
    "to_unbounded = bij.Chain(\n",
    "    [\n",
    "        bij.Affine(jnp.zeros(task.dim), 1 / task.prior_bound),  # to [-1, 1]\n",
    "        bij.Invert(bij.Tanh((task.dim,))),  # Arctanh (to unbounded)\n",
    "    ]\n",
    ")\n",
    "\n",
    "unbounded_prior = Transformed(task.prior, to_unbounded)"
   ]
  },
  {
   "cell_type": "markdown",
   "metadata": {},
   "source": [
    "For SNPE, training using the standard maximum likelihood loss would lead to biased posterior estimates if the number of rounds is > 1. Instead, we can use [ContrastiveLoss](../api/losses.rst#flowjax.train.losses.ContrastiveLoss). Here we carry out SNPE using 3 rounds of simulations."
   ]
  },
  {
   "cell_type": "code",
   "execution_count": 5,
   "metadata": {},
   "outputs": [
    {
     "name": "stderr",
     "output_type": "stream",
     "text": [
      " 93%|█████████▎| 93/100 [00:10<00:00,  8.63it/s, train=-1.6060168, val=-2.1431677 (Max patience reached)]\n",
      " 23%|██▎       | 23/100 [00:07<00:25,  3.06it/s, train=-0.9523332, val=-1.1446558 (Max patience reached)]\n",
      " 14%|█▍        | 14/100 [00:06<00:39,  2.19it/s, train=-0.380976, val=-0.8142224 (Max patience reached)]\n"
     ]
    }
   ],
   "source": [
    "sim_per_round = 500\n",
    "\n",
    "loss_fn = ContrastiveLoss(unbounded_prior, n_contrastive=10)\n",
    "\n",
    "data = {\"theta\": [], \"simulations\": []}\n",
    "losses = []\n",
    "for r in range(3):\n",
    "    # Carry out simulations (from prior for round 1, the running proposal otherwise).\n",
    "    key, subkey = jr.split(key)\n",
    "    if r == 0:\n",
    "        theta_r = unbounded_prior.sample(subkey, (sim_per_round,))\n",
    "    else:\n",
    "        theta_r = eqx.filter_jit(proposal.sample)(\n",
    "            subkey, (sim_per_round,), condition=observed\n",
    "        )\n",
    "\n",
    "    key, subkey = jr.split(key)\n",
    "    simulations_r = task.simulator(\n",
    "        key=subkey,\n",
    "        theta=vmap(to_unbounded.inverse)(theta_r),  # Map to bounded for simulating\n",
    "    )\n",
    "\n",
    "    data[\"theta\"].append(theta_r)\n",
    "    data[\"simulations\"].append(simulations_r)\n",
    "\n",
    "    key, subkey = jr.split(key)\n",
    "    proposal, losses_r = fit_to_data(\n",
    "        key=subkey,\n",
    "        dist=proposal,\n",
    "        loss_fn=loss_fn,\n",
    "        x=jnp.concatenate(data[\"theta\"]),  # Note x is package convention for target!\n",
    "        condition=jnp.concatenate(data[\"simulations\"]),\n",
    "        learning_rate=1e-4,\n",
    "        max_epochs=100,\n",
    "    )\n",
    "    losses.append(losses_r)"
   ]
  },
  {
   "cell_type": "markdown",
   "metadata": {},
   "source": [
    "We can map the posterior distribution, and the $\\theta$ samples from each round back to the bounded domain"
   ]
  },
  {
   "cell_type": "code",
   "execution_count": 6,
   "metadata": {},
   "outputs": [],
   "source": [
    "# Undo preprocessing (map everything back to bounded domain)\n",
    "posterior = Transformed(proposal, bij.Invert(to_unbounded))\n",
    "data[\"theta\"] = [vmap(to_unbounded.inverse)(t) for t in data[\"theta\"]]\n",
    "\n",
    "# Append posterior samples\n",
    "key, subkey = jr.split(key)\n",
    "data[\"theta\"].append(\n",
    "    posterior.sample(\n",
    "        subkey, (sim_per_round,), condition=observed\n",
    "    )  # jjjjjjjjjjjjjjjjjjjjjjjj\n",
    ")"
   ]
  },
  {
   "cell_type": "code",
   "execution_count": 7,
   "metadata": {},
   "outputs": [
    {
     "data": {
      "image/png": "[encoded data removed]",
      "text/plain": [
       "<Figure size 640x480 with 4 Axes>"
      ]
     },
     "metadata": {},
     "output_type": "display_data"
    }
   ],
   "source": [
    "key, subkey = jr.split(key)\n",
    "reference_posterior = task.sample_reference_posterior(subkey, observed, sim_per_round)\n",
    "\n",
    "fig, axes = plt.subplots(ncols=len(data[\"theta\"]))\n",
    "\n",
    "for r, (ax, samps) in enumerate(zip(axes, data[\"theta\"], strict=True)):\n",
    "    ax.scatter(samps[:, 0], samps[:, 1], s=1, label=\"Approximation\")\n",
    "    ax.scatter(\n",
    "        x=reference_posterior[:, 0],\n",
    "        y=reference_posterior[:, 1],\n",
    "        s=1,\n",
    "        label=\"True posterior\",\n",
    "    )\n",
    "    title = \"Round 0 (prior)\" if r == 0 else f\"Round {r}\"\n",
    "    ax.set_title(title)\n",
    "    ax.set_box_aspect(1)\n",
    "    ax.xaxis.set_ticks([])\n",
    "    ax.yaxis.set_ticks([])\n",
    "\n",
    "lgnd = plt.legend(bbox_to_anchor=(1.02, 1), loc=\"upper left\", borderaxespad=0)\n",
    "for handle in lgnd.legend_handles:\n",
    "    handle.set_sizes([6.0])\n",
    "\n",
    "plt.tight_layout()\n",
    "plt.text(9, 3, \"Note: scale changes \\n between plots\")\n",
    "plt.show()"
   ]
  },
  {
   "cell_type": "code",
   "execution_count": null,
   "metadata": {},
   "outputs": [],
   "source": []
  }
 ],
 "metadata": {
  "kernelspec": {
   "display_name": "jax_env",
   "language": "python",
   "name": "python3"
  },
  "language_info": {
   "codemirror_mode": {
    "name": "ipython",
    "version": 3
   },
   "file_extension": ".py",
   "mimetype": "text/x-python",
   "name": "python",
   "nbconvert_exporter": "python",
   "pygments_lexer": "ipython3",
   "version": "3.11.4"
  },
  "orig_nbformat": 4
 },
 "nbformat": 4,
 "nbformat_minor": 2
}
