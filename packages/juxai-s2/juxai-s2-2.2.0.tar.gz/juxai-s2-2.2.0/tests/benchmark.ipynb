{
 "cells": [
  {
   "cell_type": "code",
   "execution_count": 1,
   "metadata": {},
   "outputs": [],
   "source": [
    "import os\n",
    "os.environ['XLA_PYTHON_CLIENT_PREALLOCATE']='true'\n",
    "\n",
    "import jux.utils\n",
    "from jux.state import State\n",
    "from jux.config import JuxBufferConfig\n",
    "import jax\n",
    "import jax.numpy as jnp"
   ]
  },
  {
   "cell_type": "markdown",
   "metadata": {},
   "source": [
    "# Benchmark Lux"
   ]
  },
  {
   "cell_type": "code",
   "execution_count": 2,
   "metadata": {},
   "outputs": [
    {
     "name": "stdout",
     "output_type": "stream",
     "text": [
      "1004\n",
      "CPU times: user 4.26 s, sys: 0 ns, total: 4.26 s\n",
      "Wall time: 4.26 s\n"
     ]
    }
   ],
   "source": [
    "env, actions = jux.utils.load_replay(\"https://www.kaggleusercontent.com/episodes/45715004.json\")\n",
    "env.env_cfg.verbose = False\n",
    "def lux_step(env, actions):\n",
    "    for i, act in enumerate(actions):\n",
    "        env.step(act)\n",
    "    print(i)\n",
    "%time lux_step(env, actions)"
   ]
  },
  {
   "cell_type": "markdown",
   "metadata": {},
   "source": [
    "# Benchmark Jux"
   ]
  },
  {
   "cell_type": "code",
   "execution_count": 3,
   "metadata": {},
   "outputs": [],
   "source": [
    "# prepare an env\n",
    "env, actions = jux.utils.load_replay(\"https://www.kaggleusercontent.com/episodes/45715004.json\")\n",
    "env.env_cfg.verbose = False\n",
    "while env.env_steps < 100:\n",
    "    act = next(actions)\n",
    "    # print(env.env_steps, act)\n",
    "    env.step(act)\n",
    "\n",
    "# jit\n",
    "_state_step_late_game = jax.jit(State._step_late_game)\n",
    "_state_step_late_game_vmap = jax.jit(jax.vmap(_state_step_late_game))"
   ]
  },
  {
   "cell_type": "code",
   "execution_count": 4,
   "metadata": {},
   "outputs": [],
   "source": [
    "# config\n",
    "buf_cfg = JuxBufferConfig(MAX_N_UNITS=1000)\n",
    "B = 1000"
   ]
  },
  {
   "cell_type": "markdown",
   "metadata": {},
   "source": [
    "## without vamp"
   ]
  },
  {
   "cell_type": "code",
   "execution_count": 5,
   "metadata": {},
   "outputs": [],
   "source": [
    "# prepare state and action\n",
    "jux_state = State.from_lux(env.state, buf_cfg)\n",
    "jux_act = jux_state.parse_actions_from_dict(act)\n",
    "\n",
    "# warm up jit\n",
    "_state_step_late_game(jux_state, jux_act); "
   ]
  },
  {
   "cell_type": "code",
   "execution_count": 6,
   "metadata": {},
   "outputs": [
    {
     "name": "stdout",
     "output_type": "stream",
     "text": [
      "1.81 ms ± 56 µs per loop (mean ± std. dev. of 7 runs, 1,000 loops each)\n"
     ]
    }
   ],
   "source": [
    "%timeit _state_step_late_game(jux_state, jux_act); jnp.array(0).block_until_ready()"
   ]
  },
  {
   "cell_type": "markdown",
   "metadata": {},
   "source": [
    "## With vmap"
   ]
  },
  {
   "cell_type": "code",
   "execution_count": 7,
   "metadata": {},
   "outputs": [],
   "source": [
    "# prepare state and action\n",
    "if \"jux_act_batch\" in vars():\n",
    "    del jux_act_batch\n",
    "if \"jux_state_batch\" in vars():\n",
    "    del jux_state_batch\n",
    "jux_state_batch = jax.tree_map(lambda x: x[None].repeat(B, axis=0), jux_state)\n",
    "jux_act_batch = jax.tree_map(lambda x: x[None].repeat(B, axis=0), jux_act)\n",
    "\n",
    "# warm up jit\n",
    "_state_step_late_game_vmap(jux_state_batch, jux_act_batch);"
   ]
  },
  {
   "cell_type": "code",
   "execution_count": 8,
   "metadata": {},
   "outputs": [
    {
     "name": "stdout",
     "output_type": "stream",
     "text": [
      "13.9 ms ± 222 µs per loop (mean ± std. dev. of 7 runs, 100 loops each)\n"
     ]
    }
   ],
   "source": [
    "%timeit (_state_step_late_game_vmap(jux_state_batch, jux_act_batch), jnp.array(0).block_until_ready())"
   ]
  },
  {
   "cell_type": "code",
   "execution_count": 15,
   "metadata": {},
   "outputs": [
    {
     "name": "stdout",
     "output_type": "stream",
     "text": [
      "We obtained 306x speedup over native python implementation.\n",
      "The device is Tesla V100-SXM2-32GB, with batch_size = 1000, and MAX_N_UNITS = 1000\n"
     ]
    }
   ],
   "source": [
    "# please replace numbers before by above timeit output\n",
    "cpu_time = 4.26\n",
    "gpu_time = 13.9\n",
    "\n",
    "print(f\"We obtained {B*cpu_time/gpu_time:.0f}x speedup over native python implementation.\")\n",
    "print(f\"The device is {jax.devices()[0].device_kind}, with batch_size = {B}, and MAX_N_UNITS = {buf_cfg.MAX_N_UNITS}\")"
   ]
  },
  {
   "cell_type": "markdown",
   "metadata": {},
   "source": [
    "# Profile"
   ]
  },
  {
   "cell_type": "code",
   "execution_count": null,
   "metadata": {},
   "outputs": [],
   "source": [
    "jax.profiler.start_trace(\"/tmp/tensorboard\")\n",
    "# jax.vmap(State._step_late_game)(jux_state_batch, jux_act_batch)\n",
    "_state_step_late_game_vmap(jux_state_batch, jux_act_batch)\n",
    "jnp.array(0).block_until_ready()\n",
    "jax.profiler.stop_trace()\n"
   ]
  },
  {
   "cell_type": "code",
   "execution_count": 11,
   "metadata": {},
   "outputs": [],
   "source": [
    "lowered = _state_step_late_game_vmap.lower(jux_state_batch, jux_act_batch)\n",
    "compiled = lowered.compile()"
   ]
  },
  {
   "cell_type": "code",
   "execution_count": 12,
   "metadata": {},
   "outputs": [
    {
     "name": "stdout",
     "output_type": "stream",
     "text": [
      "cost_sum=16.86G\n"
     ]
    }
   ],
   "source": [
    "cost_analysis = compiled.cost_analysis()\n",
    "cost_sum = sum(cost_analysis[0].values())\n",
    "print(f\"cost_sum={cost_sum / 2**30:.2f}G\")"
   ]
  },
  {
   "cell_type": "code",
   "execution_count": 13,
   "metadata": {},
   "outputs": [
    {
     "name": "stdout",
     "output_type": "stream",
     "text": [
      "Top-10 costly operators:\n"
     ]
    },
    {
     "data": {
      "text/plain": [
       "[('flops', 5.457577705383301),\n",
       " ('bytes accessed', 5.432867527008057),\n",
       " ('bytes accessed output {}', 1.4869519472122192),\n",
       " ('bytes accessed operand 4 {}', 0.6276771426200867),\n",
       " ('bytes accessed operand 0 {}', 0.5038005113601685),\n",
       " ('bytes accessed operand 2 {}', 0.48835527896881104),\n",
       " ('bytes accessed operand 1 {}', 0.47469067573547363),\n",
       " ('bytes accessed operand 5 {}', 0.4347339868545532),\n",
       " ('bytes accessed operand 3 {}', 0.27461785078048706),\n",
       " ('bytes accessed operand 6 {}', 0.2414938062429428)]"
      ]
     },
     "execution_count": 13,
     "metadata": {},
     "output_type": "execute_result"
    }
   ],
   "source": [
    "cost = list(cost_analysis[0].items())\n",
    "cost.sort(key=lambda x: x[1], reverse=True)\n",
    "cost = cost[:10]\n",
    "print(\"Top-10 costly operators:\")\n",
    "[(n, c/2**30) for n, c in cost]"
   ]
  }
 ],
 "metadata": {
  "kernelspec": {
   "display_name": "Python 3.8.13 ('base')",
   "language": "python",
   "name": "python3"
  },
  "language_info": {
   "codemirror_mode": {
    "name": "ipython",
    "version": 3
   },
   "file_extension": ".py",
   "mimetype": "text/x-python",
   "name": "python",
   "nbconvert_exporter": "python",
   "pygments_lexer": "ipython3",
   "version": "3.8.13"
  },
  "orig_nbformat": 4,
  "vscode": {
   "interpreter": {
    "hash": "d4d1e4263499bec80672ea0156c357c1ee493ec2b1c70f0acce89fc37c4a6abe"
   }
  }
 },
 "nbformat": 4,
 "nbformat_minor": 2
}
