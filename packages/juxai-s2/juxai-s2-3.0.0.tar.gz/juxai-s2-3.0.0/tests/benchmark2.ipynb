{
 "cells": [
  {
   "cell_type": "code",
   "execution_count": 1,
   "metadata": {},
   "outputs": [],
   "source": [
    "import os\n",
    "os.environ['XLA_PYTHON_CLIENT_PREALLOCATE']='false'\n",
    "# os.environ['CUDA_VISIBLE_DEVICES']='0'\n",
    "\n",
    "import numpy as np\n",
    "import pandas as pd\n",
    "from tqdm import tqdm\n",
    "\n",
    "import time\n",
    "from typing import Callable\n",
    "\n",
    "import traceback\n",
    "import jux\n",
    "import jux.utils\n",
    "from jux.state import State\n",
    "from jux.config import JuxBufferConfig\n",
    "import jax\n",
    "import jax.numpy as jnp\n",
    "import warnings\n",
    "import chex\n",
    "from tqdm.auto import tqdm\n",
    "\n",
    "warnings.filterwarnings('default')\n",
    "\n",
    "def cuda_sync():\n",
    "    (jax.device_put(0.) + 0).block_until_ready()\n",
    "    return\n",
    "\n",
    "\n",
    "def timeit(func: Callable, setup=lambda: None, number=100, finalize=lambda: None, repeat=1):\n",
    "    exe_time = []\n",
    "    for _ in range(repeat):\n",
    "        setup()\n",
    "        start = time.perf_counter()\n",
    "        for _ in range(number):\n",
    "            func()\n",
    "        finalize()\n",
    "        end = time.perf_counter()\n",
    "        exe_time.append((end - start) / number)\n",
    "    return np.mean(exe_time)\n",
    "\n",
    "def mem_size(pytree):\n",
    "    size = sum(a.size * a.dtype.itemsize for a in jax.tree_util.tree_leaves(pytree))\n",
    "    if size < 1024:\n",
    "        return f\"{size}B\"\n",
    "    elif size < 1024 ** 2:\n",
    "        return f\"{size / 1024:.2f}KB\"\n",
    "    elif size < 1024 ** 3:\n",
    "        return f\"{size / 1024 ** 2:.2f}MB\"\n",
    "    else:\n",
    "        return f\"{size / 1024 ** 3:.2f}GB\""
   ]
  },
  {
   "cell_type": "code",
   "execution_count": 2,
   "metadata": {},
   "outputs": [],
   "source": [
    "# test_id = ['45715004']\n",
    "test_id = [\n",
    "    '45715004', '45777510', '45779101', '45780455', '45780520', '45780686', '45781606', '45780751', '45780882',\n",
    "    '45781046', '45781047', '45781050', '45781208', '45781608', '45781677', '45781212', '45781214', '45780845',\n",
    "    '45781375', '45785597'\n",
    "]\n",
    "test_url = [f\"https://www.kaggleusercontent.com/episodes/{id}.json\" for id in test_id]"
   ]
  },
  {
   "cell_type": "markdown",
   "metadata": {},
   "source": [
    "# Benchmark Lux"
   ]
  },
  {
   "cell_type": "code",
   "execution_count": 3,
   "metadata": {},
   "outputs": [
    {
     "name": "stdout",
     "output_type": "stream",
     "text": [
      "cpu_mean_time = 0.0036133938854050842\n"
     ]
    }
   ],
   "source": [
    "cpu_time_exec = list()\n",
    "def lux_step(env, actions):\n",
    "    time0 = time.perf_counter()\n",
    "    for i, act in enumerate(actions):\n",
    "        env.step(act)\n",
    "    return (time.perf_counter() - time0)/(i+1)\n",
    "\n",
    "for url in test_url:\n",
    "    env, actions = jux.utils.load_replay(url)\n",
    "    env.env_cfg.verbose = False\n",
    "    cpu_time_exec.append(lux_step(env, actions))\n",
    "cpu_mean_time = np.mean(cpu_time_exec)\n",
    "print(f\"{cpu_mean_time = }\")"
   ]
  },
  {
   "attachments": {},
   "cell_type": "markdown",
   "metadata": {},
   "source": [
    "# Benchmark JUX"
   ]
  },
  {
   "cell_type": "code",
   "execution_count": 4,
   "metadata": {},
   "outputs": [],
   "source": [
    "# prepare an env\n",
    "envs = []\n",
    "acts = []\n",
    "N_prepare = 100\n",
    "for url in test_url:\n",
    "    env, actions = jux.utils.load_replay(url)\n",
    "    env.env_cfg.verbose = False\n",
    "    while env.env_steps < N_prepare:\n",
    "        act = next(actions)\n",
    "        env.step(act)\n",
    "    envs.append(env)\n",
    "    act = next(actions)\n",
    "    acts.append(act)\n",
    "\n",
    "# jit\n",
    "_state_step_late_game = jax.jit(chex.assert_max_traces(State._step_late_game, n=1))\n",
    "_state_step_late_game_vmap = jax.jit(jax.vmap(_state_step_late_game))"
   ]
  },
  {
   "cell_type": "code",
   "execution_count": 5,
   "metadata": {},
   "outputs": [],
   "source": [
    "# config\n",
    "max_n_units_range = [100] + [200*i for i in range(1, 6)]\n",
    "batch_size_range = [1, 100, 1000, 5000, 10000, 20000]"
   ]
  },
  {
   "cell_type": "markdown",
   "metadata": {},
   "source": [
    "## without vamp"
   ]
  },
  {
   "cell_type": "code",
   "execution_count": 6,
   "metadata": {},
   "outputs": [
    {
     "data": {
      "application/vnd.jupyter.widget-view+json": {
       "model_id": "d065c0f88ecc427eb28d56fb3c591736",
       "version_major": 2,
       "version_minor": 0
      },
      "text/plain": [
       "  0%|          | 0/6 [00:00<?, ?it/s]"
      ]
     },
     "metadata": {},
     "output_type": "display_data"
    },
    {
     "name": "stdout",
     "output_type": "stream",
     "text": [
      "jit_mean = 0.0014724215596409827\n"
     ]
    }
   ],
   "source": [
    "jit_table = []\n",
    "def jit_record(buf_cfg):\n",
    "    time_record = list()\n",
    "    N = 100\n",
    "    for (env, act, id) in zip(envs, acts, test_id):\n",
    "        # print(f\"{id = }, {buf_cfg.MAX_N_UNITS = }\")\n",
    "        # prepare state and action\n",
    "        # try:\n",
    "        jux_state = State.from_lux(env.state, buf_cfg)\n",
    "        jux_act = jux_state.parse_actions_from_dict(act)\n",
    "        unit_jit = lambda *_: _state_step_late_game(jux_state, jux_act)\n",
    "        chex.clear_trace_counter()\n",
    "        exe_time = timeit(func=unit_jit, setup=unit_jit, number=N, finalize=cuda_sync)\n",
    "        time_record.append(exe_time)\n",
    "        # except:\n",
    "        #     traceback.print_exc()\n",
    "        #     print(f\"{id = }\")\n",
    "    # print(f\"{mem_size(jux_act) = }, {mem_size(jux_state)=}\")\n",
    "\n",
    "    return np.mean(time_record)\n",
    "    \n",
    "for n_units in tqdm(max_n_units_range):\n",
    "    jit_table.append(jit_record(JuxBufferConfig(MAX_N_UNITS=n_units)))\n",
    "jit_mean = np.mean(jit_table)\n",
    "print(f\"{jit_mean = }\")"
   ]
  },
  {
   "cell_type": "code",
   "execution_count": 7,
   "metadata": {},
   "outputs": [
    {
     "name": "stdout",
     "output_type": "stream",
     "text": [
      "MAX_N_UNITS=100, t=1.457ms\n",
      "MAX_N_UNITS=200, t=1.439ms\n",
      "MAX_N_UNITS=400, t=1.485ms\n",
      "MAX_N_UNITS=600, t=1.498ms\n",
      "MAX_N_UNITS=800, t=1.484ms\n",
      "MAX_N_UNITS=1000, t=1.472ms\n"
     ]
    }
   ],
   "source": [
    "for n_agents, t in zip(max_n_units_range, jit_table):\n",
    "    print(f\"MAX_N_UNITS={n_agents}, t={t*1000:.3f}ms\")"
   ]
  },
  {
   "cell_type": "markdown",
   "metadata": {},
   "source": [
    "## With vmap"
   ]
  },
  {
   "cell_type": "code",
   "execution_count": null,
   "metadata": {},
   "outputs": [],
   "source": [
    "vmap_table = pd.DataFrame(columns=[f\"UNITS_{n_units}\" for n_units in max_n_units_range], index=batch_size_range)\n",
    "def vmap_record(buf_cfg, B):\n",
    "    time_record = list()\n",
    "    N = 100\n",
    "    # for (env, act, id) in zip(envs, acts, tqdm(test_id)):\n",
    "    # prepare state and action\n",
    "    env, act = envs[1], acts[1]\n",
    "    jux_state = State.from_lux(env.state, buf_cfg)\n",
    "    jux_act = jux_state.parse_actions_from_dict(act)\n",
    "    if 'jux_state_batch' in vars():\n",
    "        del jux_state_batch\n",
    "    if 'jux_act_batch' in vars():\n",
    "        del jux_act_batch\n",
    "    jux_state_batch = jax.tree_map(lambda x: x[None].repeat(B, axis=0), jux_state)\n",
    "    jux_act_batch = jax.tree_map(lambda x: x[None].repeat(B, axis=0), jux_act)\n",
    "    # print(f\"{mem_size(jux_state_batch) = }, {mem_size(jux_act_batch)=}\")\n",
    "\n",
    "    unit_jit_vmap = lambda: _state_step_late_game_vmap(jux_state_batch, jux_act_batch)\n",
    "    chex.clear_trace_counter()\n",
    "    exe_time = timeit(func=unit_jit_vmap, setup=unit_jit_vmap, number=N, finalize=cuda_sync)\n",
    "    time_record.append(exe_time)\n",
    "    return np.mean(time_record)\n",
    "\n",
    "for MAX_N_UNITS in tqdm(max_n_units_range, desc=\"MAX_N_UNITS loop progress:\", position=0):\n",
    "    for B in tqdm(batch_size_range, desc=\"batch size loop progress:\", position=1):\n",
    "        buf_cfg_name = f\"UNITS_{MAX_N_UNITS}\"\n",
    "        # print(f\"{MAX_N_UNITS = }, {B = }\")\n",
    "        buf_cfg = JuxBufferConfig(MAX_N_UNITS=MAX_N_UNITS)\n",
    "        vmap_table[buf_cfg_name][B] = vmap_record(buf_cfg, B)"
   ]
  },
  {
   "cell_type": "code",
   "execution_count": 10,
   "metadata": {},
   "outputs": [
    {
     "data": {
      "text/html": [
       "<div>\n",
       "<style scoped>\n",
       "    .dataframe tbody tr th:only-of-type {\n",
       "        vertical-align: middle;\n",
       "    }\n",
       "\n",
       "    .dataframe tbody tr th {\n",
       "        vertical-align: top;\n",
       "    }\n",
       "\n",
       "    .dataframe thead th {\n",
       "        text-align: right;\n",
       "    }\n",
       "</style>\n",
       "<table border=\"1\" class=\"dataframe\">\n",
       "  <thead>\n",
       "    <tr style=\"text-align: right;\">\n",
       "      <th></th>\n",
       "      <th>UNITS_100</th>\n",
       "      <th>UNITS_200</th>\n",
       "      <th>UNITS_400</th>\n",
       "      <th>UNITS_600</th>\n",
       "      <th>UNITS_800</th>\n",
       "      <th>UNITS_1000</th>\n",
       "    </tr>\n",
       "  </thead>\n",
       "  <tbody>\n",
       "    <tr>\n",
       "      <th>1</th>\n",
       "      <td>0.001411</td>\n",
       "      <td>0.001431</td>\n",
       "      <td>0.001397</td>\n",
       "      <td>0.0015</td>\n",
       "      <td>0.001408</td>\n",
       "      <td>0.001427</td>\n",
       "    </tr>\n",
       "    <tr>\n",
       "      <th>100</th>\n",
       "      <td>0.001665</td>\n",
       "      <td>0.001748</td>\n",
       "      <td>0.00174</td>\n",
       "      <td>0.002034</td>\n",
       "      <td>0.002129</td>\n",
       "      <td>0.002165</td>\n",
       "    </tr>\n",
       "    <tr>\n",
       "      <th>1000</th>\n",
       "      <td>0.005962</td>\n",
       "      <td>0.006172</td>\n",
       "      <td>0.008174</td>\n",
       "      <td>0.009857</td>\n",
       "      <td>0.011653</td>\n",
       "      <td>0.014039</td>\n",
       "    </tr>\n",
       "    <tr>\n",
       "      <th>5000</th>\n",
       "      <td>0.021775</td>\n",
       "      <td>0.025962</td>\n",
       "      <td>0.035247</td>\n",
       "      <td>0.044279</td>\n",
       "      <td>0.052299</td>\n",
       "      <td>0.061447</td>\n",
       "    </tr>\n",
       "    <tr>\n",
       "      <th>10000</th>\n",
       "      <td>0.041783</td>\n",
       "      <td>0.050537</td>\n",
       "      <td>0.067829</td>\n",
       "      <td>0.085996</td>\n",
       "      <td>0.102093</td>\n",
       "      <td>0.119915</td>\n",
       "    </tr>\n",
       "    <tr>\n",
       "      <th>20000</th>\n",
       "      <td>0.08195</td>\n",
       "      <td>0.099187</td>\n",
       "      <td>0.13389</td>\n",
       "      <td>0.17101</td>\n",
       "      <td>0.202751</td>\n",
       "      <td>0.238558</td>\n",
       "    </tr>\n",
       "  </tbody>\n",
       "</table>\n",
       "</div>"
      ],
      "text/plain": [
       "      UNITS_100 UNITS_200 UNITS_400 UNITS_600 UNITS_800 UNITS_1000\n",
       "1      0.001411  0.001431  0.001397    0.0015  0.001408   0.001427\n",
       "100    0.001665  0.001748   0.00174  0.002034  0.002129   0.002165\n",
       "1000   0.005962  0.006172  0.008174  0.009857  0.011653   0.014039\n",
       "5000   0.021775  0.025962  0.035247  0.044279  0.052299   0.061447\n",
       "10000  0.041783  0.050537  0.067829  0.085996  0.102093   0.119915\n",
       "20000   0.08195  0.099187   0.13389   0.17101  0.202751   0.238558"
      ]
     },
     "execution_count": 10,
     "metadata": {},
     "output_type": "execute_result"
    }
   ],
   "source": [
    "vmap_table"
   ]
  },
  {
   "cell_type": "code",
   "execution_count": 11,
   "metadata": {},
   "outputs": [
    {
     "data": {
      "text/html": [
       "<div>\n",
       "<style scoped>\n",
       "    .dataframe tbody tr th:only-of-type {\n",
       "        vertical-align: middle;\n",
       "    }\n",
       "\n",
       "    .dataframe tbody tr th {\n",
       "        vertical-align: top;\n",
       "    }\n",
       "\n",
       "    .dataframe thead th {\n",
       "        text-align: right;\n",
       "    }\n",
       "</style>\n",
       "<table border=\"1\" class=\"dataframe\">\n",
       "  <thead>\n",
       "    <tr style=\"text-align: right;\">\n",
       "      <th></th>\n",
       "      <th>UNITS_100</th>\n",
       "      <th>UNITS_200</th>\n",
       "      <th>UNITS_400</th>\n",
       "      <th>UNITS_600</th>\n",
       "      <th>UNITS_800</th>\n",
       "      <th>UNITS_1000</th>\n",
       "    </tr>\n",
       "  </thead>\n",
       "  <tbody>\n",
       "    <tr>\n",
       "      <th>1</th>\n",
       "      <td>2.561007</td>\n",
       "      <td>2.525758</td>\n",
       "      <td>2.586163</td>\n",
       "      <td>2.409614</td>\n",
       "      <td>2.565711</td>\n",
       "      <td>2.532051</td>\n",
       "    </tr>\n",
       "    <tr>\n",
       "      <th>100</th>\n",
       "      <td>217.019545</td>\n",
       "      <td>206.704587</td>\n",
       "      <td>207.660212</td>\n",
       "      <td>177.668597</td>\n",
       "      <td>169.712173</td>\n",
       "      <td>166.866293</td>\n",
       "    </tr>\n",
       "    <tr>\n",
       "      <th>1000</th>\n",
       "      <td>606.089101</td>\n",
       "      <td>585.438343</td>\n",
       "      <td>442.074918</td>\n",
       "      <td>366.575051</td>\n",
       "      <td>310.086621</td>\n",
       "      <td>257.377074</td>\n",
       "    </tr>\n",
       "    <tr>\n",
       "      <th>5000</th>\n",
       "      <td>829.694111</td>\n",
       "      <td>695.908349</td>\n",
       "      <td>512.583774</td>\n",
       "      <td>408.027223</td>\n",
       "      <td>345.456292</td>\n",
       "      <td>294.023138</td>\n",
       "    </tr>\n",
       "    <tr>\n",
       "      <th>10000</th>\n",
       "      <td>864.791769</td>\n",
       "      <td>714.993644</td>\n",
       "      <td>532.720617</td>\n",
       "      <td>420.179719</td>\n",
       "      <td>353.930721</td>\n",
       "      <td>301.330273</td>\n",
       "    </tr>\n",
       "    <tr>\n",
       "      <th>20000</th>\n",
       "      <td>881.855188</td>\n",
       "      <td>728.603563</td>\n",
       "      <td>539.756962</td>\n",
       "      <td>422.595193</td>\n",
       "      <td>356.436337</td>\n",
       "      <td>302.93567</td>\n",
       "    </tr>\n",
       "  </tbody>\n",
       "</table>\n",
       "</div>"
      ],
      "text/plain": [
       "        UNITS_100   UNITS_200   UNITS_400   UNITS_600   UNITS_800  UNITS_1000\n",
       "1        2.561007    2.525758    2.586163    2.409614    2.565711    2.532051\n",
       "100    217.019545  206.704587  207.660212  177.668597  169.712173  166.866293\n",
       "1000   606.089101  585.438343  442.074918  366.575051  310.086621  257.377074\n",
       "5000   829.694111  695.908349  512.583774  408.027223  345.456292  294.023138\n",
       "10000  864.791769  714.993644  532.720617  420.179719  353.930721  301.330273\n",
       "20000  881.855188  728.603563  539.756962  422.595193  356.436337   302.93567"
      ]
     },
     "execution_count": 11,
     "metadata": {},
     "output_type": "execute_result"
    }
   ],
   "source": [
    "cpu_mean_time * (np.array(batch_size_range).reshape(-1, 1) /vmap_table)"
   ]
  },
  {
   "cell_type": "code",
   "execution_count": 12,
   "metadata": {},
   "outputs": [
    {
     "name": "stdout",
     "output_type": "stream",
     "text": [
      "Tesla V100-SXM2-32GB\n"
     ]
    }
   ],
   "source": [
    "print(jax.devices()[0].device_kind)"
   ]
  }
 ],
 "metadata": {
  "kernelspec": {
   "display_name": "base",
   "language": "python",
   "name": "python3"
  },
  "language_info": {
   "codemirror_mode": {
    "name": "ipython",
    "version": 3
   },
   "file_extension": ".py",
   "mimetype": "text/x-python",
   "name": "python",
   "nbconvert_exporter": "python",
   "pygments_lexer": "ipython3",
   "version": "3.8.13"
  },
  "orig_nbformat": 4,
  "vscode": {
   "interpreter": {
    "hash": "d4d1e4263499bec80672ea0156c357c1ee493ec2b1c70f0acce89fc37c4a6abe"
   }
  }
 },
 "nbformat": 4,
 "nbformat_minor": 2
}
