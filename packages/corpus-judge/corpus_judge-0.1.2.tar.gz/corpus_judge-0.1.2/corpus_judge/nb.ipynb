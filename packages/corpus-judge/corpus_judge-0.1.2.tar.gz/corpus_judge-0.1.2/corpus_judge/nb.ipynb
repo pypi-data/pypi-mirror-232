{
 "cells": [
  {
   "cell_type": "code",
   "execution_count": 1,
   "metadata": {},
   "outputs": [],
   "source": [
    "from pathlib import Path\n",
    "from sqlite_utils import Database\n",
    "db = Database('sc.db')"
   ]
  },
  {
   "cell_type": "code",
   "execution_count": 4,
   "metadata": {},
   "outputs": [],
   "source": [
    "from corpus_judge import CandidateJustice\n",
    "search = CandidateJustice(db=db, date_str='Dec. 1, 1995')"
   ]
  },
  {
   "cell_type": "code",
   "execution_count": 7,
   "metadata": {},
   "outputs": [],
   "source": [
    "s2 = CandidateJustice(db=db, text=\"Panganiban\", date_str=\"2006-03-30\")"
   ]
  },
  {
   "cell_type": "code",
   "execution_count": 12,
   "metadata": {},
   "outputs": [
    {
     "data": {
      "text/plain": [
       "15"
      ]
     },
     "execution_count": 12,
     "metadata": {},
     "output_type": "execute_result"
    }
   ],
   "source": [
    "len(list(search.rows))"
   ]
  },
  {
   "cell_type": "code",
   "execution_count": 10,
   "metadata": {},
   "outputs": [
    {
     "data": {
      "text/plain": [
       "[{'id': 131,\n",
       "  'surname': 'puno',\n",
       "  'alias': None,\n",
       "  'start_term': '1993-06-28',\n",
       "  'inactive_date': '2010-05-17',\n",
       "  'chief_date': '2007-12-08'},\n",
       " {'id': 137,\n",
       "  'surname': 'panganiban',\n",
       "  'alias': None,\n",
       "  'start_term': '1995-10-05',\n",
       "  'inactive_date': '2006-12-06',\n",
       "  'chief_date': '2005-12-20'},\n",
       " {'id': 140,\n",
       "  'surname': 'quisumbing',\n",
       "  'alias': None,\n",
       "  'start_term': '1998-01-15',\n",
       "  'inactive_date': '2009-11-06',\n",
       "  'chief_date': None},\n",
       " {'id': 145,\n",
       "  'surname': 'ynares-santiago',\n",
       "  'alias': None,\n",
       "  'start_term': '1999-04-06',\n",
       "  'inactive_date': '2009-10-05',\n",
       "  'chief_date': None},\n",
       " {'id': 147,\n",
       "  'surname': 'sandoval-gutierrez',\n",
       "  'alias': None,\n",
       "  'start_term': '2000-12-22',\n",
       "  'inactive_date': '2008-02-28',\n",
       "  'chief_date': None},\n",
       " {'id': 148,\n",
       "  'surname': 'carpio',\n",
       "  'alias': None,\n",
       "  'start_term': '2001-10-26',\n",
       "  'inactive_date': '2019-10-26',\n",
       "  'chief_date': None},\n",
       " {'id': 149,\n",
       "  'surname': 'austria-martinez',\n",
       "  'alias': None,\n",
       "  'start_term': '2002-04-09',\n",
       "  'inactive_date': '2009-04-30',\n",
       "  'chief_date': None},\n",
       " {'id': 150,\n",
       "  'surname': 'corona',\n",
       "  'alias': None,\n",
       "  'start_term': '2002-04-09',\n",
       "  'inactive_date': '2012-05-29',\n",
       "  'chief_date': '2010-05-17'},\n",
       " {'id': 151,\n",
       "  'surname': 'carpio-morales',\n",
       "  'alias': None,\n",
       "  'start_term': '2002-08-26',\n",
       "  'inactive_date': '2011-06-19',\n",
       "  'chief_date': None},\n",
       " {'id': 152,\n",
       "  'surname': 'callejo',\n",
       "  'alias': 'callejo sr.',\n",
       "  'start_term': '2002-08-26',\n",
       "  'inactive_date': '2007-04-28',\n",
       "  'chief_date': None},\n",
       " {'id': 153,\n",
       "  'surname': 'azcuna',\n",
       "  'alias': None,\n",
       "  'start_term': '2002-10-17',\n",
       "  'inactive_date': '2009-02-16',\n",
       "  'chief_date': None},\n",
       " {'id': 154,\n",
       "  'surname': 'tinga',\n",
       "  'alias': None,\n",
       "  'start_term': '2003-07-04',\n",
       "  'inactive_date': '2009-05-11',\n",
       "  'chief_date': None},\n",
       " {'id': 155,\n",
       "  'surname': 'chico-nazario',\n",
       "  'alias': None,\n",
       "  'start_term': '2004-02-10',\n",
       "  'inactive_date': '2009-12-05',\n",
       "  'chief_date': None},\n",
       " {'id': 156,\n",
       "  'surname': 'garcia',\n",
       "  'alias': None,\n",
       "  'start_term': '2004-10-07',\n",
       "  'inactive_date': '2007-10-30',\n",
       "  'chief_date': None}]"
      ]
     },
     "execution_count": 10,
     "metadata": {},
     "output_type": "execute_result"
    }
   ],
   "source": [
    "l = \n",
    "sorted(l, key=lambda d: d['id'])"
   ]
  }
 ],
 "metadata": {
  "kernelspec": {
   "display_name": ".venv",
   "language": "python",
   "name": "python3"
  },
  "language_info": {
   "codemirror_mode": {
    "name": "ipython",
    "version": 3
   },
   "file_extension": ".py",
   "mimetype": "text/x-python",
   "name": "python",
   "nbconvert_exporter": "python",
   "pygments_lexer": "ipython3",
   "version": "3.11.5"
  },
  "orig_nbformat": 4
 },
 "nbformat": 4,
 "nbformat_minor": 2
}
