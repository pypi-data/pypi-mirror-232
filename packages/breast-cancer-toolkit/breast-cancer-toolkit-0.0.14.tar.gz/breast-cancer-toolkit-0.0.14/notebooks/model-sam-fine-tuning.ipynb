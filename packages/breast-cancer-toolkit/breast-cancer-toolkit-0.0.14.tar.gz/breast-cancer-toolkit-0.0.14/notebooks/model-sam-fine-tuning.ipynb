{
 "cells": [
  {
   "cell_type": "code",
   "execution_count": 3,
   "id": "ab17c355-03ba-488e-bbc8-537261df94f0",
   "metadata": {},
   "outputs": [
    {
     "data": {
      "text/plain": [
       "['datasets\\\\masks\\\\B_3072_1.LEFT_MLO.tif.json',\n",
       " 'datasets\\\\masks\\\\B_3100_1.LEFT_MLO.tif.json',\n",
       " 'datasets\\\\masks\\\\B_3376_1.RIGHT_MLO.tif.json',\n",
       " 'datasets\\\\masks\\\\B_3449_1.RIGHT_CC.tif.json',\n",
       " 'datasets\\\\masks\\\\B_3601_1.RIGHT_MLO.tif.json']"
      ]
     },
     "execution_count": 3,
     "metadata": {},
     "output_type": "execute_result"
    }
   ],
   "source": [
    "import glob\n",
    "masks = glob.glob(\"datasets/**/*.json\")\n",
    "masks[0:5]"
   ]
  },
  {
   "cell_type": "code",
   "execution_count": 16,
   "id": "610f2483-9f60-4beb-b9fe-22d2b2e3a636",
   "metadata": {},
   "outputs": [
    {
     "data": {
      "text/plain": [
       "{'images': [{'height': 4656,\n",
       "   'width': 3016,\n",
       "   'id': 1,\n",
       "   'file_name': '../CANCER/B_3072_1.LEFT_MLO.tif.tif'}],\n",
       " 'annotations': [{'iscrowd': 0,\n",
       "   'image_id': 1,\n",
       "   'bbox': [0.0, 0.0, 1826.2926829268295, 4226.780487804877],\n",
       "   'segmentation': [[143,\n",
       "     4207,\n",
       "     0,\n",
       "     4226,\n",
       "     0,\n",
       "     2083,\n",
       "     275,\n",
       "     1335,\n",
       "     636,\n",
       "     504,\n",
       "     801,\n",
       "     0,\n",
       "     823,\n",
       "     129,\n",
       "     872,\n",
       "     490,\n",
       "     914,\n",
       "     1087,\n",
       "     1140,\n",
       "     1375,\n",
       "     1418,\n",
       "     1780,\n",
       "     1709,\n",
       "     2375,\n",
       "     1801,\n",
       "     2721,\n",
       "     1826,\n",
       "     3082,\n",
       "     1694,\n",
       "     3412,\n",
       "     1555,\n",
       "     3602,\n",
       "     1436,\n",
       "     3677,\n",
       "     1126,\n",
       "     3817,\n",
       "     872,\n",
       "     3887,\n",
       "     382,\n",
       "     3929,\n",
       "     282,\n",
       "     4102]],\n",
       "   'category_id': 0,\n",
       "   'id': 1,\n",
       "   'area': 4465877}],\n",
       " 'categories': [{'id': 0, 'name': '1', 'supercategory': '1'}]}"
      ]
     },
     "execution_count": 16,
     "metadata": {},
     "output_type": "execute_result"
    }
   ],
   "source": [
    "import json\n",
    " \n",
    "with open(masks[0]) as f:\n",
    "   mask = json.load(f)\n",
    "mask"
   ]
  },
  {
   "cell_type": "code",
   "execution_count": null,
   "id": "aaaddc98-700d-4bf4-9e20-76ed92709aad",
   "metadata": {},
   "outputs": [],
   "source": []
  }
 ],
 "metadata": {
  "kernelspec": {
   "display_name": "Python 3 (ipykernel)",
   "language": "python",
   "name": "python3"
  },
  "language_info": {
   "codemirror_mode": {
    "name": "ipython",
    "version": 3
   },
   "file_extension": ".py",
   "mimetype": "text/x-python",
   "name": "python",
   "nbconvert_exporter": "python",
   "pygments_lexer": "ipython3",
   "version": "3.10.12"
  }
 },
 "nbformat": 4,
 "nbformat_minor": 5
}
