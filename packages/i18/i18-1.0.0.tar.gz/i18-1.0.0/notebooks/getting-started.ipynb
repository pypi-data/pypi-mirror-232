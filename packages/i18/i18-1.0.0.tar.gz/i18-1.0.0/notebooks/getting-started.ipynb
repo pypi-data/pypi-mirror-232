{
 "cells": [
  {
   "cell_type": "markdown",
   "id": "e4c7e06b",
   "metadata": {},
   "source": [
    "# i18\n",
    "\n",
    "The i18n library provides you an easier way to manage languages with grammars and lexers."
   ]
  },
  {
   "cell_type": "markdown",
   "id": "32ba68f6",
   "metadata": {},
   "source": [
    "## Replace a string given a grammar and a replace function\n",
    "\n",
    "\n",
    "```python\n",
    "sub(grammar, fn_replace, string)\n",
    "```\n",
    "\n",
    "In Lark syntax, where the grammar expects a group symbol, fn_replace is a function that replaces this group symbol; any other symbols remain unchanged. The string adheres to the rules of a Context-Free Grammar (CFG) rather than a regular expression (regex). "
   ]
  },
  {
   "cell_type": "code",
   "execution_count": 80,
   "id": "5d31e9bb",
   "metadata": {},
   "outputs": [
    {
     "data": {
      "text/plain": [
       "'(0+(1+0)+1)+1'"
      ]
     },
     "execution_count": 80,
     "metadata": {},
     "output_type": "execute_result"
    }
   ],
   "source": [
    "from i18.parser import sub\n",
    "\n",
    "sub(\"\"\"\n",
    "start: expression\n",
    "\n",
    "expression: atom (\"+\"|\"-\"|\"*\"|\"/\") expression | atom\n",
    "\n",
    "atom: SIGNED_NUMBER -> group\n",
    "    | \"(\" expression \")\"\n",
    "\n",
    "%import common.SIGNED_NUMBER\n",
    "%import common.WS\n",
    "%ignore WS\n",
    "\n",
    "\"\"\", lambda token: str(int(token)%2), \"(4+(5+6)+5)+3\")"
   ]
  },
  {
   "cell_type": "markdown",
   "id": "bc44fe61",
   "metadata": {},
   "source": [
    "## Translate your blade templates\n",
    "\n",
    "When you have embedded code in HTML, you can translate both without losing any information"
   ]
  },
  {
   "cell_type": "code",
   "execution_count": 32,
   "id": "b43ea498",
   "metadata": {},
   "outputs": [
    {
     "name": "stdout",
     "output_type": "stream",
     "text": [
      "\n",
      "<span class=\"flex\">\n",
      "     @if($step == 1)\n",
      "            <span class=\"text-blue-600\">Hallo<p>Welt {{$x->g}}</p></span>\n",
      "     @else\n",
      "            <span class=\"text-green-500\">Gern geschehen</span>\n",
      "     @endif\n",
      "</span>\n",
      "\n"
     ]
    }
   ],
   "source": [
    "from i18.grammars import html_grammar\n",
    "from i18.parser import sub\n",
    "from deep_translator import (GoogleTranslator,DeeplTranslator)\n",
    "\n",
    "translator = GoogleTranslator(source='auto', target='de')\n",
    "\n",
    "new_text = sub(html_grammar, lambda token: translator.translate(text=token), \"\"\"\n",
    "<span class=\"flex\">\n",
    "     @if($step == 1)\n",
    "            <span class=\"text-blue-600\">Hello <p>World {{$x->g}}</p></span>\n",
    "     @else\n",
    "            <span class=\"text-green-500\">You're welcome</span>\n",
    "     @endif\n",
    "</span>\n",
    "\"\"\")\n",
    "print(new_text)"
   ]
  },
  {
   "cell_type": "code",
   "execution_count": 6,
   "id": "df81adf1",
   "metadata": {},
   "outputs": [
    {
     "name": "stdout",
     "output_type": "stream",
     "text": [
      "<p>0</p>\n"
     ]
    }
   ],
   "source": [
    "from i18.grammars import html_grammar\n",
    "from i18.parser import sub\n",
    "from deep_translator import (GoogleTranslator,DeeplTranslator)\n",
    "\n",
    "translator = GoogleTranslator(source='auto', target='de')\n",
    "\n",
    "new_text = sub(html_grammar, lambda token: \"0\", \"\"\"<p>{{$x->g}}</p>\"\"\")\n",
    "print(new_text)"
   ]
  },
  {
   "cell_type": "markdown",
   "id": "f6f7abd6",
   "metadata": {},
   "source": [
    "# Search in string based on Grammar"
   ]
  },
  {
   "cell_type": "code",
   "execution_count": 28,
   "id": "abc94f00",
   "metadata": {},
   "outputs": [
    {
     "data": {
      "text/plain": [
       "[Token('__ANON_1', 'abdiel@apimarket.mx')]"
      ]
     },
     "execution_count": 28,
     "metadata": {},
     "output_type": "execute_result"
    }
   ],
   "source": [
    "from i18.parser import search\n",
    "from i18.grammars import json_grammar, sub_in_grammar\n",
    "\n",
    "search(sub_in_grammar(json_grammar, {\"GROUP\": r\"/[\\w_.]+@[\\w_.]+\\.[\\w-]{2,4}/\"}), \n",
    "       '{\"key\": [\"abdiel@apimarket.mx\"], \"abdiel2@apimarket.mx\": \"2\"}')"
   ]
  },
  {
   "cell_type": "markdown",
   "id": "43a6ecbe",
   "metadata": {},
   "source": [
    "# Lexer\n",
    "\n",
    "A lexer converts a sequence of characters into a sequence of tokens, but these tokens have a meaning associated with them. This task is quite similar to named-entity recognition (yes, you could use Spacy), however, a classic lexer does the job."
   ]
  },
  {
   "cell_type": "code",
   "execution_count": 4,
   "id": "babb2d56",
   "metadata": {},
   "outputs": [
    {
     "data": {
      "text/plain": [
       "[LexToken(BLADE_ECHO,'{{!!$person->name!!}}',1,0)]"
      ]
     },
     "execution_count": 4,
     "metadata": {},
     "output_type": "execute_result"
    }
   ],
   "source": [
    "from i18.lexer import Lexer\n",
    "lexer = Lexer()\n",
    "[token for token in lexer.tokenize(\"\"\"{{!!$person->name!!}}\"\"\")]"
   ]
  },
  {
   "cell_type": "markdown",
   "id": "6eb6b624",
   "metadata": {},
   "source": [
    "# Apply i18"
   ]
  },
  {
   "cell_type": "code",
   "execution_count": 3,
   "id": "f74b04fa",
   "metadata": {},
   "outputs": [
    {
     "name": "stdout",
     "output_type": "stream",
     "text": [
      "\n",
      " <div class=\"ml-3 relative\">\n",
      "        {{__(\"hello_world\")}}<p>{{__(\"how_are_you?\")}} {{$x->g()}}</p>\n",
      "  </div>\n",
      "\n"
     ]
    }
   ],
   "source": [
    "from i18 import apply_i18\n",
    "\n",
    "new_text, translations = apply_i18(\"\"\"\n",
    " <div class=\"ml-3 relative\">\n",
    "        Hello World \n",
    "        <p>How are you? {{$x->g()}}</p>\n",
    "  </div>\n",
    "\"\"\")\n",
    "print(new_text)"
   ]
  },
  {
   "cell_type": "code",
   "execution_count": 2,
   "id": "4265a145",
   "metadata": {},
   "outputs": [
    {
     "data": {
      "text/plain": [
       "{'es': {'hello_world': 'Hola Mundo', 'how_are_you?': '¿Cómo estás?'},\n",
       " 'en': {'hello_world': 'Hello World', 'how_are_you?': 'How are you?'}}"
      ]
     },
     "execution_count": 2,
     "metadata": {},
     "output_type": "execute_result"
    }
   ],
   "source": [
    "translations"
   ]
  }
 ],
 "metadata": {
  "kernelspec": {
   "display_name": "Python 3 (ipykernel)",
   "language": "python",
   "name": "python3"
  },
  "language_info": {
   "codemirror_mode": {
    "name": "ipython",
    "version": 3
   },
   "file_extension": ".py",
   "mimetype": "text/x-python",
   "name": "python",
   "nbconvert_exporter": "python",
   "pygments_lexer": "ipython3",
   "version": "3.10.9"
  }
 },
 "nbformat": 4,
 "nbformat_minor": 5
}
