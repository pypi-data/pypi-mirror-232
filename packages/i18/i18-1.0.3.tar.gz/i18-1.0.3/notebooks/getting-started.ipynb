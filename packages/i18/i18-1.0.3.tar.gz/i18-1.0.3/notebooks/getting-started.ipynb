{
 "cells": [
  {
   "cell_type": "markdown",
   "id": "bf14042d",
   "metadata": {},
   "source": [
    "# i18\n",
    "\n",
    "The i18n library provides you an easier way to manage languages with grammars and lexers."
   ]
  },
  {
   "cell_type": "markdown",
   "id": "32ba68f6",
   "metadata": {},
   "source": [
    "## Replace a string given a grammar and a replace function\n",
    "\n",
    "\n",
    "```python\n",
    "sub(grammar, fn_replace, string)\n",
    "```\n",
    "\n",
    "In Lark syntax, where the grammar expects a group symbol, fn_replace is a function that replaces this group symbol; any other symbols remain unchanged. The string adheres to the rules of a Context-Free Grammar (CFG) rather than a regular expression (regex). "
   ]
  },
  {
   "cell_type": "code",
   "execution_count": 4,
   "id": "5d31e9bb",
   "metadata": {},
   "outputs": [
    {
     "data": {
      "text/plain": [
       "'(0+(1+0)+1)+1'"
      ]
     },
     "execution_count": 4,
     "metadata": {},
     "output_type": "execute_result"
    }
   ],
   "source": [
    "from i18.parser import sub\n",
    "\n",
    "sub(\"\"\"\n",
    "start: expression\n",
    "\n",
    "expression: atom (\"+\"|\"-\"|\"*\"|\"/\") expression | atom\n",
    "\n",
    "atom: SIGNED_NUMBER -> group\n",
    "    | \"(\" expression \")\"\n",
    "\n",
    "%import common.SIGNED_NUMBER\n",
    "%import common.WS\n",
    "%ignore WS\n",
    "\n",
    "\"\"\", lambda token: str(int(token)%2), \"(4+(5+6)+5)+3\")"
   ]
  },
  {
   "cell_type": "markdown",
   "id": "dfc7b947",
   "metadata": {},
   "source": [
    "## Translate your blade templates\n",
    "\n",
    "When you have embedded code in HTML, you can translate both without losing any information"
   ]
  },
  {
   "cell_type": "code",
   "execution_count": 32,
   "id": "b43ea498",
   "metadata": {},
   "outputs": [
    {
     "name": "stdout",
     "output_type": "stream",
     "text": [
      "\n",
      "<span class=\"flex\">\n",
      "     @if($step == 1)\n",
      "            <span class=\"text-blue-600\">Hallo<p>Welt {{$x->g}}</p></span>\n",
      "     @else\n",
      "            <span class=\"text-green-500\">Gern geschehen</span>\n",
      "     @endif\n",
      "</span>\n",
      "\n"
     ]
    }
   ],
   "source": [
    "from i18.grammars import html_grammar\n",
    "from i18.parser import sub\n",
    "from deep_translator import (GoogleTranslator,DeeplTranslator)\n",
    "\n",
    "translator = GoogleTranslator(source='auto', target='de')\n",
    "\n",
    "new_text = sub(html_grammar, lambda token: translator.translate(text=token), \"\"\"\n",
    "<span class=\"flex\">\n",
    "     @if($step == 1)\n",
    "            <span class=\"text-blue-600\">Hello <p>World {{$x->g}}</p></span>\n",
    "     @else\n",
    "            <span class=\"text-green-500\">You're welcome</span>\n",
    "     @endif\n",
    "</span>\n",
    "\"\"\")\n",
    "print(new_text)"
   ]
  },
  {
   "cell_type": "code",
   "execution_count": 6,
   "id": "f2bff2fe",
   "metadata": {},
   "outputs": [
    {
     "name": "stdout",
     "output_type": "stream",
     "text": [
      "<p>0</p>\n"
     ]
    }
   ],
   "source": [
    "from i18.grammars import html_grammar\n",
    "from i18.parser import sub\n",
    "from deep_translator import (GoogleTranslator,DeeplTranslator)\n",
    "\n",
    "translator = GoogleTranslator(source='auto', target='de')\n",
    "\n",
    "new_text = sub(html_grammar, lambda token: \"0\", \"\"\"<p>{{$x->g}}</p>\"\"\")\n",
    "print(new_text)"
   ]
  },
  {
   "cell_type": "markdown",
   "id": "d135232c",
   "metadata": {},
   "source": [
    "# Search in string based on Grammar"
   ]
  },
  {
   "cell_type": "code",
   "execution_count": 28,
   "id": "55a6066c",
   "metadata": {},
   "outputs": [
    {
     "data": {
      "text/plain": [
       "[Token('__ANON_1', 'abdiel@apimarket.mx')]"
      ]
     },
     "execution_count": 28,
     "metadata": {},
     "output_type": "execute_result"
    }
   ],
   "source": [
    "from i18.parser import search\n",
    "from i18.grammars import json_grammar, sub_in_grammar\n",
    "\n",
    "search(sub_in_grammar(json_grammar, {\"GROUP\": r\"/[\\w_.]+@[\\w_.]+\\.[\\w-]{2,4}/\"}), \n",
    "       '{\"key\": [\"abdiel@apimarket.mx\"], \"abdiel2@apimarket.mx\": \"2\"}')"
   ]
  },
  {
   "cell_type": "markdown",
   "id": "43a6ecbe",
   "metadata": {},
   "source": [
    "# Lexer\n",
    "\n",
    "A lexer converts a sequence of characters into a sequence of tokens, but these tokens have a meaning associated with them. This task is quite similar to named-entity recognition (yes, you could use Spacy), however, a classic lexer does the job."
   ]
  },
  {
   "cell_type": "code",
   "execution_count": 4,
   "id": "babb2d56",
   "metadata": {},
   "outputs": [
    {
     "data": {
      "text/plain": [
       "[LexToken(BLADE_ECHO,'{{!!$person->name!!}}',1,0)]"
      ]
     },
     "execution_count": 4,
     "metadata": {},
     "output_type": "execute_result"
    }
   ],
   "source": [
    "from i18.lexer import Lexer\n",
    "lexer = Lexer()\n",
    "[token for token in lexer.tokenize(\"\"\"{{!!$person->name!!}}\"\"\")]"
   ]
  },
  {
   "cell_type": "markdown",
   "id": "d653633b",
   "metadata": {},
   "source": [
    "# Apply i18"
   ]
  },
  {
   "cell_type": "code",
   "execution_count": 14,
   "id": "37307365",
   "metadata": {},
   "outputs": [
    {
     "name": "stdout",
     "output_type": "stream",
     "text": [
      "\n",
      "    <div>{{__(\"hello\")}} {{$x->g}}<p>{{__(\"world\")}}</p>\n",
      "    </div>\n",
      "\n"
     ]
    }
   ],
   "source": [
    "from i18 import apply_i18\n",
    "\n",
    "new_text, translations = apply_i18(\"\"\"\n",
    "    <div>Hello {{$x->g}} \n",
    "         <p>World</p>\n",
    "    </div>\n",
    "\"\"\")\n",
    "print(new_text)"
   ]
  },
  {
   "cell_type": "code",
   "execution_count": 15,
   "id": "d407024d",
   "metadata": {},
   "outputs": [
    {
     "data": {
      "text/plain": [
       "{'es': {'hello': 'Hola', 'world': 'Mundo'},\n",
       " 'en': {'hello': 'Hello', 'world': 'World'}}"
      ]
     },
     "execution_count": 15,
     "metadata": {},
     "output_type": "execute_result"
    }
   ],
   "source": [
    "translations"
   ]
  },
  {
   "cell_type": "markdown",
   "id": "4aca02e7",
   "metadata": {},
   "source": [
    "# Tests"
   ]
  },
  {
   "cell_type": "code",
   "execution_count": 2,
   "id": "dcfacce6",
   "metadata": {},
   "outputs": [
    {
     "ename": "AssertionError",
     "evalue": "",
     "output_type": "error",
     "traceback": [
      "\u001b[0;31m---------------------------------------------------------------------------\u001b[0m",
      "\u001b[0;31mAssertionError\u001b[0m                            Traceback (most recent call last)",
      "Cell \u001b[0;32mIn[2], line 8\u001b[0m\n\u001b[1;32m      6\u001b[0m \u001b[38;5;28;01massert\u001b[39;00m parse(html_grammar, \u001b[38;5;124m\"\u001b[39m\u001b[38;5;124m<div @id.g=\u001b[39m\u001b[38;5;124m'\u001b[39m\u001b[38;5;124m1\u001b[39m\u001b[38;5;124m'\u001b[39m\u001b[38;5;124m>1</div>\u001b[39m\u001b[38;5;124m\"\u001b[39m)\u001b[38;5;241m.\u001b[39mpretty() \u001b[38;5;241m==\u001b[39m \u001b[38;5;124m\"\u001b[39m\u001b[38;5;124mstart\u001b[39m\u001b[38;5;130;01m\\n\u001b[39;00m\u001b[38;5;124m  element\u001b[39m\u001b[38;5;130;01m\\n\u001b[39;00m\u001b[38;5;124m    tag\u001b[39m\u001b[38;5;130;01m\\t\u001b[39;00m\u001b[38;5;124mdiv\u001b[39m\u001b[38;5;130;01m\\n\u001b[39;00m\u001b[38;5;124m    attribute\u001b[39m\u001b[38;5;130;01m\\n\u001b[39;00m\u001b[38;5;124m      @\u001b[39m\u001b[38;5;130;01m\\n\u001b[39;00m\u001b[38;5;124m      id.g\u001b[39m\u001b[38;5;130;01m\\n\u001b[39;00m\u001b[38;5;124m      =\u001b[39m\u001b[38;5;124m'\u001b[39m\u001b[38;5;124m1\u001b[39m\u001b[38;5;124m'\u001b[39m\u001b[38;5;130;01m\\n\u001b[39;00m\u001b[38;5;124m    group\u001b[39m\u001b[38;5;130;01m\\t\u001b[39;00m\u001b[38;5;124m1\u001b[39m\u001b[38;5;130;01m\\n\u001b[39;00m\u001b[38;5;124m    tag\u001b[39m\u001b[38;5;130;01m\\t\u001b[39;00m\u001b[38;5;124mdiv\u001b[39m\u001b[38;5;130;01m\\n\u001b[39;00m\u001b[38;5;124m\"\u001b[39m\n\u001b[1;32m      7\u001b[0m \u001b[38;5;28;01massert\u001b[39;00m parse(html_grammar, \u001b[38;5;124m\"\u001b[39m\u001b[38;5;124m<div :id.g.x.\u001b[39m\u001b[38;5;124m{{\u001b[39m\u001b[38;5;124m $x}}=\u001b[39m\u001b[38;5;124m'\u001b[39m\u001b[38;5;124m1\u001b[39m\u001b[38;5;124m'\u001b[39m\u001b[38;5;124m>1</div>\u001b[39m\u001b[38;5;124m\"\u001b[39m)\u001b[38;5;241m.\u001b[39mpretty() \u001b[38;5;241m==\u001b[39m \u001b[38;5;124m\"\u001b[39m\u001b[38;5;124mstart\u001b[39m\u001b[38;5;130;01m\\n\u001b[39;00m\u001b[38;5;124m  element\u001b[39m\u001b[38;5;130;01m\\n\u001b[39;00m\u001b[38;5;124m    tag\u001b[39m\u001b[38;5;130;01m\\t\u001b[39;00m\u001b[38;5;124mdiv\u001b[39m\u001b[38;5;130;01m\\n\u001b[39;00m\u001b[38;5;124m    attribute\u001b[39m\u001b[38;5;130;01m\\n\u001b[39;00m\u001b[38;5;124m      :\u001b[39m\u001b[38;5;130;01m\\n\u001b[39;00m\u001b[38;5;124m      id.g.x.\u001b[39m\u001b[38;5;124m{{\u001b[39m\u001b[38;5;124m $x}}\u001b[39m\u001b[38;5;130;01m\\n\u001b[39;00m\u001b[38;5;124m      =\u001b[39m\u001b[38;5;124m'\u001b[39m\u001b[38;5;124m1\u001b[39m\u001b[38;5;124m'\u001b[39m\u001b[38;5;130;01m\\n\u001b[39;00m\u001b[38;5;124m    group\u001b[39m\u001b[38;5;130;01m\\t\u001b[39;00m\u001b[38;5;124m1\u001b[39m\u001b[38;5;130;01m\\n\u001b[39;00m\u001b[38;5;124m    tag\u001b[39m\u001b[38;5;130;01m\\t\u001b[39;00m\u001b[38;5;124mdiv\u001b[39m\u001b[38;5;130;01m\\n\u001b[39;00m\u001b[38;5;124m\"\u001b[39m\n\u001b[0;32m----> 8\u001b[0m \u001b[38;5;28;01massert\u001b[39;00m parse(html_grammar, \u001b[38;5;124m\"\"\"\u001b[39m\n\u001b[1;32m      9\u001b[0m \u001b[38;5;124m  <linearGradient id=\u001b[39m\u001b[38;5;124m\"\u001b[39m\u001b[38;5;124m:R2m96:\u001b[39m\u001b[38;5;124m\"\u001b[39m\u001b[38;5;124m x1=\u001b[39m\u001b[38;5;124m\"\u001b[39m\u001b[38;5;124m11.5\u001b[39m\u001b[38;5;124m\"\u001b[39m\u001b[38;5;124m y1=\u001b[39m\u001b[38;5;124m\"\u001b[39m\u001b[38;5;124m18\u001b[39m\u001b[38;5;124m\"\u001b[39m\u001b[38;5;124m x2=\u001b[39m\u001b[38;5;124m\"\u001b[39m\u001b[38;5;124m36\u001b[39m\u001b[38;5;124m\"\u001b[39m\u001b[38;5;124m y2=\u001b[39m\u001b[38;5;124m\"\u001b[39m\u001b[38;5;124m15.5\u001b[39m\u001b[38;5;124m\"\u001b[39m\n\u001b[1;32m     10\u001b[0m \u001b[38;5;124m                                                gradientUnits=\u001b[39m\u001b[38;5;124m\"\u001b[39m\u001b[38;5;124muserSpaceOnUse\u001b[39m\u001b[38;5;124m\"\u001b[39m\u001b[38;5;124m>\u001b[39m\n\u001b[1;32m     11\u001b[0m \u001b[38;5;124m                                    <stop offset=\u001b[39m\u001b[38;5;124m\"\u001b[39m\u001b[38;5;124m.194\u001b[39m\u001b[38;5;124m\"\u001b[39m\u001b[38;5;124m stop-color=\u001b[39m\u001b[38;5;124m\"\u001b[39m\u001b[38;5;124m#fff\u001b[39m\u001b[38;5;124m\"\u001b[39m\u001b[38;5;124m></stop>\u001b[39m\n\u001b[1;32m     12\u001b[0m \u001b[38;5;124m                                    <stop offset=\u001b[39m\u001b[38;5;124m\"\u001b[39m\u001b[38;5;124m1\u001b[39m\u001b[38;5;124m\"\u001b[39m\u001b[38;5;124m stop-color=\u001b[39m\u001b[38;5;124m\"\u001b[39m\u001b[38;5;124m#6692F1\u001b[39m\u001b[38;5;124m\"\u001b[39m\u001b[38;5;124m></stop>\u001b[39m\n\u001b[1;32m     13\u001b[0m \u001b[38;5;124m                                </linearGradient>\u001b[39m\n\u001b[1;32m     14\u001b[0m \n\u001b[1;32m     15\u001b[0m \u001b[38;5;124m\"\"\"\u001b[39m)\u001b[38;5;241m.\u001b[39mpretty() \u001b[38;5;241m==\u001b[39m \u001b[38;5;124m'\u001b[39m\u001b[38;5;124mstart\u001b[39m\u001b[38;5;130;01m\\n\u001b[39;00m\u001b[38;5;124m  element\u001b[39m\u001b[38;5;130;01m\\n\u001b[39;00m\u001b[38;5;124m    tag\u001b[39m\u001b[38;5;130;01m\\t\u001b[39;00m\u001b[38;5;124mlinearGradient\u001b[39m\u001b[38;5;130;01m\\n\u001b[39;00m\u001b[38;5;124m    attribute\u001b[39m\u001b[38;5;130;01m\\n\u001b[39;00m\u001b[38;5;124m      id\u001b[39m\u001b[38;5;130;01m\\n\u001b[39;00m\u001b[38;5;124m      =\u001b[39m\u001b[38;5;124m\"\u001b[39m\u001b[38;5;124m:R2m96:\u001b[39m\u001b[38;5;124m\"\u001b[39m\u001b[38;5;130;01m\\n\u001b[39;00m\u001b[38;5;124m    attribute\u001b[39m\u001b[38;5;130;01m\\n\u001b[39;00m\u001b[38;5;124m      x1\u001b[39m\u001b[38;5;130;01m\\n\u001b[39;00m\u001b[38;5;124m      =\u001b[39m\u001b[38;5;124m\"\u001b[39m\u001b[38;5;124m11.5\u001b[39m\u001b[38;5;124m\"\u001b[39m\u001b[38;5;130;01m\\n\u001b[39;00m\u001b[38;5;124m    attribute\u001b[39m\u001b[38;5;130;01m\\n\u001b[39;00m\u001b[38;5;124m      y1\u001b[39m\u001b[38;5;130;01m\\n\u001b[39;00m\u001b[38;5;124m      =\u001b[39m\u001b[38;5;124m\"\u001b[39m\u001b[38;5;124m18\u001b[39m\u001b[38;5;124m\"\u001b[39m\u001b[38;5;130;01m\\n\u001b[39;00m\u001b[38;5;124m    attribute\u001b[39m\u001b[38;5;130;01m\\n\u001b[39;00m\u001b[38;5;124m      x2\u001b[39m\u001b[38;5;130;01m\\n\u001b[39;00m\u001b[38;5;124m      =\u001b[39m\u001b[38;5;124m\"\u001b[39m\u001b[38;5;124m36\u001b[39m\u001b[38;5;124m\"\u001b[39m\u001b[38;5;130;01m\\n\u001b[39;00m\u001b[38;5;124m    attribute\u001b[39m\u001b[38;5;130;01m\\n\u001b[39;00m\u001b[38;5;124m      y2\u001b[39m\u001b[38;5;130;01m\\n\u001b[39;00m\u001b[38;5;124m      =\u001b[39m\u001b[38;5;124m\"\u001b[39m\u001b[38;5;124m15.5\u001b[39m\u001b[38;5;124m\"\u001b[39m\u001b[38;5;130;01m\\n\u001b[39;00m\u001b[38;5;124m    attribute\u001b[39m\u001b[38;5;130;01m\\n\u001b[39;00m\u001b[38;5;124m      gradientUnits\u001b[39m\u001b[38;5;130;01m\\n\u001b[39;00m\u001b[38;5;124m      =\u001b[39m\u001b[38;5;124m\"\u001b[39m\u001b[38;5;124muserSpaceOnUse\u001b[39m\u001b[38;5;124m\"\u001b[39m\u001b[38;5;130;01m\\n\u001b[39;00m\u001b[38;5;124m    element\u001b[39m\u001b[38;5;130;01m\\n\u001b[39;00m\u001b[38;5;124m      tag\u001b[39m\u001b[38;5;130;01m\\t\u001b[39;00m\u001b[38;5;124mstop\u001b[39m\u001b[38;5;130;01m\\n\u001b[39;00m\u001b[38;5;124m      attribute\u001b[39m\u001b[38;5;130;01m\\n\u001b[39;00m\u001b[38;5;124m        offset\u001b[39m\u001b[38;5;130;01m\\n\u001b[39;00m\u001b[38;5;124m        =\u001b[39m\u001b[38;5;124m\"\u001b[39m\u001b[38;5;124m.194\u001b[39m\u001b[38;5;124m\"\u001b[39m\u001b[38;5;130;01m\\n\u001b[39;00m\u001b[38;5;124m      attribute\u001b[39m\u001b[38;5;130;01m\\n\u001b[39;00m\u001b[38;5;124m        stop-color\u001b[39m\u001b[38;5;130;01m\\n\u001b[39;00m\u001b[38;5;124m        =\u001b[39m\u001b[38;5;124m\"\u001b[39m\u001b[38;5;124m#fff\u001b[39m\u001b[38;5;124m\"\u001b[39m\u001b[38;5;130;01m\\n\u001b[39;00m\u001b[38;5;124m      tag\u001b[39m\u001b[38;5;130;01m\\t\u001b[39;00m\u001b[38;5;124mstop\u001b[39m\u001b[38;5;130;01m\\n\u001b[39;00m\u001b[38;5;124m    element\u001b[39m\u001b[38;5;130;01m\\n\u001b[39;00m\u001b[38;5;124m      tag\u001b[39m\u001b[38;5;130;01m\\t\u001b[39;00m\u001b[38;5;124mstop\u001b[39m\u001b[38;5;130;01m\\n\u001b[39;00m\u001b[38;5;124m      attribute\u001b[39m\u001b[38;5;130;01m\\n\u001b[39;00m\u001b[38;5;124m        offset\u001b[39m\u001b[38;5;130;01m\\n\u001b[39;00m\u001b[38;5;124m        =\u001b[39m\u001b[38;5;124m\"\u001b[39m\u001b[38;5;124m1\u001b[39m\u001b[38;5;124m\"\u001b[39m\u001b[38;5;130;01m\\n\u001b[39;00m\u001b[38;5;124m      attribute\u001b[39m\u001b[38;5;130;01m\\n\u001b[39;00m\u001b[38;5;124m        stop-color\u001b[39m\u001b[38;5;130;01m\\n\u001b[39;00m\u001b[38;5;124m        =\u001b[39m\u001b[38;5;124m\"\u001b[39m\u001b[38;5;124m#6692F1\u001b[39m\u001b[38;5;124m\"\u001b[39m\u001b[38;5;130;01m\\n\u001b[39;00m\u001b[38;5;124m      tag\u001b[39m\u001b[38;5;130;01m\\t\u001b[39;00m\u001b[38;5;124mstop\u001b[39m\u001b[38;5;130;01m\\n\u001b[39;00m\u001b[38;5;124m    tag\u001b[39m\u001b[38;5;130;01m\\t\u001b[39;00m\u001b[38;5;124mlinearGradient\u001b[39m\u001b[38;5;130;01m\\n\u001b[39;00m\u001b[38;5;124m'\u001b[39m\n\u001b[1;32m     16\u001b[0m \u001b[38;5;28;01massert\u001b[39;00m parse(html_grammar, \u001b[38;5;124m\"\"\"\u001b[39m\n\u001b[1;32m     17\u001b[0m \u001b[38;5;124m  @error($parameter->name) <span  class=\u001b[39m\u001b[38;5;124m\"\u001b[39m\u001b[38;5;124mtext-sm text-red-500\u001b[39m\u001b[38;5;124m\"\u001b[39m\u001b[38;5;124m> \u001b[39m\u001b[38;5;124m{{\u001b[39m\u001b[38;5;124m$message}}</span> @enderror\u001b[39m\n\u001b[1;32m     18\u001b[0m \u001b[38;5;124m\"\"\"\u001b[39m)\u001b[38;5;241m.\u001b[39mpretty() \u001b[38;5;241m==\u001b[39m \u001b[38;5;124m'\u001b[39m\u001b[38;5;124mstart\u001b[39m\u001b[38;5;130;01m\\n\u001b[39;00m\u001b[38;5;124m  element\u001b[39m\u001b[38;5;130;01m\\n\u001b[39;00m\u001b[38;5;124m    args\u001b[39m\u001b[38;5;130;01m\\n\u001b[39;00m\u001b[38;5;124m      expression\u001b[39m\u001b[38;5;130;01m\\n\u001b[39;00m\u001b[38;5;124m        function_call\u001b[39m\u001b[38;5;130;01m\\n\u001b[39;00m\u001b[38;5;124m          variable\u001b[39m\u001b[38;5;130;01m\\t\u001b[39;00m\u001b[38;5;124mparameter\u001b[39m\u001b[38;5;130;01m\\n\u001b[39;00m\u001b[38;5;124m          name\u001b[39m\u001b[38;5;130;01m\\n\u001b[39;00m\u001b[38;5;124m    start\u001b[39m\u001b[38;5;130;01m\\n\u001b[39;00m\u001b[38;5;124m      element\u001b[39m\u001b[38;5;130;01m\\n\u001b[39;00m\u001b[38;5;124m        tag\u001b[39m\u001b[38;5;130;01m\\t\u001b[39;00m\u001b[38;5;124mspan\u001b[39m\u001b[38;5;130;01m\\n\u001b[39;00m\u001b[38;5;124m        attribute\u001b[39m\u001b[38;5;130;01m\\n\u001b[39;00m\u001b[38;5;124m          class\u001b[39m\u001b[38;5;130;01m\\n\u001b[39;00m\u001b[38;5;124m          =\u001b[39m\u001b[38;5;124m\"\u001b[39m\u001b[38;5;124mtext-sm text-red-500\u001b[39m\u001b[38;5;124m\"\u001b[39m\u001b[38;5;130;01m\\n\u001b[39;00m\u001b[38;5;124m        group\u001b[39m\u001b[38;5;130;01m\\t\u001b[39;00m\u001b[38;5;124m \u001b[39m\u001b[38;5;124m{{\u001b[39m\u001b[38;5;124m$message}}\u001b[39m\u001b[38;5;130;01m\\n\u001b[39;00m\u001b[38;5;124m        tag\u001b[39m\u001b[38;5;130;01m\\t\u001b[39;00m\u001b[38;5;124mspan\u001b[39m\u001b[38;5;130;01m\\n\u001b[39;00m\u001b[38;5;124m'\u001b[39m\n",
      "\u001b[0;31mAssertionError\u001b[0m: "
     ]
    }
   ],
   "source": [
    "from i18.parser import parse, print_pretty\n",
    "from i18.grammars import html_grammar\n",
    "\n",
    "assert parse(html_grammar, \"<div>1</div>\").pretty() == \"start\\n  element\\n    tag\\tdiv\\n    group\\t1\\n    tag\\tdiv\\n\"\n",
    "assert parse(html_grammar, '<div @id.g=\"1\">1</div>').pretty() == 'start\\n  element\\n    tag\\tdiv\\n    attribute\\n      @\\n      id.g\\n      =\"1\"\\n    group\\t1\\n    tag\\tdiv\\n'\n",
    "assert parse(html_grammar, \"<div @id.g='1'>1</div>\").pretty() == \"start\\n  element\\n    tag\\tdiv\\n    attribute\\n      @\\n      id.g\\n      ='1'\\n    group\\t1\\n    tag\\tdiv\\n\"\n",
    "assert parse(html_grammar, \"<div :id.g.x.{{ $x}}='1'>1</div>\").pretty() == \"start\\n  element\\n    tag\\tdiv\\n    attribute\\n      :\\n      id.g.x.{{ $x}}\\n      ='1'\\n    group\\t1\\n    tag\\tdiv\\n\"\n",
    "assert parse(html_grammar, \"\"\"\n",
    "  <linearGradient id=\":R2m96:\" x1=\"11.5\" y1=\"18\" x2=\"36\" y2=\"15.5\"\n",
    "                                                gradientUnits=\"userSpaceOnUse\">\n",
    "                                    <stop offset=\".194\" stop-color=\"#fff\"></stop>\n",
    "                                    <stop offset=\"1\" stop-color=\"#6692F1\"></stop>\n",
    "                                </linearGradient>\n",
    "\n",
    "\"\"\").pretty() == 'start\\n  element\\n    tag\\tlinearGradient\\n    attribute\\n      id\\n      =\":R2m96:\"\\n    attribute\\n      x1\\n      =\"11.5\"\\n    attribute\\n      y1\\n      =\"18\"\\n    attribute\\n      x2\\n      =\"36\"\\n    attribute\\n      y2\\n      =\"15.5\"\\n    attribute\\n      gradientUnits\\n      =\"userSpaceOnUse\"\\n    element\\n      tag\\tstop\\n      attribute\\n        offset\\n        =\".194\"\\n      attribute\\n        stop-color\\n        =\"#fff\"\\n      tag\\tstop\\n    element\\n      tag\\tstop\\n      attribute\\n        offset\\n        =\"1\"\\n      attribute\\n        stop-color\\n        =\"#6692F1\"\\n      tag\\tstop\\n    tag\\tlinearGradient\\n'\n",
    "assert parse(html_grammar, \"\"\"\n",
    "  @error($parameter->name) <span  class=\"text-sm text-red-500\"> {{$message}}</span> @enderror\n",
    "\"\"\").pretty() == 'start\\n  element\\n    args\\n      expression\\n        function_call\\n          variable\\tparameter\\n          name\\n    start\\n      element\\n        tag\\tspan\\n        attribute\\n          class\\n          =\"text-sm text-red-500\"\\n        group\\t {{$message}}\\n        tag\\tspan\\n'"
   ]
  },
  {
   "cell_type": "code",
   "execution_count": 3,
   "id": "af0f71ea",
   "metadata": {},
   "outputs": [
    {
     "name": "stdout",
     "output_type": "stream",
     "text": [
      "start\n",
      "  element\n",
      "    ($open)\n",
      "    start\n",
      "      element\n",
      "        args\n",
      "          expression\n",
      "            variable\tresponse\n",
      "            expression\n",
      "              literal\t'component'\n",
      "        start\n",
      "          element\n",
      "            blade_expression\t@includeIf('livewire.app.services.form.'.$response['component'])\n",
      "\n"
     ]
    }
   ],
   "source": [
    "print_pretty(html_grammar, \"\"\"\n",
    "@if($open)\n",
    "            @isset($response['component'])\n",
    "                @includeIf('livewire.app.services.form.'.$response['component'])\n",
    "            @endisset\n",
    "@endif\n",
    "\"\"\")"
   ]
  },
  {
   "cell_type": "code",
   "execution_count": null,
   "id": "60bb96f9",
   "metadata": {},
   "outputs": [],
   "source": []
  }
 ],
 "metadata": {
  "kernelspec": {
   "display_name": "Python 3 (ipykernel)",
   "language": "python",
   "name": "python3"
  },
  "language_info": {
   "codemirror_mode": {
    "name": "ipython",
    "version": 3
   },
   "file_extension": ".py",
   "mimetype": "text/x-python",
   "name": "python",
   "nbconvert_exporter": "python",
   "pygments_lexer": "ipython3",
   "version": "3.10.9"
  }
 },
 "nbformat": 4,
 "nbformat_minor": 5
}
