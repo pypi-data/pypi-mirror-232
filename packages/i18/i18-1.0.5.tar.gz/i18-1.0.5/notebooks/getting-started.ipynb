{
 "cells": [
  {
   "cell_type": "markdown",
   "id": "bf14042d",
   "metadata": {},
   "source": [
    "# i18\n",
    "\n",
    "The i18n library provides you an easier way to manage languages with grammars and lexers."
   ]
  },
  {
   "cell_type": "markdown",
   "id": "32ba68f6",
   "metadata": {},
   "source": [
    "## Replace a string given a grammar and a replace function\n",
    "\n",
    "\n",
    "```python\n",
    "sub(grammar, fn_replace, string)\n",
    "```\n",
    "\n",
    "In Lark syntax, where the grammar expects a group symbol, fn_replace is a function that replaces this group symbol; any other symbols remain unchanged. The string adheres to the rules of a Context-Free Grammar (CFG) rather than a regular expression (regex). "
   ]
  },
  {
   "cell_type": "code",
   "execution_count": 4,
   "id": "5d31e9bb",
   "metadata": {},
   "outputs": [
    {
     "data": {
      "text/plain": [
       "'(0+(1+0)+1)+1'"
      ]
     },
     "execution_count": 4,
     "metadata": {},
     "output_type": "execute_result"
    }
   ],
   "source": [
    "from i18.parser import sub\n",
    "\n",
    "sub(\"\"\"\n",
    "start: expression\n",
    "\n",
    "expression: atom (\"+\"|\"-\"|\"*\"|\"/\") expression | atom\n",
    "\n",
    "atom: SIGNED_NUMBER -> group\n",
    "    | \"(\" expression \")\"\n",
    "\n",
    "%import common.SIGNED_NUMBER\n",
    "%import common.WS\n",
    "%ignore WS\n",
    "\n",
    "\"\"\", lambda token: str(int(token)%2), \"(4+(5+6)+5)+3\")"
   ]
  },
  {
   "cell_type": "markdown",
   "id": "dfc7b947",
   "metadata": {},
   "source": [
    "## Translate your blade templates\n",
    "\n",
    "When you have embedded code in HTML, you can translate both without losing any information"
   ]
  },
  {
   "cell_type": "code",
   "execution_count": 32,
   "id": "b43ea498",
   "metadata": {},
   "outputs": [
    {
     "name": "stdout",
     "output_type": "stream",
     "text": [
      "\n",
      "<span class=\"flex\">\n",
      "     @if($step == 1)\n",
      "            <span class=\"text-blue-600\">Hallo<p>Welt {{$x->g}}</p></span>\n",
      "     @else\n",
      "            <span class=\"text-green-500\">Gern geschehen</span>\n",
      "     @endif\n",
      "</span>\n",
      "\n"
     ]
    }
   ],
   "source": [
    "from i18.grammars import html_grammar\n",
    "from i18.parser import sub\n",
    "from deep_translator import (GoogleTranslator,DeeplTranslator)\n",
    "\n",
    "translator = GoogleTranslator(source='auto', target='de')\n",
    "\n",
    "new_text = sub(html_grammar, lambda token: translator.translate(text=token), \"\"\"\n",
    "<span class=\"flex\">\n",
    "     @if($step == 1)\n",
    "            <span class=\"text-blue-600\">Hello <p>World {{$x->g}}</p></span>\n",
    "     @else\n",
    "            <span class=\"text-green-500\">You're welcome</span>\n",
    "     @endif\n",
    "</span>\n",
    "\"\"\")\n",
    "print(new_text)"
   ]
  },
  {
   "cell_type": "code",
   "execution_count": 6,
   "id": "f2bff2fe",
   "metadata": {},
   "outputs": [
    {
     "name": "stdout",
     "output_type": "stream",
     "text": [
      "<p>0</p>\n"
     ]
    }
   ],
   "source": [
    "from i18.grammars import html_grammar\n",
    "from i18.parser import sub\n",
    "from deep_translator import (GoogleTranslator,DeeplTranslator)\n",
    "\n",
    "translator = GoogleTranslator(source='auto', target='de')\n",
    "\n",
    "new_text = sub(html_grammar, lambda token: \"0\", \"\"\"<p>{{$x->g}}</p>\"\"\")\n",
    "print(new_text)"
   ]
  },
  {
   "cell_type": "markdown",
   "id": "d135232c",
   "metadata": {},
   "source": [
    "# Search in string based on Grammar"
   ]
  },
  {
   "cell_type": "code",
   "execution_count": 28,
   "id": "55a6066c",
   "metadata": {},
   "outputs": [
    {
     "data": {
      "text/plain": [
       "[Token('__ANON_1', 'abdiel@apimarket.mx')]"
      ]
     },
     "execution_count": 28,
     "metadata": {},
     "output_type": "execute_result"
    }
   ],
   "source": [
    "from i18.parser import search\n",
    "from i18.grammars import json_grammar, sub_in_grammar\n",
    "\n",
    "search(sub_in_grammar(json_grammar, {\"GROUP\": r\"/[\\w_.]+@[\\w_.]+\\.[\\w-]{2,4}/\"}), \n",
    "       '{\"key\": [\"abdiel@apimarket.mx\"], \"abdiel2@apimarket.mx\": \"2\"}')"
   ]
  },
  {
   "cell_type": "markdown",
   "id": "43a6ecbe",
   "metadata": {},
   "source": [
    "# Lexer\n",
    "\n",
    "A lexer converts a sequence of characters into a sequence of tokens, but these tokens have a meaning associated with them. This task is quite similar to named-entity recognition (yes, you could use Spacy), however, a classic lexer does the job."
   ]
  },
  {
   "cell_type": "code",
   "execution_count": 4,
   "id": "babb2d56",
   "metadata": {},
   "outputs": [
    {
     "data": {
      "text/plain": [
       "[LexToken(BLADE_ECHO,'{{!!$person->name!!}}',1,0)]"
      ]
     },
     "execution_count": 4,
     "metadata": {},
     "output_type": "execute_result"
    }
   ],
   "source": [
    "from i18.lexer import Lexer\n",
    "lexer = Lexer()\n",
    "[token for token in lexer.tokenize(\"\"\"{{!!$person->name!!}}\"\"\")]"
   ]
  },
  {
   "cell_type": "markdown",
   "id": "d653633b",
   "metadata": {},
   "source": [
    "# Apply i18"
   ]
  },
  {
   "cell_type": "code",
   "execution_count": 1,
   "id": "37307365",
   "metadata": {},
   "outputs": [
    {
     "name": "stdout",
     "output_type": "stream",
     "text": [
      "\n",
      " <div>123 {{$x->g}}</div>\n",
      "\n"
     ]
    }
   ],
   "source": [
    "from i18 import apply_i18\n",
    "\n",
    "new_text, translations = apply_i18(\"\"\"\n",
    " <div>123 {{$x->g}}</div>\n",
    "\"\"\")\n",
    "print(new_text)"
   ]
  },
  {
   "cell_type": "code",
   "execution_count": 2,
   "id": "d407024d",
   "metadata": {},
   "outputs": [
    {
     "data": {
      "text/plain": [
       "False"
      ]
     },
     "execution_count": 2,
     "metadata": {},
     "output_type": "execute_result"
    }
   ],
   "source": [
    "translations != {'es': {}, 'en': {}}"
   ]
  },
  {
   "cell_type": "markdown",
   "id": "4aca02e7",
   "metadata": {},
   "source": [
    "# Tests"
   ]
  },
  {
   "cell_type": "code",
   "execution_count": 9,
   "id": "dcfacce6",
   "metadata": {},
   "outputs": [],
   "source": [
    "from i18.parser import parse, print_pretty\n",
    "from i18.grammars import html_grammar\n",
    "\n",
    "assert parse(html_grammar, \"<div>1</div>\").pretty() == \"start\\n  element\\n    tag\\tdiv\\n    group\\t1\\n    tag\\tdiv\\n\"\n",
    "assert parse(html_grammar, '<div @id.g=\"1\">1</div>').pretty() == 'start\\n  element\\n    tag\\tdiv\\n    attribute\\n      @\\n      id.g\\n      =\"1\"\\n    group\\t1\\n    tag\\tdiv\\n'\n",
    "assert parse(html_grammar, \"<div @id.g='1'>1</div>\").pretty() == \"start\\n  element\\n    tag\\tdiv\\n    attribute\\n      @\\n      id.g\\n      ='1'\\n    group\\t1\\n    tag\\tdiv\\n\"\n",
    "assert parse(html_grammar, \"<div :id.g.x.{{ $x}}='1'>1</div>\").pretty() == \"start\\n  element\\n    tag\\tdiv\\n    attribute\\n      :\\n      id.g.x.{{ $x}}\\n      ='1'\\n    group\\t1\\n    tag\\tdiv\\n\"\n",
    "assert parse(html_grammar, \"\"\"\n",
    "  <linearGradient id=\":R2m96:\" x1=\"11.5\" y1=\"18\" x2=\"36\" y2=\"15.5\"\n",
    "                                                gradientUnits=\"userSpaceOnUse\">\n",
    "                                    <stop offset=\".194\" stop-color=\"#fff\"></stop>\n",
    "                                    <stop offset=\"1\" stop-color=\"#6692F1\"></stop>\n",
    "                                </linearGradient>\n",
    "\n",
    "\"\"\").pretty() == 'start\\n  element\\n    tag\\tlinearGradient\\n    attribute\\n      id\\n      =\":R2m96:\"\\n    attribute\\n      x1\\n      =\"11.5\"\\n    attribute\\n      y1\\n      =\"18\"\\n    attribute\\n      x2\\n      =\"36\"\\n    attribute\\n      y2\\n      =\"15.5\"\\n    attribute\\n      gradientUnits\\n      =\"userSpaceOnUse\"\\n    element\\n      tag\\tstop\\n      attribute\\n        offset\\n        =\".194\"\\n      attribute\\n        stop-color\\n        =\"#fff\"\\n      tag\\tstop\\n    element\\n      tag\\tstop\\n      attribute\\n        offset\\n        =\"1\"\\n      attribute\\n        stop-color\\n        =\"#6692F1\"\\n      tag\\tstop\\n    tag\\tlinearGradient\\n'\n",
    "assert parse(html_grammar, \"\"\"\n",
    "  @error($parameter->name) <span  class=\"text-sm text-red-500\"> {{$message}}</span> @enderror\n",
    "\"\"\").pretty() == 'start\\n  element\\n    args\\n      expression\\n        method_call\\n          variable\\tparameter\\n          name\\n    start\\n      element\\n        tag\\tspan\\n        attribute\\n          class\\n          =\"text-sm text-red-500\"\\n        group\\t {{$message}}\\n        tag\\tspan\\n'\n",
    "assert parse(html_grammar, \"\"\"\n",
    "<div class=\"p-16\">\n",
    "    <p x-data=\"{length: 25}\"\n",
    "       x-init=\"originalContent = $el.firstElementChild.textContent.trim()\">\n",
    "        <span x-text=\"originalContent.slice(0, length)\">Lorem ipsum dolor sit amet, consectetur adipiscing elit, sed do eiusmod tempor incididunt ut labore et dolore magna aliqua. Ut enim ad minim veniam, quis nostrud exercitation ullamco laboris nisi ut aliquip ex ea commodo consequat. Duis aute irure dolor in reprehenderit in voluptate velit esse cillum dolore eu fugiat nulla pariatur. Excepteur sint occaecat cupidatat non proident, sunt in culpa qui officia deserunt mollit anim id est laborum.</span>\n",
    "        <button x-cloak @click=\"length = undefined\" x-show=\"length\">...</button>\n",
    "    </p>\n",
    "</div>\n",
    "\"\"\").pretty() == 'start\\n  element\\n    tag\\tdiv\\n    attribute\\n      class\\n      =\"p-16\"\\n    element\\n      tag\\tp\\n      attribute\\n        x-data\\n        =\"{length: 25}\"\\n      attribute\\n        x-init\\n        =\"originalContent = $el.firstElementChild.textContent.trim()\"\\n      element\\n        tag\\tspan\\n        attribute\\n          x-text\\n          =\"originalContent.slice(0, length)\"\\n        group\\tLorem ipsum dolor sit amet, consectetur adipiscing elit, sed do eiusmod tempor incididunt ut labore et dolore magna aliqua. Ut enim ad minim veniam, quis nostrud exercitation ullamco laboris nisi ut aliquip ex ea commodo consequat. Duis aute irure dolor in reprehenderit in voluptate velit esse cillum dolore eu fugiat nulla pariatur. Excepteur sint occaecat cupidatat non proident, sunt in culpa qui officia deserunt mollit anim id est laborum.\\n        tag\\tspan\\n      group\\t\\n        \\n      element\\n        tag\\tbutton\\n        attribute\\tx-cloak \\n        attribute\\n          @\\n          click\\n          =\"length = undefined\"\\n        attribute\\n          x-show\\n          =\"length\"\\n        group\\t...\\n        tag\\tbutton\\n      tag\\tp\\n    tag\\tdiv\\n'\n",
    "assert parse(html_grammar, \"\"\"\n",
    " <div>\n",
    "   @if (is_null($batch->job))\n",
    "      <div><button>1</button></div> \n",
    "   @elseif ($batch->job->hasPendingJobs())\n",
    "     \n",
    "   @elseif ($batch->job->finished())\n",
    "      <div>3</div>\n",
    "   @else\n",
    "      <div>4</div>\n",
    "   @endif   \n",
    " </div>\n",
    "\"\"\").pretty() == 'start\\n  element\\n    tag\\tdiv\\n    element\\n      args\\n        expression\\n          function_call\\n            is_null\\n            args\\n              expression\\n                method_call\\n                  variable\\tbatch\\n                  job\\n      start\\n        element\\n          tag\\tdiv\\n          element\\n            tag\\tbutton\\n            group\\t1\\n            tag\\tbutton\\n          tag\\tdiv\\n      args\\n        expression\\n          method_call\\n            variable\\tbatch\\n            job\\n            hasPendingJobs\\n      start\\n        group\\t\\n     \\n   \\n      args\\n        expression\\n          method_call\\n            variable\\tbatch\\n            job\\n            finished\\n      start\\n        element\\n          tag\\tdiv\\n          group\\t3\\n          tag\\tdiv\\n      start\\n        element\\n          tag\\tdiv\\n          group\\t4\\n          tag\\tdiv\\n    tag\\tdiv\\n'"
   ]
  },
  {
   "cell_type": "code",
   "execution_count": 10,
   "id": "cef40c3a",
   "metadata": {},
   "outputs": [
    {
     "name": "stdout",
     "output_type": "stream",
     "text": [
      "start\n",
      "  element\n",
      "    tag\tdiv\n",
      "    element\n",
      "      args\n",
      "        expression\n",
      "          function_call\n",
      "            is_null\n",
      "            args\n",
      "              expression\n",
      "                method_call\n",
      "                  variable\tbatch\n",
      "                  job\n",
      "      start\n",
      "        element\n",
      "          tag\tdiv\n",
      "          element\n",
      "            tag\tbutton\n",
      "            group\t1\n",
      "            tag\tbutton\n",
      "          tag\tdiv\n",
      "      args\n",
      "        expression\n",
      "          method_call\n",
      "            variable\tbatch\n",
      "            job\n",
      "            hasPendingJobs\n",
      "      start\n",
      "        element\n",
      "          tag\tdiv\n",
      "          group\t1\n",
      "          tag\tdiv\n",
      "      args\n",
      "        expression\n",
      "          expression\n",
      "            method_call\n",
      "              variable\tbatch\n",
      "              job\n",
      "              finished\n",
      "          binary_op\n",
      "          expression\n",
      "            literal\tnull\n",
      "      start\n",
      "        element\n",
      "          tag\tdiv\n",
      "          group\t3\n",
      "          tag\tdiv\n",
      "      start\n",
      "        element\n",
      "          tag\tdiv\n",
      "          group\t4\n",
      "          tag\tdiv\n",
      "    tag\tdiv\n",
      "\n"
     ]
    }
   ],
   "source": [
    "print_pretty(html_grammar, \"\"\"\n",
    " <div>\n",
    "   @if (is_null($batch->job))\n",
    "      <div><button>1</button></div> \n",
    "   @elseif ($batch->job->hasPendingJobs())\n",
    "     <div>1</div>\n",
    "   @elseif ($batch->job->finished() <> null)\n",
    "      <div>3</div>\n",
    "   @else\n",
    "      <div>4</div>\n",
    "   @endif   \n",
    " </div>\n",
    "\"\"\")"
   ]
  },
  {
   "cell_type": "code",
   "execution_count": 4,
   "id": "a43d1ba2",
   "metadata": {},
   "outputs": [
    {
     "data": {
      "text/plain": [
       "'start\\n  element\\n    tag\\tdiv\\n    attribute\\n      class\\n      =\"p-16\"\\n    element\\n      tag\\tp\\n      attribute\\n        x-data\\n        =\"{length: 25}\"\\n      attribute\\n        x-init\\n        =\"originalContent = $el.firstElementChild.textContent.trim()\"\\n      element\\n        tag\\tspan\\n        attribute\\n          x-text\\n          =\"originalContent.slice(0, length)\"\\n        group\\tLorem ipsum dolor sit amet, consectetur adipiscing elit, sed do eiusmod tempor incididunt ut labore et dolore magna aliqua. Ut enim ad minim veniam, quis nostrud exercitation ullamco laboris nisi ut aliquip ex ea commodo consequat. Duis aute irure dolor in reprehenderit in voluptate velit esse cillum dolore eu fugiat nulla pariatur. Excepteur sint occaecat cupidatat non proident, sunt in culpa qui officia deserunt mollit anim id est laborum.\\n        tag\\tspan\\n      group\\t\\n        \\n      element\\n        tag\\tbutton\\n        attribute\\tx-cloak \\n        attribute\\n          @\\n          click\\n          =\"length = undefined\"\\n        attribute\\n          x-show\\n          =\"length\"\\n        group\\t...\\n        tag\\tbutton\\n      tag\\tp\\n    tag\\tdiv\\n'"
      ]
     },
     "execution_count": 4,
     "metadata": {},
     "output_type": "execute_result"
    }
   ],
   "source": [
    "parse(html_grammar, \"\"\"\n",
    "<div class=\"p-16\">\n",
    "    <p x-data=\"{length: 25}\"\n",
    "       x-init=\"originalContent = $el.firstElementChild.textContent.trim()\">\n",
    "        <span x-text=\"originalContent.slice(0, length)\">Lorem ipsum dolor sit amet, consectetur adipiscing elit, sed do eiusmod tempor incididunt ut labore et dolore magna aliqua. Ut enim ad minim veniam, quis nostrud exercitation ullamco laboris nisi ut aliquip ex ea commodo consequat. Duis aute irure dolor in reprehenderit in voluptate velit esse cillum dolore eu fugiat nulla pariatur. Excepteur sint occaecat cupidatat non proident, sunt in culpa qui officia deserunt mollit anim id est laborum.</span>\n",
    "        <button x-cloak @click=\"length = undefined\" x-show=\"length\">...</button>\n",
    "    </p>\n",
    "</div>\n",
    "\"\"\").pretty()"
   ]
  },
  {
   "cell_type": "code",
   "execution_count": null,
   "id": "15a1997a",
   "metadata": {},
   "outputs": [],
   "source": []
  }
 ],
 "metadata": {
  "kernelspec": {
   "display_name": "Python 3 (ipykernel)",
   "language": "python",
   "name": "python3"
  },
  "language_info": {
   "codemirror_mode": {
    "name": "ipython",
    "version": 3
   },
   "file_extension": ".py",
   "mimetype": "text/x-python",
   "name": "python",
   "nbconvert_exporter": "python",
   "pygments_lexer": "ipython3",
   "version": "3.10.9"
  }
 },
 "nbformat": 4,
 "nbformat_minor": 5
}
