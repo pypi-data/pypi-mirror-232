{
 "cells": [
  {
   "cell_type": "code",
   "execution_count": 1,
   "id": "d0280066-a346-44f1-911d-49895d07a6c3",
   "metadata": {
    "tags": []
   },
   "outputs": [],
   "source": [
    "# Jupyter notebook related\n",
    "%reload_ext autoreload\n",
    "%autoreload 2"
   ]
  },
  {
   "cell_type": "code",
   "execution_count": 2,
   "id": "62d1c3b3-5fc7-477c-9e06-9e63f0a15b19",
   "metadata": {},
   "outputs": [
    {
     "ename": "ModuleNotFoundError",
     "evalue": "No module named 'satio_pc'",
     "output_type": "error",
     "traceback": [
      "\u001b[0;31m---------------------------------------------------------------------------\u001b[0m",
      "\u001b[0;31mModuleNotFoundError\u001b[0m                       Traceback (most recent call last)",
      "Cell \u001b[0;32mIn[2], line 2\u001b[0m\n\u001b[1;32m      1\u001b[0m \u001b[38;5;28;01mimport\u001b[39;00m \u001b[38;5;21;01mgeopandas\u001b[39;00m \u001b[38;5;28;01mas\u001b[39;00m \u001b[38;5;21;01mgpd\u001b[39;00m\n\u001b[0;32m----> 2\u001b[0m \u001b[38;5;28;01mfrom\u001b[39;00m \u001b[38;5;21;01msatio_pc\u001b[39;00m\u001b[38;5;21;01m.\u001b[39;00m\u001b[38;5;21;01mgrid\u001b[39;00m \u001b[38;5;28;01mimport\u001b[39;00m get_blocks_gdf\n\u001b[1;32m      3\u001b[0m \u001b[38;5;28;01mfrom\u001b[39;00m \u001b[38;5;21;01mdask\u001b[39;00m \u001b[38;5;28;01mimport\u001b[39;00m delayed\n\u001b[1;32m      5\u001b[0m \u001b[38;5;66;03m# from elogs import Elogs, ElogsTask\u001b[39;00m\n",
      "\u001b[0;31mModuleNotFoundError\u001b[0m: No module named 'satio_pc'"
     ]
    }
   ],
   "source": [
    "import geopandas as gpd\n",
    "from satio_pc.grid import get_blocks_gdf\n",
    "from dask import delayed\n",
    "\n",
    "# from elogs import Elogs, ElogsTask\n",
    "\n",
    "with open('../../../connstr_vegteam') as f:\n",
    "    connect_str = f.read()\n",
    "container_name = 'sen4ldn'\n",
    "\n",
    "# Test tiles for SEN4LDN\n",
    "\n",
    "# Uganda: 36NUG\n",
    "# Portugal: 29TNE\n",
    "# Colombia: 18NUJ"
   ]
  },
  {
   "cell_type": "code",
   "execution_count": 3,
   "id": "bbc69b2d-d3b3-4011-8700-5276f0792e7c",
   "metadata": {
    "tags": []
   },
   "outputs": [
    {
     "ename": "ModuleNotFoundError",
     "evalue": "No module named 'satio_pc'",
     "output_type": "error",
     "traceback": [
      "\u001b[0;31m---------------------------------------------------------------------------\u001b[0m",
      "\u001b[0;31mModuleNotFoundError\u001b[0m                       Traceback (most recent call last)",
      "Cell \u001b[0;32mIn[3], line 1\u001b[0m\n\u001b[0;32m----> 1\u001b[0m \u001b[38;5;28;01mfrom\u001b[39;00m \u001b[38;5;21;01msatio_pc\u001b[39;00m\u001b[38;5;21;01m.\u001b[39;00m\u001b[38;5;21;01mutils\u001b[39;00m\u001b[38;5;21;01m.\u001b[39;00m\u001b[38;5;21;01mazure\u001b[39;00m \u001b[38;5;28;01mimport\u001b[39;00m AzureBlobReader\n\u001b[1;32m      3\u001b[0m azure \u001b[38;5;241m=\u001b[39m AzureBlobReader(connect_str,\n\u001b[1;32m      4\u001b[0m                         container_name)\n\u001b[1;32m      5\u001b[0m azure\u001b[38;5;241m.\u001b[39mlist_files()\n",
      "\u001b[0;31mModuleNotFoundError\u001b[0m: No module named 'satio_pc'"
     ]
    }
   ],
   "source": [
    "from satio_pc.utils.azure import AzureBlobReader\n",
    "\n",
    "azure = AzureBlobReader(connect_str,\n",
    "                        container_name)\n",
    "azure.list_files()\n",
    "# for fn in azure.list_files():\n",
    "#     azure.delete_file(fn)"
   ]
  },
  {
   "cell_type": "code",
   "execution_count": 31,
   "id": "0c91742a-fee9-493c-b42e-8a53cbbd0fbd",
   "metadata": {
    "tags": []
   },
   "outputs": [
    {
     "data": {
      "text/plain": [
       "['features/2018/s2/18NUJ/satio-features-s2_18NUJ_000_2018.tif',\n",
       " 'logs/done/2018/s2/done_18NUJ_000_2018.log',\n",
       " 'logs/proc/2018/s2/proc_18NUJ_000_2018.log']"
      ]
     },
     "execution_count": 31,
     "metadata": {},
     "output_type": "execute_result"
    }
   ],
   "source": [
    "azure.list_files()"
   ]
  },
  {
   "cell_type": "code",
   "execution_count": 32,
   "id": "00e5e442-e731-4663-a949-c5b287cbaabf",
   "metadata": {
    "tags": []
   },
   "outputs": [],
   "source": [
    "azure.download_file('features/2018/s2/18NUJ/satio-features-s2_18NUJ_000_2018.tif', 'satio-features-s2_18NUJ_000_2018.tif')"
   ]
  },
  {
   "cell_type": "code",
   "execution_count": 17,
   "id": "2800bc84-e2ab-48c4-abae-477b71bde90a",
   "metadata": {},
   "outputs": [],
   "source": [
    "from satio_pc.sentinel2 import load_l2a\n",
    "from satio_pc.extraction import S2BlockExtractor\n",
    "\n",
    "\n",
    "settings = {\n",
    "\n",
    "    \"l2a\": {\n",
    "        \"max_cloud_cover\": 90,\n",
    "        \"composite\": {\"freq\": 10, \"window\": 20},\n",
    "        \"mask\": {\"erode_r\": 3,\n",
    "                 \"dilate_r\": 13,\n",
    "                 \"max_invalid_ratio\": 1}},\n",
    "\n",
    "    \"gamma0\": {\n",
    "        \"composite\": {\"freq\": 10, \"window\": 10}},\n",
    "}\n",
    "\n",
    "\n",
    "tiles = '18NUJ 29TNE 36NUG'.split()\n",
    "\n",
    "blocks_gdf = get_blocks_gdf(tiles)\n",
    "blocks_gdf = blocks_gdf[blocks_gdf['area'] == 104857600]  # only squares, bug on others\n",
    "blocks_gdf = blocks_gdf.sort_values('block_id')"
   ]
  },
  {
   "cell_type": "code",
   "execution_count": 18,
   "id": "a4aa3fd0-a2c0-4383-8bdc-063468ee5ad8",
   "metadata": {
    "tags": []
   },
   "outputs": [
    {
     "data": {
      "text/plain": [
       "area\n",
       "104857600.0    300\n",
       "Name: count, dtype: int64"
      ]
     },
     "execution_count": 18,
     "metadata": {},
     "output_type": "execute_result"
    }
   ],
   "source": [
    "blocks_gdf['area'].value_counts()"
   ]
  },
  {
   "cell_type": "code",
   "execution_count": 27,
   "id": "f9b86495-ef17-49e8-9028-d526696f6cbc",
   "metadata": {
    "tags": []
   },
   "outputs": [],
   "source": [
    "block = next(blocks_gdf.iloc[[10]].itertuples())"
   ]
  },
  {
   "cell_type": "code",
   "execution_count": null,
   "id": "360f835e-66a1-42ec-88ca-46e777aa7996",
   "metadata": {},
   "outputs": [],
   "source": []
  },
  {
   "cell_type": "code",
   "execution_count": 33,
   "id": "a89c5e09-26a9-49a5-9d06-82ed48740243",
   "metadata": {
    "tags": []
   },
   "outputs": [],
   "source": [
    "bands = [f'B{b:02d}' for b in (2, 3, 4, 8, 11, 12)]\n",
    "indices = ['ndvi']\n",
    "\n",
    "def extract_s2(block, year):\n",
    "    print(block.tile, block.block_id, year)\n",
    "    extractor = S2BlockExtractor(block.tile,\n",
    "                                 block.block_id,\n",
    "                                 year,\n",
    "                                 bands=bands,\n",
    "                                 indices=indices,\n",
    "                                 output_folder='/tmp',\n",
    "                                 connection_str=connect_str,\n",
    "                                 container_name=container_name)\n",
    "    \n",
    "    log_fn = f'logs/done/{year}/s2/done_{block.tile}_{block.block_id}_{year}.log'\n",
    "    done_logs = extractor._azure_client.list_files(prefix='logs/done/')\n",
    "    if log_fn in done_logs:\n",
    "        print(f'{block.tile} {block.block_id} {year} already extracted')\n",
    "        return None\n",
    "    else:\n",
    "        extractor.extract()\n",
    "\n",
    "args = [(b, y) for b in blocks_gdf.itertuples()\n",
    "        for y in range(2018, 2023)]\n",
    " "
   ]
  },
  {
   "cell_type": "code",
   "execution_count": 34,
   "id": "9c9cc12d-b452-45a9-ac26-881cb57790de",
   "metadata": {},
   "outputs": [],
   "source": [
    "import multiprocessing"
   ]
  },
  {
   "cell_type": "code",
   "execution_count": null,
   "id": "1d5e6f82-ff94-416c-8356-578bbf9efdd6",
   "metadata": {
    "tags": []
   },
   "outputs": [],
   "source": [
    "for a in args:\n",
    "    p = multiprocessing.Process(target=extract_s2,\n",
    "                                args=a)\n",
    "    p.start()\n",
    "    p.join()\n"
   ]
  },
  {
   "cell_type": "markdown",
   "id": "396ed3f7-963d-4ff7-9795-0995aa12c210",
   "metadata": {},
   "source": [
    "bugs to fix:\n",
    "- weird line patterns\n",
    "- weird bands descriptions.\n",
    "- save as bytes with min max scaling and offset"
   ]
  },
  {
   "cell_type": "code",
   "execution_count": null,
   "id": "68b479d2-78c0-4078-8776-2e7a28322d2f",
   "metadata": {},
   "outputs": [],
   "source": []
  }
 ],
 "metadata": {
  "kernelspec": {
   "display_name": "Python 3 (ipykernel)",
   "language": "python",
   "name": "python3"
  },
  "language_info": {
   "codemirror_mode": {
    "name": "ipython",
    "version": 3
   },
   "file_extension": ".py",
   "mimetype": "text/x-python",
   "name": "python",
   "nbconvert_exporter": "python",
   "pygments_lexer": "ipython3",
   "version": "3.11.4"
  }
 },
 "nbformat": 4,
 "nbformat_minor": 5
}
