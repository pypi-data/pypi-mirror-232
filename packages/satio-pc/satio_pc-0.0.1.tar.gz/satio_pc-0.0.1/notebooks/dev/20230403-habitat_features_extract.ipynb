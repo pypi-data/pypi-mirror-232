{
 "cells": [
  {
   "cell_type": "code",
   "execution_count": 1,
   "id": "8e494475-6160-49f8-af6f-b56d06688ba0",
   "metadata": {},
   "outputs": [],
   "source": [
    "import geopandas as gpd\n",
    "from satio_pc.grid import get_blocks_gdf\n",
    "from dask import delayed\n",
    "\n",
    "# from elogs import Elogs, ElogsTask\n",
    "\n",
    "with open('../../../connstr') as f:\n",
    "    connect_str = f.read()\n",
    "\n",
    "# with open('../../../tap') as f:\n",
    "#     aws_access_key_id, aws_secret_access_key = f.read().split('\\n')\n",
    "\n",
    "\n",
    "tiles = '29TPJ, 29TQJ, 30TUP, 30TVP, 29TPH, 29TQH, 30TUN, 30TVN, 29TPG'.split(', ')\n",
    "\n",
    "aoi_fn = '../../../habitat_mapping_aoi.gpkg'\n",
    "aoi = gpd.read_file(aoi_fn).to_crs(epsg=4326)\n",
    "\n",
    "blocks_gdf = get_blocks_gdf(tiles)\n",
    "blocks_gdf = gpd.sjoin(blocks_gdf, aoi[['geometry']])\n"
   ]
  },
  {
   "cell_type": "code",
   "execution_count": 2,
   "id": "6e93ff0f-8522-4623-80d2-10ee1190e69f",
   "metadata": {},
   "outputs": [],
   "source": [
    "settings = {\n",
    "\n",
    "    \"l2a\": {\n",
    "        \"max_cloud_cover\": 90,\n",
    "        \"composite\": {\"freq\": 10, \"window\": 20},\n",
    "        \"mask\": {\"erode_r\": 3,\n",
    "                 \"dilate_r\": 13,\n",
    "                 \"max_invalid_ratio\": 1}},\n",
    "\n",
    "    \"gamma0\": {\n",
    "        \"composite\": {\"freq\": 10, \"window\": 10}},\n",
    "}"
   ]
  },
  {
   "cell_type": "code",
   "execution_count": 3,
   "id": "af083686-9861-4bdb-b9ca-063b5d8de3e4",
   "metadata": {},
   "outputs": [],
   "source": [
    "def preprocess_l2a(ds_dict,\n",
    "                   clouds_mask,\n",
    "                   start_date,\n",
    "                   end_date,\n",
    "                   composite_freq=10,\n",
    "                   composite_window=20,\n",
    "                   composite_mode='median',\n",
    "                   reflectance=True):\n",
    "\n",
    "    ds10_block = ds_dict[10].chunk((-1, -1, 512, 512))\n",
    "    ds20_block = ds_dict[20].chunk((-1, -1, 256, 256))\n",
    "    scl20_block = clouds_mask.chunk((-1, -1, 256, 256))\n",
    "\n",
    "    # timer10 = FeaturesTimer(10, 'l2a')\n",
    "    # timer20 = FeaturesTimer(20, 'l2a')\n",
    "\n",
    "    # download\n",
    "    logger.info(\"Loading block data\")\n",
    "    # timer10.load.start()\n",
    "    ds10_block = ds10_block.persist()\n",
    "    # timer10.load.stop()\n",
    "\n",
    "    # timer20.load.start()\n",
    "    ds20_block = ds20_block.persist()\n",
    "    scl20_block = scl20_block.persist()\n",
    "    scl10_block = scl20_block.ewc.rescale(scale=2,\n",
    "                                          order=0).persist()\n",
    "    # scl10_block = scl10_block.ewc.cache(tmpdirname)\n",
    "    # timer20.load.stop()\n",
    "\n",
    "    # 10m\n",
    "    # mask clouds\n",
    "    # timer10.composite.start()\n",
    "    ds10_block_masked = ds10_block.ewc.mask(\n",
    "        scl10_block)\n",
    "\n",
    "    logger.info(\"Compositing 10m block data\")\n",
    "    # composite\n",
    "    ds10_block_comp = ds10_block_masked.ewc.composite(\n",
    "        freq=composite_freq,\n",
    "        window=composite_window,\n",
    "        start=start_date,\n",
    "        end=end_date).persist()\n",
    "    # timer10.composite.stop()\n",
    "\n",
    "    logger.info(\"Interpolating 10m block data\")\n",
    "    # interpolation\n",
    "    # timer10.interpolate.start()\n",
    "    ds10_block_interp = ds10_block_comp.ewc.interpolate(\n",
    "    ).persist()\n",
    "    # timer10.interpolate.stop()\n",
    "\n",
    "    # 20m\n",
    "    # mask\n",
    "    # timer20.composite.start()\n",
    "    ds20_block_masked = ds20_block.ewc.mask(\n",
    "        scl20_block)\n",
    "\n",
    "    logger.info(\"Compositing 20m block data\")\n",
    "    # composite\n",
    "    ds20_block_comp = ds20_block_masked.ewc.composite(\n",
    "        freq=composite_freq,\n",
    "        window=composite_window,\n",
    "        start=start_date,\n",
    "        end=end_date).persist()\n",
    "    # timer20.composite.stop()\n",
    "\n",
    "    logger.info(\"Interpolating 20m block data\")\n",
    "    # interpolation\n",
    "    # timer20.interpolate.start()\n",
    "    ds20_block_interp = ds20_block_comp.ewc.interpolate(\n",
    "    ).persist()\n",
    "    # timer20.interpolate.stop()\n",
    "\n",
    "    logger.info(\"Merging 10m and 20m series\")\n",
    "    # merging to 10m cleaned data\n",
    "    ds20_block_interp_10m = ds20_block_interp.ewc.rescale(scale=2,\n",
    "                                                          order=1,\n",
    "                                                          nodata_value=0)\n",
    "    dsm10 = xr.concat([ds10_block_interp,\n",
    "                       ds20_block_interp_10m],\n",
    "                      dim='band')\n",
    "\n",
    "    if reflectance:\n",
    "        dsm10 = dsm10.astype(np.float32) / 10000\n",
    "\n",
    "    dsm10.attrs = ds10_block.attrs\n",
    "\n",
    "#     for t in timer10, timer20:\n",
    "#         t.load.log()\n",
    "#         t.composite.log()\n",
    "#         t.interpolate.log()\n",
    "\n",
    "#     for t in timer10, timer20:\n",
    "#         t.log()\n",
    "\n",
    "    dsm10 = dsm10.ewc.persist()\n",
    "\n",
    "    return dsm10"
   ]
  },
  {
   "cell_type": "code",
   "execution_count": 4,
   "id": "eb7b6665-5f79-43d4-907a-b7de26e3e798",
   "metadata": {},
   "outputs": [
    {
     "name": "stderr",
     "output_type": "stream",
     "text": [
      "2023-04-07 11:11:47.390 | WARNING  | satio_pc.sentinel2:filter_corrupted_items:57 - Discarding 1 / 109 corrupted products: ['S2A_MSIL2A_20220119T112411_R037_T29TPJ_20220120T013208']\n"
     ]
    }
   ],
   "source": [
    "import xarray as xr\n",
    "import dask.array as da\n",
    "from pyproj.crs import CRS\n",
    "from loguru import logger\n",
    "import tempfile\n",
    "from satio_pc.sentinel2 import load_l2a\n",
    "from satio_pc.preprocessing.clouds import preprocess_scl\n",
    "from satio_pc._habitat import RSI_META_S2_HABITAT\n",
    "from satio_pc.grid import get_blocks_gdf, tile_to_epsg\n",
    "\n",
    "# 29TPJ_073_2022\n",
    "year = 2022\n",
    "tile = '29TPJ'\n",
    "block_id = 73\n",
    "\n",
    "start_date = f'{year}-01-01'\n",
    "end_date = f'{year + 1}-01-01'\n",
    "max_cloud_cover = settings['l2a']['max_cloud_cover']\n",
    "\n",
    "blocks = get_blocks_gdf([tile])\n",
    "block = blocks[blocks.block_id == block_id].iloc[0]\n",
    "\n",
    "s2_dict = load_l2a(block.bounds,\n",
    "                   block.epsg,\n",
    "                   block.tile,\n",
    "                   start_date,\n",
    "                   end_date,\n",
    "                   max_cloud_cover=max_cloud_cover)\n",
    "\n",
    "# preprocess s2\n",
    "# tmpdir = tempfile.TemporaryDirectory(prefix='ewc_tmp-', dir=self.block_folder)\n",
    "\n",
    "# mask preparation\n",
    "mask_settings = settings['l2a']['mask']\n",
    "scl = preprocess_scl(s2_dict['scl'],\n",
    "                     **mask_settings)\n",
    "\n",
    "scl20_mask = scl.mask\n",
    "scl20_aux = scl.aux"
   ]
  },
  {
   "cell_type": "code",
   "execution_count": null,
   "id": "36a15cbd-4ed5-4292-9401-a819cb93ba66",
   "metadata": {},
   "outputs": [],
   "source": [
    "s2 = preprocess_l2a(s2_dict,\n",
    "                    scl20_mask,\n",
    "                    start_date,\n",
    "                    end_date,\n",
    "                    composite_freq=settings['l2a']['composite']['freq'],\n",
    "                    composite_window=settings['l2a']['composite'][\n",
    "                        'window'])"
   ]
  },
  {
   "cell_type": "code",
   "execution_count": null,
   "id": "cf423c76-aa24-4c73-8d74-701bbb8e4ca9",
   "metadata": {},
   "outputs": [],
   "source": [
    "s2"
   ]
  },
  {
   "cell_type": "code",
   "execution_count": null,
   "id": "df3188af-3368-4dc0-9cf2-4d4ef29f3435",
   "metadata": {},
   "outputs": [],
   "source": [
    "s2_indices = list(RSI_META_S2_HABITAT.keys())\n",
    "\n",
    "# compute indices\n",
    "s2_vi = s2.ewc.indices(s2_indices,\n",
    "                       rsi_meta=RSI_META_S2_HABITAT)\n",
    "\n",
    "# percentiles sensors and vis\n",
    "q = [10, 25, 50, 75, 90]\n",
    "ps = [s.ewc.percentile(q, name_prefix='s2') for s in (s2, s2_vi)]\n",
    "\n",
    "# fix time to same timestamp (only 1) to avoid concat issues\n",
    "# (different compositing settings for s2 and s1)\n",
    "for p in ps:\n",
    "    p['time'] = ps[0].time\n",
    "\n",
    "# ndvi 12 timestamps\n",
    "ndvi_ts = s2_vi.sel(band=['ndvi'])\n",
    "ndvi_ts = ndvi_ts.ewc.composite(freq=30,\n",
    "                                window=30,\n",
    "                                start=start_date,\n",
    "                                end=end_date)\n",
    "\n",
    "ndvi_ts = xr.DataArray(da.transpose(ndvi_ts.data, (1, 0, 2, 3)),\n",
    "                       dims=ps[0].dims,\n",
    "                       coords={'time': ps[0].time,\n",
    "                               'band': [f's2-ndvi-ts{i}'\n",
    "                                        for i in range(1, 13)],\n",
    "                               'y': ps[0].y,\n",
    "                               'x': ps[0].x},\n",
    "                       attrs=ps[0].attrs)\n",
    "\n",
    "# scl aux 10m\n",
    "scl10_aux = scl20_aux.ewc.rescale(scale=2, order=1)\n",
    "scl10_aux['time'] = ps[0].time\n",
    "\n",
    "final = xr.concat(ps + [ndvi_ts, scl10_aux], dim='band')\n",
    "final.name = 'satio-features-s2'\n",
    "\n",
    "logger.info(\"Computing features stack\")\n",
    "final = final.persist()\n",
    "final = final.squeeze()\n",
    "\n",
    "epsg = tile_to_epsg(tile)\n",
    "crs = CRS.from_epsg(epsg)\n",
    "final = final.rio.write_crs(crs)\n",
    "final_ds = final.to_dataset('band')\n",
    "\n",
    "output_folder = Path(self.block_folder)\n",
    "fn = output_folder / \\\n",
    "    f'{final.name}_{tile}_{block.block_id:03d}_{year}.tif'\n",
    "logger.info(f\"Saving features stack to {fn}\")\n",
    "final_ds.rio.to_raster(fn,\n",
    "                       windowed=False,\n",
    "                       tiled=True,\n",
    "                       compress='deflate',\n",
    "                       predictor=3,\n",
    "                       zlevel=4)\n",
    "\n",
    "return fn"
   ]
  },
  {
   "cell_type": "code",
   "execution_count": 3,
   "id": "48fae482-da4f-48d3-a100-e2bf18f6caff",
   "metadata": {},
   "outputs": [],
   "source": [
    "from satio_pc.utils.azure import AzureBlobReader\n",
    "\n",
    "az = AzureBlobReader(connect_str, 'habitat')"
   ]
  },
  {
   "cell_type": "code",
   "execution_count": 4,
   "id": "417602a6-3b54-49e9-989c-7781ad3c9c5e",
   "metadata": {},
   "outputs": [
    {
     "name": "stdout",
     "output_type": "stream",
     "text": [
      "features/2021/s2/29TPJ/satio-features-s2_29TPJ_071_2021.tif\n",
      "features/2022/s2/29TPJ/satio-features-s2_29TPJ_071_2022.tif\n",
      "logs/done/2021/s2/done_29TPJ_071_2021.log\n",
      "logs/done/2022/s2/done_29TPJ_071_2022.log\n",
      "logs/error/2022/s2/error_29TPJ_073_2022.log\n",
      "logs/proc/2021/s2/proc_29TPJ_071_2021.log\n",
      "logs/proc/2022/s2/proc_29TPJ_071_2022.log\n",
      "logs/proc/2022/s2/proc_29TPJ_073_2022.log\n"
     ]
    }
   ],
   "source": [
    "for blob in az.container_client.list_blobs():\n",
    "    print(blob.name)"
   ]
  },
  {
   "cell_type": "code",
   "execution_count": 10,
   "id": "aebc27e6-0332-4eea-b7c5-06b7e6663375",
   "metadata": {},
   "outputs": [],
   "source": [
    "import io\n",
    "\n",
    "def read_txt(self, blob_name):\n",
    "    blob_client = self.container_client.get_blob_client(blob_name)\n",
    "    data_stream = io.BytesIO()\n",
    "    blob_client.download_blob().download_to_stream(data_stream)\n",
    "    data_stream.seek(0)\n",
    "    return data_stream.read().decode(\"utf-8\")"
   ]
  },
  {
   "cell_type": "code",
   "execution_count": 11,
   "id": "86b45a0e-7c74-4f5b-9ad3-b2ce034030de",
   "metadata": {},
   "outputs": [],
   "source": [
    "blob_name = 'logs/error/2021/s2/error_29TPJ_073_2021.log'\n",
    "txt = read_txt(az, blob_name)"
   ]
  },
  {
   "cell_type": "markdown",
   "id": "a291bb75-e988-4020-9fe2-ce7be737be1f",
   "metadata": {},
   "source": [
    "# Cluster setup"
   ]
  },
  {
   "cell_type": "code",
   "execution_count": 18,
   "id": "631eec00-5dde-46da-ab76-5c1aa0bfe209",
   "metadata": {},
   "outputs": [],
   "source": [
    "# from dask_gateway import Gateway\n",
    "# gateway = Gateway()\n",
    "\n",
    "# clusters = gateway.list_clusters()\n",
    "\n",
    "# gateway.stop_cluster(clusters[1].name)"
   ]
  },
  {
   "cell_type": "code",
   "execution_count": 3,
   "id": "356bd33b-d6ba-4a32-877f-8973cc12fccb",
   "metadata": {},
   "outputs": [],
   "source": [
    "from dask.distributed import PipInstall, Client\n",
    "import dask_gateway\n",
    "\n",
    "cluster = dask_gateway.GatewayCluster()\n",
    "client = cluster.get_client()"
   ]
  },
  {
   "cell_type": "code",
   "execution_count": 4,
   "id": "89309f0d-7d48-4a8d-a24f-d8a28d739d26",
   "metadata": {},
   "outputs": [
    {
     "name": "stdout",
     "output_type": "stream",
     "text": [
      "https://pccompute.westeurope.cloudapp.azure.com/compute/services/dask-gateway/clusters/prod.5f189b1d4b0346499202a61caf3c4655/status\n"
     ]
    }
   ],
   "source": [
    "# cluster.adapt(minimum=5, maximum=100)\n",
    "cluster.scale(20)\n",
    "\n",
    "# plugin = PipInstall(packages=[\"git+https://github.com/dzanaga/satio-pc/tree/main/satio_pc\"], pip_options=[\"--upgrade\"])\n",
    "# client.register_worker_plugin(plugin)\n",
    "satio_pc_url = \"git+https://github.com/dzanaga/satio-pc.git@main\"\n",
    "elogs_url = \"http://s3-eu-central-1.amazonaws.com/vito-worldcover-public/wheels/elogs-0.1.5-py3-none-any.whl\"\n",
    "plugin = PipInstall(packages=[satio_pc_url,\n",
    "                              elogs_url],\n",
    "                    pip_options=[\"--upgrade\"])\n",
    "client.register_worker_plugin(plugin)\n",
    "\n",
    "print(client.dashboard_link)"
   ]
  },
  {
   "cell_type": "code",
   "execution_count": 21,
   "id": "837e89ea-9d6f-490f-a4f6-80d28485340b",
   "metadata": {},
   "outputs": [],
   "source": [
    "# client.upload_file('s2feats.py')"
   ]
  },
  {
   "cell_type": "code",
   "execution_count": 3,
   "id": "2ab1e0d8-f5f9-45c5-908c-0d11cfd7f5be",
   "metadata": {},
   "outputs": [],
   "source": [
    "# !pip uninstall elogs -y"
   ]
  },
  {
   "cell_type": "code",
   "execution_count": 4,
   "id": "5abe0c4b-1113-46e5-b570-f52275c1a0c7",
   "metadata": {},
   "outputs": [],
   "source": [
    "!pip install \"http://s3-eu-central-1.amazonaws.com/vito-worldcover-public/wheels/elogs-0.1.5-py3-none-any.whl\""
   ]
  },
  {
   "cell_type": "code",
   "execution_count": 13,
   "id": "390f114d-d256-4a26-94b2-113bf5c255ce",
   "metadata": {},
   "outputs": [
    {
     "data": {
      "text/plain": [
       "dict_keys(['type', 'id', 'address', 'services', 'started', 'workers'])"
      ]
     },
     "execution_count": 13,
     "metadata": {},
     "output_type": "execute_result"
    }
   ],
   "source": [
    "scheduler_info.keys()"
   ]
  },
  {
   "cell_type": "markdown",
   "id": "5d001eed-5d3f-41aa-a622-bfcef1b3dec4",
   "metadata": {
    "tags": []
   },
   "source": [
    "# L2A Features"
   ]
  },
  {
   "cell_type": "code",
   "execution_count": 5,
   "id": "c3fae364-319d-474b-a478-69058b1c8510",
   "metadata": {},
   "outputs": [],
   "source": [
    "import dask\n",
    "import subprocess\n",
    "from dataclasses import dataclass\n",
    "\n",
    "# def process(block):\n",
    "#     cmd = f'ewc l2a {block.tile} {block.block_id} {year} -r habitat -c -k \"{connect_str}\"'\n",
    "#     p = subprocess.run(cmd.split())\n",
    "#     return p.returncode\n",
    "\n",
    "def process(args):\n",
    "    from satio_pc.extraction import S2BlockExtractor\n",
    "    s2ex = S2BlockExtractor(args.tile,\n",
    "                            args.block_id,\n",
    "                            args.year,\n",
    "                            output_folder=args.output,\n",
    "                            connection_str=args.connstr,\n",
    "                            container_name=args.container,\n",
    "                            cleanup=args.cleanup,\n",
    "                            terminate_if_failed=args.terminate)\n",
    "\n",
    "    s2ex.extract()\n",
    "    \n",
    "    \n",
    "# def process(args):\n",
    "#     import satio_pc.cli\n",
    "#     script = satio_pc.cli.__file__\n",
    "    \n",
    "#     cmd = (f'python {script} l2a '\n",
    "#            f'{args.tile} {args.block_id} {args.year} '\n",
    "#            f'-r {args.container} -k \"{args.connstr}\" ')\n",
    "#     if args.cleanup:\n",
    "#         cmd += '-c '\n",
    "    \n",
    "#     p = subprocess.run(cmd.split())\n",
    "#     return p.returncode"
   ]
  },
  {
   "cell_type": "code",
   "execution_count": 49,
   "id": "a1ce17de-b3f4-493a-a579-111dce6f349d",
   "metadata": {},
   "outputs": [],
   "source": [
    "# workers = client.scheduler_info()['workers']"
   ]
  },
  {
   "cell_type": "code",
   "execution_count": 50,
   "id": "a6f5c133-c7ea-4013-8a4a-97394e3b1493",
   "metadata": {},
   "outputs": [],
   "source": [
    "# workers_names = list(workers.keys())"
   ]
  },
  {
   "cell_type": "code",
   "execution_count": null,
   "id": "4eda16fe-0fa7-4866-a960-b9b4d19ed043",
   "metadata": {},
   "outputs": [],
   "source": [
    "tasks = [client.submit(process, arg, workers=worker) for arg, worker in zip(args[:20], workers)]"
   ]
  },
  {
   "cell_type": "code",
   "execution_count": 6,
   "id": "645eac7f-592b-46fb-8441-c0907ef5c533",
   "metadata": {},
   "outputs": [],
   "source": [
    "@dataclass\n",
    "class Args:\n",
    "    tile: str\n",
    "    block_id: int\n",
    "    year: int\n",
    "    output: str\n",
    "    connstr: str\n",
    "    container: str\n",
    "    cleanup: bool\n",
    "    terminate: bool"
   ]
  },
  {
   "cell_type": "code",
   "execution_count": 7,
   "id": "5e3a6a1c-1f93-4cda-8c22-db64fd4b1420",
   "metadata": {},
   "outputs": [],
   "source": [
    "output_folder = '.'\n",
    "container_name = 'habitat'\n",
    "cleanup = True\n",
    "terminate_if_failed = False\n",
    "\n",
    "blocks = list(blocks_gdf.itertuples())\n",
    "args = [Args(block.tile,\n",
    "             block.block_id,\n",
    "             year,\n",
    "             output_folder,\n",
    "             connect_str,\n",
    "             container_name,\n",
    "             cleanup,\n",
    "             terminate_if_failed)\n",
    "        for block in blocks\n",
    "        for year in (2021, 2022)]\n"
   ]
  },
  {
   "cell_type": "code",
   "execution_count": 12,
   "id": "e961d97d-96ab-4027-b83d-abf88acda350",
   "metadata": {},
   "outputs": [
    {
     "name": "stderr",
     "output_type": "stream",
     "text": [
      "/srv/conda/envs/notebook/lib/python3.10/site-packages/dask_gateway/client.py:1014: RuntimeWarning: coroutine 'rpc.close_rpc' was never awaited\n",
      "  self.scheduler_comm.close_rpc()\n",
      "RuntimeWarning: Enable tracemalloc to get the object allocation traceback\n"
     ]
    }
   ],
   "source": [
    "cluster.shutdown()"
   ]
  },
  {
   "cell_type": "code",
   "execution_count": 10,
   "id": "3a2f20e3-82b5-4ea7-b81f-c8315aa4a94a",
   "metadata": {},
   "outputs": [],
   "source": [
    "futures = client.map(process, args[:3])\n",
    "# results = client.gather(futures)"
   ]
  },
  {
   "cell_type": "code",
   "execution_count": 12,
   "id": "a57f9e5e-c319-4d29-83d2-f6467eec4ea7",
   "metadata": {},
   "outputs": [],
   "source": [
    "futures2 = client.map(process, args[3:6])"
   ]
  },
  {
   "cell_type": "code",
   "execution_count": 18,
   "id": "5fe29c9e-27ec-4288-ac76-588badf64a3e",
   "metadata": {},
   "outputs": [
    {
     "data": {
      "text/plain": [
       "[<Future: finished, type: NoneType, key: process-c4ebd2a393efcce448edb9d02871be74>,\n",
       " <Future: finished, type: NoneType, key: process-8a5956550ed70d4969df4ec869cfd795>,\n",
       " <Future: pending, key: process-01df6f2c8669d8c03be42d2df75214be>]"
      ]
     },
     "execution_count": 18,
     "metadata": {},
     "output_type": "execute_result"
    }
   ],
   "source": [
    "futures"
   ]
  },
  {
   "cell_type": "code",
   "execution_count": 19,
   "id": "c671cc18-045c-4a83-8822-e57ea78fa263",
   "metadata": {},
   "outputs": [
    {
     "data": {
      "text/plain": [
       "[<Future: pending, key: process-cf4444238dcbe39a4baa97a5e0bd860c>,\n",
       " <Future: pending, key: process-c7fcbd1721aff3b9ba6995b819b66f39>,\n",
       " <Future: finished, type: NoneType, key: process-af1fe9a286b33b15f80059d24de7a365>]"
      ]
     },
     "execution_count": 19,
     "metadata": {},
     "output_type": "execute_result"
    }
   ],
   "source": [
    "futures2"
   ]
  },
  {
   "cell_type": "code",
   "execution_count": 8,
   "id": "008e1f9f-ac44-449c-9d2a-cd4bfa164fd6",
   "metadata": {},
   "outputs": [
    {
     "name": "stderr",
     "output_type": "stream",
     "text": [
      "2023-04-07 11:29:39.439 | WARNING  | satio_pc.sentinel2:filter_corrupted_items:57 - Discarding 1 / 109 corrupted products: ['S2A_MSIL2A_20220119T112411_R037_T29TPJ_20220120T013208']\n",
      "2023-04-07 11:29:41.823 | INFO     | satio_pc.sentinel2:preprocess_l2a:287 - Loading block data\n",
      "2023-04-07 11:30:08.832 | ERROR    | satio_pc.extraction:_extract_s2_wrapper:133 - Features extraction failed: [Errno 13] Permission denied: b'/home/jovyan/PlanetaryComputerExamples/personal/satio-pc/notebooks/dev/ewc_29TPJ_073/ewc_tmp-w0o1giqf/ewc_tmp-7ycu5yby/satio-w0dhpum4.nc'\n",
      "Traceback (most recent call last):\n",
      "\n",
      "  File \"/srv/conda/envs/notebook/lib/python3.10/runpy.py\", line 196, in _run_module_as_main\n",
      "    return _run_code(code, main_globals, None,\n",
      "           │         │     └ {'__name__': '__main__', '__doc__': 'Entry point for launching an IPython kernel.\\n\\nThis is separate from the ipykernel pack...\n",
      "           │         └ <code object <module> at 0x7f60e7a41f20, file \"/srv/conda/envs/notebook/lib/python3.10/site-packages/ipykernel_launcher.py\", ...\n",
      "           └ <function _run_code at 0x7f60e7879750>\n",
      "  File \"/srv/conda/envs/notebook/lib/python3.10/runpy.py\", line 86, in _run_code\n",
      "    exec(code, run_globals)\n",
      "         │     └ {'__name__': '__main__', '__doc__': 'Entry point for launching an IPython kernel.\\n\\nThis is separate from the ipykernel pack...\n",
      "         └ <code object <module> at 0x7f60e7a41f20, file \"/srv/conda/envs/notebook/lib/python3.10/site-packages/ipykernel_launcher.py\", ...\n",
      "  File \"/srv/conda/envs/notebook/lib/python3.10/site-packages/ipykernel_launcher.py\", line 17, in <module>\n",
      "    app.launch_new_instance()\n",
      "    │   └ <bound method Application.launch_instance of <class 'ipykernel.kernelapp.IPKernelApp'>>\n",
      "    └ <module 'ipykernel.kernelapp' from '/srv/conda/envs/notebook/lib/python3.10/site-packages/ipykernel/kernelapp.py'>\n",
      "  File \"/srv/conda/envs/notebook/lib/python3.10/site-packages/traitlets/config/application.py\", line 978, in launch_instance\n",
      "    app.start()\n",
      "    │   └ <function IPKernelApp.start at 0x7f60e4d63a30>\n",
      "    └ <ipykernel.kernelapp.IPKernelApp object at 0x7f60e799a110>\n",
      "  File \"/srv/conda/envs/notebook/lib/python3.10/site-packages/ipykernel/kernelapp.py\", line 712, in start\n",
      "    self.io_loop.start()\n",
      "    │    │       └ <function BaseAsyncIOLoop.start at 0x7f60e69d4160>\n",
      "    │    └ <tornado.platform.asyncio.AsyncIOMainLoop object at 0x7f60e526cf10>\n",
      "    └ <ipykernel.kernelapp.IPKernelApp object at 0x7f60e799a110>\n",
      "  File \"/srv/conda/envs/notebook/lib/python3.10/site-packages/tornado/platform/asyncio.py\", line 199, in start\n",
      "    self.asyncio_loop.run_forever()\n",
      "    │    │            └ <function BaseEventLoop.run_forever at 0x7f60e71bbbe0>\n",
      "    │    └ <_UnixSelectorEventLoop running=True closed=False debug=False>\n",
      "    └ <tornado.platform.asyncio.AsyncIOMainLoop object at 0x7f60e526cf10>\n",
      "  File \"/srv/conda/envs/notebook/lib/python3.10/asyncio/base_events.py\", line 600, in run_forever\n",
      "    self._run_once()\n",
      "    │    └ <function BaseEventLoop._run_once at 0x7f60e71c5750>\n",
      "    └ <_UnixSelectorEventLoop running=True closed=False debug=False>\n",
      "  File \"/srv/conda/envs/notebook/lib/python3.10/asyncio/base_events.py\", line 1896, in _run_once\n",
      "    handle._run()\n",
      "    │      └ <function Handle._run at 0x7f60e715caf0>\n",
      "    └ <Handle Task.task_wakeup(<Future finis...040>, ...],))>)>\n",
      "  File \"/srv/conda/envs/notebook/lib/python3.10/asyncio/events.py\", line 80, in _run\n",
      "    self._context.run(self._callback, *self._args)\n",
      "    │    │            │    │           │    └ <member '_args' of 'Handle' objects>\n",
      "    │    │            │    │           └ <Handle Task.task_wakeup(<Future finis...040>, ...],))>)>\n",
      "    │    │            │    └ <member '_callback' of 'Handle' objects>\n",
      "    │    │            └ <Handle Task.task_wakeup(<Future finis...040>, ...],))>)>\n",
      "    │    └ <member '_context' of 'Handle' objects>\n",
      "    └ <Handle Task.task_wakeup(<Future finis...040>, ...],))>)>\n",
      "  File \"/srv/conda/envs/notebook/lib/python3.10/site-packages/ipykernel/kernelbase.py\", line 510, in dispatch_queue\n",
      "    await self.process_one()\n",
      "          │    └ <function Kernel.process_one at 0x7f60e55ce0e0>\n",
      "          └ <ipykernel.ipkernel.IPythonKernel object at 0x7f60e526c2b0>\n",
      "  File \"/srv/conda/envs/notebook/lib/python3.10/site-packages/ipykernel/kernelbase.py\", line 499, in process_one\n",
      "    await dispatch(*args)\n",
      "          │         └ ([<zmq.sugar.frame.Frame object at 0x7f6052f6ef00>, <zmq.sugar.frame.Frame object at 0x7f6052f6f740>, <zmq.sugar.frame.Frame ...\n",
      "          └ <bound method Kernel.dispatch_shell of <ipykernel.ipkernel.IPythonKernel object at 0x7f60e526c2b0>>\n",
      "  File \"/srv/conda/envs/notebook/lib/python3.10/site-packages/ipykernel/kernelbase.py\", line 406, in dispatch_shell\n",
      "    await result\n",
      "          └ <coroutine object Kernel.execute_request at 0x7f60530accf0>\n",
      "  File \"/srv/conda/envs/notebook/lib/python3.10/site-packages/ipykernel/kernelbase.py\", line 730, in execute_request\n",
      "    reply_content = await reply_content\n",
      "                          └ <coroutine object IPythonKernel.do_execute at 0x7f60530acdd0>\n",
      "  File \"/srv/conda/envs/notebook/lib/python3.10/site-packages/ipykernel/ipkernel.py\", line 383, in do_execute\n",
      "    res = shell.run_cell(\n",
      "          │     └ <function ZMQInteractiveShell.run_cell at 0x7f60e4d613f0>\n",
      "          └ <ipykernel.zmqshell.ZMQInteractiveShell object at 0x7f60e51dd1e0>\n",
      "  File \"/srv/conda/envs/notebook/lib/python3.10/site-packages/ipykernel/zmqshell.py\", line 528, in run_cell\n",
      "    return super().run_cell(*args, **kwargs)\n",
      "                             │       └ {'store_history': True, 'silent': False, 'cell_id': '008e1f9f-ac44-449c-9d2a-cd4bfa164fd6'}\n",
      "                             └ ('process(args[5])',)\n",
      "  File \"/srv/conda/envs/notebook/lib/python3.10/site-packages/IPython/core/interactiveshell.py\", line 2885, in run_cell\n",
      "    result = self._run_cell(\n",
      "             │    └ <function InteractiveShell._run_cell at 0x7f60e616ab90>\n",
      "             └ <ipykernel.zmqshell.ZMQInteractiveShell object at 0x7f60e51dd1e0>\n",
      "  File \"/srv/conda/envs/notebook/lib/python3.10/site-packages/IPython/core/interactiveshell.py\", line 2940, in _run_cell\n",
      "    return runner(coro)\n",
      "           │      └ <coroutine object InteractiveShell.run_cell_async at 0x7f60530acac0>\n",
      "           └ <function _pseudo_sync_runner at 0x7f60e614a680>\n",
      "  File \"/srv/conda/envs/notebook/lib/python3.10/site-packages/IPython/core/async_helpers.py\", line 129, in _pseudo_sync_runner\n",
      "    coro.send(None)\n",
      "    │    └ <method 'send' of 'coroutine' objects>\n",
      "    └ <coroutine object InteractiveShell.run_cell_async at 0x7f60530acac0>\n",
      "  File \"/srv/conda/envs/notebook/lib/python3.10/site-packages/IPython/core/interactiveshell.py\", line 3139, in run_cell_async\n",
      "    has_raised = await self.run_ast_nodes(code_ast.body, cell_name,\n",
      "                       │    │             │        │     └ '/tmp/ipykernel_2212/3961356006.py'\n",
      "                       │    │             │        └ [<ast.Expr object at 0x7f60530ca980>]\n",
      "                       │    │             └ <ast.Module object at 0x7f60530c8700>\n",
      "                       │    └ <function InteractiveShell.run_ast_nodes at 0x7f60e616ae60>\n",
      "                       └ <ipykernel.zmqshell.ZMQInteractiveShell object at 0x7f60e51dd1e0>\n",
      "  File \"/srv/conda/envs/notebook/lib/python3.10/site-packages/IPython/core/interactiveshell.py\", line 3318, in run_ast_nodes\n",
      "    if await self.run_code(code, result, async_=asy):\n",
      "             │    │        │     │              └ False\n",
      "             │    │        │     └ <ExecutionResult object at 7f60530c9960, execution_count=8 error_before_exec=None error_in_exec=None info=<ExecutionInfo obje...\n",
      "             │    │        └ <code object <module> at 0x7f605302d000, file \"/tmp/ipykernel_2212/3961356006.py\", line 1>\n",
      "             │    └ <function InteractiveShell.run_code at 0x7f60e616aef0>\n",
      "             └ <ipykernel.zmqshell.ZMQInteractiveShell object at 0x7f60e51dd1e0>\n",
      "  File \"/srv/conda/envs/notebook/lib/python3.10/site-packages/IPython/core/interactiveshell.py\", line 3378, in run_code\n",
      "    exec(code_obj, self.user_global_ns, self.user_ns)\n",
      "         │         │    │               │    └ {'__name__': '__main__', '__doc__': 'Automatically created module for IPython interactive environment', '__package__': None, ...\n",
      "         │         │    │               └ <ipykernel.zmqshell.ZMQInteractiveShell object at 0x7f60e51dd1e0>\n",
      "         │         │    └ <property object at 0x7f60e615a020>\n",
      "         │         └ <ipykernel.zmqshell.ZMQInteractiveShell object at 0x7f60e51dd1e0>\n",
      "         └ <code object <module> at 0x7f605302d000, file \"/tmp/ipykernel_2212/3961356006.py\", line 1>\n",
      "\n",
      "  File \"/tmp/ipykernel_2212/3961356006.py\", line 1, in <module>\n",
      "    process(args[5])\n",
      "    │       └ [Args(tile='29TPJ', block_id=71, year=2021, output='.', connstr='DefaultEndpointsProtocol=https;AccountName=planetarycomputer...\n",
      "    └ <function process at 0x7f6053119c60>\n",
      "\n",
      "  File \"/tmp/ipykernel_2212/2163273074.py\", line 21, in process\n",
      "    s2ex.extract()\n",
      "    │    └ <function S2BlockExtractor.extract at 0x7f6057b60f70>\n",
      "    └ <satio_pc.extraction.S2BlockExtractor object at 0x7f60530c9d50>\n",
      "\n",
      "  File \"/home/jovyan/PlanetaryComputerExamples/personal/satio-pc/satio_pc/extraction.py\", line 113, in extract\n",
      "    fn = self._extract_s2_wrapper()\n",
      "         │    └ <function S2BlockExtractor._extract_s2_wrapper at 0x7f6057b61000>\n",
      "         └ <satio_pc.extraction.S2BlockExtractor object at 0x7f60530c9d50>\n",
      "\n",
      "> File \"/home/jovyan/PlanetaryComputerExamples/personal/satio-pc/satio_pc/extraction.py\", line 129, in _extract_s2_wrapper\n",
      "    fn = self._extract_s2()\n",
      "         │    └ <function S2BlockExtractor._extract_s2 at 0x7f6057b61090>\n",
      "         └ <satio_pc.extraction.S2BlockExtractor object at 0x7f60530c9d50>\n",
      "\n",
      "  File \"/home/jovyan/PlanetaryComputerExamples/personal/satio-pc/satio_pc/extraction.py\", line 177, in _extract_s2\n",
      "    s2 = preprocess_l2a(s2_dict,\n",
      "         │              └ {10: <xarray.DataArray 'stackstac-e800bf0f91c6962e7afdaf4e43277d43' (time: 108,\n",
      "         │                                                             ...\n",
      "         └ <function preprocess_l2a at 0x7f6057b62050>\n",
      "\n",
      "  File \"/home/jovyan/PlanetaryComputerExamples/personal/satio-pc/satio_pc/sentinel2.py\", line 289, in preprocess_l2a\n",
      "    ds10_block = ds10_block.ewc.cache(tmpdirname)\n",
      "                 │          │         └ 'ewc_29TPJ_073/ewc_tmp-w0o1giqf/ewc_tmp-7ycu5yby'\n",
      "                 │          └ <xarray.core.extensions._CachedAccessor object at 0x7f60538d31f0>\n",
      "                 └ <xarray.DataArray 'stackstac-e800bf0f91c6962e7afdaf4e43277d43' (time: 108,\n",
      "                                                                     ...\n",
      "\n",
      "  File \"/home/jovyan/PlanetaryComputerExamples/personal/satio-pc/satio_pc/extension.py\", line 102, in cache\n",
      "    self._obj.to_netcdf(tmpfile.name)\n",
      "    │    │    │         │       └ '/home/jovyan/PlanetaryComputerExamples/personal/satio-pc/notebooks/dev/ewc_29TPJ_073/ewc_tmp-w0o1giqf/ewc_tmp-7ycu5yby/satio...\n",
      "    │    │    │         └ <tempfile._TemporaryFileWrapper object at 0x7f6052ab44c0>\n",
      "    │    │    └ <function DataArray.to_netcdf at 0x7f60693e09d0>\n",
      "    │    └ <xarray.DataArray 'stackstac-e800bf0f91c6962e7afdaf4e43277d43' (time: 108,\n",
      "    │                                                        ...\n",
      "    └ <satio_pc.extension.ESAWorldCoverTimeSeries object at 0x7f6052ab7f10>\n",
      "\n",
      "  File \"/srv/conda/envs/notebook/lib/python3.10/site-packages/xarray/core/dataarray.py\", line 3217, in to_netcdf\n",
      "    return to_netcdf(  # type: ignore  # mypy cannot resolve the overloads:(\n",
      "           └ <function to_netcdf at 0x7f6066c3cf70>\n",
      "  File \"/srv/conda/envs/notebook/lib/python3.10/site-packages/xarray/backends/api.py\", line 1219, in to_netcdf\n",
      "    writes = writer.sync(compute=compute)\n",
      "             │      │            └ True\n",
      "             │      └ <function ArrayWriter.sync at 0x7f60693fa0e0>\n",
      "             └ <xarray.backends.common.ArrayWriter object at 0x7f60528f3a80>\n",
      "  File \"/srv/conda/envs/notebook/lib/python3.10/site-packages/xarray/backends/common.py\", line 168, in sync\n",
      "    delayed_store = da.store(\n",
      "                    │  └ <function store at 0x7f606a734af0>\n",
      "                    └ <module 'dask.array' from '/srv/conda/envs/notebook/lib/python3.10/site-packages/dask/array/__init__.py'>\n",
      "  File \"/srv/conda/envs/notebook/lib/python3.10/site-packages/dask/array/core.py\", line 1230, in store\n",
      "    compute_as_if_collection(Array, store_dsk, map_keys, **kwargs)\n",
      "    │                        │      │          │           └ {'flush': True}\n",
      "    │                        │      │          └ [('store-map-a5d9f50f313834a47e54b74758004351', 0, 0, 0, 0), ('store-map-a5d9f50f313834a47e54b74758004351', 0, 1, 0, 0), ('st...\n",
      "    │                        │      └ HighLevelGraph with 2 layers.\n",
      "    │                        │        <dask.highlevelgraph.HighLevelGraph object at 0x7f6052747bb0>\n",
      "    │                        │         0. store-sources-c1ace1370502f54...\n",
      "    │                        └ <class 'dask.array.core.Array'>\n",
      "    └ <function compute_as_if_collection at 0x7f6071db4b80>\n",
      "  File \"/srv/conda/envs/notebook/lib/python3.10/site-packages/dask/base.py\", line 342, in compute_as_if_collection\n",
      "    return schedule(dsk2, keys, **kwargs)\n",
      "           │        │     │       └ {'flush': True}\n",
      "           │        │     └ [('store-map-a5d9f50f313834a47e54b74758004351', 0, 0, 0, 0), ('store-map-a5d9f50f313834a47e54b74758004351', 0, 1, 0, 0), ('st...\n",
      "           │        └ {('store-map-a5d9f50f313834a47e54b74758004351', 0, 0, 0, 0): ('asset_table_to_reader_and_window-concatenate-store-map-a5d9f50...\n",
      "           └ <bound method Client.get of <Client: 'tls://10.244.59.15:8786' processes=7 threads=7, memory=56.00 GiB>>\n",
      "  File \"/srv/conda/envs/notebook/lib/python3.10/site-packages/distributed/client.py\", line 3036, in get\n",
      "    results = self.gather(packed, asynchronous=asynchronous, direct=direct)\n",
      "              │    │      │                    │                    └ None\n",
      "              │    │      │                    └ None\n",
      "              │    │      └ [<Future: cancelled, key: ('store-map-a5d9f50f313834a47e54b74758004351', 0, 0, 0, 0)>, <Future: cancelled, key: ('store-map-a...\n",
      "              │    └ <function Client.gather at 0x7f60812e7f40>\n",
      "              └ <Client: 'tls://10.244.59.15:8786' processes=7 threads=7, memory=56.00 GiB>\n",
      "  File \"/srv/conda/envs/notebook/lib/python3.10/site-packages/distributed/client.py\", line 2210, in gather\n",
      "    return self.sync(\n",
      "           │    └ <function SyncMethodMixin.sync at 0x7f60692cd120>\n",
      "           └ <Client: 'tls://10.244.59.15:8786' processes=7 threads=7, memory=56.00 GiB>\n",
      "  File \"/srv/conda/envs/notebook/lib/python3.10/site-packages/distributed/utils.py\", line 338, in sync\n",
      "    return sync(\n",
      "           └ <function sync at 0x7f60692cd1b0>\n",
      "  File \"/srv/conda/envs/notebook/lib/python3.10/site-packages/distributed/utils.py\", line 405, in sync\n",
      "    raise exc.with_traceback(tb)\n",
      "          │   │              └ <traceback object at 0x7f60528f73c0>\n",
      "          │   └ <method 'with_traceback' of 'BaseException' objects>\n",
      "          └ PermissionError(13, 'Permission denied')\n",
      "  File \"/srv/conda/envs/notebook/lib/python3.10/site-packages/distributed/utils.py\", line 378, in f\n",
      "    result = yield future\n",
      "                   └ <Task finished name='Task-77' coro=<Client._gather() done, defined at /srv/conda/envs/notebook/lib/python3.10/site-packages/d...\n",
      "  File \"/srv/conda/envs/notebook/lib/python3.10/site-packages/tornado/gen.py\", line 762, in run\n",
      "    value = future.result()\n",
      "            └ None\n",
      "  File \"/srv/conda/envs/notebook/lib/python3.10/site-packages/distributed/client.py\", line 2073, in _gather\n",
      "    raise exception.with_traceback(traceback)\n",
      "          │         │              └ <traceback object at 0x7f6052949080>\n",
      "          │         └ <method 'with_traceback' of 'BaseException' objects>\n",
      "          └ PermissionError(13, 'Permission denied')\n",
      "  File \"/srv/conda/envs/notebook/lib/python3.10/site-packages/dask/array/core.py\", line 4356, in store_chunk\n",
      "    return load_store_chunk(x, out, index, lock, return_stored, False)\n",
      "  File \"/srv/conda/envs/notebook/lib/python3.10/site-packages/dask/array/core.py\", line 4338, in load_store_chunk\n",
      "    out[index] = x\n",
      "  File \"/srv/conda/envs/notebook/lib/python3.10/site-packages/xarray/backends/netCDF4_.py\", line 73, in __setitem__\n",
      "    data = self.get_array(needs_lock=False)\n",
      "  File \"/srv/conda/envs/notebook/lib/python3.10/site-packages/xarray/backends/netCDF4_.py\", line 86, in get_array\n",
      "    ds = self.datastore._acquire(needs_lock)\n",
      "  File \"/srv/conda/envs/notebook/lib/python3.10/site-packages/xarray/backends/netCDF4_.py\", line 387, in _acquire\n",
      "    with self._manager.acquire_context(needs_lock) as root:\n",
      "  File \"/srv/conda/envs/notebook/lib/python3.10/contextlib.py\", line 135, in __enter__\n",
      "    return next(self.gen)\n",
      "  File \"/srv/conda/envs/notebook/lib/python3.10/site-packages/xarray/backends/file_manager.py\", line 189, in acquire_context\n",
      "    file, cached = self._acquire_with_cache_info(needs_lock)\n",
      "  File \"/srv/conda/envs/notebook/lib/python3.10/site-packages/xarray/backends/file_manager.py\", line 207, in _acquire_with_cache_info\n",
      "    file = self._opener(*self._args, **kwargs)\n",
      "  File \"src/netCDF4/_netCDF4.pyx\", line 2463, in netCDF4._netCDF4.Dataset.__init__\n",
      "  File \"src/netCDF4/_netCDF4.pyx\", line 2026, in netCDF4._netCDF4._ensure_nc_success\n",
      "\n",
      "PermissionError: [Errno 13] Permission denied: b'/home/jovyan/PlanetaryComputerExamples/personal/satio-pc/notebooks/dev/ewc_29TPJ_073/ewc_tmp-w0o1giqf/ewc_tmp-7ycu5yby/satio-w0dhpum4.nc'\n",
      "2023-04-07 11:30:09.534 | INFO     | satio_pc.extraction:extract:116 - Cleaning up...\n",
      "2023-04-07 11:30:09.537 | SUCCESS  | satio_pc.extraction:extract:119 - Done\n",
      "2023-04-07 11:42:07,092 - distributed.client - ERROR - Failed to reconnect to scheduler after 30.00 seconds, closing client\n"
     ]
    }
   ],
   "source": [
    "process(args[5])"
   ]
  },
  {
   "cell_type": "code",
   "execution_count": 17,
   "id": "a9ec9597-72a6-448e-bbb4-b5a206c32aa5",
   "metadata": {},
   "outputs": [],
   "source": [
    "workers = client.scheduler_info()['workers']"
   ]
  },
  {
   "cell_type": "code",
   "execution_count": 18,
   "id": "535d4ca3-0311-48bf-a092-3dcd01c139bc",
   "metadata": {},
   "outputs": [
    {
     "data": {
      "text/plain": [
       "20"
      ]
     },
     "execution_count": 18,
     "metadata": {},
     "output_type": "execute_result"
    }
   ],
   "source": [
    "len(workers)"
   ]
  },
  {
   "cell_type": "code",
   "execution_count": 72,
   "id": "d9289697-ac25-41dd-97df-b7fc5d09658a",
   "metadata": {},
   "outputs": [
    {
     "data": {
      "text/html": [
       "<table>\n",
       "    <tr>\n",
       "        <th>Key</th>\n",
       "        <th>Copies</th>\n",
       "        <th>Workers</th>\n",
       "    </tr>\n",
       "\n",
       "    \n",
       "    <tr>\n",
       "        <td>compute_matrix_product-c30dff958c63a8d6f3e20380781540e7</td>\n",
       "        <td>0</td>\n",
       "        <td></td>\n",
       "    </tr>\n",
       "    \n",
       "    <tr>\n",
       "        <td>compute_matrix_product-ade763fb9ecea0884662ba3cedfb173a</td>\n",
       "        <td>1</td>\n",
       "        <td>tls://10.244.130.116:46795</td>\n",
       "    </tr>\n",
       "    \n",
       "    <tr>\n",
       "        <td>compute_matrix_product-f33a596a66d0b14803c6fd98421440e9</td>\n",
       "        <td>1</td>\n",
       "        <td>tls://10.244.155.58:42335</td>\n",
       "    </tr>\n",
       "    \n",
       "    <tr>\n",
       "        <td>process-8d83bff502b68de073dd66147381ac56</td>\n",
       "        <td>0</td>\n",
       "        <td></td>\n",
       "    </tr>\n",
       "    \n",
       "    <tr>\n",
       "        <td>process-3d4a1ecba50dafd3c8377d468e4e7778</td>\n",
       "        <td>0</td>\n",
       "        <td></td>\n",
       "    </tr>\n",
       "    \n",
       "</table>"
      ],
      "text/plain": [
       "{'compute_matrix_product-c30dff958c63a8d6f3e20380781540e7': (),\n",
       " 'compute_matrix_product-ade763fb9ecea0884662ba3cedfb173a': ('tls://10.244.130.116:46795',),\n",
       " 'compute_matrix_product-f33a596a66d0b14803c6fd98421440e9': ('tls://10.244.155.58:42335',),\n",
       " 'process-8d83bff502b68de073dd66147381ac56': (),\n",
       " 'process-3d4a1ecba50dafd3c8377d468e4e7778': ()}"
      ]
     },
     "execution_count": 72,
     "metadata": {},
     "output_type": "execute_result"
    }
   ],
   "source": [
    "client.who_has()"
   ]
  },
  {
   "cell_type": "code",
   "execution_count": 80,
   "id": "69410f37-203b-44ae-8054-22ff2f92f688",
   "metadata": {},
   "outputs": [],
   "source": [
    "task = client.submit(process, args[7], workers=workers_names[8])"
   ]
  },
  {
   "cell_type": "code",
   "execution_count": 82,
   "id": "3cf33bea-c9c9-4af9-89e4-0f5c1a77daeb",
   "metadata": {},
   "outputs": [
    {
     "data": {
      "text/html": [
       "<strong>Future: process</strong>\n",
       "<span style=\"color: var(--jp-ui-font-color2, gray)\"> status: </span>\n",
       "\n",
       "\n",
       "<span style=\"color: var(--jp-error-color0, black)\">pending</span>,\n",
       "\n",
       "\n",
       "\n",
       "<span style=\"color: var(--jp-ui-font-color2, gray)\"> type:</span> NoneType,\n",
       "\n",
       "\n",
       "<span style=\"color: var(--jp-ui-font-color2, gray)\"> key:</span> process-60a510b68dc7cb4430bab7be0e5f05cc"
      ],
      "text/plain": [
       "<Future: pending, key: process-60a510b68dc7cb4430bab7be0e5f05cc>"
      ]
     },
     "execution_count": 82,
     "metadata": {},
     "output_type": "execute_result"
    }
   ],
   "source": [
    "task"
   ]
  },
  {
   "cell_type": "code",
   "execution_count": 19,
   "id": "198090f3-3539-4c40-aac4-9699ec56d47d",
   "metadata": {},
   "outputs": [],
   "source": [
    "tasks = [client.submit(process, arg, workers=worker) for arg, worker in zip(args[:20], workers)]"
   ]
  },
  {
   "cell_type": "code",
   "execution_count": 27,
   "id": "147619e0-23fd-49b1-869e-e8f1930a1a6a",
   "metadata": {},
   "outputs": [
    {
     "ename": "KeyboardInterrupt",
     "evalue": "",
     "output_type": "error",
     "traceback": [
      "\u001b[0;31m---------------------------------------------------------------------------\u001b[0m",
      "\u001b[0;31mKeyboardInterrupt\u001b[0m                         Traceback (most recent call last)",
      "Cell \u001b[0;32mIn [27], line 1\u001b[0m\n\u001b[0;32m----> 1\u001b[0m \u001b[43mtasks\u001b[49m\u001b[43m[\u001b[49m\u001b[38;5;241;43m0\u001b[39;49m\u001b[43m]\u001b[49m\u001b[38;5;241;43m.\u001b[39;49m\u001b[43mresult\u001b[49m\u001b[43m(\u001b[49m\u001b[43m)\u001b[49m\n",
      "File \u001b[0;32m/srv/conda/envs/notebook/lib/python3.10/site-packages/distributed/client.py:274\u001b[0m, in \u001b[0;36mFuture.result\u001b[0;34m(self, timeout)\u001b[0m\n\u001b[1;32m    271\u001b[0m     \u001b[38;5;28;01mreturn\u001b[39;00m \u001b[38;5;28mself\u001b[39m\u001b[38;5;241m.\u001b[39mclient\u001b[38;5;241m.\u001b[39msync(\u001b[38;5;28mself\u001b[39m\u001b[38;5;241m.\u001b[39m_result, callback_timeout\u001b[38;5;241m=\u001b[39mtimeout)\n\u001b[1;32m    273\u001b[0m \u001b[38;5;66;03m# shorten error traceback\u001b[39;00m\n\u001b[0;32m--> 274\u001b[0m result \u001b[38;5;241m=\u001b[39m \u001b[38;5;28;43mself\u001b[39;49m\u001b[38;5;241;43m.\u001b[39;49m\u001b[43mclient\u001b[49m\u001b[38;5;241;43m.\u001b[39;49m\u001b[43msync\u001b[49m\u001b[43m(\u001b[49m\u001b[38;5;28;43mself\u001b[39;49m\u001b[38;5;241;43m.\u001b[39;49m\u001b[43m_result\u001b[49m\u001b[43m,\u001b[49m\u001b[43m \u001b[49m\u001b[43mcallback_timeout\u001b[49m\u001b[38;5;241;43m=\u001b[39;49m\u001b[43mtimeout\u001b[49m\u001b[43m,\u001b[49m\u001b[43m \u001b[49m\u001b[43mraiseit\u001b[49m\u001b[38;5;241;43m=\u001b[39;49m\u001b[38;5;28;43;01mFalse\u001b[39;49;00m\u001b[43m)\u001b[49m\n\u001b[1;32m    275\u001b[0m \u001b[38;5;28;01mif\u001b[39;00m \u001b[38;5;28mself\u001b[39m\u001b[38;5;241m.\u001b[39mstatus \u001b[38;5;241m==\u001b[39m \u001b[38;5;124m\"\u001b[39m\u001b[38;5;124merror\u001b[39m\u001b[38;5;124m\"\u001b[39m:\n\u001b[1;32m    276\u001b[0m     typ, exc, tb \u001b[38;5;241m=\u001b[39m result\n",
      "File \u001b[0;32m/srv/conda/envs/notebook/lib/python3.10/site-packages/distributed/utils.py:338\u001b[0m, in \u001b[0;36mSyncMethodMixin.sync\u001b[0;34m(self, func, asynchronous, callback_timeout, *args, **kwargs)\u001b[0m\n\u001b[1;32m    336\u001b[0m     \u001b[38;5;28;01mreturn\u001b[39;00m future\n\u001b[1;32m    337\u001b[0m \u001b[38;5;28;01melse\u001b[39;00m:\n\u001b[0;32m--> 338\u001b[0m     \u001b[38;5;28;01mreturn\u001b[39;00m \u001b[43msync\u001b[49m\u001b[43m(\u001b[49m\n\u001b[1;32m    339\u001b[0m \u001b[43m        \u001b[49m\u001b[38;5;28;43mself\u001b[39;49m\u001b[38;5;241;43m.\u001b[39;49m\u001b[43mloop\u001b[49m\u001b[43m,\u001b[49m\u001b[43m \u001b[49m\u001b[43mfunc\u001b[49m\u001b[43m,\u001b[49m\u001b[43m \u001b[49m\u001b[38;5;241;43m*\u001b[39;49m\u001b[43margs\u001b[49m\u001b[43m,\u001b[49m\u001b[43m \u001b[49m\u001b[43mcallback_timeout\u001b[49m\u001b[38;5;241;43m=\u001b[39;49m\u001b[43mcallback_timeout\u001b[49m\u001b[43m,\u001b[49m\u001b[43m \u001b[49m\u001b[38;5;241;43m*\u001b[39;49m\u001b[38;5;241;43m*\u001b[39;49m\u001b[43mkwargs\u001b[49m\n\u001b[1;32m    340\u001b[0m \u001b[43m    \u001b[49m\u001b[43m)\u001b[49m\n",
      "File \u001b[0;32m/srv/conda/envs/notebook/lib/python3.10/site-packages/distributed/utils.py:401\u001b[0m, in \u001b[0;36msync\u001b[0;34m(loop, func, callback_timeout, *args, **kwargs)\u001b[0m\n\u001b[1;32m    399\u001b[0m \u001b[38;5;28;01melse\u001b[39;00m:\n\u001b[1;32m    400\u001b[0m     \u001b[38;5;28;01mwhile\u001b[39;00m \u001b[38;5;129;01mnot\u001b[39;00m e\u001b[38;5;241m.\u001b[39mis_set():\n\u001b[0;32m--> 401\u001b[0m         \u001b[43mwait\u001b[49m\u001b[43m(\u001b[49m\u001b[38;5;241;43m10\u001b[39;49m\u001b[43m)\u001b[49m\n\u001b[1;32m    403\u001b[0m \u001b[38;5;28;01mif\u001b[39;00m error:\n\u001b[1;32m    404\u001b[0m     typ, exc, tb \u001b[38;5;241m=\u001b[39m error\n",
      "File \u001b[0;32m/srv/conda/envs/notebook/lib/python3.10/site-packages/distributed/utils.py:390\u001b[0m, in \u001b[0;36msync.<locals>.wait\u001b[0;34m(timeout)\u001b[0m\n\u001b[1;32m    388\u001b[0m \u001b[38;5;28;01mdef\u001b[39;00m \u001b[38;5;21mwait\u001b[39m(timeout):\n\u001b[1;32m    389\u001b[0m     \u001b[38;5;28;01mtry\u001b[39;00m:\n\u001b[0;32m--> 390\u001b[0m         \u001b[38;5;28;01mreturn\u001b[39;00m \u001b[43me\u001b[49m\u001b[38;5;241;43m.\u001b[39;49m\u001b[43mwait\u001b[49m\u001b[43m(\u001b[49m\u001b[43mtimeout\u001b[49m\u001b[43m)\u001b[49m\n\u001b[1;32m    391\u001b[0m     \u001b[38;5;28;01mexcept\u001b[39;00m \u001b[38;5;167;01mKeyboardInterrupt\u001b[39;00m:\n\u001b[1;32m    392\u001b[0m         loop\u001b[38;5;241m.\u001b[39madd_callback(cancel)\n",
      "File \u001b[0;32m/srv/conda/envs/notebook/lib/python3.10/threading.py:607\u001b[0m, in \u001b[0;36mEvent.wait\u001b[0;34m(self, timeout)\u001b[0m\n\u001b[1;32m    605\u001b[0m signaled \u001b[38;5;241m=\u001b[39m \u001b[38;5;28mself\u001b[39m\u001b[38;5;241m.\u001b[39m_flag\n\u001b[1;32m    606\u001b[0m \u001b[38;5;28;01mif\u001b[39;00m \u001b[38;5;129;01mnot\u001b[39;00m signaled:\n\u001b[0;32m--> 607\u001b[0m     signaled \u001b[38;5;241m=\u001b[39m \u001b[38;5;28;43mself\u001b[39;49m\u001b[38;5;241;43m.\u001b[39;49m\u001b[43m_cond\u001b[49m\u001b[38;5;241;43m.\u001b[39;49m\u001b[43mwait\u001b[49m\u001b[43m(\u001b[49m\u001b[43mtimeout\u001b[49m\u001b[43m)\u001b[49m\n\u001b[1;32m    608\u001b[0m \u001b[38;5;28;01mreturn\u001b[39;00m signaled\n",
      "File \u001b[0;32m/srv/conda/envs/notebook/lib/python3.10/threading.py:324\u001b[0m, in \u001b[0;36mCondition.wait\u001b[0;34m(self, timeout)\u001b[0m\n\u001b[1;32m    322\u001b[0m \u001b[38;5;28;01melse\u001b[39;00m:\n\u001b[1;32m    323\u001b[0m     \u001b[38;5;28;01mif\u001b[39;00m timeout \u001b[38;5;241m>\u001b[39m \u001b[38;5;241m0\u001b[39m:\n\u001b[0;32m--> 324\u001b[0m         gotit \u001b[38;5;241m=\u001b[39m \u001b[43mwaiter\u001b[49m\u001b[38;5;241;43m.\u001b[39;49m\u001b[43macquire\u001b[49m\u001b[43m(\u001b[49m\u001b[38;5;28;43;01mTrue\u001b[39;49;00m\u001b[43m,\u001b[49m\u001b[43m \u001b[49m\u001b[43mtimeout\u001b[49m\u001b[43m)\u001b[49m\n\u001b[1;32m    325\u001b[0m     \u001b[38;5;28;01melse\u001b[39;00m:\n\u001b[1;32m    326\u001b[0m         gotit \u001b[38;5;241m=\u001b[39m waiter\u001b[38;5;241m.\u001b[39macquire(\u001b[38;5;28;01mFalse\u001b[39;00m)\n",
      "\u001b[0;31mKeyboardInterrupt\u001b[0m: "
     ]
    }
   ],
   "source": [
    "tasks[0].result()"
   ]
  },
  {
   "cell_type": "code",
   "execution_count": 25,
   "id": "01e38df0-083b-409a-9866-af7bb627cf73",
   "metadata": {},
   "outputs": [
    {
     "name": "stdout",
     "output_type": "stream",
     "text": [
      "tls://10.244.13.38:39297\n",
      "tls://10.244.15.39:34601\n",
      "tls://10.244.16.239:37387\n",
      "tls://10.244.20.44:34639\n",
      "tls://10.244.229.51:42869\n",
      "tls://10.244.229.52:44791\n",
      "tls://10.244.229.53:40061\n",
      "tls://10.244.230.34:44193\n",
      "tls://10.244.244.54:38007\n",
      "tls://10.244.25.56:33245\n",
      "tls://10.244.252.44:35099\n",
      "tls://10.244.252.45:36595\n",
      "tls://10.244.254.41:43253\n",
      "tls://10.244.254.42:42639\n",
      "tls://10.244.26.142:36129\n",
      "tls://10.244.3.241:38777\n",
      "tls://10.244.3.242:34619\n",
      "tls://10.244.42.240:41591\n",
      "tls://10.244.5.62:38081\n",
      "tls://10.244.6.73:36909\n"
     ]
    }
   ],
   "source": [
    "for arg, worker in zip(args[:20], workers):\n",
    "    print(worker)"
   ]
  },
  {
   "cell_type": "code",
   "execution_count": 23,
   "id": "0122f278-3cac-423b-9072-06ac0899fef8",
   "metadata": {},
   "outputs": [
    {
     "data": {
      "text/plain": [
       "(<Future: pending, key: process-e2c88b0b7d4843e3702f515691e1be20>,)"
      ]
     },
     "execution_count": 23,
     "metadata": {},
     "output_type": "execute_result"
    }
   ],
   "source": [
    "dask.compute(tasks[0])"
   ]
  },
  {
   "cell_type": "code",
   "execution_count": null,
   "id": "8a7d31f1-3fa1-4f53-8e4d-7c6ce4eee422",
   "metadata": {},
   "outputs": [],
   "source": []
  },
  {
   "cell_type": "code",
   "execution_count": null,
   "id": "fc6940fb-e90d-44c3-9588-4218081c518d",
   "metadata": {},
   "outputs": [],
   "source": [
    "print('done')"
   ]
  },
  {
   "cell_type": "code",
   "execution_count": 10,
   "id": "90a2a3dd-7aae-4148-93ee-86041da00acd",
   "metadata": {},
   "outputs": [
    {
     "data": {
      "text/plain": [
       "597"
      ]
     },
     "execution_count": 10,
     "metadata": {},
     "output_type": "execute_result"
    }
   ],
   "source": [
    "len(results)"
   ]
  },
  {
   "cell_type": "code",
   "execution_count": null,
   "id": "ea4b0aab-ea36-48d9-8c2e-aae3bd0d646c",
   "metadata": {},
   "outputs": [],
   "source": [
    "for blob in az.container_client.list_blobs():\n",
    "    print(blob.name)"
   ]
  },
  {
   "cell_type": "code",
   "execution_count": 11,
   "id": "26f2c158-0972-4fdd-a914-d5ac51fd0bfd",
   "metadata": {},
   "outputs": [
    {
     "name": "stderr",
     "output_type": "stream",
     "text": [
      "/srv/conda/envs/notebook/lib/python3.10/site-packages/dask_gateway/client.py:1014: RuntimeWarning: coroutine 'rpc.close_rpc' was never awaited\n",
      "  self.scheduler_comm.close_rpc()\n",
      "RuntimeWarning: Enable tracemalloc to get the object allocation traceback\n"
     ]
    }
   ],
   "source": [
    "cluster.shutdown()"
   ]
  },
  {
   "cell_type": "code",
   "execution_count": 22,
   "id": "7029ad5d-bce8-42e7-ad58-b5fa865de9c0",
   "metadata": {},
   "outputs": [],
   "source": [
    "# import os\n",
    "# os.environ['AWS_DEFAULT_REGION'] = 'eu-central-1'\n",
    "\n",
    "# app_id = (f'habitat_s2')\n",
    "# elogs = Elogs(app_id,\n",
    "#               aws_access_key_id,\n",
    "#               aws_secret_access_key,\n",
    "#               logs_bucket='vito-worldcover',\n",
    "#               overwrite_table=True)"
   ]
  },
  {
   "cell_type": "code",
   "execution_count": 10,
   "id": "c3ef42d0-1ed6-4f68-80d2-779575d4e915",
   "metadata": {},
   "outputs": [],
   "source": [
    "import dask\n",
    "\n",
    "blocks_gdf['cid'] = blocks_gdf.tile + '_' + blocks_gdf.block_id.astype(str)\n",
    "\n",
    "sensor = 'l2a'\n",
    "container_name = 'habitattest'\n",
    "\n",
    "tasks = [ElogsTask(block.cid, block, year)\n",
    "         for block in blocks_gdf.iloc[:3].itertuples()\n",
    "         for year in (2017, 2018, 2019, 2020, 2021, 2022)]\n",
    "\n",
    "with elogs.start(tasks) as filtered_tasks:\n",
    "    futures = client.map(extract_s2_features, tasks,\n",
    "                         resources={'processes': 4})\n",
    "    results = dask.compute(*futures)"
   ]
  },
  {
   "cell_type": "code",
   "execution_count": 4,
   "id": "6d50dccf-af72-4ae7-99ab-e034c3f4bfe1",
   "metadata": {},
   "outputs": [],
   "source": [
    "blocks = list(blocks_gdf.iloc[:3].itertuples())"
   ]
  },
  {
   "cell_type": "code",
   "execution_count": null,
   "id": "57f72ee4-1df9-464b-becd-dc44e96e6c1e",
   "metadata": {},
   "outputs": [],
   "source": [
    "results = client.gather(*futures)"
   ]
  },
  {
   "cell_type": "code",
   "execution_count": null,
   "id": "49c0c408-6fab-4337-8aee-7482067e3f31",
   "metadata": {},
   "outputs": [],
   "source": []
  },
  {
   "cell_type": "code",
   "execution_count": 10,
   "id": "84e95983-17a9-4c58-b1be-c01cac2ed15f",
   "metadata": {},
   "outputs": [
    {
     "data": {
      "text/html": [
       "<strong>Future: process</strong>\n",
       "<span style=\"color: var(--jp-ui-font-color2, gray)\"> status: </span>\n",
       "\n",
       "\n",
       "<span style=\"color: var(--jp-error-color0, black)\">pending</span>,\n",
       "\n",
       "\n",
       "\n",
       "<span style=\"color: var(--jp-ui-font-color2, gray)\"> type:</span> NoneType,\n",
       "\n",
       "\n",
       "<span style=\"color: var(--jp-ui-font-color2, gray)\"> key:</span> process-0f0dc53777fc7586b3bedb43c369bf2e"
      ],
      "text/plain": [
       "<Future: pending, key: process-0f0dc53777fc7586b3bedb43c369bf2e>"
      ]
     },
     "execution_count": 10,
     "metadata": {},
     "output_type": "execute_result"
    }
   ],
   "source": [
    "results[0]"
   ]
  },
  {
   "cell_type": "code",
   "execution_count": 10,
   "id": "a59993ef-7f4a-4e2d-b383-4b25b9cf17af",
   "metadata": {},
   "outputs": [
    {
     "data": {
      "text/html": [
       "<strong>Future: process</strong>\n",
       "<span style=\"color: var(--jp-ui-font-color2, gray)\"> status: </span>\n",
       "\n",
       "\n",
       "<span style=\"color: var(--jp-error-color0, black)\">pending</span>,\n",
       "\n",
       "\n",
       "\n",
       "<span style=\"color: var(--jp-ui-font-color2, gray)\"> type:</span> NoneType,\n",
       "\n",
       "\n",
       "<span style=\"color: var(--jp-ui-font-color2, gray)\"> key:</span> process-b3836ba7-1b85-43db-b226-63e736aeb5d9"
      ],
      "text/plain": [
       "<Future: pending, key: process-b3836ba7-1b85-43db-b226-63e736aeb5d9>"
      ]
     },
     "execution_count": 10,
     "metadata": {},
     "output_type": "execute_result"
    }
   ],
   "source": [
    "client.compute(results[0])"
   ]
  },
  {
   "cell_type": "code",
   "execution_count": 11,
   "id": "2140ed8d-4f09-4383-9958-5f7b650eddd9",
   "metadata": {},
   "outputs": [
    {
     "data": {
      "text/plain": [
       "dict_items([('tls://10.244.125.10:40821', ('process-6c1b0516-3cac-4b16-922b-48901fe1c7e8',)), ('tls://10.244.125.7:41765', ()), ('tls://10.244.125.8:40949', ('process-75a5eb70-3a61-499e-82dd-28399d86bb62',)), ('tls://10.244.125.9:34319', ('process-b3836ba7-1b85-43db-b226-63e736aeb5d9',)), ('tls://10.244.66.98:33573', ('process-d09fa4c6-6201-4925-9df7-b394dc5792e2',)), ('tls://10.244.70.89:33237', ())])"
      ]
     },
     "execution_count": 11,
     "metadata": {},
     "output_type": "execute_result"
    }
   ],
   "source": [
    "client.has_what().items()"
   ]
  },
  {
   "cell_type": "code",
   "execution_count": 10,
   "id": "f24e2218-2b2b-4533-874b-733d30be436c",
   "metadata": {},
   "outputs": [],
   "source": [
    "results = dask.compute(*futures)"
   ]
  },
  {
   "cell_type": "code",
   "execution_count": 19,
   "id": "1c5bd773-9b3f-49ab-bdfc-38086ea0ebc1",
   "metadata": {},
   "outputs": [
    {
     "name": "stderr",
     "output_type": "stream",
     "text": [
      "/srv/conda/envs/notebook/lib/python3.10/site-packages/dask_gateway/client.py:1014: RuntimeWarning: coroutine 'rpc.close_rpc' was never awaited\n",
      "  self.scheduler_comm.close_rpc()\n",
      "RuntimeWarning: Enable tracemalloc to get the object allocation traceback\n"
     ]
    }
   ],
   "source": [
    "cluster.shutdown()"
   ]
  },
  {
   "cell_type": "code",
   "execution_count": 9,
   "id": "d6e02f20-b571-4a06-b8ce-633a090377e2",
   "metadata": {},
   "outputs": [
    {
     "name": "stdout",
     "output_type": "stream",
     "text": [
      "Deleting blob: ewc_29TPJ_071/satio-features-s2_29TPJ_071.tif\n",
      "Deleting blob: ewc_29TPJ_072/satio-features-s2_29TPJ_072_2021.tif\n",
      "Deleting blob: ewc_29TPJ_073/PROC_29TPJ_073.log\n",
      "Deleting blob: ewc_29TPJ_073/satio-features-s2_29TPJ_073_2021.tif\n",
      "Deleting blob: ewc_29TPJ_074/PROC_29TPJ_074.log\n",
      "Deleting blob: ewc_29TPJ_074/satio-features-s2_29TPJ_074_2021.tif\n",
      "Deleting blob: satio-features-s2_29TPJ_071.tif\n",
      "Deleting blob: satio-s2-features_29TQH_004.tif\n"
     ]
    }
   ],
   "source": [
    "from azure.storage.blob import BlobServiceClient\n",
    "\n",
    "# Replace with your connection string\n",
    "\n",
    "\n",
    "# Replace with your container name\n",
    "container_name = \"habitattest\"\n",
    "\n",
    "# Initialize the BlobServiceClient\n",
    "blob_service_client = BlobServiceClient.from_connection_string(connect_str)\n",
    "\n",
    "# Get a reference to the container\n",
    "container_client = blob_service_client.get_container_client(container_name)\n",
    "\n",
    "# List blobs in the container\n",
    "blobs = container_client.list_blobs()\n",
    "\n",
    "# Iterate through the blobs and print their names, then delete them\n",
    "for blob in blobs:\n",
    "    print(f\"Deleting blob: {blob.name}\")\n",
    "    container_client.delete_blob(blob.name)"
   ]
  },
  {
   "cell_type": "markdown",
   "id": "6811e1ba-bfd6-4a12-a6e5-2f4ab0d0ff56",
   "metadata": {},
   "source": [
    "# GAMMA0"
   ]
  },
  {
   "cell_type": "code",
   "execution_count": null,
   "id": "9b957cd1-14f7-48bb-9749-9b422b122608",
   "metadata": {},
   "outputs": [],
   "source": [
    "# S1 features\n",
    "s1 = load_gamma0(block.bounds,\n",
    "                 block.epsg,\n",
    "                 start_date,\n",
    "                 end_date)\n",
    "\n",
    "# preprocess s1\n",
    "s1, obs_gamma0 = preprocess_gamma0(s1,\n",
    "                                   start_date,\n",
    "                                   end_date,\n",
    "                                   composite_freq=settings['gamma0']['composite']['freq'], \n",
    "                                   composite_window=settings['gamma0']['composite']['window'],\n",
    "                                   tmpdir=tmpdir.name)\n",
    "\n",
    "s1_indices = [\"vh_vv\", \"rvi\"]\n",
    "\n",
    "s1_vi = s1.ewc.indices(s1_indices)\n",
    "\n",
    "ps = [s.ewc.percentile(q, name_prefix='s1') for s in (s1, s1_vi)]\n",
    "\n",
    "# fix time to same timestamp (only 1) to avoid concat issues (different compositing settings for s2 and s1)\n",
    "for p in ps:\n",
    "    p['time'] = ps[0].time\n",
    "    \n",
    "obs_gamma0 = np.expand_dims(np.squeeze(obs_gamma0), (0, 1))\n",
    "obs_gamma0 = ps[0].isel(band=0).copy(data=obs_gamma0)\n",
    "obs_gamma0['band'] = ['obs_gamma0']\n",
    "\n",
    "final = xr.concat(ps + [obs_gamma0], dim='band')\n",
    "final.name = 'satio-features-s1'\n",
    "\n",
    "final = final.ewc.cache('.', (1, 1, 512, 512))\n",
    "final = final.squeeze()\n",
    "\n",
    "crs = CRS.from_epsg(block.epsg)\n",
    "final = final.rio.write_crs(crs)\n",
    "final_ds = final.to_dataset('band')\n",
    "\n",
    "fn = f'{final.name}_{block.tile}_{block.block_id:03d}.tif'\n",
    "final_ds.rio.to_raster(fn,\n",
    "                       windowed=False,\n",
    "                       tiled=True,\n",
    "                       compress='deflate',\n",
    "                       predictor=3,\n",
    "                       zlevel=4)"
   ]
  },
  {
   "cell_type": "markdown",
   "id": "1a60ec27-120f-4c65-bed5-55bc18e1b9c4",
   "metadata": {},
   "source": []
  },
  {
   "cell_type": "code",
   "execution_count": 7,
   "id": "9c9cc12d-b452-45a9-ac26-881cb57790de",
   "metadata": {},
   "outputs": [],
   "source": []
  }
 ],
 "metadata": {
  "kernelspec": {
   "display_name": "Python 3 (ipykernel)",
   "language": "python",
   "name": "python3"
  },
  "language_info": {
   "codemirror_mode": {
    "name": "ipython",
    "version": 3
   },
   "file_extension": ".py",
   "mimetype": "text/x-python",
   "name": "python",
   "nbconvert_exporter": "python",
   "pygments_lexer": "ipython3",
   "version": "3.10.10"
  }
 },
 "nbformat": 4,
 "nbformat_minor": 5
}
