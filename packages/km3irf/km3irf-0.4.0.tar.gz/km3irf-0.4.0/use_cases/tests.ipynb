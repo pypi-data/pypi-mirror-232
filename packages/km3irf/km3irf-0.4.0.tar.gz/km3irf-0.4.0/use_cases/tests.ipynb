{
 "cells": [
  {
   "cell_type": "markdown",
   "id": "296fcbe7-809f-4b5a-8443-a7b9d6da97d4",
   "metadata": {},
   "source": [
    "This notebook needs for checking tests"
   ]
  },
  {
   "cell_type": "code",
   "execution_count": 7,
   "id": "c56e7f80-2168-435b-a9a5-4102572ee7bd",
   "metadata": {},
   "outputs": [],
   "source": [
    "import matplotlib.pyplot as plt\n",
    "from km3irf.test_utils import mpl_plot_check\n",
    "\n",
    "\n",
    "# Define a function that creates a plot\n",
    "def create_sample_plot():\n",
    "    x = [1, 2, 3, 4, 5, 8]\n",
    "    y = [10, 12, 5, 8, 9, 11, 13]\n",
    "    plt.plot(x, y)\n",
    "    plt.xlabel(\"X-axis\")\n",
    "    plt.ylabel(\"Y-axis\")\n",
    "    plt.title(\"Sample Plot\")\n",
    "\n",
    "    # plt.invalid_function()\n",
    "\n",
    "\n",
    "# Test the plot using mpl_plot_check\n",
    "# with mpl_plot_check():\n",
    "#     create_sample_plot()\n",
    "\n",
    "# At this point, the plot has been created and saved in memory as a PNG.\n",
    "# You can continue with your testing or other tasks."
   ]
  },
  {
   "cell_type": "code",
   "execution_count": 13,
   "id": "df6e479f-5991-458a-aff8-65ecf7f1e294",
   "metadata": {},
   "outputs": [
    {
     "data": {
      "text/plain": [
       "array([[[0.5488135 , 0.71518937],\n",
       "        [0.60276338, 0.54488318]],\n",
       "\n",
       "       [[0.4236548 , 0.64589411],\n",
       "        [0.43758721, 0.891773  ]]])"
      ]
     },
     "execution_count": 13,
     "metadata": {},
     "output_type": "execute_result"
    }
   ],
   "source": [
    "import numpy as np\n",
    "\n",
    "np.random.seed(0)\n",
    "np.random.random((2, 2, 2))"
   ]
  },
  {
   "cell_type": "code",
   "execution_count": null,
   "id": "fe838af7-fbbb-4a74-ab3b-ab2fb3c6eea9",
   "metadata": {},
   "outputs": [],
   "source": []
  },
  {
   "cell_type": "code",
   "execution_count": 4,
   "id": "df6018df-f85f-45a5-9d53-b20741d9edf3",
   "metadata": {},
   "outputs": [
    {
     "data": {
      "image/png": "[encoded data removed]",
      "text/plain": [
       "<Figure size 432x288 with 1 Axes>"
      ]
     },
     "metadata": {
      "needs_background": "light"
     },
     "output_type": "display_data"
    }
   ],
   "source": [
    "create_sample_plot()"
   ]
  }
 ],
 "metadata": {
  "kernelspec": {
   "display_name": "gammapy-0.20",
   "language": "python",
   "name": "gammapy-0.20"
  },
  "language_info": {
   "codemirror_mode": {
    "name": "ipython",
    "version": 3
   },
   "file_extension": ".py",
   "mimetype": "text/x-python",
   "name": "python",
   "nbconvert_exporter": "python",
   "pygments_lexer": "ipython3",
   "version": "3.10.6"
  }
 },
 "nbformat": 4,
 "nbformat_minor": 5
}
