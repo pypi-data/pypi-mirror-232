{
 "cells": [
  {
   "cell_type": "code",
   "execution_count": 1,
   "id": "74990eba-0919-4c7a-99f1-d06882f4d710",
   "metadata": {},
   "outputs": [],
   "source": [
    "from astropy.coordinates import Angle\n",
    "import pandas as pd\n",
    "import numpy as np\n",
    "import astropy.units as u\n",
    "\n",
    "from km3irf import irf_tools, utils"
   ]
  },
  {
   "cell_type": "code",
   "execution_count": 2,
   "id": "e71136de-f4d8-4295-8e60-114dc3929c96",
   "metadata": {},
   "outputs": [],
   "source": [
    "# parts of build IRF\n",
    "def apply_cuts(dataset):\n",
    "    \"\"\"Apply cuts to the created data frame.\"\"\"\n",
    "    mask = get_cut_mask(dataset.bdt0, dataset.bdt1, dataset.dir_z)\n",
    "    # dataset = dataset[mask]\n",
    "    dataset = dataset[mask].copy()\n",
    "    return dataset\n",
    "\n",
    "\n",
    "def get_cut_mask(bdt0, bdt1, dir_z):\n",
    "    \"\"\"Create a cut mask for chosen cuts\"\"\"\n",
    "\n",
    "    dir_z_deg = np.arccos(dir_z) * 180 / np.pi\n",
    "\n",
    "    mask_down = bdt0 >= 11  # remove downgoing events\n",
    "    clear_signal = bdt0 == 12  # very clear signal\n",
    "    loose_up = np.bitwise_and(\n",
    "        dir_z_deg < 80, bdt1 > 0.0\n",
    "    )  # apply loose cut on upgoing events\n",
    "    strong_horizontal = np.bitwise_and(\n",
    "        dir_z_deg > 80, bdt1 > 0.7\n",
    "    )  # apply strong cut on horizontal events\n",
    "\n",
    "    return np.bitwise_and(\n",
    "        mask_down,\n",
    "        np.bitwise_or(clear_signal, np.bitwise_or(loose_up, strong_horizontal)),\n",
    "    )"
   ]
  },
  {
   "cell_type": "code",
   "execution_count": 3,
   "id": "35e2de6e-19c2-4272-b78c-dfc358ace07a",
   "metadata": {},
   "outputs": [],
   "source": [
    "df = pd.read_csv(\"../../temp_dataset.csv\")\n",
    "df_cut = apply_cuts(dataset=df)"
   ]
  },
  {
   "cell_type": "code",
   "execution_count": 4,
   "id": "572ba81c-5895-4108-b42b-a68cea528490",
   "metadata": {},
   "outputs": [
    {
     "data": {
      "text/plain": [
       "(200, 87)"
      ]
     },
     "execution_count": 4,
     "metadata": {},
     "output_type": "execute_result"
    }
   ],
   "source": [
    "len(df), len(df_cut)"
   ]
  },
  {
   "cell_type": "code",
   "execution_count": 5,
   "id": "4c3760ee-8c29-4d55-bdc1-c21d27acb41b",
   "metadata": {},
   "outputs": [
    {
     "data": {
      "text/html": [
       "<div>\n",
       "<style scoped>\n",
       "    .dataframe tbody tr th:only-of-type {\n",
       "        vertical-align: middle;\n",
       "    }\n",
       "\n",
       "    .dataframe tbody tr th {\n",
       "        vertical-align: top;\n",
       "    }\n",
       "\n",
       "    .dataframe thead th {\n",
       "        text-align: right;\n",
       "    }\n",
       "</style>\n",
       "<table border=\"1\" class=\"dataframe\">\n",
       "  <thead>\n",
       "    <tr style=\"text-align: right;\">\n",
       "      <th></th>\n",
       "      <th>E</th>\n",
       "      <th>dir_x</th>\n",
       "      <th>dir_y</th>\n",
       "      <th>dir_z</th>\n",
       "      <th>E_mc</th>\n",
       "      <th>dir_x_mc</th>\n",
       "      <th>dir_y_mc</th>\n",
       "      <th>dir_z_mc</th>\n",
       "      <th>weight_w2</th>\n",
       "      <th>bdt0</th>\n",
       "      <th>bdt1</th>\n",
       "    </tr>\n",
       "  </thead>\n",
       "  <tbody>\n",
       "    <tr>\n",
       "      <th>0</th>\n",
       "      <td>349.621209</td>\n",
       "      <td>-0.670299</td>\n",
       "      <td>0.270036</td>\n",
       "      <td>0.691216</td>\n",
       "      <td>268.990</td>\n",
       "      <td>-0.670996</td>\n",
       "      <td>0.286741</td>\n",
       "      <td>0.683772</td>\n",
       "      <td>4.510000e+11</td>\n",
       "      <td>12.0</td>\n",
       "      <td>-2.000000</td>\n",
       "    </tr>\n",
       "    <tr>\n",
       "      <th>1</th>\n",
       "      <td>20.423436</td>\n",
       "      <td>0.327411</td>\n",
       "      <td>0.078130</td>\n",
       "      <td>-0.941646</td>\n",
       "      <td>178.710</td>\n",
       "      <td>0.327387</td>\n",
       "      <td>0.079789</td>\n",
       "      <td>-0.941515</td>\n",
       "      <td>1.182000e+11</td>\n",
       "      <td>1.0</td>\n",
       "      <td>-2.000000</td>\n",
       "    </tr>\n",
       "    <tr>\n",
       "      <th>2</th>\n",
       "      <td>184.966630</td>\n",
       "      <td>0.794867</td>\n",
       "      <td>0.354793</td>\n",
       "      <td>-0.492248</td>\n",
       "      <td>214.610</td>\n",
       "      <td>0.799260</td>\n",
       "      <td>0.353143</td>\n",
       "      <td>-0.486285</td>\n",
       "      <td>1.960000e+11</td>\n",
       "      <td>1.0</td>\n",
       "      <td>-2.000000</td>\n",
       "    </tr>\n",
       "    <tr>\n",
       "      <th>3</th>\n",
       "      <td>52.327015</td>\n",
       "      <td>0.455668</td>\n",
       "      <td>-0.632999</td>\n",
       "      <td>0.625843</td>\n",
       "      <td>291.347</td>\n",
       "      <td>0.432161</td>\n",
       "      <td>-0.625802</td>\n",
       "      <td>0.649314</td>\n",
       "      <td>5.622000e+11</td>\n",
       "      <td>11.0</td>\n",
       "      <td>0.998906</td>\n",
       "    </tr>\n",
       "    <tr>\n",
       "      <th>4</th>\n",
       "      <td>248.662668</td>\n",
       "      <td>0.553978</td>\n",
       "      <td>-0.036197</td>\n",
       "      <td>0.831744</td>\n",
       "      <td>299.805</td>\n",
       "      <td>0.835802</td>\n",
       "      <td>-0.326768</td>\n",
       "      <td>0.441200</td>\n",
       "      <td>5.829000e+11</td>\n",
       "      <td>10.0</td>\n",
       "      <td>-2.000000</td>\n",
       "    </tr>\n",
       "  </tbody>\n",
       "</table>\n",
       "</div>"
      ],
      "text/plain": [
       "            E     dir_x     dir_y     dir_z     E_mc  dir_x_mc  dir_y_mc  \\\n",
       "0  349.621209 -0.670299  0.270036  0.691216  268.990 -0.670996  0.286741   \n",
       "1   20.423436  0.327411  0.078130 -0.941646  178.710  0.327387  0.079789   \n",
       "2  184.966630  0.794867  0.354793 -0.492248  214.610  0.799260  0.353143   \n",
       "3   52.327015  0.455668 -0.632999  0.625843  291.347  0.432161 -0.625802   \n",
       "4  248.662668  0.553978 -0.036197  0.831744  299.805  0.835802 -0.326768   \n",
       "\n",
       "   dir_z_mc     weight_w2  bdt0      bdt1  \n",
       "0  0.683772  4.510000e+11  12.0 -2.000000  \n",
       "1 -0.941515  1.182000e+11   1.0 -2.000000  \n",
       "2 -0.486285  1.960000e+11   1.0 -2.000000  \n",
       "3  0.649314  5.622000e+11  11.0  0.998906  \n",
       "4  0.441200  5.829000e+11  10.0 -2.000000  "
      ]
     },
     "execution_count": 5,
     "metadata": {},
     "output_type": "execute_result"
    }
   ],
   "source": [
    "df.head()"
   ]
  },
  {
   "cell_type": "markdown",
   "id": "2a428cb9-ed40-4c5c-97bd-d6e7876b863a",
   "metadata": {},
   "source": [
    "Now it needs to fill all bins for PSF"
   ]
  },
  {
   "cell_type": "code",
   "execution_count": 14,
   "id": "93c5b933-0f55-48d9-a89a-e01ac6d1b06f",
   "metadata": {},
   "outputs": [],
   "source": [
    "# create bins\n",
    "cos_theta_binE = np.linspace(1, -1, 7)\n",
    "energy_binE = np.logspace(2, 8, 25)\n",
    "rad_binE = np.concatenate(\n",
    "    (\n",
    "        np.linspace(0, 1, 20, endpoint=False),\n",
    "        np.linspace(1, 5, 40, endpoint=False),\n",
    "        np.linspace(5, 30, 51),\n",
    "        [180.0],\n",
    "    )\n",
    ")\n",
    "\n",
    "theta_binE = np.arccos(cos_theta_binE)\n",
    "# Bin centers\n",
    "energy_binC = np.sqrt(energy_binE[:-1] * energy_binE[1:])\n",
    "theta_binC = np.arccos(0.5 * (cos_theta_binE[:-1] + cos_theta_binE[1:]))\n",
    "rad_binC = 0.5 * (rad_binE[1:] + rad_binE[:-1])\n",
    "\n",
    "weights_array = np.ones(len(df), dtype=np.float64)"
   ]
  },
  {
   "cell_type": "code",
   "execution_count": 20,
   "id": "b8205f10-d8e8-4f0a-a7d3-3707a6b1976e",
   "metadata": {},
   "outputs": [
    {
     "data": {
      "text/plain": [
       "array([  0.        ,  48.1896851 ,  70.52877937,  90.        ,\n",
       "       109.47122063, 131.8103149 , 180.        ])"
      ]
     },
     "execution_count": 20,
     "metadata": {},
     "output_type": "execute_result"
    }
   ],
   "source": [
    "th_rad = theta_binE * u.rad\n",
    "th_rad.to(\"deg\").value"
   ]
  },
  {
   "cell_type": "code",
   "execution_count": 7,
   "id": "43a75cf4-8337-4e1f-89d7-38ad38a2075b",
   "metadata": {},
   "outputs": [
    {
     "data": {
      "text/plain": [
       "111"
      ]
     },
     "execution_count": 7,
     "metadata": {},
     "output_type": "execute_result"
    }
   ],
   "source": [
    "len(rad_binC)"
   ]
  },
  {
   "cell_type": "code",
   "execution_count": 7,
   "id": "43063a69-3f6c-437a-8329-df226152fe4e",
   "metadata": {},
   "outputs": [
    {
     "data": {
      "text/plain": [
       "87.0"
      ]
     },
     "execution_count": 7,
     "metadata": {},
     "output_type": "execute_result"
    }
   ],
   "source": [
    "psf = irf_tools.psf_3D(\n",
    "    e_bins=energy_binE,\n",
    "    t_bins=theta_binE,\n",
    "    r_bins=rad_binE,\n",
    "    dataset=df_cut,\n",
    "    weights=weights_array,\n",
    ")\n",
    "psf.sum()"
   ]
  },
  {
   "cell_type": "code",
   "execution_count": 2,
   "id": "faeaac05-a408-4c4e-a9e1-829207883f4e",
   "metadata": {},
   "outputs": [
    {
     "data": {
      "text/plain": [
       "array([2.142746, 2.392746, 2.642746, 2.892746, 3.142746, 3.392746,\n",
       "       3.642746, 3.892746, 4.142746, 4.392746, 4.642746, 4.892746,\n",
       "       5.142746, 5.392746, 5.642746, 5.892746, 6.142746, 6.392746,\n",
       "       6.642746, 6.892746, 7.142746, 7.392746, 7.642746, 7.892746],\n",
       "      dtype=float32)"
      ]
     },
     "execution_count": 2,
     "metadata": {},
     "output_type": "execute_result"
    }
   ],
   "source": [
    "psf_class = utils.DrawPSF()\n",
    "psf_class.energy_center"
   ]
  },
  {
   "cell_type": "code",
   "execution_count": 3,
   "id": "a4b8383d-e2d7-4f2a-a9da-64ea041732e3",
   "metadata": {},
   "outputs": [
    {
     "data": {
      "text/plain": [
       "array([1.3335214e+02, 2.3713736e+02, 4.2169647e+02, 7.4989423e+02,\n",
       "       1.3335214e+03, 2.3713735e+03, 4.2169648e+03, 7.4989419e+03,\n",
       "       1.3335215e+04, 2.3713738e+04, 4.2169652e+04, 7.4989422e+04,\n",
       "       1.3335214e+05, 2.3713738e+05, 4.2169650e+05, 7.4989419e+05,\n",
       "       1.3335214e+06, 2.3713738e+06, 4.2169655e+06, 7.4989425e+06,\n",
       "       1.3335214e+07, 2.3713736e+07, 4.2169652e+07, 7.4989416e+07],\n",
       "      dtype=float32)"
      ]
     },
     "execution_count": 3,
     "metadata": {},
     "output_type": "execute_result"
    }
   ],
   "source": [
    "psf_class.energy_logcenter"
   ]
  },
  {
   "cell_type": "code",
   "execution_count": 9,
   "id": "952ec511-2ea0-4ae7-b771-f38d7b8e620b",
   "metadata": {},
   "outputs": [
    {
     "data": {
      "text/plain": [
       "array([2.5000000e-02, 7.5000003e-02, 1.2500000e-01, 1.7500001e-01,\n",
       "       2.2499999e-01, 2.7500001e-01, 3.2499999e-01, 3.7500000e-01,\n",
       "       4.2500001e-01, 4.7499999e-01, 5.2499998e-01, 5.7500005e-01,\n",
       "       6.2500000e-01, 6.7499995e-01, 7.2500002e-01, 7.7499998e-01,\n",
       "       8.2500005e-01, 8.7500000e-01, 9.2499995e-01, 9.7500002e-01,\n",
       "       1.0500000e+00, 1.1500001e+00, 1.2500000e+00, 1.3499999e+00,\n",
       "       1.4500000e+00, 1.5500000e+00, 1.6500001e+00, 1.7500000e+00,\n",
       "       1.8499999e+00, 1.9500000e+00, 2.0500000e+00, 2.1500001e+00,\n",
       "       2.2500000e+00, 2.3499999e+00, 2.4500000e+00, 2.5500000e+00,\n",
       "       2.6500001e+00, 2.7500000e+00, 2.8499999e+00, 2.9500000e+00,\n",
       "       3.0500000e+00, 3.1500001e+00, 3.2500000e+00, 3.3499999e+00,\n",
       "       3.4500000e+00, 3.5500000e+00, 3.6500001e+00, 3.7500000e+00,\n",
       "       3.8499999e+00, 3.9500000e+00, 4.0500002e+00, 4.1499996e+00,\n",
       "       4.2500000e+00, 4.3500004e+00, 4.4499998e+00, 4.5500002e+00,\n",
       "       4.6499996e+00, 4.7500000e+00, 4.8500004e+00, 4.9499998e+00,\n",
       "       5.2500000e+00, 5.7500000e+00, 6.2500000e+00, 6.7500000e+00,\n",
       "       7.2500000e+00, 7.7500000e+00, 8.2500000e+00, 8.7500000e+00,\n",
       "       9.2500000e+00, 9.7500000e+00, 1.0250000e+01, 1.0750000e+01,\n",
       "       1.1250000e+01, 1.1750000e+01, 1.2250000e+01, 1.2750000e+01,\n",
       "       1.3250000e+01, 1.3750000e+01, 1.4250000e+01, 1.4750000e+01,\n",
       "       1.5250000e+01, 1.5750000e+01, 1.6250000e+01, 1.6750000e+01,\n",
       "       1.7250000e+01, 1.7750000e+01, 1.8250000e+01, 1.8750000e+01,\n",
       "       1.9250000e+01, 1.9750000e+01, 2.0250000e+01, 2.0750000e+01,\n",
       "       2.1250000e+01, 2.1750000e+01, 2.2250000e+01, 2.2750000e+01,\n",
       "       2.3250000e+01, 2.3750000e+01, 2.4250000e+01, 2.4750000e+01,\n",
       "       2.5250000e+01, 2.5750000e+01, 2.6250000e+01, 2.6750000e+01,\n",
       "       2.7250000e+01, 2.7750000e+01, 2.8250000e+01, 2.8750000e+01,\n",
       "       2.9250000e+01, 2.9750000e+01, 1.0500000e+02], dtype=float32)"
      ]
     },
     "execution_count": 9,
     "metadata": {},
     "output_type": "execute_result"
    }
   ],
   "source": [
    "psf_class.rad_center"
   ]
  },
  {
   "cell_type": "code",
   "execution_count": 7,
   "id": "dabd613a-e98c-4088-a477-479ff26d2f94",
   "metadata": {},
   "outputs": [
    {
     "data": {
      "text/latex": [
       "$[1.4323945,~4.2971835,~7.1619725,~\\dots,~1675.9016,~1704.5494,~6016.0571] \\; \\mathrm{{}^{\\circ}}$"
      ],
      "text/plain": [
       "<Quantity [1.43239450e+00, 4.29718351e+00, 7.16197252e+00, 1.00267620e+01,\n",
       "           1.28915501e+01, 1.57563400e+01, 1.86211281e+01, 2.14859180e+01,\n",
       "           2.43507080e+01, 2.72154961e+01, 3.00802841e+01, 3.29450760e+01,\n",
       "           3.58098640e+01, 3.86746483e+01, 4.15394402e+01, 4.44042282e+01,\n",
       "           4.72690201e+01, 5.01338081e+01, 5.29985924e+01, 5.58633881e+01,\n",
       "           6.01605682e+01, 6.58901520e+01, 7.16197281e+01, 7.73492966e+01,\n",
       "           8.30788803e+01, 8.88084564e+01, 9.45380402e+01, 1.00267616e+02,\n",
       "           1.05997185e+02, 1.11726776e+02, 1.17456345e+02, 1.23185936e+02,\n",
       "           1.28915512e+02, 1.34645081e+02, 1.40374664e+02, 1.46104233e+02,\n",
       "           1.51833817e+02, 1.57563400e+02, 1.63292969e+02, 1.69022552e+02,\n",
       "           1.74752121e+02, 1.80481720e+02, 1.86211288e+02, 1.91940857e+02,\n",
       "           1.97670441e+02, 2.03400024e+02, 2.09129608e+02, 2.14859177e+02,\n",
       "           2.20588745e+02, 2.26318329e+02, 2.32047928e+02, 2.37777466e+02,\n",
       "           2.43507065e+02, 2.49236664e+02, 2.54966217e+02, 2.60695801e+02,\n",
       "           2.66425354e+02, 2.72154968e+02, 2.77884552e+02, 2.83614105e+02,\n",
       "           3.00802856e+02, 3.29450745e+02, 3.58098633e+02, 3.86746521e+02,\n",
       "           4.15394409e+02, 4.44042297e+02, 4.72690186e+02, 5.01338074e+02,\n",
       "           5.29985962e+02, 5.58633850e+02, 5.87281738e+02, 6.15929626e+02,\n",
       "           6.44577515e+02, 6.73225403e+02, 7.01873291e+02, 7.30521179e+02,\n",
       "           7.59169067e+02, 7.87816956e+02, 8.16464844e+02, 8.45112732e+02,\n",
       "           8.73760620e+02, 9.02408508e+02, 9.31056458e+02, 9.59704346e+02,\n",
       "           9.88352234e+02, 1.01700012e+03, 1.04564795e+03, 1.07429590e+03,\n",
       "           1.10294373e+03, 1.13159167e+03, 1.16023950e+03, 1.18888745e+03,\n",
       "           1.21753528e+03, 1.24618323e+03, 1.27483105e+03, 1.30347900e+03,\n",
       "           1.33212683e+03, 1.36077478e+03, 1.38942273e+03, 1.41807056e+03,\n",
       "           1.44671851e+03, 1.47536633e+03, 1.50401428e+03, 1.53266211e+03,\n",
       "           1.56131006e+03, 1.58995789e+03, 1.61860583e+03, 1.64725366e+03,\n",
       "           1.67590161e+03, 1.70454944e+03, 6.01605713e+03] deg>"
      ]
     },
     "execution_count": 7,
     "metadata": {},
     "output_type": "execute_result"
    }
   ],
   "source": [
    "a.to(\"deg\")"
   ]
  },
  {
   "cell_type": "code",
   "execution_count": 13,
   "id": "b622aeb3-876c-4f82-9cc1-9c4ff13f6a0b",
   "metadata": {},
   "outputs": [
    {
     "data": {
      "text/plain": [
       "array([1.3335214e+02, 2.3713736e+02, 4.2169647e+02, 7.4989423e+02,\n",
       "       1.3335214e+03, 2.3713735e+03, 4.2169648e+03, 7.4989419e+03,\n",
       "       1.3335215e+04, 2.3713738e+04, 4.2169652e+04, 7.4989422e+04,\n",
       "       1.3335214e+05, 2.3713738e+05, 4.2169650e+05, 7.4989419e+05,\n",
       "       1.3335214e+06, 2.3713738e+06, 4.2169655e+06, 7.4989425e+06,\n",
       "       1.3335214e+07, 2.3713736e+07, 4.2169652e+07, 7.4989416e+07],\n",
       "      dtype=float32)"
      ]
     },
     "execution_count": 13,
     "metadata": {},
     "output_type": "execute_result"
    }
   ],
   "source": [
    "np.sqrt(psf_class.data[\"ENERG_LO\"][0] * psf_class.data[\"ENERG_HI\"][0])"
   ]
  },
  {
   "cell_type": "code",
   "execution_count": 27,
   "id": "aff63a4a-1ef6-4769-96d1-950ef0610f1c",
   "metadata": {},
   "outputs": [
    {
     "data": {
      "text/plain": [
       "(111, 6, 24)"
      ]
     },
     "execution_count": 27,
     "metadata": {},
     "output_type": "execute_result"
    }
   ],
   "source": [
    "psf.shape"
   ]
  },
  {
   "cell_type": "code",
   "execution_count": 11,
   "id": "0b1e6f4a-f35a-4ef6-81dd-947841d936f4",
   "metadata": {},
   "outputs": [
    {
     "ename": "SyntaxError",
     "evalue": "invalid syntax. Maybe you meant '==' or ':=' instead of '='? (316252371.py, line 1)",
     "output_type": "error",
     "traceback": [
      "\u001b[0;36m  Input \u001b[0;32mIn [11]\u001b[0;36m\u001b[0m\n\u001b[0;31m    psf_class.evaluate((energy=2.5e2, zenith=1.2, rad=21))\u001b[0m\n\u001b[0m                        ^\u001b[0m\n\u001b[0;31mSyntaxError\u001b[0m\u001b[0;31m:\u001b[0m invalid syntax. Maybe you meant '==' or ':=' instead of '='?\n"
     ]
    }
   ],
   "source": [
    "psf_class.evaluate((energy=2.5e2, zenith=1.2, rad=21))"
   ]
  },
  {
   "cell_type": "code",
   "execution_count": 9,
   "id": "394f6941-e228-40d5-aa63-42f613b94053",
   "metadata": {},
   "outputs": [],
   "source": [
    "import astropy.units as u"
   ]
  },
  {
   "cell_type": "code",
   "execution_count": 40,
   "id": "ec9a8892-4e8a-4db6-9273-bb2d07d03fed",
   "metadata": {},
   "outputs": [
    {
     "data": {
      "text/plain": [
       "array([0.00e+00, 5.00e-02, 1.00e-01, 1.50e-01, 2.00e-01, 2.50e-01,\n",
       "       3.00e-01, 3.50e-01, 4.00e-01, 4.50e-01, 5.00e-01, 5.50e-01,\n",
       "       6.00e-01, 6.50e-01, 7.00e-01, 7.50e-01, 8.00e-01, 8.50e-01,\n",
       "       9.00e-01, 9.50e-01, 1.00e+00, 1.10e+00, 1.20e+00, 1.30e+00,\n",
       "       1.40e+00, 1.50e+00, 1.60e+00, 1.70e+00, 1.80e+00, 1.90e+00,\n",
       "       2.00e+00, 2.10e+00, 2.20e+00, 2.30e+00, 2.40e+00, 2.50e+00,\n",
       "       2.60e+00, 2.70e+00, 2.80e+00, 2.90e+00, 3.00e+00, 3.10e+00,\n",
       "       3.20e+00, 3.30e+00, 3.40e+00, 3.50e+00, 3.60e+00, 3.70e+00,\n",
       "       3.80e+00, 3.90e+00, 4.00e+00, 4.10e+00, 4.20e+00, 4.30e+00,\n",
       "       4.40e+00, 4.50e+00, 4.60e+00, 4.70e+00, 4.80e+00, 4.90e+00,\n",
       "       5.00e+00, 5.50e+00, 6.00e+00, 6.50e+00, 7.00e+00, 7.50e+00,\n",
       "       8.00e+00, 8.50e+00, 9.00e+00, 9.50e+00, 1.00e+01, 1.05e+01,\n",
       "       1.10e+01, 1.15e+01, 1.20e+01, 1.25e+01, 1.30e+01, 1.35e+01,\n",
       "       1.40e+01, 1.45e+01, 1.50e+01, 1.55e+01, 1.60e+01, 1.65e+01,\n",
       "       1.70e+01, 1.75e+01, 1.80e+01, 1.85e+01, 1.90e+01, 1.95e+01,\n",
       "       2.00e+01, 2.05e+01, 2.10e+01, 2.15e+01, 2.20e+01, 2.25e+01,\n",
       "       2.30e+01, 2.35e+01, 2.40e+01, 2.45e+01, 2.50e+01, 2.55e+01,\n",
       "       2.60e+01, 2.65e+01, 2.70e+01, 2.75e+01, 2.80e+01, 2.85e+01,\n",
       "       2.90e+01, 2.95e+01, 3.00e+01, 1.80e+02])"
      ]
     },
     "execution_count": 40,
     "metadata": {},
     "output_type": "execute_result"
    }
   ],
   "source": [
    "rad_deg = rad_binE * u.deg\n",
    "rad_deg.value"
   ]
  },
  {
   "cell_type": "code",
   "execution_count": 2,
   "id": "642ffc15-8f93-40a0-8739-264283e96ec9",
   "metadata": {},
   "outputs": [
    {
     "name": "stdout",
     "output_type": "stream",
     "text": [
      "PSF values: [array([[[0.0482086]]]), array([[[0.23546699]]])]\n"
     ]
    }
   ],
   "source": [
    "psf_plotter = utils.DrawPSF()\n",
    "\n",
    "# Example usage of the evaluate function\n",
    "energy_values = [1000, 4000]  # Energy values in TeV\n",
    "zenith_offsets = [0.7, 0.78]  # Zenith offsets in radians\n",
    "radial_offsets = [12, 15]  # Radial offsets in degrees\n",
    "\n",
    "# Create a list to store the PSF values\n",
    "psf_values = []\n",
    "\n",
    "# Iterate over the provided values and evaluate the PSF for each combination\n",
    "for energy, zenith, rad in zip(energy_values, zenith_offsets, radial_offsets):\n",
    "    psf_value = psf_plotter.evaluate_3d(energy=energy, zenith=zenith, rad=rad)\n",
    "    psf_values.append(psf_value)\n",
    "\n",
    "print(\"PSF values:\", psf_values)"
   ]
  },
  {
   "cell_type": "code",
   "execution_count": 5,
   "id": "ea8cb977-2796-4aab-a861-fe02bb20dba7",
   "metadata": {},
   "outputs": [
    {
     "data": {
      "text/plain": [
       "(111,)"
      ]
     },
     "execution_count": 5,
     "metadata": {},
     "output_type": "execute_result"
    }
   ],
   "source": [
    "outcome_psf = psf_plotter.to_psf1D(energy=2000, zenith=0.2)\n",
    "outcome_psf.shape"
   ]
  },
  {
   "cell_type": "code",
   "execution_count": 22,
   "id": "d49464e9-b68b-44df-916a-804dc4e9fd3c",
   "metadata": {},
   "outputs": [
    {
     "data": {
      "text/plain": [
       "array([0.0482086])"
      ]
     },
     "execution_count": 22,
     "metadata": {},
     "output_type": "execute_result"
    }
   ],
   "source": [
    "psf_values[0][0][0]"
   ]
  },
  {
   "cell_type": "code",
   "execution_count": 3,
   "id": "b2ed6d40-7d87-412e-870e-666bd008b003",
   "metadata": {},
   "outputs": [
    {
     "ename": "TypeError",
     "evalue": "object of type 'numpy.float32' has no len()",
     "output_type": "error",
     "traceback": [
      "\u001b[0;31m---------------------------------------------------------------------------\u001b[0m",
      "\u001b[0;31mTypeError\u001b[0m                                 Traceback (most recent call last)",
      "Input \u001b[0;32mIn [3]\u001b[0m, in \u001b[0;36m<cell line: 1>\u001b[0;34m()\u001b[0m\n\u001b[0;32m----> 1\u001b[0m \u001b[43mpsf_plotter\u001b[49m\u001b[38;5;241;43m.\u001b[39;49m\u001b[43minterpolate_containment\u001b[49m\u001b[43m(\u001b[49m\u001b[43m)\u001b[49m\n",
      "File \u001b[0;32m~/working_space/km3irf/src/km3irf/utils.py:540\u001b[0m, in \u001b[0;36mDrawPSF.interpolate_containment\u001b[0;34m(self)\u001b[0m\n\u001b[1;32m    537\u001b[0m \u001b[38;5;28;01melse\u001b[39;00m:\n\u001b[1;32m    538\u001b[0m     rad \u001b[38;5;241m=\u001b[39m \u001b[38;5;28mself\u001b[39m\u001b[38;5;241m.\u001b[39mrad_center\n\u001b[0;32m--> 540\u001b[0m rad_drad \u001b[38;5;241m=\u001b[39m \u001b[38;5;241m2\u001b[39m \u001b[38;5;241m*\u001b[39m np\u001b[38;5;241m.\u001b[39mpi \u001b[38;5;241m*\u001b[39m rad \u001b[38;5;241m*\u001b[39m \u001b[38;5;28;43mself\u001b[39;49m\u001b[38;5;241;43m.\u001b[39;49m\u001b[43mevaluate_1d\u001b[49m\u001b[43m(\u001b[49m\u001b[43mrad\u001b[49m\u001b[43m)\u001b[49m\n\u001b[1;32m    541\u001b[0m \u001b[38;5;66;03m# values = sp.integrate.cumtrapz(\u001b[39;00m\n\u001b[1;32m    542\u001b[0m \u001b[38;5;66;03m#     rad_drad.to_value(\"rad-1\"), rad.to_value(\"rad\"), initial=0\u001b[39;00m\n\u001b[1;32m    543\u001b[0m \u001b[38;5;66;03m# )\u001b[39;00m\n\u001b[1;32m    544\u001b[0m values \u001b[38;5;241m=\u001b[39m sp\u001b[38;5;241m.\u001b[39mintegrate\u001b[38;5;241m.\u001b[39mcumtrapz(rad_drad, rad, initial\u001b[38;5;241m=\u001b[39m\u001b[38;5;241m0\u001b[39m)\n",
      "File \u001b[0;32m~/working_space/km3irf/src/km3irf/utils.py:493\u001b[0m, in \u001b[0;36mDrawPSF.evaluate_1d\u001b[0;34m(self, rad)\u001b[0m\n\u001b[1;32m    489\u001b[0m     rad \u001b[38;5;241m=\u001b[39m \u001b[38;5;28mself\u001b[39m\u001b[38;5;241m.\u001b[39mrad_center\n\u001b[1;32m    491\u001b[0m rad \u001b[38;5;241m=\u001b[39m np\u001b[38;5;241m.\u001b[39matleast_1d(rad)\n\u001b[0;32m--> 493\u001b[0m interpolator \u001b[38;5;241m=\u001b[39m \u001b[38;5;28;43mself\u001b[39;49m\u001b[38;5;241;43m.\u001b[39;49m\u001b[43minterpolate_1d\u001b[49m\u001b[43m(\u001b[49m\u001b[43m)\u001b[49m\n\u001b[1;32m    494\u001b[0m \u001b[38;5;28;01mreturn\u001b[39;00m interpolator((rad,))\n",
      "File \u001b[0;32m~/working_space/km3irf/src/km3irf/utils.py:457\u001b[0m, in \u001b[0;36mDrawPSF.interpolate_1d\u001b[0;34m(self)\u001b[0m\n\u001b[1;32m    453\u001b[0m values \u001b[38;5;241m=\u001b[39m \u001b[38;5;28mself\u001b[39m\u001b[38;5;241m.\u001b[39mto_psf1D(\n\u001b[1;32m    454\u001b[0m     energy\u001b[38;5;241m=\u001b[39m\u001b[38;5;28mself\u001b[39m\u001b[38;5;241m.\u001b[39menergy_logcenter, zenith\u001b[38;5;241m=\u001b[39mnp\u001b[38;5;241m.\u001b[39marccos(\u001b[38;5;28mself\u001b[39m\u001b[38;5;241m.\u001b[39mzenith)\n\u001b[1;32m    455\u001b[0m )\n\u001b[1;32m    456\u001b[0m points \u001b[38;5;241m=\u001b[39m \u001b[38;5;28mself\u001b[39m\u001b[38;5;241m.\u001b[39mrad_center\n\u001b[0;32m--> 457\u001b[0m \u001b[38;5;28;01mreturn\u001b[39;00m \u001b[43mScaledRegularGridInterpolator\u001b[49m\u001b[43m(\u001b[49m\u001b[43mpoints\u001b[49m\u001b[38;5;241;43m=\u001b[39;49m\u001b[43mpoints\u001b[49m\u001b[43m,\u001b[49m\u001b[43m \u001b[49m\u001b[43mvalues\u001b[49m\u001b[38;5;241;43m=\u001b[39;49m\u001b[43mvalues\u001b[49m\u001b[43m)\u001b[49m\n",
      "File \u001b[0;32m~/working_space/km3irf/src/km3irf/interpolation.py:54\u001b[0m, in \u001b[0;36mScaledRegularGridInterpolator.__init__\u001b[0;34m(self, points, values, points_scale, values_scale, extrapolate, axis, **kwargs)\u001b[0m\n\u001b[1;32m     52\u001b[0m \u001b[38;5;28mself\u001b[39m\u001b[38;5;241m.\u001b[39mscale_points \u001b[38;5;241m=\u001b[39m [interpolation_scale(scale) \u001b[38;5;28;01mfor\u001b[39;00m scale \u001b[38;5;129;01min\u001b[39;00m points_scale]\n\u001b[1;32m     53\u001b[0m \u001b[38;5;28mself\u001b[39m\u001b[38;5;241m.\u001b[39mscale \u001b[38;5;241m=\u001b[39m interpolation_scale(values_scale)\n\u001b[0;32m---> 54\u001b[0m \u001b[38;5;28mself\u001b[39m\u001b[38;5;241m.\u001b[39m_include_dim \u001b[38;5;241m=\u001b[39m [\u001b[38;5;28mlen\u001b[39m(p) \u001b[38;5;241m>\u001b[39m \u001b[38;5;241m1\u001b[39m \u001b[38;5;28;01mfor\u001b[39;00m p \u001b[38;5;129;01min\u001b[39;00m points]\n\u001b[1;32m     56\u001b[0m points_scaled \u001b[38;5;241m=\u001b[39m \u001b[38;5;28mtuple\u001b[39m(\n\u001b[1;32m     57\u001b[0m     [\n\u001b[1;32m     58\u001b[0m         scale(p)\n\u001b[0;32m   (...)\u001b[0m\n\u001b[1;32m     61\u001b[0m     ]\n\u001b[1;32m     62\u001b[0m )\n\u001b[1;32m     63\u001b[0m values_scaled \u001b[38;5;241m=\u001b[39m \u001b[38;5;28mself\u001b[39m\u001b[38;5;241m.\u001b[39mscale(values)\u001b[38;5;241m.\u001b[39msqueeze()\n",
      "File \u001b[0;32m~/working_space/km3irf/src/km3irf/interpolation.py:54\u001b[0m, in \u001b[0;36m<listcomp>\u001b[0;34m(.0)\u001b[0m\n\u001b[1;32m     52\u001b[0m \u001b[38;5;28mself\u001b[39m\u001b[38;5;241m.\u001b[39mscale_points \u001b[38;5;241m=\u001b[39m [interpolation_scale(scale) \u001b[38;5;28;01mfor\u001b[39;00m scale \u001b[38;5;129;01min\u001b[39;00m points_scale]\n\u001b[1;32m     53\u001b[0m \u001b[38;5;28mself\u001b[39m\u001b[38;5;241m.\u001b[39mscale \u001b[38;5;241m=\u001b[39m interpolation_scale(values_scale)\n\u001b[0;32m---> 54\u001b[0m \u001b[38;5;28mself\u001b[39m\u001b[38;5;241m.\u001b[39m_include_dim \u001b[38;5;241m=\u001b[39m [\u001b[38;5;28;43mlen\u001b[39;49m\u001b[43m(\u001b[49m\u001b[43mp\u001b[49m\u001b[43m)\u001b[49m \u001b[38;5;241m>\u001b[39m \u001b[38;5;241m1\u001b[39m \u001b[38;5;28;01mfor\u001b[39;00m p \u001b[38;5;129;01min\u001b[39;00m points]\n\u001b[1;32m     56\u001b[0m points_scaled \u001b[38;5;241m=\u001b[39m \u001b[38;5;28mtuple\u001b[39m(\n\u001b[1;32m     57\u001b[0m     [\n\u001b[1;32m     58\u001b[0m         scale(p)\n\u001b[0;32m   (...)\u001b[0m\n\u001b[1;32m     61\u001b[0m     ]\n\u001b[1;32m     62\u001b[0m )\n\u001b[1;32m     63\u001b[0m values_scaled \u001b[38;5;241m=\u001b[39m \u001b[38;5;28mself\u001b[39m\u001b[38;5;241m.\u001b[39mscale(values)\u001b[38;5;241m.\u001b[39msqueeze()\n",
      "\u001b[0;31mTypeError\u001b[0m: object of type 'numpy.float32' has no len()"
     ]
    }
   ],
   "source": [
    "psf_plotter.interpolate_containment()"
   ]
  },
  {
   "cell_type": "code",
   "execution_count": 11,
   "id": "0fa12913-0968-4e9c-955f-e0b8166270a0",
   "metadata": {},
   "outputs": [
    {
     "data": {
      "text/plain": [
       "112"
      ]
     },
     "execution_count": 11,
     "metadata": {},
     "output_type": "execute_result"
    }
   ],
   "source": [
    "rad = rad_deg.to(\"rad\")\n",
    "len(rad)"
   ]
  },
  {
   "cell_type": "code",
   "execution_count": 46,
   "id": "16521877-47e8-4041-866b-f985dced2bcc",
   "metadata": {},
   "outputs": [
    {
     "data": {
      "text/plain": [
       "111"
      ]
     },
     "execution_count": 46,
     "metadata": {},
     "output_type": "execute_result"
    }
   ],
   "source": [
    "rad_C_deg = rad_binC * u.deg\n",
    "rad_C = rad_C_deg.to(\"rad\")\n",
    "len(rad_C)"
   ]
  },
  {
   "cell_type": "code",
   "execution_count": 47,
   "id": "642577f3-8a0f-43a7-9d36-6bea81084928",
   "metadata": {},
   "outputs": [
    {
     "data": {
      "text/latex": [
       "$[0.025,~0.075,~0.125,~\\dots,~29.25,~29.75,~105] \\; \\mathrm{{}^{\\circ}}$"
      ],
      "text/plain": [
       "<Quantity [2.500e-02, 7.500e-02, 1.250e-01, 1.750e-01, 2.250e-01,\n",
       "           2.750e-01, 3.250e-01, 3.750e-01, 4.250e-01, 4.750e-01,\n",
       "           5.250e-01, 5.750e-01, 6.250e-01, 6.750e-01, 7.250e-01,\n",
       "           7.750e-01, 8.250e-01, 8.750e-01, 9.250e-01, 9.750e-01,\n",
       "           1.050e+00, 1.150e+00, 1.250e+00, 1.350e+00, 1.450e+00,\n",
       "           1.550e+00, 1.650e+00, 1.750e+00, 1.850e+00, 1.950e+00,\n",
       "           2.050e+00, 2.150e+00, 2.250e+00, 2.350e+00, 2.450e+00,\n",
       "           2.550e+00, 2.650e+00, 2.750e+00, 2.850e+00, 2.950e+00,\n",
       "           3.050e+00, 3.150e+00, 3.250e+00, 3.350e+00, 3.450e+00,\n",
       "           3.550e+00, 3.650e+00, 3.750e+00, 3.850e+00, 3.950e+00,\n",
       "           4.050e+00, 4.150e+00, 4.250e+00, 4.350e+00, 4.450e+00,\n",
       "           4.550e+00, 4.650e+00, 4.750e+00, 4.850e+00, 4.950e+00,\n",
       "           5.250e+00, 5.750e+00, 6.250e+00, 6.750e+00, 7.250e+00,\n",
       "           7.750e+00, 8.250e+00, 8.750e+00, 9.250e+00, 9.750e+00,\n",
       "           1.025e+01, 1.075e+01, 1.125e+01, 1.175e+01, 1.225e+01,\n",
       "           1.275e+01, 1.325e+01, 1.375e+01, 1.425e+01, 1.475e+01,\n",
       "           1.525e+01, 1.575e+01, 1.625e+01, 1.675e+01, 1.725e+01,\n",
       "           1.775e+01, 1.825e+01, 1.875e+01, 1.925e+01, 1.975e+01,\n",
       "           2.025e+01, 2.075e+01, 2.125e+01, 2.175e+01, 2.225e+01,\n",
       "           2.275e+01, 2.325e+01, 2.375e+01, 2.425e+01, 2.475e+01,\n",
       "           2.525e+01, 2.575e+01, 2.625e+01, 2.675e+01, 2.725e+01,\n",
       "           2.775e+01, 2.825e+01, 2.875e+01, 2.925e+01, 2.975e+01,\n",
       "           1.050e+02] deg>"
      ]
     },
     "execution_count": 47,
     "metadata": {},
     "output_type": "execute_result"
    }
   ],
   "source": [
    "rad_C_deg"
   ]
  },
  {
   "cell_type": "code",
   "execution_count": 13,
   "id": "7542b6bd-51e1-4725-8f3b-43b980dc7dfa",
   "metadata": {},
   "outputs": [
    {
     "data": {
      "text/plain": [
       "3.141592653589793"
      ]
     },
     "execution_count": 13,
     "metadata": {},
     "output_type": "execute_result"
    }
   ],
   "source": [
    "# increase number of rad bins in 10 times\n",
    "rad_max = Angle(np.linspace(0, rad[-1].value, 10 * len(rad)), unit=\"rad\")\n",
    "rad[-1].value"
   ]
  },
  {
   "cell_type": "code",
   "execution_count": 35,
   "id": "7e70bfa7-0afd-4599-8c67-0eda04a0d61e",
   "metadata": {},
   "outputs": [
    {
     "data": {
      "text/plain": [
       "array([ 1.  ,  1.09,  1.18,  1.27,  1.36,  1.45,  1.54,  1.63,  1.72,\n",
       "        1.81,  1.9 ,  1.99,  2.08,  2.17,  2.26,  2.35,  2.44,  2.53,\n",
       "        2.62,  2.71,  2.8 ,  2.89,  2.98,  3.07,  3.16,  3.25,  3.34,\n",
       "        3.43,  3.52,  3.61,  3.7 ,  3.79,  3.88,  3.97,  4.06,  4.15,\n",
       "        4.24,  4.33,  4.42,  4.51,  4.6 ,  4.69,  4.78,  4.87,  4.96,\n",
       "        5.05,  5.14,  5.23,  5.32,  5.41,  5.5 ,  5.59,  5.68,  5.77,\n",
       "        5.86,  5.95,  6.04,  6.13,  6.22,  6.31,  6.4 ,  6.49,  6.58,\n",
       "        6.67,  6.76,  6.85,  6.94,  7.03,  7.12,  7.21,  7.3 ,  7.39,\n",
       "        7.48,  7.57,  7.66,  7.75,  7.84,  7.93,  8.02,  8.11,  8.2 ,\n",
       "        8.29,  8.38,  8.47,  8.56,  8.65,  8.74,  8.83,  8.92,  9.01,\n",
       "        9.1 ,  9.19,  9.28,  9.37,  9.46,  9.55,  9.64,  9.73,  9.82,\n",
       "        9.91, 10.  ])"
      ]
     },
     "execution_count": 35,
     "metadata": {},
     "output_type": "execute_result"
    }
   ],
   "source": [
    "np.linspace(1, 10, 101)"
   ]
  },
  {
   "cell_type": "code",
   "execution_count": 41,
   "id": "0a700e18-8486-4b4a-a198-9e1686411cc2",
   "metadata": {},
   "outputs": [
    {
     "name": "stdout",
     "output_type": "stream",
     "text": [
      "Sum along axis 0: [12 15 18]\n",
      "Sum along axis 1: [ 6 15 24]\n"
     ]
    }
   ],
   "source": [
    "arr = np.array([[1, 2, 3], [4, 5, 6], [7, 8, 9]])\n",
    "\n",
    "# Sum along axis 0 (columns)\n",
    "sum_axis_0 = np.sum(arr, axis=0)\n",
    "\n",
    "# Sum along axis 1 (rows)\n",
    "sum_axis_1 = np.sum(arr, axis=1)\n",
    "\n",
    "print(\"Sum along axis 0:\", sum_axis_0)\n",
    "print(\"Sum along axis 1:\", sum_axis_1)"
   ]
  },
  {
   "cell_type": "code",
   "execution_count": 49,
   "id": "95eb6b9f-c4c2-47aa-a548-0f34fc8b1133",
   "metadata": {},
   "outputs": [
    {
     "data": {
      "text/plain": [
       "87.0"
      ]
     },
     "execution_count": 49,
     "metadata": {},
     "output_type": "execute_result"
    }
   ],
   "source": [
    "psf_value = np.sum(psf, axis=(1, 2))\n",
    "psf_value.sum()"
   ]
  },
  {
   "cell_type": "code",
   "execution_count": null,
   "id": "c10baf6c-42aa-4833-bcfe-ac1f33f9a9de",
   "metadata": {},
   "outputs": [],
   "source": [
    "p"
   ]
  },
  {
   "cell_type": "code",
   "execution_count": 19,
   "id": "7754ee3a-a2e4-400d-8d7b-d457e76ebfc7",
   "metadata": {},
   "outputs": [],
   "source": [
    "rad1 = np.atleast_1d(rad_max)"
   ]
  },
  {
   "cell_type": "code",
   "execution_count": 20,
   "id": "6ed7ff39-23ed-463f-a5db-a8717868b3b5",
   "metadata": {},
   "outputs": [
    {
     "data": {
      "text/plain": [
       "array([ True,  True,  True, ...,  True,  True,  True])"
      ]
     },
     "execution_count": 20,
     "metadata": {},
     "output_type": "execute_result"
    }
   ],
   "source": [
    "rad1 == rad_max"
   ]
  },
  {
   "cell_type": "code",
   "execution_count": 21,
   "id": "5a527dde-d2c9-4ecc-a45a-139d8b1eb272",
   "metadata": {},
   "outputs": [
    {
     "data": {
      "text/plain": [
       "1120"
      ]
     },
     "execution_count": 21,
     "metadata": {},
     "output_type": "execute_result"
    }
   ],
   "source": [
    "len(rad1)"
   ]
  },
  {
   "cell_type": "code",
   "execution_count": 33,
   "id": "be1360ee-e249-4dd3-9ff9-8bc012449141",
   "metadata": {},
   "outputs": [
    {
     "data": {
      "image/png": "[encoded data removed]",
      "text/plain": [
       "<Figure size 432x288 with 1 Axes>"
      ]
     },
     "metadata": {
      "needs_background": "light"
     },
     "output_type": "display_data"
    }
   ],
   "source": [
    "import matplotlib.pyplot as plt\n",
    "\n",
    "ax = plt.gca()\n",
    "\n",
    "ax.plot(rad_C_deg, psf_value)\n",
    "ax.set_yscale(\"log\")\n",
    "ax.set_xlabel(\"Radius (deg)\")\n",
    "ax.set_ylabel(\"PSF (sr-1)\")\n",
    "plt.show()"
   ]
  },
  {
   "cell_type": "code",
   "execution_count": 51,
   "id": "95ba8aab-ca8a-483a-bd97-4aef42a637ba",
   "metadata": {},
   "outputs": [
    {
     "data": {
      "text/plain": [
       "(array([1., 1., 1., 1., 1., 1., 1., 1., 1., 1., 1., 1., 1., 1., 1., 1., 1.,\n",
       "        1., 1., 1., 1., 1., 1., 1., 1., 1., 1., 1., 1., 1., 1., 1., 1., 1.,\n",
       "        1., 1., 1., 1., 1., 1., 1., 1., 1., 1., 1., 1., 1., 1., 1., 1., 1.,\n",
       "        1., 1., 1., 1., 1., 1., 1., 1., 1., 1., 1., 1., 1., 1., 1., 1., 1.,\n",
       "        1., 1., 1., 1., 1., 1., 1., 1., 1., 1., 1., 1., 1., 1., 1., 1., 1.,\n",
       "        1., 1., 1., 1., 1., 1., 1., 1., 1., 1., 1., 1., 1., 1., 1., 1., 1.,\n",
       "        1., 1., 1., 1., 1., 1., 1., 1., 1.]),\n",
       " array([0.00e+00, 5.00e-02, 1.00e-01, 1.50e-01, 2.00e-01, 2.50e-01,\n",
       "        3.00e-01, 3.50e-01, 4.00e-01, 4.50e-01, 5.00e-01, 5.50e-01,\n",
       "        6.00e-01, 6.50e-01, 7.00e-01, 7.50e-01, 8.00e-01, 8.50e-01,\n",
       "        9.00e-01, 9.50e-01, 1.00e+00, 1.10e+00, 1.20e+00, 1.30e+00,\n",
       "        1.40e+00, 1.50e+00, 1.60e+00, 1.70e+00, 1.80e+00, 1.90e+00,\n",
       "        2.00e+00, 2.10e+00, 2.20e+00, 2.30e+00, 2.40e+00, 2.50e+00,\n",
       "        2.60e+00, 2.70e+00, 2.80e+00, 2.90e+00, 3.00e+00, 3.10e+00,\n",
       "        3.20e+00, 3.30e+00, 3.40e+00, 3.50e+00, 3.60e+00, 3.70e+00,\n",
       "        3.80e+00, 3.90e+00, 4.00e+00, 4.10e+00, 4.20e+00, 4.30e+00,\n",
       "        4.40e+00, 4.50e+00, 4.60e+00, 4.70e+00, 4.80e+00, 4.90e+00,\n",
       "        5.00e+00, 5.50e+00, 6.00e+00, 6.50e+00, 7.00e+00, 7.50e+00,\n",
       "        8.00e+00, 8.50e+00, 9.00e+00, 9.50e+00, 1.00e+01, 1.05e+01,\n",
       "        1.10e+01, 1.15e+01, 1.20e+01, 1.25e+01, 1.30e+01, 1.35e+01,\n",
       "        1.40e+01, 1.45e+01, 1.50e+01, 1.55e+01, 1.60e+01, 1.65e+01,\n",
       "        1.70e+01, 1.75e+01, 1.80e+01, 1.85e+01, 1.90e+01, 1.95e+01,\n",
       "        2.00e+01, 2.05e+01, 2.10e+01, 2.15e+01, 2.20e+01, 2.25e+01,\n",
       "        2.30e+01, 2.35e+01, 2.40e+01, 2.45e+01, 2.50e+01, 2.55e+01,\n",
       "        2.60e+01, 2.65e+01, 2.70e+01, 2.75e+01, 2.80e+01, 2.85e+01,\n",
       "        2.90e+01, 2.95e+01, 3.00e+01, 1.80e+02]),\n",
       " <BarContainer object of 111 artists>)"
      ]
     },
     "execution_count": 51,
     "metadata": {},
     "output_type": "execute_result"
    }
   ],
   "source": [
    "# ax.hist(rad_C_deg.value, bins=rad_deg.value, weights=psf_value)\n",
    "ax.hist(rad_C_deg.value, bins=rad_deg.value)"
   ]
  },
  {
   "cell_type": "code",
   "execution_count": 53,
   "id": "32a9dbe0-94b6-4d71-a0c3-366af79e724f",
   "metadata": {},
   "outputs": [
    {
     "data": {
      "image/png": "[encoded data removed]",
      "text/plain": [
       "<Figure size 432x288 with 1 Axes>"
      ]
     },
     "metadata": {
      "needs_background": "light"
     },
     "output_type": "display_data"
    }
   ],
   "source": [
    "fig, ax = plt.subplots()\n",
    "\n",
    "# Plot the histogram\n",
    "ax.hist(rad_C_deg.value, bins=rad_deg.value, weights=psf_value, edgecolor=\"black\")\n",
    "# ax.hist(rad_C_deg.value, bins=rad_deg.value, edgecolor='black')\n",
    "\n",
    "ax.set_yscale(\"log\")\n",
    "ax.set_xlabel(\"Radius (deg)\")\n",
    "ax.set_ylabel(\"Weighted PSF (sr-1)\")\n",
    "ax.set_title(\"Weighted Histogram of PSF Values\")\n",
    "\n",
    "plt.show()"
   ]
  },
  {
   "cell_type": "code",
   "execution_count": 34,
   "id": "54f958b7-f867-4aab-aded-73256dd46e4f",
   "metadata": {},
   "outputs": [
    {
     "data": {
      "image/png": "[encoded data removed]",
      "text/plain": [
       "<Figure size 432x288 with 1 Axes>"
      ]
     },
     "metadata": {
      "needs_background": "light"
     },
     "output_type": "display_data"
    }
   ],
   "source": [
    "rad_C_deg = [1.0, 1.5, 2.0, 2.5, 3.0, 3.5, 4.0]\n",
    "psf_value = [0.01, 0.1, 0.5, 0.8, 0.2, 0.05, 0.01]\n",
    "\n",
    "# Create a histogram with specified bins\n",
    "n_bins = 10  # You can adjust this based on your data and preferences\n",
    "hist, bin_edges = np.histogram(psf_value, bins=n_bins)\n",
    "\n",
    "# Create the histogram plot\n",
    "plt.bar(bin_edges[:-1], hist, width=bin_edges[1] - bin_edges[0])\n",
    "\n",
    "plt.yscale(\"log\")\n",
    "plt.xlabel(\"PSF Value\")\n",
    "plt.ylabel(\"Frequency (log scale)\")\n",
    "plt.title(\"Histogram of PSF Values\")\n",
    "plt.show()"
   ]
  },
  {
   "cell_type": "code",
   "execution_count": 36,
   "id": "73190b0b-af62-43c4-ab0b-b81184c77564",
   "metadata": {},
   "outputs": [
    {
     "data": {
      "text/plain": [
       "array([0.01 , 0.089, 0.168, 0.247, 0.326, 0.405, 0.484, 0.563, 0.642,\n",
       "       0.721, 0.8  ])"
      ]
     },
     "execution_count": 36,
     "metadata": {},
     "output_type": "execute_result"
    }
   ],
   "source": [
    "bin_edges"
   ]
  },
  {
   "cell_type": "code",
   "execution_count": 22,
   "id": "a50fffaa-b3a4-49a8-82e3-21e36a6d3a86",
   "metadata": {},
   "outputs": [],
   "source": [
    "import scipy\n",
    "from km3irf.interpolation import ScaledRegularGridInterpolator"
   ]
  },
  {
   "cell_type": "code",
   "execution_count": 23,
   "id": "54b06284-51cd-4a63-9b9f-2b54d50527c0",
   "metadata": {},
   "outputs": [],
   "source": [
    "def interpolate(rad, psf_value):\n",
    "    points = (rad,)\n",
    "    return ScaledRegularGridInterpolator(points=points, values=psf_value)"
   ]
  },
  {
   "cell_type": "code",
   "execution_count": 24,
   "id": "9fce54f7-bd17-4268-9b74-40b0f186900b",
   "metadata": {},
   "outputs": [
    {
     "data": {
      "text/latex": [
       "$1 \\; \\mathrm{GeV}$"
      ],
      "text/plain": [
       "<Quantity 1. GeV>"
      ]
     },
     "execution_count": 24,
     "metadata": {},
     "output_type": "execute_result"
    }
   ],
   "source": [
    "1 * u.GeV"
   ]
  },
  {
   "cell_type": "code",
   "execution_count": 25,
   "id": "4452d2bc-66bc-4803-888e-f28f58796ec1",
   "metadata": {},
   "outputs": [],
   "source": [
    "def evaluate(energy, rad, method=\"linear\"):\n",
    "    \"\"\"Evaluate the PSF at a given energy and offset\"\"\"\n",
    "    energy = np.atleast_1d(u.Quantity(energy))[:, np.newaxis]\n",
    "    rad = np.atleast_1d(u.Quantity(rad))\n",
    "    return interpolate((energy, rad), clip=True, method=method)"
   ]
  },
  {
   "cell_type": "code",
   "execution_count": 26,
   "id": "4d3b02cf-c94f-4f24-81d2-44483535a591",
   "metadata": {},
   "outputs": [],
   "source": [
    "def interpolate_containment(rad, energy):\n",
    "    # if rad[0] > 0:\n",
    "    #     rad = self.rad.insert(0, 0)\n",
    "    # else:\n",
    "    #     rad = self.rad\n",
    "\n",
    "    rad_drad = 2 * np.pi * rad * evaluate(energy=energy, rad=rad)\n",
    "    values = scipy.integrate.cumtrapz(\n",
    "        rad_drad.to_value(\"rad-1\"), rad.to_value(\"rad\"), initial=0, axis=1\n",
    "    )\n",
    "\n",
    "    points = (energy, rad)\n",
    "    return ScaledRegularGridInterpolator(points=points, values=values, fill_value=1)"
   ]
  },
  {
   "cell_type": "code",
   "execution_count": 68,
   "id": "ffe9dcc4-9e49-4cda-ac7a-afa37318497d",
   "metadata": {},
   "outputs": [
    {
     "name": "stdout",
     "output_type": "stream",
     "text": [
      "Interpolated Values:\n",
      "[[[0.         0.         0.         ... 0.         0.         0.        ]\n",
      "  [0.         0.         0.         ... 0.         0.         0.        ]\n",
      "  [0.         0.         0.         ... 0.         0.         0.        ]\n",
      "  ...\n",
      "  [0.         0.         0.         ... 0.         0.         0.        ]\n",
      "  [0.         0.         0.         ... 0.         0.         0.        ]\n",
      "  [0.         0.         0.         ... 0.         0.         0.        ]]\n",
      "\n",
      " [[0.10653901 0.09796943 0.08939985 ... 0.04728948 0.04324149 0.03919351]\n",
      "  [0.10477974 0.09635167 0.0879236  ... 0.04650859 0.04252745 0.03854631]\n",
      "  [0.10302047 0.09473391 0.08644734 ... 0.0457277  0.04181341 0.03789911]\n",
      "  ...\n",
      "  [0.0732619  0.067369   0.0614761  ... 0.03251876 0.02973516 0.02695155]\n",
      "  [0.06541259 0.06015105 0.05488952 ... 0.02903469 0.02654932 0.02406395]\n",
      "  [0.05756327 0.05293311 0.04830294 ... 0.02555061 0.02336348 0.02117634]]\n",
      "\n",
      " [[0.21307802 0.19593886 0.1787997  ... 0.09457895 0.08648299 0.07838702]\n",
      "  [0.20955948 0.19270334 0.17584719 ... 0.09301718 0.0850549  0.07709262]\n",
      "  [0.20604094 0.18946781 0.17289469 ... 0.09145541 0.08362682 0.07579823]\n",
      "  ...\n",
      "  [0.1465238  0.134738   0.1229522  ... 0.06503753 0.05947031 0.05390309]\n",
      "  [0.13082517 0.12030211 0.10977904 ... 0.05806938 0.05309863 0.04812789]\n",
      "  [0.11512654 0.10586622 0.09660589 ... 0.05110123 0.04672696 0.04235269]]\n",
      "\n",
      " ...\n",
      "\n",
      " [[0.6805619  0.62582017 0.57107844 ... 0.30208106 0.27622289 0.25036473]\n",
      "  [0.66932384 0.61548605 0.56164827 ... 0.29709282 0.27166165 0.24623048]\n",
      "  [0.65808577 0.60515194 0.5522181  ... 0.29210458 0.2671004  0.24209623]\n",
      "  ...\n",
      "  [0.46799062 0.43034729 0.39270396 ... 0.20772703 0.18994558 0.17216413]\n",
      "  [0.41784989 0.38423968 0.35062948 ... 0.18547106 0.16959472 0.15371838]\n",
      "  [0.36770916 0.33813208 0.308555   ... 0.16321509 0.14924387 0.13527264]]\n",
      "\n",
      " [[0.76101644 0.69980326 0.63859008 ... 0.33779242 0.30887736 0.2799623 ]\n",
      "  [0.74844984 0.68824747 0.6280451  ... 0.33221448 0.3037769  0.27533931]\n",
      "  [0.73588324 0.67669168 0.61750012 ... 0.32663654 0.29867643 0.27071632]\n",
      "  ...\n",
      "  [0.52331545 0.48122201 0.43912857 ... 0.23228406 0.21240053 0.192517  ]\n",
      "  [0.46724719 0.42966366 0.39208013 ... 0.20739704 0.18964384 0.17189064]\n",
      "  [0.41117894 0.37810532 0.3450317  ... 0.18251002 0.16688715 0.15126428]]\n",
      "\n",
      " [[0.84147098 0.77378636 0.70610173 ... 0.37350378 0.34153183 0.30955988]\n",
      "  [0.82757585 0.76100889 0.69444193 ... 0.36733615 0.33589214 0.30444814]\n",
      "  [0.81368071 0.74823142 0.68278213 ... 0.36116851 0.33025246 0.2993364 ]\n",
      "  ...\n",
      "  [0.57864028 0.53209673 0.48555317 ... 0.2568411  0.23485548 0.21286986]\n",
      "  [0.5166445  0.47508764 0.43353078 ... 0.22932303 0.20969296 0.19006289]\n",
      "  [0.45464871 0.41807855 0.38150839 ... 0.20180496 0.18453043 0.16725591]]]\n"
     ]
    }
   ],
   "source": [
    "# Generate example data\n",
    "x = np.linspace(0, 1, 3)\n",
    "y = np.linspace(0, 1, 4)\n",
    "z = np.linspace(0, 1, 5)\n",
    "\n",
    "# Create a grid of points\n",
    "xx, yy, zz = np.meshgrid(x, y, z, indexing=\"ij\")\n",
    "\n",
    "# Generate values for the grid points\n",
    "values = np.sin(xx) * np.cos(yy) * np.exp(-zz)\n",
    "\n",
    "# Create an instance of ScaledRegularGridInterpolator\n",
    "interp = ScaledRegularGridInterpolator(\n",
    "    points=(x, y, z),\n",
    "    values=values,\n",
    "    points_scale=[\"lin\", \"lin\", \"lin\"],  # Linear scaling for x, y, z\n",
    "    values_scale=\"lin\",  # Linear scaling for values\n",
    ")\n",
    "\n",
    "# Generate new points for interpolation\n",
    "x_new = np.linspace(0, 1, 10)\n",
    "y_new = np.linspace(0, 1, 11)\n",
    "z_new = np.linspace(0, 1, 12)\n",
    "\n",
    "# Create a grid of new points\n",
    "xx_new, yy_new, zz_new = np.meshgrid(x_new, y_new, z_new, indexing=\"ij\")\n",
    "\n",
    "# Interpolate the values at the new points\n",
    "interpolated_values = interp((xx_new, yy_new, zz_new))\n",
    "\n",
    "# Print the interpolated values for demonstration\n",
    "print(\"Interpolated Values:\")\n",
    "print(interpolated_values)"
   ]
  },
  {
   "cell_type": "code",
   "execution_count": 54,
   "id": "14ed5314-1167-409b-92e1-d7dafd77e1ee",
   "metadata": {},
   "outputs": [],
   "source": [
    "a = [0, 1, 2, 3]\n",
    "b = [0.5, 1.5, 2.5, 3.5]\n",
    "\n",
    "# c = [0, 0.5, 1, 1.5, 2, 2.5, 3, 3.5]"
   ]
  },
  {
   "cell_type": "code",
   "execution_count": 55,
   "id": "913e3ba2-2216-4962-83d3-b14bdb90097e",
   "metadata": {},
   "outputs": [
    {
     "name": "stdout",
     "output_type": "stream",
     "text": [
      "[0, 0.5, 1, 1.5, 2, 2.5, 3, 3.5]\n"
     ]
    }
   ],
   "source": [
    "c = [val for pair in zip(a, b) for val in pair]\n",
    "\n",
    "print(c)"
   ]
  },
  {
   "cell_type": "code",
   "execution_count": 26,
   "id": "9a387b5e-325a-423c-b250-37dd9d357f28",
   "metadata": {},
   "outputs": [
    {
     "name": "stdout",
     "output_type": "stream",
     "text": [
      "*** Grid Values ***\n",
      "sin values of grid\n",
      "[0.01773229 0.05708542 0.1329529  0.25635663 1.00629542]\n"
     ]
    }
   ],
   "source": [
    "import numpy as np\n",
    "import scipy\n",
    "\n",
    "# from astropy import units as u\n",
    "from km3irf.interpolation import ScaledRegularGridInterpolator\n",
    "\n",
    "\n",
    "class ContainmentInterpolator:\n",
    "    def __init__(self, rad_values):\n",
    "        self.rad = rad_values\n",
    "\n",
    "    def evaluate(self, rad):\n",
    "        # Placeholder function, replace with your actual evaluation logic\n",
    "        return np.sin(rad)\n",
    "\n",
    "    def _interpolate_containment(self):\n",
    "        if self.rad[0] > 0:\n",
    "            rad = np.insert(self.rad, 0, 0)\n",
    "        else:\n",
    "            rad = self.rad\n",
    "\n",
    "        rad_drad = 2 * np.pi * rad * self.evaluate(rad)\n",
    "        values = scipy.integrate.cumtrapz(rad_drad, rad, initial=0)\n",
    "\n",
    "        return ScaledRegularGridInterpolator(points=(rad,), values=values, fill_value=1)\n",
    "\n",
    "\n",
    "# Example usage\n",
    "rad_values = np.linspace(0.1, 1.0, int(1e6))\n",
    "print(\"*** Grid Values ***\")\n",
    "# print(rad_values)\n",
    "print(\"sin values of grid\")\n",
    "# print(np.sin(rad_values))\n",
    "interpolator = ContainmentInterpolator(rad_values)\n",
    "interpolated_function = interpolator._interpolate_containment()\n",
    "\n",
    "# Interpolate multiple points at once\n",
    "interpolated_values = interpolated_function([np.array([0.2, 0.3, 0.4, 0.5, 0.8])])\n",
    "print(interpolated_values)"
   ]
  },
  {
   "cell_type": "code",
   "execution_count": 17,
   "id": "287170d9-78a9-4b12-b058-57825491699a",
   "metadata": {},
   "outputs": [],
   "source": [
    "def exact_func(x):\n",
    "    return 2 * np.pi * (np.sin(x) - x * np.cos(x))"
   ]
  },
  {
   "cell_type": "code",
   "execution_count": 23,
   "id": "a7a20db5-9c64-439a-ac84-70d549facde4",
   "metadata": {},
   "outputs": [
    {
     "data": {
      "text/plain": [
       "array([0.01668824, 0.05604136, 0.13190884, 0.25531257, 1.00525136])"
      ]
     },
     "execution_count": 23,
     "metadata": {},
     "output_type": "execute_result"
    }
   ],
   "source": [
    "exact_func(np.array([0.2, 0.3, 0.4, 0.5, 0.8]))"
   ]
  }
 ],
 "metadata": {
  "kernelspec": {
   "display_name": "gammapy-0.20",
   "language": "python",
   "name": "gammapy-0.20"
  },
  "language_info": {
   "codemirror_mode": {
    "name": "ipython",
    "version": 3
   },
   "file_extension": ".py",
   "mimetype": "text/x-python",
   "name": "python",
   "nbconvert_exporter": "python",
   "pygments_lexer": "ipython3",
   "version": "3.10.6"
  }
 },
 "nbformat": 4,
 "nbformat_minor": 5
}
