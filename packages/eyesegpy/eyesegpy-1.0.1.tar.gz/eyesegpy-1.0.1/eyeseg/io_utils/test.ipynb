{
 "cells": [
  {
   "cell_type": "code",
   "execution_count": 58,
   "metadata": {
    "collapsed": true
   },
   "outputs": [
    {
     "data": {
      "text/plain": "<tf.Tensor: shape=(2,), dtype=float32, numpy=array([7.9214387, 7.9214387], dtype=float32)>"
     },
     "execution_count": 58,
     "metadata": {},
     "output_type": "execute_result"
    }
   ],
   "source": [
    "import tensorflow as tf\n",
    "\n",
    "\n",
    "\n",
    "\n",
    "\n",
    "\n",
    "    #heights = tf.cast(tf.math.round(true), tf.int32)\n",
    "\n",
    "    #return tf.reduce_mean(-tf.reduce_sum(tf.gather(pred, indices,  )\n",
    "\n",
    "layer_ce(true, pred)"
   ]
  },
  {
   "cell_type": "code",
   "execution_count": 56,
   "outputs": [],
   "source": [
    "import tensorflow as tf\n",
    "true = tf.tile(tf.expand_dims(tf.tile(tf.expand_dims(tf.range(10), 1), multiples=[1, 5]), 0), [2, 1,1])\n",
    "pred = tf.tile(tf.expand_dims(tf.range(10), 1), [1,10])\n",
    "pred = tf.tile(tf.expand_dims(tf.tile(tf.expand_dims(pred, -1) , [1,1,5]), 0), [2,1,1,1]) / 10"
   ],
   "metadata": {
    "collapsed": false,
    "pycharm": {
     "name": "#%%\n"
    }
   }
  },
  {
   "cell_type": "code",
   "execution_count": 42,
   "outputs": [],
   "source": [
    "x_indices = tf.reshape(tf.range(true.shape[1]), (1,10,1))\n",
    "x_indices = tf.tile(x_indices, (2,1,5))\n",
    "\n",
    "indices = tf.stack([true, x_indices], axis=1)"
   ],
   "metadata": {
    "collapsed": false,
    "pycharm": {
     "name": "#%%\n"
    }
   }
  },
  {
   "cell_type": "code",
   "execution_count": 43,
   "outputs": [
    {
     "data": {
      "text/plain": "<tf.Tensor: shape=(2, 2, 10, 5), dtype=int32, numpy=\narray([[[[0, 0, 0, 0, 0],\n         [1, 1, 1, 1, 1],\n         [2, 2, 2, 2, 2],\n         [3, 3, 3, 3, 3],\n         [4, 4, 4, 4, 4],\n         [5, 5, 5, 5, 5],\n         [6, 6, 6, 6, 6],\n         [7, 7, 7, 7, 7],\n         [8, 8, 8, 8, 8],\n         [9, 9, 9, 9, 9]],\n\n        [[0, 0, 0, 0, 0],\n         [1, 1, 1, 1, 1],\n         [2, 2, 2, 2, 2],\n         [3, 3, 3, 3, 3],\n         [4, 4, 4, 4, 4],\n         [5, 5, 5, 5, 5],\n         [6, 6, 6, 6, 6],\n         [7, 7, 7, 7, 7],\n         [8, 8, 8, 8, 8],\n         [9, 9, 9, 9, 9]]],\n\n\n       [[[0, 0, 0, 0, 0],\n         [1, 1, 1, 1, 1],\n         [2, 2, 2, 2, 2],\n         [3, 3, 3, 3, 3],\n         [4, 4, 4, 4, 4],\n         [5, 5, 5, 5, 5],\n         [6, 6, 6, 6, 6],\n         [7, 7, 7, 7, 7],\n         [8, 8, 8, 8, 8],\n         [9, 9, 9, 9, 9]],\n\n        [[0, 0, 0, 0, 0],\n         [1, 1, 1, 1, 1],\n         [2, 2, 2, 2, 2],\n         [3, 3, 3, 3, 3],\n         [4, 4, 4, 4, 4],\n         [5, 5, 5, 5, 5],\n         [6, 6, 6, 6, 6],\n         [7, 7, 7, 7, 7],\n         [8, 8, 8, 8, 8],\n         [9, 9, 9, 9, 9]]]], dtype=int32)>"
     },
     "execution_count": 43,
     "metadata": {},
     "output_type": "execute_result"
    }
   ],
   "source": [
    "indices"
   ],
   "metadata": {
    "collapsed": false,
    "pycharm": {
     "name": "#%%\n"
    }
   }
  },
  {
   "cell_type": "code",
   "execution_count": 47,
   "outputs": [
    {
     "data": {
      "text/plain": "<tf.Tensor: shape=(1, 1, 1), dtype=int32, numpy=array([[[5]]], dtype=int32)>"
     },
     "execution_count": 47,
     "metadata": {},
     "output_type": "execute_result"
    }
   ],
   "source": [
    "tf.gather_nd(pred, [[[[0,5,5,0]]]])"
   ],
   "metadata": {
    "collapsed": false,
    "pycharm": {
     "name": "#%%\n"
    }
   }
  }
 ],
 "metadata": {
  "kernelspec": {
   "display_name": "Python 3",
   "language": "python",
   "name": "python3"
  },
  "language_info": {
   "codemirror_mode": {
    "name": "ipython",
    "version": 2
   },
   "file_extension": ".py",
   "mimetype": "text/x-python",
   "name": "python",
   "nbconvert_exporter": "python",
   "pygments_lexer": "ipython2",
   "version": "2.7.6"
  }
 },
 "nbformat": 4,
 "nbformat_minor": 0
}
