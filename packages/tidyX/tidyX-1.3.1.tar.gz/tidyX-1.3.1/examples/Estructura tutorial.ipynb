{
 "cells": [
  {
   "attachments": {},
   "cell_type": "markdown",
   "metadata": {},
   "source": [
    "# Tidytweets\n",
    "Clean text extracted from social networks to perform various NLP tasks such as topic analysis, word embeddings, sentiment analysis, etc.\n",
    "\n",
    "## Table of contents\n",
    "1. `remove_repetitions`\n",
    "2. `remove_last_repetition`\n",
    "3. `remove_urls`\n",
    "4. `remove_RT`\n",
    "5. `remove_accents`\n",
    "6. `remove_hashtags`\n",
    "7. `remove_mentions`\n",
    "8. `remove_special_characters`\n",
    "9. `remove_extra_spaces`\n",
    "10. `space_between_emojis`\n",
    "11. `preprocess`\n",
    "12. `remove_words`\n",
    "13. `unnest_tokens`\n",
    "14. `spanish_lemmatizer`\n",
    "15. `create_bol`\n",
    "16. Tutorial: Topic Modelling"
   ]
  },
  {
   "cell_type": "code",
   "execution_count": 2,
   "metadata": {},
   "outputs": [
    {
     "ename": "ModuleNotFoundError",
     "evalue": "No module named 'tidyX.TextVisualizer'",
     "output_type": "error",
     "traceback": [
      "\u001b[1;31m---------------------------------------------------------------------------\u001b[0m",
      "\u001b[1;31mModuleNotFoundError\u001b[0m                       Traceback (most recent call last)",
      "\u001b[1;32m<ipython-input-2-e055911648c8>\u001b[0m in \u001b[0;36m<module>\u001b[1;34m\u001b[0m\n\u001b[0;32m      1\u001b[0m \u001b[1;31m# Set-up\u001b[0m\u001b[1;33m\u001b[0m\u001b[1;33m\u001b[0m\u001b[1;33m\u001b[0m\u001b[0m\n\u001b[0;32m      2\u001b[0m \u001b[1;32mimport\u001b[0m \u001b[0mtidyX\u001b[0m\u001b[1;33m.\u001b[0m\u001b[0mTextPreprocessor\u001b[0m \u001b[1;32mas\u001b[0m \u001b[0mtt\u001b[0m\u001b[1;33m\u001b[0m\u001b[1;33m\u001b[0m\u001b[0m\n\u001b[1;32m----> 3\u001b[1;33m \u001b[1;32mimport\u001b[0m \u001b[0mtidyX\u001b[0m\u001b[1;33m.\u001b[0m\u001b[0mTextVisualizer\u001b[0m \u001b[1;32mas\u001b[0m \u001b[0mtv\u001b[0m\u001b[1;33m\u001b[0m\u001b[1;33m\u001b[0m\u001b[0m\n\u001b[0m\u001b[0;32m      4\u001b[0m \u001b[1;32mimport\u001b[0m \u001b[0mtidyX\u001b[0m\u001b[1;33m.\u001b[0m\u001b[0mSpacyPreprocessor\u001b[0m \u001b[1;32mas\u001b[0m \u001b[0msp\u001b[0m\u001b[1;33m\u001b[0m\u001b[1;33m\u001b[0m\u001b[0m\n",
      "\u001b[1;31mModuleNotFoundError\u001b[0m: No module named 'tidyX.TextVisualizer'"
     ]
    }
   ],
   "source": [
    "# Set-up\n",
    "import tidyX.TextPreprocessor as tt\n",
    "import tidyX.TextVisualizer as tv\n",
    "import tidyX.SpacyPreprocessor as sp\n"
   ]
  },
  {
   "attachments": {},
   "cell_type": "markdown",
   "metadata": {},
   "source": [
    "## 1. `remove_repetitions`\n",
    "**Description of the function**\n",
    "\n",
    "This function deletes any consecutive repetition of characters in a string. For example, the string 'coooroosooo' will be changed to 'coroso'. As in many languages it's common to have some special characters that can be repeated, for example the 'l' in spanish to form 'll', the exception argument could be used to specify which characters are allowed to repeat once.\n",
    "\n",
    "**When is it useful to use it?**\n",
    "\n",
    "In social media, it is common for people to repeat certain characters of a word in order to add more emotion to a sentence. However, when we attempt to count the occurrences of a word, the various ways in which a word can be written make it difficult to uniquely identify each instance. One simple solution to this issue is to use the `remove_repetitions` function. Let's consider the following tweet:\n",
    "\n",
    "<center>\n",
    "<img src=\"img/remove_repetitions1.png\" alt=\"remove_repetitions1\" height=300px />\n",
    "</center>\n",
    "\n",
    "In this particular case, the author writes \"Goooal\" and \"Goal.\" Consequently, it becomes necessary for us to eliminate the repeated \"o\"s in the first word in order to make both words equal."
   ]
  },
  {
   "cell_type": "code",
   "execution_count": null,
   "metadata": {},
   "outputs": [
    {
     "name": "stdout",
     "output_type": "stream",
     "text": [
      "Before: Goooal ⚽️⚽️⚽️ Christiano Ronaldo Amazing Goal Juventus vs Real Madrid 1-3 Champions League Final #JUVRMA #UCLFinal2017 #JuventusRealMadrid\n"
     ]
    }
   ],
   "source": [
    "string_example = \"Goooal ⚽️⚽️⚽️ Christiano Ronaldo Amazing Goal Juventus vs Real Madrid 1-3 Champions League Final #JUVRMA #UCLFinal2017 #JuventusRealMadrid\"\n",
    "print(\"Before:\", string_example)"
   ]
  },
  {
   "cell_type": "code",
   "execution_count": null,
   "metadata": {},
   "outputs": [
    {
     "name": "stdout",
     "output_type": "stream",
     "text": [
      "After: Goal ⚽️⚽️⚽️ Christiano Ronaldo Amazing Goal Juventus vs Real Madrid 1-3 Champions League Final #JUVRMA #UCLFinal2017 #JuventusRealMadrid\n"
     ]
    }
   ],
   "source": [
    "string_without_repetitions = tt.remove_repetitions(string = string_example, exceptions = None)\n",
    "print(\"After:\", string_without_repetitions)"
   ]
  },
  {
   "attachments": {},
   "cell_type": "markdown",
   "metadata": {},
   "source": [
    "However, it's worth noting that there exist numerous words that feature the repetition of a single character. To address this, the `remove_repetitions` function incorporates the `exceptions` parameter, which allows for specifying a list of characters that are permitted to appear twice. For instance, if we set `exceptions = ['p']`, words such as 'happpy' will be cleaned and transformed into 'happy'. The default value for this parameter is `['r', 'l', 'n', 'c', 'a', 'e', 'o']`. Let's see another example:\n",
    "\n",
    "<center>\n",
    "<img src=\"img/remove_repetitions2.png\" alt=\"remove_repetitions2\" width=300px />\n",
    "</center>"
   ]
  },
  {
   "cell_type": "code",
   "execution_count": null,
   "metadata": {},
   "outputs": [
    {
     "name": "stdout",
     "output_type": "stream",
     "text": [
      "Before: HAPPPYYYYY GRADUATION TO US!! THANKYOUUUU LORD!!! 🫶🤍\n"
     ]
    }
   ],
   "source": [
    "string_example = \"HAPPPYYYYY GRADUATION TO US!! THANKYOUUUU LORD!!! 🫶🤍\"\n",
    "print(\"Before:\", string_example)"
   ]
  },
  {
   "cell_type": "code",
   "execution_count": null,
   "metadata": {},
   "outputs": [
    {
     "name": "stdout",
     "output_type": "stream",
     "text": [
      "After: HAPPY GRADUATION TO US! THANKYOU LORD! 🫶🤍\n"
     ]
    }
   ],
   "source": [
    "string_without_repetitions = tt.remove_repetitions(string = string_example, exceptions = [\"P\"])\n",
    "print(\"After:\", string_without_repetitions)"
   ]
  },
  {
   "attachments": {},
   "cell_type": "markdown",
   "metadata": {},
   "source": [
    "## 2. `remove_last_repetition`\n",
    "\n",
    "**Description of the function**\n",
    "\n",
    "The `remove_last_repetition` function is designed to remove the repetition of the last character in each word of a given string. It's particularly useful when dealing with text that contains repeated characters at the end of words, a common occurrence in social media posts where users emphasize words for expression. This function helps clean and standardize the text by eliminating these last-character repetitions.\n",
    "\n",
    "**When is it useful to use it?**\n",
    "\n",
    "Imagine you are analyzing text data from social media platforms, and you want to ensure consistency in your analysis by removing repetitive characters at the end of words. For example, in Spanish, words typically do not end with a repeated character, but social media users often add emphasis by repeating the last character. Let's explore a practical use case with a tweet:"
   ]
  },
  {
   "cell_type": "code",
   "execution_count": null,
   "metadata": {},
   "outputs": [
    {
     "name": "stdout",
     "output_type": "stream",
     "text": [
      "Before: Holaaaa amigooo\n",
      "After: Hola amigo\n"
     ]
    }
   ],
   "source": [
    "# Original tweet with last-character repetitions\n",
    "string_example = \"Holaaaa amigooo\"\n",
    "print(\"Before:\", string_example)\n",
    "\n",
    "# Apply remove_last_repetition function to clean the text\n",
    "string_without_last_repetitions = tt.remove_last_repetition(string=string_example)\n",
    "print(\"After:\", string_without_last_repetitions)"
   ]
  },
  {
   "cell_type": "markdown",
   "metadata": {},
   "source": [
    "In this case, the input string contains repeated characters at the end of words, like \"Holaaaa\" and \"amigooo.\" To ensure consistent analysis, you can use the `remove_last_repetition` function, which removes the last-character repetitions and transforms the text into \"Hola amigo.\""
   ]
  },
  {
   "attachments": {},
   "cell_type": "markdown",
   "metadata": {},
   "source": [
    "## 3. `remove_urls`\n",
    "**Description of the function**\n",
    "\n",
    "The `remove_urls` function is designed to remove all URLs that start with \"http\" from a given string. It's a handy tool for text processing when you want to eliminate URLs from a text dataset, making it cleaner and more focused on textual content. This function scans the entire string, identifies any sequences of characters that start with \"http\" and continue until a space or end of the line, and removes them.\n",
    "\n",
    "**When is it useful to use it?**\n",
    "\n",
    "You may encounter situations where you want to analyze or visualize the textual content of a dataset, but the presence of URLs can clutter the text and skew your analysis. This is especially common in social media data, chat messages, or web scraping scenarios. Let's explore a practical use case with a sample text containing URLs:"
   ]
  },
  {
   "cell_type": "code",
   "execution_count": null,
   "metadata": {},
   "outputs": [
    {
     "name": "stdout",
     "output_type": "stream",
     "text": [
      "Before: Check out our website: http://example.com. For more info, visit http://example2.com\n",
      "After: Check out our website:  For more info, visit \n"
     ]
    }
   ],
   "source": [
    "# Original text with URLs\n",
    "string_example = \"Check out our website: http://example.com. For more info, visit http://example2.com\"\n",
    "print(\"Before:\", string_example)\n",
    "\n",
    "# Apply remove_urls function to clean the text\n",
    "string_without_urls = tt.remove_urls(string=string_example)\n",
    "print(\"After:\", string_without_urls)"
   ]
  },
  {
   "cell_type": "markdown",
   "metadata": {},
   "source": [
    "In this case, the input string contains two URLs, \"http://example.com\" and \"http://example2.com.\" To focus on the textual content without the distraction of URLs, you can use the `remove_urls` function, which removes them and results in cleaner text."
   ]
  },
  {
   "attachments": {},
   "cell_type": "markdown",
   "metadata": {},
   "source": [
    "## 4. `remove_RT`\n",
    "\n",
    "**Description of the function**\n",
    "\n",
    "The `remove_RT` function is designed to remove the \"RT\" prefix from tweets. In the context of social media, \"RT\" typically stands for \"Retweet\" and is often used as a prefix when users share or retweet content. This function is useful for cleaning and standardizing tweet text data by removing the \"RT\" prefix, accounting for varying amounts of white space after \"RT.\"\n",
    "\n",
    "**When is it useful to use it?**\n",
    "\n",
    "When you're working with tweet data and you want to analyze or visualize the content of tweets without the distraction of the \"RT\" prefix, the remove_RT function comes in handy. Retweets often have the \"RT\" prefix at the beginning, but the amount of white space after \"RT\" can vary. Let's explore a practical use case:"
   ]
  },
  {
   "cell_type": "code",
   "execution_count": null,
   "metadata": {},
   "outputs": [
    {
     "name": "stdout",
     "output_type": "stream",
     "text": [
      "Before: RT     @username: Check out this amazing article!\n",
      "After: @username: Check out this amazing article!\n"
     ]
    }
   ],
   "source": [
    "# Original tweet with \"RT\" prefix\n",
    "string_example = \"RT     @username: Check out this amazing article!\"\n",
    "print(\"Before:\", string_example)\n",
    "\n",
    "# Apply remove_RT function to clean the tweet\n",
    "cleaned_tweet = tt.remove_RT(string=string_example)\n",
    "print(\"After:\", cleaned_tweet)"
   ]
  },
  {
   "cell_type": "markdown",
   "metadata": {},
   "source": [
    "In this case, the input tweet contains the \"RT\" prefix followed by varying amounts of white space before the actual content of the tweet. To focus on the tweet's content and remove the \"RT\" prefix, you can use the `remove_RT` function, which standardizes the text and results in a tweet without the \"RT\" prefix."
   ]
  },
  {
   "attachments": {},
   "cell_type": "markdown",
   "metadata": {},
   "source": [
    "## 5. `remove_accents`\n",
    "\n",
    "**Description of the function**\n",
    "\n",
    "The `remove_accents` function serves two purposes: it removes accent marks from characters in a given string and can optionally remove emojis. Accent marks can be common in languages like French or Spanish (this specific use case), and removing them can be helpful for text processing tasks. This function provides flexibility by allowing you to choose whether to remove emojis as well.\n",
    "\n",
    "**When is it useful to use it?**\n",
    "\n",
    "The `remove_accents` function is particularly useful when working with text data that contains accented characters, and you want to simplify the text for analysis or comparison. Additionally, if your text data includes emojis that are not relevant to your analysis, you can choose to remove them as well. Let's explore a practical use case:"
   ]
  },
  {
   "cell_type": "code",
   "execution_count": null,
   "metadata": {},
   "outputs": [
    {
     "name": "stdout",
     "output_type": "stream",
     "text": [
      "Before: Café ☕️ à côté de l'hôtel. 😃\n",
      "After: Cafe  a cote de l'hotel. \n"
     ]
    }
   ],
   "source": [
    "# Original text with accents and emojis\n",
    "string_example = \"Café ☕️ à côté de l'hôtel. 😃\"\n",
    "print(\"Before:\", string_example)\n",
    "\n",
    "# Apply remove_accents function to clean the text (removing emojis)\n",
    "cleaned_text = tt.remove_accents(string=string_example, delete_emojis=True)\n",
    "print(\"After:\", cleaned_text)"
   ]
  },
  {
   "cell_type": "markdown",
   "metadata": {},
   "source": [
    "In this case, the input text contains accented characters (e.g., \"é\") and emojis (e.g., \"☕️\" and \"😃\"). To simplify the text for analysis and remove emojis, you can use the `remove_accents` function with the `delete_emojis` option set to True, resulting in cleaned text without accents or emojis."
   ]
  },
  {
   "cell_type": "markdown",
   "metadata": {},
   "source": [
    "This method is flexible over the total number of followed emojis on a text, let's process a Spanish common example:\n",
    "<center>\n",
    "<img src=\"img/remove_accents.png\" alt=\"remove_accents\" width=500px />\n",
    "</center>"
   ]
  },
  {
   "cell_type": "code",
   "execution_count": null,
   "metadata": {},
   "outputs": [
    {
     "name": "stdout",
     "output_type": "stream",
     "text": [
      "Before: ‼️ La función de traductor no funciona así que este tweet es solo para nuestros seguidores hispanohablantes, siempre van a ser nuestros favoritos y ahora vamos a poner emojis tristes para que los que no hablan español se preocupen 😭  y también esta foto fuera de contexto 😔💔\n",
      "After: !! La funcion de traductor no funciona asi que este tweet es solo para nuestros seguidores hispanohablantes, siempre van a ser nuestros favoritos y ahora vamos a poner emojis tristes para que los que no hablan espanol se preocupen   y tambien esta foto fuera de contexto \n"
     ]
    }
   ],
   "source": [
    "# Original text with accents and emojis\n",
    "string_example = \"‼️ La función de traductor no funciona así que este tweet es solo para nuestros seguidores hispanohablantes, siempre van a ser nuestros favoritos y ahora vamos a poner emojis tristes para que los que no hablan español se preocupen 😭  y también esta foto fuera de contexto 😔💔\"\n",
    "print(\"Before:\", string_example)\n",
    "\n",
    "# Apply remove_accents function to clean the text (removing emojis)\n",
    "cleaned_text = tt.remove_accents(string=string_example, delete_emojis=True)\n",
    "print(\"After:\", cleaned_text)"
   ]
  },
  {
   "cell_type": "markdown",
   "metadata": {},
   "source": [
    "As we saw, the method removed continuously repeated emojis, but passes over \"!!\" v2 class emojis (Link to the emoji: https://abs-0.twimg.com/emoji/v2/svg/203c.svg). This is due to the fact that it is considered an expression, rather not a direct emoji, when you type double exclamation on Twitter. You can see a full list of this wildcard emoji converter expressions on X's documentation in https://twemoji.twitter.com/ and some examples in https://twitter.com/FakeUnicode/status/1251505174348095488"
   ]
  },
  {
   "attachments": {},
   "cell_type": "markdown",
   "metadata": {},
   "source": [
    "## 6. `remove_hashtags`\n",
    "\n",
    "**Description of the function**\n",
    "\n",
    "The `remove_hashtags` function is designed to remove hashtags from a given string. In social media and text data, hashtags are often used to categorize or highlight content. This function scans the input string and removes any text that starts with a '#' and is followed by alphanumeric characters, effectively removing hashtags from the text.\n",
    "\n",
    "**When is it useful to use it?**\n",
    "\n",
    "You might encounter situations where you want to analyze or visualize text data without the presence of hashtags. Hashtags can be prevalent in social media posts and may not be relevant to your analysis. Let's explore a practical use case:"
   ]
  },
  {
   "cell_type": "code",
   "execution_count": null,
   "metadata": {},
   "outputs": [
    {
     "name": "stdout",
     "output_type": "stream",
     "text": [
      "Before: Exploring the beauty of #nature in #springtime. #NaturePhotography 🌼\n",
      "After: Exploring the beauty of  in .  🌼\n"
     ]
    }
   ],
   "source": [
    "# Original text with hashtags\n",
    "string_example = \"Exploring the beauty of #nature in #springtime. #NaturePhotography 🌼\"\n",
    "print(\"Before:\", string_example)\n",
    "\n",
    "# Apply remove_hashtags function to clean the text\n",
    "cleaned_text = tt.remove_hashtags(string=string_example)\n",
    "print(\"After:\", cleaned_text)"
   ]
  },
  {
   "cell_type": "markdown",
   "metadata": {},
   "source": [
    "In this case, the input text contains hashtags such as \"#nature,\" \"#springtime,\" and \"#NaturePhotography.\" To focus on the textual content without the distraction of hashtags, you can use the `remove_hashtags` function, which removes them and results in a cleaner text."
   ]
  },
  {
   "attachments": {},
   "cell_type": "markdown",
   "metadata": {},
   "source": [
    "## 7. `remove_mentions`\n",
    "\n",
    "**Description of the function**\n",
    "\n",
    "The `remove_mentions` function is designed to remove mentions (e.g., @username) from a given tweet string. In the context of social media, mentions are often used to reference or tag other users. This function scans the input tweet string and removes any text that starts with '@' followed by a username. Optionally, it can also return a list of unique mentions found in the tweet.\n",
    "\n",
    "**When is it useful to use it?**\n",
    "\n",
    "You may encounter situations where you want to analyze or visualize tweet text data without the presence of mentions. Mentions can be common in social media posts and may not be relevant to your analysis. Additionally, you might want to extract and track mentioned accounts separately. Let's explore a practical use case:"
   ]
  },
  {
   "cell_type": "code",
   "execution_count": null,
   "metadata": {},
   "outputs": [
    {
     "name": "stdout",
     "output_type": "stream",
     "text": [
      "Before: Exploring the beauty of nature with @NatureExplorer and @WildlifeEnthusiast. #NaturePhotography 🌼\n",
      "After: Exploring the beauty of nature with  and . #NaturePhotography 🌼\n",
      "Extracted Mentions: ['@WildlifeEnthusiast', '@NatureExplorer']\n"
     ]
    }
   ],
   "source": [
    "# Original tweet with mentions\n",
    "string_example = \"Exploring the beauty of nature with @NatureExplorer and @WildlifeEnthusiast. #NaturePhotography 🌼\"\n",
    "print(\"Before:\", string_example)\n",
    "\n",
    "# Apply remove_mentions function to clean the tweet and extract mentions\n",
    "cleaned_text, extracted_mentions = tt.remove_mentions(string=string_example, extract=True)\n",
    "print(\"After:\", cleaned_text)\n",
    "print(\"Extracted Mentions:\", extracted_mentions)"
   ]
  },
  {
   "cell_type": "markdown",
   "metadata": {},
   "source": [
    "In this case, the input tweet text contains mentions such as \"@NatureExplorer\" and \"@WildlifeEnthusiast.\" To focus on the textual content without the distraction of mentions and to extract mentioned accounts, you can use the `remove_mentions` function, which removes mentions and provides a list of unique mentions found in the tweet."
   ]
  },
  {
   "attachments": {},
   "cell_type": "markdown",
   "metadata": {},
   "source": [
    "## 8. `remove_special_characters`\n",
    "\n",
    "**Description of the function**\n",
    "\n",
    "The `remove_special_characters` function is designed to remove all characters from a string except for lowercase letters and spaces. It's a useful tool for cleaning text data when you want to focus on the textual content while excluding punctuation marks, exclamation marks, special characters, numbers, and uppercase letters. This function scans the input string and removes any character that does not match the criteria.\n",
    "\n",
    "**When is it useful to use it?**\n",
    "\n",
    "You may encounter situations where you want to preprocess text data and eliminate special characters and non-lowercase characters to make it more suitable for natural language processing tasks. Cleaning text in this way can help improve text analysis, topic modeling, or sentiment analysis. Let's explore a practical use case:"
   ]
  },
  {
   "cell_type": "code",
   "execution_count": null,
   "metadata": {},
   "outputs": [
    {
     "name": "stdout",
     "output_type": "stream",
     "text": [
      "Before: This is an example text! It contains special characters. 123\n",
      "After: his is an example text t contains special characters\n"
     ]
    }
   ],
   "source": [
    "string_example = \"This is an example text! It contains special characters. 123\"\n",
    "print(\"Before:\", string_example)\n",
    "\n",
    "# Apply remove_special_characters function to clean the text\n",
    "cleaned_text = tt.remove_special_characters(string=string_example)\n",
    "print(\"After:\", cleaned_text)"
   ]
  },
  {
   "cell_type": "markdown",
   "metadata": {},
   "source": [
    "In this case, the input text contains special characters, punctuation marks, numbers, and uppercase letters. To focus on the textual content with lowercase letters and spaces only, you can use the `remove_special_characters` function, which removes the undesired characters and results in a cleaner text. Beware to lowercase your text before applying this method over your corpus, as you can see on the past example, it can remove useful strings."
   ]
  },
  {
   "attachments": {},
   "cell_type": "markdown",
   "metadata": {},
   "source": [
    "## 9. `remove_extra_spaces`\n",
    "\n",
    "**Description of the function**\n",
    "\n",
    "The `remove_extra_spaces` function is designed to remove extra spaces within and surrounding a given string. It's a valuable tool for cleaning text data when you want to standardize spaces, trim leading and trailing spaces, and replace consecutive spaces between words with a single space. This function helps improve the consistency and readability of text.\n",
    "\n",
    "**When is it useful to use it?**\n",
    "\n",
    "You may encounter situations where you want to preprocess text data and ensure consistent spacing for better readability and analysis. Extra spaces can be common in unstructured text, and cleaning them can enhance text analysis, especially when dealing with natural language processing tasks. Let's explore a practical use case:"
   ]
  },
  {
   "cell_type": "code",
   "execution_count": null,
   "metadata": {},
   "outputs": [
    {
     "name": "stdout",
     "output_type": "stream",
     "text": [
      "Before: This is    an   example  text with extra   spaces.     \n",
      "After: This is an example text with extra spaces.\n"
     ]
    }
   ],
   "source": [
    "# Original text with extra spaces\n",
    "string_example = \"This is    an   example  text with extra   spaces.     \"\n",
    "print(\"Before:\", string_example)\n",
    "\n",
    "# Apply remove_extra_spaces function to clean the text\n",
    "cleaned_text = tt.remove_extra_spaces(string=string_example)\n",
    "print(\"After:\", cleaned_text)"
   ]
  },
  {
   "cell_type": "markdown",
   "metadata": {},
   "source": [
    "In this case, the input text contains extra spaces between words and leading/trailing spaces. To standardize the spacing and remove the extra spaces, you can use the `remove_extra_spaces` function, which trims leading/trailing spaces and replaces consecutive spaces with a single space."
   ]
  },
  {
   "attachments": {},
   "cell_type": "markdown",
   "metadata": {},
   "source": [
    "## 10. `space_between_emojis`\n",
    "\n",
    "**Description of the function**\n",
    "\n",
    "The `space_between_emojis` function is designed to insert spaces around emojis within a given string. It ensures that emojis are separated from other text or emojis in the string. This function is helpful for improving the readability of text containing emojis and ensuring proper spacing. It also removes any extra spaces resulting from the insertion of spaces around emojis.\n",
    "\n",
    "**When is it useful to use it?**\n",
    "\n",
    "This function is particularly useful when you're working with text data that includes emojis and you want to enhance the visual presentation of the text. Emojis are often used for expressing emotions or conveying messages, and proper spacing ensures that emojis are distinct and do not run together. Let's explore a practical use case:"
   ]
  },
  {
   "cell_type": "code",
   "execution_count": null,
   "metadata": {},
   "outputs": [
    {
     "name": "stdout",
     "output_type": "stream",
     "text": [
      "Before: I love😍this place🌴It's amazing!👏\n"
     ]
    },
    {
     "ename": "AttributeError",
     "evalue": "module 'emoji' has no attribute 'UNICODE_EMOJI'",
     "output_type": "error",
     "traceback": [
      "\u001b[1;31m---------------------------------------------------------------------------\u001b[0m",
      "\u001b[1;31mAttributeError\u001b[0m                            Traceback (most recent call last)",
      "\u001b[1;32m<ipython-input-90-0158916aa645>\u001b[0m in \u001b[0;36m<module>\u001b[1;34m\u001b[0m\n\u001b[0;32m      4\u001b[0m \u001b[1;33m\u001b[0m\u001b[0m\n\u001b[0;32m      5\u001b[0m \u001b[1;31m# Apply space_between_emojis function to add spaces around emojis\u001b[0m\u001b[1;33m\u001b[0m\u001b[1;33m\u001b[0m\u001b[1;33m\u001b[0m\u001b[0m\n\u001b[1;32m----> 6\u001b[1;33m \u001b[0mcleaned_text\u001b[0m \u001b[1;33m=\u001b[0m \u001b[0mtt\u001b[0m\u001b[1;33m.\u001b[0m\u001b[0mspace_between_emojis\u001b[0m\u001b[1;33m(\u001b[0m\u001b[0mstring\u001b[0m\u001b[1;33m=\u001b[0m\u001b[0mstring_example\u001b[0m\u001b[1;33m)\u001b[0m\u001b[1;33m\u001b[0m\u001b[1;33m\u001b[0m\u001b[0m\n\u001b[0m\u001b[0;32m      7\u001b[0m \u001b[0mprint\u001b[0m\u001b[1;33m(\u001b[0m\u001b[1;34m\"After:\"\u001b[0m\u001b[1;33m,\u001b[0m \u001b[0mcleaned_text\u001b[0m\u001b[1;33m)\u001b[0m\u001b[1;33m\u001b[0m\u001b[1;33m\u001b[0m\u001b[0m\n",
      "\u001b[1;32mc:\\Python39\\lib\\site-packages\\tidyX\\TextPreprocessor.py\u001b[0m in \u001b[0;36mspace_between_emojis\u001b[1;34m(string)\u001b[0m\n",
      "\u001b[1;32mc:\\Python39\\lib\\site-packages\\tidyX\\TextPreprocessor.py\u001b[0m in \u001b[0;36m<genexpr>\u001b[1;34m(.0)\u001b[0m\n",
      "\u001b[1;31mAttributeError\u001b[0m: module 'emoji' has no attribute 'UNICODE_EMOJI'"
     ]
    }
   ],
   "source": [
    "# Original text with emojis\n",
    "string_example = \"I love😍this place🌴It's amazing!👏\"\n",
    "print(\"Before:\", string_example)\n",
    "\n",
    "# Apply space_between_emojis function to add spaces around emojis\n",
    "cleaned_text = tt.space_between_emojis(string=string_example)\n",
    "print(\"After:\", cleaned_text)"
   ]
  },
  {
   "cell_type": "markdown",
   "metadata": {},
   "source": [
    "In this case, the input text contains emojis such as \"😍,\" \"🌴,\" and \"👏\" mixed with regular text. To ensure that emojis are separated from other text and from each other, you can use the `space_between_emojis` function, which inserts spaces around emojis and removes any extra spaces resulting from the insertion."
   ]
  },
  {
   "attachments": {},
   "cell_type": "markdown",
   "metadata": {},
   "source": [
    "## 11. `preprocess`\n",
    "\n",
    "**Description of the function**\n",
    "\n",
    "The `preprocess` function is a comprehensive text preprocessing tool designed to clean and standardize tweet text. It applies a series of cleaning functions to perform tasks such as removing retweet prefixes, converting text to lowercase, removing accents and emojis, extracting or removing mentions, removing URLs, hashtags, special characters, extra spaces, and consecutive repeated characters with specified exceptions. This function offers extensive text cleaning capabilities and prepares tweet text for analysis or visualization.\n",
    "\n",
    "**When is it useful to use it?**\n",
    "\n",
    "The `preprocess` function is particularly useful when you're working with tweet data and need to clean and standardize the text for various text analysis tasks. Tweet text can be messy and contain various elements such as mentions, URLs, emojis, and special characters that may need to be processed and standardized. Let's explore a practical use case:\n"
   ]
  },
  {
   "cell_type": "code",
   "execution_count": null,
   "metadata": {},
   "outputs": [
    {
     "name": "stdout",
     "output_type": "stream",
     "text": [
      "Before: RT @user1: I love this place! 😍 Check out the link: https://example.com #travel #vacation!!!\n",
      "After: i love this place check out the link\n",
      "Extracted Mentions: ['@user1']\n"
     ]
    }
   ],
   "source": [
    "# Original tweet with various elements\n",
    "string_example = \"RT @user1: I love this place! 😍 Check out the link: https://example.com #travel #vacation!!!\"\n",
    "print(\"Before:\", string_example)\n",
    "\n",
    "# Apply preprocess function to clean and preprocess the tweet\n",
    "cleaned_text, extracted_mentions = tt.preprocess(string=string_example, delete_emojis=True)\n",
    "print(\"After:\", cleaned_text)\n",
    "print(\"Extracted Mentions:\", extracted_mentions)"
   ]
  },
  {
   "cell_type": "markdown",
   "metadata": {},
   "source": [
    "In this case, the input tweet text contains retweet prefixes, mentions, emojis, URLs, hashtags, and special characters. To standardize the tweet text for analysis, you can use the `preprocess` function, which performs a series of cleaning operations to remove or extract various elements and return cleaned text and mentions."
   ]
  },
  {
   "attachments": {},
   "cell_type": "markdown",
   "metadata": {},
   "source": [
    "## 12. `remove_words`\n",
    "\n",
    "**Description of the function**\n",
    "\n",
    "The `remove_words` function is designed to remove all occurrences of specific words listed in the `bag_of_words` parameter from a given string. This function is particularly useful for removing stopwords or any other set of unwanted words from text data. It performs an exact match, meaning it will remove only the exact words listed in the `bag_of_words` and won't remove variations of those words that are not in the list.\n",
    "\n",
    "**When is it useful to use it?**\n",
    "\n",
    "This function is valuable when you want to clean text data by removing specific words that are not relevant to your analysis or that you consider stopwords. It's commonly used in natural language processing tasks to improve the quality of text analysis, topic modeling, or sentiment analysis. Let's explore a practical use case:\n"
   ]
  },
  {
   "cell_type": "code",
   "execution_count": null,
   "metadata": {},
   "outputs": [
    {
     "name": "stdout",
     "output_type": "stream",
     "text": [
      "Before: This is an example sentence with some unnecessary words like 'the', 'is', and 'with'.\n",
      "Stopwords to Remove: ['the', 'is', 'and', 'with']\n",
      "After: This an example sentence some unnecessary words like '', '', ''.\n"
     ]
    }
   ],
   "source": [
    "# Original text with stopwords\n",
    "string_example = \"This is an example sentence with some unnecessary words like 'the', 'is', and 'with'.\"\n",
    "print(\"Before:\", string_example)\n",
    "\n",
    "# List of stopwords to remove\n",
    "stopwords = [\"the\", \"is\", \"and\", \"with\"]\n",
    "print(\"Stopwords to Remove:\", stopwords)\n",
    "\n",
    "# Apply remove_words function to clean the text\n",
    "cleaned_text = tt.remove_words(string=string_example, bag_of_words=stopwords)\n",
    "print(\"After:\", cleaned_text)"
   ]
  },
  {
   "cell_type": "markdown",
   "metadata": {},
   "source": [
    "In this case, the input text contains stopwords such as \"the,\" \"is,\" and \"with.\" To clean the text by removing these stopwords, you can use the `remove_words` function, which removes the specified words from the text."
   ]
  },
  {
   "attachments": {},
   "cell_type": "markdown",
   "metadata": {},
   "source": [
    "## 13. `unnest_tokens`\n",
    "\n",
    "**Description of the function**\n",
    "\n",
    "The `unnest_tokens` function is designed to flatten a pandas DataFrame by tokenizing a specified column. It takes a pandas DataFrame, the name of the column to tokenize, and an optional flag to create an \"id\" column based on the DataFrame's index. Each token in the specified column becomes a separate row in the resulting DataFrame, effectively \"exploding\" the data into a long format.\n",
    "\n",
    "**When is it useful to use it?**\n",
    "\n",
    "This function is useful when you have text data stored in a DataFrame, and you want to transform it into a format that is more suitable for certain text analysis or modeling tasks. For instance, when working with natural language processing or text mining, you may need to tokenize text data and represent it in a format where each token corresponds to a separate row. Let's explore a practical use case:"
   ]
  },
  {
   "cell_type": "code",
   "execution_count": null,
   "metadata": {},
   "outputs": [
    {
     "name": "stdout",
     "output_type": "stream",
     "text": [
      "Original DataFrame:\n",
      "                     text_column\n",
      "0     This is a sample sentence.\n",
      "1  Another sentence with tokens.\n",
      "2  Text analysis is interesting.\n",
      "\n",
      "Tokenized DataFrame:\n",
      "   id   text_column\n",
      "0   0          This\n",
      "0   0            is\n",
      "0   0             a\n",
      "0   0        sample\n",
      "0   0     sentence.\n",
      "1   1       Another\n",
      "1   1      sentence\n",
      "1   1          with\n",
      "1   1       tokens.\n",
      "2   2          Text\n",
      "2   2      analysis\n",
      "2   2            is\n",
      "2   2  interesting.\n"
     ]
    }
   ],
   "source": [
    "import pandas as pd\n",
    "# Create a sample DataFrame with a text column\n",
    "data = {'text_column': [\"This is a sample sentence.\",\n",
    "                        \"Another sentence with tokens.\",\n",
    "                        \"Text analysis is interesting.\"]}\n",
    "df = pd.DataFrame(data)\n",
    "print(\"Original DataFrame:\")\n",
    "print(df)\n",
    "\n",
    "# Apply unnest_tokens function to tokenize the text column\n",
    "tokenized_df = tt.unnest_tokens(df=df, input_column='text_column')\n",
    "print(\"\\nTokenized DataFrame:\")\n",
    "print(tokenized_df)"
   ]
  },
  {
   "cell_type": "markdown",
   "metadata": {},
   "source": [
    "In this case, the input DataFrame contains a column named 'text_column' with sentences. To tokenize the text and transform it into a long format where each token is a separate row, you can use the `unnest_tokens` function."
   ]
  },
  {
   "attachments": {},
   "cell_type": "markdown",
   "metadata": {},
   "source": [
    "## 14. `spanish_lemmatizer`\n",
    "\n",
    "**Description of the function**\n",
    "\n",
    "The `spanish_lemmatizer` function is designed to lemmatize a given Spanish language token using Spacy's Spanish language model. It takes a token (word) and a Spacy language model object as input and returns the lemmatized version of the token with accents removed. This function is valuable for text analysis tasks where you need to reduce words to their base or dictionary form.\n",
    "\n",
    "**When is it useful to use it?**\n",
    "\n",
    "This function is useful when you're working with text data in Spanish and want to perform text analysis tasks such as sentiment analysis, topic modeling, or text classification. Lemmatization helps standardize words to their base form, reducing the complexity of text data. Let's explore a practical use case:"
   ]
  },
  {
   "cell_type": "code",
   "execution_count": null,
   "metadata": {},
   "outputs": [
    {
     "name": "stderr",
     "output_type": "stream",
     "text": [
      "C:\\Users\\JOSE\\AppData\\Roaming\\Python\\Python39\\site-packages\\spacy\\util.py:1742: UserWarning: [W111] Jupyter notebook detected: if using `prefer_gpu()` or `require_gpu()`, include it in the same cell right before `spacy.load()` to ensure that the model is loaded on the correct device. More information: http://spacy.io/usage/v3#jupyter-notebook-gpu\n",
      "  warnings.warn(Warnings.W111)\n"
     ]
    },
    {
     "name": "stdout",
     "output_type": "stream",
     "text": [
      "Original Token: corriendo\n",
      "Lemmatized Token: correr\n"
     ]
    }
   ],
   "source": [
    "import spacy\n",
    "#!python -m spacy download es_core_news_sm # Download Spanish language model. Run this line first!\n",
    "# Load Spacy's Spanish language model (you should have this model downloaded)\n",
    "nlp = spacy.load(\"es_core_news_sm\")\n",
    "\n",
    "# Input token to lemmatize\n",
    "token = \"corriendo\"  # Example token in Spanish\n",
    "print(\"Original Token:\", token)\n",
    "\n",
    "# Apply spanish_lemmatizer function to lemmatize the token\n",
    "lemmatized_token = tt.spanish_lemmatizer(token=token, model=nlp)\n",
    "print(\"Lemmatized Token:\", lemmatized_token)"
   ]
  },
  {
   "cell_type": "markdown",
   "metadata": {},
   "source": [
    "In this case, we have an input token, \"corriendo,\" in Spanish that we want to lemmatize to its base form. We use the `spanish_lemmatizer` function to perform the lemmatization."
   ]
  },
  {
   "attachments": {},
   "cell_type": "markdown",
   "metadata": {},
   "source": [
    "## 15. `create_bol`\n",
    "\n",
    "**Description of the function**\n",
    "\n",
    "The `create_bol` function is designed to group lemmas based on Levenshtein distance to handle misspelled words in social media data. It takes a numpy array containing lemmas and an optional verbose flag for progress reporting. The function groups similar lemmas into bags of lemmas based on their Levenshtein distance. The result is a pandas DataFrame that contains information about the bags of lemmas, including their IDs, names, associated lemmas, and the similarity threshold used for grouping.\n",
    "\n",
    "**When is it useful to use it?**\n",
    "\n",
    "This function is useful when you're dealing with text data, especially social media data, where misspelled or variations of words are common. Grouping similar lemmas together can help clean and organize text data for analysis, improving the accuracy of text-based tasks like sentiment analysis or topic modeling. Let's explore a practical use case:"
   ]
  },
  {
   "cell_type": "code",
   "execution_count": null,
   "metadata": {},
   "outputs": [
    {
     "name": "stdout",
     "output_type": "stream",
     "text": [
      "Original Lemmas:\n",
      "['apple' 'aple' 'apples' 'banana' 'banan' 'bananas' 'cherry' 'cheri'\n",
      " 'cherries']\n",
      "An error occurred: integer division or modulo by zero\n",
      "\n",
      "Bags of Lemmas DataFrame:\n",
      "   bow_id bow_name   lemma  similarity  threshold\n",
      "0       1    apple   apple         100         86\n",
      "1       1    apple    aple          89         86\n",
      "2       1    apple  apples          91         86\n"
     ]
    }
   ],
   "source": [
    "import pandas as pd\n",
    "import numpy as np\n",
    "# Create a numpy array of lemmas\n",
    "lemmas = np.array(['apple', 'aple', 'apples', 'banana', 'banan', 'bananas', 'cherry', 'cheri', 'cherries'])\n",
    "print(\"Original Lemmas:\")\n",
    "print(lemmas)\n",
    "\n",
    "# Apply create_bol function to group similar lemmas\n",
    "bol_df = tt.create_bol(lemmas=lemmas, verbose=True)\n",
    "print(\"\\nBags of Lemmas DataFrame:\")\n",
    "print(bol_df)"
   ]
  },
  {
   "cell_type": "markdown",
   "metadata": {},
   "source": [
    "In this case, we have an array of lemmas representing fruits, but some of the lemmas are misspelled or have variations. We want to group similar lemmas together into bags of lemmas using the `create_bol` function."
   ]
  },
  {
   "cell_type": "markdown",
   "metadata": {},
   "source": [
    "## 16. `get_most_common_strings`\n",
    "\n",
    "**Description of the function**\n",
    "\n",
    "The `get_most_common_strings` function is designed to identify and retrieve the most common strings in a list of texts. It takes two arguments: a list of texts and an integer specifying the number of most common words to return. The function calculates word frequencies across the texts and returns a list of the most frequently occurring words along with their respective counts.\n",
    "\n",
    "**When is it useful to use it?**\n",
    "\n",
    "This function is particularly useful when you want to gain insights into the content of a collection of texts. It helps you identify which words or strings are the most prevalent within the text data. You can use this information for various purposes, including data validation, descriptive analysis, or identifying significant terms in text data. Let's explore a practical use case:"
   ]
  },
  {
   "cell_type": "code",
   "execution_count": null,
   "metadata": {},
   "outputs": [
    {
     "name": "stdout",
     "output_type": "stream",
     "text": [
      "Most Common Strings:\n",
      "[('quick', 4), ('brown', 3), ('jumps', 3), ('over', 3), ('lazy', 3)]\n"
     ]
    }
   ],
   "source": [
    "# List of example texts\n",
    "texts = [\n",
    "    \"The quick brown fox jumps over the lazy dog.\",\n",
    "    \"A quick brown dog jumps over a lazy fox.\",\n",
    "    \"The quick brown dog jumps over the quick lazy fox.\"\n",
    "]\n",
    "\n",
    "# Number of most common strings to retrieve\n",
    "num_strings = 5\n",
    "\n",
    "# Apply get_most_common_strings function to find the most common words\n",
    "most_common_words = tt.get_most_common_strings(texts=texts, num_strings=num_strings)\n",
    "print(\"Most Common Strings:\")\n",
    "print(most_common_words)"
   ]
  },
  {
   "cell_type": "markdown",
   "metadata": {},
   "source": [
    "In this case, we have a list of example texts, and we want to find the most common words within these texts using the `get_most_common_strings` function."
   ]
  },
  {
   "cell_type": "markdown",
   "metadata": {},
   "source": [
    "## 17. `spacy_pipeline`\n",
    "\n",
    "**Description of the function**\n",
    "\n",
    "The `spacy_pipeline` function is a comprehensive text preprocessing tool that leverages spaCy's capabilities to process a list of documents. It allows you to customize the spaCy pipeline, including options such as using a custom lemmatizer for Spanish, specifying stopwords language, choosing a spaCy model, and retrieving the most common words after preprocessing.\n",
    "\n",
    "The function takes several arguments, including a list of documents, a custom lemmatizer flag, pipeline components, stopwords language, spaCy model, and the number of most common words to return. It processes the documents by tokenizing, lemmatizing, and removing stopwords, providing you with well-preprocessed documents and a list of the most common words within them.\n",
    "\n",
    "**When is it useful to use it?**\n",
    "\n",
    "This function is highly useful when you need to preprocess a collection of text documents for natural language processing tasks. It offers flexibility by allowing you to configure the spaCy pipeline according to your specific requirements. Additionally, it provides insights into the most common words in the preprocessed documents, which can be valuable for data validation or descriptive analysis. Let's explore a practical use case:"
   ]
  },
  {
   "cell_type": "code",
   "execution_count": null,
   "metadata": {},
   "outputs": [
    {
     "name": "stderr",
     "output_type": "stream",
     "text": [
      "C:\\Users\\JOSE\\AppData\\Roaming\\Python\\Python39\\site-packages\\spacy\\util.py:1742: UserWarning: [W111] Jupyter notebook detected: if using `prefer_gpu()` or `require_gpu()`, include it in the same cell right before `spacy.load()` to ensure that the model is loaded on the correct device. More information: http://spacy.io/usage/v3#jupyter-notebook-gpu\n",
      "  warnings.warn(Warnings.W111)\n",
      "100%|██████████| 3/3 [00:00<00:00, 2945.44it/s]"
     ]
    },
    {
     "name": "stdout",
     "output_type": "stream",
     "text": [
      "Processed Documents:\n",
      "Document 1: rapido zorro marron salta perro perezoso .\n",
      "Document 2: veloz perro marron salta zorro perezoso .\n",
      "Document 3: rapido perro marron salta veloz zorro perezoso .\n",
      "\n",
      "Most Common Words:\n",
      "[('zorro', 3), ('marron', 3), ('salta', 3), ('perro', 3), ('perezoso', 3)]\n"
     ]
    },
    {
     "name": "stderr",
     "output_type": "stream",
     "text": [
      "\n"
     ]
    }
   ],
   "source": [
    "# List of example documents\n",
    "documents = [\n",
    "    \"El rápido zorro marrón salta sobre el perro perezoso.\",\n",
    "    \"Un veloz perro marrón salta sobre un zorro perezoso.\",\n",
    "    \"El rápido perro marrón salta sobre el veloz zorro perezoso.\"\n",
    "]\n",
    "\n",
    "# Specify preprocessing options\n",
    "custom_lemmatizer = False\n",
    "pipeline = ['tokenize', 'lemmatizer']\n",
    "stopwords_language = 'spanish'\n",
    "model = 'es_core_news_sm'\n",
    "num_strings = 5\n",
    "\n",
    "# Apply spacy_pipeline function to preprocess documents\n",
    "processed_documents, most_common_words = tt.spacy_pipeline(\n",
    "    documents=documents,\n",
    "    custom_lemmatizer=custom_lemmatizer,\n",
    "    pipeline=pipeline,\n",
    "    stopwords_language=stopwords_language,\n",
    "    model=model,\n",
    "    num_strings=num_strings\n",
    ")\n",
    "\n",
    "print(\"Processed Documents:\")\n",
    "for i, doc in enumerate(processed_documents):\n",
    "    print(f\"Document {i + 1}: {' '.join(doc)}\")\n",
    "\n",
    "print(\"\\nMost Common Words:\")\n",
    "print(most_common_words)"
   ]
  },
  {
   "cell_type": "markdown",
   "metadata": {},
   "source": [
    "## 18. `dependency_parse_visualizer_text`\n",
    "\n",
    "**Description of the function**\n",
    "\n",
    "The `dependency_parse_visualizer_text` function is designed to visualize the dependency parsing or named entity recognition (NER) of a single text document. It leverages spaCy's visualization tool, DisplaCy, to render a graphical representation of linguistic features. The function is configurable, allowing you to specify the visualization style, whether you're working within a Jupyter notebook environment, and which spaCy model to use for parsing.\n",
    "\n",
    "**When is it Useful to Use this Function?**\n",
    "\n",
    "This function is beneficial in multiple scenarios:\n",
    "\n",
    "1. **Exploratory Data Analysis (EDA):** During the initial stages of text analysis, understanding the syntactic structure of your documents can be crucial. The visualization helps you to quickly grasp the relationships between words in a sentence or identify named entities.\n",
    "\n",
    "2. **Debugging NLP Pipelines:** If you're building an NLP pipeline that includes dependency parsing or named entity recognition, this function serves as a helpful debugging tool. You can visually confirm whether the spaCy model is interpreting the text as expected.\n",
    "\n",
    "3. **Educational Purposes:** If you're learning about dependency parsing or named entity recognition, visual representations can significantly aid your understanding of these complex linguistic features.\n",
    "\n",
    "4. **Reporting and Presentation:** You can use this function to generate visualizations for reports or presentations, making your findings more accessible to those without a technical background in linguistics or NLP.\n",
    "\n",
    "Here a practical dependency example:"
   ]
  },
  {
   "cell_type": "code",
   "execution_count": null,
   "metadata": {},
   "outputs": [
    {
     "ename": "AttributeError",
     "evalue": "type object 'TextPreprocessor' has no attribute 'dependency_parse_visualizer_text'",
     "output_type": "error",
     "traceback": [
      "\u001b[1;31m---------------------------------------------------------------------------\u001b[0m",
      "\u001b[1;31mAttributeError\u001b[0m                            Traceback (most recent call last)",
      "\u001b[1;32m<ipython-input-92-90cc0859d5b1>\u001b[0m in \u001b[0;36m<module>\u001b[1;34m\u001b[0m\n\u001b[0;32m      3\u001b[0m \u001b[1;33m\u001b[0m\u001b[0m\n\u001b[0;32m      4\u001b[0m \u001b[1;31m# Visualizing the dependency parse\u001b[0m\u001b[1;33m\u001b[0m\u001b[1;33m\u001b[0m\u001b[1;33m\u001b[0m\u001b[0m\n\u001b[1;32m----> 5\u001b[1;33m \u001b[0mtt\u001b[0m\u001b[1;33m.\u001b[0m\u001b[0mdependency_parse_visualizer_text\u001b[0m\u001b[1;33m(\u001b[0m\u001b[0mdocument\u001b[0m\u001b[1;33m,\u001b[0m \u001b[0mstyle\u001b[0m\u001b[1;33m=\u001b[0m\u001b[1;34m'dep'\u001b[0m\u001b[1;33m,\u001b[0m \u001b[0mjupyter\u001b[0m\u001b[1;33m=\u001b[0m\u001b[1;32mTrue\u001b[0m\u001b[1;33m,\u001b[0m \u001b[0mmodel\u001b[0m\u001b[1;33m=\u001b[0m\u001b[1;34m'es_core_news_sm'\u001b[0m\u001b[1;33m)\u001b[0m\u001b[1;33m\u001b[0m\u001b[1;33m\u001b[0m\u001b[0m\n\u001b[0m",
      "\u001b[1;31mAttributeError\u001b[0m: type object 'TextPreprocessor' has no attribute 'dependency_parse_visualizer_text'"
     ]
    }
   ],
   "source": [
    "\n",
    "# Example document in Spanish\n",
    "document = \"El perro saltó sobre el gato.\"\n",
    "\n",
    "# Visualizing the dependency parse\n",
    "tv.dependency_parse_visualizer_text(document, style='dep', jupyter=True, model='es_core_news_sm')"
   ]
  },
  {
   "cell_type": "markdown",
   "metadata": {},
   "source": [
    "Now let's visualize the named entities instead"
   ]
  },
  {
   "cell_type": "code",
   "execution_count": null,
   "metadata": {},
   "outputs": [
    {
     "data": {
      "text/html": [
       "<span class=\"tex2jax_ignore\"><div class=\"entities\" style=\"line-height: 2.5; direction: ltr\">El \n",
       "<mark class=\"entity\" style=\"background: #7aecec; padding: 0.45em 0.6em; margin: 0 0.25em; line-height: 1; border-radius: 0.35em;\">\n",
       "    Banco Mundial\n",
       "    <span style=\"font-size: 0.8em; font-weight: bold; line-height: 1; border-radius: 0.35em; vertical-align: middle; margin-left: 0.5rem\">ORG</span>\n",
       "</mark>\n",
       " decidió contactar al gobierno de \n",
       "<mark class=\"entity\" style=\"background: #ff9561; padding: 0.45em 0.6em; margin: 0 0.25em; line-height: 1; border-radius: 0.35em;\">\n",
       "    Argentina\n",
       "    <span style=\"font-size: 0.8em; font-weight: bold; line-height: 1; border-radius: 0.35em; vertical-align: middle; margin-left: 0.5rem\">LOC</span>\n",
       "</mark>\n",
       " para ofrecerle ayuda. \n",
       "<mark class=\"entity\" style=\"background: #ddd; padding: 0.45em 0.6em; margin: 0 0.25em; line-height: 1; border-radius: 0.35em;\">\n",
       "    Varios\n",
       "    <span style=\"font-size: 0.8em; font-weight: bold; line-height: 1; border-radius: 0.35em; vertical-align: middle; margin-left: 0.5rem\">MISC</span>\n",
       "</mark>\n",
       " países como \n",
       "<mark class=\"entity\" style=\"background: #ff9561; padding: 0.45em 0.6em; margin: 0 0.25em; line-height: 1; border-radius: 0.35em;\">\n",
       "    Estados Unidos\n",
       "    <span style=\"font-size: 0.8em; font-weight: bold; line-height: 1; border-radius: 0.35em; vertical-align: middle; margin-left: 0.5rem\">LOC</span>\n",
       "</mark>\n",
       ", \n",
       "<mark class=\"entity\" style=\"background: #ff9561; padding: 0.45em 0.6em; margin: 0 0.25em; line-height: 1; border-radius: 0.35em;\">\n",
       "    China\n",
       "    <span style=\"font-size: 0.8em; font-weight: bold; line-height: 1; border-radius: 0.35em; vertical-align: middle; margin-left: 0.5rem\">LOC</span>\n",
       "</mark>\n",
       " y \n",
       "<mark class=\"entity\" style=\"background: #ff9561; padding: 0.45em 0.6em; margin: 0 0.25em; line-height: 1; border-radius: 0.35em;\">\n",
       "    Rusia\n",
       "    <span style=\"font-size: 0.8em; font-weight: bold; line-height: 1; border-radius: 0.35em; vertical-align: middle; margin-left: 0.5rem\">LOC</span>\n",
       "</mark>\n",
       " también ofrecieron su ayuda.</div></span>"
      ],
      "text/plain": [
       "<IPython.core.display.HTML object>"
      ]
     },
     "metadata": {},
     "output_type": "display_data"
    }
   ],
   "source": [
    "# Example document in Spanish\n",
    "document = \"El Banco Mundial decidió contactar al gobierno de Argentina para ofrecerle ayuda. Varios países como Estados Unidos, China y Rusia también ofrecieron su ayuda.\"\n",
    "\n",
    "# Visualizing the named entities\n",
    "tv.dependency_parse_visualizer_text(document, style='ent', jupyter=True, model='es_core_news_sm')"
   ]
  },
  {
   "cell_type": "markdown",
   "metadata": {},
   "source": [
    "In this example, we have a list of Spanish documents, and we want to preprocess them using the `spacy_pipeline` function with specific configuration options."
   ]
  },
  {
   "attachments": {},
   "cell_type": "markdown",
   "metadata": {},
   "source": [
    "## 19. Tutorial: Topic Modelling\n",
    "**Introduction**\n",
    "\n",
    "In the age of social media, Twitter has become a fertile ground for data mining, sentiment analysis, and various other natural language processing (NLP) tasks. However, dealing with Spanish tweets adds another layer of complexity due to language-specific nuances, slang, abbreviations, and other colloquial expressions. 'TidyX' aims to streamline the preprocessing pipeline for Spanish tweets, making them ready for various NLP tasks such as text classification, topic modeling, sentiment analysis, and more. In this tutorial, we will focus on a classification task based on Topic Modelling, showing preprocessing, modeling and results with real data snippets.\n",
    "\n",
    "**Context**\n",
    "\n",
    "Using data provided by [Barómetro de Xenofobia](https://barometrodexenofobia.org/), a world-class, renowned non-profit organization that quantifies the amount of hate speech against migrants on social media, we aim to classify the overall conversation related to migrants. This is a **common NLP task** that involves preprocessing poorly-written social media posts. Subsequently, these processed posts are fed into an unsupervised Topic Classification Model (LDA) to identify an optimal number of cluster topics. This helps reveal the main discussion points concerning Venezuelan migrants in Colombia."
   ]
  },
  {
   "cell_type": "code",
   "execution_count": 7,
   "metadata": {},
   "outputs": [
    {
     "data": {
      "text/html": [
       "<div>\n",
       "<style scoped>\n",
       "    .dataframe tbody tr th:only-of-type {\n",
       "        vertical-align: middle;\n",
       "    }\n",
       "\n",
       "    .dataframe tbody tr th {\n",
       "        vertical-align: top;\n",
       "    }\n",
       "\n",
       "    .dataframe thead th {\n",
       "        text-align: right;\n",
       "    }\n",
       "</style>\n",
       "<table border=\"1\" class=\"dataframe\">\n",
       "  <thead>\n",
       "    <tr style=\"text-align: right;\">\n",
       "      <th></th>\n",
       "      <th>Snippet</th>\n",
       "    </tr>\n",
       "  </thead>\n",
       "  <tbody>\n",
       "    <tr>\n",
       "      <th>0</th>\n",
       "      <td>Snippet</td>\n",
       "    </tr>\n",
       "    <tr>\n",
       "      <th>1</th>\n",
       "      <td>RT @emilsen_manozca ¿Me regala una moneda pa u...</td>\n",
       "    </tr>\n",
       "    <tr>\n",
       "      <th>2</th>\n",
       "      <td>RT @CriptoNoticias Banco venezolano activa ser...</td>\n",
       "    </tr>\n",
       "    <tr>\n",
       "      <th>3</th>\n",
       "      <td>Capturado venezolano que asesinó a comerciante...</td>\n",
       "    </tr>\n",
       "    <tr>\n",
       "      <th>4</th>\n",
       "      <td>RT @PersoneriaVpar @PersoneriaVpar acompaña al...</td>\n",
       "    </tr>\n",
       "    <tr>\n",
       "      <th>5</th>\n",
       "      <td>Bueno ya sacaron la carta de \"amenaza de atent...</td>\n",
       "    </tr>\n",
       "    <tr>\n",
       "      <th>6</th>\n",
       "      <td>@IvanDuque es muy bueno que se le dé respaldo ...</td>\n",
       "    </tr>\n",
       "    <tr>\n",
       "      <th>7</th>\n",
       "      <td>RT @RafaelG10099924 @mluciaramirez @Eganbernal...</td>\n",
       "    </tr>\n",
       "    <tr>\n",
       "      <th>8</th>\n",
       "      <td>#ParaVenezuelaPropongo que se levante el bloqu...</td>\n",
       "    </tr>\n",
       "    <tr>\n",
       "      <th>9</th>\n",
       "      <td>RT @geoduque La diferencia entre la preocupaci...</td>\n",
       "    </tr>\n",
       "  </tbody>\n",
       "</table>\n",
       "</div>"
      ],
      "text/plain": [
       "                                             Snippet\n",
       "0                                            Snippet\n",
       "1  RT @emilsen_manozca ¿Me regala una moneda pa u...\n",
       "2  RT @CriptoNoticias Banco venezolano activa ser...\n",
       "3  Capturado venezolano que asesinó a comerciante...\n",
       "4  RT @PersoneriaVpar @PersoneriaVpar acompaña al...\n",
       "5  Bueno ya sacaron la carta de \"amenaza de atent...\n",
       "6  @IvanDuque es muy bueno que se le dé respaldo ...\n",
       "7  RT @RafaelG10099924 @mluciaramirez @Eganbernal...\n",
       "8  #ParaVenezuelaPropongo que se levante el bloqu...\n",
       "9  RT @geoduque La diferencia entre la preocupaci..."
      ]
     },
     "execution_count": 7,
     "metadata": {},
     "output_type": "execute_result"
    }
   ],
   "source": [
    "# PREPARATIONS\n",
    "# Environment set-up\n",
    "from tidyX import TextPreprocessor as tt\n",
    "import pandas as pd\n",
    "# Getting the data:\n",
    "# In this tutorial, we use a sample dataset of 799053 tweets related to Venezuelan migrants in Colombia.\n",
    "# For efficiency we will only use a random sample of 1000 tweets\n",
    "tweets = pd.read_excel(\"..\\data\\Tweets sobre venezuela.xlsx\", header=None, names=['Snippet'])\n",
    "tweets.head(10)"
   ]
  },
  {
   "cell_type": "markdown",
   "metadata": {},
   "source": [
    "**Preprocessing Tweets**\n",
    "\n",
    "We will then use `preprocess` function to clean the sample and prepare it for modelling"
   ]
  },
  {
   "cell_type": "code",
   "execution_count": null,
   "metadata": {},
   "outputs": [],
   "source": [
    "cleaning_process = lambda x: tt.preprocess(x, delete_emojis=True, extract=False)\n",
    "tweets['Clean_tweets'] = tweets['Snippet'].apply(cleaning_process)"
   ]
  },
  {
   "cell_type": "markdown",
   "metadata": {},
   "source": [
    "Here is a random sample of the before and after with specific Tweets"
   ]
  },
  {
   "cell_type": "code",
   "execution_count": null,
   "metadata": {},
   "outputs": [
    {
     "name": "stdout",
     "output_type": "stream",
     "text": [
      "Before and After Text Cleaning:\n",
      "----------------------------------------\n",
      "Original: Éste si es muy cínico, en vez de ayudar a los venezolanos que tanto lo necesitan, hace show con Colombia, Cúcuta y colombianos.\n",
      "Cleaned: este si es muy cinico en vez de ayudar a los venezolanos que tanto lo necesitan hace show con colombia cucuta y colombianos\n",
      "----------------------------------------\n",
      "Original: RT @robertodeniz No tardará Diosdado en salir a decir que los venezolanos que están entre la frontera de Colombia y Ecuador son actores contratados para que los medios hablen de una inexistente crisis migratoria...\n",
      "Cleaned: no tardara diosdado en salir a decir que los venezolanos que estan entre la frontera de colombia y ecuador son actores contratados para que los medios hablen de una inexistente crisis migratoria\n",
      "----------------------------------------\n",
      "Original: En @migravenezuela | Migración Colombia presentó este jueves las cifras más recientes de los venezolanos en el país. Aunque 10.000 venezolanos regularizaron su estatus en el último mes, aumentó el número de irregulares. https://t.co/1iYQKJUdyw https://t.co/gjyaHTSP6f\n",
      "Cleaned: en migracion colombia presento este jueves las cifras mas recientes de los venezolanos en el pais aunque venezolanos regularizaron su estatus en el ultimo mes aumento el numero de irregulares\n",
      "----------------------------------------\n",
      "Original: #LaGuajira Venezolanos se estarían robando las rejas de los colegios en Maicao https://t.co/JLfQ9pEmTG\n",
      "Cleaned: venezolanos se estarian robando las rejas de los colegios en maicao\n",
      "----------------------------------------\n",
      "Original: RT @AlbertoRodNews Almagro: “Venezolanos tienen derecho a vivir en su país libre” https://t.co/oewTQuRL2n\n",
      "Cleaned: almagro venezolanos tienen derecho a vivir en su pais libre\n",
      "----------------------------------------\n"
     ]
    }
   ],
   "source": [
    "sample_tweets = tweets.sample(5, random_state=1)  # You can change the random_state for different samples\n",
    "print(\"Before and After Text Cleaning:\")\n",
    "print('-' * 40)\n",
    "for index, row in sample_tweets.iterrows():\n",
    "    print(f\"Original: {row['Snippet']}\")\n",
    "    print(f\"Cleaned: {row['Clean_tweets']}\")\n",
    "    print('-' * 40)"
   ]
  },
  {
   "cell_type": "markdown",
   "metadata": {},
   "source": [
    "**Tokenize the dataset**\n",
    "\n",
    "This representation of the dataset will return a list of tokens per document. `spacy_pipeline` function returns a list of lists of processed lemmatized and stopword absent tweets. "
   ]
  },
  {
   "cell_type": "code",
   "execution_count": null,
   "metadata": {},
   "outputs": [
    {
     "name": "stderr",
     "output_type": "stream",
     "text": [
      "C:\\Users\\JOSE\\AppData\\Roaming\\Python\\Python39\\site-packages\\spacy\\util.py:1742: UserWarning: [W111] Jupyter notebook detected: if using `prefer_gpu()` or `require_gpu()`, include it in the same cell right before `spacy.load()` to ensure that the model is loaded on the correct device. More information: http://spacy.io/usage/v3#jupyter-notebook-gpu\n",
      "  warnings.warn(Warnings.W111)\n",
      "100%|██████████| 1001/1001 [03:23<00:00,  4.91it/s]\n"
     ]
    }
   ],
   "source": [
    "tokenized_cleaned_tweets = tt.spacy_pipeline(tweets['Clean_tweets'].to_list(), custom_lemmatizer=True, pipeline=['tokenize', 'lemmatizer'], stopwords_language='spanish', model='es_core_news_sm', num_strings=0)"
   ]
  },
  {
   "cell_type": "markdown",
   "metadata": {},
   "source": [
    "Here is a random sample of the before and after with specific Tweets"
   ]
  },
  {
   "cell_type": "code",
   "execution_count": null,
   "metadata": {},
   "outputs": [
    {
     "name": "stdout",
     "output_type": "stream",
     "text": [
      "Before and After Text Cleaning:\n",
      "----------------------------------------\n",
      "Original: Éste si es muy cínico, en vez de ayudar a los venezolanos que tanto lo necesitan, hace show con Colombia, Cúcuta y colombianos.\n",
      "Cleaned: ['si', 'cinico', 'vez', 'ayudar', 'venezolanos', 'necesitan', 'hace', 'show', 'colombia', 'cucuta', 'colombianos']\n",
      "----------------------------------------\n",
      "Original: RT @robertodeniz No tardará Diosdado en salir a decir que los venezolanos que están entre la frontera de Colombia y Ecuador son actores contratados para que los medios hablen de una inexistente crisis migratoria...\n",
      "Cleaned: ['tardara', 'diosdado', 'salir', 'decir', 'venezolanos', 'estan', 'frontera', 'colombia', 'ecuador', 'actores', 'contratados', 'medios', 'hablen', 'inexistente', 'crisis', 'migratoria']\n",
      "----------------------------------------\n",
      "Original: En @migravenezuela | Migración Colombia presentó este jueves las cifras más recientes de los venezolanos en el país. Aunque 10.000 venezolanos regularizaron su estatus en el último mes, aumentó el número de irregulares. https://t.co/1iYQKJUdyw https://t.co/gjyaHTSP6f\n",
      "Cleaned: ['migracion', 'colombia', 'presento', 'jueves', 'cifras', 'mas', 'recientes', 'venezolanos', 'pais', 'aunque', 'venezolanos', 'regularizaron', 'estatus', 'ultimo', 'mes', 'aumento', 'numero', 'irregulares']\n",
      "----------------------------------------\n",
      "Original: #LaGuajira Venezolanos se estarían robando las rejas de los colegios en Maicao https://t.co/JLfQ9pEmTG\n",
      "Cleaned: ['venezolanos', 'estarian', 'robando', 'rejas', 'colegios', 'maicao']\n",
      "----------------------------------------\n",
      "Original: RT @AlbertoRodNews Almagro: “Venezolanos tienen derecho a vivir en su país libre” https://t.co/oewTQuRL2n\n",
      "Cleaned: ['almagro', 'venezolanos', 'derecho', 'vivir', 'pais', 'libre']\n",
      "----------------------------------------\n"
     ]
    }
   ],
   "source": [
    "tweets['lemmatized_tweets'] = tokenized_cleaned_tweets\n",
    "sample_tweets = tweets.sample(5, random_state=1)  # You can change the random_state for different samples\n",
    "print(\"Before and After Text Cleaning:\")\n",
    "print('-' * 40)\n",
    "for index, row in sample_tweets.iterrows():\n",
    "    print(f\"Original: {row['Snippet']}\")\n",
    "    print(f\"Cleaned: {row['lemmatized_tweets']}\")\n",
    "    print('-' * 40)"
   ]
  },
  {
   "cell_type": "markdown",
   "metadata": {},
   "source": [
    "**Seemingly used words and social media bad writting addressing**\n",
    "\n",
    "May you saw in the previous proccesed tweets that there are seemingly used or Out-of-Vocabulary (OOV) words that became evident after processing and cleaning the tweets showed. This words can be a result of bad spelling, common in social media, abbreviations, or other language rules.\n",
    "\n",
    "Here we propose a method to handle this limitations, some research related to this topic establishes local solutions to this condition, we invite the user to try this approach and also find some other resources to proccess the resulted lemmas. Some additional research to handle OOV words can be found in:\n",
    "\n",
    "1. [FastText](https://github.com/facebookresearch/fastText)\n",
    "2. [Kaggle NER Bi-LSTM](https://www.kaggle.com/code/jatinmittal0001/ner-bi-lstm-dealing-with-oov-words)\n",
    "3. [Contextual Spell Check](https://github.com/R1j1t/contextualSpellCheck)\n",
    "\n",
    "We use our `create_bol` function to find distances between lemmas, we are based on the premise that seemingly used lemmas ar far away from the original corpus and don't have a big apperance on it. Warning: Expect long kernel runs, this method evaluates each distance from a lemma N-1 times."
   ]
  },
  {
   "cell_type": "code",
   "execution_count": null,
   "metadata": {},
   "outputs": [
    {
     "name": "stdout",
     "output_type": "stream",
     "text": [
      "0.08% completed.\n",
      "9.43% completed.\n",
      "18.49% completed.\n",
      "26.48% completed.\n",
      "34.31% completed.\n",
      "41.38% completed.\n",
      "47.59% completed.\n",
      "53.96% completed.\n",
      "59.79% completed.\n",
      "65.79% completed.\n",
      "71.48% completed.\n",
      "77.16% completed.\n",
      "82.47% completed.\n",
      "87.85% completed.\n",
      "93.09% completed.\n",
      "98.32% completed.\n"
     ]
    },
    {
     "data": {
      "text/html": [
       "<div>\n",
       "<style scoped>\n",
       "    .dataframe tbody tr th:only-of-type {\n",
       "        vertical-align: middle;\n",
       "    }\n",
       "\n",
       "    .dataframe tbody tr th {\n",
       "        vertical-align: top;\n",
       "    }\n",
       "\n",
       "    .dataframe thead th {\n",
       "        text-align: right;\n",
       "    }\n",
       "</style>\n",
       "<table border=\"1\" class=\"dataframe\">\n",
       "  <thead>\n",
       "    <tr style=\"text-align: right;\">\n",
       "      <th></th>\n",
       "      <th>bow_id</th>\n",
       "      <th>bow_name</th>\n",
       "      <th>lemma</th>\n",
       "      <th>similarity</th>\n",
       "      <th>threshold</th>\n",
       "    </tr>\n",
       "  </thead>\n",
       "  <tbody>\n",
       "    <tr>\n",
       "      <th>0</th>\n",
       "      <td>1</td>\n",
       "      <td>venezolanos</td>\n",
       "      <td>venezolanos</td>\n",
       "      <td>100</td>\n",
       "      <td>85</td>\n",
       "    </tr>\n",
       "    <tr>\n",
       "      <th>1</th>\n",
       "      <td>1</td>\n",
       "      <td>venezolanos</td>\n",
       "      <td>venezolano</td>\n",
       "      <td>95</td>\n",
       "      <td>85</td>\n",
       "    </tr>\n",
       "    <tr>\n",
       "      <th>2</th>\n",
       "      <td>1</td>\n",
       "      <td>venezolanos</td>\n",
       "      <td>venezolana</td>\n",
       "      <td>86</td>\n",
       "      <td>85</td>\n",
       "    </tr>\n",
       "    <tr>\n",
       "      <th>3</th>\n",
       "      <td>1</td>\n",
       "      <td>venezolanos</td>\n",
       "      <td>venezolanas</td>\n",
       "      <td>91</td>\n",
       "      <td>85</td>\n",
       "    </tr>\n",
       "    <tr>\n",
       "      <th>4</th>\n",
       "      <td>1</td>\n",
       "      <td>venezolanos</td>\n",
       "      <td>venezolanosla</td>\n",
       "      <td>92</td>\n",
       "      <td>85</td>\n",
       "    </tr>\n",
       "    <tr>\n",
       "      <th>5</th>\n",
       "      <td>2</td>\n",
       "      <td>mas</td>\n",
       "      <td>mas</td>\n",
       "      <td>100</td>\n",
       "      <td>87</td>\n",
       "    </tr>\n",
       "    <tr>\n",
       "      <th>6</th>\n",
       "      <td>3</td>\n",
       "      <td>colombia</td>\n",
       "      <td>colombia</td>\n",
       "      <td>100</td>\n",
       "      <td>85</td>\n",
       "    </tr>\n",
       "    <tr>\n",
       "      <th>7</th>\n",
       "      <td>3</td>\n",
       "      <td>colombia</td>\n",
       "      <td>colombiano</td>\n",
       "      <td>89</td>\n",
       "      <td>85</td>\n",
       "    </tr>\n",
       "    <tr>\n",
       "      <th>8</th>\n",
       "      <td>3</td>\n",
       "      <td>colombia</td>\n",
       "      <td>colombiana</td>\n",
       "      <td>89</td>\n",
       "      <td>85</td>\n",
       "    </tr>\n",
       "    <tr>\n",
       "      <th>9</th>\n",
       "      <td>4</td>\n",
       "      <td>pais</td>\n",
       "      <td>pais</td>\n",
       "      <td>100</td>\n",
       "      <td>87</td>\n",
       "    </tr>\n",
       "  </tbody>\n",
       "</table>\n",
       "</div>"
      ],
      "text/plain": [
       "   bow_id     bow_name          lemma  similarity  threshold\n",
       "0       1  venezolanos    venezolanos         100         85\n",
       "1       1  venezolanos     venezolano          95         85\n",
       "2       1  venezolanos     venezolana          86         85\n",
       "3       1  venezolanos    venezolanas          91         85\n",
       "4       1  venezolanos  venezolanosla          92         85\n",
       "5       2          mas            mas         100         87\n",
       "6       3     colombia       colombia         100         85\n",
       "7       3     colombia     colombiano          89         85\n",
       "8       3     colombia     colombiana          89         85\n",
       "9       4         pais           pais         100         87"
      ]
     },
     "execution_count": 88,
     "metadata": {},
     "output_type": "execute_result"
    }
   ],
   "source": [
    "import numpy as np\n",
    "import itertools\n",
    "from collections import Counter\n",
    "# We take our list of lists and convert it to a list of strings\n",
    "flattened_list = list(itertools.chain.from_iterable(tokenized_cleaned_tweets))\n",
    "# Now we count the number of times each lemma appears in the list and sort the list in descending order\n",
    "word_count = Counter(flattened_list)\n",
    "sorted_words = sorted(word_count.items(), key=lambda x: x[1], reverse=True)\n",
    "sorted_words_only = [word for word, count in sorted_words]\n",
    "numpy_array = np.array(sorted_words_only)\n",
    "# Now we create our bag of lemmas\n",
    "bol_df = tt.create_bol(numpy_array, verbose=True)\n",
    "bol_df.head(10)"
   ]
  },
  {
   "cell_type": "markdown",
   "metadata": {},
   "source": [
    "Now we want to select a specific subset of words that does not include our probable OOV or NEW words in the text processing. We will replace words using 85% confidence treshold soo we can infer what was intended to be written."
   ]
  },
  {
   "cell_type": "code",
   "execution_count": null,
   "metadata": {},
   "outputs": [],
   "source": [
    "# Replace each lemma in the original list of lists with its bow_name\n",
    "lemma_to_bow = dict(zip(bol_df['lemma'], bol_df['bow_name']))\n",
    "replaced_lemmas = [[lemma_to_bow.get(lemma, lemma) for lemma in doc] for doc in tokenized_cleaned_tweets]"
   ]
  },
  {
   "cell_type": "markdown",
   "metadata": {},
   "source": [
    "Here some random examples with the new mapping, you can inspect the differences in lemmas:"
   ]
  },
  {
   "cell_type": "code",
   "execution_count": null,
   "metadata": {},
   "outputs": [
    {
     "name": "stdout",
     "output_type": "stream",
     "text": [
      "Before and After Text Cleaning:\n",
      "----------------------------------------\n",
      "Original: Éste si es muy cínico, en vez de ayudar a los venezolanos que tanto lo necesitan, hace show con Colombia, Cúcuta y colombianos.\n",
      "Cleaned: ['si', 'cinco', 'vez', 'ayuda', 'venezolanos', 'necesita', 'hacer', 'show', 'colombia', 'cucuta', 'colombianos']\n",
      "----------------------------------------\n",
      "Original: RT @robertodeniz No tardará Diosdado en salir a decir que los venezolanos que están entre la frontera de Colombia y Ecuador son actores contratados para que los medios hablen de una inexistente crisis migratoria...\n",
      "Cleaned: ['tardara', 'diosdado', 'salir', 'decir', 'venezolanos', 'estan', 'frontera', 'colombia', 'ecuador', 'actores', 'contratada', 'medio', 'hable', 'inexistente', 'crisis', 'migratorio']\n",
      "----------------------------------------\n",
      "Original: En @migravenezuela | Migración Colombia presentó este jueves las cifras más recientes de los venezolanos en el país. Aunque 10.000 venezolanos regularizaron su estatus en el último mes, aumentó el número de irregulares. https://t.co/1iYQKJUdyw https://t.co/gjyaHTSP6f\n",
      "Cleaned: ['migracion', 'colombia', 'presunto', 'jueves', 'cifras', 'mas', 'recientes', 'venezolanos', 'pais', 'aunque', 'venezolanos', 'regularizar', 'estatus', 'ultimos', 'mes', 'aumento', 'numero', 'irregulares']\n",
      "----------------------------------------\n",
      "Original: #LaGuajira Venezolanos se estarían robando las rejas de los colegios en Maicao https://t.co/JLfQ9pEmTG\n",
      "Cleaned: ['venezolanos', 'estarian', 'robando', 'rejas', 'colegios', 'maicao']\n",
      "----------------------------------------\n",
      "Original: RT @AlbertoRodNews Almagro: “Venezolanos tienen derecho a vivir en su país libre” https://t.co/oewTQuRL2n\n",
      "Cleaned: ['almagro', 'venezolanos', 'derecho', 'vivir', 'pais', 'libre']\n",
      "----------------------------------------\n",
      "Original: RT @francox44 #NoQuieroGuerraenVzla Se necesita es q todos los venezolanos nos pongamos a producir para cambiar el modelo rentista por un modelo productivo. Producir como lo hacen los egresados del @mspenitenciario siguiendo instrucciones de @NicolasMaduro e @irisvarela en la extracción miel https://t.co/EgMokSMRSr\n",
      "Cleaned: ['necesita', 'q', 'venezolanos', 'pongas', 'producir', 'cambia', 'modelo', 'rentista', 'modelo', 'producto', 'producir', 'hacen', 'egresados', 'siguiendo', 'instrucciones', 'extradicion', 'miel']\n",
      "----------------------------------------\n",
      "Original: RT @BolivarEspiritu Venezolano..¡DESPIERTA! ¡El camino a la libertad es hacia Miraflores, no hacia la frontera! Luis Enrique, C4 Trio - Añoranza (Video Oficial) https://t.co/7LylXQjIJ1 vía @YouTube\n",
      "Cleaned: ['venezolanodespierta', 'camino', 'libertad', 'hacia', 'miraflores', 'hacia', 'frontera', 'luis', 'enrique', 'c', 'trino', 'anoranza', 'video', 'oficial', 'via']\n",
      "----------------------------------------\n",
      "Original: Estos misileros venezolanos...jajaja ...a propósito pq los que están acá en Colombia no se van ya para su país.\n",
      "Cleaned: ['misileros', 'venezolanosjajaja', 'proposito', 'pq', 'estan', 'aca', 'colombia', 'van', 'pais']\n",
      "----------------------------------------\n",
      "Original: RT @PanAmPost_es En medio de la oscuridad, el venezolano resiste https://t.co/cYTzjNltif Por @Agusrodweil #12Abr #Venezuela\n",
      "Cleaned: ['medio', 'oscuridad', 'venezolanos', 'resiste']\n",
      "----------------------------------------\n",
      "Original: @CARLOSFMEJIA Los venezolanos que están en colombia son de ultra derecha, deje la pendejada. @episcopadocol @Pontifex_es @Pontifex @arzobispodecali @ArzobispoAguiar\n",
      "Cleaned: ['venezolanos', 'estan', 'colombia', 'ultra', 'derecho', 'dejen', 'pendejada']\n",
      "----------------------------------------\n"
     ]
    }
   ],
   "source": [
    "tweets['new_clean_lemmas'] = replaced_lemmas\n",
    "sample_tweets = tweets.sample(10, random_state=1)  # You can change the random_state for different samples\n",
    "print(\"Before and After Text Cleaning:\")\n",
    "print('-' * 40)\n",
    "for index, row in sample_tweets.iterrows():\n",
    "    print(f\"Original: {row['Snippet']}\")\n",
    "    print(f\"Cleaned: {row['new_clean_lemmas']}\")\n",
    "    print('-' * 40)"
   ]
  },
  {
   "cell_type": "markdown",
   "metadata": {},
   "source": [
    "From here, you can use this processed tweets to train different models and make your own empirical applications of NLP using social media data. However, we will show you a simple application of Topic Modelling using the data we processed. For more information about this methodology, we deliver some links to help understanding this type of unsupervised classification.\n",
    "\n",
    "Now we can plug this processed documents in a toy model to see some topics about Venezuelan migrants in Colombia:\n",
    "\n",
    "This model resolves in some steps:\n",
    "1. We iterate over the best combination of hyperparameters alpha, beta, and number of topics.\n",
    "2. We filter the results and pick the model with best coherence. We calculate Coherence Score and Perplexity of each LDA Topic Modeling implementation.\n",
    "3. We display a visualization of the topics found in the toy model."
   ]
  },
  {
   "cell_type": "code",
   "execution_count": null,
   "metadata": {},
   "outputs": [
    {
     "name": "stderr",
     "output_type": "stream",
     "text": [
      "\n",
      "\u001b[A"
     ]
    },
    {
     "name": "stderr",
     "output_type": "stream",
     "text": [
      "\n",
      "\u001b[A\n",
      "\u001b[A\n",
      "\u001b[A\n",
      "\u001b[A\n",
      "\u001b[A\n",
      "\u001b[A\n",
      "\u001b[A\n",
      "\u001b[A\n",
      "\u001b[A\n",
      "\u001b[A\n",
      "\u001b[A\n",
      "\u001b[A\n",
      "\u001b[A\n",
      "\u001b[A\n",
      "\u001b[A\n",
      "\u001b[A\n",
      "  2%|▏         | 10/540 [08:45<7:44:08, 52.54s/it]\n",
      "  1%|          | 3/540 [05:50<17:26:14, 116.90s/it]\n",
      "\n",
      "\u001b[A\n",
      "\u001b[A\n",
      "\u001b[A\n",
      "\u001b[A\n",
      "\u001b[A\n",
      "\u001b[A\n",
      "\u001b[A\n",
      "\u001b[A\n",
      "\u001b[A\n",
      "\u001b[A\n",
      "\u001b[A\n",
      "\u001b[A\n",
      "\u001b[A\n",
      "\u001b[A\n",
      "\u001b[A\n",
      "\u001b[A\n",
      "\u001b[A\n",
      "\u001b[A\n",
      "\u001b[A\n",
      "\u001b[A\n",
      "\u001b[A\n",
      "\u001b[A\n",
      "\u001b[A\n",
      "\u001b[A\n",
      "\u001b[A\n",
      "\u001b[A\n",
      "\u001b[A\n",
      "\u001b[A\n",
      "\u001b[A\n",
      "\u001b[A\n",
      "\u001b[A\n",
      "\u001b[A\n",
      "\u001b[A\n",
      "\u001b[A\n",
      "\u001b[A\n",
      "\u001b[A\n",
      "\u001b[A\n",
      "\u001b[A\n",
      "\u001b[A\n",
      "\u001b[A\n",
      "\u001b[A\n",
      "\u001b[A\n",
      "\u001b[A\n",
      "\u001b[A\n",
      "\u001b[A\n",
      "\u001b[A\n",
      "\u001b[A\n",
      "\u001b[A\n",
      "\u001b[A\n",
      "\u001b[A\n",
      "\u001b[A\n",
      "\u001b[A\n",
      "\u001b[A\n",
      "\u001b[A\n",
      "\u001b[A\n",
      "\u001b[A\n",
      "\u001b[A\n",
      "\u001b[A\n",
      "\u001b[A\n",
      "\u001b[A\n",
      "\u001b[A\n",
      "\u001b[A\n",
      "\u001b[A\n",
      "\u001b[A\n",
      "\u001b[A\n",
      "\u001b[A\n",
      "\u001b[A\n",
      "\u001b[A\n",
      "\u001b[A\n",
      "\u001b[A\n",
      "\u001b[A\n",
      "\u001b[A\n",
      "\u001b[A\n",
      "\u001b[A\n",
      "\u001b[A\n",
      "\u001b[A\n",
      "\u001b[A\n",
      "\u001b[A\n",
      "\u001b[A\n",
      "\u001b[A\n",
      "\u001b[A\n",
      "\u001b[A\n",
      "\u001b[A\n",
      "\u001b[A\n",
      "\u001b[A\n",
      "\u001b[A\n",
      "\u001b[A\n",
      "\u001b[A\n",
      "\u001b[A\n",
      "\u001b[A\n",
      "\u001b[A\n",
      "\u001b[A\n",
      "\u001b[A\n",
      "\u001b[A\n",
      "\u001b[A\n",
      "\u001b[A\n",
      "\u001b[A\n",
      "\u001b[A\n",
      "\u001b[A\n",
      "\u001b[A\n",
      "\u001b[A\n",
      "\u001b[A\n",
      "\u001b[A\n",
      "\u001b[A\n",
      "\u001b[A\n",
      "\u001b[A\n",
      "\u001b[A\n",
      "\u001b[A\n",
      "\u001b[A\n",
      "\u001b[A\n",
      "\u001b[A\n",
      "\u001b[A\n",
      "\u001b[A\n",
      "\u001b[A\n",
      "\u001b[A\n",
      "\u001b[A\n",
      "\u001b[A\n",
      "\u001b[A\n",
      "\u001b[A\n",
      "\u001b[A\n",
      "\u001b[A\n",
      "\u001b[A\n",
      "\u001b[A\n",
      "\u001b[A\n",
      "\u001b[A\n",
      "\u001b[A\n",
      "\u001b[A\n",
      "\u001b[A\n",
      "\u001b[A\n",
      "\u001b[A\n",
      "\u001b[A\n",
      "\u001b[A\n",
      "\u001b[A\n",
      "\u001b[A\n",
      "\u001b[A\n",
      "\u001b[A\n",
      "\u001b[A\n",
      "\u001b[A\n",
      "\u001b[A\n",
      "\u001b[A\n",
      "\u001b[A\n",
      "\u001b[A\n",
      "\u001b[A\n",
      "\u001b[A\n",
      "\u001b[A\n",
      "\u001b[A\n",
      "\u001b[A\n",
      "\u001b[A\n",
      "\u001b[A\n",
      "\u001b[A\n",
      "\u001b[A\n",
      "\u001b[A\n",
      "\u001b[A\n",
      "\u001b[A\n",
      "\u001b[A\n",
      "\u001b[A\n",
      "\u001b[A\n",
      "\u001b[A\n",
      "\u001b[A\n",
      "\u001b[A\n",
      "\u001b[A\n",
      "\u001b[A\n",
      "\u001b[A\n",
      "\u001b[A\n",
      "\u001b[A\n",
      "\u001b[A\n",
      "\u001b[A\n",
      "\u001b[A\n",
      "\u001b[A\n",
      "\u001b[A\n",
      "\u001b[A\n",
      "\u001b[A\n",
      "\u001b[A\n",
      "\u001b[A\n",
      "\u001b[A\n",
      "\u001b[A\n",
      "\u001b[A\n",
      "\u001b[A\n",
      "\u001b[A\n",
      "\u001b[A\n",
      "\u001b[A\n",
      "\u001b[A\n",
      "\u001b[A\n",
      "\u001b[A\n",
      "\u001b[A\n",
      "\u001b[A\n",
      "\u001b[A\n",
      "\u001b[A\n",
      "\u001b[A\n",
      "\u001b[A\n",
      "\u001b[A\n",
      "\u001b[A\n",
      "\u001b[A\n",
      "\u001b[A\n",
      "\u001b[A\n",
      "\u001b[A\n",
      "\u001b[A\n",
      "\u001b[A\n",
      "\u001b[A\n",
      "\u001b[A\n",
      "\u001b[A\n",
      "\u001b[A\n",
      "\u001b[A\n",
      "\u001b[A\n",
      "\u001b[A\n",
      "\u001b[A\n",
      "\u001b[A\n",
      "\u001b[A\n",
      "\u001b[A\n",
      "\u001b[A\n",
      "\u001b[A\n",
      "\u001b[A\n",
      "\u001b[A\n",
      "\u001b[A\n",
      "\u001b[A\n",
      "\u001b[A\n",
      "\u001b[A\n",
      "\u001b[A\n",
      "\u001b[A\n",
      "\u001b[A\n",
      "\u001b[A\n",
      "\u001b[A\n",
      "\u001b[A\n",
      "\u001b[A\n",
      "\u001b[A\n",
      "\u001b[A\n",
      "\u001b[A\n",
      "\u001b[A\n",
      "\u001b[A\n",
      "\u001b[A\n",
      "\u001b[A\n",
      "\u001b[A\n",
      "\u001b[A\n",
      "\u001b[A\n",
      "\u001b[A\n",
      "\u001b[A\n",
      "\u001b[A\n",
      "\u001b[A\n",
      "\u001b[A\n",
      "\u001b[A\n",
      "\u001b[A\n",
      "\u001b[A\n",
      "\u001b[A\n",
      "\u001b[A\n",
      "\u001b[A\n",
      "\u001b[A\n",
      "\u001b[A\n",
      "\u001b[A\n",
      "\u001b[A\n",
      "\u001b[A\n",
      "\u001b[A\n",
      "\u001b[A\n",
      "\u001b[A\n",
      "\u001b[A\n",
      "\u001b[A\n",
      "\u001b[A\n",
      "\u001b[A\n",
      "\u001b[A\n",
      "\u001b[A\n",
      "\u001b[A\n",
      "\u001b[A\n",
      "\u001b[A\n",
      "\u001b[A\n",
      "\u001b[A\n",
      "\u001b[A\n",
      "\u001b[A\n",
      "\u001b[A\n",
      "\u001b[A\n",
      "\u001b[A\n",
      "\u001b[A\n",
      "\u001b[A\n",
      "\u001b[A\n",
      "\u001b[A\n",
      "\u001b[A\n",
      "\u001b[A\n",
      "\u001b[A\n",
      "\u001b[A\n",
      "\u001b[A\n",
      "\u001b[A\n",
      "\u001b[A\n",
      "\u001b[A\n",
      "\u001b[A\n",
      "\u001b[A\n",
      "\u001b[A\n",
      "\u001b[A\n",
      "\u001b[A\n",
      "\u001b[A\n",
      "\u001b[A\n",
      "\u001b[A\n",
      "\u001b[A\n",
      "\u001b[A\n",
      "\u001b[A\n",
      "\u001b[A\n",
      "\u001b[A\n",
      "\u001b[A\n",
      "\u001b[A\n",
      "\u001b[A\n",
      "\u001b[A\n",
      "\u001b[A\n",
      "\u001b[A\n",
      "\u001b[A\n",
      "\u001b[A\n",
      "\u001b[A\n",
      "\u001b[A\n",
      "\u001b[A\n",
      "\u001b[A\n",
      "\u001b[A\n",
      "\u001b[A\n",
      "\u001b[A\n",
      "\u001b[A\n",
      "\u001b[A\n",
      "\u001b[A\n",
      "\u001b[A\n",
      "\u001b[A\n",
      "\u001b[A\n",
      "\u001b[A\n",
      "\u001b[A\n",
      "\u001b[A\n",
      "\u001b[A\n",
      "\u001b[A\n",
      "\u001b[A\n",
      "\u001b[A\n",
      "\u001b[A\n",
      "\u001b[A\n",
      "\u001b[A\n",
      "\u001b[A\n",
      "\u001b[A\n",
      "\u001b[A\n",
      "\u001b[A\n",
      "\u001b[A\n",
      "\u001b[A\n",
      "\u001b[A\n",
      "\u001b[A\n",
      "\u001b[A\n",
      "\u001b[A\n",
      "\u001b[A\n",
      "\u001b[A\n",
      "\u001b[A\n",
      "\u001b[A\n",
      "\u001b[A\n",
      "\u001b[A\n",
      "\u001b[A\n",
      "\u001b[A\n",
      "\u001b[A\n",
      "\u001b[A\n",
      "\u001b[A\n",
      "\u001b[A\n",
      "\u001b[A\n",
      "\u001b[A\n",
      "\u001b[A\n",
      "\u001b[A\n",
      "\u001b[A\n",
      "\u001b[A\n",
      "\u001b[A\n",
      "\u001b[A\n",
      "\u001b[A\n",
      "\u001b[A\n",
      "\u001b[A\n",
      "\u001b[A\n",
      "\u001b[A\n",
      "\u001b[A\n",
      "\u001b[A\n",
      "\u001b[A\n",
      "\u001b[A\n",
      "\u001b[A\n",
      "\u001b[A\n",
      "\u001b[A\n",
      "\u001b[A\n",
      "\u001b[A\n",
      "\u001b[A\n",
      "\u001b[A\n",
      "\u001b[A\n",
      "\u001b[A\n",
      "\u001b[A\n",
      "\u001b[A\n",
      "\u001b[A\n",
      "\u001b[A\n",
      "\u001b[A\n",
      "\u001b[A\n",
      "\u001b[A\n",
      "\u001b[A\n",
      "\u001b[A\n",
      "\u001b[A\n",
      "\u001b[A\n",
      "\u001b[A\n",
      "\u001b[A\n",
      "\u001b[A\n",
      "\u001b[A\n",
      "\u001b[A\n",
      "\u001b[A\n",
      "\u001b[A\n",
      "\u001b[A\n",
      "\u001b[A\n",
      "\u001b[A\n",
      "\u001b[A\n",
      "\u001b[A\n",
      "\u001b[A\n",
      "\u001b[A\n",
      "\u001b[A\n",
      "\u001b[A\n",
      "\u001b[A\n",
      "\u001b[A\n",
      "\u001b[A\n",
      "\u001b[A\n",
      "\u001b[A\n",
      "\u001b[A\n",
      "\u001b[A\n",
      "\u001b[A\n",
      "\u001b[A\n",
      "\u001b[A\n",
      "\u001b[A\n",
      "\u001b[A\n",
      "\u001b[A\n",
      "\u001b[A\n",
      "\u001b[A\n",
      "\u001b[A\n",
      "\u001b[A\n",
      "\u001b[A\n",
      "\u001b[A\n",
      "\u001b[A\n",
      "\u001b[A\n",
      "\u001b[A\n",
      "\u001b[A\n",
      "\u001b[A\n",
      "\u001b[A\n",
      "\u001b[A\n",
      "\u001b[A\n",
      "\u001b[A\n",
      "\u001b[A\n",
      "\u001b[A\n",
      "\u001b[A\n",
      "\u001b[A\n",
      "\u001b[A\n",
      "\u001b[A\n",
      "\u001b[A\n",
      "\u001b[A\n",
      "\u001b[A\n",
      "\u001b[A\n",
      "\u001b[A\n",
      "\u001b[A\n",
      "\u001b[A\n",
      "\u001b[A\n",
      "\u001b[A\n",
      "\u001b[A\n",
      "\u001b[A\n",
      "\u001b[A\n",
      "\u001b[A\n",
      "\u001b[A\n",
      "\u001b[A\n",
      "\u001b[A\n",
      "\u001b[A\n",
      "\u001b[A\n",
      "\u001b[A\n",
      "\u001b[A\n",
      "\u001b[A\n",
      "\u001b[A\n",
      "\u001b[A\n",
      "\u001b[A\n",
      "\u001b[A\n",
      "\u001b[A\n",
      "\u001b[A\n",
      "\u001b[A\n",
      "\u001b[A\n",
      "\u001b[A\n",
      "\u001b[A\n",
      "\u001b[A\n",
      "\u001b[A\n",
      "\u001b[A\n",
      "\u001b[A\n",
      "\u001b[A\n",
      "\u001b[A\n",
      "\u001b[A\n",
      "\u001b[A\n",
      "\u001b[A\n",
      "\u001b[A\n",
      "\u001b[A\n",
      "\u001b[A\n",
      "\u001b[A\n",
      "\u001b[A\n",
      "\u001b[A\n",
      "\u001b[A\n",
      "\u001b[A\n",
      "\u001b[A\n",
      "\u001b[A\n",
      "\u001b[A\n",
      "\u001b[A\n",
      "\u001b[A\n",
      "\u001b[A\n",
      "\u001b[A\n",
      "\u001b[A\n",
      "\u001b[A\n",
      "\u001b[A\n",
      "\u001b[A\n",
      "\u001b[A\n",
      "\u001b[A\n",
      "\u001b[A\n",
      "\u001b[A\n",
      "\u001b[A\n",
      "\u001b[A\n",
      "\u001b[A\n",
      "\u001b[A\n",
      "\u001b[A\n",
      "\u001b[A\n",
      "\u001b[A\n",
      "\u001b[A\n",
      "\u001b[A\n",
      "\u001b[A\n",
      "\u001b[A\n",
      "\u001b[A\n",
      "\u001b[A\n",
      "\u001b[A\n",
      "\u001b[A\n",
      "\u001b[A\n",
      "\u001b[A\n",
      "\u001b[A\n",
      "\u001b[A\n",
      "\u001b[A\n",
      "\u001b[A\n",
      "\u001b[A\n",
      "\u001b[A\n",
      "\u001b[A\n",
      "\u001b[A\n",
      "100%|██████████| 540/540 [2:24:27<00:00, 16.05s/it]\n"
     ]
    }
   ],
   "source": [
    "# Now we create our initial variables for Topic Modeling\n",
    "import gensim\n",
    "from gensim import corpora \n",
    "import tqdm\n",
    "from gensim.models import CoherenceModel\n",
    "# Create Dictionary\n",
    "dictionary = corpora.Dictionary(replaced_lemmas)\n",
    "corpus = [dictionary.doc2bow(text) for text in replaced_lemmas]\n",
    "# A function that resolves our hyperparameters using a corpus and a dictionary\n",
    "def compute_coherence_perplexity_values(corpus, dictionary, k, a, b):\n",
    "    \n",
    "    lda_model = gensim.models.LdaMulticore(corpus=corpus,\n",
    "                                           id2word=dictionary,\n",
    "                                           num_topics=k, \n",
    "                                           random_state=100,\n",
    "                                           chunksize=100,\n",
    "                                           passes=10,\n",
    "                                           alpha=a,\n",
    "                                           eta=b,\n",
    "                                           workers=7)\n",
    "    \n",
    "    coherence_model_lda = CoherenceModel(model=lda_model, texts=replaced_lemmas, dictionary=dictionary, coherence='c_v')\n",
    "    \n",
    "    return (coherence_model_lda.get_coherence(),lda_model.log_perplexity(corpus))\n",
    "grid = {}\n",
    "grid['Validation_Set'] = {}\n",
    "# Topics range\n",
    "min_topics = 2\n",
    "max_topics = 11\n",
    "step_size = 1\n",
    "topics_range = range(min_topics, max_topics, step_size)\n",
    "# Alpha parameter\n",
    "alpha = list(np.arange(0.01, 1, 0.3))\n",
    "alpha.append('symmetric')\n",
    "alpha.append('asymmetric')\n",
    "# Beta parameter\n",
    "beta = list(np.arange(0.01, 1, 0.3))\n",
    "beta.append('symmetric')\n",
    "# Validation sets\n",
    "num_of_docs = len(corpus)\n",
    "corpus_sets = [# gensim.utils.ClippedCorpus(corpus, num_of_docs*0.25), \n",
    "               # gensim.utils.ClippedCorpus(corpus, num_of_docs*0.5), \n",
    "               gensim.utils.ClippedCorpus(corpus, int(num_of_docs*0.75)), \n",
    "               corpus]\n",
    "corpus_title = ['75% Corpus', '100% Corpus']\n",
    "model_results = {'Validation_Set': [],\n",
    "                 'Topics': [],\n",
    "                 'Alpha': [],\n",
    "                 'Beta': [],\n",
    "                 'Coherence': [],\n",
    "                 'Perplexity': []\n",
    "                }\n",
    "# Can take a long time to run\n",
    "if 1 == 1:\n",
    "    # This is the number of times we want to iterate to find optimal hyperparameters\n",
    "    pbar = tqdm.tqdm(total=540)\n",
    "    \n",
    "    # iterate through validation corpuses\n",
    "    for i in range(len(corpus_sets)):\n",
    "        # iterate through number of topics\n",
    "        for k in topics_range:\n",
    "            # iterate through alpha values\n",
    "            for a in alpha:\n",
    "                # iterare through beta values\n",
    "                for b in beta:\n",
    "                    # get the coherence score for the given parameters\n",
    "                    (cv, pp) = compute_coherence_perplexity_values(corpus=corpus_sets[i], dictionary=dictionary, \n",
    "                                                  k=k, a=a, b=b)\n",
    "                    # Save the model results\n",
    "                    model_results['Validation_Set'].append(corpus_title[i])\n",
    "                    model_results['Topics'].append(k)\n",
    "                    model_results['Alpha'].append(a)\n",
    "                    model_results['Beta'].append(b)\n",
    "                    model_results['Coherence'].append(cv)\n",
    "                    model_results['Perplexity'].append(pp)\n",
    "                    pbar.update(1)\n",
    "    pd.DataFrame(model_results).to_csv(r\"C:\\Users\\JOSE\\Desktop\\Trabajo\\Paper_no_supervisado\\Tidytweets\\data\\lda_tuning_results.csv\", index=False)\n",
    "    pbar.close()"
   ]
  },
  {
   "cell_type": "markdown",
   "metadata": {},
   "source": [
    "Now we want to find the optimal model to train, let's see the results of our trainning pocess:"
   ]
  },
  {
   "cell_type": "code",
   "execution_count": null,
   "metadata": {},
   "outputs": [
    {
     "data": {
      "text/html": [
       "<div>\n",
       "<style scoped>\n",
       "    .dataframe tbody tr th:only-of-type {\n",
       "        vertical-align: middle;\n",
       "    }\n",
       "\n",
       "    .dataframe tbody tr th {\n",
       "        vertical-align: top;\n",
       "    }\n",
       "\n",
       "    .dataframe thead th {\n",
       "        text-align: right;\n",
       "    }\n",
       "</style>\n",
       "<table border=\"1\" class=\"dataframe\">\n",
       "  <thead>\n",
       "    <tr style=\"text-align: right;\">\n",
       "      <th></th>\n",
       "      <th>Validation_Set</th>\n",
       "      <th>Topics</th>\n",
       "      <th>Alpha</th>\n",
       "      <th>Beta</th>\n",
       "      <th>Coherence</th>\n",
       "      <th>Perplexity</th>\n",
       "    </tr>\n",
       "  </thead>\n",
       "  <tbody>\n",
       "    <tr>\n",
       "      <th>118</th>\n",
       "      <td>75% Corpus</td>\n",
       "      <td>5</td>\n",
       "      <td>asymmetric</td>\n",
       "      <td>0.9099999999999999</td>\n",
       "      <td>0.512046</td>\n",
       "      <td>-8.140193</td>\n",
       "    </tr>\n",
       "    <tr>\n",
       "      <th>268</th>\n",
       "      <td>75% Corpus</td>\n",
       "      <td>10</td>\n",
       "      <td>asymmetric</td>\n",
       "      <td>0.9099999999999999</td>\n",
       "      <td>0.495904</td>\n",
       "      <td>-8.453243</td>\n",
       "    </tr>\n",
       "    <tr>\n",
       "      <th>117</th>\n",
       "      <td>75% Corpus</td>\n",
       "      <td>5</td>\n",
       "      <td>asymmetric</td>\n",
       "      <td>0.61</td>\n",
       "      <td>0.472581</td>\n",
       "      <td>-8.167551</td>\n",
       "    </tr>\n",
       "    <tr>\n",
       "      <th>176</th>\n",
       "      <td>75% Corpus</td>\n",
       "      <td>7</td>\n",
       "      <td>asymmetric</td>\n",
       "      <td>0.31</td>\n",
       "      <td>0.468431</td>\n",
       "      <td>-8.367414</td>\n",
       "    </tr>\n",
       "    <tr>\n",
       "      <th>388</th>\n",
       "      <td>100% Corpus</td>\n",
       "      <td>5</td>\n",
       "      <td>asymmetric</td>\n",
       "      <td>0.9099999999999999</td>\n",
       "      <td>0.466254</td>\n",
       "      <td>-8.102243</td>\n",
       "    </tr>\n",
       "    <tr>\n",
       "      <th>...</th>\n",
       "      <td>...</td>\n",
       "      <td>...</td>\n",
       "      <td>...</td>\n",
       "      <td>...</td>\n",
       "      <td>...</td>\n",
       "      <td>...</td>\n",
       "    </tr>\n",
       "    <tr>\n",
       "      <th>270</th>\n",
       "      <td>100% Corpus</td>\n",
       "      <td>2</td>\n",
       "      <td>0.01</td>\n",
       "      <td>0.01</td>\n",
       "      <td>0.237146</td>\n",
       "      <td>-9.080544</td>\n",
       "    </tr>\n",
       "    <tr>\n",
       "      <th>301</th>\n",
       "      <td>100% Corpus</td>\n",
       "      <td>3</td>\n",
       "      <td>0.01</td>\n",
       "      <td>0.31</td>\n",
       "      <td>0.236960</td>\n",
       "      <td>-8.101921</td>\n",
       "    </tr>\n",
       "    <tr>\n",
       "      <th>277</th>\n",
       "      <td>100% Corpus</td>\n",
       "      <td>2</td>\n",
       "      <td>0.31</td>\n",
       "      <td>0.61</td>\n",
       "      <td>0.233543</td>\n",
       "      <td>-8.018606</td>\n",
       "    </tr>\n",
       "    <tr>\n",
       "      <th>309</th>\n",
       "      <td>100% Corpus</td>\n",
       "      <td>3</td>\n",
       "      <td>0.31</td>\n",
       "      <td>symmetric</td>\n",
       "      <td>0.233320</td>\n",
       "      <td>-8.158855</td>\n",
       "    </tr>\n",
       "    <tr>\n",
       "      <th>279</th>\n",
       "      <td>100% Corpus</td>\n",
       "      <td>2</td>\n",
       "      <td>0.31</td>\n",
       "      <td>symmetric</td>\n",
       "      <td>0.223461</td>\n",
       "      <td>-8.033500</td>\n",
       "    </tr>\n",
       "  </tbody>\n",
       "</table>\n",
       "<p>540 rows × 6 columns</p>\n",
       "</div>"
      ],
      "text/plain": [
       "    Validation_Set  Topics       Alpha                Beta  Coherence  \\\n",
       "118     75% Corpus       5  asymmetric  0.9099999999999999   0.512046   \n",
       "268     75% Corpus      10  asymmetric  0.9099999999999999   0.495904   \n",
       "117     75% Corpus       5  asymmetric                0.61   0.472581   \n",
       "176     75% Corpus       7  asymmetric                0.31   0.468431   \n",
       "388    100% Corpus       5  asymmetric  0.9099999999999999   0.466254   \n",
       "..             ...     ...         ...                 ...        ...   \n",
       "270    100% Corpus       2        0.01                0.01   0.237146   \n",
       "301    100% Corpus       3        0.01                0.31   0.236960   \n",
       "277    100% Corpus       2        0.31                0.61   0.233543   \n",
       "309    100% Corpus       3        0.31           symmetric   0.233320   \n",
       "279    100% Corpus       2        0.31           symmetric   0.223461   \n",
       "\n",
       "     Perplexity  \n",
       "118   -8.140193  \n",
       "268   -8.453243  \n",
       "117   -8.167551  \n",
       "176   -8.367414  \n",
       "388   -8.102243  \n",
       "..          ...  \n",
       "270   -9.080544  \n",
       "301   -8.101921  \n",
       "277   -8.018606  \n",
       "309   -8.158855  \n",
       "279   -8.033500  \n",
       "\n",
       "[540 rows x 6 columns]"
      ]
     },
     "execution_count": 94,
     "metadata": {},
     "output_type": "execute_result"
    }
   ],
   "source": [
    "tabla_tunning = pd.read_csv(r\"C:\\Users\\JOSE\\Desktop\\Trabajo\\Paper_no_supervisado\\Tidytweets\\data\\lda_tuning_results.csv\")\n",
    "tabla_tunning = tabla_tunning.sort_values(by = 'Coherence', ascending = False)\n",
    "tabla_tunning"
   ]
  },
  {
   "cell_type": "markdown",
   "metadata": {},
   "source": [
    "Let's train the model! We now pick the best result from the validation table created on the last step"
   ]
  },
  {
   "cell_type": "code",
   "execution_count": null,
   "metadata": {},
   "outputs": [
    {
     "name": "stderr",
     "output_type": "stream",
     "text": [
      "C:\\Users\\JOSE\\AppData\\Roaming\\Python\\Python39\\site-packages\\ipykernel\\ipkernel.py:283: DeprecationWarning: `should_run_async` will not call `transform_cell` automatically in the future. Please pass the result to `transformed_cell` argument and any exception that happen during thetransform in `preprocessing_exc_tuple` in IPython 7.17 and above.\n",
      "  and should_run_async(code)\n"
     ]
    }
   ],
   "source": [
    "import pprint\n",
    "import pyLDAvis\n",
    "pyLDAvis.enable_notebook()\n",
    "import pyLDAvis.gensim_models\n",
    "lda_final_model = gensim.models.LdaMulticore(corpus=corpus,\n",
    "                                             id2word=dictionary,\n",
    "                                             num_topics=5,\n",
    "                                             random_state=100,\n",
    "                                             chunksize=100,\n",
    "                                             passes=30,\n",
    "                                             alpha='asymmetric',\n",
    "                                             eta=0.9099999999999999,\n",
    "                                             workers=7)"
   ]
  },
  {
   "cell_type": "markdown",
   "metadata": {},
   "source": [
    "Now that we have trained an optimized version of our toy model, we want to visually inspect the derived topics and see if we find some interesting patterns giving information related to the way people speaks about Venezuelan migrants in Colombia."
   ]
  },
  {
   "cell_type": "code",
   "execution_count": null,
   "metadata": {},
   "outputs": [
    {
     "name": "stderr",
     "output_type": "stream",
     "text": [
      "C:\\Users\\JOSE\\AppData\\Roaming\\Python\\Python39\\site-packages\\ipykernel\\ipkernel.py:283: DeprecationWarning: `should_run_async` will not call `transform_cell` automatically in the future. Please pass the result to `transformed_cell` argument and any exception that happen during thetransform in `preprocessing_exc_tuple` in IPython 7.17 and above.\n",
      "  and should_run_async(code)\n"
     ]
    },
    {
     "name": "stdout",
     "output_type": "stream",
     "text": [
      "[(0,\n",
      "  '0.052*\"venezolanos\" + 0.009*\"colombia\" + 0.008*\"mas\" + 0.007*\"pais\" + '\n",
      "  '0.006*\"si\" + 0.004*\"venezuela\" + 0.004*\"migrantes\" + 0.003*\"ayuda\" + '\n",
      "  '0.003*\"estan\" + 0.003*\"colombianos\"'),\n",
      " (1,\n",
      "  '0.013*\"venezolanos\" + 0.006*\"venecos\" + 0.002*\"anos\" + 0.002*\"hambre\" + '\n",
      "  '0.002*\"estan\" + 0.002*\"mas\" + 0.002*\"atencion\" + 0.002*\"servicios\" + '\n",
      "  '0.002*\"ahi\" + 0.002*\"cancion\"'),\n",
      " (2,\n",
      "  '0.001*\"aun\" + 0.001*\"sera\" + 0.001*\"alias\" + 0.001*\"america\" + '\n",
      "  '0.001*\"futbol\" + 0.001*\"frontera\" + 0.001*\"febrero\" + 0.001*\"corporacion\" + '\n",
      "  '0.001*\"luego\" + 0.001*\"quinta\"'),\n",
      " (3,\n",
      "  '0.001*\"bucaramanga\" + 0.001*\"planifican\" + 0.001*\"colombiches\" + '\n",
      "  '0.001*\"estudio\" + 0.001*\"hacen\" + 0.001*\"universidad\" + 0.001*\"mismo\" + '\n",
      "  '0.001*\"va\" + 0.001*\"ciegos\" + 0.001*\"ora\"'),\n",
      " (4,\n",
      "  '0.001*\"pabellon\" + 0.001*\"calorias\" + 0.001*\"ingredientesel\" + '\n",
      "  '0.001*\"criollo\" + 0.001*\"cocido\" + 0.001*\"boyacense\" + 0.001*\"fritas\" + '\n",
      "  '0.001*\"ajiaco\" + 0.001*\"bandeja\" + 0.001*\"negras\"')]\n"
     ]
    },
    {
     "data": {
      "text/html": [
       "\n",
       "<link rel=\"stylesheet\" type=\"text/css\" href=\"https://cdn.jsdelivr.net/gh/bmabey/pyLDAvis@3.4.0/pyLDAvis/js/ldavis.v1.0.0.css\">\n",
       "\n",
       "\n",
       "<div id=\"ldavis_el1416024910140918249234298314\" style=\"background-color:white;\"></div>\n",
       "<script type=\"text/javascript\">\n",
       "\n",
       "var ldavis_el1416024910140918249234298314_data = {\"mdsDat\": {\"x\": [-0.08601593693294785, 0.009543831041602493, 0.028232214544828528, 0.02448036391466474, 0.023759527431852074], \"y\": [0.004978648616430644, -0.034252819588858875, 0.011763609238370712, 0.009698227984802351, 0.007812333749255166], \"topics\": [1, 2, 3, 4, 5], \"cluster\": [1, 1, 1, 1, 1], \"Freq\": [77.36159375083962, 15.533838176935083, 3.933748007864242, 2.1575152605686645, 1.013304803792394]}, \"tinfo\": {\"Term\": [\"venezolanos\", \"venecos\", \"estudio\", \"hambre\", \"sera\", \"colombia\", \"anos\", \"atencion\", \"bueno\", \"dicen\", \"servicios\", \"ultimos\", \"hacen\", \"mismo\", \"va\", \"nacional\", \"frontera\", \"siempre\", \"tres\", \"asi\", \"parece\", \"ahi\", \"misma\", \"aunque\", \"planifican\", \"carlos\", \"joven\", \"tras\", \"orgullo\", \"luego\", \"colombia\", \"ayuda\", \"migrantes\", \"colombianos\", \"presidente\", \"gobierno\", \"q\", \"venezuela\", \"ver\", \"dia\", \"eeu\", \"quieren\", \"millones\", \"libertad\", \"momento\", \"mundo\", \"pueblo\", \"cuantos\", \"mil\", \"falta\", \"pais\", \"cada\", \"si\", \"parte\", \"ninos\", \"problema\", \"puede\", \"decir\", \"ser\", \"bueno\", \"venezolanos\", \"mas\", \"asi\", \"dicen\", \"solo\", \"hacer\", \"debe\", \"estan\", \"hoy\", \"migracion\", \"ahora\", \"salud\", \"venecos\", \"cancion\", \"canales\", \"tenia\", \"disposicion\", \"establecimientos\", \"relatos\", \"prestadoras\", \"atp\", \"arroyo\", \"acostumbrada\", \"empanada\", \"carrera\", \"quedando\", \"donan\", \"victoria\", \"felipe\", \"galapa\", \"ley\", \"master\", \"flamengo\", \"atajada\", \"peruano\", \"empujon\", \"mala\", \"juez\", \"acusada\", \"pablo\", \"rock\", \"rosa\", \"revista\", \"disfrutaran\", \"vacias\", \"ahi\", \"llorar\", \"hija\", \"venecos\", \"serian\", \"hambre\", \"servicios\", \"atencion\", \"partido\", \"musical\", \"area\", \"victimas\", \"anos\", \"venezolanos\", \"tres\", \"joven\", \"estan\", \"mujer\", \"tambien\", \"ciudad\", \"personas\", \"nacional\", \"mas\", \"centro\", \"medica\", \"vida\", \"aqui\", \"madre\", \"primera\", \"hacer\", \"ahora\", \"si\", \"pais\", \"quinta\", \"aun\", \"alias\", \"america\", \"futbol\", \"presuntamente\", \"yaracuy\", \"antiaereas\", \"capaz\", \"caza\", \"radar\", \"vulnerar\", \"llano\", \"cachapas\", \"cochino\", \"decepcionado\", \"delivery\", \"directas\", \"profe\", \"arabia\", \"sudamericano\", \"maturana\", \"importantisima\", \"larga\", \"saudita\", \"juvenil\", \"decadas\", \"entrenador\", \"sonrien\", \"descubierto\", \"corporacion\", \"febrero\", \"pm\", \"sera\", \"luego\", \"permitido\", \"quinto\", \"frontera\", \"capturo\", \"justo\", \"camino\", \"carlos\", \"ultimos\", \"hoy\", \"fuego\", \"armas\", \"luis\", \"pudiera\", \"movilizan\", \"tanqueros\", \"trasladados\", \"dada\", \"fuentes\", \"colombiches\", \"bucaramanga\", \"ahocarlos\", \"cuello\", \"ciegos\", \"ora\", \"soga\", \"autonoma\", \"unab\", \"arrojo\", \"disolver\", \"bachaqueros\", \"tramposos\", \"malvivientes\", \"fulana\", \"descontento\", \"planifican\", \"destinos\", \"efepece\", \"pecoso\", \"flagrancia\", \"prioridad\", \"entiendan\", \"silenciar\", \"realizando\", \"darles\", \"domingo\", \"mostro\", \"necias\", \"sordos\", \"revuelto\", \"cardenas\", \"universidad\", \"cafeteros\", \"estudio\", \"hago\", \"hacen\", \"hablando\", \"mismo\", \"va\", \"bueno\", \"dicen\", \"asi\", \"pabellon\", \"calorias\", \"ingredientesel\", \"cocido\", \"boyacense\", \"criollo\", \"fritas\", \"ajiaco\", \"bandeja\", \"negras\", \"caraotas\", \"astronomicas\", \"famoso\", \"manizales\", \"armenia\", \"receptora\", \"eje\", \"alcanzo\", \"poblado\", \"superar\", \"lleven\", \"necias\", \"sordos\", \"camargo\", \"irwin\", \"mendoza\", \"continuos\", \"osvaldo\", \"malambo\", \"concord\", \"cuarto\", \"pereira\", \"queda\", \"orgullo\", \"cafeteros\", \"habitantes\", \"aunque\", \"convierten\", \"siempre\", \"parece\", \"nacional\", \"tras\"], \"Freq\": [603.0, 40.0, 11.0, 15.0, 16.0, 94.0, 23.0, 15.0, 15.0, 16.0, 10.0, 11.0, 7.0, 14.0, 10.0, 14.0, 16.0, 8.0, 8.0, 23.0, 11.0, 7.0, 8.0, 6.0, 3.0, 7.0, 10.0, 14.0, 4.0, 5.0, 93.6576533084842, 38.089084176933746, 41.508813786865794, 34.904728469845885, 29.597095214573883, 29.342130498778033, 23.341814940173556, 48.580848953405756, 22.772209429720085, 22.24009857983149, 19.0729273921928, 20.120617343630535, 18.99004338046551, 16.697686595374165, 15.534919497009856, 16.704975872766017, 30.80829280950588, 15.297649998060782, 14.737806615555979, 15.976293882704256, 74.51140564129317, 13.633467651284866, 68.14971855623534, 16.559206964192516, 13.215479110581962, 13.460388591401443, 27.17735718710945, 12.499434001238335, 31.078596366436756, 14.54838267906255, 575.1616933484582, 91.0737036686817, 22.503329169797066, 16.080797417596745, 28.219033964677664, 32.72913707696291, 24.409464328248447, 35.767894107943135, 22.97334996766128, 20.492726314867063, 21.962678537861333, 18.690467519065503, 27.07977430592333, 3.4020174800281486, 2.1364168262361147, 1.952815747431167, 1.9270764173479273, 1.850774783795497, 1.5730482847344305, 1.7129311433260541, 1.5263848984651318, 1.5263764172504326, 1.5260753341286057, 1.5259587816781162, 2.2824688689987416, 1.5265011939091153, 1.4090615569607579, 1.7192654541771888, 1.7457417504165005, 1.3545629418450462, 1.3544002567267224, 1.3961887435894391, 1.3034061823273833, 1.2921893903777384, 2.3457914169896052, 1.2484146287330855, 1.93725246145136, 1.2199637515078625, 1.1385817418472708, 1.1351773051650011, 1.135081056228489, 1.1350450753176433, 1.134999713669327, 1.2488320072988959, 1.3181816148629222, 3.448508157925388, 1.5573471147641327, 1.7347599909166298, 13.343367611254905, 1.526454932738028, 4.928837362004755, 3.6008803761813173, 4.492530267024583, 1.8526897392720072, 1.784539195561914, 1.8837290575228203, 2.3210481156205267, 4.957828723912181, 27.76380014407766, 2.7658328272089596, 2.995414683003162, 4.650730621818001, 2.5425298973638406, 3.3509433481021778, 2.599829754892144, 3.27240267386912, 2.6768181098287154, 4.5870063726581956, 2.3426965446438617, 2.1822556071307813, 2.6032535955656195, 2.566906450448799, 2.001763279022903, 2.5424332629175694, 2.6951192861173747, 2.4207409393137547, 2.4573589692879425, 2.4535408806342, 0.40227889438484443, 0.6023089908243746, 0.49648421836686907, 0.4932058249303963, 0.4930763084740598, 0.32450969683926634, 0.39825692028824894, 0.323593481807067, 0.3235934492652438, 0.3235934492652438, 0.3235934492652438, 0.3235934492652438, 0.3229610314731727, 0.3229610314731727, 0.3229610314731727, 0.3229610314731727, 0.3229610314731727, 0.3229610314731727, 0.3210890630935858, 0.32108903055176263, 0.32108903055176263, 0.32108903055176263, 0.32108903055176263, 0.32108903055176263, 0.32108903055176263, 0.32108903055176263, 0.32108903055176263, 0.3210889980099394, 0.31677398479542684, 0.3167739197117804, 0.43647966718988235, 0.44214324609963107, 0.4016962655822695, 0.5427453162681031, 0.4224393023192518, 0.35485855911575254, 0.3488898355298563, 0.45361173305728664, 0.3500310121858381, 0.3468358607331112, 0.3616233858644165, 0.36604438779709186, 0.37347690767417585, 0.3782146717138812, 0.3411174163094471, 0.33668889721561246, 0.3307893575458397, 0.33012508130885565, 0.3245447118410297, 0.324532573740976, 0.32452997039512, 0.324521997648436, 0.32449615944081506, 0.3064122638133555, 0.4242401710171699, 0.18767853561388853, 0.18767853561388853, 0.18767853561388853, 0.18767853561388853, 0.18767853561388853, 0.18273532165979897, 0.18273523241986797, 0.18273523241986797, 0.18216532837249672, 0.18216531052451052, 0.18216529267652432, 0.18216525698055192, 0.18216523913256571, 0.18216520343659331, 0.4100474880864281, 0.15264706158693028, 0.1569457312153577, 0.1569457312153577, 0.1512107805934097, 0.18212347484485633, 0.18761969080338517, 0.14088384653781366, 0.1765076952267697, 0.17517764544711506, 0.15197164024514112, 0.1814578520474913, 0.10746495591206551, 0.10746495591206551, 0.17641895503938032, 0.18757662361268312, 0.20552848509296692, 0.17248604419216174, 0.2957081304173961, 0.1873461882628472, 0.2139180380944744, 0.18728457701448276, 0.19384283739187808, 0.18840323524557753, 0.1855045081107663, 0.18536491901069144, 0.18429048808940174, 0.14969788290684918, 0.14969781584655817, 0.14969781584655817, 0.11009868885523781, 0.11009867209016506, 0.1479057133945753, 0.08941559345166486, 0.08941557668659211, 0.08941555153898298, 0.08941553477391023, 0.08941552639137385, 0.08940593676975886, 0.08771781129899306, 0.04886801599946209, 0.04886797408678021, 0.04886797408678021, 0.048867948939171076, 0.04886788607014825, 0.08420992100620117, 0.08455814833236364, 0.08408355427032184, 0.03033079961311586, 0.03033079961311586, 0.030330437068417565, 0.030330437068417565, 0.030330437068417565, 0.030330437068417565, 0.030330437068417565, 0.030330437068417565, 0.030330437068417565, 0.045004484027082514, 0.05589158815260805, 0.07960316401978267, 0.07840431881479071, 0.04422549492159224, 0.05224939705325625, 0.07298864706801697, 0.041011806508014725, 0.06581375336819813, 0.061292590460722496, 0.059522362237414736, 0.05521706221544468], \"Total\": [603.0, 40.0, 11.0, 15.0, 16.0, 94.0, 23.0, 15.0, 15.0, 16.0, 10.0, 11.0, 7.0, 14.0, 10.0, 14.0, 16.0, 8.0, 8.0, 23.0, 11.0, 7.0, 8.0, 6.0, 3.0, 7.0, 10.0, 14.0, 4.0, 5.0, 94.3992108247548, 38.6065133577417, 42.11753879625333, 35.4460234526512, 30.11789833621905, 29.87132613334082, 23.849916672867632, 49.77801216040866, 23.345485228262618, 22.830100945859442, 19.581094216834003, 20.709525290142626, 19.580852256609102, 17.229114558222246, 16.043114995509992, 17.25291194006876, 31.82574584317821, 15.811125993356214, 15.245955574933655, 16.52997034363728, 77.17947002313042, 14.14166728277735, 70.81607686144118, 17.228341429470532, 13.752727345654522, 14.008715117441424, 28.286293578196474, 13.02870223125309, 32.41047571645964, 15.179362339783168, 603.1783777945587, 95.91273212281364, 23.542364712292603, 16.782709200225717, 30.109639194160234, 35.625871549325886, 26.09758395210139, 40.62891768323868, 25.129250271983928, 22.20984602148464, 24.588992289335398, 20.791522351080026, 40.71239957937722, 4.722753365981261, 2.9890022958518117, 2.829132034828871, 2.8262764194617707, 2.7197459694463295, 2.4255873461039106, 2.6433938462412416, 2.378505115854111, 2.378506785695115, 2.3784281140441186, 2.3784839254248746, 3.6294671420540148, 2.4338538660613738, 2.261285556102667, 2.7605614179706586, 2.8140886985315148, 2.206845750303859, 2.2070200042039954, 2.275590764719871, 2.155810359492735, 2.144397184317894, 3.93143924301002, 2.1006962169114325, 3.311453824643036, 2.116356105699731, 1.9910032424358597, 1.987288719878902, 1.987363254263806, 1.9874033952354822, 1.987433964723899, 2.2003092952022762, 2.3632341885047414, 7.477121168359948, 2.906882404056925, 3.3144872984939555, 40.71239957937722, 2.842379432307444, 15.300122368389882, 10.256002918249303, 15.096088053449252, 3.871231750431204, 3.699747310624536, 4.070097705874293, 5.936854077374206, 23.83237742227277, 603.1783777945587, 8.521371641043904, 10.331696155349302, 40.62891768323868, 9.560126649331783, 21.671052608248356, 10.624317149804288, 21.122810707994827, 14.121586416266883, 95.91273212281364, 9.665553242812523, 7.46473658364124, 17.20746786797356, 16.365265575237224, 5.581569031217241, 19.694776913157952, 35.625871549325886, 24.588992289335398, 70.81607686144118, 77.17947002313042, 1.4587789772587152, 2.2126556081602478, 1.8786358477169702, 2.043822001639042, 2.0450269891071478, 1.3744493033888985, 1.690488663823273, 1.3789911800895436, 1.3789911475477206, 1.3789911475477206, 1.3789911796735337, 1.3789911796735337, 1.3825152979985489, 1.382515337996779, 1.382515337996779, 1.382515337996779, 1.382515337996779, 1.382515337996779, 1.3918901701502733, 1.391890297601369, 1.391890297601369, 1.3918903775978286, 1.391890457594288, 1.391890457594288, 1.391890457594288, 1.3918905375907475, 1.3918906175872072, 1.3918907450383031, 1.4131424443930396, 1.4131426192987715, 1.9833946655564896, 2.7874865402359967, 3.4089488521160627, 16.627524582790976, 5.775817903623052, 2.369897419679304, 2.1745307307395496, 16.046960090411947, 2.710306489246522, 2.7194306992653274, 4.244839331279179, 7.029085035199833, 11.120998678474374, 25.129250271983928, 3.8716064280686, 4.220367360650646, 2.612899935598632, 2.8580005499462913, 1.8383828155632351, 1.8384581329278564, 1.8384957141155764, 2.420234702083499, 1.8387424673501356, 1.4666631069938239, 2.1245272356780753, 1.2836301873893348, 1.2836301873893348, 1.2836302673857944, 1.2836302673857944, 1.2836302673857944, 1.3297901071233549, 1.3297906578551, 1.3297907378515597, 1.334664001682363, 1.3346643838166747, 1.334664605958067, 1.3346648902479326, 1.334664952396406, 1.3346652366862717, 3.08759679919832, 1.261237841260282, 1.322354082203976, 1.322354082203976, 1.3645099225436743, 1.6677055184237382, 1.7483477650443116, 1.3558124697191045, 1.8522112874080487, 1.8644580176586847, 1.6235969104964925, 2.013684233893158, 1.2038105792668783, 1.2038105792668783, 2.0725486486529707, 2.235175397954277, 3.448409219017943, 2.318780663845705, 11.292064120857662, 3.519187677684806, 7.959880085645089, 4.218258114439623, 14.631888473630115, 10.486330987361791, 15.179362339783168, 16.782709200225717, 23.542364712292603, 1.3095914448725476, 1.30959320959537, 1.3095933777237447, 1.2739072764315442, 1.273907643903936, 1.8081618914933413, 1.2458426812396386, 1.2458432244497823, 1.2458436792809304, 1.2458438943697805, 1.245844205973082, 1.5786831581385867, 1.7447262460521173, 1.2513357762882935, 1.251336534340207, 1.251336534340207, 1.251337149164274, 1.2513384462350632, 2.1792436344518267, 2.6398868098429804, 2.756428753713273, 1.2038105792668783, 1.2038105792668783, 1.211342628222637, 1.211342628222637, 1.21134263714663, 1.2113426592968735, 1.2113426592968735, 1.2113426914226868, 1.2113426992951033, 1.802273131621205, 2.626376285174825, 4.571606646282291, 4.530061130896549, 2.318780663845705, 3.1661662064549523, 6.406493010201214, 2.458131316223866, 8.769856641194412, 11.088604424694797, 14.121586416266883, 14.746974061642984], \"Category\": [\"Default\", \"Default\", \"Default\", \"Default\", \"Default\", \"Default\", \"Default\", \"Default\", \"Default\", \"Default\", \"Default\", \"Default\", \"Default\", \"Default\", \"Default\", \"Default\", \"Default\", \"Default\", \"Default\", \"Default\", \"Default\", \"Default\", \"Default\", \"Default\", \"Default\", \"Default\", \"Default\", \"Default\", \"Default\", \"Default\", \"Topic1\", \"Topic1\", \"Topic1\", \"Topic1\", \"Topic1\", \"Topic1\", \"Topic1\", \"Topic1\", \"Topic1\", \"Topic1\", \"Topic1\", \"Topic1\", \"Topic1\", \"Topic1\", \"Topic1\", \"Topic1\", \"Topic1\", \"Topic1\", \"Topic1\", \"Topic1\", \"Topic1\", \"Topic1\", \"Topic1\", \"Topic1\", \"Topic1\", \"Topic1\", \"Topic1\", \"Topic1\", \"Topic1\", \"Topic1\", \"Topic1\", \"Topic1\", \"Topic1\", \"Topic1\", \"Topic1\", \"Topic1\", \"Topic1\", \"Topic1\", \"Topic1\", \"Topic1\", \"Topic1\", \"Topic1\", \"Topic1\", \"Topic2\", \"Topic2\", \"Topic2\", \"Topic2\", \"Topic2\", \"Topic2\", \"Topic2\", \"Topic2\", \"Topic2\", \"Topic2\", \"Topic2\", \"Topic2\", \"Topic2\", \"Topic2\", \"Topic2\", \"Topic2\", \"Topic2\", \"Topic2\", \"Topic2\", \"Topic2\", \"Topic2\", \"Topic2\", \"Topic2\", \"Topic2\", \"Topic2\", \"Topic2\", \"Topic2\", \"Topic2\", \"Topic2\", \"Topic2\", \"Topic2\", \"Topic2\", \"Topic2\", \"Topic2\", \"Topic2\", \"Topic2\", \"Topic2\", \"Topic2\", \"Topic2\", \"Topic2\", \"Topic2\", \"Topic2\", \"Topic2\", \"Topic2\", \"Topic2\", \"Topic2\", \"Topic2\", \"Topic2\", \"Topic2\", \"Topic2\", \"Topic2\", \"Topic2\", \"Topic2\", \"Topic2\", \"Topic2\", \"Topic2\", \"Topic2\", \"Topic2\", \"Topic2\", \"Topic2\", \"Topic2\", \"Topic2\", \"Topic2\", \"Topic2\", \"Topic2\", \"Topic3\", \"Topic3\", \"Topic3\", \"Topic3\", \"Topic3\", \"Topic3\", \"Topic3\", \"Topic3\", \"Topic3\", \"Topic3\", \"Topic3\", \"Topic3\", \"Topic3\", \"Topic3\", \"Topic3\", \"Topic3\", \"Topic3\", \"Topic3\", \"Topic3\", \"Topic3\", \"Topic3\", \"Topic3\", \"Topic3\", \"Topic3\", \"Topic3\", \"Topic3\", \"Topic3\", \"Topic3\", \"Topic3\", \"Topic3\", \"Topic3\", \"Topic3\", \"Topic3\", \"Topic3\", \"Topic3\", \"Topic3\", \"Topic3\", \"Topic3\", \"Topic3\", \"Topic3\", \"Topic3\", \"Topic3\", \"Topic3\", \"Topic3\", \"Topic3\", \"Topic3\", \"Topic3\", \"Topic3\", \"Topic3\", \"Topic3\", \"Topic3\", \"Topic3\", \"Topic3\", \"Topic4\", \"Topic4\", \"Topic4\", \"Topic4\", \"Topic4\", \"Topic4\", \"Topic4\", \"Topic4\", \"Topic4\", \"Topic4\", \"Topic4\", \"Topic4\", \"Topic4\", \"Topic4\", \"Topic4\", \"Topic4\", \"Topic4\", \"Topic4\", \"Topic4\", \"Topic4\", \"Topic4\", \"Topic4\", \"Topic4\", \"Topic4\", \"Topic4\", \"Topic4\", \"Topic4\", \"Topic4\", \"Topic4\", \"Topic4\", \"Topic4\", \"Topic4\", \"Topic4\", \"Topic4\", \"Topic4\", \"Topic4\", \"Topic4\", \"Topic4\", \"Topic4\", \"Topic4\", \"Topic4\", \"Topic4\", \"Topic4\", \"Topic5\", \"Topic5\", \"Topic5\", \"Topic5\", \"Topic5\", \"Topic5\", \"Topic5\", \"Topic5\", \"Topic5\", \"Topic5\", \"Topic5\", \"Topic5\", \"Topic5\", \"Topic5\", \"Topic5\", \"Topic5\", \"Topic5\", \"Topic5\", \"Topic5\", \"Topic5\", \"Topic5\", \"Topic5\", \"Topic5\", \"Topic5\", \"Topic5\", \"Topic5\", \"Topic5\", \"Topic5\", \"Topic5\", \"Topic5\", \"Topic5\", \"Topic5\", \"Topic5\", \"Topic5\", \"Topic5\", \"Topic5\", \"Topic5\", \"Topic5\", \"Topic5\", \"Topic5\", \"Topic5\", \"Topic5\"], \"logprob\": [30.0, 29.0, 28.0, 27.0, 26.0, 25.0, 24.0, 23.0, 22.0, 21.0, 20.0, 19.0, 18.0, 17.0, 16.0, 15.0, 14.0, 13.0, 12.0, 11.0, 10.0, 9.0, 8.0, 7.0, 6.0, 5.0, 4.0, 3.0, 2.0, 1.0, -4.7655, -5.6652, -5.5793, -5.7525, -5.9175, -5.9261, -6.1549, -5.4219, -6.1796, -6.2033, -6.3569, -6.3034, -6.3612, -6.4899, -6.5621, -6.4895, -5.8774, -6.5775, -6.6147, -6.5341, -4.9942, -6.6926, -5.0835, -6.4982, -6.7238, -6.7054, -6.0028, -6.7795, -5.8686, -6.6277, -2.9505, -4.7935, -6.1915, -6.5275, -5.9652, -5.8169, -6.1102, -5.7281, -6.1708, -6.2851, -6.2158, -6.3771, -6.0064, -6.4753, -6.9406, -7.0304, -7.0437, -7.0841, -7.2467, -7.1615, -7.2768, -7.2768, -7.277, -7.2771, -6.8744, -7.2767, -7.3568, -7.1578, -7.1425, -7.3962, -7.3963, -7.3659, -7.4347, -7.4434, -6.8471, -7.4778, -7.0384, -7.5009, -7.5699, -7.5729, -7.573, -7.573, -7.5731, -7.4775, -7.4234, -6.4618, -7.2567, -7.1488, -5.1087, -7.2767, -6.1046, -6.4185, -6.1973, -7.0831, -7.1205, -7.0664, -6.8577, -6.0987, -4.376, -6.6824, -6.6026, -6.1627, -6.7665, -6.4905, -6.7442, -6.5142, -6.7151, -6.1765, -6.8484, -6.9193, -6.7429, -6.757, -7.0057, -6.7666, -6.7083, -6.8156, -6.8006, -6.8022, -7.2369, -6.8332, -7.0265, -7.0331, -7.0334, -7.4517, -7.2469, -7.4545, -7.4545, -7.4545, -7.4545, -7.4545, -7.4565, -7.4565, -7.4565, -7.4565, -7.4565, -7.4565, -7.4623, -7.4623, -7.4623, -7.4623, -7.4623, -7.4623, -7.4623, -7.4623, -7.4623, -7.4623, -7.4758, -7.4758, -7.1553, -7.1424, -7.2383, -6.9374, -7.188, -7.3623, -7.3793, -7.1168, -7.376, -7.3852, -7.3434, -7.3313, -7.3112, -7.2986, -7.4018, -7.4149, -7.4325, -7.4345, -7.4516, -7.4516, -7.4516, -7.4517, -7.4517, -6.9085, -6.5831, -7.3987, -7.3987, -7.3987, -7.3987, -7.3987, -7.4253, -7.4253, -7.4253, -7.4285, -7.4285, -7.4285, -7.4285, -7.4285, -7.4285, -6.6171, -7.6053, -7.5775, -7.5775, -7.6147, -7.4287, -7.399, -7.6854, -7.46, -7.4676, -7.6097, -7.4324, -7.9562, -7.9562, -7.4605, -7.3992, -7.3078, -7.4831, -6.944, -7.4004, -7.2678, -7.4008, -7.3663, -7.3948, -7.4103, -7.4111, -7.4169, -6.869, -6.869, -6.869, -7.1763, -7.1763, -6.8811, -7.3843, -7.3843, -7.3843, -7.3843, -7.3843, -7.3845, -7.4035, -7.9885, -7.9885, -7.9885, -7.9885, -7.9885, -7.4443, -7.4402, -7.4458, -8.4655, -8.4655, -8.4655, -8.4655, -8.4655, -8.4655, -8.4655, -8.4655, -8.4655, -8.0709, -7.8542, -7.5006, -7.5158, -8.0883, -7.9216, -7.5873, -8.1638, -7.6908, -7.762, -7.7913, -7.8664], \"loglift\": [30.0, 29.0, 28.0, 27.0, 26.0, 25.0, 24.0, 23.0, 22.0, 21.0, 20.0, 19.0, 18.0, 17.0, 16.0, 15.0, 14.0, 13.0, 12.0, 11.0, 10.0, 9.0, 8.0, 7.0, 6.0, 5.0, 4.0, 3.0, 2.0, 1.0, 0.2488, 0.2432, 0.2421, 0.2413, 0.2392, 0.2388, 0.2351, 0.2323, 0.2318, 0.2305, 0.2304, 0.2278, 0.226, 0.2253, 0.2245, 0.2244, 0.2242, 0.2237, 0.2228, 0.2226, 0.2215, 0.2201, 0.2183, 0.2171, 0.2168, 0.2168, 0.2167, 0.2152, 0.2147, 0.2142, 0.2091, 0.2049, 0.2115, 0.214, 0.1918, 0.1719, 0.1898, 0.1293, 0.167, 0.1762, 0.1437, 0.1501, -0.1511, 1.5341, 1.5263, 1.4915, 1.4792, 1.4772, 1.4291, 1.4283, 1.4186, 1.4186, 1.4184, 1.4183, 1.3983, 1.3957, 1.3891, 1.3886, 1.3847, 1.3741, 1.3739, 1.3737, 1.359, 1.3556, 1.3458, 1.3418, 1.326, 1.3113, 1.3033, 1.3022, 1.302, 1.302, 1.3019, 1.2958, 1.2784, 1.0882, 1.2381, 1.2147, 0.7466, 1.2405, 0.7294, 0.8155, 0.6501, 1.1252, 1.133, 1.0917, 0.923, 0.2921, -1.2163, 0.7369, 0.624, -0.3053, 0.5377, -0.0046, 0.4544, -0.0027, 0.1991, -1.1781, 0.4449, 0.6323, -0.0264, 0.0097, 0.8367, -0.1851, -0.7195, -0.4561, -1.4988, -1.5865, 1.9474, 1.9344, 1.9048, 1.8139, 1.8131, 1.7921, 1.7899, 1.786, 1.786, 1.786, 1.786, 1.786, 1.7814, 1.7814, 1.7814, 1.7814, 1.7814, 1.7814, 1.7689, 1.7689, 1.7689, 1.7689, 1.7689, 1.7689, 1.7689, 1.7689, 1.7689, 1.7689, 1.7402, 1.7402, 1.7218, 1.3943, 1.0971, -0.1866, 0.6202, 1.3367, 1.4058, -0.3305, 1.1888, 1.1763, 0.7727, 0.2805, -0.1582, -0.9607, 0.8064, 0.7071, 1.1688, 1.0772, 1.5014, 1.5013, 1.5013, 1.2263, 1.501, 2.2704, 2.2252, 1.9135, 1.9135, 1.9135, 1.9135, 1.9135, 1.8515, 1.8515, 1.8515, 1.8447, 1.8447, 1.8447, 1.8447, 1.8447, 1.8447, 1.8173, 1.7245, 1.7049, 1.7049, 1.6363, 1.6217, 1.6042, 1.572, 1.4854, 1.4713, 1.4675, 1.4295, 1.4201, 1.4201, 1.3725, 1.3583, 1.0161, 1.2377, 0.1937, 0.9032, 0.2196, 0.7217, -0.4877, -0.183, -0.5684, -0.6696, -1.0138, 2.4231, 2.4231, 2.4231, 2.1435, 2.1435, 2.0885, 1.9577, 1.9577, 1.9577, 1.9577, 1.9577, 1.7208, 1.6017, 1.3491, 1.3491, 1.3491, 1.3491, 1.3491, 1.3385, 1.1509, 1.1021, 0.9109, 0.9109, 0.9046, 0.9046, 0.9046, 0.9046, 0.9046, 0.9046, 0.9046, 0.9019, 0.742, 0.5414, 0.5353, 0.6325, 0.4877, 0.1172, 0.4987, -0.3003, -0.6061, -0.8772, -0.9956]}, \"token.table\": {\"Topic\": [1, 2, 1, 2, 1, 2, 1, 1, 2, 1, 1, 1, 2, 1, 1, 2, 1, 1, 2, 1, 1, 2, 1, 1, 1, 1, 2, 1, 2, 1, 2, 1, 2, 1, 2, 1, 2, 1, 3, 1, 2, 1, 1, 1, 1, 1, 1, 1, 1, 1, 1, 1, 1, 1, 2, 1, 2, 1, 2, 1, 1, 1, 1, 2, 1, 1, 2, 1, 1, 2, 1, 1, 2, 1, 1, 1, 1, 1, 1, 1, 1, 1, 1, 1, 1, 1, 1, 1, 1, 2, 1, 1, 1, 1, 1, 1, 1, 1, 1, 1, 1, 2, 1, 1, 2, 1, 1, 2, 1, 1, 1, 1, 2, 1, 2, 1, 1, 1, 2, 1, 2, 1, 1, 1, 1, 1, 2, 1, 1, 2, 1, 1, 2, 1, 1, 1, 1, 1, 2, 1, 1, 1, 1, 2, 1, 2, 1, 1, 2, 1, 2, 1, 2, 1, 1, 1, 1, 2, 1, 2, 1, 1, 1, 1, 2, 1, 1, 1, 1, 2, 1, 2, 1, 1, 2, 1, 2, 1, 1, 1, 1, 2, 1, 2, 1, 1, 2, 1, 1, 2, 1, 1, 1, 1, 1, 2, 1, 1, 2, 1, 1, 2, 1, 1, 2, 1, 2, 1, 1, 1, 1, 1, 1, 1, 1, 2, 1, 2, 1, 2, 1, 1, 2, 1, 1, 1, 1, 2, 1, 2, 1, 1, 1, 1, 1, 2, 1, 1, 2, 1, 2, 1, 1, 1, 1, 2, 1, 2, 1, 1, 2, 1, 2, 1, 1, 1, 1, 1, 1, 1, 2, 1, 2, 1, 2, 1, 2, 1, 2, 1, 2, 1, 1, 2, 1, 3, 1, 2, 1, 2, 1, 2, 1, 1, 1, 1, 2, 1, 1, 1, 1, 1, 2, 1, 1, 2, 1, 1, 2, 1, 1, 2, 1, 1, 1, 1, 2, 1, 2, 1, 2, 1, 2, 1, 2, 1, 1, 2, 1, 2, 1, 2, 1, 1, 2], \"Freq\": [0.4204457532667101, 0.8408915065334202, 0.5022593528158029, 0.5022593528158029, 0.5349652506537314, 0.4012239379902985, 0.7790405755678076, 0.8947092967913824, 0.08133720879921659, 0.8026692126062994, 0.7991443106449161, 0.5323011381983684, 0.5323011381983684, 0.4892793986942359, 0.7972347728197428, 0.2097986244262481, 0.7251677997933721, 0.8554703824167584, 0.18331508194644824, 0.7184474248604867, 0.49138869494789744, 0.49138869494789744, 0.7108385938084536, 0.7991455316433086, 0.7519980185872124, 0.4204318465745943, 0.8408636931491886, 0.9769621820526208, 0.04247661661098351, 0.6334393287498502, 0.6334393287498502, 0.4663315207243604, 0.4663315207243604, 0.662423269167083, 0.2649693076668332, 0.42043214174080273, 0.8408642834816055, 0.4519456151748206, 0.4519456151748206, 0.9365498394279139, 0.15609163990465233, 0.7519983752648246, 0.9842898696362055, 0.7492520307917027, 0.8026689195687655, 0.7849862623757118, 0.4706929538047719, 0.9881838027337234, 0.7233192808182283, 0.9899822786136482, 0.8625222864688693, 0.7635958957888715, 0.8255302642715273, 0.7067405302937467, 0.23558017676458223, 0.33455979655412676, 0.6691195931082535, 0.2117408897960156, 0.6352226693880468, 0.7251678169060868, 0.7379239240784201, 0.8026685802330618, 0.4473921826963738, 0.4473921826963738, 0.8535961608023744, 0.2755225383950088, 0.5510450767900176, 0.7251678169060868, 0.7242213481370375, 0.20692038518201072, 0.7790405270176217, 0.752989569795304, 0.28237108867323896, 0.7233192808182283, 0.7849864888135262, 0.9957710364179219, 0.9874168267916712, 0.6818198366287883, 0.8255302158356289, 0.825530243094429, 0.8136261829463047, 0.5041860893174409, 0.5530478242598681, 0.9486990367607565, 0.5548548566001572, 0.7790405755678076, 0.8263661364239868, 0.5363488963166689, 0.9196253585791226, 0.03831772327413011, 0.7184472596944897, 0.7233192808182283, 0.921043384598548, 0.7233192808182283, 0.7492515520092634, 0.7076426585281387, 0.7928718654688935, 0.9636400667772784, 0.9533621663291889, 0.7233192808182283, 0.4544815595609567, 0.4544815595609567, 0.7492522453137912, 0.3538224333310036, 0.7076448666620072, 0.6159164220719059, 0.44222632444683513, 0.44222632444683513, 0.9703237106977182, 0.7562271054763892, 0.7991451389962061, 0.4204358874619543, 0.8408717749239086, 0.4760326561973149, 0.4760326561973149, 0.5719685865670181, 0.7184471939085142, 0.3676813979077518, 0.7353627958155036, 0.8860683979000423, 0.12306505526389477, 0.8855776847324947, 0.9679388206621147, 0.5731558187209895, 0.7174922537314473, 0.3553548260656579, 0.7107096521313158, 0.7328638535188026, 0.46386269348631454, 0.46386269348631454, 0.8026695625847237, 0.8724393854737007, 0.1246341979248144, 0.7748721508081048, 0.5438499505812407, 0.7492517116033418, 0.4889911014996417, 0.4531354309028217, 0.4531354309028217, 0.9708306846019705, 0.9475181668870748, 0.9482587104633313, 0.8794102329033644, 0.1256300332719092, 0.9262931281361011, 0.084208466194191, 0.8524694545343577, 0.6535895438758086, 0.3267947719379043, 0.30170578733380043, 0.6034115746676009, 0.9152680542022463, 0.07958852645236925, 0.7184473422774788, 0.7635957977568113, 0.8255302642715273, 0.6775266998512829, 0.2903685856505498, 0.47251027240019705, 0.47251027240019705, 0.7354480482037338, 0.718447300985982, 0.7184473422774788, 0.4530996538749858, 0.4530996538749858, 0.9867018959420114, 0.7233193017449342, 0.7255765262591084, 0.3440111641958314, 0.6880223283916628, 0.8656782612318167, 0.17313565224636332, 0.765433062610485, 0.5374832745454289, 0.3583221830302859, 0.30198216643041875, 0.6039643328608375, 0.8255302212006819, 0.7492517464921371, 0.7991460157610097, 0.9487791452283622, 0.052130722265294624, 0.43944632554487517, 0.43944632554487517, 0.7184473835689803, 0.6698160000658777, 0.26792640002635104, 0.8255302581898242, 0.9005015154383803, 0.09005015154383803, 0.9972092672171105, 0.9838674871033969, 0.9703357009696527, 0.8729990433314962, 0.9568142912810662, 0.06834387794864759, 0.9973125546053832, 0.49660218974185893, 0.49660218974185893, 0.5439563465967368, 0.7322078730504342, 0.31380337416447185, 0.9853409128298285, 0.5405774589677017, 0.5405774589677017, 0.7789493103500696, 0.21244072100456446, 0.830695474207413, 0.8026687809919055, 0.945267049456022, 0.7790405270176217, 0.882990291834838, 0.825530243094429, 0.7635969247625333, 0.5031981462969992, 0.5031981462969992, 0.971761013356567, 0.025913627022841786, 0.9018267418512623, 0.09018267418512624, 0.9867461745864906, 0.5166314312691888, 0.5166314312691888, 0.7562271054763892, 0.7615055052428901, 0.8439183837208621, 0.8521593195543401, 0.1420265532590567, 0.2543597746748776, 0.5087195493497552, 0.6477529710224116, 0.8800366711685297, 0.9177496120130165, 0.9960854394651679, 0.37830155405027677, 0.7566031081005535, 0.7275641215244236, 0.8631730166307399, 0.15232464999365997, 0.5996262463322469, 0.5996262463322469, 0.9279937446807286, 0.7184474906465045, 0.699789928325096, 0.9740541558005558, 0.03142110180001793, 0.9545259058193482, 0.03535281132664252, 0.9643639562969827, 0.8749659166877073, 0.21874147917192682, 0.41087101158553424, 0.8217420231710685, 0.9657391813572691, 0.6855048061353091, 0.4598693345023015, 0.7251678000121384, 0.5398952089312564, 0.7991455316433086, 0.41227128002883334, 0.8245425600576667, 0.5031613717736395, 0.5031613717736395, 0.48249772117529716, 0.48249772117529716, 0.5031792742743639, 0.5031792742743639, 0.5031691112118245, 0.5031691112118245, 0.9138339982600185, 0.096193052448423, 0.7184473422774788, 0.9564808696793261, 0.030854221602558907, 0.9622598914428642, 0.06014124321517901, 0.35181791306032634, 0.7036358261206527, 0.5850232344731234, 0.39001548964874894, 0.960233932939393, 0.028242174498217438, 0.9122155956828091, 0.7375651296430241, 0.7790405270176217, 0.9299347567549265, 0.06642391119678047, 0.7076427461136171, 0.830695474207413, 0.7184474248604867, 0.7576082400741111, 0.8306010937903823, 0.13843351563173037, 0.5439340619671545, 0.35346529878747357, 0.7069305975749471, 0.7492519060862984, 0.8815367780304924, 0.1356210427739219, 0.5439229432640034, 0.5867599971719434, 0.35205599830316603, 0.8991998191093971, 0.7519980638252947, 0.8699663553429301, 0.8582601494123036, 0.09536223882358928, 0.42314892229648937, 0.42314892229648937, 0.663188617692699, 0.31931303814833656, 0.9532835081098411, 0.04642076213404443, 0.9843703650137429, 0.020089191122729447, 0.9852011973670881, 0.5053181299222469, 0.3368787532814979, 0.362245155456501, 0.724490310913002, 0.8136002407452825, 0.17434290873113195, 0.7251678000121384, 0.5915449310014077, 0.5915449310014077], \"Term\": [\"acostumbrada\", \"acostumbrada\", \"acusada\", \"acusada\", \"ahi\", \"ahi\", \"ahocarlos\", \"ahora\", \"ahora\", \"ajiaco\", \"alcanzo\", \"alias\", \"alias\", \"america\", \"anos\", \"anos\", \"antiaereas\", \"aqui\", \"aqui\", \"arabia\", \"area\", \"area\", \"armas\", \"armenia\", \"arrojo\", \"arroyo\", \"arroyo\", \"asi\", \"asi\", \"astronomicas\", \"astronomicas\", \"atajada\", \"atajada\", \"atencion\", \"atencion\", \"atp\", \"atp\", \"aun\", \"aun\", \"aunque\", \"aunque\", \"autonoma\", \"ayuda\", \"bachaqueros\", \"bandeja\", \"boyacense\", \"bucaramanga\", \"bueno\", \"cachapas\", \"cada\", \"cafeteros\", \"calorias\", \"camargo\", \"camino\", \"camino\", \"canales\", \"canales\", \"cancion\", \"cancion\", \"capaz\", \"capturo\", \"caraotas\", \"cardenas\", \"cardenas\", \"carlos\", \"carrera\", \"carrera\", \"caza\", \"centro\", \"centro\", \"ciegos\", \"ciudad\", \"ciudad\", \"cochino\", \"cocido\", \"colombia\", \"colombianos\", \"colombiches\", \"concord\", \"continuos\", \"convierten\", \"corporacion\", \"criollo\", \"cuantos\", \"cuarto\", \"cuello\", \"dada\", \"darles\", \"debe\", \"debe\", \"decadas\", \"decepcionado\", \"decir\", \"delivery\", \"descontento\", \"descubierto\", \"destinos\", \"dia\", \"dicen\", \"directas\", \"disfrutaran\", \"disfrutaran\", \"disolver\", \"disposicion\", \"disposicion\", \"domingo\", \"donan\", \"donan\", \"eeu\", \"efepece\", \"eje\", \"empanada\", \"empanada\", \"empujon\", \"empujon\", \"entiendan\", \"entrenador\", \"establecimientos\", \"establecimientos\", \"estan\", \"estan\", \"estudio\", \"falta\", \"famoso\", \"febrero\", \"felipe\", \"felipe\", \"flagrancia\", \"flamengo\", \"flamengo\", \"fritas\", \"frontera\", \"frontera\", \"fuego\", \"fuentes\", \"fulana\", \"futbol\", \"galapa\", \"galapa\", \"gobierno\", \"habitantes\", \"hablando\", \"hacen\", \"hacen\", \"hacer\", \"hacer\", \"hago\", \"hambre\", \"hambre\", \"hija\", \"hija\", \"hoy\", \"hoy\", \"importantisima\", \"ingredientesel\", \"irwin\", \"joven\", \"joven\", \"juez\", \"juez\", \"justo\", \"juvenil\", \"larga\", \"ley\", \"ley\", \"libertad\", \"llano\", \"lleven\", \"llorar\", \"llorar\", \"luego\", \"luego\", \"luis\", \"madre\", \"madre\", \"mala\", \"mala\", \"malambo\", \"malvivientes\", \"manizales\", \"mas\", \"mas\", \"master\", \"master\", \"maturana\", \"medica\", \"medica\", \"mendoza\", \"migracion\", \"migracion\", \"migrantes\", \"mil\", \"millones\", \"misma\", \"mismo\", \"mismo\", \"momento\", \"mostro\", \"mostro\", \"movilizan\", \"mujer\", \"mujer\", \"mundo\", \"musical\", \"musical\", \"nacional\", \"nacional\", \"necias\", \"negras\", \"ninos\", \"ora\", \"orgullo\", \"osvaldo\", \"pabellon\", \"pablo\", \"pablo\", \"pais\", \"pais\", \"parece\", \"parece\", \"parte\", \"partido\", \"partido\", \"pecoso\", \"pereira\", \"permitido\", \"personas\", \"personas\", \"peruano\", \"peruano\", \"planifican\", \"pm\", \"poblado\", \"presidente\", \"prestadoras\", \"prestadoras\", \"presuntamente\", \"primera\", \"primera\", \"prioridad\", \"prioridad\", \"problema\", \"profe\", \"pudiera\", \"pueblo\", \"pueblo\", \"puede\", \"puede\", \"q\", \"queda\", \"queda\", \"quedando\", \"quedando\", \"quieren\", \"quinta\", \"quinto\", \"radar\", \"realizando\", \"receptora\", \"relatos\", \"relatos\", \"revista\", \"revista\", \"revuelto\", \"revuelto\", \"rock\", \"rock\", \"rosa\", \"rosa\", \"salud\", \"salud\", \"saudita\", \"ser\", \"ser\", \"sera\", \"sera\", \"serian\", \"serian\", \"servicios\", \"servicios\", \"si\", \"si\", \"siempre\", \"silenciar\", \"soga\", \"solo\", \"solo\", \"sonrien\", \"sordos\", \"sudamericano\", \"superar\", \"tambien\", \"tambien\", \"tanqueros\", \"tenia\", \"tenia\", \"tramposos\", \"tras\", \"tras\", \"trasladados\", \"tres\", \"tres\", \"ultimos\", \"unab\", \"universidad\", \"va\", \"va\", \"vacias\", \"vacias\", \"venecos\", \"venecos\", \"venezolanos\", \"venezolanos\", \"venezuela\", \"venezuela\", \"ver\", \"victimas\", \"victimas\", \"victoria\", \"victoria\", \"vida\", \"vida\", \"vulnerar\", \"yaracuy\", \"yaracuy\"]}, \"R\": 30, \"lambda.step\": 0.01, \"plot.opts\": {\"xlab\": \"PC1\", \"ylab\": \"PC2\"}, \"topic.order\": [1, 2, 3, 4, 5]};\n",
       "\n",
       "function LDAvis_load_lib(url, callback){\n",
       "  var s = document.createElement('script');\n",
       "  s.src = url;\n",
       "  s.async = true;\n",
       "  s.onreadystatechange = s.onload = callback;\n",
       "  s.onerror = function(){console.warn(\"failed to load library \" + url);};\n",
       "  document.getElementsByTagName(\"head\")[0].appendChild(s);\n",
       "}\n",
       "\n",
       "if(typeof(LDAvis) !== \"undefined\"){\n",
       "   // already loaded: just create the visualization\n",
       "   !function(LDAvis){\n",
       "       new LDAvis(\"#\" + \"ldavis_el1416024910140918249234298314\", ldavis_el1416024910140918249234298314_data);\n",
       "   }(LDAvis);\n",
       "}else if(typeof define === \"function\" && define.amd){\n",
       "   // require.js is available: use it to load d3/LDAvis\n",
       "   require.config({paths: {d3: \"https://d3js.org/d3.v5\"}});\n",
       "   require([\"d3\"], function(d3){\n",
       "      window.d3 = d3;\n",
       "      LDAvis_load_lib(\"https://cdn.jsdelivr.net/gh/bmabey/pyLDAvis@3.4.0/pyLDAvis/js/ldavis.v3.0.0.js\", function(){\n",
       "        new LDAvis(\"#\" + \"ldavis_el1416024910140918249234298314\", ldavis_el1416024910140918249234298314_data);\n",
       "      });\n",
       "    });\n",
       "}else{\n",
       "    // require.js not available: dynamically load d3 & LDAvis\n",
       "    LDAvis_load_lib(\"https://d3js.org/d3.v5.js\", function(){\n",
       "         LDAvis_load_lib(\"https://cdn.jsdelivr.net/gh/bmabey/pyLDAvis@3.4.0/pyLDAvis/js/ldavis.v3.0.0.js\", function(){\n",
       "                 new LDAvis(\"#\" + \"ldavis_el1416024910140918249234298314\", ldavis_el1416024910140918249234298314_data);\n",
       "            })\n",
       "         });\n",
       "}\n",
       "</script>"
      ],
      "text/plain": [
       "<IPython.core.display.HTML object>"
      ]
     },
     "execution_count": 98,
     "metadata": {},
     "output_type": "execute_result"
    }
   ],
   "source": [
    "[[(dictionary[id], freq) for id, freq in cp] for cp in corpus[:1]]\n",
    "\n",
    "pprint.pprint(lda_final_model.print_topics())\n",
    "doc_lda = lda_final_model[corpus]\n",
    "\n",
    "visxx = pyLDAvis.gensim_models.prepare(topic_model=lda_final_model, corpus=corpus, dictionary=dictionary)\n",
    "pyLDAvis.display(visxx)"
   ]
  },
  {
   "cell_type": "markdown",
   "metadata": {},
   "source": [
    "This are the results of an optimized toy model to "
   ]
  }
 ],
 "metadata": {
  "kernelspec": {
   "display_name": "BX",
   "language": "python",
   "name": "python3"
  },
  "language_info": {
   "codemirror_mode": {
    "name": "ipython",
    "version": 3
   },
   "file_extension": ".py",
   "mimetype": "text/x-python",
   "name": "python",
   "nbconvert_exporter": "python",
   "pygments_lexer": "ipython3",
   "version": "3.9.0"
  },
  "orig_nbformat": 4
 },
 "nbformat": 4,
 "nbformat_minor": 2
}
