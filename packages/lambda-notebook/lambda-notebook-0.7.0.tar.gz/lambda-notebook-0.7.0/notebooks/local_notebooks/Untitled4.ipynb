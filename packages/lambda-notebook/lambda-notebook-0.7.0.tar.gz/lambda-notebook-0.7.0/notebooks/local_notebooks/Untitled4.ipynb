{
 "cells": [
  {
   "cell_type": "code",
   "execution_count": 46,
   "id": "47512f3a-8ab0-41b3-a355-cc187fb57d9c",
   "metadata": {},
   "outputs": [],
   "source": [
    "reload_lamb()"
   ]
  },
  {
   "cell_type": "code",
   "execution_count": 252,
   "id": "5d331801-ee2b-4c2c-a2d1-a6d25ea30b52",
   "metadata": {},
   "outputs": [
    {
     "data": {
      "text/latex": [
       "$\\lambda{} f_{\\left\\{\\left\\langle{}X,Y\\right\\rangle{}\\right\\}} \\: . \\: \\lambda{} a_{\\left\\{X\\right\\}} \\: . \\: \\{x_{Y}\\:|\\: \\exists{} f1_{\\left\\langle{}X,Y\\right\\rangle{}} \\: . \\: \\exists{} a1_{X} \\: . \\: ((({f1} \\in{} {f}) \\wedge{} ({a1} \\in{} {a})) \\wedge{} ({x}_{Y} = {f1}({a1})))\\}$"
      ],
      "text/plain": [
       "(λ f_{<X,Y>}: (λ a_{X}: (Set x_Y: (Exists f1_<X,Y>: (Exists a1_X: (((f1_<X,Y> << f_{<X,Y>}) & (a1_X << a_{X})) & (x_Y <=> f1_<X,Y>(a1_X))))))))"
      ]
     },
     "execution_count": 252,
     "metadata": {},
     "output_type": "execute_result"
    }
   ],
   "source": [
    "pfa_combinator = %te L f_{<X,Y>} : L a_{X} : Set x_Y : Exists f1_<X,Y> : (Exists a1_X : (f1 << f & a1 << a) & x <=> f1(a1))\n",
    "pfa_combinator"
   ]
  },
  {
   "cell_type": "code",
   "execution_count": 253,
   "id": "cc788a6f-1c2d-4af5-9aa6-da1d9dc0ed5a",
   "metadata": {},
   "outputs": [
    {
     "data": {
      "text/latex": [
       "$\\lambda{} x_{Y} \\: . \\: \\lambda{} y_{Y} \\: . \\: ({x} = {y})$"
      ],
      "text/plain": [
       "(λ x_Y: (λ y_Y: (x_Y <=> y_Y)))"
      ]
     },
     "execution_count": 253,
     "metadata": {},
     "output_type": "execute_result"
    }
   ],
   "source": [
    "%te L x_X : L y_Y : x <=> y"
   ]
  },
  {
   "cell_type": "code",
   "execution_count": 254,
   "id": "b447b050-64c2-446b-8234-d16d3dcda87b",
   "metadata": {},
   "outputs": [
    {
     "data": {
      "text/latex": [
       "$\\lambda{} x_{t} \\: . \\: \\lambda{} y_{t} \\: . \\: ({x} \\leftrightarrow{} {y})$"
      ],
      "text/plain": [
       "(λ x_t: (λ y_t: (x_t <=> y_t)))"
      ]
     },
     "execution_count": 254,
     "metadata": {},
     "output_type": "execute_result"
    }
   ],
   "source": [
    "%te L x_t : L y_t : x <=> y"
   ]
  },
  {
   "cell_type": "code",
   "execution_count": 255,
   "id": "8c663cc7-767c-4ae3-8895-49ec30428507",
   "metadata": {},
   "outputs": [
    {
     "data": {
      "text/latex": [
       "$\\lambda{} x_{e} \\: . \\: \\lambda{} y_{e} \\: . \\: ({x} = {y})$"
      ],
      "text/plain": [
       "(λ x_e: (λ y_e: (x_e <=> y_e)))"
      ]
     },
     "execution_count": 255,
     "metadata": {},
     "output_type": "execute_result"
    }
   ],
   "source": [
    "%te L x_e : L y_e : x <=> y"
   ]
  },
  {
   "cell_type": "code",
   "execution_count": 256,
   "id": "e7ecbe8d-d9db-4f4b-8269-c71499dbccee",
   "metadata": {},
   "outputs": [
    {
     "data": {
      "text/latex": [
       "$({x}_{Y} = {y}_{Y})$"
      ],
      "text/plain": [
       "(x_Y <=> y_Y)"
      ]
     },
     "execution_count": 256,
     "metadata": {},
     "output_type": "execute_result"
    }
   ],
   "source": [
    "lamb.meta.core.BinaryGenericEqExpr(te(\"x_X\"), te(\"y_Y\"))"
   ]
  },
  {
   "cell_type": "code",
   "execution_count": 260,
   "id": "3364635a-16f8-4226-999a-8282dd546f5a",
   "metadata": {},
   "outputs": [
    {
     "data": {
      "text/latex": [
       "$({x}_{Y} = {y}_{Y})$"
      ],
      "text/plain": [
       "(x_Y <=> y_Y)"
      ]
     },
     "execution_count": 260,
     "metadata": {},
     "output_type": "execute_result"
    }
   ],
   "source": [
    "%te x_X <=> y_Y"
   ]
  },
  {
   "cell_type": "code",
   "execution_count": 73,
   "id": "4dd88728-8f6b-4c67-8a45-a3ec183d2722",
   "metadata": {},
   "outputs": [
    {
     "data": {
      "text/plain": [
       "True"
      ]
     },
     "execution_count": 73,
     "metadata": {},
     "output_type": "execute_result"
    }
   ],
   "source": [
    "ops = meta.registry.get_descs(\"<=>\")\n",
    "ops[0].check_viable(te(\"x_X\"), te(\"y_Y\"))\n",
    "#ops[1].targs"
   ]
  },
  {
   "cell_type": "code",
   "execution_count": 86,
   "id": "25558e8b-ba41-4ff2-bdde-567fabdad613",
   "metadata": {},
   "outputs": [
    {
     "data": {
      "text/latex": [
       "$({x}_{Y} = {y}_{Y})$"
      ],
      "text/plain": [
       "(x_Y <=> y_Y)"
      ]
     },
     "execution_count": 86,
     "metadata": {},
     "output_type": "execute_result"
    }
   ],
   "source": [
    "meta.registry.expr_factory(\"<=>\", te(\"x_X\"), te(\"y_Y\"))"
   ]
  },
  {
   "cell_type": "code",
   "execution_count": 89,
   "id": "0acde4ec-69cb-4678-9ab8-26a0ac585322",
   "metadata": {},
   "outputs": [
    {
     "data": {
      "text/latex": [
       "$({x}_{e} = {y}_{e})$"
      ],
      "text/plain": [
       "(x_e <=> y_e)"
      ]
     },
     "execution_count": 89,
     "metadata": {},
     "output_type": "execute_result"
    }
   ],
   "source": [
    "%te x_X <=> y_e"
   ]
  },
  {
   "cell_type": "code",
   "execution_count": 97,
   "id": "fb082cee-acf8-45b6-946e-56c01942f2bd",
   "metadata": {},
   "outputs": [
    {
     "data": {
      "text/latex": [
       "$({x}_{\\left\\langle{}X',Y\\right\\rangle{}} \\in{} {X}_{\\left\\{\\left\\langle{}X',Y\\right\\rangle{}\\right\\}})$"
      ],
      "text/plain": [
       "(x_<X',Y> << X_{<X',Y>})"
      ]
     },
     "execution_count": 97,
     "metadata": {},
     "output_type": "execute_result"
    }
   ],
   "source": [
    "%te x_X << X_{<X1,Y>}"
   ]
  },
  {
   "cell_type": "code",
   "execution_count": 54,
   "id": "c9ba553d-f2ef-4259-8028-1ca4a45b6b81",
   "metadata": {},
   "outputs": [
    {
     "data": {
      "text/latex": [
       "$\\lambda{} f_{\\left\\{\\left\\langle{}X,Y\\right\\rangle{}\\right\\}} \\: . \\: \\lambda{} a_{\\left\\{X\\right\\}} \\: . \\: \\{x_{Y}\\:|\\: \\exists{} f1_{\\left\\langle{}X,Y\\right\\rangle{}} \\: . \\: \\exists{} a1_{X} \\: . \\: ((({f1} \\in{} {f}) \\wedge{} ({a1} \\in{} {a})) \\wedge{} ({x}_{Y} = {f1}({a1})))\\}$"
      ],
      "text/plain": [
       "(λ f_{<X,Y>}: (λ a_{X}: (Set x_Y: (Exists f1_<X,Y>: (Exists a1_X: (((f1_<X,Y> << f_{<X,Y>}) & (a1_X << a_{X})) & (x_Y <=> f1_<X,Y>(a1_X))))))))"
      ]
     },
     "execution_count": 54,
     "metadata": {},
     "output_type": "execute_result"
    }
   ],
   "source": [
    "te(\"L f_{<X,Y>} : L a_{X} : Set x_Y : Exists f1_<X,Y> : (Exists a1_X : (f1 << f & a1 << a) & x <=> f1(a1))\")"
   ]
  },
  {
   "cell_type": "code",
   "execution_count": null,
   "id": "23229ffe-91ab-4396-97be-0b1a358e209a",
   "metadata": {},
   "outputs": [],
   "source": []
  },
  {
   "cell_type": "code",
   "execution_count": null,
   "id": "763d4411-c675-446a-aacd-6e7f428d6a4f",
   "metadata": {},
   "outputs": [],
   "source": []
  },
  {
   "cell_type": "code",
   "execution_count": null,
   "id": "4d931a36-53ec-42b0-a646-6761f763cffe",
   "metadata": {},
   "outputs": [],
   "source": []
  },
  {
   "cell_type": "code",
   "execution_count": 55,
   "id": "d46309f9-9c83-4d0b-bb32-11e647de6f49",
   "metadata": {},
   "outputs": [
    {
     "data": {
      "text/latex": [
       "$\\lambda{} f_{\\left\\{\\left\\langle{}X,Y\\right\\rangle{}\\right\\}} \\: . \\: \\lambda{} a_{\\left\\{X\\right\\}} \\: . \\: \\{x_{Y}\\:|\\: \\exists{} f1_{\\left\\langle{}X,Y\\right\\rangle{}} \\: . \\: \\exists{} a1_{X} \\: . \\: ((({f1} \\in{} {f}) \\wedge{} ({a1} \\in{} {a})) \\wedge{} ({x}_{Y} = {f1}({a1})))\\}$"
      ],
      "text/plain": [
       "(λ f_{<X,Y>}: (λ a_{X}: (Set x_Y: (Exists f1_<X,Y>: (Exists a1_X: (((f1_<X,Y> << f_{<X,Y>}) & (a1_X << a_{X})) & (x_Y <=> f1_<X,Y>(a1_X))))))))"
      ]
     },
     "execution_count": 55,
     "metadata": {},
     "output_type": "execute_result"
    }
   ],
   "source": [
    "%te L f_{<X,Y>} : L a_{X} : Set x_Y : Exists f1_<X,Y> : (Exists a1_X : (f1 << f & a1 << a) & x <=> f1(a1))\n"
   ]
  },
  {
   "cell_type": "code",
   "execution_count": 56,
   "id": "4f5a9660-0136-4146-810f-4ea6d6b94666",
   "metadata": {},
   "outputs": [
    {
     "data": {
      "text/latex": [
       "$\\exists{} f1_{\\left\\langle{}X,Y\\right\\rangle{}} \\: . \\: \\exists{} a1_{X} \\: . \\: \\exists{} x_{Y} \\: . \\: ({x} = {f1}({a1}))$"
      ],
      "text/plain": [
       "(Exists f1_<X,Y>: (Exists a1_X: (Exists x_Y: (x_Y <=> f1_<X,Y>(a1_X)))))"
      ]
     },
     "execution_count": 56,
     "metadata": {},
     "output_type": "execute_result"
    }
   ],
   "source": [
    "%te Exists f1_<X,Y> : Exists a1_X : Exists x_Y : x <=> f1(a1)\n"
   ]
  },
  {
   "cell_type": "code",
   "execution_count": 57,
   "id": "4ab02062-04da-430e-92e1-a89e97112d4b",
   "metadata": {},
   "outputs": [
    {
     "data": {
      "text/latex": [
       "$\\exists{} a1_{X} \\: . \\: ({x}_{Y} = {f1}_{\\left\\langle{}X,Y\\right\\rangle{}}({a1}))$"
      ],
      "text/plain": [
       "(Exists a1_X: (x_Y <=> f1_<X,Y>(a1_X)))"
      ]
     },
     "execution_count": 57,
     "metadata": {},
     "output_type": "execute_result"
    }
   ],
   "source": [
    "%te Exists a1_X : x_Y <=> f1_<X,Y>(a1)"
   ]
  },
  {
   "cell_type": "code",
   "execution_count": 58,
   "id": "f4dc8bf4-1fe1-4db5-9616-b005d39882da",
   "metadata": {},
   "outputs": [
    {
     "data": {
      "text/latex": [
       "$\\exists{} a1_{X} \\: . \\: {f1}_{\\left\\langle{}X,t\\right\\rangle{}}({a1})$"
      ],
      "text/plain": [
       "(Exists a1_X: f1_<X,t>(a1_X))"
      ]
     },
     "execution_count": 58,
     "metadata": {},
     "output_type": "execute_result"
    }
   ],
   "source": [
    "%te Exists a1_X : f1_<X,Y>(a1_X)"
   ]
  },
  {
   "cell_type": "code",
   "execution_count": 59,
   "id": "dc257209-f069-4d30-9359-567f1945d0de",
   "metadata": {},
   "outputs": [
    {
     "data": {
      "text/latex": [
       "${f}_{\\left\\langle{}X,Y\\right\\rangle{}}({x}_{X})$"
      ],
      "text/plain": [
       "f_<X,Y>(x_X)"
      ]
     },
     "execution_count": 59,
     "metadata": {},
     "output_type": "execute_result"
    }
   ],
   "source": [
    "lamb.parsing.parse_te(\"f_<X,Y>(x_X)\", dict())[0] #.reduce_all() #.regularize_type_env(dict(), constants=True)"
   ]
  },
  {
   "cell_type": "code",
   "execution_count": 155,
   "id": "377fb019-eee8-4e75-8ea9-589b6a67a023",
   "metadata": {},
   "outputs": [
    {
     "data": {
      "text/latex": [
       "${f1}_{\\left\\langle{}X,X\\right\\rangle{}}({a1}_{I_{308}})$"
      ],
      "text/plain": [
       "f1_<X,X>(a1_I308)"
      ]
     },
     "execution_count": 155,
     "metadata": {},
     "output_type": "execute_result"
    }
   ],
   "source": [
    "%te f1_<X,X>(a1_X)"
   ]
  },
  {
   "cell_type": "code",
   "execution_count": 60,
   "id": "f33ad834-9c91-44e9-8916-ed5ed56b5be4",
   "metadata": {},
   "outputs": [
    {
     "data": {
      "text/plain": [
       "(<X,X>, X, X)"
      ]
     },
     "execution_count": 60,
     "metadata": {},
     "output_type": "execute_result"
    }
   ],
   "source": [
    "meta.get_type_system().unify_fa(meta.tp(\"<X,X>\"), meta.tp(\"X\"))"
   ]
  },
  {
   "cell_type": "code",
   "execution_count": 237,
   "id": "ab485244-71eb-4535-93cf-deafcc2c5b79",
   "metadata": {},
   "outputs": [
    {
     "name": "stdout",
     "output_type": "stream",
     "text": [
      "    unify_target  e  new_type  e\n",
      "{}\n",
      "(<e,e>, e, e)\n",
      "    unify_target  e  new_type  e\n",
      "{}\n",
      "(<e,t>, e, t)\n",
      "(<e,t>, e, t)\n",
      "    unify_target  t  new_type  t\n",
      "{}\n",
      "    unify_target  t  new_type  t\n",
      "{}\n",
      "    unify_target  t  new_type  t\n",
      "{}\n",
      "    unify_target  t  new_type  t\n",
      "{}\n",
      "    unify_target  t  new_type  t\n",
      "{}\n",
      "    unify_target  t  new_type  t\n",
      "{}\n",
      "    unify_target  t  new_type  t\n",
      "{}\n",
      "    unify_target  t  new_type  t\n",
      "{}\n",
      "    unify_target  <e,t>  new_type  <e,t>\n",
      "{}\n",
      "    unify_target  t  new_type  t\n",
      "{}\n",
      "    unify_target  t  new_type  t\n",
      "{}\n",
      "    unify_target  t  new_type  t\n",
      "{}\n",
      "    unify_target  t  new_type  t\n",
      "{}\n",
      "    unify_target  t  new_type  t\n",
      "{}\n",
      "(<e,t>, e, t)\n",
      "    unify_target  t  new_type  t\n",
      "{}\n",
      "    unify_target  <e,t>  new_type  <e,t>\n",
      "{}\n",
      "    unify_target  t  new_type  t\n",
      "{}\n",
      "    unify_target  t  new_type  t\n",
      "{}\n",
      "    unify_target  t  new_type  t\n",
      "{}\n",
      "    unify_target  e  new_type  e\n",
      "{}\n",
      "    unify_target  <e,e>  new_type  <e,e>\n",
      "{}\n",
      "    unify_target  e  new_type  e\n",
      "{}\n",
      "    unify_target  e  new_type  e\n",
      "{}\n",
      "    unify_target  <e,e>  new_type  <e,e>\n",
      "{}\n",
      "    unify_target  e  new_type  e\n",
      "{}\n",
      "(<e,t>, e, t)\n",
      "(<e,t>, e, t)\n",
      "    unify_target  t  new_type  t\n",
      "{}\n",
      "    unify_target  t  new_type  t\n",
      "{}\n",
      "    unify_target  t  new_type  t\n",
      "{}\n",
      "    unify_target  <e,t>  new_type  <e,t>\n",
      "{}\n",
      "    unify_target  <<e,t>,<e,t>>  new_type  <<e,t>,<e,t>>\n",
      "{}\n",
      "(<e,t>, e, t)\n",
      "(<e,t>, e, t)\n",
      "    unify_target  t  new_type  t\n",
      "{}\n",
      "    unify_target  t  new_type  t\n",
      "{}\n",
      "    unify_target  t  new_type  t\n",
      "{}\n",
      "    unify_target  <e,t>  new_type  <e,t>\n",
      "{}\n",
      "    unify_target  <<e,t>,<e,t>>  new_type  <<e,t>,<e,t>>\n",
      "{}\n",
      "(<X,t>, X, t)\n",
      "(<X,t>, X, t)\n",
      "    unify_target  t  new_type  t\n",
      "{}\n",
      "    unify_target  t  new_type  t\n",
      "{}\n",
      "    unify_target  t  new_type  t\n",
      "{}\n",
      "    unify_target  <X,t>  new_type  <X,t>\n",
      "{}\n",
      "    unify_target  <<X,t>,<X,t>>  new_type  <<X,t>,<X,t>>\n",
      "{}\n",
      "    unify_target  t  new_type  t\n",
      "{}\n",
      "    unify_target  t  new_type  t\n",
      "{}\n",
      "(<X,Y>, X, Y)\n",
      "(<Y,Z>, Y, Z)\n",
      "    unify_target  Z  new_type  Z\n",
      "{}\n",
      "    unify_target  <X,Z>  new_type  <X,Z>\n",
      "{}\n",
      "    unify_target  <<X,Y>,<X,Z>>  new_type  <<X,Y>,<X,Z>>\n",
      "{}\n",
      "(<X,t>, X, t)\n",
      "    unify_target  t  new_type  t\n",
      "{}\n",
      "    unify_target  <<X,t>,t>  new_type  <<X,t>,t>\n",
      "{}\n",
      "(<X,Y>, X, Y)\n",
      "    unify_target  Y  new_type  Y\n",
      "{}\n",
      "    unify_target  <<X,Y>,Y>  new_type  <<X,Y>,Y>\n",
      "{}\n",
      "(<e,X>, e, X)\n",
      "(<X,<e,Z>>, X, <e,Z>)\n",
      "(<e,Z>, e, Z)\n",
      "    unify_target  Z  new_type  Z\n",
      "{}\n",
      "    unify_target  <e,Z>  new_type  <e,Z>\n",
      "{}\n",
      "    unify_target  <<e,X>,<e,Z>>  new_type  <<e,X>,<e,Z>>\n",
      "{}\n",
      "(<Y,X>, Y, X)\n",
      "(<X,<Y,Z>>, X, <Y,Z>)\n",
      "(<Y,Z>, Y, Z)\n",
      "    unify_target  Z  new_type  Z\n",
      "{}\n",
      "    unify_target  <Y,Z>  new_type  <Y,Z>\n",
      "{}\n",
      "    unify_target  <<Y,X>,<Y,Z>>  new_type  <<Y,X>,<Y,Z>>\n",
      "{}\n"
     ]
    }
   ],
   "source": [
    "reload_lamb()"
   ]
  },
  {
   "cell_type": "code",
   "execution_count": 187,
   "id": "b7c563b2-a380-4a6f-ae58-2f7a1dfb8ba8",
   "metadata": {},
   "outputs": [
    {
     "name": "stdout",
     "output_type": "stream",
     "text": [
      "(<I23,I23>, I23, I23)\n",
      "adjusting fun:  <I21,I21>  to  <I23,I23>\n",
      "    unify_target  <I21,I21>  new_type  <I23,I23>\n",
      "{I23: I21}\n",
      "fun type adjusted  f_<I21,I21>, type <I21,I21>\n",
      "    unify_target  I23  new_type  I23\n",
      "{I22: I23}\n",
      "arg type adjusted  x_I23, type I23\n"
     ]
    },
    {
     "data": {
      "text/plain": [
       "(f_<I21,I21>, x_I23, I23, True)"
      ]
     },
     "execution_count": 187,
     "metadata": {},
     "output_type": "execute_result"
    }
   ],
   "source": [
    "meta.core.ApplicationExpr.fa_type_inference(te(\"f_<X,X>\"), te(\"x_X\"), dict())"
   ]
  },
  {
   "cell_type": "code",
   "execution_count": 162,
   "id": "1566ff47-35c5-4167-887e-06e085715a18",
   "metadata": {},
   "outputs": [
    {
     "data": {
      "text/latex": [
       "${f}_{\\left\\langle{}I_{314},I_{314}\\right\\rangle{}}({x}_{I_{316}})$"
      ],
      "text/plain": [
       "f_<I314,I314>(x_I316)"
      ]
     },
     "execution_count": 162,
     "metadata": {},
     "output_type": "execute_result"
    }
   ],
   "source": [
    "meta.core.ApplicationExpr(te(\"f_<X,X>\"), te(\"x_X\"))"
   ]
  },
  {
   "cell_type": "code",
   "execution_count": 191,
   "id": "9af06d33-fe79-4c3b-8580-30e0f52db72b",
   "metadata": {},
   "outputs": [
    {
     "name": "stdout",
     "output_type": "stream",
     "text": [
      "<table><tr><td>Principal type:&nbsp;&nbsp; </td><td>$\\left\\langle{}Y,Y\\right\\rangle{}$</td></tr><tr><td>Inputs: </td><td>$\\left\\langle{}Y,Y\\right\\rangle{}$ and $\\left\\langle{}X,X\\right\\rangle{}$</td></tr><tr><td>Mapping: </td><td>{$X$: $Y$}</td></tr></table>\n"
     ]
    },
    {
     "data": {
      "text/html": [
       "<table><tr><td>Principal type:&nbsp;&nbsp; </td><td>$\\left\\langle{}Y,Y\\right\\rangle{}$</td></tr><tr><td>Inputs: </td><td>$\\left\\langle{}Y,Y\\right\\rangle{}$ and $\\left\\langle{}X,X\\right\\rangle{}$</td></tr><tr><td>Mapping: </td><td>{$X$: $Y$}</td></tr></table>"
      ],
      "text/plain": [
       "<lamb.types.UnificationResult at 0x120a76a50>"
      ]
     },
     "execution_count": 191,
     "metadata": {},
     "output_type": "execute_result"
    }
   ],
   "source": [
    "meta.get_type_system().unify_details(meta.tp(\"<Y,Y>\"), meta.tp(\"<X,X>\"))"
   ]
  },
  {
   "cell_type": "code",
   "execution_count": 192,
   "id": "525a4b99-e4fa-429e-9668-75b7115dc5ed",
   "metadata": {},
   "outputs": [
    {
     "name": "stdout",
     "output_type": "stream",
     "text": [
      "    unify_target  <X,X>  new_type  <Y,Y>\n",
      "{Y: X}\n"
     ]
    },
    {
     "data": {
      "text/latex": [
       "${f}_{\\left\\langle{}X,X\\right\\rangle{}}$"
      ],
      "text/plain": [
       "f_<X,X>"
      ]
     },
     "execution_count": 192,
     "metadata": {},
     "output_type": "execute_result"
    }
   ],
   "source": [
    "te(\"f_<X,X>\").try_adjust_type(meta.tp(\"<Y,Y>\"))"
   ]
  },
  {
   "cell_type": "code",
   "execution_count": 193,
   "id": "f3378f93-c4e7-4c2b-a548-6851d7c5d700",
   "metadata": {},
   "outputs": [
    {
     "name": "stdout",
     "output_type": "stream",
     "text": [
      "    unify_target  Y  new_type  Y\n",
      "{X: Y}\n"
     ]
    },
    {
     "data": {
      "text/latex": [
       "${f}_{Y}$"
      ],
      "text/plain": [
       "f_Y"
      ]
     },
     "execution_count": 193,
     "metadata": {},
     "output_type": "execute_result"
    }
   ],
   "source": [
    "te(\"f_X\").try_adjust_type(meta.tp(\"Y\"))"
   ]
  },
  {
   "cell_type": "code",
   "execution_count": 195,
   "id": "b2e2b0bc-ae0b-4f09-a8e1-3ec617057a25",
   "metadata": {},
   "outputs": [
    {
     "name": "stdout",
     "output_type": "stream",
     "text": [
      "<table><tr><td>Principal type:&nbsp;&nbsp; </td><td>$\\left\\langle{}Y,Y\\right\\rangle{}$</td></tr><tr><td>Inputs: </td><td>$\\left\\langle{}Y,Y\\right\\rangle{}$ and $\\left\\langle{}X,X\\right\\rangle{}$</td></tr><tr><td>Mapping: </td><td>{$X$: $Y$}</td></tr></table>\n"
     ]
    },
    {
     "data": {
      "text/html": [
       "<table><tr><td>Principal type:&nbsp;&nbsp; </td><td>$\\left\\langle{}Y,Y\\right\\rangle{}$</td></tr><tr><td>Inputs: </td><td>$\\left\\langle{}Y,Y\\right\\rangle{}$ and $\\left\\langle{}X,X\\right\\rangle{}$</td></tr><tr><td>Mapping: </td><td>{$X$: $Y$}</td></tr></table>"
      ],
      "text/plain": [
       "<lamb.types.UnificationResult at 0x120ee7050>"
      ]
     },
     "execution_count": 195,
     "metadata": {},
     "output_type": "execute_result"
    }
   ],
   "source": [
    "meta.get_type_system().unify_details(meta.tp(\"<Y,Y>\"), meta.tp(\"<X,X>\"))"
   ]
  },
  {
   "cell_type": "code",
   "execution_count": 238,
   "id": "062d74b5-635f-45e6-9aef-2125bd7f8e3e",
   "metadata": {},
   "outputs": [
    {
     "data": {
      "text/plain": [
       "(X, {Y: X})"
      ]
     },
     "execution_count": 238,
     "metadata": {},
     "output_type": "execute_result"
    }
   ],
   "source": [
    "meta.get_type_system().unify_r(meta.tp(\"Y\"), meta.tp(\"X\"), dict())"
   ]
  },
  {
   "cell_type": "code",
   "execution_count": 239,
   "id": "5546f138-c78b-4c9c-9dff-78f5edce4bd8",
   "metadata": {},
   "outputs": [
    {
     "data": {
      "text/plain": [
       "(<X,X>, {Y: X})"
      ]
     },
     "execution_count": 239,
     "metadata": {},
     "output_type": "execute_result"
    }
   ],
   "source": [
    "meta.get_type_system().unify_r(meta.tp(\"<Y,Y>\"), meta.tp(\"<X,X>\"), dict())"
   ]
  },
  {
   "cell_type": "code",
   "execution_count": 240,
   "id": "c3cad04e-8907-40e8-9907-fd492d83dcdd",
   "metadata": {},
   "outputs": [
    {
     "data": {
      "text/plain": [
       "(<Y,Y>, {X: Y})"
      ]
     },
     "execution_count": 240,
     "metadata": {},
     "output_type": "execute_result"
    }
   ],
   "source": [
    "meta.tp(\"<X,X>\").unify(meta.tp(\"<Y,Y>\"), meta.get_type_system().unify_r, dict())"
   ]
  },
  {
   "cell_type": "code",
   "execution_count": 241,
   "id": "4f04b34b-d8c9-4e9e-b62f-46beb86ac272",
   "metadata": {},
   "outputs": [
    {
     "data": {
      "text/plain": [
       "(X, {Y: X})"
      ]
     },
     "execution_count": 241,
     "metadata": {},
     "output_type": "execute_result"
    }
   ],
   "source": [
    "meta.tp(\"X\").unify(meta.tp(\"Y\"), meta.get_type_system().unify_r, dict())"
   ]
  },
  {
   "cell_type": "code",
   "execution_count": 242,
   "id": "0fb2d811-b261-4946-9705-e0b374fb889d",
   "metadata": {},
   "outputs": [
    {
     "data": {
      "text/plain": [
       "(<Y,<Z,Z>>, {X: <Z,Z>})"
      ]
     },
     "execution_count": 242,
     "metadata": {},
     "output_type": "execute_result"
    }
   ],
   "source": [
    "meta.get_type_system().unify_r(meta.tp(\"<Y,<Z,Z>>\"), meta.tp(\"<Y,X>\"), dict())"
   ]
  },
  {
   "cell_type": "code",
   "execution_count": 250,
   "id": "30256de1-9e1e-40e6-a09b-e852015bc704",
   "metadata": {},
   "outputs": [
    {
     "data": {
      "text/latex": [
       "$\\left\\langle{}X,\\left\\langle{}X,X\\right\\rangle{}\\right\\rangle{}$"
      ],
      "text/plain": [
       "<X,<X,X>>"
      ]
     },
     "execution_count": 250,
     "metadata": {},
     "output_type": "execute_result"
    }
   ],
   "source": [
    "meta.get_type_system().unify(meta.tp(\"<Y,<Y,Y>>\"), meta.tp(\"<X,<X,X>>\"))# == meta.tp(\"X\")"
   ]
  },
  {
   "cell_type": "code",
   "execution_count": 40,
   "id": "3c76ef06-8c8d-487a-8d84-06857242f288",
   "metadata": {},
   "outputs": [],
   "source": [
    "reload_lamb()"
   ]
  },
  {
   "cell_type": "code",
   "execution_count": 41,
   "id": "11a287ad-5de7-4d07-af2b-996a7045b260",
   "metadata": {},
   "outputs": [
    {
     "data": {
      "text/latex": [
       "$\\lambda{} g_{\\left\\langle{}Y,Z\\right\\rangle{}} \\: . \\: \\lambda{} f_{\\left\\langle{}X,Y\\right\\rangle{}} \\: . \\: \\lambda{} x_{X} \\: . \\: {g}({f}({x}))$"
      ],
      "text/plain": [
       "(λ g_<Y,Z>: (λ f_<X,Y>: (λ x_X: g_<Y,Z>(f_<X,Y>(x_X)))))"
      ]
     },
     "execution_count": 41,
     "metadata": {},
     "output_type": "execute_result"
    }
   ],
   "source": [
    "geach = %te L g_<Y,Z> : L f_<X,Y> : L x_X : g(f(x))\n",
    "geach"
   ]
  },
  {
   "cell_type": "code",
   "execution_count": 42,
   "id": "22bbf9d4-b714-42aa-8cf4-b9a91cfe2973",
   "metadata": {},
   "outputs": [
    {
     "name": "stdout",
     "output_type": "stream",
     "text": [
      "INFO (core): Coerced guessed type for 'Cat_t' into <e,t>, to match argument 'x_e'\n"
     ]
    },
    {
     "data": {
      "text/latex": [
       "${[\\lambda{} g_{\\left\\langle{}e,t\\right\\rangle{}} \\: . \\: \\lambda{} f_{\\left\\langle{}X,e\\right\\rangle{}} \\: . \\: \\lambda{} x_{X} \\: . \\: {g}({f}({x}))]}(\\lambda{} x_{e} \\: . \\: {Cat}({x}))$"
      ],
      "text/plain": [
       "((λ g_<e,t>: (λ f_<X,e>: (λ x_X: g_<e,t>(f_<X,e>(x_X))))))((λ x_e: Cat_<e,t>(x_e)))"
      ]
     },
     "execution_count": 42,
     "metadata": {},
     "output_type": "execute_result"
    }
   ],
   "source": [
    "cat = %te L x_e : Cat(x)\n",
    "geach(cat)"
   ]
  },
  {
   "cell_type": "code",
   "execution_count": 43,
   "id": "ebe8598f-a13d-4eda-8b5b-561567fdec65",
   "metadata": {},
   "outputs": [
    {
     "data": {
      "text/plain": [
       "(<<e,t>,<<X,e>,<X,t>>>, <e,t>, <<X,e>,<X,t>>)"
      ]
     },
     "execution_count": 43,
     "metadata": {},
     "output_type": "execute_result"
    }
   ],
   "source": [
    "ts = meta.get_type_system()\n",
    "ts.unify_fa(geach.type, cat.type)"
   ]
  },
  {
   "cell_type": "code",
   "execution_count": 44,
   "id": "c886339f-aa80-4a74-9dd6-dea900676d74",
   "metadata": {},
   "outputs": [
    {
     "data": {
      "text/plain": [
       "((λ g_<e,t>: (λ f_<X,e>: (λ x_X: g_<e,t>(f_<X,e>(x_X))))),\n",
       " (λ x_e: Cat_<e,t>(x_e)),\n",
       " <<I36,e>,<I36,t>>,\n",
       " True)"
      ]
     },
     "execution_count": 44,
     "metadata": {},
     "output_type": "execute_result"
    }
   ],
   "source": [
    "lamb.meta.ApplicationExpr.fa_type_inference(geach, cat, dict())"
   ]
  },
  {
   "cell_type": "code",
   "execution_count": 45,
   "id": "fd6b71c3-ae9d-4683-8306-0a83753ace24",
   "metadata": {},
   "outputs": [
    {
     "data": {
      "text/latex": [
       "$\\lambda{} g_{\\left\\langle{}I_{41},I_{42}\\right\\rangle{}} \\: . \\: \\lambda{} f_{\\left\\langle{}I_{43},I_{41}\\right\\rangle{}} \\: . \\: \\lambda{} x_{I_{43}} \\: . \\: {g}({f}({x}))$"
      ],
      "text/plain": [
       "(λ g_<I41,I42>: (λ f_<I43,I41>: (λ x_I43: g_<I41,I42>(f_<I43,I41>(x_I43)))))"
      ]
     },
     "execution_count": 45,
     "metadata": {},
     "output_type": "execute_result"
    }
   ],
   "source": [
    "geach2 = geach.freshen_type_vars()\n",
    "geach2"
   ]
  },
  {
   "cell_type": "code",
   "execution_count": 38,
   "id": "2428fd2a-44e4-4e0e-8bcb-3d5b4a2fa8ce",
   "metadata": {},
   "outputs": [
    {
     "data": {
      "text/plain": [
       "{I45, I46, I47}"
      ]
     },
     "execution_count": 38,
     "metadata": {},
     "output_type": "execute_result"
    }
   ],
   "source": [
    "geach2.get_type_env().type_var_set"
   ]
  },
  {
   "cell_type": "code",
   "execution_count": 53,
   "id": "3f36b51e-941f-42c4-a3ca-5743d356ac9b",
   "metadata": {},
   "outputs": [
    {
     "data": {
      "text/plain": [
       "True"
      ]
     },
     "execution_count": 53,
     "metadata": {},
     "output_type": "execute_result"
    }
   ],
   "source": [
    "te(\"f_?\").functional()"
   ]
  },
  {
   "cell_type": "code",
   "execution_count": null,
   "id": "1fe243ea-62b9-4b93-99a3-f465f6c8d00e",
   "metadata": {},
   "outputs": [],
   "source": []
  }
 ],
 "metadata": {
  "kernelspec": {
   "display_name": "Lambda Notebook-dev (Python 3)",
   "language": "python",
   "name": "lambda-notebook-dev"
  },
  "language_info": {
   "codemirror_mode": {
    "name": "ipython",
    "version": 3
   },
   "file_extension": ".py",
   "mimetype": "text/x-python",
   "name": "python",
   "nbconvert_exporter": "python",
   "pygments_lexer": "ipython3",
   "version": "3.11.3"
  }
 },
 "nbformat": 4,
 "nbformat_minor": 5
}
