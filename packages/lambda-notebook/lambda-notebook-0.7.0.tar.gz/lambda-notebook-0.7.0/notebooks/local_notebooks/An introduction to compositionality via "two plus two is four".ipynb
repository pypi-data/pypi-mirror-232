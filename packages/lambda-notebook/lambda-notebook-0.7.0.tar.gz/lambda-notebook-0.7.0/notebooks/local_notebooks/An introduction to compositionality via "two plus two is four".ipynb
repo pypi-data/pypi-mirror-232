{
 "cells": [
  {
   "cell_type": "markdown",
   "metadata": {},
   "source": [
    "# Introducing compositionality and the lambda calculus via simple mathematical language\n",
    "\n",
    "### 10/4/2016, Kyle Rawlins, JHU, kgr@jhu.edu\n",
    "\n",
    "**Background**: this is based on an example I use in teaching Semantics 1 to introduce the lambda calculus and compositionality.\n",
    "\n",
    "In this notebook I sketch a basic account of the meanings of the following two sentences:\n",
    "\n",
    "(1) Two plus two is four.\n",
    "(2) Two plus two is five.\n",
    "\n",
    "The idea is to use these two simple examples as a vehicle for understanding how compositionality is usually implemented for natural language semantics, using functions in the lambda calculus.\n",
    "\n",
    "**Compositionality** is the idea that the meaning of a whole is constructed from the meanings of the parts.  What are the parts?\n",
    "\n",
    "## Background: syntax\n",
    "\n",
    "I will take it for granted that (1-2) have syntactic structure.  In particular I will assume that their structure is as follows:\n",
    "\n",
    "(1') [[Two [plus [two]]] [is [four]]]\n",
    "\n",
    "That is, the verb and \"four\" are a constituent, the subject is a constituent, and \"plus\" is grouped together with the right-hand \"two\".  All branching is binary.  These assumptions aren't trivial, so please consult your favorite syntax source to understand or disagree with them.\n",
    "\n",
    "If you have the `nltk` package installed (http://www.nltk.org/), running the following cell will provide a graphical version of this structure.  (If you don't have NLTK installed, rerunning it will lead to an error and erase the tree.)"
   ]
  },
  {
   "cell_type": "code",
   "execution_count": 9,
   "metadata": {
    "collapsed": false
   },
   "outputs": [
    {
     "data": {
      "image/png": "[encoded data removed]",
      "text/plain": [
       "Tree('S', [Tree('Conj', [Tree('NP', ['two']), Tree(\"Conj'\", [Tree('Conj', ['plus']), Tree('NP', ['two'])])]), Tree('VP', [Tree('V', ['is']), Tree('NP', ['two'])])])"
      ]
     },
     "execution_count": 9,
     "metadata": {},
     "output_type": "execute_result"
    }
   ],
   "source": [
    "import nltk\n",
    "nltk.Tree.fromstring(\"(S (Conj (NP two) (Conj' (Conj plus) (NP two))) (VP (V is) (NP two)))\")"
   ]
  },
  {
   "cell_type": "markdown",
   "metadata": {},
   "source": [
    "## Basics of compositionality\n",
    "\n",
    "The first question to ask is what the individual words mean.  I have chosen the numeric example because here we have some easy starting points for answers.  The simplest answer is that the word \"two\" means (in some sense) the number 2.  To make sense of this, you do have to keep in mind that \"2\" is _not the same thing as the word you use to pronounce it_.\n",
    "\n",
    "Some terminology: I will refer to the specific kind of meaning I am talking about as a _denotation_, and notate it as follows: [[two]] is the denotation of the word \"two\".\n",
    "\n",
    "The following provides this in implemented form -- the subscripted \"n\"s indicate that we are dealing with numbers."
   ]
  },
  {
   "cell_type": "code",
   "execution_count": 13,
   "metadata": {
    "collapsed": false
   },
   "outputs": [
    {
     "data": {
      "text/html": [
       "$[\\![\\mathbf{\\text{two}}]\\!]^{}_{n} \\:=\\: {2}_{n}$<br />\n",
       "$[\\![\\mathbf{\\text{four}}]\\!]^{}_{n} \\:=\\: {4}_{n}$<br />\n",
       "$[\\![\\mathbf{\\text{five}}]\\!]^{}_{n} \\:=\\: {5}_{n}$"
      ],
      "text/latex": [
       "$[\\![\\mathbf{\\text{two}}]\\!]^{}_{n} \\:=\\: {2}_{n}$<br />\n",
       "$[\\![\\mathbf{\\text{four}}]\\!]^{}_{n} \\:=\\: {4}_{n}$<br />\n",
       "$[\\![\\mathbf{\\text{five}}]\\!]^{}_{n} \\:=\\: {5}_{n}$"
      ],
      "text/plain": [
       "$[\\![\\mathbf{\\text{two}}]\\!]^{}_{n} \\:=\\: {2}_{n}$<br />\n",
       "$[\\![\\mathbf{\\text{four}}]\\!]^{}_{n} \\:=\\: {4}_{n}$<br />\n",
       "$[\\![\\mathbf{\\text{five}}]\\!]^{}_{n} \\:=\\: {5}_{n}$"
      ]
     },
     "execution_count": 13,
     "metadata": {},
     "output_type": "execute_result"
    }
   ],
   "source": [
    "%%lamb\n",
    "||two|| = 2\n",
    "||four|| = 4\n",
    "||five|| = 5"
   ]
  },
  {
   "cell_type": "markdown",
   "metadata": {},
   "source": [
    "While there is an easy answer for the numerals, the answer for the other two items (\"plus\", \"is\") is not so straightforward.  A first pass idea, however, is that [[plus]] is something to do with \"+\", and [[is]] is something to do with \"=\".  What, exactly?\n",
    "\n",
    "First, observe that we can't simply say that [[is]] is \"=\".  Along the way, we want to know what the denotation of the VP \"is two\" is.  Setting aside some details, this hypothesis would lead us to expect that [[is two]] is something like \"=2\".  But this is not a well-formed expression of arithmetic! Standard arithmetic \"=\" requires two operators.  So we would need to either change \"=\" to work some other way, or change the assumptions about denotations.  Answering the question of what [[is]] is is therefore not independent of questions of meanings of larger syntactic constituents.\n",
    "\n",
    "Accordingly, let us consider what the whole sentence should denote?  A first idea is that it should denote something like True.  That is, it is true, and is perhaps a necessary truth, so we want this computation to lead to calculating that.  A slightly more elaborate idea is that we really want something like: [[two plus two is four]] to be true iff \"2+2=4\" is a true expression of arithmetic.  This is what we will do, and in fact the analysis in this notebook ends up translating the English sentence into the mathematical expression \"2+2=4\".  This is the target of analysis, but the intermediate steps are still murky.\n",
    "\n",
    "At this point, it is useful to consider an idea of Frege's.\n",
    "\n",
    "> “Statements in general, just like equations or inequalities or expressions in Analysis, can be imagined to be split up into two parts; one complete in itself, and the other in need of supplementation, or “unsaturated.” ... Here too I give the name “function” to what this “unsaturated” part stands for.” \n",
    "\n",
    "Frege's conjecture is a direct answer to the question of what intermediate nodes should denote: they should denote functions.  It also gives interesting labels to hang on certain kinds of denotations.  According to this terminology, [[two]] (etc) are clearly _unsaturated_ -- they are internally complete.  This suggests that the other lexical entries should be functions.\n",
    "\n",
    "**Frege's conjecture restated**: Semantic composition involves the combination of functions and arguments."
   ]
  },
  {
   "cell_type": "markdown",
   "metadata": {},
   "source": [
    "If [[is two]] is a function, what is the function?  Intuitively, it should be something like this: a function that returns true just in case whatever you hand it is equal to 2.  Luckily, such functions are easy to describe.  Before going to the actual natural language semantics, the following box presents two versions of this function stated in python.  You are probably more familiar with the `def` version; the lambda notation is a way of stating anonymous functions quickly without necessarily naming them."
   ]
  },
  {
   "cell_type": "code",
   "execution_count": 20,
   "metadata": {
    "collapsed": false
   },
   "outputs": [],
   "source": [
    "def istwo(x):\n",
    "    return x==2\n",
    "\n",
    "istwov2 = lambda x: x==2"
   ]
  },
  {
   "cell_type": "code",
   "execution_count": 21,
   "metadata": {
    "collapsed": false
   },
   "outputs": [
    {
     "data": {
      "text/plain": [
       "True"
      ]
     },
     "execution_count": 21,
     "metadata": {},
     "output_type": "execute_result"
    }
   ],
   "source": [
    "istwo(2)"
   ]
  },
  {
   "cell_type": "code",
   "execution_count": 22,
   "metadata": {
    "collapsed": false
   },
   "outputs": [
    {
     "data": {
      "text/plain": [
       "False"
      ]
     },
     "execution_count": 22,
     "metadata": {},
     "output_type": "execute_result"
    }
   ],
   "source": [
    "istwo(3)"
   ]
  },
  {
   "cell_type": "code",
   "execution_count": 23,
   "metadata": {
    "collapsed": false
   },
   "outputs": [
    {
     "data": {
      "text/plain": [
       "True"
      ]
     },
     "execution_count": 23,
     "metadata": {},
     "output_type": "execute_result"
    }
   ],
   "source": [
    "istwov2(2)"
   ]
  },
  {
   "cell_type": "markdown",
   "metadata": {},
   "source": [
    "Here is some code that uses a function like this without ever naming it:"
   ]
  },
  {
   "cell_type": "code",
   "execution_count": 24,
   "metadata": {
    "collapsed": false
   },
   "outputs": [
    {
     "data": {
      "text/plain": [
       "True"
      ]
     },
     "execution_count": 24,
     "metadata": {},
     "output_type": "execute_result"
    }
   ],
   "source": [
    "(lambda x: x==2)(2)"
   ]
  },
  {
   "cell_type": "markdown",
   "metadata": {},
   "source": [
    "Natural language semantics uses a notation much like this last python example.  In particular, functions are standardly described using a typed lambda calculus.  Here is this function in a more typcal linguistic format.  Notice the name is annotated with a complex type: `<n,t>` means that `istwo` is a function from numbers (`n`) to truth-values (`t`)."
   ]
  },
  {
   "cell_type": "code",
   "execution_count": 34,
   "metadata": {
    "collapsed": false
   },
   "outputs": [
    {
     "data": {
      "text/html": [
       "${istwo}_{\\langle{}n,t\\rangle{}}\\:=\\:\\lambda{} x_{n} \\: . \\: ({x}_{n} = {2}_{n})$"
      ],
      "text/latex": [
       "${istwo}_{\\langle{}n,t\\rangle{}}\\:=\\:\\lambda{} x_{n} \\: . \\: ({x}_{n} = {2}_{n})$"
      ],
      "text/plain": [
       "${istwo}_{\\langle{}n,t\\rangle{}}\\:=\\:\\lambda{} x_{n} \\: . \\: ({x}_{n} = {2}_{n})$"
      ]
     },
     "execution_count": 34,
     "metadata": {},
     "output_type": "execute_result"
    }
   ],
   "source": [
    "%%lamb\n",
    "istwo = L x_n : x <=> 2  # you need to use <=> rather than == for equality here"
   ]
  },
  {
   "cell_type": "markdown",
   "metadata": {},
   "source": [
    "Applying an argument to a function of this form can be thought of mechanically as follows:\n",
    " 1. The outer $\\lambda$ term (e.g. $\\lambda x_n$) determines a variable to replace.\n",
    " 2. Find instances of that variable in the boday of the lambda expression.\n",
    " 3. Replace all instances of the variable with the argument.\n",
    " \n",
    "(This is simplified and there are some complicated cases that I am ignoring involving variable renaming.)\n",
    "\n",
    "In the lambda notebook metalanguage, you can also apply arguments roughly like you would in python.  Conveniently numbers are automatically handled, so the following work.  However, more information is tracked about derivations than is usually necessary for programming languages, so you can even see the initial step where the function-argument expression is constructed but not reduced."
   ]
  },
  {
   "cell_type": "code",
   "execution_count": 38,
   "metadata": {
    "collapsed": false
   },
   "outputs": [
    {
     "data": {
      "text/latex": [
       "$[\\lambda{} x_{n} \\: . \\: ({x}_{n} = {2}_{n})]({2}_{n})$"
      ],
      "text/plain": [
       "((λ x_n: (x_n <=> 2_n)))(2_n)"
      ]
     },
     "execution_count": 38,
     "metadata": {},
     "output_type": "execute_result"
    }
   ],
   "source": [
    "istwo(2)"
   ]
  },
  {
   "cell_type": "code",
   "execution_count": 39,
   "metadata": {
    "collapsed": false
   },
   "outputs": [
    {
     "data": {
      "text/latex": [
       "$({2}_{n} = {2}_{n})$"
      ],
      "text/plain": [
       "(2_n <=> 2_n)"
      ]
     },
     "execution_count": 39,
     "metadata": {},
     "output_type": "execute_result"
    }
   ],
   "source": [
    "istwo(2).reduce_all()"
   ]
  },
  {
   "cell_type": "code",
   "execution_count": 40,
   "metadata": {
    "collapsed": false
   },
   "outputs": [
    {
     "data": {
      "text/html": [
       "<style>.rendered_html table, .rendered_html tr, .rendered_html td, .rendered_html th { border: 0px; }</style><table><tr><td style=\"border-left:1px solid #848482\"><div><table style=\"padding-bottom:5px\"><tr style=\"border-bottom:1px solid #848482;padding-bottom:5px\"><td style=\"padding-right:5px;vertical-align:bottom\"> 1. </td><td style=\"vertical-align:bottom;padding-right:10px\">$[\\lambda{} x_{n} \\: . \\: ({x}_{n} = {2}_{n})]({2}_{n})$</td></tr><tr style=\"padding-bottom:5px\"><td style=\"padding-right:5px;vertical-align:bottom\"> 2. </td><td style=\"vertical-align:bottom;padding-right:10px\">$({2}_{n} = {2}_{n})$</td><td style=\"border-left:1px solid #848482\"><span style=\"color:blue\">Beta reduction</span></td></tr></table></div></td></tr></table>"
      ],
      "text/plain": [
       "<lamb.meta.Derivation at 0x108f23630>"
      ]
     },
     "execution_count": 40,
     "metadata": {},
     "output_type": "execute_result"
    }
   ],
   "source": [
    "istwo(2).reduce_all().derivation"
   ]
  },
  {
   "cell_type": "markdown",
   "metadata": {},
   "source": [
    "_Beta reduction_ is a name for the substitition of a variable with an argument, $x$ with $2$ in this case."
   ]
  },
  {
   "cell_type": "markdown",
   "metadata": {},
   "source": [
    "## More complex functions\n",
    "\n",
    "Using functions for [[is two]] may lead to some ideas about what words like [[is]] should themselves be.  If you are familiar with python, you may come up with something like this:\n",
    "\n",
    "    def is(x,y):\n",
    "        return x==y\n",
    "        \n",
    "This will not quite do for our purposes, in the same way using numeric $=$ itself won't work.  We need to apply a technique referred to as _currying_ (in CS) or _schoenfinkelization_ (in linguistics).  Any $n$-ary function can be converted to a sort of sequence of one-argument functions by this procedure.  Here is a description of the sort of function that results from currying `is`:\n",
    "\n",
    "**Informal statement of the denotation of \"is\"**: [[is]] is the function that given some number $x$, returns a new function that given some number $y$ returns true iff $x = y$.\n",
    "\n",
    "Python itself already has multiple ways to write curried functions.  Here are some examples that illustrate this; if you aren't familiar with python please feel free to skip them."
   ]
  },
  {
   "cell_type": "code",
   "execution_count": 45,
   "metadata": {
    "collapsed": false
   },
   "outputs": [
    {
     "data": {
      "text/plain": [
       "<function __main__.isfun.<locals>.isx>"
      ]
     },
     "execution_count": 45,
     "metadata": {},
     "output_type": "execute_result"
    }
   ],
   "source": [
    "def isfun(x): # I called it this because `is` is a reserved word in python.\n",
    "    def isx(y):\n",
    "        return x==y\n",
    "    return isx\n",
    "    \n",
    "isfun(2)"
   ]
  },
  {
   "cell_type": "code",
   "execution_count": 52,
   "metadata": {
    "collapsed": false
   },
   "outputs": [
    {
     "data": {
      "text/plain": [
       "True"
      ]
     },
     "execution_count": 52,
     "metadata": {},
     "output_type": "execute_result"
    }
   ],
   "source": [
    "(isfun(2))(2) # note that isfun(2,2) won't work, because the function takes only one argument."
   ]
  },
  {
   "cell_type": "code",
   "execution_count": 53,
   "metadata": {
    "collapsed": false
   },
   "outputs": [
    {
     "data": {
      "text/plain": [
       "<function __main__.isfun.<locals>.<lambda>>"
      ]
     },
     "execution_count": 53,
     "metadata": {},
     "output_type": "execute_result"
    }
   ],
   "source": [
    "def isfun(x):\n",
    "    return lambda y : x==y\n",
    "\n",
    "isfun(2)"
   ]
  },
  {
   "cell_type": "code",
   "execution_count": 57,
   "metadata": {
    "collapsed": false
   },
   "outputs": [
    {
     "data": {
      "text/plain": [
       "True"
      ]
     },
     "execution_count": 57,
     "metadata": {},
     "output_type": "execute_result"
    }
   ],
   "source": [
    "isfun(2)(2)  # this is equivalent to (isfun(2))(2), the first parenthesis are only helpful for clarity."
   ]
  },
  {
   "cell_type": "code",
   "execution_count": 58,
   "metadata": {
    "collapsed": false
   },
   "outputs": [
    {
     "data": {
      "text/plain": [
       "False"
      ]
     },
     "execution_count": 58,
     "metadata": {},
     "output_type": "execute_result"
    }
   ],
   "source": [
    "isfun(2)(3)"
   ]
  },
  {
   "cell_type": "markdown",
   "metadata": {},
   "source": [
    "A similar treatment can be given to \"plus\".  [[plus]] is the function that given some number, returns a function that given some other number, returns the sum of the two numbers."
   ]
  },
  {
   "cell_type": "code",
   "execution_count": 62,
   "metadata": {
    "collapsed": false
   },
   "outputs": [
    {
     "name": "stderr",
     "output_type": "stream",
     "text": [
      "INFO (parsing): Exporting item ||is V|| to python variable `is_V`.\n"
     ]
    },
    {
     "data": {
      "text/html": [
       "$[\\![\\mathbf{\\text{is_V}}]\\!]^{}_{\\langle{}n,\\langle{}n,t\\rangle{}\\rangle{}} \\:=\\: \\lambda{} x_{n} \\: . \\: \\lambda{} y_{n} \\: . \\: ({x}_{n} = {y}_{n})$<br />\n",
       "$[\\![\\mathbf{\\text{plus}}]\\!]^{}_{\\langle{}n,\\langle{}n,n\\rangle{}\\rangle{}} \\:=\\: \\lambda{} x_{n} \\: . \\: \\lambda{} y_{n} \\: . \\: ({x}_{n} + {y}_{n})$"
      ],
      "text/latex": [
       "$[\\![\\mathbf{\\text{is_V}}]\\!]^{}_{\\langle{}n,\\langle{}n,t\\rangle{}\\rangle{}} \\:=\\: \\lambda{} x_{n} \\: . \\: \\lambda{} y_{n} \\: . \\: ({x}_{n} = {y}_{n})$<br />\n",
       "$[\\![\\mathbf{\\text{plus}}]\\!]^{}_{\\langle{}n,\\langle{}n,n\\rangle{}\\rangle{}} \\:=\\: \\lambda{} x_{n} \\: . \\: \\lambda{} y_{n} \\: . \\: ({x}_{n} + {y}_{n})$"
      ],
      "text/plain": [
       "$[\\![\\mathbf{\\text{is_V}}]\\!]^{}_{\\langle{}n,\\langle{}n,t\\rangle{}\\rangle{}} \\:=\\: \\lambda{} x_{n} \\: . \\: \\lambda{} y_{n} \\: . \\: ({x}_{n} = {y}_{n})$<br />\n",
       "$[\\![\\mathbf{\\text{plus}}]\\!]^{}_{\\langle{}n,\\langle{}n,n\\rangle{}\\rangle{}} \\:=\\: \\lambda{} x_{n} \\: . \\: \\lambda{} y_{n} \\: . \\: ({x}_{n} + {y}_{n})$"
      ]
     },
     "execution_count": 62,
     "metadata": {},
     "output_type": "execute_result"
    }
   ],
   "source": [
    "%%lamb\n",
    "||is V|| = L x_n : L y_n : x <=> y # I've named it like this to avoid the reserved `is` in python.\n",
    "||plus|| = L x_n : L y_n : x + y"
   ]
  },
  {
   "cell_type": "markdown",
   "metadata": {},
   "source": [
    "To sum this all up, it is now possible to do the actual compositional steps two build the meaning of the starting sentence.  The most straightforward way to write this in the lambda notebook is to use the `*` operator to combine lexical items defined using the `||` notation as above.  For example, writing `is_V * two` computes the function that I defined directly above, the `addtwo` function: "
   ]
  },
  {
   "cell_type": "code",
   "execution_count": 66,
   "metadata": {
    "collapsed": false
   },
   "outputs": [
    {
     "data": {
      "text/html": [
       "1 composition path.  Result:\n",
       "<br />&nbsp;&nbsp;&nbsp;&nbsp;[0]: $[\\![\\mathbf{\\text{[is_V two]}}]\\!]^{}_{\\langle{}n,t\\rangle{}} \\:=\\: $$\\lambda{} y_{n} \\: . \\: ({2}_{n} = {y}_{n})$"
      ],
      "text/plain": [
       "CompositionResult(results=[⟦[is_V two]⟧ = (λ y_n: (2_n <=> y_n))], failures=[⟦[two is_V]⟧ = Type mismatch: '⟦two⟧ = 2_n'/n and '⟦is_V⟧ = (λ x_n: (λ y_n: (x_n <=> y_n)))'/<n,<n,t>> conflict (mode: Function Application), ⟦[is_V two]⟧ = Type mismatch: '⟦is_V⟧ = (λ x_n: (λ y_n: (x_n <=> y_n)))'/<n,<n,t>> and '⟦two⟧ = 2_n'/n conflict (mode: Predicate Modification), ⟦[is_V two]⟧ = Type mismatch: '⟦is_V⟧ = (λ x_n: (λ y_n: (x_n <=> y_n)))'/<n,<n,t>> and '⟦two⟧ = 2_n'/n conflict (mode: Predicate Abstraction), ⟦[two is_V]⟧ = Type mismatch: '⟦two⟧ = 2_n'/n and '⟦is_V⟧ = (λ x_n: (λ y_n: (x_n <=> y_n)))'/<n,<n,t>> conflict (mode: Predicate Abstraction)])"
      ]
     },
     "execution_count": 66,
     "metadata": {},
     "output_type": "execute_result"
    }
   ],
   "source": [
    "is_V * two"
   ]
  },
  {
   "cell_type": "code",
   "execution_count": 67,
   "metadata": {
    "collapsed": false
   },
   "outputs": [
    {
     "data": {
      "text/html": [
       "1 composition path.  Result:\n",
       "<br />&nbsp;&nbsp;&nbsp;&nbsp;[0]: $[\\![\\mathbf{\\text{[plus two]}}]\\!]^{}_{\\langle{}n,n\\rangle{}} \\:=\\: $$\\lambda{} y_{n} \\: . \\: ({2}_{n} + {y}_{n})$"
      ],
      "text/plain": [
       "CompositionResult(results=[⟦[plus two]⟧ = (λ y_n: (2_n + y_n))], failures=[⟦[two plus]⟧ = Type mismatch: '⟦two⟧ = 2_n'/n and '⟦plus⟧ = (λ x_n: (λ y_n: (x_n + y_n)))'/<n,<n,n>> conflict (mode: Function Application), ⟦[plus two]⟧ = Type mismatch: '⟦plus⟧ = (λ x_n: (λ y_n: (x_n + y_n)))'/<n,<n,n>> and '⟦two⟧ = 2_n'/n conflict (mode: Predicate Modification), ⟦[plus two]⟧ = Type mismatch: '⟦plus⟧ = (λ x_n: (λ y_n: (x_n + y_n)))'/<n,<n,n>> and '⟦two⟧ = 2_n'/n conflict (mode: Predicate Abstraction), ⟦[two plus]⟧ = Type mismatch: '⟦two⟧ = 2_n'/n and '⟦plus⟧ = (λ x_n: (λ y_n: (x_n + y_n)))'/<n,<n,n>> conflict (mode: Predicate Abstraction)])"
      ]
     },
     "execution_count": 67,
     "metadata": {},
     "output_type": "execute_result"
    }
   ],
   "source": [
    "plus * two"
   ]
  },
  {
   "cell_type": "markdown",
   "metadata": {},
   "source": [
    "Here is the calculation for the whole sentence.  I have inserted the syntactic structure by using parenthesis (there is no need to define the syntax tree directly)."
   ]
  },
  {
   "cell_type": "code",
   "execution_count": 68,
   "metadata": {
    "collapsed": false
   },
   "outputs": [
    {
     "data": {
      "text/html": [
       "1 composition path.  Result:\n",
       "<br />&nbsp;&nbsp;&nbsp;&nbsp;[0]: $[\\![\\mathbf{\\text{[[is_V four] [[plus two] two]]}}]\\!]^{}_{t} \\:=\\: $$({4}_{n} = ({2}_{n} + {2}_{n}))$"
      ],
      "text/plain": [
       "CompositionResult(results=[⟦[[is_V four] [[plus two] two]]⟧ = (4_n <=> (2_n + 2_n))], failures=[⟦[[[plus two] two] [is_V four]]⟧ = Type mismatch: '⟦[[plus two] two]⟧ = (2_n + 2_n)'/n and '⟦[is_V four]⟧ = (λ y_n: (4_n <=> y_n))'/<n,t> conflict (mode: Function Application), ⟦[[[plus two] two] [is_V four]]⟧ = Type mismatch: '⟦[[plus two] two]⟧ = (2_n + 2_n)'/n and '⟦[is_V four]⟧ = (λ y_n: (4_n <=> y_n))'/<n,t> conflict (mode: Predicate Modification), ⟦[[[plus two] two] [is_V four]]⟧ = Type mismatch: '⟦[[plus two] two]⟧ = (2_n + 2_n)'/n and '⟦[is_V four]⟧ = (λ y_n: (4_n <=> y_n))'/<n,t> conflict (mode: Predicate Abstraction), ⟦[[is_V four] [[plus two] two]]⟧ = Type mismatch: '⟦[is_V four]⟧ = (λ y_n: (4_n <=> y_n))'/<n,t> and '⟦[[plus two] two]⟧ = (2_n + 2_n)'/n conflict (mode: Predicate Abstraction)])"
      ]
     },
     "execution_count": 68,
     "metadata": {},
     "output_type": "execute_result"
    }
   ],
   "source": [
    "(two * (plus * two)) * (is_V * four)"
   ]
  },
  {
   "cell_type": "code",
   "execution_count": 69,
   "metadata": {
    "collapsed": false
   },
   "outputs": [
    {
     "data": {
      "text/html": [
       "1 composition path.  Result:\n",
       "<br />&nbsp;&nbsp;&nbsp;&nbsp;[0]: $[\\![\\mathbf{\\text{[[is_V five] [[plus two] two]]}}]\\!]^{}_{t} \\:=\\: $$({5}_{n} = ({2}_{n} + {2}_{n}))$"
      ],
      "text/plain": [
       "CompositionResult(results=[⟦[[is_V five] [[plus two] two]]⟧ = (5_n <=> (2_n + 2_n))], failures=[⟦[[[plus two] two] [is_V five]]⟧ = Type mismatch: '⟦[[plus two] two]⟧ = (2_n + 2_n)'/n and '⟦[is_V five]⟧ = (λ y_n: (5_n <=> y_n))'/<n,t> conflict (mode: Function Application), ⟦[[[plus two] two] [is_V five]]⟧ = Type mismatch: '⟦[[plus two] two]⟧ = (2_n + 2_n)'/n and '⟦[is_V five]⟧ = (λ y_n: (5_n <=> y_n))'/<n,t> conflict (mode: Predicate Modification), ⟦[[[plus two] two] [is_V five]]⟧ = Type mismatch: '⟦[[plus two] two]⟧ = (2_n + 2_n)'/n and '⟦[is_V five]⟧ = (λ y_n: (5_n <=> y_n))'/<n,t> conflict (mode: Predicate Abstraction), ⟦[[is_V five] [[plus two] two]]⟧ = Type mismatch: '⟦[is_V five]⟧ = (λ y_n: (5_n <=> y_n))'/<n,t> and '⟦[[plus two] two]⟧ = (2_n + 2_n)'/n conflict (mode: Predicate Abstraction)])"
      ]
     },
     "execution_count": 69,
     "metadata": {},
     "output_type": "execute_result"
    }
   ],
   "source": [
    "(two * (plus * two)) * (is_V * five)"
   ]
  },
  {
   "cell_type": "markdown",
   "metadata": {},
   "source": [
    "Notice that, in a way, the lambda notebook calculation is _not concerned_ with whether the resulting expression is true.  It is trivial to see that one of the above two expressions is true and one is false, but what the lambda notebook is calculating is a reduction to a **meta-language** expression of some kind.  In this case, the meta-language is (apparently) a simple fragment of arithmetic.  In this sense, both of the above results are exactly what I suggested we should want.  The denotation of each of these sentence is a truth value, and what truth value it is (0 or 1) will depend on how the meta-language expression is interpreted."
   ]
  },
  {
   "cell_type": "markdown",
   "metadata": {},
   "source": [
    "It is also possible to directly check what happened in the course of such a derivation.  **FA** in the below examples means _Function Application_, i.e. the combination of a function with an argument.  Here are two useful commands for seeing derivations:"
   ]
  },
  {
   "cell_type": "code",
   "execution_count": 73,
   "metadata": {
    "collapsed": false
   },
   "outputs": [
    {
     "data": {
      "text/html": [
       "Full composition trace.  1 path:<br />\n",
       "&nbsp;&nbsp;&nbsp;&nbsp;Step 1: $[\\![\\mathbf{\\text{is_V}}]\\!]^{}_{\\langle{}n,\\langle{}n,t\\rangle{}\\rangle{}} \\:=\\: $$\\lambda{} x_{n} \\: . \\: \\lambda{} y_{n} \\: . \\: ({x}_{n} = {y}_{n})$<br />\n",
       "&nbsp;&nbsp;&nbsp;&nbsp;Step 2: $[\\![\\mathbf{\\text{four}}]\\!]^{}_{n} \\:=\\: $${4}_{n}$<br />\n",
       "&nbsp;&nbsp;&nbsp;&nbsp;Step 3: $[\\![\\mathbf{\\text{is_V}}]\\!]^{}_{\\langle{}n,\\langle{}n,t\\rangle{}\\rangle{}}$ * $[\\![\\mathbf{\\text{four}}]\\!]^{}_{n}$ leads to: $[\\![\\mathbf{\\text{[is_V four]}}]\\!]^{}_{\\langle{}n,t\\rangle{}} \\:=\\: $$\\lambda{} y_{n} \\: . \\: ({4}_{n} = {y}_{n})$ <b>[by FA]</b><br />\n",
       "&nbsp;&nbsp;&nbsp;&nbsp;Step 4: $[\\![\\mathbf{\\text{plus}}]\\!]^{}_{\\langle{}n,\\langle{}n,n\\rangle{}\\rangle{}} \\:=\\: $$\\lambda{} x_{n} \\: . \\: \\lambda{} y_{n} \\: . \\: ({x}_{n} + {y}_{n})$<br />\n",
       "&nbsp;&nbsp;&nbsp;&nbsp;Step 5: $[\\![\\mathbf{\\text{two}}]\\!]^{}_{n} \\:=\\: $${2}_{n}$<br />\n",
       "&nbsp;&nbsp;&nbsp;&nbsp;Step 6: $[\\![\\mathbf{\\text{plus}}]\\!]^{}_{\\langle{}n,\\langle{}n,n\\rangle{}\\rangle{}}$ * $[\\![\\mathbf{\\text{two}}]\\!]^{}_{n}$ leads to: $[\\![\\mathbf{\\text{[plus two]}}]\\!]^{}_{\\langle{}n,n\\rangle{}} \\:=\\: $$\\lambda{} y_{n} \\: . \\: ({2}_{n} + {y}_{n})$ <b>[by FA]</b><br />\n",
       "&nbsp;&nbsp;&nbsp;&nbsp;Step 7: $[\\![\\mathbf{\\text{two}}]\\!]^{}_{n} \\:=\\: $${2}_{n}$<br />\n",
       "&nbsp;&nbsp;&nbsp;&nbsp;Step 8: $[\\![\\mathbf{\\text{[plus two]}}]\\!]^{}_{\\langle{}n,n\\rangle{}}$ * $[\\![\\mathbf{\\text{two}}]\\!]^{}_{n}$ leads to: $[\\![\\mathbf{\\text{[[plus two] two]}}]\\!]^{}_{n} \\:=\\: $$({2}_{n} + {2}_{n})$ <b>[by FA]</b><br />\n",
       "&nbsp;&nbsp;&nbsp;&nbsp;Step 9: $[\\![\\mathbf{\\text{[is_V four]}}]\\!]^{}_{\\langle{}n,t\\rangle{}}$ * $[\\![\\mathbf{\\text{[[plus two] two]}}]\\!]^{}_{n}$ leads to: $[\\![\\mathbf{\\text{[[is_V four] [[plus two] two]]}}]\\!]^{}_{t} \\:=\\: $$({4}_{n} = ({2}_{n} + {2}_{n}))$ <b>[by FA]</b><br />\n"
      ],
      "text/latex": [
       "Full composition trace.  1 path:<br />\n",
       "&nbsp;&nbsp;&nbsp;&nbsp;Step 1: $[\\![\\mathbf{\\text{is_V}}]\\!]^{}_{\\langle{}n,\\langle{}n,t\\rangle{}\\rangle{}} \\:=\\: $$\\lambda{} x_{n} \\: . \\: \\lambda{} y_{n} \\: . \\: ({x}_{n} = {y}_{n})$<br />\n",
       "&nbsp;&nbsp;&nbsp;&nbsp;Step 2: $[\\![\\mathbf{\\text{four}}]\\!]^{}_{n} \\:=\\: $${4}_{n}$<br />\n",
       "&nbsp;&nbsp;&nbsp;&nbsp;Step 3: $[\\![\\mathbf{\\text{is_V}}]\\!]^{}_{\\langle{}n,\\langle{}n,t\\rangle{}\\rangle{}}$ * $[\\![\\mathbf{\\text{four}}]\\!]^{}_{n}$ leads to: $[\\![\\mathbf{\\text{[is_V four]}}]\\!]^{}_{\\langle{}n,t\\rangle{}} \\:=\\: $$\\lambda{} y_{n} \\: . \\: ({4}_{n} = {y}_{n})$ <b>[by FA]</b><br />\n",
       "&nbsp;&nbsp;&nbsp;&nbsp;Step 4: $[\\![\\mathbf{\\text{plus}}]\\!]^{}_{\\langle{}n,\\langle{}n,n\\rangle{}\\rangle{}} \\:=\\: $$\\lambda{} x_{n} \\: . \\: \\lambda{} y_{n} \\: . \\: ({x}_{n} + {y}_{n})$<br />\n",
       "&nbsp;&nbsp;&nbsp;&nbsp;Step 5: $[\\![\\mathbf{\\text{two}}]\\!]^{}_{n} \\:=\\: $${2}_{n}$<br />\n",
       "&nbsp;&nbsp;&nbsp;&nbsp;Step 6: $[\\![\\mathbf{\\text{plus}}]\\!]^{}_{\\langle{}n,\\langle{}n,n\\rangle{}\\rangle{}}$ * $[\\![\\mathbf{\\text{two}}]\\!]^{}_{n}$ leads to: $[\\![\\mathbf{\\text{[plus two]}}]\\!]^{}_{\\langle{}n,n\\rangle{}} \\:=\\: $$\\lambda{} y_{n} \\: . \\: ({2}_{n} + {y}_{n})$ <b>[by FA]</b><br />\n",
       "&nbsp;&nbsp;&nbsp;&nbsp;Step 7: $[\\![\\mathbf{\\text{two}}]\\!]^{}_{n} \\:=\\: $${2}_{n}$<br />\n",
       "&nbsp;&nbsp;&nbsp;&nbsp;Step 8: $[\\![\\mathbf{\\text{[plus two]}}]\\!]^{}_{\\langle{}n,n\\rangle{}}$ * $[\\![\\mathbf{\\text{two}}]\\!]^{}_{n}$ leads to: $[\\![\\mathbf{\\text{[[plus two] two]}}]\\!]^{}_{n} \\:=\\: $$({2}_{n} + {2}_{n})$ <b>[by FA]</b><br />\n",
       "&nbsp;&nbsp;&nbsp;&nbsp;Step 9: $[\\![\\mathbf{\\text{[is_V four]}}]\\!]^{}_{\\langle{}n,t\\rangle{}}$ * $[\\![\\mathbf{\\text{[[plus two] two]}}]\\!]^{}_{n}$ leads to: $[\\![\\mathbf{\\text{[[is_V four] [[plus two] two]]}}]\\!]^{}_{t} \\:=\\: $$({4}_{n} = ({2}_{n} + {2}_{n}))$ <b>[by FA]</b><br />\n"
      ],
      "text/plain": [
       "Full composition trace.  1 path:<br />\n",
       "&nbsp;&nbsp;&nbsp;&nbsp;Step 1: $[\\![\\mathbf{\\text{is_V}}]\\!]^{}_{\\langle{}n,\\langle{}n,t\\rangle{}\\rangle{}} \\:=\\: $$\\lambda{} x_{n} \\: . \\: \\lambda{} y_{n} \\: . \\: ({x}_{n} = {y}_{n})$<br />\n",
       "&nbsp;&nbsp;&nbsp;&nbsp;Step 2: $[\\![\\mathbf{\\text{four}}]\\!]^{}_{n} \\:=\\: $${4}_{n}$<br />\n",
       "&nbsp;&nbsp;&nbsp;&nbsp;Step 3: $[\\![\\mathbf{\\text{is_V}}]\\!]^{}_{\\langle{}n,\\langle{}n,t\\rangle{}\\rangle{}}$ * $[\\![\\mathbf{\\text{four}}]\\!]^{}_{n}$ leads to: $[\\![\\mathbf{\\text{[is_V four]}}]\\!]^{}_{\\langle{}n,t\\rangle{}} \\:=\\: $$\\lambda{} y_{n} \\: . \\: ({4}_{n} = {y}_{n})$ <b>[by FA]</b><br />\n",
       "&nbsp;&nbsp;&nbsp;&nbsp;Step 4: $[\\![\\mathbf{\\text{plus}}]\\!]^{}_{\\langle{}n,\\langle{}n,n\\rangle{}\\rangle{}} \\:=\\: $$\\lambda{} x_{n} \\: . \\: \\lambda{} y_{n} \\: . \\: ({x}_{n} + {y}_{n})$<br />\n",
       "&nbsp;&nbsp;&nbsp;&nbsp;Step 5: $[\\![\\mathbf{\\text{two}}]\\!]^{}_{n} \\:=\\: $${2}_{n}$<br />\n",
       "&nbsp;&nbsp;&nbsp;&nbsp;Step 6: $[\\![\\mathbf{\\text{plus}}]\\!]^{}_{\\langle{}n,\\langle{}n,n\\rangle{}\\rangle{}}$ * $[\\![\\mathbf{\\text{two}}]\\!]^{}_{n}$ leads to: $[\\![\\mathbf{\\text{[plus two]}}]\\!]^{}_{\\langle{}n,n\\rangle{}} \\:=\\: $$\\lambda{} y_{n} \\: . \\: ({2}_{n} + {y}_{n})$ <b>[by FA]</b><br />\n",
       "&nbsp;&nbsp;&nbsp;&nbsp;Step 7: $[\\![\\mathbf{\\text{two}}]\\!]^{}_{n} \\:=\\: $${2}_{n}$<br />\n",
       "&nbsp;&nbsp;&nbsp;&nbsp;Step 8: $[\\![\\mathbf{\\text{[plus two]}}]\\!]^{}_{\\langle{}n,n\\rangle{}}$ * $[\\![\\mathbf{\\text{two}}]\\!]^{}_{n}$ leads to: $[\\![\\mathbf{\\text{[[plus two] two]}}]\\!]^{}_{n} \\:=\\: $$({2}_{n} + {2}_{n})$ <b>[by FA]</b><br />\n",
       "&nbsp;&nbsp;&nbsp;&nbsp;Step 9: $[\\![\\mathbf{\\text{[is_V four]}}]\\!]^{}_{\\langle{}n,t\\rangle{}}$ * $[\\![\\mathbf{\\text{[[plus two] two]}}]\\!]^{}_{n}$ leads to: $[\\![\\mathbf{\\text{[[is_V four] [[plus two] two]]}}]\\!]^{}_{t} \\:=\\: $$({4}_{n} = ({2}_{n} + {2}_{n}))$ <b>[by FA]</b><br />"
      ]
     },
     "execution_count": 73,
     "metadata": {},
     "output_type": "execute_result"
    }
   ],
   "source": [
    "((two * (plus * two)) * (is_V * four)).trace()"
   ]
  },
  {
   "cell_type": "code",
   "execution_count": 74,
   "metadata": {
    "collapsed": false
   },
   "outputs": [
    {
     "data": {
      "text/html": [
       "1 composition path:<br /><style>.rendered_html table, .rendered_html tr, .rendered_html td, .rendered_html th { border: 0px; }</style><table><tr style=\"border:1px solid #848482\"><td style=\"vertical-align:bottom;padding:0px 10px\" align=\"center\"><table><tr><td style=\"vertical-align:bottom;padding:5px\"><table><tr style=\"border:1px solid #848482\"><td style=\"vertical-align:bottom;padding:0px 10px\" align=\"center\"><table><tr><td style=\"vertical-align:bottom;padding:5px\"><div style=\"margin-top:10px;border-style:solid;border-color:#848482;border-width:0px\"><div style=\"vertical-align:bottom;text-align:center\">$[\\![\\mathbf{\\text{is_V}}]\\!]^{}_{\\langle{}n,\\langle{}n,t\\rangle{}\\rangle{}}$</div><div style=\"vertical-align:bottom;text-align:center\">$\\lambda{} x_{n} \\: . \\: \\lambda{} y_{n} \\: . \\: ({x}_{n} = {y}_{n})$</div></div></td><td style=\"vertical-align:bottom;padding:10px\">$\\circ$</td><td style=\"vertical-align:bottom;padding:5px\"><div style=\"margin-top:10px;border-style:solid;border-color:#848482;border-width:0px\"><div style=\"vertical-align:bottom;text-align:center\">$[\\![\\mathbf{\\text{four}}]\\!]^{}_{n}$</div><div style=\"vertical-align:bottom;text-align:center\">${4}_{n}$</div></div></td></tr></table></td><td style=\"border-left:1px solid #848482;vertical-align:center;padding:10px\"><span style=\"color:blue\"><b>[FA]</b></span></td></tr><tr style=\"border-style:solid;border-color:#848482;border-width:0px 1px 1px 1px\"><td style=\"padding:5px\" align=\"center\"><div style=\"margin-top:10px;border-style:solid;border-color:#848482;border-width:0px\"><div style=\"vertical-align:bottom;text-align:center\">$[\\![\\mathbf{\\text{[is_V four]}}]\\!]^{}_{\\langle{}n,t\\rangle{}}$</div><div style=\"vertical-align:bottom;text-align:center\">$\\lambda{} y_{n} \\: . \\: ({4}_{n} = {y}_{n})$</div></div></td><td></td></tr></table></td><td style=\"vertical-align:bottom;padding:10px\">$\\circ$</td><td style=\"vertical-align:bottom;padding:5px\"><table><tr style=\"border:1px solid #848482\"><td style=\"vertical-align:bottom;padding:0px 10px\" align=\"center\"><table><tr><td style=\"vertical-align:bottom;padding:5px\"><table><tr style=\"border:1px solid #848482\"><td style=\"vertical-align:bottom;padding:0px 10px\" align=\"center\"><table><tr><td style=\"vertical-align:bottom;padding:5px\"><div style=\"margin-top:10px;border-style:solid;border-color:#848482;border-width:0px\"><div style=\"vertical-align:bottom;text-align:center\">$[\\![\\mathbf{\\text{plus}}]\\!]^{}_{\\langle{}n,\\langle{}n,n\\rangle{}\\rangle{}}$</div><div style=\"vertical-align:bottom;text-align:center\">$\\lambda{} x_{n} \\: . \\: \\lambda{} y_{n} \\: . \\: ({x}_{n} + {y}_{n})$</div></div></td><td style=\"vertical-align:bottom;padding:10px\">$\\circ$</td><td style=\"vertical-align:bottom;padding:5px\"><div style=\"margin-top:10px;border-style:solid;border-color:#848482;border-width:0px\"><div style=\"vertical-align:bottom;text-align:center\">$[\\![\\mathbf{\\text{two}}]\\!]^{}_{n}$</div><div style=\"vertical-align:bottom;text-align:center\">${2}_{n}$</div></div></td></tr></table></td><td style=\"border-left:1px solid #848482;vertical-align:center;padding:10px\"><span style=\"color:blue\"><b>[FA]</b></span></td></tr><tr style=\"border-style:solid;border-color:#848482;border-width:0px 1px 1px 1px\"><td style=\"padding:5px\" align=\"center\"><div style=\"margin-top:10px;border-style:solid;border-color:#848482;border-width:0px\"><div style=\"vertical-align:bottom;text-align:center\">$[\\![\\mathbf{\\text{[plus two]}}]\\!]^{}_{\\langle{}n,n\\rangle{}}$</div><div style=\"vertical-align:bottom;text-align:center\">$\\lambda{} y_{n} \\: . \\: ({2}_{n} + {y}_{n})$</div></div></td><td></td></tr></table></td><td style=\"vertical-align:bottom;padding:10px\">$\\circ$</td><td style=\"vertical-align:bottom;padding:5px\"><div style=\"margin-top:10px;border-style:solid;border-color:#848482;border-width:0px\"><div style=\"vertical-align:bottom;text-align:center\">$[\\![\\mathbf{\\text{two}}]\\!]^{}_{n}$</div><div style=\"vertical-align:bottom;text-align:center\">${2}_{n}$</div></div></td></tr></table></td><td style=\"border-left:1px solid #848482;vertical-align:center;padding:10px\"><span style=\"color:blue\"><b>[FA]</b></span></td></tr><tr style=\"border-style:solid;border-color:#848482;border-width:0px 1px 1px 1px\"><td style=\"padding:5px\" align=\"center\"><div style=\"margin-top:10px;border-style:solid;border-color:#848482;border-width:0px\"><div style=\"vertical-align:bottom;text-align:center\">$[\\![\\mathbf{\\text{[[plus two] two]}}]\\!]^{}_{n}$</div><div style=\"vertical-align:bottom;text-align:center\">$({2}_{n} + {2}_{n})$</div></div></td><td></td></tr></table></td></tr></table></td><td style=\"border-left:1px solid #848482;vertical-align:center;padding:10px\"><span style=\"color:blue\"><b>[FA]</b></span></td></tr><tr style=\"border-style:solid;border-color:#848482;border-width:0px 1px 1px 1px\"><td style=\"padding:5px\" align=\"center\"><div style=\"margin-top:10px;border-style:solid;border-color:#848482;border-width:0px\"><div style=\"vertical-align:bottom;text-align:center\">$[\\![\\mathbf{\\text{[[is_V four] [[plus two] two]]}}]\\!]^{}_{t}$</div><div style=\"vertical-align:bottom;text-align:center\">$({4}_{n} = ({2}_{n} + {2}_{n}))$</div></div></td><td></td></tr></table><br /><br />"
      ],
      "text/latex": [
       "1 composition path:<br /><style>.rendered_html table, .rendered_html tr, .rendered_html td, .rendered_html th { border: 0px; }</style><table><tr style=\"border:1px solid #848482\"><td style=\"vertical-align:bottom;padding:0px 10px\" align=\"center\"><table><tr><td style=\"vertical-align:bottom;padding:5px\"><table><tr style=\"border:1px solid #848482\"><td style=\"vertical-align:bottom;padding:0px 10px\" align=\"center\"><table><tr><td style=\"vertical-align:bottom;padding:5px\"><div style=\"margin-top:10px;border-style:solid;border-color:#848482;border-width:0px\"><div style=\"vertical-align:bottom;text-align:center\">$[\\![\\mathbf{\\text{is_V}}]\\!]^{}_{\\langle{}n,\\langle{}n,t\\rangle{}\\rangle{}}$</div><div style=\"vertical-align:bottom;text-align:center\">$\\lambda{} x_{n} \\: . \\: \\lambda{} y_{n} \\: . \\: ({x}_{n} = {y}_{n})$</div></div></td><td style=\"vertical-align:bottom;padding:10px\">$\\circ$</td><td style=\"vertical-align:bottom;padding:5px\"><div style=\"margin-top:10px;border-style:solid;border-color:#848482;border-width:0px\"><div style=\"vertical-align:bottom;text-align:center\">$[\\![\\mathbf{\\text{four}}]\\!]^{}_{n}$</div><div style=\"vertical-align:bottom;text-align:center\">${4}_{n}$</div></div></td></tr></table></td><td style=\"border-left:1px solid #848482;vertical-align:center;padding:10px\"><span style=\"color:blue\"><b>[FA]</b></span></td></tr><tr style=\"border-style:solid;border-color:#848482;border-width:0px 1px 1px 1px\"><td style=\"padding:5px\" align=\"center\"><div style=\"margin-top:10px;border-style:solid;border-color:#848482;border-width:0px\"><div style=\"vertical-align:bottom;text-align:center\">$[\\![\\mathbf{\\text{[is_V four]}}]\\!]^{}_{\\langle{}n,t\\rangle{}}$</div><div style=\"vertical-align:bottom;text-align:center\">$\\lambda{} y_{n} \\: . \\: ({4}_{n} = {y}_{n})$</div></div></td><td></td></tr></table></td><td style=\"vertical-align:bottom;padding:10px\">$\\circ$</td><td style=\"vertical-align:bottom;padding:5px\"><table><tr style=\"border:1px solid #848482\"><td style=\"vertical-align:bottom;padding:0px 10px\" align=\"center\"><table><tr><td style=\"vertical-align:bottom;padding:5px\"><table><tr style=\"border:1px solid #848482\"><td style=\"vertical-align:bottom;padding:0px 10px\" align=\"center\"><table><tr><td style=\"vertical-align:bottom;padding:5px\"><div style=\"margin-top:10px;border-style:solid;border-color:#848482;border-width:0px\"><div style=\"vertical-align:bottom;text-align:center\">$[\\![\\mathbf{\\text{plus}}]\\!]^{}_{\\langle{}n,\\langle{}n,n\\rangle{}\\rangle{}}$</div><div style=\"vertical-align:bottom;text-align:center\">$\\lambda{} x_{n} \\: . \\: \\lambda{} y_{n} \\: . \\: ({x}_{n} + {y}_{n})$</div></div></td><td style=\"vertical-align:bottom;padding:10px\">$\\circ$</td><td style=\"vertical-align:bottom;padding:5px\"><div style=\"margin-top:10px;border-style:solid;border-color:#848482;border-width:0px\"><div style=\"vertical-align:bottom;text-align:center\">$[\\![\\mathbf{\\text{two}}]\\!]^{}_{n}$</div><div style=\"vertical-align:bottom;text-align:center\">${2}_{n}$</div></div></td></tr></table></td><td style=\"border-left:1px solid #848482;vertical-align:center;padding:10px\"><span style=\"color:blue\"><b>[FA]</b></span></td></tr><tr style=\"border-style:solid;border-color:#848482;border-width:0px 1px 1px 1px\"><td style=\"padding:5px\" align=\"center\"><div style=\"margin-top:10px;border-style:solid;border-color:#848482;border-width:0px\"><div style=\"vertical-align:bottom;text-align:center\">$[\\![\\mathbf{\\text{[plus two]}}]\\!]^{}_{\\langle{}n,n\\rangle{}}$</div><div style=\"vertical-align:bottom;text-align:center\">$\\lambda{} y_{n} \\: . \\: ({2}_{n} + {y}_{n})$</div></div></td><td></td></tr></table></td><td style=\"vertical-align:bottom;padding:10px\">$\\circ$</td><td style=\"vertical-align:bottom;padding:5px\"><div style=\"margin-top:10px;border-style:solid;border-color:#848482;border-width:0px\"><div style=\"vertical-align:bottom;text-align:center\">$[\\![\\mathbf{\\text{two}}]\\!]^{}_{n}$</div><div style=\"vertical-align:bottom;text-align:center\">${2}_{n}$</div></div></td></tr></table></td><td style=\"border-left:1px solid #848482;vertical-align:center;padding:10px\"><span style=\"color:blue\"><b>[FA]</b></span></td></tr><tr style=\"border-style:solid;border-color:#848482;border-width:0px 1px 1px 1px\"><td style=\"padding:5px\" align=\"center\"><div style=\"margin-top:10px;border-style:solid;border-color:#848482;border-width:0px\"><div style=\"vertical-align:bottom;text-align:center\">$[\\![\\mathbf{\\text{[[plus two] two]}}]\\!]^{}_{n}$</div><div style=\"vertical-align:bottom;text-align:center\">$({2}_{n} + {2}_{n})$</div></div></td><td></td></tr></table></td></tr></table></td><td style=\"border-left:1px solid #848482;vertical-align:center;padding:10px\"><span style=\"color:blue\"><b>[FA]</b></span></td></tr><tr style=\"border-style:solid;border-color:#848482;border-width:0px 1px 1px 1px\"><td style=\"padding:5px\" align=\"center\"><div style=\"margin-top:10px;border-style:solid;border-color:#848482;border-width:0px\"><div style=\"vertical-align:bottom;text-align:center\">$[\\![\\mathbf{\\text{[[is_V four] [[plus two] two]]}}]\\!]^{}_{t}$</div><div style=\"vertical-align:bottom;text-align:center\">$({4}_{n} = ({2}_{n} + {2}_{n}))$</div></div></td><td></td></tr></table><br /><br />"
      ],
      "text/plain": [
       "1 composition path:<br /><style>.rendered_html table, .rendered_html tr, .rendered_html td, .rendered_html th { border: 0px; }</style><table><tr style=\"border:1px solid #848482\"><td style=\"vertical-align:bottom;padding:0px 10px\" align=\"center\"><table><tr><td style=\"vertical-align:bottom;padding:5px\"><table><tr style=\"border:1px solid #848482\"><td style=\"vertical-align:bottom;padding:0px 10px\" align=\"center\"><table><tr><td style=\"vertical-align:bottom;padding:5px\"><div style=\"margin-top:10px;border-style:solid;border-color:#848482;border-width:0px\"><div style=\"vertical-align:bottom;text-align:center\">$[\\![\\mathbf{\\text{is_V}}]\\!]^{}_{\\langle{}n,\\langle{}n,t\\rangle{}\\rangle{}}$</div><div style=\"vertical-align:bottom;text-align:center\">$\\lambda{} x_{n} \\: . \\: \\lambda{} y_{n} \\: . \\: ({x}_{n} = {y}_{n})$</div></div></td><td style=\"vertical-align:bottom;padding:10px\">$\\circ$</td><td style=\"vertical-align:bottom;padding:5px\"><div style=\"margin-top:10px;border-style:solid;border-color:#848482;border-width:0px\"><div style=\"vertical-align:bottom;text-align:center\">$[\\![\\mathbf{\\text{four}}]\\!]^{}_{n}$</div><div style=\"vertical-align:bottom;text-align:center\">${4}_{n}$</div></div></td></tr></table></td><td style=\"border-left:1px solid #848482;vertical-align:center;padding:10px\"><span style=\"color:blue\"><b>[FA]</b></span></td></tr><tr style=\"border-style:solid;border-color:#848482;border-width:0px 1px 1px 1px\"><td style=\"padding:5px\" align=\"center\"><div style=\"margin-top:10px;border-style:solid;border-color:#848482;border-width:0px\"><div style=\"vertical-align:bottom;text-align:center\">$[\\![\\mathbf{\\text{[is_V four]}}]\\!]^{}_{\\langle{}n,t\\rangle{}}$</div><div style=\"vertical-align:bottom;text-align:center\">$\\lambda{} y_{n} \\: . \\: ({4}_{n} = {y}_{n})$</div></div></td><td></td></tr></table></td><td style=\"vertical-align:bottom;padding:10px\">$\\circ$</td><td style=\"vertical-align:bottom;padding:5px\"><table><tr style=\"border:1px solid #848482\"><td style=\"vertical-align:bottom;padding:0px 10px\" align=\"center\"><table><tr><td style=\"vertical-align:bottom;padding:5px\"><table><tr style=\"border:1px solid #848482\"><td style=\"vertical-align:bottom;padding:0px 10px\" align=\"center\"><table><tr><td style=\"vertical-align:bottom;padding:5px\"><div style=\"margin-top:10px;border-style:solid;border-color:#848482;border-width:0px\"><div style=\"vertical-align:bottom;text-align:center\">$[\\![\\mathbf{\\text{plus}}]\\!]^{}_{\\langle{}n,\\langle{}n,n\\rangle{}\\rangle{}}$</div><div style=\"vertical-align:bottom;text-align:center\">$\\lambda{} x_{n} \\: . \\: \\lambda{} y_{n} \\: . \\: ({x}_{n} + {y}_{n})$</div></div></td><td style=\"vertical-align:bottom;padding:10px\">$\\circ$</td><td style=\"vertical-align:bottom;padding:5px\"><div style=\"margin-top:10px;border-style:solid;border-color:#848482;border-width:0px\"><div style=\"vertical-align:bottom;text-align:center\">$[\\![\\mathbf{\\text{two}}]\\!]^{}_{n}$</div><div style=\"vertical-align:bottom;text-align:center\">${2}_{n}$</div></div></td></tr></table></td><td style=\"border-left:1px solid #848482;vertical-align:center;padding:10px\"><span style=\"color:blue\"><b>[FA]</b></span></td></tr><tr style=\"border-style:solid;border-color:#848482;border-width:0px 1px 1px 1px\"><td style=\"padding:5px\" align=\"center\"><div style=\"margin-top:10px;border-style:solid;border-color:#848482;border-width:0px\"><div style=\"vertical-align:bottom;text-align:center\">$[\\![\\mathbf{\\text{[plus two]}}]\\!]^{}_{\\langle{}n,n\\rangle{}}$</div><div style=\"vertical-align:bottom;text-align:center\">$\\lambda{} y_{n} \\: . \\: ({2}_{n} + {y}_{n})$</div></div></td><td></td></tr></table></td><td style=\"vertical-align:bottom;padding:10px\">$\\circ$</td><td style=\"vertical-align:bottom;padding:5px\"><div style=\"margin-top:10px;border-style:solid;border-color:#848482;border-width:0px\"><div style=\"vertical-align:bottom;text-align:center\">$[\\![\\mathbf{\\text{two}}]\\!]^{}_{n}$</div><div style=\"vertical-align:bottom;text-align:center\">${2}_{n}$</div></div></td></tr></table></td><td style=\"border-left:1px solid #848482;vertical-align:center;padding:10px\"><span style=\"color:blue\"><b>[FA]</b></span></td></tr><tr style=\"border-style:solid;border-color:#848482;border-width:0px 1px 1px 1px\"><td style=\"padding:5px\" align=\"center\"><div style=\"margin-top:10px;border-style:solid;border-color:#848482;border-width:0px\"><div style=\"vertical-align:bottom;text-align:center\">$[\\![\\mathbf{\\text{[[plus two] two]}}]\\!]^{}_{n}$</div><div style=\"vertical-align:bottom;text-align:center\">$({2}_{n} + {2}_{n})$</div></div></td><td></td></tr></table></td></tr></table></td><td style=\"border-left:1px solid #848482;vertical-align:center;padding:10px\"><span style=\"color:blue\"><b>[FA]</b></span></td></tr><tr style=\"border-style:solid;border-color:#848482;border-width:0px 1px 1px 1px\"><td style=\"padding:5px\" align=\"center\"><div style=\"margin-top:10px;border-style:solid;border-color:#848482;border-width:0px\"><div style=\"vertical-align:bottom;text-align:center\">$[\\![\\mathbf{\\text{[[is_V four] [[plus two] two]]}}]\\!]^{}_{t}$</div><div style=\"vertical-align:bottom;text-align:center\">$({4}_{n} = ({2}_{n} + {2}_{n}))$</div></div></td><td></td></tr></table><br /><br />"
      ]
     },
     "execution_count": 74,
     "metadata": {},
     "output_type": "execute_result"
    }
   ],
   "source": [
    "((two * (plus * two)) * (is_V * four)).tree()"
   ]
  },
  {
   "cell_type": "markdown",
   "metadata": {},
   "source": [
    "### Summary\n",
    "\n",
    "This notebook has illustrated four main things:\n",
    " 1. The basic idea of treating natural language meanings as functions and arguments, in order to understand compositionality.\n",
    " 2. The use of curried functions to model incremental composition in non-trivial syntax. This allows answering questions like, what does a VP denote? (Almost all syntax is non-trivial enough to need this!)\n",
    " 3. A version of the standard notation for doing this using a typed lambda calculus (with a simple mathematical underlying meta-language).\n",
    " 4. How this idea can be implemented in the IPython Lambda Notebook framework.\n",
    " \n",
    "The next step is to extend this idea to non-mathematicalese.  This will raise a number of further questions, one of the more pressing being, what is the metalanguage for more typical nominal expressions like \"cat\" or \"Kyle\" or \"Alabama\"?"
   ]
  },
  {
   "cell_type": "code",
   "execution_count": null,
   "metadata": {
    "collapsed": true
   },
   "outputs": [],
   "source": []
  }
 ],
 "metadata": {
  "kernelspec": {
   "display_name": "Lambda Notebook (Python 3)",
   "language": "python",
   "name": "lambda-notebook"
  },
  "language_info": {
   "codemirror_mode": {
    "name": "ipython",
    "version": 3
   },
   "file_extension": ".py",
   "mimetype": "text/x-python",
   "name": "python",
   "nbconvert_exporter": "python",
   "pygments_lexer": "ipython3",
   "version": "3.5.1"
  }
 },
 "nbformat": 4,
 "nbformat_minor": 1
}
