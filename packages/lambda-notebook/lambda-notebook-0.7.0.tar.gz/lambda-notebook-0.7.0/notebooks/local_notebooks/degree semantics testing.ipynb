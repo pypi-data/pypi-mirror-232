{
 "cells": [
  {
   "cell_type": "code",
   "execution_count": 93,
   "metadata": {
    "collapsed": false
   },
   "outputs": [],
   "source": [
    "reload_lamb()"
   ]
  },
  {
   "cell_type": "code",
   "execution_count": 94,
   "metadata": {
    "collapsed": false
   },
   "outputs": [
    {
     "data": {
      "text/latex": [
       "${card}_{\\langle{}e,n\\rangle{}}\\:=\\:{Card}_{\\langle{}e,n\\rangle{}}$<br />\n",
       "${maxfun}_{\\langle{}\\{n\\},n\\rangle{}}\\:=\\:{Max}_{\\langle{}\\{n\\},n\\rangle{}}$<br />\n",
       "$||\\mathbf{\\text{many}}||^{}_{\\langle{}n,\\langle{}\\langle{}e,t\\rangle{},\\langle{}e,t\\rangle{}\\rangle{}\\rangle{}} \\:=\\: \\lambda{} d_{n} \\: . \\: \\lambda{} f_{\\langle{}e,t\\rangle{}} \\: . \\: \\lambda{} x_{e} \\: . \\: ({f}_{\\langle{}e,t\\rangle{}}({x}_{e}) \\wedge{} ({d}_{n} \\leq{} {Card}_{\\langle{}e,n\\rangle{}}({x}_{e})))$"
      ],
      "text/plain": [
       "${card}_{\\langle{}e,n\\rangle{}}\\:=\\:{Card}_{\\langle{}e,n\\rangle{}}$<br />\n",
       "${maxfun}_{\\langle{}\\{n\\},n\\rangle{}}\\:=\\:{Max}_{\\langle{}\\{n\\},n\\rangle{}}$<br />\n",
       "$||\\mathbf{\\text{many}}||^{}_{\\langle{}n,\\langle{}\\langle{}e,t\\rangle{},\\langle{}e,t\\rangle{}\\rangle{}\\rangle{}} \\:=\\: \\lambda{} d_{n} \\: . \\: \\lambda{} f_{\\langle{}e,t\\rangle{}} \\: . \\: \\lambda{} x_{e} \\: . \\: ({f}_{\\langle{}e,t\\rangle{}}({x}_{e}) \\wedge{} ({d}_{n} \\leq{} {Card}_{\\langle{}e,n\\rangle{}}({x}_{e})))$"
      ]
     },
     "execution_count": 94,
     "metadata": {},
     "output_type": "execute_result"
    }
   ],
   "source": [
    "%%lamb\n",
    "card = Card_<e,n>\n",
    "maxfun = Max_<{n},n>\n",
    "||many|| = L d_n : L f_<e,t> : L x_e : f(x) & (card(x) >= d)"
   ]
  },
  {
   "cell_type": "code",
   "execution_count": 95,
   "metadata": {
    "collapsed": false
   },
   "outputs": [
    {
     "data": {
      "text/latex": [
       "${dset}_{\\langle{}\\langle{}n,\\langle{}e,t\\rangle{}\\rangle{},\\langle{}e,\\{n\\}\\rangle{}\\rangle{}}\\:=\\:\\lambda{} d_{\\langle{}n,\\langle{}e,t\\rangle{}\\rangle{}} \\: . \\: \\lambda{} x_{e} \\: . \\: \\{d2_{n}\\:|\\: {d}_{\\langle{}n,\\langle{}e,t\\rangle{}\\rangle{}}({d2}_{n})({x}_{e})\\}$"
      ],
      "text/plain": [
       "${dset}_{\\langle{}\\langle{}n,\\langle{}e,t\\rangle{}\\rangle{},\\langle{}e,\\{n\\}\\rangle{}\\rangle{}}\\:=\\:\\lambda{} d_{\\langle{}n,\\langle{}e,t\\rangle{}\\rangle{}} \\: . \\: \\lambda{} x_{e} \\: . \\: \\{d2_{n}\\:|\\: {d}_{\\langle{}n,\\langle{}e,t\\rangle{}\\rangle{}}({d2}_{n})({x}_{e})\\}$"
      ]
     },
     "execution_count": 95,
     "metadata": {},
     "output_type": "execute_result"
    }
   ],
   "source": [
    "%%lamb\n",
    "dset = L d_<n,<e,t>> : L x_e : Set d2_n: d(d2)(x)\n",
    "#||est|| = L c_{e} : L d_<n,<e,t>> : L x_e : Forall y_e: (c << y) >> ((y != x) >>  (maxfun(dset(d)(x)) > maxfun(dset(d)(y))))"
   ]
  },
  {
   "cell_type": "code",
   "execution_count": 96,
   "metadata": {
    "collapsed": false
   },
   "outputs": [
    {
     "data": {
      "text/latex": [
       "${Max}_{\\langle{}\\{n\\},n\\rangle{}}(\\{d2_{n}\\:|\\: {d}_{\\langle{}n,\\langle{}e,t\\rangle{}\\rangle{}}({d2}_{n})({x}_{e})\\})$"
      ],
      "text/plain": [
       "Max_<{n},n>((Set d2_n: d_<n,<e,t>>(d2_n)(x_e)))"
      ]
     },
     "execution_count": 96,
     "metadata": {},
     "output_type": "execute_result"
    }
   ],
   "source": [
    "maxfun(dset(\"d_<n,<e,t>>\")(\"x_e\")).reduce_all()"
   ]
  },
  {
   "cell_type": "code",
   "execution_count": 97,
   "metadata": {
    "collapsed": false
   },
   "outputs": [
    {
     "data": {
      "text/latex": [
       "$||\\mathbf{\\text{est}}||^{}_{\\langle{}\\{e\\},\\langle{}\\langle{}n,\\langle{}e,t\\rangle{}\\rangle{},\\langle{}e,t\\rangle{}\\rangle{}\\rangle{}} \\:=\\: \\lambda{} c_{\\{e\\}} \\: . \\: \\lambda{} d_{\\langle{}n,\\langle{}e,t\\rangle{}\\rangle{}} \\: . \\: \\lambda{} x_{e} \\: . \\: \\forall{} y_{e} \\: . \\: (({y}_{e} \\in{} {c}_{\\{e\\}}) \\rightarrow{} (\\neg{} ({y}_{e} = {x}_{e}) \\rightarrow{} ({Max}_{\\langle{}\\{n\\},n\\rangle{}}(\\{d2_{n}\\:|\\: {d}_{\\langle{}n,\\langle{}e,t\\rangle{}\\rangle{}}({d2}_{n})({x}_{e})\\}) > {Max}_{\\langle{}\\{n\\},n\\rangle{}}(\\{d2_{n}\\:|\\: {d}_{\\langle{}n,\\langle{}e,t\\rangle{}\\rangle{}}({d2}_{n})({y}_{e})\\}))))$"
      ],
      "text/plain": [
       "$||\\mathbf{\\text{est}}||^{}_{\\langle{}\\{e\\},\\langle{}\\langle{}n,\\langle{}e,t\\rangle{}\\rangle{},\\langle{}e,t\\rangle{}\\rangle{}\\rangle{}} \\:=\\: \\lambda{} c_{\\{e\\}} \\: . \\: \\lambda{} d_{\\langle{}n,\\langle{}e,t\\rangle{}\\rangle{}} \\: . \\: \\lambda{} x_{e} \\: . \\: \\forall{} y_{e} \\: . \\: (({y}_{e} \\in{} {c}_{\\{e\\}}) \\rightarrow{} (\\neg{} ({y}_{e} = {x}_{e}) \\rightarrow{} ({Max}_{\\langle{}\\{n\\},n\\rangle{}}(\\{d2_{n}\\:|\\: {d}_{\\langle{}n,\\langle{}e,t\\rangle{}\\rangle{}}({d2}_{n})({x}_{e})\\}) > {Max}_{\\langle{}\\{n\\},n\\rangle{}}(\\{d2_{n}\\:|\\: {d}_{\\langle{}n,\\langle{}e,t\\rangle{}\\rangle{}}({d2}_{n})({y}_{e})\\}))))$"
      ]
     },
     "execution_count": 97,
     "metadata": {},
     "output_type": "execute_result"
    }
   ],
   "source": [
    "%%lamb\n",
    "||est|| = L c_{e} : L d_<n,<e,t>> : L x_e : Forall y_e: (y << c) >> ((~(y <=> x)) >> (maxfun(dset(d)(x)) > maxfun(dset(d)(y))))\n",
    "est.reduce_all()        "
   ]
  },
  {
   "cell_type": "code",
   "execution_count": 98,
   "metadata": {
    "collapsed": false
   },
   "outputs": [
    {
     "data": {
      "text/latex": [
       "$({y}_{e} \\in{} {c}_{\\{e\\}})$"
      ],
      "text/plain": [
       "(y_e ∈ c_{e})"
      ]
     },
     "execution_count": 98,
     "metadata": {},
     "output_type": "execute_result"
    }
   ],
   "source": [
    "te(\"y_e << c_{e}\")"
   ]
  },
  {
   "cell_type": "code",
   "execution_count": 99,
   "metadata": {
    "collapsed": false
   },
   "outputs": [
    {
     "data": {
      "text/latex": [
       "$\\neg{} ({y}_{e} = {x}_{e})$"
      ],
      "text/plain": [
       "~(y_e == x_e)"
      ]
     },
     "execution_count": 99,
     "metadata": {},
     "output_type": "execute_result"
    }
   ],
   "source": [
    "te(\"~(y_e <=> x_e)\")"
   ]
  },
  {
   "cell_type": "code",
   "execution_count": 100,
   "metadata": {
    "collapsed": false
   },
   "outputs": [
    {
     "name": "stderr",
     "output_type": "stream",
     "text": [
      "INFO (meta): Coerced guessed type t for 'Mt_t' into <e,t>, to match argument 'x_e'\n",
      "INFO (meta): Coerced guessed type t for 'Climbed_t' into <(e,e),t>, to match argument '(y_e, x_e)'\n"
     ]
    },
    {
     "data": {
      "text/latex": [
       "$||\\mathbf{\\text{high}}||^{}_{\\langle{}n,\\langle{}e,t\\rangle{}\\rangle{}} \\:=\\: \\lambda{} d_{n} \\: . \\: \\lambda{} x_{e} \\: . \\: ({d}_{n} \\leq{} {Height}_{\\langle{}e,n\\rangle{}}({x}_{e}))$<br />\n",
       "$||\\mathbf{\\text{mountain}}||^{}_{\\langle{}e,t\\rangle{}} \\:=\\: \\lambda{} x_{e} \\: . \\: {Mt}({x}_{e})$<br />\n",
       "$||\\mathbf{\\text{climbed}}||^{}_{\\langle{}e,\\langle{}e,t\\rangle{}\\rangle{}} \\:=\\: \\lambda{} x_{e} \\: . \\: \\lambda{} y_{e} \\: . \\: {Climbed}({y}_{e}, {x}_{e})$<br />\n",
       "$||\\mathbf{\\text{the}}||^{}_{\\langle{}\\langle{}e,t\\rangle{},e\\rangle{}} \\:=\\: \\lambda{} f_{\\langle{}e,t\\rangle{}} \\: . \\: \\iota{} x_{e} \\: . \\: {f}_{\\langle{}e,t\\rangle{}}({x}_{e})$<br />\n",
       "$||\\mathbf{\\text{C}}||^{}_{\\{e\\}} \\:=\\: {C}_{\\{e\\}}$"
      ],
      "text/plain": [
       "$||\\mathbf{\\text{high}}||^{}_{\\langle{}n,\\langle{}e,t\\rangle{}\\rangle{}} \\:=\\: \\lambda{} d_{n} \\: . \\: \\lambda{} x_{e} \\: . \\: ({d}_{n} \\leq{} {Height}_{\\langle{}e,n\\rangle{}}({x}_{e}))$<br />\n",
       "$||\\mathbf{\\text{mountain}}||^{}_{\\langle{}e,t\\rangle{}} \\:=\\: \\lambda{} x_{e} \\: . \\: {Mt}({x}_{e})$<br />\n",
       "$||\\mathbf{\\text{climbed}}||^{}_{\\langle{}e,\\langle{}e,t\\rangle{}\\rangle{}} \\:=\\: \\lambda{} x_{e} \\: . \\: \\lambda{} y_{e} \\: . \\: {Climbed}({y}_{e}, {x}_{e})$<br />\n",
       "$||\\mathbf{\\text{the}}||^{}_{\\langle{}\\langle{}e,t\\rangle{},e\\rangle{}} \\:=\\: \\lambda{} f_{\\langle{}e,t\\rangle{}} \\: . \\: \\iota{} x_{e} \\: . \\: {f}_{\\langle{}e,t\\rangle{}}({x}_{e})$<br />\n",
       "$||\\mathbf{\\text{C}}||^{}_{\\{e\\}} \\:=\\: {C}_{\\{e\\}}$"
      ]
     },
     "execution_count": 100,
     "metadata": {},
     "output_type": "execute_result"
    }
   ],
   "source": [
    "%%lamb\n",
    "||high|| = L d_n : L x_e : Height_<e,n>(x) >= d\n",
    "||mountain|| = L x_e : Mt(x)\n",
    "||climbed|| = L x_e : L y_e : Climbed(y,x)\n",
    "||the|| = L f_<e,t> : Iota x_e : f(x)\n",
    "||C|| = C_{e}"
   ]
  },
  {
   "cell_type": "code",
   "execution_count": 101,
   "metadata": {
    "collapsed": false
   },
   "outputs": [
    {
     "data": {
      "text/latex": [
       "$||\\mathbf{\\text{t2}}||^{}_{n} \\:=\\: $${t2}_{n}$"
      ],
      "text/plain": [
       "||t2|| = t2_n"
      ]
     },
     "execution_count": 101,
     "metadata": {},
     "output_type": "execute_result"
    }
   ],
   "source": [
    "trace = lang.Trace(index=2, typ=tp(\"n\"))\n",
    "trace"
   ]
  },
  {
   "cell_type": "code",
   "execution_count": 102,
   "metadata": {
    "collapsed": false
   },
   "outputs": [
    {
     "data": {
      "text/latex": [
       "Composition system 'H&K simple (copy)'<br />Operations: FA, PM, PA, PA-n"
      ],
      "text/plain": [
       "Composition system: H&K simple (copy)"
      ]
     },
     "execution_count": 102,
     "metadata": {},
     "output_type": "execute_result"
    }
   ],
   "source": [
    "def pa_fun_n(binder, content, assignment=None):\n",
    "    if (binder.content is not None) or not binder.name.strip().isnumeric():\n",
    "        raise types.TypeMismatch(binder, content, \"Predicate Abstraction\")\n",
    "    index = int(binder.name.strip())\n",
    "    vname = \"t%i\" % index\n",
    "    # there could be more natural ways to do this...should H&K assignment functions be implemented directly?\n",
    "    outer_vname = \"x\"\n",
    "    inner_fun = meta.LFun(types.type_n, content.content.under_assignment(assignment), vname)\n",
    "    used_variables = inner_fun.free_variables() | inner_fun.bound_variables() # totally brute force...\n",
    "    outer_vname = meta.alpha_variant(outer_vname, used_variables)\n",
    "    f = meta.LFun(types.type_n, (inner_fun)(outer_vname + \"_n\").reduce(), outer_vname)\n",
    "    return lang.BinaryComposite(binder, content, f)\n",
    "\n",
    "system = lang.td_system.copy()\n",
    "system.add_rule(lang.BinaryCompositionOp(\"PA-n\", pa_fun_n, allow_none=True))\n",
    "lang.set_system(system)\n",
    "lang.get_system()"
   ]
  },
  {
   "cell_type": "code",
   "execution_count": 103,
   "metadata": {
    "collapsed": false
   },
   "outputs": [
    {
     "data": {
      "text/latex": [
       "$||\\mathbf{\\text{2}}||^{}$"
      ],
      "text/plain": [
       "||2|| = None"
      ]
     },
     "execution_count": 103,
     "metadata": {},
     "output_type": "execute_result"
    }
   ],
   "source": [
    "binder = lang.Binder(index=2)\n",
    "binder"
   ]
  },
  {
   "cell_type": "code",
   "execution_count": 104,
   "metadata": {
    "collapsed": false
   },
   "outputs": [
    {
     "data": {
      "text/latex": [
       "1 composition path.  Result:\n",
       "<br />&nbsp;&nbsp;&nbsp;&nbsp;[0]: $||\\mathbf{\\text{[[est C] [2 [[high t2] mountain]]]}}||^{}_{\\langle{}e,t\\rangle{}} \\:=\\: $$\\lambda{} x_{e} \\: . \\: \\forall{} y_{e} \\: . \\: (({y}_{e} \\in{} {C}_{\\{e\\}}) \\rightarrow{} (\\neg{} ({y}_{e} = {x}_{e}) \\rightarrow{} ({Max}_{\\langle{}\\{n\\},n\\rangle{}}(\\{d2_{n}\\:|\\: (({d2}_{n} \\leq{} {Height}_{\\langle{}e,n\\rangle{}}({x}_{e})) \\wedge{} {Mt}({x}_{e}))\\}) > {Max}_{\\langle{}\\{n\\},n\\rangle{}}(\\{d2_{n}\\:|\\: (({d2}_{n} \\leq{} {Height}_{\\langle{}e,n\\rangle{}}({y}_{e})) \\wedge{} {Mt}({y}_{e}))\\}))))$"
      ],
      "text/plain": [
       "CompositionResult(results=[||[[est C] [2 [[high t2] mountain]]]|| = (λ x_e: (Forall y_e: ((y_e ∈ C_{e}) >> (~(y_e == x_e) >> (Max_<{n},n>((Set d2_n: ((d2_n <= Height_<e,n>(x_e)) & Mt_<e,t>(x_e)))) > Max_<{n},n>((Set d2_n: ((d2_n <= Height_<e,n>(y_e)) & Mt_<e,t>(y_e)))))))))], failures=[||[[2 [[high t2] mountain]] [est C]]|| = Type mismatch: '||[2 [[high t2] mountain]]|| = (λ x1_n: (λ x_e: ((x1_n <= Height_<e,n>(x_e)) & Mt_<e,t>(x_e))))'/<n,<e,t>> and '||[est C]|| = (λ d_<n,<e,t>>: (λ x_e: (Forall y_e: ((y_e ∈ C_{e}) >> (~(y_e == x_e) >> (Max_<{n},n>((Set d2_n: d_<n,<e,t>>(d2_n)(x_e))) > Max_<{n},n>((Set d2_n: d_<n,<e,t>>(d2_n)(y_e)))))))))'/<<n,<e,t>>,<e,t>> conflict (mode: Function Application), ||[[est C] [2 [[high t2] mountain]]]|| = Type mismatch: '||[est C]|| = (λ d_<n,<e,t>>: (λ x_e: (Forall y_e: ((y_e ∈ C_{e}) >> (~(y_e == x_e) >> (Max_<{n},n>((Set d2_n: d_<n,<e,t>>(d2_n)(x_e))) > Max_<{n},n>((Set d2_n: d_<n,<e,t>>(d2_n)(y_e)))))))))'/<<n,<e,t>>,<e,t>> and '||[2 [[high t2] mountain]]|| = (λ x1_n: (λ x_e: ((x1_n <= Height_<e,n>(x_e)) & Mt_<e,t>(x_e))))'/<n,<e,t>> conflict (mode: Predicate Modification), ||[[est C] [2 [[high t2] mountain]]]|| = Type mismatch: '||[est C]|| = (λ d_<n,<e,t>>: (λ x_e: (Forall y_e: ((y_e ∈ C_{e}) >> (~(y_e == x_e) >> (Max_<{n},n>((Set d2_n: d_<n,<e,t>>(d2_n)(x_e))) > Max_<{n},n>((Set d2_n: d_<n,<e,t>>(d2_n)(y_e)))))))))'/<<n,<e,t>>,<e,t>> and '||[2 [[high t2] mountain]]|| = (λ x1_n: (λ x_e: ((x1_n <= Height_<e,n>(x_e)) & Mt_<e,t>(x_e))))'/<n,<e,t>> conflict (mode: Predicate Abstraction), ||[[2 [[high t2] mountain]] [est C]]|| = Type mismatch: '||[2 [[high t2] mountain]]|| = (λ x1_n: (λ x_e: ((x1_n <= Height_<e,n>(x_e)) & Mt_<e,t>(x_e))))'/<n,<e,t>> and '||[est C]|| = (λ d_<n,<e,t>>: (λ x_e: (Forall y_e: ((y_e ∈ C_{e}) >> (~(y_e == x_e) >> (Max_<{n},n>((Set d2_n: d_<n,<e,t>>(d2_n)(x_e))) > Max_<{n},n>((Set d2_n: d_<n,<e,t>>(d2_n)(y_e)))))))))'/<<n,<e,t>>,<e,t>> conflict (mode: Predicate Abstraction), ||[[est C] [2 [[high t2] mountain]]]|| = Type mismatch: '||[est C]|| = (λ d_<n,<e,t>>: (λ x_e: (Forall y_e: ((y_e ∈ C_{e}) >> (~(y_e == x_e) >> (Max_<{n},n>((Set d2_n: d_<n,<e,t>>(d2_n)(x_e))) > Max_<{n},n>((Set d2_n: d_<n,<e,t>>(d2_n)(y_e)))))))))'/<<n,<e,t>>,<e,t>> and '||[2 [[high t2] mountain]]|| = (λ x1_n: (λ x_e: ((x1_n <= Height_<e,n>(x_e)) & Mt_<e,t>(x_e))))'/<n,<e,t>> conflict (mode: Predicate Abstraction), ||[[2 [[high t2] mountain]] [est C]]|| = Type mismatch: '||[2 [[high t2] mountain]]|| = (λ x1_n: (λ x_e: ((x1_n <= Height_<e,n>(x_e)) & Mt_<e,t>(x_e))))'/<n,<e,t>> and '||[est C]|| = (λ d_<n,<e,t>>: (λ x_e: (Forall y_e: ((y_e ∈ C_{e}) >> (~(y_e == x_e) >> (Max_<{n},n>((Set d2_n: d_<n,<e,t>>(d2_n)(x_e))) > Max_<{n},n>((Set d2_n: d_<n,<e,t>>(d2_n)(y_e)))))))))'/<<n,<e,t>>,<e,t>> conflict (mode: Predicate Abstraction)])"
      ]
     },
     "execution_count": 104,
     "metadata": {},
     "output_type": "execute_result"
    }
   ],
   "source": [
    "(est * C) * (binder * ((trace * high) * mountain))"
   ]
  },
  {
   "cell_type": "code",
   "execution_count": 105,
   "metadata": {
    "collapsed": false
   },
   "outputs": [
    {
     "data": {
      "text/latex": [
       "1 composition path.  Result:\n",
       "<br />&nbsp;&nbsp;&nbsp;&nbsp;[0]: $||\\mathbf{\\text{[[est C] [2 [climbed [the [[high t2] mountain]]]]]}}||^{}_{\\langle{}e,t\\rangle{}} \\:=\\: $$\\lambda{} x_{e} \\: . \\: \\forall{} y_{e} \\: . \\: (({y}_{e} \\in{} {C}_{\\{e\\}}) \\rightarrow{} (\\neg{} ({y}_{e} = {x}_{e}) \\rightarrow{} ({Max}_{\\langle{}\\{n\\},n\\rangle{}}(\\{d2_{n}\\:|\\: {Climbed}({x}_{e}, \\iota{} x1_{e} \\: . \\: (({d2}_{n} \\leq{} {Height}_{\\langle{}e,n\\rangle{}}({x1}_{e})) \\wedge{} {Mt}({x1}_{e})))\\}) > {Max}_{\\langle{}\\{n\\},n\\rangle{}}(\\{d2_{n}\\:|\\: {Climbed}({y}_{e}, \\iota{} x_{e} \\: . \\: (({d2}_{n} \\leq{} {Height}_{\\langle{}e,n\\rangle{}}({x}_{e})) \\wedge{} {Mt}({x}_{e})))\\}))))$"
      ],
      "text/plain": [
       "CompositionResult(results=[||[[est C] [2 [climbed [the [[high t2] mountain]]]]]|| = (λ x_e: (Forall y_e: ((y_e ∈ C_{e}) >> (~(y_e == x_e) >> (Max_<{n},n>((Set d2_n: Climbed_<(e,e),t>(x_e, (ι x_e: ((d2_n <= Height_<e,n>(x1_e)) & Mt_<e,t>(x1_e)))))) > Max_<{n},n>((Set d2_n: Climbed_<(e,e),t>(y_e, (ι x_e: ((d2_n <= Height_<e,n>(x_e)) & Mt_<e,t>(x_e)))))))))))], failures=[||[[2 [climbed [the [[high t2] mountain]]]] [est C]]|| = Type mismatch: '||[2 [climbed [the [[high t2] mountain]]]]|| = (λ x1_n: (λ y_e: Climbed_<(e,e),t>(y_e, (ι x_e: ((x1_n <= Height_<e,n>(x_e)) & Mt_<e,t>(x_e))))))'/<n,<e,t>> and '||[est C]|| = (λ d_<n,<e,t>>: (λ x_e: (Forall y_e: ((y_e ∈ C_{e}) >> (~(y_e == x_e) >> (Max_<{n},n>((Set d2_n: d_<n,<e,t>>(d2_n)(x_e))) > Max_<{n},n>((Set d2_n: d_<n,<e,t>>(d2_n)(y_e)))))))))'/<<n,<e,t>>,<e,t>> conflict (mode: Function Application), ||[[est C] [2 [climbed [the [[high t2] mountain]]]]]|| = Type mismatch: '||[est C]|| = (λ d_<n,<e,t>>: (λ x_e: (Forall y_e: ((y_e ∈ C_{e}) >> (~(y_e == x_e) >> (Max_<{n},n>((Set d2_n: d_<n,<e,t>>(d2_n)(x_e))) > Max_<{n},n>((Set d2_n: d_<n,<e,t>>(d2_n)(y_e)))))))))'/<<n,<e,t>>,<e,t>> and '||[2 [climbed [the [[high t2] mountain]]]]|| = (λ x1_n: (λ y_e: Climbed_<(e,e),t>(y_e, (ι x_e: ((x1_n <= Height_<e,n>(x_e)) & Mt_<e,t>(x_e))))))'/<n,<e,t>> conflict (mode: Predicate Modification), ||[[est C] [2 [climbed [the [[high t2] mountain]]]]]|| = Type mismatch: '||[est C]|| = (λ d_<n,<e,t>>: (λ x_e: (Forall y_e: ((y_e ∈ C_{e}) >> (~(y_e == x_e) >> (Max_<{n},n>((Set d2_n: d_<n,<e,t>>(d2_n)(x_e))) > Max_<{n},n>((Set d2_n: d_<n,<e,t>>(d2_n)(y_e)))))))))'/<<n,<e,t>>,<e,t>> and '||[2 [climbed [the [[high t2] mountain]]]]|| = (λ x1_n: (λ y_e: Climbed_<(e,e),t>(y_e, (ι x_e: ((x1_n <= Height_<e,n>(x_e)) & Mt_<e,t>(x_e))))))'/<n,<e,t>> conflict (mode: Predicate Abstraction), ||[[2 [climbed [the [[high t2] mountain]]]] [est C]]|| = Type mismatch: '||[2 [climbed [the [[high t2] mountain]]]]|| = (λ x1_n: (λ y_e: Climbed_<(e,e),t>(y_e, (ι x_e: ((x1_n <= Height_<e,n>(x_e)) & Mt_<e,t>(x_e))))))'/<n,<e,t>> and '||[est C]|| = (λ d_<n,<e,t>>: (λ x_e: (Forall y_e: ((y_e ∈ C_{e}) >> (~(y_e == x_e) >> (Max_<{n},n>((Set d2_n: d_<n,<e,t>>(d2_n)(x_e))) > Max_<{n},n>((Set d2_n: d_<n,<e,t>>(d2_n)(y_e)))))))))'/<<n,<e,t>>,<e,t>> conflict (mode: Predicate Abstraction), ||[[est C] [2 [climbed [the [[high t2] mountain]]]]]|| = Type mismatch: '||[est C]|| = (λ d_<n,<e,t>>: (λ x_e: (Forall y_e: ((y_e ∈ C_{e}) >> (~(y_e == x_e) >> (Max_<{n},n>((Set d2_n: d_<n,<e,t>>(d2_n)(x_e))) > Max_<{n},n>((Set d2_n: d_<n,<e,t>>(d2_n)(y_e)))))))))'/<<n,<e,t>>,<e,t>> and '||[2 [climbed [the [[high t2] mountain]]]]|| = (λ x1_n: (λ y_e: Climbed_<(e,e),t>(y_e, (ι x_e: ((x1_n <= Height_<e,n>(x_e)) & Mt_<e,t>(x_e))))))'/<n,<e,t>> conflict (mode: Predicate Abstraction), ||[[2 [climbed [the [[high t2] mountain]]]] [est C]]|| = Type mismatch: '||[2 [climbed [the [[high t2] mountain]]]]|| = (λ x1_n: (λ y_e: Climbed_<(e,e),t>(y_e, (ι x_e: ((x1_n <= Height_<e,n>(x_e)) & Mt_<e,t>(x_e))))))'/<n,<e,t>> and '||[est C]|| = (λ d_<n,<e,t>>: (λ x_e: (Forall y_e: ((y_e ∈ C_{e}) >> (~(y_e == x_e) >> (Max_<{n},n>((Set d2_n: d_<n,<e,t>>(d2_n)(x_e))) > Max_<{n},n>((Set d2_n: d_<n,<e,t>>(d2_n)(y_e)))))))))'/<<n,<e,t>>,<e,t>> conflict (mode: Predicate Abstraction)])"
      ]
     },
     "execution_count": 105,
     "metadata": {},
     "output_type": "execute_result"
    }
   ],
   "source": [
    "(est * C) * (binder * (climbed * (the * ((trace * high) * mountain))))"
   ]
  },
  {
   "cell_type": "code",
   "execution_count": 106,
   "metadata": {
    "collapsed": false
   },
   "outputs": [
    {
     "data": {
      "text/latex": [
       "$||\\mathbf{\\text{a2}}||^{}_{\\langle{}\\langle{}e,t\\rangle{},\\langle{}\\langle{}e,\\langle{}e,t\\rangle{}\\rangle{},\\langle{}e,t\\rangle{}\\rangle{}\\rangle{}} \\:=\\: \\lambda{} f_{\\langle{}e,t\\rangle{}} \\: . \\: \\lambda{} g_{\\langle{}e,\\langle{}e,t\\rangle{}\\rangle{}} \\: . \\: \\lambda{} y_{e} \\: . \\: \\exists{} x_{e} \\: . \\: ({f}_{\\langle{}e,t\\rangle{}}({x}_{e}) \\wedge{} {g}_{\\langle{}e,\\langle{}e,t\\rangle{}\\rangle{}}({x}_{e})({y}_{e}))$"
      ],
      "text/plain": [
       "$||\\mathbf{\\text{a2}}||^{}_{\\langle{}\\langle{}e,t\\rangle{},\\langle{}\\langle{}e,\\langle{}e,t\\rangle{}\\rangle{},\\langle{}e,t\\rangle{}\\rangle{}\\rangle{}} \\:=\\: \\lambda{} f_{\\langle{}e,t\\rangle{}} \\: . \\: \\lambda{} g_{\\langle{}e,\\langle{}e,t\\rangle{}\\rangle{}} \\: . \\: \\lambda{} y_{e} \\: . \\: \\exists{} x_{e} \\: . \\: ({f}_{\\langle{}e,t\\rangle{}}({x}_{e}) \\wedge{} {g}_{\\langle{}e,\\langle{}e,t\\rangle{}\\rangle{}}({x}_{e})({y}_{e}))$"
      ]
     },
     "execution_count": 106,
     "metadata": {},
     "output_type": "execute_result"
    }
   ],
   "source": [
    "%%lamb\n",
    "||a2|| = L f_<e,t> : L g_<e,<e,t>> : L y_e : Exists x_e : f(x) & g(x)(y) # type-lifted 'a'"
   ]
  },
  {
   "cell_type": "code",
   "execution_count": 107,
   "metadata": {
    "collapsed": false
   },
   "outputs": [
    {
     "data": {
      "text/latex": [
       "1 composition path.  Result:\n",
       "<br />&nbsp;&nbsp;&nbsp;&nbsp;[0]: $||\\mathbf{\\text{[[est C] [2 [[a2 [[high t2] mountain]] climbed]]]}}||^{}_{\\langle{}e,t\\rangle{}} \\:=\\: $$\\lambda{} x_{e} \\: . \\: \\forall{} y_{e} \\: . \\: (({y}_{e} \\in{} {C}_{\\{e\\}}) \\rightarrow{} (\\neg{} ({y}_{e} = {x}_{e}) \\rightarrow{} ({Max}_{\\langle{}\\{n\\},n\\rangle{}}(\\{d2_{n}\\:|\\: \\exists{} x1_{e} \\: . \\: ((({d2}_{n} \\leq{} {Height}_{\\langle{}e,n\\rangle{}}({x1}_{e})) \\wedge{} {Mt}({x1}_{e})) \\wedge{} {Climbed}({x}_{e}, {x1}_{e}))\\}) > {Max}_{\\langle{}\\{n\\},n\\rangle{}}(\\{d2_{n}\\:|\\: \\exists{} x_{e} \\: . \\: ((({d2}_{n} \\leq{} {Height}_{\\langle{}e,n\\rangle{}}({x}_{e})) \\wedge{} {Mt}({x}_{e})) \\wedge{} {Climbed}({y}_{e}, {x}_{e}))\\}))))$"
      ],
      "text/plain": [
       "CompositionResult(results=[||[[est C] [2 [[a2 [[high t2] mountain]] climbed]]]|| = (λ x_e: (Forall y_e: ((y_e ∈ C_{e}) >> (~(y_e == x_e) >> (Max_<{n},n>((Set d2_n: (Exists x1_e: (((d2_n <= Height_<e,n>(x1_e)) & Mt_<e,t>(x1_e)) & Climbed_<(e,e),t>(x_e, x1_e))))) > Max_<{n},n>((Set d2_n: (Exists x_e: (((d2_n <= Height_<e,n>(x_e)) & Mt_<e,t>(x_e)) & Climbed_<(e,e),t>(y_e, x_e))))))))))], failures=[||[[2 [[a2 [[high t2] mountain]] climbed]] [est C]]|| = Type mismatch: '||[2 [[a2 [[high t2] mountain]] climbed]]|| = (λ x1_n: (λ y_e: (Exists x_e: (((x1_n <= Height_<e,n>(x_e)) & Mt_<e,t>(x_e)) & Climbed_<(e,e),t>(y_e, x_e)))))'/<n,<e,t>> and '||[est C]|| = (λ d_<n,<e,t>>: (λ x_e: (Forall y_e: ((y_e ∈ C_{e}) >> (~(y_e == x_e) >> (Max_<{n},n>((Set d2_n: d_<n,<e,t>>(d2_n)(x_e))) > Max_<{n},n>((Set d2_n: d_<n,<e,t>>(d2_n)(y_e)))))))))'/<<n,<e,t>>,<e,t>> conflict (mode: Function Application), ||[[est C] [2 [[a2 [[high t2] mountain]] climbed]]]|| = Type mismatch: '||[est C]|| = (λ d_<n,<e,t>>: (λ x_e: (Forall y_e: ((y_e ∈ C_{e}) >> (~(y_e == x_e) >> (Max_<{n},n>((Set d2_n: d_<n,<e,t>>(d2_n)(x_e))) > Max_<{n},n>((Set d2_n: d_<n,<e,t>>(d2_n)(y_e)))))))))'/<<n,<e,t>>,<e,t>> and '||[2 [[a2 [[high t2] mountain]] climbed]]|| = (λ x1_n: (λ y_e: (Exists x_e: (((x1_n <= Height_<e,n>(x_e)) & Mt_<e,t>(x_e)) & Climbed_<(e,e),t>(y_e, x_e)))))'/<n,<e,t>> conflict (mode: Predicate Modification), ||[[est C] [2 [[a2 [[high t2] mountain]] climbed]]]|| = Type mismatch: '||[est C]|| = (λ d_<n,<e,t>>: (λ x_e: (Forall y_e: ((y_e ∈ C_{e}) >> (~(y_e == x_e) >> (Max_<{n},n>((Set d2_n: d_<n,<e,t>>(d2_n)(x_e))) > Max_<{n},n>((Set d2_n: d_<n,<e,t>>(d2_n)(y_e)))))))))'/<<n,<e,t>>,<e,t>> and '||[2 [[a2 [[high t2] mountain]] climbed]]|| = (λ x1_n: (λ y_e: (Exists x_e: (((x1_n <= Height_<e,n>(x_e)) & Mt_<e,t>(x_e)) & Climbed_<(e,e),t>(y_e, x_e)))))'/<n,<e,t>> conflict (mode: Predicate Abstraction), ||[[2 [[a2 [[high t2] mountain]] climbed]] [est C]]|| = Type mismatch: '||[2 [[a2 [[high t2] mountain]] climbed]]|| = (λ x1_n: (λ y_e: (Exists x_e: (((x1_n <= Height_<e,n>(x_e)) & Mt_<e,t>(x_e)) & Climbed_<(e,e),t>(y_e, x_e)))))'/<n,<e,t>> and '||[est C]|| = (λ d_<n,<e,t>>: (λ x_e: (Forall y_e: ((y_e ∈ C_{e}) >> (~(y_e == x_e) >> (Max_<{n},n>((Set d2_n: d_<n,<e,t>>(d2_n)(x_e))) > Max_<{n},n>((Set d2_n: d_<n,<e,t>>(d2_n)(y_e)))))))))'/<<n,<e,t>>,<e,t>> conflict (mode: Predicate Abstraction), ||[[est C] [2 [[a2 [[high t2] mountain]] climbed]]]|| = Type mismatch: '||[est C]|| = (λ d_<n,<e,t>>: (λ x_e: (Forall y_e: ((y_e ∈ C_{e}) >> (~(y_e == x_e) >> (Max_<{n},n>((Set d2_n: d_<n,<e,t>>(d2_n)(x_e))) > Max_<{n},n>((Set d2_n: d_<n,<e,t>>(d2_n)(y_e)))))))))'/<<n,<e,t>>,<e,t>> and '||[2 [[a2 [[high t2] mountain]] climbed]]|| = (λ x1_n: (λ y_e: (Exists x_e: (((x1_n <= Height_<e,n>(x_e)) & Mt_<e,t>(x_e)) & Climbed_<(e,e),t>(y_e, x_e)))))'/<n,<e,t>> conflict (mode: Predicate Abstraction), ||[[2 [[a2 [[high t2] mountain]] climbed]] [est C]]|| = Type mismatch: '||[2 [[a2 [[high t2] mountain]] climbed]]|| = (λ x1_n: (λ y_e: (Exists x_e: (((x1_n <= Height_<e,n>(x_e)) & Mt_<e,t>(x_e)) & Climbed_<(e,e),t>(y_e, x_e)))))'/<n,<e,t>> and '||[est C]|| = (λ d_<n,<e,t>>: (λ x_e: (Forall y_e: ((y_e ∈ C_{e}) >> (~(y_e == x_e) >> (Max_<{n},n>((Set d2_n: d_<n,<e,t>>(d2_n)(x_e))) > Max_<{n},n>((Set d2_n: d_<n,<e,t>>(d2_n)(y_e)))))))))'/<<n,<e,t>>,<e,t>> conflict (mode: Predicate Abstraction)])"
      ]
     },
     "execution_count": 107,
     "metadata": {},
     "output_type": "execute_result"
    }
   ],
   "source": [
    "(est * C) * (binder * (climbed * (a2 * ((trace * high) * mountain))))"
   ]
  },
  {
   "cell_type": "code",
   "execution_count": null,
   "metadata": {
    "collapsed": false
   },
   "outputs": [],
   "source": []
  }
 ],
 "metadata": {
  "kernelspec": {
   "display_name": "Lambda Notebook (Python 3)",
   "language": "python",
   "name": "lambda-notebook"
  },
  "language_info": {
   "codemirror_mode": {
    "name": "ipython",
    "version": 3
   },
   "file_extension": ".py",
   "mimetype": "text/x-python",
   "name": "python",
   "nbconvert_exporter": "python",
   "pygments_lexer": "ipython3",
   "version": "3.5.1"
  }
 },
 "nbformat": 4,
 "nbformat_minor": 0
}
