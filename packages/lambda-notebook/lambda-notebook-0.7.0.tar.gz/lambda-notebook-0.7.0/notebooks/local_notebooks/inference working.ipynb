{
 "cells": [
  {
   "cell_type": "code",
   "execution_count": 82,
   "id": "0ec505ea-966f-4d90-8d19-b0e6d4fdd692",
   "metadata": {
    "tags": []
   },
   "outputs": [],
   "source": [
    "reload_lamb()\n",
    "meta.get_type_system().add_atomic(types.BasicType(\"s\"))"
   ]
  },
  {
   "cell_type": "code",
   "execution_count": 60,
   "id": "713c7473-9daa-4ac7-b01c-578f591ac3fb",
   "metadata": {
    "tags": []
   },
   "outputs": [
    {
     "name": "stdout",
     "output_type": "stream",
     "text": [
      "INFO (core): Coerced guessed type for 'P_t' into <e,t>, to match argument 'x_e'\n"
     ]
    }
   ],
   "source": [
    "f = %te P(x_e)\n",
    "f2 = %te (Raining_<s,t>(w_s))"
   ]
  },
  {
   "cell_type": "code",
   "execution_count": 22,
   "id": "06cd6c93-a7bb-442e-b40c-a44b6248a980",
   "metadata": {
    "tags": []
   },
   "outputs": [
    {
     "data": {
      "text/plain": [
       "{'Raining', 'w'}"
      ]
     },
     "execution_count": 22,
     "metadata": {},
     "output_type": "execute_result"
    }
   ],
   "source": [
    "f2.free_terms()"
   ]
  },
  {
   "cell_type": "code",
   "execution_count": 23,
   "id": "48cbbfff-dc25-4519-89aa-3b3e39d0c8c8",
   "metadata": {
    "tags": []
   },
   "outputs": [
    {
     "data": {
      "text/plain": [
       "{'P': P_<e,t>, 'x': x_e}"
      ]
     },
     "execution_count": 23,
     "metadata": {},
     "output_type": "execute_result"
    }
   ],
   "source": [
    "f.type_env(constants=True)"
   ]
  },
  {
   "cell_type": "code",
   "execution_count": 15,
   "id": "06486daf-3a3f-416d-b1ec-40a3a9260673",
   "metadata": {
    "tags": []
   },
   "outputs": [
    {
     "data": {
      "text/latex": [
       "${P}({A}_{e})$"
      ],
      "text/plain": [
       "P_<e,t>(A_e)"
      ]
     },
     "execution_count": 15,
     "metadata": {},
     "output_type": "execute_result"
    }
   ],
   "source": [
    "f.under_assignment({'x': te(\"A_e\")})"
   ]
  },
  {
   "cell_type": "code",
   "execution_count": null,
   "id": "ad95348c-4907-4667-bd90-45bf32e89b5a",
   "metadata": {},
   "outputs": [],
   "source": []
  },
  {
   "cell_type": "code",
   "execution_count": null,
   "id": "391a57ad-fda5-46d9-b414-08466fe45580",
   "metadata": {},
   "outputs": [],
   "source": []
  },
  {
   "cell_type": "code",
   "execution_count": 24,
   "id": "668a3912-0b16-4a46-bfdb-ee77b96fe216",
   "metadata": {
    "tags": []
   },
   "outputs": [],
   "source": [
    "from nltk.sem import Valuation, Model\n",
    "v = [('adam', 'b1'), ('betty', 'g1'), ('fido', 'd1'), ('girl', set(['g1', 'g2'])),\n",
    "     ('boy', set(['b1', 'b2'])), ('dog', set(['d1'])),\n",
    "     ('love', set([('b1', 'g1'), ('b2', 'g2'), ('g1', 'b1'), ('g2', 'b1')]))]\n",
    "val = Valuation(v)\n",
    "dom = val.domain\n",
    "m = Model(dom, val)\n"
   ]
  },
  {
   "cell_type": "code",
   "execution_count": 27,
   "id": "556730ff-ca9c-4268-b892-b2bfc74ea4a1",
   "metadata": {
    "tags": []
   },
   "outputs": [
    {
     "data": {
      "text/plain": [
       "({'g2', 'b1', 'g1', 'd1', 'b2'}, {'adam': 'b1', 'betty': 'g1', 'fido': 'd1', 'girl': {('g1',), ('g2',)}, 'boy': {('b1',), ('b2',)}, 'dog': {('d1',)}, 'love': {('b2', 'g2'), ('g2', 'b1'), ('g1', 'b1'), ('b1', 'g1')}})"
      ]
     },
     "execution_count": 27,
     "metadata": {},
     "output_type": "execute_result"
    }
   ],
   "source": [
    "m"
   ]
  },
  {
   "cell_type": "code",
   "execution_count": 29,
   "id": "b0824418-371e-4df4-9c24-32a97fc35129",
   "metadata": {
    "tags": []
   },
   "outputs": [
    {
     "name": "stdout",
     "output_type": "stream",
     "text": [
      "\n",
      "******************************\n",
      "Propositional Formulas Demo\n",
      "******************************\n",
      "(Propositional constants treated as nullary predicates)\n",
      "\n",
      "Model m1:\n",
      " Domain = set(),\n",
      "Valuation = \n",
      "{'P': True, 'Q': True, 'R': False}\n",
      "******************************\n",
      "The value of '(P & Q)' is: True\n",
      "The value of '(P & R)' is: False\n",
      "The value of '- P' is: False\n",
      "The value of '- R' is: True\n",
      "The value of '- - P' is: True\n",
      "The value of '- (P & R)' is: True\n",
      "The value of '(P | R)' is: True\n",
      "The value of '(R | P)' is: True\n",
      "The value of '(R | R)' is: False\n",
      "The value of '(- P | R)' is: False\n",
      "The value of '(P | - P)' is: True\n",
      "The value of '(P -> Q)' is: True\n",
      "The value of '(P -> R)' is: False\n",
      "The value of '(R -> P)' is: True\n",
      "The value of '(P <-> P)' is: True\n",
      "The value of '(R <-> R)' is: True\n",
      "The value of '(P <-> R)' is: False\n"
     ]
    }
   ],
   "source": [
    "import nltk\n",
    "nltk.sem.evaluate.propdemo()"
   ]
  },
  {
   "cell_type": "code",
   "execution_count": 33,
   "id": "34d21062-7487-4386-a544-d983067a016a",
   "metadata": {
    "tags": []
   },
   "outputs": [
    {
     "data": {
      "text/latex": [
       "${P}({x}_{e})$"
      ],
      "text/plain": [
       "P_<e,t>(x_e)"
      ]
     },
     "execution_count": 33,
     "metadata": {},
     "output_type": "execute_result"
    }
   ],
   "source": [
    "te(\"L x_e : P_<e,t>(x)\").apply(te(\"x_e\"))"
   ]
  },
  {
   "cell_type": "code",
   "execution_count": 39,
   "id": "8db21fe1-22c3-45c1-81f5-c3d1f6831d20",
   "metadata": {
    "tags": []
   },
   "outputs": [
    {
     "data": {
      "text/latex": [
       "${P}_{\\left\\langle{}e,\\left\\langle{}e,t\\right\\rangle{}\\right\\rangle{}}({y}_{e})({x}_{e})$"
      ],
      "text/plain": [
       "P_<e,<e,t>>(y_e)(x_e)"
      ]
     },
     "execution_count": 39,
     "metadata": {},
     "output_type": "execute_result"
    }
   ],
   "source": [
    "te(\"P_<e,<e,t>>(y_e)\")(te(\"x_e\"))"
   ]
  },
  {
   "cell_type": "code",
   "execution_count": 83,
   "id": "d28e18dd-b03f-4c6c-9738-6ef1ffd5017c",
   "metadata": {
    "tags": []
   },
   "outputs": [],
   "source": [
    "f2 = %te (Raining_<s,t>(w_s))"
   ]
  },
  {
   "cell_type": "code",
   "execution_count": 84,
   "id": "529ae439-8f12-47ef-996f-bf5ff3e97a2a",
   "metadata": {
    "tags": []
   },
   "outputs": [
    {
     "data": {
      "text/plain": [
       "{'Raining': {'w1': True_t, 'w2': False_t}, 'w': 'w1'}"
      ]
     },
     "execution_count": 84,
     "metadata": {},
     "output_type": "execute_result"
    }
   ],
   "source": [
    "model = {'Raining': {'w1': te(\"True_t\"), 'w2': te(\"False_t\")}, 'w': 'w1'}\n",
    "model"
   ]
  },
  {
   "cell_type": "code",
   "execution_count": 85,
   "id": "b62d4939-5c13-46fb-a8cd-621d5427c103",
   "metadata": {
    "tags": []
   },
   "outputs": [],
   "source": [
    "def test_impl(self, arg):\n",
    "    if self.op in model and arg.op in model:\n",
    "        return model[self.op][model[arg.op]]\n",
    "    else:\n",
    "        return te(\"False_t\")\n",
    "\n",
    "f2[0].impl = test_impl"
   ]
  },
  {
   "cell_type": "markdown",
   "id": "dea851ff-b46f-4e59-bbb4-321fbe0ffbb4",
   "metadata": {},
   "source": [
    "should also:\n",
    "* check string against type (raise if mismatch)\n",
    "* optionally raise if arg is missing from op domain\n",
    "* not reduce if either is missing from the model"
   ]
  },
  {
   "cell_type": "code",
   "execution_count": 89,
   "id": "31a2f028-09a7-446d-9eca-0c3e4dcc4f30",
   "metadata": {
    "tags": []
   },
   "outputs": [
    {
     "data": {
      "text/latex": [
       "${Raining}_{\\left\\langle{}s,t\\right\\rangle{}}({w}_{s})$"
      ],
      "text/plain": [
       "Raining_<s,t>(w_s)"
      ]
     },
     "execution_count": 89,
     "metadata": {},
     "output_type": "execute_result"
    }
   ],
   "source": [
    "f2[0](f2[1]).reduce()"
   ]
  },
  {
   "cell_type": "code",
   "execution_count": 90,
   "id": "df9c29e9-bfbb-4687-91c9-496045d5ea07",
   "metadata": {
    "tags": []
   },
   "outputs": [
    {
     "data": {
      "text/latex": [
       "$s$"
      ],
      "text/plain": [
       "s"
      ]
     },
     "execution_count": 90,
     "metadata": {},
     "output_type": "execute_result"
    }
   ],
   "source": [
    "list(meta.get_type_system().atomics)[1]"
   ]
  },
  {
   "cell_type": "code",
   "execution_count": 58,
   "id": "5c3a63e4-cb4c-48f3-b75e-5ba3f5658dbf",
   "metadata": {
    "tags": []
   },
   "outputs": [
    {
     "data": {
      "text/plain": [
       "<lamb.types.SimpleInfiniteSet at 0x16409b520>"
      ]
     },
     "execution_count": 58,
     "metadata": {},
     "output_type": "execute_result"
    }
   ],
   "source": [
    "tp(\"s\").domain"
   ]
  },
  {
   "cell_type": "code",
   "execution_count": null,
   "id": "49ca184f-7f73-453b-bc27-6305cbb4ac70",
   "metadata": {},
   "outputs": [],
   "source": []
  }
 ],
 "metadata": {
  "kernelspec": {
   "display_name": "Lambda Notebook-dev (Python 3)",
   "language": "python",
   "name": "lambda-notebook-dev"
  },
  "language_info": {
   "codemirror_mode": {
    "name": "ipython",
    "version": 3
   },
   "file_extension": ".py",
   "mimetype": "text/x-python",
   "name": "python",
   "nbconvert_exporter": "python",
   "pygments_lexer": "ipython3",
   "version": "3.10.9"
  }
 },
 "nbformat": 4,
 "nbformat_minor": 5
}
