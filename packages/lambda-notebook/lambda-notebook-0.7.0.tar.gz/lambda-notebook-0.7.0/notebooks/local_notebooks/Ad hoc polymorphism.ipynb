{
 "cells": [
  {
   "cell_type": "code",
   "execution_count": 142,
   "metadata": {
    "collapsed": false
   },
   "outputs": [],
   "source": [
    "reload_lamb()"
   ]
  },
  {
   "cell_type": "markdown",
   "metadata": {},
   "source": [
    "# Ad-hoc polymorphism via disjunctive types\n",
    "\n",
    "The lambda notebook supports ad-hoc polymorphism via what are called disjunctive types.  A disjunctive type is effectively a set of types that unifies with another type if either (i) that type is disjunctive and there is overlap, or (ii) that type is a member of the disjunctive type.  If the result of unification would be a singleton, the resulting type is the unique member of that singleton.  Disjunctive types are written with square brackets and `|` as the separator.  They can be written recursively, but will be interpreted with that recursion flattened out.\n",
    "\n",
    "**examples**\n",
    "1. `[e|t]` and `[e|t]` unify to `[e|t]` (reflexivity)\n",
    "2. Disjunctive types are normalized alphabetically, so for example `[t|e]` is normalized as `[e|t]`.  This ensures symmetry.\n",
    "3. `[e|t|<e,t>]` and `[e|t|n]` unify to `[e|t]`\n",
    "4. `[e|t]` and `e` unify to `e`.\n",
    "5. `[e|t]` and `[t|n]` unify to `t`.\n",
    "6. `[e]` is invalid.  So is `[e|e]`, etc.\n",
    "7. `[e|e|t]` is interpreted as just `[e|t]`.\n",
    "8. `[e|[n|t]]` is interpreted as just `[e|n|t]`\n",
    "\n",
    "One further constraint is that type variables (or types using them) cannot be disjoined."
   ]
  },
  {
   "cell_type": "code",
   "execution_count": 143,
   "metadata": {
    "collapsed": false
   },
   "outputs": [
    {
     "data": {
      "text/latex": [
       "${\\left[e\\mid{}t\\right]}$"
      ],
      "text/plain": [
       "[e|t]"
      ]
     },
     "execution_count": 143,
     "metadata": {},
     "output_type": "execute_result"
    }
   ],
   "source": [
    "unify(tp(\"[e|t]\"), tp(\"[e|t]\"))"
   ]
  },
  {
   "cell_type": "code",
   "execution_count": 144,
   "metadata": {
    "collapsed": false
   },
   "outputs": [
    {
     "data": {
      "text/latex": [
       "${\\left[e\\mid{}t\\right]}$"
      ],
      "text/plain": [
       "[e|t]"
      ]
     },
     "execution_count": 144,
     "metadata": {},
     "output_type": "execute_result"
    }
   ],
   "source": [
    "tp(\"[t|e]\")"
   ]
  },
  {
   "cell_type": "code",
   "execution_count": 145,
   "metadata": {
    "collapsed": false
   },
   "outputs": [
    {
     "data": {
      "text/latex": [
       "${\\left[e\\mid{}t\\right]}$"
      ],
      "text/plain": [
       "[e|t]"
      ]
     },
     "execution_count": 145,
     "metadata": {},
     "output_type": "execute_result"
    }
   ],
   "source": [
    "unify(tp(\"[e|t|<e,t>]\"), tp(\"[e|t|n]\"))"
   ]
  },
  {
   "cell_type": "code",
   "execution_count": 146,
   "metadata": {
    "collapsed": false
   },
   "outputs": [
    {
     "data": {
      "text/latex": [
       "$e$"
      ],
      "text/plain": [
       "e"
      ]
     },
     "execution_count": 146,
     "metadata": {},
     "output_type": "execute_result"
    }
   ],
   "source": [
    "unify(tp(\"[e|t]\"), tp(\"e\"))"
   ]
  },
  {
   "cell_type": "code",
   "execution_count": 147,
   "metadata": {
    "collapsed": false
   },
   "outputs": [
    {
     "data": {
      "text/latex": [
       "$t$"
      ],
      "text/plain": [
       "t"
      ]
     },
     "execution_count": 147,
     "metadata": {},
     "output_type": "execute_result"
    }
   ],
   "source": [
    "unify(tp(\"[e|t]\"), tp(\"[t|n]\"))"
   ]
  },
  {
   "cell_type": "code",
   "execution_count": 148,
   "metadata": {
    "collapsed": false
   },
   "outputs": [
    {
     "name": "stdout",
     "output_type": "stream",
     "text": [
      "Disjunctive type must have multiple unique disjuncts at point '!here![e]'\n"
     ]
    }
   ],
   "source": [
    "try:\n",
    "    tp(\"[e]\")\n",
    "except types.TypeParseError as e:\n",
    "    print(e)"
   ]
  },
  {
   "cell_type": "code",
   "execution_count": 149,
   "metadata": {
    "collapsed": false
   },
   "outputs": [
    {
     "name": "stdout",
     "output_type": "stream",
     "text": [
      "Disjunctive type must have multiple unique disjuncts at point '!here![e|e]'\n"
     ]
    }
   ],
   "source": [
    "try:\n",
    "    tp(\"[e|e]\")\n",
    "except types.TypeParseError as e:\n",
    "    print(e)"
   ]
  },
  {
   "cell_type": "code",
   "execution_count": 150,
   "metadata": {
    "collapsed": false
   },
   "outputs": [
    {
     "data": {
      "text/latex": [
       "${\\left[e\\mid{}t\\right]}$"
      ],
      "text/plain": [
       "[e|t]"
      ]
     },
     "execution_count": 150,
     "metadata": {},
     "output_type": "execute_result"
    }
   ],
   "source": [
    "tp(\"[e|e|t]\")"
   ]
  },
  {
   "cell_type": "code",
   "execution_count": 151,
   "metadata": {
    "collapsed": false
   },
   "outputs": [
    {
     "data": {
      "text/latex": [
       "${\\left[e\\mid{}n\\mid{}t\\right]}$"
      ],
      "text/plain": [
       "[e|n|t]"
      ]
     },
     "execution_count": 151,
     "metadata": {},
     "output_type": "execute_result"
    }
   ],
   "source": [
    "tp(\"[e|[n|t]]\")"
   ]
  },
  {
   "cell_type": "markdown",
   "metadata": {},
   "source": [
    "## Using disjunctive types in expressions\n",
    "\n",
    "Disjunctive types can be straightforwardly used as term types, and all appropriate type inference should happen as expected.  This is the most typical use in linguistics, where someone might want to express that a (not-further-defined) constant is polymorphic in some way."
   ]
  },
  {
   "cell_type": "code",
   "execution_count": 152,
   "metadata": {
    "collapsed": false
   },
   "outputs": [
    {
     "name": "stdout",
     "output_type": "stream",
     "text": [
      "INFO (meta): Coerced guessed type for 'Equivalent_t' into <[e|n],t>, to match argument 'x_[e|n]'\n"
     ]
    },
    {
     "data": {
      "text/html": [
       "$[\\![\\mathbf{\\text{equals}}]\\!]^{}_{\\left\\langle{}{\\left[e\\mid{}n\\right]},t\\right\\rangle{}} \\:=\\: $$\\lambda{} x_{{\\left[e\\mid{}n\\right]}} \\: . \\: {Equivalent}_{\\left\\langle{}{\\left[e\\mid{}n\\right]},t\\right\\rangle{}}({x})$<br />\n",
       "${x}_{e}\\:=\\:{x}_{e}$"
      ],
      "text/latex": [
       "$[\\![\\mathbf{\\text{equals}}]\\!]^{}_{\\left\\langle{}{\\left[e\\mid{}n\\right]},t\\right\\rangle{}} \\:=\\: $$\\lambda{} x_{{\\left[e\\mid{}n\\right]}} \\: . \\: {Equivalent}_{\\left\\langle{}{\\left[e\\mid{}n\\right]},t\\right\\rangle{}}({x})$<br />\n",
       "${x}_{e}\\:=\\:{x}_{e}$"
      ],
      "text/plain": [
       "$[\\![\\mathbf{\\text{equals}}]\\!]^{}_{\\left\\langle{}{\\left[e\\mid{}n\\right]},t\\right\\rangle{}} \\:=\\: $$\\lambda{} x_{{\\left[e\\mid{}n\\right]}} \\: . \\: {Equivalent}_{\\left\\langle{}{\\left[e\\mid{}n\\right]},t\\right\\rangle{}}({x})$<br />\n",
       "${x}_{e}\\:=\\:{x}_{e}$"
      ]
     },
     "execution_count": 152,
     "metadata": {},
     "output_type": "execute_result"
    }
   ],
   "source": [
    "%%lamb \n",
    "||equals|| = L x_[e|n] : Equivalent(x)\n",
    "x = x_e"
   ]
  },
  {
   "cell_type": "code",
   "execution_count": 153,
   "metadata": {
    "collapsed": false
   },
   "outputs": [
    {
     "data": {
      "text/latex": [
       "${[\\lambda{} x_{e} \\: . \\: {Equivalent}({x})]}({x}_{e})$"
      ],
      "text/plain": [
       "((λ x_e: Equivalent_<e,t>(x_e)))(x_e)"
      ]
     },
     "execution_count": 153,
     "metadata": {},
     "output_type": "execute_result"
    }
   ],
   "source": [
    "equals.content(x) # forces narrowing of the argument type"
   ]
  },
  {
   "cell_type": "code",
   "execution_count": 154,
   "metadata": {
    "collapsed": false
   },
   "outputs": [
    {
     "data": {
      "text/latex": [
       "${P}_{\\left\\langle{}n,t\\right\\rangle{}}({x}_{n})$"
      ],
      "text/plain": [
       "P_<n,t>(x_n)"
      ]
     },
     "execution_count": 154,
     "metadata": {},
     "output_type": "execute_result"
    }
   ],
   "source": [
    "%te P_<[e|n],t>(x_[n|t]) # forces narrowing of both types"
   ]
  },
  {
   "cell_type": "code",
   "execution_count": 155,
   "metadata": {
    "collapsed": false
   },
   "outputs": [
    {
     "data": {
      "text/latex": [
       "${[\\lambda{} x_{n} \\: . \\: {P}_{\\left\\langle{}n,t\\right\\rangle{}}({x})]}({C}_{n})$"
      ],
      "text/plain": [
       "((λ x_n: P_<n,t>(x_n)))(C_n)"
      ]
     },
     "execution_count": 155,
     "metadata": {},
     "output_type": "execute_result"
    }
   ],
   "source": [
    "%te (L x_[e|n] : P_<[e|n],t>(x))(C_n) # forces narrowing including of both x and, indirectly, the predicate's type"
   ]
  },
  {
   "cell_type": "markdown",
   "metadata": {},
   "source": [
    "While you can't use variable types in disjunctive types, they will unify with variable types correctly:"
   ]
  },
  {
   "cell_type": "code",
   "execution_count": 156,
   "metadata": {
    "collapsed": false
   },
   "outputs": [
    {
     "data": {
      "text/latex": [
       "${[\\lambda{} x_{{\\left[e\\mid{}n\\right]}} \\: . \\: {P}_{\\left\\langle{}{\\left[e\\mid{}n\\right]},t\\right\\rangle{}}({x})]}({C}_{{\\left[e\\mid{}n\\right]}})$"
      ],
      "text/plain": [
       "((λ x_[e|n]: P_<[e|n],t>(x_[e|n])))(C_[e|n])"
      ]
     },
     "execution_count": 156,
     "metadata": {},
     "output_type": "execute_result"
    }
   ],
   "source": [
    "te(\"(L x_[e|n] : P_<[e|n|t],t>(x))(C_X)\")"
   ]
  },
  {
   "cell_type": "markdown",
   "metadata": {},
   "source": [
    "The other way to use disjunctive types is via a `Disjunctive` expression.  This gives, basically, a disjunctive formula, where type inference will choose between expressions depending on type.  You can think of this (in a roundabout way) as something like a `dict`/hashtable mapping types to expressions.  This may help understand some odd corner cases -- `Disjunctive` expressions have to ensure that every non-disjunctive type is mapped to a unique expression.  A disjunctive expression displays as the function Disjunctive, with the type annotated as a superscript."
   ]
  },
  {
   "cell_type": "code",
   "execution_count": 157,
   "metadata": {
    "collapsed": false
   },
   "outputs": [
    {
     "data": {
      "text/latex": [
       "${Disjunctive}^{{\\left[e\\mid{}n\\mid{}t\\right]}}({A}_{e}, {B}_{n}, {C}_{t})$"
      ],
      "text/plain": [
       "Disjunctive(A_e,B_n,C_t)"
      ]
     },
     "execution_count": 157,
     "metadata": {},
     "output_type": "execute_result"
    }
   ],
   "source": [
    "x = %te Disjunctive(A_e, B_n, C_t)\n",
    "x"
   ]
  },
  {
   "cell_type": "markdown",
   "metadata": {},
   "source": [
    "Adjusting the type, either explicitly or implicitly, can narrow down the formula, resulting in either another Disjunctive type, or just some TypedExpr.  (Or `None`, if the adjustment fails.)"
   ]
  },
  {
   "cell_type": "code",
   "execution_count": 158,
   "metadata": {
    "collapsed": false
   },
   "outputs": [
    {
     "data": {
      "text/latex": [
       "${A}_{e}$"
      ],
      "text/plain": [
       "A_e"
      ]
     },
     "execution_count": 158,
     "metadata": {},
     "output_type": "execute_result"
    }
   ],
   "source": [
    "x.try_adjust_type(tp(\"e\"))"
   ]
  },
  {
   "cell_type": "code",
   "execution_count": 159,
   "metadata": {
    "collapsed": false
   },
   "outputs": [
    {
     "data": {
      "text/latex": [
       "${Disjunctive}^{{\\left[e\\mid{}t\\right]}}({A}_{e}, {C}_{t})$"
      ],
      "text/plain": [
       "Disjunctive(A_e,C_t)"
      ]
     },
     "execution_count": 159,
     "metadata": {},
     "output_type": "execute_result"
    }
   ],
   "source": [
    "x.try_adjust_type(tp(\"[e|t]\"))"
   ]
  },
  {
   "cell_type": "code",
   "execution_count": 160,
   "metadata": {
    "collapsed": false
   },
   "outputs": [],
   "source": [
    "x.try_adjust_type(tp(\"[e|t]\")).try_adjust_type(tp(\"n\"))"
   ]
  },
  {
   "cell_type": "code",
   "execution_count": null,
   "metadata": {
    "collapsed": true
   },
   "outputs": [],
   "source": []
  },
  {
   "cell_type": "code",
   "execution_count": 161,
   "metadata": {
    "collapsed": false
   },
   "outputs": [
    {
     "data": {
      "text/latex": [
       "${Disjunctive}^{{\\left[e\\mid{}t\\right]}}({x}_{e}, {z}_{t})$"
      ],
      "text/plain": [
       "Disjunctive(x_e,z_t)"
      ]
     },
     "execution_count": 161,
     "metadata": {},
     "output_type": "execute_result"
    }
   ],
   "source": [
    "te(\"Disjunctive(x_e, y_[<e,t>|n], z_t)\").try_adjust_type(tp(\"[e|t]\"))"
   ]
  },
  {
   "cell_type": "markdown",
   "metadata": {},
   "source": [
    "Disjuncts most have unique types, or more generally, must lead deterministically to unique formulas for every type refinement.  So the following cases are out.  The second, more complicated case, would lack a unique refinement at type `e`."
   ]
  },
  {
   "cell_type": "code",
   "execution_count": 162,
   "metadata": {
    "collapsed": false
   },
   "outputs": [
    {
     "name": "stderr",
     "output_type": "stream",
     "text": [
      "ERROR (parsing): Parsing of typed expression failed with exception:\n",
      "ERROR (parsing): Disjunctive type must have multiple unique disjuncts\n"
     ]
    }
   ],
   "source": [
    "%te Disjunctive(x_e, y_e)"
   ]
  },
  {
   "cell_type": "code",
   "execution_count": 163,
   "metadata": {
    "collapsed": false
   },
   "outputs": [
    {
     "name": "stderr",
     "output_type": "stream",
     "text": [
      "ERROR (parsing): Parsing of typed expression failed with exception:\n",
      "ERROR (parsing): Disjoined expressions must determine unique types (type e appears duplicated in expression 'y_e')\n"
     ]
    }
   ],
   "source": [
    "%te Disjunctive(x_e, y_e, z_[e|t])"
   ]
  },
  {
   "cell_type": "markdown",
   "metadata": {},
   "source": [
    "While disjunctive types cannot recurse, Disjunction expressions can recurse or involve multiple disjunctive types, as long as they obey the other type constraints.  (There still must be a unique refinement.)  Type adjustment will result in flattening of Disjunctions."
   ]
  },
  {
   "cell_type": "code",
   "execution_count": 164,
   "metadata": {
    "collapsed": false
   },
   "outputs": [
    {
     "data": {
      "text/latex": [
       "${Disjunctive}^{{\\left[e\\mid{}n\\mid{}t\\right]}}({x}_{e}, {Disjunctive}^{{\\left[n\\mid{}t\\right]}}({y}_{n}, {z}_{t}))$"
      ],
      "text/plain": [
       "Disjunctive(x_e,Disjunctive(y_n,z_t))"
      ]
     },
     "execution_count": 164,
     "metadata": {},
     "output_type": "execute_result"
    }
   ],
   "source": [
    "r = %te Disjunctive(x_e, Disjunctive(y_n, z_t))\n",
    "r"
   ]
  },
  {
   "cell_type": "code",
   "execution_count": 165,
   "metadata": {
    "collapsed": false
   },
   "outputs": [
    {
     "data": {
      "text/latex": [
       "${y}_{n}$"
      ],
      "text/plain": [
       "y_n"
      ]
     },
     "execution_count": 165,
     "metadata": {},
     "output_type": "execute_result"
    }
   ],
   "source": [
    "r.try_adjust_type(tp(\"n\"))"
   ]
  },
  {
   "cell_type": "code",
   "execution_count": 166,
   "metadata": {
    "collapsed": false
   },
   "outputs": [
    {
     "data": {
      "text/latex": [
       "${Disjunctive}^{{\\left[e\\mid{}n\\right]}}({x}_{e}, {y}_{n})$"
      ],
      "text/plain": [
       "Disjunctive(x_e,y_n)"
      ]
     },
     "execution_count": 166,
     "metadata": {},
     "output_type": "execute_result"
    }
   ],
   "source": [
    "r.try_adjust_type(tp(\"[e|n]\"))"
   ]
  },
  {
   "cell_type": "code",
   "execution_count": 167,
   "metadata": {
    "collapsed": false
   },
   "outputs": [
    {
     "data": {
      "text/latex": [
       "${Disjunctive}^{{\\left[n\\mid{}t\\right]}}({y}_{n}, {z}_{t})$"
      ],
      "text/plain": [
       "Disjunctive(y_n,z_t)"
      ]
     },
     "execution_count": 167,
     "metadata": {},
     "output_type": "execute_result"
    }
   ],
   "source": [
    "r.try_adjust_type(tp(\"[n|t]\"))"
   ]
  },
  {
   "cell_type": "code",
   "execution_count": 168,
   "metadata": {
    "collapsed": false
   },
   "outputs": [
    {
     "data": {
      "text/latex": [
       "${Disjunctive}^{{\\left[\\left\\langle{}e,t\\right\\rangle{}\\mid{}e\\mid{}n\\right]}}({x}_{e}, {y}_{{\\left[\\left\\langle{}e,t\\right\\rangle{}\\mid{}n\\right]}})$"
      ],
      "text/plain": [
       "Disjunctive(x_e,y_[<e,t>|n])"
      ]
     },
     "execution_count": 168,
     "metadata": {},
     "output_type": "execute_result"
    }
   ],
   "source": [
    "%te Disjunctive(x_e, y_[<e,t>|n])"
   ]
  },
  {
   "cell_type": "markdown",
   "metadata": {},
   "source": [
    "Quite complex things are possible with disjunctive types, once you combine them with other tools.  Keep in mind, though, that type inference on variables must be stable across all instances of that variable's use."
   ]
  },
  {
   "cell_type": "code",
   "execution_count": 195,
   "metadata": {
    "collapsed": false
   },
   "outputs": [
    {
     "data": {
      "text/latex": [
       "$\\lambda{} x_{e} \\: . \\: {Disjunctive}^{{\\left[e\\mid{}t\\right]}}({x}, {False}_{t})$"
      ],
      "text/plain": [
       "(λ x_e: Disjunctive(x_e,False_t))"
      ]
     },
     "execution_count": 195,
     "metadata": {},
     "output_type": "execute_result"
    }
   ],
   "source": [
    "f = %te L x_e : Disjunctive(x_[e|n], False_t)\n",
    "f"
   ]
  },
  {
   "cell_type": "code",
   "execution_count": 196,
   "metadata": {
    "collapsed": false
   },
   "outputs": [
    {
     "data": {
      "text/latex": [
       "${Disjunctive}^{{\\left[e\\mid{}t\\right]}}({A}_{e}, {y}_{t})$"
      ],
      "text/plain": [
       "Disjunctive(A_e,y_t)"
      ]
     },
     "execution_count": 196,
     "metadata": {},
     "output_type": "execute_result"
    }
   ],
   "source": [
    "%te reduce (L x_e : Disjunctive(x_[e|n], y_t))(A_e)"
   ]
  },
  {
   "cell_type": "code",
   "execution_count": 197,
   "metadata": {
    "collapsed": false
   },
   "outputs": [
    {
     "name": "stdout",
     "output_type": "stream",
     "text": [
      "INFO (meta): Coerced guessed type for 'P_t' into <[e|t],t>, to match argument 'x_[e|t]'\n"
     ]
    },
    {
     "data": {
      "text/latex": [
       "$({P}_{\\left\\langle{}t,t\\right\\rangle{}}({y}_{t}) \\wedge{} {y}_{t})$"
      ],
      "text/plain": [
       "(P_<t,t>(y_t) & y_t)"
      ]
     },
     "execution_count": 197,
     "metadata": {},
     "output_type": "execute_result"
    }
   ],
   "source": [
    "%te reduce (L x_[e|t] : P(x) & x)((L x_e : Disjunctive(x_[e|n], y_t))(A_e))"
   ]
  },
  {
   "cell_type": "code",
   "execution_count": null,
   "metadata": {
    "collapsed": true
   },
   "outputs": [],
   "source": []
  }
 ],
 "metadata": {
  "kernelspec": {
   "display_name": "Lambda Notebook (Python 3)",
   "language": "python",
   "name": "lambda-notebook"
  },
  "language_info": {
   "codemirror_mode": {
    "name": "ipython",
    "version": 3
   },
   "file_extension": ".py",
   "mimetype": "text/x-python",
   "name": "python",
   "nbconvert_exporter": "python",
   "pygments_lexer": "ipython3",
   "version": "3.5.1"
  }
 },
 "nbformat": 4,
 "nbformat_minor": 1
}
