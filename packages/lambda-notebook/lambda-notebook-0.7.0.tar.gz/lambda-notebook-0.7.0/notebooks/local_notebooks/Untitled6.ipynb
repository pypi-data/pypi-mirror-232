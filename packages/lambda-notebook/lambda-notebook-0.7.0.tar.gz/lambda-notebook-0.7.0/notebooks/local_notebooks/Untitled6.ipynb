{
 "cells": [
  {
   "cell_type": "code",
   "execution_count": 3,
   "id": "d5175832-aa73-4298-8140-4da5f0ba91ff",
   "metadata": {},
   "outputs": [
    {
     "ename": "ModuleNotFoundError",
     "evalue": "No module named 'lamb'",
     "output_type": "error",
     "traceback": [
      "\u001b[0;31m---------------------------------------------------------------------------\u001b[0m",
      "\u001b[0;31mModuleNotFoundError\u001b[0m                       Traceback (most recent call last)",
      "Cell \u001b[0;32mIn[3], line 1\u001b[0m\n\u001b[0;32m----> 1\u001b[0m \u001b[38;5;28;01mimport\u001b[39;00m \u001b[38;5;21;01mlamb\u001b[39;00m\n",
      "\u001b[0;31mModuleNotFoundError\u001b[0m: No module named 'lamb'"
     ]
    }
   ],
   "source": [
    "import lamb"
   ]
  },
  {
   "cell_type": "code",
   "execution_count": 4,
   "id": "78accb8f-b0cc-4501-a8c6-cb62ab39c760",
   "metadata": {},
   "outputs": [
    {
     "data": {
      "text/plain": [
       "['/Users/krawlin2/Dropbox/notebooks',\n",
       " '/Users/krawlin2/miniforge3/envs/lnb/lib/python311.zip',\n",
       " '/Users/krawlin2/miniforge3/envs/lnb/lib/python3.11',\n",
       " '/Users/krawlin2/miniforge3/envs/lnb/lib/python3.11/lib-dynload',\n",
       " '',\n",
       " '/Users/krawlin2/miniforge3/envs/lnb/lib/python3.11/site-packages']"
      ]
     },
     "execution_count": 4,
     "metadata": {},
     "output_type": "execute_result"
    }
   ],
   "source": [
    "import sys\n",
    "sys.path"
   ]
  },
  {
   "cell_type": "code",
   "execution_count": null,
   "id": "322d7b2e-3d4e-45ea-a9ae-04df1d8bc1a1",
   "metadata": {},
   "outputs": [],
   "source": []
  }
 ],
 "metadata": {
  "kernelspec": {
   "display_name": "Python 3 (ipykernel)",
   "language": "python",
   "name": "python3"
  },
  "language_info": {
   "codemirror_mode": {
    "name": "ipython",
    "version": 3
   },
   "file_extension": ".py",
   "mimetype": "text/x-python",
   "name": "python",
   "nbconvert_exporter": "python",
   "pygments_lexer": "ipython3",
   "version": "3.11.3"
  }
 },
 "nbformat": 4,
 "nbformat_minor": 5
}
