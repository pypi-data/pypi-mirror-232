{
 "cells": [
  {
   "cell_type": "code",
   "execution_count": 2,
   "metadata": {
    "collapsed": true,
    "jupyter": {
     "outputs_hidden": true
    }
   },
   "outputs": [],
   "source": [
    "reload_lamb()"
   ]
  },
  {
   "cell_type": "code",
   "execution_count": 1,
   "metadata": {
    "collapsed": false,
    "jupyter": {
     "outputs_hidden": false
    }
   },
   "outputs": [
    {
     "data": {
      "text/latex": [
       "Type system with atomic types: $e, t, s, n$"
      ],
      "text/plain": [
       "<lamb.types.PolyTypeSystem at 0x108454650>"
      ]
     },
     "execution_count": 1,
     "metadata": {},
     "output_type": "execute_result"
    }
   ],
   "source": [
    "type_s = types.BasicType(\"s\")\n",
    "lang.get_system().add_basic_type(type_s)\n",
    "meta.get_type_system()"
   ]
  },
  {
   "cell_type": "code",
   "execution_count": 2,
   "metadata": {
    "collapsed": false,
    "jupyter": {
     "outputs_hidden": false
    }
   },
   "outputs": [
    {
     "data": {
      "text/html": [
       "${raining}_{\\left\\langle{}s,t\\right\\rangle{}}\\:=\\:{raining}_{\\left\\langle{}s,t\\right\\rangle{}}$<br />\n",
       "${sunny}_{\\left\\langle{}s,t\\right\\rangle{}}\\:=\\:{sunny}_{\\left\\langle{}s,t\\right\\rangle{}}$<br />\n",
       "${party}_{\\left\\langle{}s,t\\right\\rangle{}}\\:=\\:{party}_{\\left\\langle{}s,t\\right\\rangle{}}$"
      ],
      "text/latex": [
       "${raining}_{\\left\\langle{}s,t\\right\\rangle{}}\\:=\\:{raining}_{\\left\\langle{}s,t\\right\\rangle{}}$<br />\n",
       "${sunny}_{\\left\\langle{}s,t\\right\\rangle{}}\\:=\\:{sunny}_{\\left\\langle{}s,t\\right\\rangle{}}$<br />\n",
       "${party}_{\\left\\langle{}s,t\\right\\rangle{}}\\:=\\:{party}_{\\left\\langle{}s,t\\right\\rangle{}}$"
      ],
      "text/plain": [
       "${raining}_{\\left\\langle{}s,t\\right\\rangle{}}\\:=\\:{raining}_{\\left\\langle{}s,t\\right\\rangle{}}$<br />\n",
       "${sunny}_{\\left\\langle{}s,t\\right\\rangle{}}\\:=\\:{sunny}_{\\left\\langle{}s,t\\right\\rangle{}}$<br />\n",
       "${party}_{\\left\\langle{}s,t\\right\\rangle{}}\\:=\\:{party}_{\\left\\langle{}s,t\\right\\rangle{}}$"
      ]
     },
     "metadata": {},
     "output_type": "display_data"
    }
   ],
   "source": [
    "%%lamb\n",
    "raining = raining_<s,t>\n",
    "sunny = sunny_<s,t>\n",
    "party = party_<s,t>"
   ]
  },
  {
   "cell_type": "code",
   "execution_count": 3,
   "metadata": {
    "tags": []
   },
   "outputs": [],
   "source": [
    "class Scenario(object):\n",
    "    def __init__(self, formulas):\n",
    "        self.formulas = formulas\n",
    "        self.generate()"
   ]
  },
  {
   "cell_type": "code",
   "execution_count": 8,
   "metadata": {
    "collapsed": false,
    "jupyter": {
     "outputs_hidden": false
    }
   },
   "outputs": [
    {
     "data": {
      "text/plain": [
       "lamb.types.BasicType"
      ]
     },
     "execution_count": 8,
     "metadata": {},
     "output_type": "execute_result"
    }
   ],
   "source": [
    "raining.type[0].__class__"
   ]
  },
  {
   "cell_type": "code",
   "execution_count": null,
   "metadata": {
    "collapsed": true,
    "jupyter": {
     "outputs_hidden": true
    }
   },
   "outputs": [],
   "source": []
  }
 ],
 "metadata": {
  "kernelspec": {
   "display_name": "Lambda Notebook (Python 3)",
   "language": "python",
   "name": "lambda-notebook"
  },
  "language_info": {
   "codemirror_mode": {
    "name": "ipython",
    "version": 3
   },
   "file_extension": ".py",
   "mimetype": "text/x-python",
   "name": "python",
   "nbconvert_exporter": "python",
   "pygments_lexer": "ipython3",
   "version": "3.11.3"
  }
 },
 "nbformat": 4,
 "nbformat_minor": 4
}
