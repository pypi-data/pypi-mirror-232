{
 "cells": [
  {
   "cell_type": "code",
   "execution_count": 58,
   "metadata": {},
   "outputs": [],
   "source": [
    "reload_lamb()"
   ]
  },
  {
   "cell_type": "markdown",
   "metadata": {},
   "source": [
    "Pronouns are a special case of lang.Item that are indexed, intended to be bound by an object language binder of some kind.  The technical implementation is quite straightforward: a pronoun indexed with $N$ translate to a variable named `varN`.  A binder will bind pronouns of this form.  The subclass `Trace` is defined as a convenient case.\n",
    "\n",
    "Binders are represented with the Item subclass `Binder`.  In grammars that have a predicate abstraction rule installed (as the default ones do), composing with an instance of `Binder` will trigger abstraction over any appropriately named metalanguage variables."
   ]
  },
  {
   "cell_type": "code",
   "execution_count": 65,
   "metadata": {},
   "outputs": [
    {
     "data": {
      "text/html": [
       "$[\\![\\mathbf{\\text{him}}_2]\\!]^{}_{e} \\:=\\: $${var2}_{e}$"
      ],
      "text/latex": [
       "$[\\![\\mathbf{\\text{him}}_2]\\!]^{}_{e} \\:=\\: $${var2}_{e}$"
      ],
      "text/plain": [
       "⟦him2⟧ = var2_e"
      ]
     },
     "execution_count": 65,
     "metadata": {},
     "output_type": "execute_result"
    }
   ],
   "source": [
    "him = IndexedPronoun(\"him\", 2)\n",
    "him"
   ]
  },
  {
   "cell_type": "code",
   "execution_count": 66,
   "metadata": {},
   "outputs": [
    {
     "data": {
      "text/html": [
       "$[\\![\\mathbf{\\text{t}}_2]\\!]^{}_{e} \\:=\\: $${var2}_{e}$"
      ],
      "text/latex": [
       "$[\\![\\mathbf{\\text{t}}_2]\\!]^{}_{e} \\:=\\: $${var2}_{e}$"
      ],
      "text/plain": [
       "⟦t2⟧ = var2_e"
      ]
     },
     "execution_count": 66,
     "metadata": {},
     "output_type": "execute_result"
    }
   ],
   "source": [
    "t1 = Trace(2)\n",
    "t1"
   ]
  },
  {
   "cell_type": "code",
   "execution_count": 63,
   "metadata": {},
   "outputs": [
    {
     "data": {
      "text/html": [
       "1 composition path.  Result:\n",
       "<br />&nbsp;&nbsp;&nbsp;&nbsp;[0]: $[\\![\\mathbf{\\text{[2 him2]}}]\\!]^{}_{\\langle{}e,e\\rangle{}} \\:=\\: $$\\lambda{} x_{e} \\: . \\: {x}$"
      ],
      "text/plain": [
       "CompositionResult(results=[⟦[2 him2]⟧ = (λ x_e: x_e)], failures=[⟦[2 him2]⟧ = Type mismatch: '⟦2⟧ = None' and '⟦him2⟧ = var2_e'/e conflict (mode: FA), ⟦[him2 2]⟧ = Type mismatch: '⟦him2⟧ = var2_e'/e and '⟦2⟧ = None' conflict (mode: FA), ⟦[2 him2]⟧ = Type mismatch: '⟦2⟧ = None' and '⟦him2⟧ = var2_e'/e conflict (mode: PM), ⟦[him2 2]⟧ = Type mismatch: '⟦him2⟧ = var2_e'/e and '⟦2⟧ = None' conflict (mode: Predicate Abstraction)])"
      ]
     },
     "execution_count": 63,
     "metadata": {},
     "output_type": "execute_result"
    }
   ],
   "source": [
    "binder = lang.Binder(2)\n",
    "binder2 = lang.Binder(5)\n",
    "binder * him"
   ]
  },
  {
   "cell_type": "code",
   "execution_count": 67,
   "metadata": {},
   "outputs": [
    {
     "data": {
      "text/html": [
       "1 composition path.  Result:\n",
       "<br />&nbsp;&nbsp;&nbsp;&nbsp;[0]: $[\\![\\mathbf{\\text{[5 him2]}}]\\!]^{}_{\\langle{}e,e\\rangle{}} \\:=\\: $$\\lambda{} x_{e} \\: . \\: {var2}_{e}$"
      ],
      "text/plain": [
       "CompositionResult(results=[⟦[5 him2]⟧ = (λ x_e: var2_e)], failures=[⟦[5 him2]⟧ = Type mismatch: '⟦5⟧ = None' and '⟦him2⟧ = var2_e'/e conflict (mode: FA), ⟦[him2 5]⟧ = Type mismatch: '⟦him2⟧ = var2_e'/e and '⟦5⟧ = None' conflict (mode: FA), ⟦[5 him2]⟧ = Type mismatch: '⟦5⟧ = None' and '⟦him2⟧ = var2_e'/e conflict (mode: PM), ⟦[him2 5]⟧ = Type mismatch: '⟦him2⟧ = var2_e'/e and '⟦5⟧ = None' conflict (mode: Predicate Abstraction)])"
      ]
     },
     "execution_count": 67,
     "metadata": {},
     "output_type": "execute_result"
    }
   ],
   "source": [
    "# Example of vacuous binding\n",
    "binder2 * him"
   ]
  },
  {
   "cell_type": "code",
   "execution_count": null,
   "metadata": {
    "collapsed": true
   },
   "outputs": [],
   "source": []
  }
 ],
 "metadata": {
  "kernelspec": {
   "display_name": "Lambda Notebook (Python 3)",
   "language": "python",
   "name": "lambda-notebook"
  },
  "language_info": {
   "codemirror_mode": {
    "name": "ipython",
    "version": 3
   },
   "file_extension": ".py",
   "mimetype": "text/x-python",
   "name": "python",
   "nbconvert_exporter": "python",
   "pygments_lexer": "ipython3",
   "version": "3.6.2"
  }
 },
 "nbformat": 4,
 "nbformat_minor": 1
}
