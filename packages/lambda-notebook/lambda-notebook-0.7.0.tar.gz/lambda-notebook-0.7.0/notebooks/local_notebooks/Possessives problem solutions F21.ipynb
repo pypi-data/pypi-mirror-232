{
 "cells": [
  {
   "cell_type": "code",
   "execution_count": 71,
   "metadata": {},
   "outputs": [
    {
     "data": {
      "text/html": [
       "Composition system 'Type-driven with partiality'<br />Operations: {<br />&nbsp;&nbsp;&nbsp;&nbsp;Binary composition rule <i>FA</i>, built on python function 'lamb.lang.presup_fa'<br />&nbsp;&nbsp;&nbsp;&nbsp;Binary composition rule <i>PM</i>, built on python function 'lamb.lang.presup_pm'<br />&nbsp;&nbsp;&nbsp;&nbsp;Binary composition rule <i>PA</i>, built on python function 'lamb.lang.sbc_pa'<br />}"
      ],
      "text/plain": [
       "Composition system: Type-driven with partiality"
      ]
     },
     "execution_count": 71,
     "metadata": {},
     "output_type": "execute_result"
    }
   ],
   "source": [
    "reload_lamb()\n",
    "from lamb.meta import Partial\n",
    "lang.set_system(lang.td_presup)\n",
    "lang.get_system().remove_rule(\"PA\")\n",
    "lang.get_system().add_rule(lang.BinaryCompositionOp(\"PA\", lang.sbc_pa, allow_none=True))\n",
    "lang.get_system()"
   ]
  },
  {
   "cell_type": "code",
   "execution_count": 72,
   "metadata": {},
   "outputs": [
    {
     "data": {
      "text/html": [
       "1 composition path.  Result:\n",
       "<br />&nbsp;&nbsp;&nbsp;&nbsp;[0]: $[\\![\\mathbf{\\text{[5 t3]}}]\\!]^{}_{\\left\\langle{}e,e\\right\\rangle{}} \\:=\\: $$\\lambda{} var5_{e} \\: . \\: {var3}_{e}$"
      ],
      "text/plain": [
       "CompositionResult(results=[⟦[5 t3]⟧ = (λ var5_e: var3_e)], failures=[⟦[5 t3]⟧ = Composition failure (FA disallows None) on: ⟦5⟧ = None * ⟦t3⟧ = var3_e, ⟦[t3 5]⟧ = Composition failure (FA disallows None) on: ⟦t3⟧ = var3_e * ⟦5⟧ = None, ⟦[5 t3]⟧ = Composition failure (PM disallows None) on: ⟦5⟧ = None * ⟦t3⟧ = var3_e, ⟦[t3 5]⟧ = Composition failure (PA requires a valid binder) on: ⟦t3⟧ = var3_e * ⟦5⟧ = None])"
      ]
     },
     "execution_count": 72,
     "metadata": {},
     "output_type": "execute_result"
    }
   ],
   "source": [
    "lang.Binder(5) * lang.Trace(3)"
   ]
  },
  {
   "cell_type": "markdown",
   "metadata": {},
   "source": [
    "## 2. Possessives"
   ]
  },
  {
   "cell_type": "markdown",
   "metadata": {},
   "source": [
    "Here is a basic lexicon for most of sentences like (1-3):\n",
    "\n",
    "    (1) Alfonso talked to Joanna's mother.\n",
    "    (2) Alfonso borrowed Joanna's book.\n",
    "    (3) Alfonso kicked Joanna's chair.\n",
    " \n",
    "The only parts that I haven't defined are the possessive morpheme, and `mother`."
   ]
  },
  {
   "cell_type": "code",
   "execution_count": 121,
   "metadata": {},
   "outputs": [
    {
     "name": "stdout",
     "output_type": "stream",
     "text": [
      "INFO (meta): Coerced guessed type for 'Borrow_t' into <(e,e),t>, to match argument '(y_e, x_e)'\n",
      "INFO (meta): Coerced guessed type for 'Kick_t' into <(e,e),t>, to match argument '(y_e, x_e)'\n",
      "INFO (parsing): Exporting item ||talk to|| to python variable `talk_to`.\n",
      "INFO (meta): Coerced guessed type for 'Talkto_t' into <(e,e),t>, to match argument '(y_e, x_e)'\n",
      "INFO (meta): Coerced guessed type for 'Visit_t' into <e,t>, to match argument 'x_e'\n",
      "INFO (meta): Coerced guessed type for 'Meet_t' into <(e,e),t>, to match argument '(y_e, x_e)'\n"
     ]
    },
    {
     "data": {
      "text/html": [
       "$[\\![\\mathbf{\\text{Alfonso}}]\\!]^{}_{e} \\:=\\: $${a}_{e}$<br />\n",
       "$[\\![\\mathbf{\\text{Joanna}}]\\!]^{}_{e} \\:=\\: $${j}_{e}$<br />\n",
       "$[\\![\\mathbf{\\text{book}}]\\!]^{}_{\\left\\langle{}e,t\\right\\rangle{}} \\:=\\: $$\\lambda{} x_{e} \\: . \\: {Book}({x})$<br />\n",
       "$[\\![\\mathbf{\\text{chair}}]\\!]^{}_{\\left\\langle{}e,t\\right\\rangle{}} \\:=\\: $$\\lambda{} x_{e} \\: . \\: {Chair}({x})$<br />\n",
       "$[\\![\\mathbf{\\text{borrowed}}]\\!]^{}_{\\left\\langle{}e,\\left\\langle{}e,t\\right\\rangle{}\\right\\rangle{}} \\:=\\: $$\\lambda{} x_{e} \\: . \\: \\lambda{} y_{e} \\: . \\: {Borrow}({y}, {x})$<br />\n",
       "$[\\![\\mathbf{\\text{kick}}]\\!]^{}_{\\left\\langle{}e,\\left\\langle{}e,t\\right\\rangle{}\\right\\rangle{}} \\:=\\: $$\\lambda{} x_{e} \\: . \\: \\lambda{} y_{e} \\: . \\: {Kick}({y}, {x})$<br />\n",
       "$[\\![\\mathbf{\\text{talk_to}}]\\!]^{}_{\\left\\langle{}e,\\left\\langle{}e,t\\right\\rangle{}\\right\\rangle{}} \\:=\\: $$\\lambda{} x_{e} \\: . \\: \\lambda{} y_{e} \\: . \\: {Talkto}({y}, {x})$<br />\n",
       "$[\\![\\mathbf{\\text{visit}}]\\!]^{}_{\\left\\langle{}e,t\\right\\rangle{}} \\:=\\: $$\\lambda{} x_{e} \\: . \\: {Visit}({x})$<br />\n",
       "$[\\![\\mathbf{\\text{met}}]\\!]^{}_{\\left\\langle{}e,\\left\\langle{}e,t\\right\\rangle{}\\right\\rangle{}} \\:=\\: $$\\lambda{} x_{e} \\: . \\: \\lambda{} y_{e} \\: . \\: {Meet}({y}, {x})$"
      ],
      "text/latex": [
       "$[\\![\\mathbf{\\text{Alfonso}}]\\!]^{}_{e} \\:=\\: $${a}_{e}$<br />\n",
       "$[\\![\\mathbf{\\text{Joanna}}]\\!]^{}_{e} \\:=\\: $${j}_{e}$<br />\n",
       "$[\\![\\mathbf{\\text{book}}]\\!]^{}_{\\left\\langle{}e,t\\right\\rangle{}} \\:=\\: $$\\lambda{} x_{e} \\: . \\: {Book}({x})$<br />\n",
       "$[\\![\\mathbf{\\text{chair}}]\\!]^{}_{\\left\\langle{}e,t\\right\\rangle{}} \\:=\\: $$\\lambda{} x_{e} \\: . \\: {Chair}({x})$<br />\n",
       "$[\\![\\mathbf{\\text{borrowed}}]\\!]^{}_{\\left\\langle{}e,\\left\\langle{}e,t\\right\\rangle{}\\right\\rangle{}} \\:=\\: $$\\lambda{} x_{e} \\: . \\: \\lambda{} y_{e} \\: . \\: {Borrow}({y}, {x})$<br />\n",
       "$[\\![\\mathbf{\\text{kick}}]\\!]^{}_{\\left\\langle{}e,\\left\\langle{}e,t\\right\\rangle{}\\right\\rangle{}} \\:=\\: $$\\lambda{} x_{e} \\: . \\: \\lambda{} y_{e} \\: . \\: {Kick}({y}, {x})$<br />\n",
       "$[\\![\\mathbf{\\text{talk_to}}]\\!]^{}_{\\left\\langle{}e,\\left\\langle{}e,t\\right\\rangle{}\\right\\rangle{}} \\:=\\: $$\\lambda{} x_{e} \\: . \\: \\lambda{} y_{e} \\: . \\: {Talkto}({y}, {x})$<br />\n",
       "$[\\![\\mathbf{\\text{visit}}]\\!]^{}_{\\left\\langle{}e,t\\right\\rangle{}} \\:=\\: $$\\lambda{} x_{e} \\: . \\: {Visit}({x})$<br />\n",
       "$[\\![\\mathbf{\\text{met}}]\\!]^{}_{\\left\\langle{}e,\\left\\langle{}e,t\\right\\rangle{}\\right\\rangle{}} \\:=\\: $$\\lambda{} x_{e} \\: . \\: \\lambda{} y_{e} \\: . \\: {Meet}({y}, {x})$"
      ],
      "text/plain": [
       "$[\\![\\mathbf{\\text{Alfonso}}]\\!]^{}_{e} \\:=\\: $${a}_{e}$<br />\n",
       "$[\\![\\mathbf{\\text{Joanna}}]\\!]^{}_{e} \\:=\\: $${j}_{e}$<br />\n",
       "$[\\![\\mathbf{\\text{book}}]\\!]^{}_{\\left\\langle{}e,t\\right\\rangle{}} \\:=\\: $$\\lambda{} x_{e} \\: . \\: {Book}({x})$<br />\n",
       "$[\\![\\mathbf{\\text{chair}}]\\!]^{}_{\\left\\langle{}e,t\\right\\rangle{}} \\:=\\: $$\\lambda{} x_{e} \\: . \\: {Chair}({x})$<br />\n",
       "$[\\![\\mathbf{\\text{borrowed}}]\\!]^{}_{\\left\\langle{}e,\\left\\langle{}e,t\\right\\rangle{}\\right\\rangle{}} \\:=\\: $$\\lambda{} x_{e} \\: . \\: \\lambda{} y_{e} \\: . \\: {Borrow}({y}, {x})$<br />\n",
       "$[\\![\\mathbf{\\text{kick}}]\\!]^{}_{\\left\\langle{}e,\\left\\langle{}e,t\\right\\rangle{}\\right\\rangle{}} \\:=\\: $$\\lambda{} x_{e} \\: . \\: \\lambda{} y_{e} \\: . \\: {Kick}({y}, {x})$<br />\n",
       "$[\\![\\mathbf{\\text{talk_to}}]\\!]^{}_{\\left\\langle{}e,\\left\\langle{}e,t\\right\\rangle{}\\right\\rangle{}} \\:=\\: $$\\lambda{} x_{e} \\: . \\: \\lambda{} y_{e} \\: . \\: {Talkto}({y}, {x})$<br />\n",
       "$[\\![\\mathbf{\\text{visit}}]\\!]^{}_{\\left\\langle{}e,t\\right\\rangle{}} \\:=\\: $$\\lambda{} x_{e} \\: . \\: {Visit}({x})$<br />\n",
       "$[\\![\\mathbf{\\text{met}}]\\!]^{}_{\\left\\langle{}e,\\left\\langle{}e,t\\right\\rangle{}\\right\\rangle{}} \\:=\\: $$\\lambda{} x_{e} \\: . \\: \\lambda{} y_{e} \\: . \\: {Meet}({y}, {x})$"
      ]
     },
     "metadata": {},
     "output_type": "display_data"
    }
   ],
   "source": [
    "%%lamb\n",
    "||Alfonso|| = a_e\n",
    "||Joanna|| = j_e\n",
    "||book|| = L x_e : Book_<e,t>(x)\n",
    "||chair|| = L x_e : Chair_<e,t>(x)\n",
    "||borrowed|| = L x_e : L y_e : Borrow(y,x)\n",
    "||kick|| = L x_e : L y_e : Kick(y,x)\n",
    "||talk to|| = L x_e : L y_e : Talkto(y,x)\n",
    "||visit|| = L x_e  : Visit(x)\n",
    "||met|| = L x_e  : L y_e : Meet(y,x)"
   ]
  },
  {
   "cell_type": "markdown",
   "metadata": {},
   "source": [
    "The following cell defines a presuppositional entry `the`.  By using the `IotaPartial` operator, we can ensure that uniqueness presuppositions are introduced whenever the iota operator is used. (These presuppositions are not inserted until this entry is used in semantic composition, see below.)"
   ]
  },
  {
   "cell_type": "code",
   "execution_count": 153,
   "metadata": {},
   "outputs": [
    {
     "data": {
      "text/html": [
       "${c}_{\\left\\{e\\right\\}}\\:=\\:{c}_{\\left\\{e\\right\\}}$<br />\n",
       "$[\\![\\mathbf{\\text{the}}]\\!]^{}_{\\left\\langle{}\\left\\langle{}e,t\\right\\rangle{},e\\right\\rangle{}} \\:=\\: $$\\lambda{} f_{\\left\\langle{}e,t\\right\\rangle{}} \\: . \\: \\iota{} x_{e} \\: . \\: ({f}({x}) \\wedge{} ({x} \\in{} {c}_{\\left\\{e\\right\\}}))$"
      ],
      "text/latex": [
       "${c}_{\\left\\{e\\right\\}}\\:=\\:{c}_{\\left\\{e\\right\\}}$<br />\n",
       "$[\\![\\mathbf{\\text{the}}]\\!]^{}_{\\left\\langle{}\\left\\langle{}e,t\\right\\rangle{},e\\right\\rangle{}} \\:=\\: $$\\lambda{} f_{\\left\\langle{}e,t\\right\\rangle{}} \\: . \\: \\iota{} x_{e} \\: . \\: ({f}({x}) \\wedge{} ({x} \\in{} {c}_{\\left\\{e\\right\\}}))$"
      ],
      "text/plain": [
       "${c}_{\\left\\{e\\right\\}}\\:=\\:{c}_{\\left\\{e\\right\\}}$<br />\n",
       "$[\\![\\mathbf{\\text{the}}]\\!]^{}_{\\left\\langle{}\\left\\langle{}e,t\\right\\rangle{},e\\right\\rangle{}} \\:=\\: $$\\lambda{} f_{\\left\\langle{}e,t\\right\\rangle{}} \\: . \\: \\iota{} x_{e} \\: . \\: ({f}({x}) \\wedge{} ({x} \\in{} {c}_{\\left\\{e\\right\\}}))$"
      ]
     },
     "metadata": {},
     "output_type": "display_data"
    }
   ],
   "source": [
    "%%lamb\n",
    "c_{e} = c_{e}\n",
    "||the|| = L f_<e,t> : IotaPartial x_e : (f(x) & x << c)"
   ]
  },
  {
   "cell_type": "markdown",
   "metadata": {},
   "source": [
    "Part [a]: In the following blank cell, calculate using `*` the truth-conditions of:\n",
    "\n",
    "    (4) Alfonso borrowed the book.\n"
   ]
  },
  {
   "cell_type": "code",
   "execution_count": 154,
   "metadata": {},
   "outputs": [
    {
     "data": {
      "text/html": [
       "1 composition path.  Result:\n",
       "<br />&nbsp;&nbsp;&nbsp;&nbsp;[0]: $[\\![\\mathbf{\\text{[[borrowed [the book]] Alfonso]}}]\\!]^{}_{t} \\:=\\: $$\\left|\\begin{array}{l}{Borrow}({a}_{e}, \\iota{} x_{e} \\: . \\: ({Book}({x}) \\wedge{} ({x} \\in{} {c}_{\\left\\{e\\right\\}})))\\\\\\exists{}! x_{e} \\: . \\: ({Book}({x}) \\wedge{} ({x} \\in{} {c}_{\\left\\{e\\right\\}}))\\end{array}\\right|$"
      ],
      "text/plain": [
       "CompositionResult(results=[⟦[[borrowed [the book]] Alfonso]⟧ = (Borrow_<(e,e),t>(a_e, (ι x_e: (Book_<e,t>(x_e) & (x_e << c_{e})))) Partial (ExistsExact x_e: (Book_<e,t>(x_e) & (x_e << c_{e}))))], failures=[⟦[Alfonso [borrowed [the book]]]⟧ = Type mismatch: 'a_e'/e and '(λ y_e: Borrow_<(e,e),t>(y_e, ((ι x_e: (Book_<e,t>(x_e) & (x_e << c_{e}))) Partial (ExistsExact x_e: (Book_<e,t>(x_e) & (x_e << c_{e}))))))'/<e,t> conflict (Function-argument expression: left subexpression is not a function), ⟦[Alfonso [borrowed [the book]]]⟧ = Type mismatch: '(λ f_<e,t>: (λ g_<e,t>: (λ x_e: (f_<e,t>(x_e) & g_<e,t>(x_e)))))'/<<e,t>,<<e,t>,<e,t>>> and 'a_e'/e conflict (Function-argument expression: mismatched types), ⟦[Alfonso [borrowed [the book]]]⟧ = Composition failure (PA requires a valid binder) on: ⟦Alfonso⟧ = a_e * ⟦[borrowed [the book]]⟧ = (λ y_e: Borrow_<(e,e),t>(y_e, ((ι x_e: (Book_<e,t>(x_e) & (x_e << c_{e}))) Partial (ExistsExact x_e: (Book_<e,t>(x_e) & (x_e << c_{e})))))), ⟦[[borrowed [the book]] Alfonso]⟧ = Composition failure (PA requires a valid binder) on: ⟦[borrowed [the book]]⟧ = (λ y_e: Borrow_<(e,e),t>(y_e, ((ι x_e: (Book_<e,t>(x_e) & (x_e << c_{e}))) Partial (ExistsExact x_e: (Book_<e,t>(x_e) & (x_e << c_{e})))))) * ⟦Alfonso⟧ = a_e])"
      ]
     },
     "execution_count": 154,
     "metadata": {},
     "output_type": "execute_result"
    }
   ],
   "source": [
    "# composition here\n",
    "Alfonso * (borrowed * (the * book))"
   ]
  },
  {
   "cell_type": "code",
   "execution_count": 124,
   "metadata": {},
   "outputs": [
    {
     "name": "stdout",
     "output_type": "stream",
     "text": [
      "INFO (meta): Coerced guessed type for 'MotherOf_t' into <(e,e),t>, to match argument '(y_e, x_e)'\n",
      "INFO (meta): Coerced guessed type for 'SisterOf_t' into <(e,e),t>, to match argument '(y_e, x_e)'\n"
     ]
    },
    {
     "data": {
      "text/html": [
       "$[\\![\\mathbf{\\text{mother}}]\\!]^{}_{\\left\\langle{}e,\\left\\langle{}e,t\\right\\rangle{}\\right\\rangle{}} \\:=\\: $$\\lambda{} x_{e} \\: . \\: \\lambda{} y_{e} \\: . \\: {MotherOf}({y}, {x})$<br />\n",
       "$[\\![\\mathbf{\\text{sister}}]\\!]^{}_{\\left\\langle{}e,\\left\\langle{}e,t\\right\\rangle{}\\right\\rangle{}} \\:=\\: $$\\lambda{} x_{e} \\: . \\: \\lambda{} y_{e} \\: . \\: {SisterOf}({y}, {x})$"
      ],
      "text/latex": [
       "$[\\![\\mathbf{\\text{mother}}]\\!]^{}_{\\left\\langle{}e,\\left\\langle{}e,t\\right\\rangle{}\\right\\rangle{}} \\:=\\: $$\\lambda{} x_{e} \\: . \\: \\lambda{} y_{e} \\: . \\: {MotherOf}({y}, {x})$<br />\n",
       "$[\\![\\mathbf{\\text{sister}}]\\!]^{}_{\\left\\langle{}e,\\left\\langle{}e,t\\right\\rangle{}\\right\\rangle{}} \\:=\\: $$\\lambda{} x_{e} \\: . \\: \\lambda{} y_{e} \\: . \\: {SisterOf}({y}, {x})$"
      ],
      "text/plain": [
       "$[\\![\\mathbf{\\text{mother}}]\\!]^{}_{\\left\\langle{}e,\\left\\langle{}e,t\\right\\rangle{}\\right\\rangle{}} \\:=\\: $$\\lambda{} x_{e} \\: . \\: \\lambda{} y_{e} \\: . \\: {MotherOf}({y}, {x})$<br />\n",
       "$[\\![\\mathbf{\\text{sister}}]\\!]^{}_{\\left\\langle{}e,\\left\\langle{}e,t\\right\\rangle{}\\right\\rangle{}} \\:=\\: $$\\lambda{} x_{e} \\: . \\: \\lambda{} y_{e} \\: . \\: {SisterOf}({y}, {x})$"
      ]
     },
     "metadata": {},
     "output_type": "display_data"
    }
   ],
   "source": [
    "%%lamb\n",
    "||mother|| = L x_e : L y_e : MotherOf(y,x) # arguments should probably be reversed but it doesn't matter so much for this problem\n",
    "||sister|| = L x_e : L y_e : SisterOf(y,x)"
   ]
  },
  {
   "cell_type": "code",
   "execution_count": 125,
   "metadata": {},
   "outputs": [
    {
     "name": "stdout",
     "output_type": "stream",
     "text": [
      "INFO (meta): Coerced guessed type for 'Owns_t' into <(e,e),t>, to match argument '(x_e, y_e)'\n"
     ]
    },
    {
     "data": {
      "text/html": [
       "$[\\![\\mathbf{\\text{POSS}}]\\!]^{}_{\\left\\langle{}\\left\\langle{}e,\\left\\langle{}e,t\\right\\rangle{}\\right\\rangle{},\\left\\langle{}e,e\\right\\rangle{}\\right\\rangle{}} \\:=\\: $$\\lambda{} f_{\\left\\langle{}e,\\left\\langle{}e,t\\right\\rangle{}\\right\\rangle{}} \\: . \\: \\lambda{} x_{e} \\: . \\: \\iota{} y_{e} \\: . \\: ({f}({x})({y}) \\wedge{} ({y} \\in{} {c}_{\\left\\{e\\right\\}}))$<br />\n",
       "$[\\![\\mathbf{\\text{POSS2}}]\\!]^{}_{\\left\\langle{}\\left\\langle{}e,t\\right\\rangle{},\\left\\langle{}e,e\\right\\rangle{}\\right\\rangle{}} \\:=\\: $$\\lambda{} f_{\\left\\langle{}e,t\\right\\rangle{}} \\: . \\: \\lambda{} x_{e} \\: . \\: \\iota{} y_{e} \\: . \\: (({Owns}({x}, {y}) \\wedge{} {f}({y})) \\wedge{} ({y} \\in{} {c}_{\\left\\{e\\right\\}}))$"
      ],
      "text/latex": [
       "$[\\![\\mathbf{\\text{POSS}}]\\!]^{}_{\\left\\langle{}\\left\\langle{}e,\\left\\langle{}e,t\\right\\rangle{}\\right\\rangle{},\\left\\langle{}e,e\\right\\rangle{}\\right\\rangle{}} \\:=\\: $$\\lambda{} f_{\\left\\langle{}e,\\left\\langle{}e,t\\right\\rangle{}\\right\\rangle{}} \\: . \\: \\lambda{} x_{e} \\: . \\: \\iota{} y_{e} \\: . \\: ({f}({x})({y}) \\wedge{} ({y} \\in{} {c}_{\\left\\{e\\right\\}}))$<br />\n",
       "$[\\![\\mathbf{\\text{POSS2}}]\\!]^{}_{\\left\\langle{}\\left\\langle{}e,t\\right\\rangle{},\\left\\langle{}e,e\\right\\rangle{}\\right\\rangle{}} \\:=\\: $$\\lambda{} f_{\\left\\langle{}e,t\\right\\rangle{}} \\: . \\: \\lambda{} x_{e} \\: . \\: \\iota{} y_{e} \\: . \\: (({Owns}({x}, {y}) \\wedge{} {f}({y})) \\wedge{} ({y} \\in{} {c}_{\\left\\{e\\right\\}}))$"
      ],
      "text/plain": [
       "$[\\![\\mathbf{\\text{POSS}}]\\!]^{}_{\\left\\langle{}\\left\\langle{}e,\\left\\langle{}e,t\\right\\rangle{}\\right\\rangle{},\\left\\langle{}e,e\\right\\rangle{}\\right\\rangle{}} \\:=\\: $$\\lambda{} f_{\\left\\langle{}e,\\left\\langle{}e,t\\right\\rangle{}\\right\\rangle{}} \\: . \\: \\lambda{} x_{e} \\: . \\: \\iota{} y_{e} \\: . \\: ({f}({x})({y}) \\wedge{} ({y} \\in{} {c}_{\\left\\{e\\right\\}}))$<br />\n",
       "$[\\![\\mathbf{\\text{POSS2}}]\\!]^{}_{\\left\\langle{}\\left\\langle{}e,t\\right\\rangle{},\\left\\langle{}e,e\\right\\rangle{}\\right\\rangle{}} \\:=\\: $$\\lambda{} f_{\\left\\langle{}e,t\\right\\rangle{}} \\: . \\: \\lambda{} x_{e} \\: . \\: \\iota{} y_{e} \\: . \\: (({Owns}({x}, {y}) \\wedge{} {f}({y})) \\wedge{} ({y} \\in{} {c}_{\\left\\{e\\right\\}}))$"
      ]
     },
     "metadata": {},
     "output_type": "display_data"
    }
   ],
   "source": [
    "%%lamb\n",
    "#solution 1: ambiguous POSS\n",
    "||POSS|| = L f_<e,<e,t>> : L x_e : IotaPartial y_e : f(x)(y)  & y << c\n",
    "||POSS2|| = L f_<e,t> : L x_e : IotaPartial y_e : Owns(x,y) & f(y) & y << c"
   ]
  },
  {
   "cell_type": "code",
   "execution_count": 126,
   "metadata": {},
   "outputs": [
    {
     "data": {
      "text/html": [
       "1 composition path.  Result:\n",
       "<br />&nbsp;&nbsp;&nbsp;&nbsp;[0]: $[\\![\\mathbf{\\text{[[POSS2 chair] Joanna]}}]\\!]^{}_{e} \\:=\\: $$\\left|\\begin{array}{l}\\iota{} y_{e} \\: . \\: (({Owns}({j}_{e}, {y}) \\wedge{} {Chair}({y})) \\wedge{} ({y} \\in{} {c}_{\\left\\{e\\right\\}}))\\\\\\exists{}! y_{e} \\: . \\: (({Owns}({j}_{e}, {y}) \\wedge{} {Chair}({y})) \\wedge{} ({y} \\in{} {c}_{\\left\\{e\\right\\}}))\\end{array}\\right|$"
      ],
      "text/plain": [
       "CompositionResult(results=[⟦[[POSS2 chair] Joanna]⟧ = ((ι y_e: ((Owns_<(e,e),t>(j_e, y_e) & Chair_<e,t>(y_e)) & (y_e << c_{e}))) Partial (ExistsExact y_e: ((Owns_<(e,e),t>(j_e, y_e) & Chair_<e,t>(y_e)) & (y_e << c_{e}))))], failures=[⟦[Joanna [POSS2 chair]]⟧ = Type mismatch: 'j_e'/e and '(λ x_e: (IotaPartial y_e: ((Owns_<(e,e),t>(x_e, y_e) & Chair_<e,t>(y_e)) & (y_e << c_{e}))))'/<e,e> conflict (Function-argument expression: left subexpression is not a function), ⟦[Joanna [POSS2 chair]]⟧ = Type mismatch: '(λ f_<e,t>: (λ g_<e,t>: (λ x_e: (f_<e,t>(x_e) & g_<e,t>(x_e)))))'/<<e,t>,<<e,t>,<e,t>>> and 'j_e'/e conflict (Function-argument expression: mismatched types), ⟦[Joanna [POSS2 chair]]⟧ = Composition failure (PA requires a valid binder) on: ⟦Joanna⟧ = j_e * ⟦[POSS2 chair]⟧ = (λ x_e: (IotaPartial y_e: ((Owns_<(e,e),t>(x_e, y_e) & Chair_<e,t>(y_e)) & (y_e << c_{e})))), ⟦[[POSS2 chair] Joanna]⟧ = Composition failure (PA requires a valid binder) on: ⟦[POSS2 chair]⟧ = (λ x_e: (IotaPartial y_e: ((Owns_<(e,e),t>(x_e, y_e) & Chair_<e,t>(y_e)) & (y_e << c_{e})))) * ⟦Joanna⟧ = j_e])"
      ]
     },
     "execution_count": 126,
     "metadata": {},
     "output_type": "execute_result"
    }
   ],
   "source": [
    "Joanna * (POSS2 * chair)"
   ]
  },
  {
   "cell_type": "code",
   "execution_count": 127,
   "metadata": {},
   "outputs": [
    {
     "data": {
      "text/html": [
       "1 composition path.  Result:\n",
       "<br />&nbsp;&nbsp;&nbsp;&nbsp;[0]: $[\\![\\mathbf{\\text{[[POSS sister] Joanna]}}]\\!]^{}_{e} \\:=\\: $$\\left|\\begin{array}{l}\\iota{} y_{e} \\: . \\: ({SisterOf}({y}, {j}_{e}) \\wedge{} ({y} \\in{} {c}_{\\left\\{e\\right\\}}))\\\\\\exists{}! y_{e} \\: . \\: ({SisterOf}({y}, {j}_{e}) \\wedge{} ({y} \\in{} {c}_{\\left\\{e\\right\\}}))\\end{array}\\right|$"
      ],
      "text/plain": [
       "CompositionResult(results=[⟦[[POSS sister] Joanna]⟧ = ((ι y_e: (SisterOf_<(e,e),t>(y_e, j_e) & (y_e << c_{e}))) Partial (ExistsExact y_e: (SisterOf_<(e,e),t>(y_e, j_e) & (y_e << c_{e}))))], failures=[⟦[Joanna [POSS sister]]⟧ = Type mismatch: 'j_e'/e and '(λ x_e: (IotaPartial y_e: (SisterOf_<(e,e),t>(y_e, x_e) & (y_e << c_{e}))))'/<e,e> conflict (Function-argument expression: left subexpression is not a function), ⟦[Joanna [POSS sister]]⟧ = Type mismatch: '(λ f_<e,t>: (λ g_<e,t>: (λ x_e: (f_<e,t>(x_e) & g_<e,t>(x_e)))))'/<<e,t>,<<e,t>,<e,t>>> and 'j_e'/e conflict (Function-argument expression: mismatched types), ⟦[Joanna [POSS sister]]⟧ = Composition failure (PA requires a valid binder) on: ⟦Joanna⟧ = j_e * ⟦[POSS sister]⟧ = (λ x_e: (IotaPartial y_e: (SisterOf_<(e,e),t>(y_e, x_e) & (y_e << c_{e})))), ⟦[[POSS sister] Joanna]⟧ = Composition failure (PA requires a valid binder) on: ⟦[POSS sister]⟧ = (λ x_e: (IotaPartial y_e: (SisterOf_<(e,e),t>(y_e, x_e) & (y_e << c_{e})))) * ⟦Joanna⟧ = j_e])"
      ]
     },
     "execution_count": 127,
     "metadata": {},
     "output_type": "execute_result"
    }
   ],
   "source": [
    "Joanna * (POSS * sister)"
   ]
  },
  {
   "cell_type": "code",
   "execution_count": 128,
   "metadata": {},
   "outputs": [
    {
     "data": {
      "text/html": [
       "1 composition path.  Result:\n",
       "<br />&nbsp;&nbsp;&nbsp;&nbsp;[0]: $[\\![\\mathbf{\\text{[[met [[POSS sister] Joanna]] Alfonso]}}]\\!]^{}_{t} \\:=\\: $$\\left|\\begin{array}{l}{Meet}({a}_{e}, \\iota{} y_{e} \\: . \\: ({SisterOf}({y}, {j}_{e}) \\wedge{} ({y} \\in{} {c}_{\\left\\{e\\right\\}})))\\\\\\exists{}! y_{e} \\: . \\: ({SisterOf}({y}, {j}_{e}) \\wedge{} ({y} \\in{} {c}_{\\left\\{e\\right\\}}))\\end{array}\\right|$"
      ],
      "text/plain": [
       "CompositionResult(results=[⟦[[met [[POSS sister] Joanna]] Alfonso]⟧ = (Meet_<(e,e),t>(a_e, (ι y_e: (SisterOf_<(e,e),t>(y_e, j_e) & (y_e << c_{e})))) Partial (ExistsExact y_e: (SisterOf_<(e,e),t>(y_e, j_e) & (y_e << c_{e}))))], failures=[⟦[Alfonso [met [[POSS sister] Joanna]]]⟧ = Type mismatch: 'a_e'/e and '(λ y_e: Meet_<(e,e),t>(y_e, ((ι y_e: (SisterOf_<(e,e),t>(y_e, j_e) & (y_e << c_{e}))) Partial (ExistsExact y_e: (SisterOf_<(e,e),t>(y_e, j_e) & (y_e << c_{e}))))))'/<e,t> conflict (Function-argument expression: left subexpression is not a function), ⟦[Alfonso [met [[POSS sister] Joanna]]]⟧ = Type mismatch: '(λ f_<e,t>: (λ g_<e,t>: (λ x_e: (f_<e,t>(x_e) & g_<e,t>(x_e)))))'/<<e,t>,<<e,t>,<e,t>>> and 'a_e'/e conflict (Function-argument expression: mismatched types), ⟦[Alfonso [met [[POSS sister] Joanna]]]⟧ = Composition failure (PA requires a valid binder) on: ⟦Alfonso⟧ = a_e * ⟦[met [[POSS sister] Joanna]]⟧ = (λ y_e: Meet_<(e,e),t>(y_e, ((ι y_e: (SisterOf_<(e,e),t>(y_e, j_e) & (y_e << c_{e}))) Partial (ExistsExact y_e: (SisterOf_<(e,e),t>(y_e, j_e) & (y_e << c_{e})))))), ⟦[[met [[POSS sister] Joanna]] Alfonso]⟧ = Composition failure (PA requires a valid binder) on: ⟦[met [[POSS sister] Joanna]]⟧ = (λ y_e: Meet_<(e,e),t>(y_e, ((ι y_e: (SisterOf_<(e,e),t>(y_e, j_e) & (y_e << c_{e}))) Partial (ExistsExact y_e: (SisterOf_<(e,e),t>(y_e, j_e) & (y_e << c_{e})))))) * ⟦Alfonso⟧ = a_e])"
      ]
     },
     "execution_count": 128,
     "metadata": {},
     "output_type": "execute_result"
    }
   ],
   "source": [
    "Alfonso * (met * (Joanna * (POSS * sister)))"
   ]
  },
  {
   "cell_type": "code",
   "execution_count": null,
   "metadata": {},
   "outputs": [],
   "source": []
  },
  {
   "cell_type": "markdown",
   "metadata": {},
   "source": [
    "One alternative version would be to use movement to simplify the relational case. The idea is that the possessor moves from a deep structure position that is analogous to \"sister of Joanna\"."
   ]
  },
  {
   "cell_type": "code",
   "execution_count": 129,
   "metadata": {},
   "outputs": [
    {
     "data": {
      "text/html": [
       "$[\\![\\mathbf{\\text{POSS3}}]\\!]^{}_{\\left\\langle{}\\left\\langle{}e,t\\right\\rangle{},e\\right\\rangle{}} \\:=\\: $$\\lambda{} f_{\\left\\langle{}e,t\\right\\rangle{}} \\: . \\: \\iota{} x_{e} \\: . \\: ({f}({x}) \\wedge{} ({x} \\in{} {c}_{\\left\\{e\\right\\}}))$"
      ],
      "text/latex": [
       "$[\\![\\mathbf{\\text{POSS3}}]\\!]^{}_{\\left\\langle{}\\left\\langle{}e,t\\right\\rangle{},e\\right\\rangle{}} \\:=\\: $$\\lambda{} f_{\\left\\langle{}e,t\\right\\rangle{}} \\: . \\: \\iota{} x_{e} \\: . \\: ({f}({x}) \\wedge{} ({x} \\in{} {c}_{\\left\\{e\\right\\}}))$"
      ],
      "text/plain": [
       "$[\\![\\mathbf{\\text{POSS3}}]\\!]^{}_{\\left\\langle{}\\left\\langle{}e,t\\right\\rangle{},e\\right\\rangle{}} \\:=\\: $$\\lambda{} f_{\\left\\langle{}e,t\\right\\rangle{}} \\: . \\: \\iota{} x_{e} \\: . \\: ({f}({x}) \\wedge{} ({x} \\in{} {c}_{\\left\\{e\\right\\}}))$"
      ]
     },
     "metadata": {},
     "output_type": "display_data"
    }
   ],
   "source": [
    "%%lamb\n",
    "||POSS3|| = L f_<e,t> : IotaPartial x_e : (f(x) & x << c) # same as ||the||"
   ]
  },
  {
   "cell_type": "code",
   "execution_count": 130,
   "metadata": {},
   "outputs": [
    {
     "data": {
      "text/html": [
       "1 composition path.  Result:\n",
       "<br />&nbsp;&nbsp;&nbsp;&nbsp;[0]: $[\\![\\mathbf{\\text{[POSS3 [sister Joanna]]}}]\\!]^{}_{e} \\:=\\: $$\\left|\\begin{array}{l}\\iota{} x_{e} \\: . \\: ({SisterOf}({x}, {j}_{e}) \\wedge{} ({x} \\in{} {c}_{\\left\\{e\\right\\}}))\\\\\\exists{}! x_{e} \\: . \\: ({SisterOf}({x}, {j}_{e}) \\wedge{} ({x} \\in{} {c}_{\\left\\{e\\right\\}}))\\end{array}\\right|$"
      ],
      "text/plain": [
       "CompositionResult(results=[⟦[POSS3 [sister Joanna]]⟧ = ((ι x_e: (SisterOf_<(e,e),t>(x_e, j_e) & (x_e << c_{e}))) Partial (ExistsExact x_e: (SisterOf_<(e,e),t>(x_e, j_e) & (x_e << c_{e}))))], failures=[⟦[[sister Joanna] POSS3]⟧ = Type mismatch: '(λ y_e: SisterOf_<(e,e),t>(y_e, j_e))'/<e,t> and '(λ f_<e,t>: (IotaPartial x_e: (f_<e,t>(x_e) & (x_e << c_{e}))))'/<<e,t>,e> conflict (Function-argument expression: mismatched types), ⟦[POSS3 [sister Joanna]]⟧ = Type mismatch: '(λ f_<e,t>: (λ g_<e,t>: (λ x_e: (f_<e,t>(x_e) & g_<e,t>(x_e)))))'/<<e,t>,<<e,t>,<e,t>>> and '(λ f_<e,t>: (IotaPartial x_e: (f_<e,t>(x_e) & (x_e << c_{e}))))'/<<e,t>,e> conflict (Function-argument expression: mismatched types), ⟦[POSS3 [sister Joanna]]⟧ = Composition failure (PA requires a valid binder) on: ⟦POSS3⟧ = (λ f_<e,t>: (IotaPartial x_e: (f_<e,t>(x_e) & (x_e << c_{e})))) * ⟦[sister Joanna]⟧ = (λ y_e: SisterOf_<(e,e),t>(y_e, j_e)), ⟦[[sister Joanna] POSS3]⟧ = Composition failure (PA requires a valid binder) on: ⟦[sister Joanna]⟧ = (λ y_e: SisterOf_<(e,e),t>(y_e, j_e)) * ⟦POSS3⟧ = (λ f_<e,t>: (IotaPartial x_e: (f_<e,t>(x_e) & (x_e << c_{e}))))])"
      ]
     },
     "execution_count": 130,
     "metadata": {},
     "output_type": "execute_result"
    }
   ],
   "source": [
    "POSS3 * (sister * Joanna)"
   ]
  },
  {
   "cell_type": "markdown",
   "metadata": {},
   "source": [
    "To handle a non-relational noun, as in \"Joanna's book\", we need to do something a bit different. One idea is to type-shift something of type `<e,t>` to a relation, using an ownership predicate of the kind found in POSS2:"
   ]
  },
  {
   "cell_type": "code",
   "execution_count": 131,
   "metadata": {},
   "outputs": [
    {
     "name": "stdout",
     "output_type": "stream",
     "text": [
      "INFO (meta): Coerced guessed type for 'Own_t' into <(e,e),t>, to match argument '(x_e, y_e)'\n"
     ]
    },
    {
     "data": {
      "text/html": [
       "$[\\![\\mathbf{\\text{LIFT}}]\\!]^{}_{\\left\\langle{}\\left\\langle{}e,t\\right\\rangle{},\\left\\langle{}e,\\left\\langle{}e,t\\right\\rangle{}\\right\\rangle{}\\right\\rangle{}} \\:=\\: $$\\lambda{} f_{\\left\\langle{}e,t\\right\\rangle{}} \\: . \\: \\lambda{} x_{e} \\: . \\: \\lambda{} y_{e} \\: . \\: ({Own}({x}, {y}) \\wedge{} {f}({y}))$"
      ],
      "text/latex": [
       "$[\\![\\mathbf{\\text{LIFT}}]\\!]^{}_{\\left\\langle{}\\left\\langle{}e,t\\right\\rangle{},\\left\\langle{}e,\\left\\langle{}e,t\\right\\rangle{}\\right\\rangle{}\\right\\rangle{}} \\:=\\: $$\\lambda{} f_{\\left\\langle{}e,t\\right\\rangle{}} \\: . \\: \\lambda{} x_{e} \\: . \\: \\lambda{} y_{e} \\: . \\: ({Own}({x}, {y}) \\wedge{} {f}({y}))$"
      ],
      "text/plain": [
       "$[\\![\\mathbf{\\text{LIFT}}]\\!]^{}_{\\left\\langle{}\\left\\langle{}e,t\\right\\rangle{},\\left\\langle{}e,\\left\\langle{}e,t\\right\\rangle{}\\right\\rangle{}\\right\\rangle{}} \\:=\\: $$\\lambda{} f_{\\left\\langle{}e,t\\right\\rangle{}} \\: . \\: \\lambda{} x_{e} \\: . \\: \\lambda{} y_{e} \\: . \\: ({Own}({x}, {y}) \\wedge{} {f}({y}))$"
      ]
     },
     "metadata": {},
     "output_type": "display_data"
    },
    {
     "data": {
      "text/html": [
       "1 composition path.  Result:\n",
       "<br />&nbsp;&nbsp;&nbsp;&nbsp;[0]: $[\\![\\mathbf{\\text{[POSS3 [[LIFT book] Joanna]]}}]\\!]^{}_{e} \\:=\\: $$\\left|\\begin{array}{l}\\iota{} x_{e} \\: . \\: (({Own}({j}_{e}, {x}) \\wedge{} {Book}({x})) \\wedge{} ({x} \\in{} {c}_{\\left\\{e\\right\\}}))\\\\\\exists{}! x_{e} \\: . \\: (({Own}({j}_{e}, {x}) \\wedge{} {Book}({x})) \\wedge{} ({x} \\in{} {c}_{\\left\\{e\\right\\}}))\\end{array}\\right|$"
      ],
      "text/plain": [
       "CompositionResult(results=[⟦[POSS3 [[LIFT book] Joanna]]⟧ = ((ι x_e: ((Own_<(e,e),t>(j_e, x_e) & Book_<e,t>(x_e)) & (x_e << c_{e}))) Partial (ExistsExact x_e: ((Own_<(e,e),t>(j_e, x_e) & Book_<e,t>(x_e)) & (x_e << c_{e}))))], failures=[⟦[[[LIFT book] Joanna] POSS3]⟧ = Type mismatch: '(λ y_e: (Own_<(e,e),t>(j_e, y_e) & Book_<e,t>(y_e)))'/<e,t> and '(λ f_<e,t>: (IotaPartial x_e: (f_<e,t>(x_e) & (x_e << c_{e}))))'/<<e,t>,e> conflict (Function-argument expression: mismatched types), ⟦[POSS3 [[LIFT book] Joanna]]⟧ = Type mismatch: '(λ f_<e,t>: (λ g_<e,t>: (λ x_e: (f_<e,t>(x_e) & g_<e,t>(x_e)))))'/<<e,t>,<<e,t>,<e,t>>> and '(λ f_<e,t>: (IotaPartial x_e: (f_<e,t>(x_e) & (x_e << c_{e}))))'/<<e,t>,e> conflict (Function-argument expression: mismatched types), ⟦[POSS3 [[LIFT book] Joanna]]⟧ = Composition failure (PA requires a valid binder) on: ⟦POSS3⟧ = (λ f_<e,t>: (IotaPartial x_e: (f_<e,t>(x_e) & (x_e << c_{e})))) * ⟦[[LIFT book] Joanna]⟧ = (λ y_e: (Own_<(e,e),t>(j_e, y_e) & Book_<e,t>(y_e))), ⟦[[[LIFT book] Joanna] POSS3]⟧ = Composition failure (PA requires a valid binder) on: ⟦[[LIFT book] Joanna]⟧ = (λ y_e: (Own_<(e,e),t>(j_e, y_e) & Book_<e,t>(y_e))) * ⟦POSS3⟧ = (λ f_<e,t>: (IotaPartial x_e: (f_<e,t>(x_e) & (x_e << c_{e}))))])"
      ]
     },
     "execution_count": 131,
     "metadata": {},
     "output_type": "execute_result"
    }
   ],
   "source": [
    "%lamb ||LIFT|| = L f_<e,t> : L x_e : L y_e : Own(x,y) & f(y)\n",
    "POSS3 * ((LIFT * book) * Joanna)"
   ]
  },
  {
   "cell_type": "markdown",
   "metadata": {},
   "source": [
    "To round things out, here are derivations for two more complete sentences:\n",
    "\n",
    "1. A doctor met Joanna's mother\n",
    "2. Every student's sister visited"
   ]
  },
  {
   "cell_type": "code",
   "execution_count": 132,
   "metadata": {},
   "outputs": [
    {
     "name": "stdout",
     "output_type": "stream",
     "text": [
      "INFO (meta): Coerced guessed type for 'Doctor_t' into <e,t>, to match argument 'x_e'\n",
      "INFO (meta): Coerced guessed type for 'Met_t' into <(e,e),t>, to match argument '(y_e, x_e)'\n"
     ]
    },
    {
     "data": {
      "text/html": [
       "$[\\![\\mathbf{\\text{a}}]\\!]^{}_{\\left\\langle{}\\left\\langle{}e,t\\right\\rangle{},\\left\\langle{}\\left\\langle{}e,t\\right\\rangle{},t\\right\\rangle{}\\right\\rangle{}} \\:=\\: $$\\lambda{} f_{\\left\\langle{}e,t\\right\\rangle{}} \\: . \\: \\lambda{} g_{\\left\\langle{}e,t\\right\\rangle{}} \\: . \\: \\exists{} x_{e} \\: . \\: ({f}({x}) \\wedge{} {g}({x}))$<br />\n",
       "$[\\![\\mathbf{\\text{doctor}}]\\!]^{}_{\\left\\langle{}e,t\\right\\rangle{}} \\:=\\: $$\\lambda{} x_{e} \\: . \\: {Doctor}({x})$<br />\n",
       "$[\\![\\mathbf{\\text{met}}]\\!]^{}_{\\left\\langle{}e,\\left\\langle{}e,t\\right\\rangle{}\\right\\rangle{}} \\:=\\: $$\\lambda{} x_{e} \\: . \\: \\lambda{} y_{e} \\: . \\: {Met}({y}, {x})$"
      ],
      "text/latex": [
       "$[\\![\\mathbf{\\text{a}}]\\!]^{}_{\\left\\langle{}\\left\\langle{}e,t\\right\\rangle{},\\left\\langle{}\\left\\langle{}e,t\\right\\rangle{},t\\right\\rangle{}\\right\\rangle{}} \\:=\\: $$\\lambda{} f_{\\left\\langle{}e,t\\right\\rangle{}} \\: . \\: \\lambda{} g_{\\left\\langle{}e,t\\right\\rangle{}} \\: . \\: \\exists{} x_{e} \\: . \\: ({f}({x}) \\wedge{} {g}({x}))$<br />\n",
       "$[\\![\\mathbf{\\text{doctor}}]\\!]^{}_{\\left\\langle{}e,t\\right\\rangle{}} \\:=\\: $$\\lambda{} x_{e} \\: . \\: {Doctor}({x})$<br />\n",
       "$[\\![\\mathbf{\\text{met}}]\\!]^{}_{\\left\\langle{}e,\\left\\langle{}e,t\\right\\rangle{}\\right\\rangle{}} \\:=\\: $$\\lambda{} x_{e} \\: . \\: \\lambda{} y_{e} \\: . \\: {Met}({y}, {x})$"
      ],
      "text/plain": [
       "$[\\![\\mathbf{\\text{a}}]\\!]^{}_{\\left\\langle{}\\left\\langle{}e,t\\right\\rangle{},\\left\\langle{}\\left\\langle{}e,t\\right\\rangle{},t\\right\\rangle{}\\right\\rangle{}} \\:=\\: $$\\lambda{} f_{\\left\\langle{}e,t\\right\\rangle{}} \\: . \\: \\lambda{} g_{\\left\\langle{}e,t\\right\\rangle{}} \\: . \\: \\exists{} x_{e} \\: . \\: ({f}({x}) \\wedge{} {g}({x}))$<br />\n",
       "$[\\![\\mathbf{\\text{doctor}}]\\!]^{}_{\\left\\langle{}e,t\\right\\rangle{}} \\:=\\: $$\\lambda{} x_{e} \\: . \\: {Doctor}({x})$<br />\n",
       "$[\\![\\mathbf{\\text{met}}]\\!]^{}_{\\left\\langle{}e,\\left\\langle{}e,t\\right\\rangle{}\\right\\rangle{}} \\:=\\: $$\\lambda{} x_{e} \\: . \\: \\lambda{} y_{e} \\: . \\: {Met}({y}, {x})$"
      ]
     },
     "metadata": {},
     "output_type": "display_data"
    }
   ],
   "source": [
    "%%lamb\n",
    "||a|| = L f_<e,t> : L g_<e,t> : Exists x_e : f(x) & g(x)\n",
    "||doctor|| = L x_e : Doctor(x)\n",
    "||met|| = L x_e : L y_e : Met(y,x)"
   ]
  },
  {
   "cell_type": "code",
   "execution_count": 133,
   "metadata": {},
   "outputs": [
    {
     "data": {
      "text/html": [
       "1 composition path.  Result:\n",
       "<br />&nbsp;&nbsp;&nbsp;&nbsp;[0]: $[\\![\\mathbf{\\text{[[a doctor] [met [[POSS mother] Joanna]]]}}]\\!]^{}_{t} \\:=\\: $$\\left|\\begin{array}{l}\\exists{} x_{e} \\: . \\: ({Doctor}({x}) \\wedge{} {Met}({x}, \\iota{} y_{e} \\: . \\: ({MotherOf}({y}, {j}_{e}) \\wedge{} ({y} \\in{} {c}_{\\left\\{e\\right\\}}))))\\\\\\exists{}! y_{e} \\: . \\: ({MotherOf}({y}, {j}_{e}) \\wedge{} ({y} \\in{} {c}_{\\left\\{e\\right\\}}))\\end{array}\\right|$"
      ],
      "text/plain": [
       "CompositionResult(results=[⟦[[a doctor] [met [[POSS mother] Joanna]]]⟧ = ((Exists x_e: (Doctor_<e,t>(x_e) & Met_<(e,e),t>(x_e, (ι y_e: (MotherOf_<(e,e),t>(y_e, j_e) & (y_e << c_{e})))))) Partial (ExistsExact y_e: (MotherOf_<(e,e),t>(y_e, j_e) & (y_e << c_{e}))))], failures=[⟦[[met [[POSS mother] Joanna]] [a doctor]]⟧ = Type mismatch: '(λ y_e: Met_<(e,e),t>(y_e, ((ι y_e: (MotherOf_<(e,e),t>(y_e, j_e) & (y_e << c_{e}))) Partial (ExistsExact y_e: (MotherOf_<(e,e),t>(y_e, j_e) & (y_e << c_{e}))))))'/<e,t> and '(λ g_<e,t>: (Exists x_e: (Doctor_<e,t>(x_e) & g_<e,t>(x_e))))'/<<e,t>,t> conflict (Function-argument expression: mismatched types), ⟦[[a doctor] [met [[POSS mother] Joanna]]]⟧ = Type mismatch: '(λ f_<e,t>: (λ g_<e,t>: (λ x_e: (f_<e,t>(x_e) & g_<e,t>(x_e)))))'/<<e,t>,<<e,t>,<e,t>>> and '(λ g_<e,t>: (Exists x_e: (Doctor_<e,t>(x_e) & g_<e,t>(x_e))))'/<<e,t>,t> conflict (Function-argument expression: mismatched types), ⟦[[a doctor] [met [[POSS mother] Joanna]]]⟧ = Composition failure (PA requires a valid binder) on: ⟦[a doctor]⟧ = (λ g_<e,t>: (Exists x_e: (Doctor_<e,t>(x_e) & g_<e,t>(x_e)))) * ⟦[met [[POSS mother] Joanna]]⟧ = (λ y_e: Met_<(e,e),t>(y_e, ((ι y_e: (MotherOf_<(e,e),t>(y_e, j_e) & (y_e << c_{e}))) Partial (ExistsExact y_e: (MotherOf_<(e,e),t>(y_e, j_e) & (y_e << c_{e})))))), ⟦[[met [[POSS mother] Joanna]] [a doctor]]⟧ = Composition failure (PA requires a valid binder) on: ⟦[met [[POSS mother] Joanna]]⟧ = (λ y_e: Met_<(e,e),t>(y_e, ((ι y_e: (MotherOf_<(e,e),t>(y_e, j_e) & (y_e << c_{e}))) Partial (ExistsExact y_e: (MotherOf_<(e,e),t>(y_e, j_e) & (y_e << c_{e})))))) * ⟦[a doctor]⟧ = (λ g_<e,t>: (Exists x_e: (Doctor_<e,t>(x_e) & g_<e,t>(x_e))))])"
      ]
     },
     "execution_count": 133,
     "metadata": {},
     "output_type": "execute_result"
    }
   ],
   "source": [
    "(a * doctor) * (met * (Joanna * (POSS * mother)))"
   ]
  },
  {
   "cell_type": "code",
   "execution_count": 134,
   "metadata": {},
   "outputs": [
    {
     "data": {
      "text/html": [
       "1 composition path.  Result:\n",
       "<br />&nbsp;&nbsp;&nbsp;&nbsp;[0]: $[\\![\\mathbf{\\text{[[a doctor] [met [POSS3 [mother Joanna]]]]}}]\\!]^{}_{t} \\:=\\: $$\\left|\\begin{array}{l}\\exists{} x_{e} \\: . \\: ({Doctor}({x}) \\wedge{} {Met}({x}, \\iota{} x1_{e} \\: . \\: ({MotherOf}({x1}, {j}_{e}) \\wedge{} ({x1} \\in{} {c}_{\\left\\{e\\right\\}}))))\\\\\\exists{}! x1_{e} \\: . \\: ({MotherOf}({x1}, {j}_{e}) \\wedge{} ({x1} \\in{} {c}_{\\left\\{e\\right\\}}))\\end{array}\\right|$"
      ],
      "text/plain": [
       "CompositionResult(results=[⟦[[a doctor] [met [POSS3 [mother Joanna]]]]⟧ = ((Exists x_e: (Doctor_<e,t>(x_e) & Met_<(e,e),t>(x_e, (ι x1_e: (MotherOf_<(e,e),t>(x1_e, j_e) & (x1_e << c_{e})))))) Partial (ExistsExact x1_e: (MotherOf_<(e,e),t>(x1_e, j_e) & (x1_e << c_{e}))))], failures=[⟦[[met [POSS3 [mother Joanna]]] [a doctor]]⟧ = Type mismatch: '(λ y_e: Met_<(e,e),t>(y_e, ((ι x_e: (MotherOf_<(e,e),t>(x_e, j_e) & (x_e << c_{e}))) Partial (ExistsExact x_e: (MotherOf_<(e,e),t>(x_e, j_e) & (x_e << c_{e}))))))'/<e,t> and '(λ g_<e,t>: (Exists x_e: (Doctor_<e,t>(x_e) & g_<e,t>(x_e))))'/<<e,t>,t> conflict (Function-argument expression: mismatched types), ⟦[[a doctor] [met [POSS3 [mother Joanna]]]]⟧ = Type mismatch: '(λ f_<e,t>: (λ g_<e,t>: (λ x_e: (f_<e,t>(x_e) & g_<e,t>(x_e)))))'/<<e,t>,<<e,t>,<e,t>>> and '(λ g_<e,t>: (Exists x_e: (Doctor_<e,t>(x_e) & g_<e,t>(x_e))))'/<<e,t>,t> conflict (Function-argument expression: mismatched types), ⟦[[a doctor] [met [POSS3 [mother Joanna]]]]⟧ = Composition failure (PA requires a valid binder) on: ⟦[a doctor]⟧ = (λ g_<e,t>: (Exists x_e: (Doctor_<e,t>(x_e) & g_<e,t>(x_e)))) * ⟦[met [POSS3 [mother Joanna]]]⟧ = (λ y_e: Met_<(e,e),t>(y_e, ((ι x_e: (MotherOf_<(e,e),t>(x_e, j_e) & (x_e << c_{e}))) Partial (ExistsExact x_e: (MotherOf_<(e,e),t>(x_e, j_e) & (x_e << c_{e})))))), ⟦[[met [POSS3 [mother Joanna]]] [a doctor]]⟧ = Composition failure (PA requires a valid binder) on: ⟦[met [POSS3 [mother Joanna]]]⟧ = (λ y_e: Met_<(e,e),t>(y_e, ((ι x_e: (MotherOf_<(e,e),t>(x_e, j_e) & (x_e << c_{e}))) Partial (ExistsExact x_e: (MotherOf_<(e,e),t>(x_e, j_e) & (x_e << c_{e})))))) * ⟦[a doctor]⟧ = (λ g_<e,t>: (Exists x_e: (Doctor_<e,t>(x_e) & g_<e,t>(x_e))))])"
      ]
     },
     "execution_count": 134,
     "metadata": {},
     "output_type": "execute_result"
    }
   ],
   "source": [
    "(a * doctor) * (met * (POSS3 * (Joanna * mother)))"
   ]
  },
  {
   "cell_type": "code",
   "execution_count": 135,
   "metadata": {},
   "outputs": [
    {
     "data": {
      "text/html": [
       "$[\\![\\mathbf{\\text{every}}]\\!]^{}_{\\left\\langle{}\\left\\langle{}e,t\\right\\rangle{},\\left\\langle{}\\left\\langle{}e,t\\right\\rangle{},t\\right\\rangle{}\\right\\rangle{}} \\:=\\: $$\\lambda{} f_{\\left\\langle{}e,t\\right\\rangle{}} \\: . \\: \\lambda{} g_{\\left\\langle{}e,t\\right\\rangle{}} \\: . \\: \\forall{} x_{e} \\: . \\: ({f}({x}) \\rightarrow{} {g}({x}))$"
      ],
      "text/latex": [
       "$[\\![\\mathbf{\\text{every}}]\\!]^{}_{\\left\\langle{}\\left\\langle{}e,t\\right\\rangle{},\\left\\langle{}\\left\\langle{}e,t\\right\\rangle{},t\\right\\rangle{}\\right\\rangle{}} \\:=\\: $$\\lambda{} f_{\\left\\langle{}e,t\\right\\rangle{}} \\: . \\: \\lambda{} g_{\\left\\langle{}e,t\\right\\rangle{}} \\: . \\: \\forall{} x_{e} \\: . \\: ({f}({x}) \\rightarrow{} {g}({x}))$"
      ],
      "text/plain": [
       "$[\\![\\mathbf{\\text{every}}]\\!]^{}_{\\left\\langle{}\\left\\langle{}e,t\\right\\rangle{},\\left\\langle{}\\left\\langle{}e,t\\right\\rangle{},t\\right\\rangle{}\\right\\rangle{}} \\:=\\: $$\\lambda{} f_{\\left\\langle{}e,t\\right\\rangle{}} \\: . \\: \\lambda{} g_{\\left\\langle{}e,t\\right\\rangle{}} \\: . \\: \\forall{} x_{e} \\: . \\: ({f}({x}) \\rightarrow{} {g}({x}))$"
      ]
     },
     "metadata": {},
     "output_type": "display_data"
    }
   ],
   "source": [
    "%%lamb\n",
    "||every|| = L f_<e,t> : L g_<e,t> : Forall x : f(x) >> g(x)"
   ]
  },
  {
   "cell_type": "code",
   "execution_count": 137,
   "metadata": {},
   "outputs": [
    {
     "data": {
      "text/html": [
       "1 composition path.  Result:\n",
       "<br />&nbsp;&nbsp;&nbsp;&nbsp;[0]: $[\\![\\mathbf{\\text{[[every doctor] [3 [visit [[POSS sister] t3]]]]}}]\\!]^{}_{t} \\:=\\: $$\\left|\\begin{array}{l}\\forall{} x_{e} \\: . \\: ({Doctor}({x}) \\rightarrow{} {Visit}(\\iota{} y_{e} \\: . \\: ({SisterOf}({y}, {x}) \\wedge{} ({y} \\in{} {c}_{\\left\\{e\\right\\}}))))\\\\\\forall{} x_{e} \\: . \\: \\exists{}! y_{e} \\: . \\: ({SisterOf}({y}, {x}) \\wedge{} ({y} \\in{} {c}_{\\left\\{e\\right\\}}))\\end{array}\\right|$"
      ],
      "text/plain": [
       "CompositionResult(results=[⟦[[every doctor] [3 [visit [[POSS sister] t3]]]]⟧ = ((Forall x_e: (Doctor_<e,t>(x_e) >> Visit_<e,t>((ι y_e: (SisterOf_<(e,e),t>(y_e, x_e) & (y_e << c_{e})))))) Partial (Forall x_e: (ExistsExact y_e: (SisterOf_<(e,e),t>(y_e, x_e) & (y_e << c_{e})))))], failures=[⟦[[3 [visit [[POSS sister] t3]]] [every doctor]]⟧ = Type mismatch: '(λ var3_e: (Visit_<e,t>((ι y_e: (SisterOf_<(e,e),t>(y_e, var3_e) & (y_e << c_{e})))) Partial (ExistsExact y_e: (SisterOf_<(e,e),t>(y_e, var3_e) & (y_e << c_{e})))))'/<e,t> and '(λ g_<e,t>: (Forall x_e: (Doctor_<e,t>(x_e) >> g_<e,t>(x_e))))'/<<e,t>,t> conflict (Function-argument expression: mismatched types), ⟦[[every doctor] [3 [visit [[POSS sister] t3]]]]⟧ = Type mismatch: '(λ f_<e,t>: (λ g_<e,t>: (λ x_e: (f_<e,t>(x_e) & g_<e,t>(x_e)))))'/<<e,t>,<<e,t>,<e,t>>> and '(λ g_<e,t>: (Forall x_e: (Doctor_<e,t>(x_e) >> g_<e,t>(x_e))))'/<<e,t>,t> conflict (Function-argument expression: mismatched types), ⟦[[every doctor] [3 [visit [[POSS sister] t3]]]]⟧ = Composition failure (PA requires a valid binder) on: ⟦[every doctor]⟧ = (λ g_<e,t>: (Forall x_e: (Doctor_<e,t>(x_e) >> g_<e,t>(x_e)))) * ⟦[3 [visit [[POSS sister] t3]]]⟧ = (λ var3_e: (Visit_<e,t>((ι y_e: (SisterOf_<(e,e),t>(y_e, var3_e) & (y_e << c_{e})))) Partial (ExistsExact y_e: (SisterOf_<(e,e),t>(y_e, var3_e) & (y_e << c_{e}))))), ⟦[[3 [visit [[POSS sister] t3]]] [every doctor]]⟧ = Composition failure (PA requires a valid binder) on: ⟦[3 [visit [[POSS sister] t3]]]⟧ = (λ var3_e: (Visit_<e,t>((ι y_e: (SisterOf_<(e,e),t>(y_e, var3_e) & (y_e << c_{e})))) Partial (ExistsExact y_e: (SisterOf_<(e,e),t>(y_e, var3_e) & (y_e << c_{e}))))) * ⟦[every doctor]⟧ = (λ g_<e,t>: (Forall x_e: (Doctor_<e,t>(x_e) >> g_<e,t>(x_e))))])"
      ]
     },
     "execution_count": 137,
     "metadata": {},
     "output_type": "execute_result"
    }
   ],
   "source": [
    "# Assume that `every doctor` has QRd\n",
    "(every * doctor) * (lang.Binder(3) * ((lang.Trace(3) * (POSS * sister)) * visit))"
   ]
  },
  {
   "cell_type": "code",
   "execution_count": 138,
   "metadata": {},
   "outputs": [
    {
     "data": {
      "text/html": [
       "1 composition path.  Result:\n",
       "<br />&nbsp;&nbsp;&nbsp;&nbsp;[0]: $[\\![\\mathbf{\\text{[POSS sister]}}]\\!]^{}_{\\left\\langle{}e,e\\right\\rangle{}} \\:=\\: $$\\lambda{} x_{e} \\: . \\: \\iota{} y_{e} \\: . \\: ({SisterOf}({y}, {x}) \\wedge{} ({y} \\in{} {c}_{\\left\\{e\\right\\}}))$"
      ],
      "text/plain": [
       "CompositionResult(results=[⟦[POSS sister]⟧ = (λ x_e: (IotaPartial y_e: (SisterOf_<(e,e),t>(y_e, x_e) & (y_e << c_{e}))))], failures=[⟦[sister POSS]⟧ = Type mismatch: '(λ x_e: (λ y_e: SisterOf_<(e,e),t>(y_e, x_e)))'/<e,<e,t>> and '(λ f_<e,<e,t>>: (λ x_e: (IotaPartial y_e: (f_<e,<e,t>>(x_e)(y_e) & (y_e << c_{e})))))'/<<e,<e,t>>,<e,e>> conflict (Function-argument expression: mismatched types), ⟦[POSS sister]⟧ = Type mismatch: '(λ f_<e,t>: (λ g_<e,t>: (λ x_e: (f_<e,t>(x_e) & g_<e,t>(x_e)))))'/<<e,t>,<<e,t>,<e,t>>> and '(λ f_<e,<e,t>>: (λ x_e: (IotaPartial y_e: (f_<e,<e,t>>(x_e)(y_e) & (y_e << c_{e})))))'/<<e,<e,t>>,<e,e>> conflict (Function-argument expression: mismatched types), ⟦[POSS sister]⟧ = Composition failure (PA requires a valid binder) on: ⟦POSS⟧ = (λ f_<e,<e,t>>: (λ x_e: (IotaPartial y_e: (f_<e,<e,t>>(x_e)(y_e) & (y_e << c_{e}))))) * ⟦sister⟧ = (λ x_e: (λ y_e: SisterOf_<(e,e),t>(y_e, x_e))), ⟦[sister POSS]⟧ = Composition failure (PA requires a valid binder) on: ⟦sister⟧ = (λ x_e: (λ y_e: SisterOf_<(e,e),t>(y_e, x_e))) * ⟦POSS⟧ = (λ f_<e,<e,t>>: (λ x_e: (IotaPartial y_e: (f_<e,<e,t>>(x_e)(y_e) & (y_e << c_{e})))))])"
      ]
     },
     "execution_count": 138,
     "metadata": {},
     "output_type": "execute_result"
    }
   ],
   "source": [
    "POSS * sister"
   ]
  },
  {
   "cell_type": "markdown",
   "metadata": {},
   "source": [
    "There are a few other possible ways to go here; one idea might be to write another POSS entry (or several) that can handle quantificational possessors directly. Once you have this, you can type-lift referential possessors to the correct type. These get a bit hairy to write, but here is an example for the relational case:"
   ]
  },
  {
   "cell_type": "code",
   "execution_count": 150,
   "metadata": {},
   "outputs": [
    {
     "data": {
      "text/html": [
       "$[\\![\\mathbf{\\text{POSS4}}]\\!]^{}_{\\left\\langle{}\\left\\langle{}e,\\left\\langle{}e,t\\right\\rangle{}\\right\\rangle{},\\left\\langle{}\\left\\langle{}\\left\\langle{}e,t\\right\\rangle{},t\\right\\rangle{},\\left\\langle{}\\left\\langle{}e,t\\right\\rangle{},t\\right\\rangle{}\\right\\rangle{}\\right\\rangle{}} \\:=\\: $$\\lambda{} f_{\\left\\langle{}e,\\left\\langle{}e,t\\right\\rangle{}\\right\\rangle{}} \\: . \\: \\lambda{} g_{\\left\\langle{}\\left\\langle{}e,t\\right\\rangle{},t\\right\\rangle{}} \\: . \\: \\lambda{} h_{\\left\\langle{}e,t\\right\\rangle{}} \\: . \\: {g}(\\lambda{} x_{e} \\: . \\: {h}(\\iota{} y_{e} \\: . \\: ({f}({x})({y}) \\wedge{} ({y} \\in{} {c}_{\\left\\{e\\right\\}}))))$"
      ],
      "text/latex": [
       "$[\\![\\mathbf{\\text{POSS4}}]\\!]^{}_{\\left\\langle{}\\left\\langle{}e,\\left\\langle{}e,t\\right\\rangle{}\\right\\rangle{},\\left\\langle{}\\left\\langle{}\\left\\langle{}e,t\\right\\rangle{},t\\right\\rangle{},\\left\\langle{}\\left\\langle{}e,t\\right\\rangle{},t\\right\\rangle{}\\right\\rangle{}\\right\\rangle{}} \\:=\\: $$\\lambda{} f_{\\left\\langle{}e,\\left\\langle{}e,t\\right\\rangle{}\\right\\rangle{}} \\: . \\: \\lambda{} g_{\\left\\langle{}\\left\\langle{}e,t\\right\\rangle{},t\\right\\rangle{}} \\: . \\: \\lambda{} h_{\\left\\langle{}e,t\\right\\rangle{}} \\: . \\: {g}(\\lambda{} x_{e} \\: . \\: {h}(\\iota{} y_{e} \\: . \\: ({f}({x})({y}) \\wedge{} ({y} \\in{} {c}_{\\left\\{e\\right\\}}))))$"
      ],
      "text/plain": [
       "$[\\![\\mathbf{\\text{POSS4}}]\\!]^{}_{\\left\\langle{}\\left\\langle{}e,\\left\\langle{}e,t\\right\\rangle{}\\right\\rangle{},\\left\\langle{}\\left\\langle{}\\left\\langle{}e,t\\right\\rangle{},t\\right\\rangle{},\\left\\langle{}\\left\\langle{}e,t\\right\\rangle{},t\\right\\rangle{}\\right\\rangle{}\\right\\rangle{}} \\:=\\: $$\\lambda{} f_{\\left\\langle{}e,\\left\\langle{}e,t\\right\\rangle{}\\right\\rangle{}} \\: . \\: \\lambda{} g_{\\left\\langle{}\\left\\langle{}e,t\\right\\rangle{},t\\right\\rangle{}} \\: . \\: \\lambda{} h_{\\left\\langle{}e,t\\right\\rangle{}} \\: . \\: {g}(\\lambda{} x_{e} \\: . \\: {h}(\\iota{} y_{e} \\: . \\: ({f}({x})({y}) \\wedge{} ({y} \\in{} {c}_{\\left\\{e\\right\\}}))))$"
      ]
     },
     "metadata": {},
     "output_type": "display_data"
    }
   ],
   "source": [
    "%%lamb\n",
    "||POSS4|| = L f_<e,<e,t>> : L g_<<e,t>,t> : L h_<e,t> : g(L x_e : h(IotaPartial y_e : f(x)(y)  & y << c))\n"
   ]
  },
  {
   "cell_type": "code",
   "execution_count": 151,
   "metadata": {},
   "outputs": [
    {
     "data": {
      "text/html": [
       "1 composition path.  Result:\n",
       "<br />&nbsp;&nbsp;&nbsp;&nbsp;[0]: $[\\![\\mathbf{\\text{[[[POSS4 sister] [every doctor]] visit]}}]\\!]^{}_{t} \\:=\\: $$\\left|\\begin{array}{l}\\forall{} x_{e} \\: . \\: ({Doctor}({x}) \\rightarrow{} {Visit}(\\iota{} y_{e} \\: . \\: ({SisterOf}({y}, {x}) \\wedge{} ({y} \\in{} {c}_{\\left\\{e\\right\\}}))))\\\\\\forall{} x_{e} \\: . \\: \\exists{}! y_{e} \\: . \\: ({SisterOf}({y}, {x}) \\wedge{} ({y} \\in{} {c}_{\\left\\{e\\right\\}}))\\end{array}\\right|$"
      ],
      "text/plain": [
       "CompositionResult(results=[⟦[[[POSS4 sister] [every doctor]] visit]⟧ = ((Forall x_e: (Doctor_<e,t>(x_e) >> Visit_<e,t>((ι y_e: (SisterOf_<(e,e),t>(y_e, x_e) & (y_e << c_{e})))))) Partial (Forall x_e: (ExistsExact y_e: (SisterOf_<(e,e),t>(y_e, x_e) & (y_e << c_{e})))))], failures=[⟦[visit [[POSS4 sister] [every doctor]]]⟧ = Type mismatch: '(λ x_e: Visit_<e,t>(x_e))'/<e,t> and '(λ h_<e,t>: (Forall x_e: (Doctor_<e,t>(x_e) >> h_<e,t>((IotaPartial y_e: (SisterOf_<(e,e),t>(y_e, x_e) & (y_e << c_{e})))))))'/<<e,t>,t> conflict (Function-argument expression: mismatched types), ⟦[[[POSS4 sister] [every doctor]] visit]⟧ = Type mismatch: '(λ f_<e,t>: (λ g_<e,t>: (λ x_e: (f_<e,t>(x_e) & g_<e,t>(x_e)))))'/<<e,t>,<<e,t>,<e,t>>> and '(λ h_<e,t>: (Forall x_e: (Doctor_<e,t>(x_e) >> h_<e,t>((IotaPartial y_e: (SisterOf_<(e,e),t>(y_e, x_e) & (y_e << c_{e})))))))'/<<e,t>,t> conflict (Function-argument expression: mismatched types), ⟦[[[POSS4 sister] [every doctor]] visit]⟧ = Composition failure (PA requires a valid binder) on: ⟦[[POSS4 sister] [every doctor]]⟧ = (λ h_<e,t>: (Forall x_e: (Doctor_<e,t>(x_e) >> h_<e,t>((IotaPartial y_e: (SisterOf_<(e,e),t>(y_e, x_e) & (y_e << c_{e}))))))) * ⟦visit⟧ = (λ x_e: Visit_<e,t>(x_e)), ⟦[visit [[POSS4 sister] [every doctor]]]⟧ = Composition failure (PA requires a valid binder) on: ⟦visit⟧ = (λ x_e: Visit_<e,t>(x_e)) * ⟦[[POSS4 sister] [every doctor]]⟧ = (λ h_<e,t>: (Forall x_e: (Doctor_<e,t>(x_e) >> h_<e,t>((IotaPartial y_e: (SisterOf_<(e,e),t>(y_e, x_e) & (y_e << c_{e})))))))])"
      ]
     },
     "execution_count": 151,
     "metadata": {},
     "output_type": "execute_result"
    }
   ],
   "source": [
    "((every * doctor) * (POSS4 * sister)) * visit"
   ]
  },
  {
   "cell_type": "code",
   "execution_count": null,
   "metadata": {},
   "outputs": [],
   "source": []
  }
 ],
 "metadata": {
  "kernelspec": {
   "display_name": "Lambda Notebook (Python 3)",
   "language": "python",
   "name": "lambda-notebook"
  },
  "language_info": {
   "codemirror_mode": {
    "name": "ipython",
    "version": 3
   },
   "file_extension": ".py",
   "mimetype": "text/x-python",
   "name": "python",
   "nbconvert_exporter": "python",
   "pygments_lexer": "ipython3",
   "version": "3.7.6"
  }
 },
 "nbformat": 4,
 "nbformat_minor": 4
}
