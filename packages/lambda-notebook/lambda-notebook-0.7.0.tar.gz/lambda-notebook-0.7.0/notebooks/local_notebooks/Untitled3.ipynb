{
 "cells": [
  {
   "cell_type": "code",
   "execution_count": 12,
   "id": "d2fd3c34-59d6-4e6f-ba42-e3c99386c60f",
   "metadata": {},
   "outputs": [],
   "source": [
    "import numpy as np"
   ]
  },
  {
   "cell_type": "code",
   "execution_count": 52,
   "id": "a7129e7a-13a1-490b-bc0a-97ab11895e7f",
   "metadata": {},
   "outputs": [],
   "source": [
    "seq = list(range(10))\n",
    "\n",
    "# (longest common substring, not longest common subsequence)\n",
    "def lcs(s1, s2):\n",
    "    align = [[None] * len(s2) for i in range(len(s1))]\n",
    "    longest = 0\n",
    "    ret = (None, None, 0)\n",
    "    for i in range(len(s1)):\n",
    "        for j in range(len(s2)):\n",
    "            if s1[i] == s2[j]:\n",
    "                if i == 0 or j == 0:\n",
    "                    align[i][j] = 1\n",
    "                else:\n",
    "                    align[i][j] = align[i-1][j-1] + 1\n",
    "\n",
    "                if align[i][j] > longest:\n",
    "                    longest = align[i][j]\n",
    "                    # simplification to the general algorithm: guaranteed unique lcs (no repeated elements)\n",
    "                    # could simplify this further for the case in question\n",
    "                    ret = (i-longest + 1, j-longest + 1, longest)\n",
    "            else:\n",
    "                align[i][j] = 0\n",
    "    return ret\n",
    "\n",
    "def edit(s1, s2):\n",
    "    # for the case we are interested in, edit distance can be derived from lcs\n",
    "    i1, i2, l = lcs(s1, s2)\n",
    "    s1_non = len(s1) - l\n",
    "    s2_non = len(s2) - l\n",
    "    return s1_non + s2_non\n"
   ]
  },
  {
   "cell_type": "code",
   "execution_count": null,
   "id": "34ceeb72-7a1c-4d24-9805-8ad9b1121373",
   "metadata": {},
   "outputs": [],
   "source": [
    "for l in range(len(seq)):\n",
    "    for i in range("
   ]
  }
 ],
 "metadata": {
  "kernelspec": {
   "display_name": "Python 3 (ipykernel)",
   "language": "python",
   "name": "python3"
  },
  "language_info": {
   "codemirror_mode": {
    "name": "ipython",
    "version": 3
   },
   "file_extension": ".py",
   "mimetype": "text/x-python",
   "name": "python",
   "nbconvert_exporter": "python",
   "pygments_lexer": "ipython3",
   "version": "3.9.7"
  }
 },
 "nbformat": 4,
 "nbformat_minor": 5
}
