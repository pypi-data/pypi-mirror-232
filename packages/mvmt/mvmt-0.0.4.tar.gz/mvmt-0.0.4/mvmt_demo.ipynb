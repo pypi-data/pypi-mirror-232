{
 "cells": [
  {
   "cell_type": "code",
   "execution_count": null,
   "metadata": {},
   "outputs": [],
   "source": [
    "%matplotlib inline\n",
    "! pip install mvmt"
   ]
  },
  {
   "cell_type": "code",
   "execution_count": null,
   "metadata": {},
   "outputs": [],
   "source": [
    "from mvmt import tableau, algebra, utils\n",
    "from PrettyPrint import PrettyPrintTree\n"
   ]
  },
  {
   "cell_type": "code",
   "execution_count": null,
   "metadata": {},
   "outputs": [],
   "source": [
    "heyting_algebra = {\n",
    "    \"elements\": [\"0\", \"a\", \"b\", \"1\"],\n",
    "    \"order\": {\"0\": [\"0\", \"a\", \"b\", \"1\"], \"a\": [\"a\", \"1\"], \"b\": [\"b\", \"1\"], \"1\": [\"1\"]},\n",
    "}\n"
   ]
  },
  {
   "cell_type": "code",
   "execution_count": null,
   "metadata": {},
   "outputs": [],
   "source": [
    "expression = \"(<>p & <>q) -> <>(p & q)\"\n"
   ]
  },
  {
   "cell_type": "code",
   "execution_count": null,
   "metadata": {},
   "outputs": [],
   "source": [
    "H = utils.construct_heyting_algebra(python_dict=heyting_algebra)\n",
    "\n",
    "valid, tab = tableau.isValid(expression, H)\n",
    "\n",
    "print(f\"{expression} is valid: {valid}\")\n",
    "pt = PrettyPrintTree(\n",
    "    lambda x: x.children,\n",
    "    lambda x: str(x.signed_formula),\n",
    "    lambda x: f\"<{x.world}, {x.relation}>\",\n",
    ")\n",
    "pt(tab.root)\n",
    "\n",
    "if not valid:\n",
    "    M = tableau.construct_counter_model(expression, H, tab)\n",
    "    tableau.visualize_model(M)\n"
   ]
  }
 ],
 "metadata": {
  "language_info": {
   "name": "python"
  },
  "orig_nbformat": 4
 },
 "nbformat": 4,
 "nbformat_minor": 2
}
