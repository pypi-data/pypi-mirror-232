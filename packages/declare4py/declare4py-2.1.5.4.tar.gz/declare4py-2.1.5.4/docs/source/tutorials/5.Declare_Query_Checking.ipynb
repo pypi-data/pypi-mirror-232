{
 "cells": [
  {
   "cell_type": "markdown",
   "id": "dac6605a",
   "metadata": {},
   "source": [
    "# Query Checking with the DECLARE Checker\n",
    "\n",
    "This tutorial explains how to perform the query checking of a DECLARE constraint in a log and how to browse the results. We first import the classes `DeclareQueryChecker` and `DeclareResultsBrowser` and the log."
   ]
  },
  {
   "cell_type": "code",
   "execution_count": 1,
   "id": "91723b33",
   "metadata": {},
   "outputs": [
    {
     "data": {
      "application/vnd.jupyter.widget-view+json": {
       "model_id": "49cf39d1ed6840ffae13f302eb221325",
       "version_major": 2,
       "version_minor": 0
      },
      "text/plain": [
       "parsing log, completed traces ::   0%|          | 0/1050 [00:00<?, ?it/s]"
      ]
     },
     "metadata": {},
     "output_type": "display_data"
    }
   ],
   "source": [
    "import sys\n",
    "import os\n",
    "import pathlib\n",
    "\n",
    "SCRIPT_DIR = pathlib.Path(\"../../../\", \"src\").resolve()\n",
    "sys.path.append(os.path.dirname(SCRIPT_DIR))\n",
    "\n",
    "from src.Declare4Py.ProcessModels.DeclareModel import DeclareModel\n",
    "from src.Declare4Py.ProcessMiningTasks.QueryChecking.DeclareQueryChecker import DeclareQueryChecker\n",
    "from src.Declare4Py.ProcessMiningTasks.QueryChecking.DeclareResultsBrowser import DeclareResultsBrowser\n",
    "from src.Declare4Py.D4PyEventLog import D4PyEventLog\n",
    "\n",
    "log_path = os.path.join(\"../../../\", \"tests\", \"test_logs\",\"Sepsis Cases.xes.gz\")\n",
    "event_log = D4PyEventLog(case_name=\"case:concept:name\")\n",
    "event_log.parse_xes_log(log_path)"
   ]
  },
  {
   "cell_type": "markdown",
   "id": "fbcf695b",
   "metadata": {},
   "source": [
    "The `DeclareQueryChecker` class takes as input:\n",
    "- the event log;\n",
    "- the boolean parameter `consider_vacuity=true` that means that vacuously satisfied traces are considered as satisfied, violated otherwise.\n",
    "- The query/setting parameters `template`, `activation`, `target`, `activation_condition`, `target_condition` and `time_condition` that set the parameters of the DECLARE constraints and the variables to ask. If a parameter is not set then it is treated as a variable to ask.\n",
    "- The float `min_support` parameter sets the support to be satisfied in the log by the variable assignments.\n",
    "- the boolean parameter `return_first` that if set to false it returns all the variables assignments that satisfy the support in the log. Otherwise, it returns only one variables assignment (the first) that satisfy the support in the log. This saves computational time when one is only interested in the existence of a variable assignment with a given support.\n",
    "\n",
    "In the following, we compute the assignments for the target by setting `template_str='Chain Response'`, `activation='IV Antibiotics'`, `act_cond='A.org:group is A'` and `min_support=0.2`:\n",
    "\n",
    "After this setting, the method `run` of the `DeclareQueryChecker` class will perform the query checking."
   ]
  },
  {
   "cell_type": "code",
   "execution_count": 2,
   "id": "ab182fa1",
   "metadata": {},
   "outputs": [],
   "source": [
    "query_checker = DeclareQueryChecker(log=event_log, consider_vacuity=False, template='Chain Response', activation='IV Antibiotics', activation_condition='A.org:group is A', min_support=0.2, return_first=False)\n",
    "query_check_res: DeclareResultsBrowser = query_checker.run()"
   ]
  },
  {
   "cell_type": "markdown",
   "id": "67577003",
   "metadata": {},
   "source": [
    "The query checking results can be filtered with the `filter_query_checking` method whose parameter `queries` takes as input a list of variables to ask. In the above example, we set the template and activation and ask for the targets. The output of `filter_query_checking` is a Pandas dataframe."
   ]
  },
  {
   "cell_type": "code",
   "execution_count": 3,
   "id": "8cdc0eed",
   "metadata": {},
   "outputs": [
    {
     "data": {
      "text/html": [
       "<div>\n",
       "<style scoped>\n",
       "    .dataframe tbody tr th:only-of-type {\n",
       "        vertical-align: middle;\n",
       "    }\n",
       "\n",
       "    .dataframe tbody tr th {\n",
       "        vertical-align: top;\n",
       "    }\n",
       "\n",
       "    .dataframe thead th {\n",
       "        text-align: right;\n",
       "    }\n",
       "</style>\n",
       "<table border=\"1\" class=\"dataframe\">\n",
       "  <thead>\n",
       "    <tr style=\"text-align: right;\">\n",
       "      <th></th>\n",
       "      <th>template</th>\n",
       "      <th>activation</th>\n",
       "      <th>target</th>\n",
       "      <th>activation_condition</th>\n",
       "    </tr>\n",
       "  </thead>\n",
       "  <tbody>\n",
       "    <tr>\n",
       "      <th>0</th>\n",
       "      <td>Chain Response</td>\n",
       "      <td>ER Registration</td>\n",
       "      <td>ER Triage</td>\n",
       "      <td>A.org:group is A</td>\n",
       "    </tr>\n",
       "    <tr>\n",
       "      <th>1</th>\n",
       "      <td>Chain Response</td>\n",
       "      <td>ER Sepsis Triage</td>\n",
       "      <td>Leucocytes</td>\n",
       "      <td>A.org:group is A</td>\n",
       "    </tr>\n",
       "    <tr>\n",
       "      <th>2</th>\n",
       "      <td>Chain Response</td>\n",
       "      <td>ER Sepsis Triage</td>\n",
       "      <td>IV Liquid</td>\n",
       "      <td>A.org:group is A</td>\n",
       "    </tr>\n",
       "    <tr>\n",
       "      <th>3</th>\n",
       "      <td>Chain Response</td>\n",
       "      <td>IV Liquid</td>\n",
       "      <td>IV Antibiotics</td>\n",
       "      <td>A.org:group is A</td>\n",
       "    </tr>\n",
       "    <tr>\n",
       "      <th>4</th>\n",
       "      <td>Chain Response</td>\n",
       "      <td>IV Antibiotics</td>\n",
       "      <td>Admission NC</td>\n",
       "      <td>A.org:group is A</td>\n",
       "    </tr>\n",
       "  </tbody>\n",
       "</table>\n",
       "</div>"
      ],
      "text/plain": [
       "         template        activation          target activation_condition\n",
       "0  Chain Response   ER Registration       ER Triage     A.org:group is A\n",
       "1  Chain Response  ER Sepsis Triage      Leucocytes     A.org:group is A\n",
       "2  Chain Response  ER Sepsis Triage       IV Liquid     A.org:group is A\n",
       "3  Chain Response         IV Liquid  IV Antibiotics     A.org:group is A\n",
       "4  Chain Response    IV Antibiotics    Admission NC     A.org:group is A"
      ]
     },
     "execution_count": 3,
     "metadata": {},
     "output_type": "execute_result"
    }
   ],
   "source": [
    "query_check_res.filter_query_checking(queries=['template', 'activation', 'target', 'activation_condition'])"
   ]
  },
  {
   "cell_type": "markdown",
   "id": "efffc3c5",
   "metadata": {},
   "source": [
    "In the following example we compute the assignments both for the activation and the target by setting `template_str='Response'` and `min_support=0.8`:"
   ]
  },
  {
   "cell_type": "code",
   "execution_count": 4,
   "id": "7bd7cd74",
   "metadata": {},
   "outputs": [
    {
     "data": {
      "text/html": [
       "<div>\n",
       "<style scoped>\n",
       "    .dataframe tbody tr th:only-of-type {\n",
       "        vertical-align: middle;\n",
       "    }\n",
       "\n",
       "    .dataframe tbody tr th {\n",
       "        vertical-align: top;\n",
       "    }\n",
       "\n",
       "    .dataframe thead th {\n",
       "        text-align: right;\n",
       "    }\n",
       "</style>\n",
       "<table border=\"1\" class=\"dataframe\">\n",
       "  <thead>\n",
       "    <tr style=\"text-align: right;\">\n",
       "      <th></th>\n",
       "      <th>template</th>\n",
       "      <th>activation</th>\n",
       "      <th>target</th>\n",
       "    </tr>\n",
       "  </thead>\n",
       "  <tbody>\n",
       "    <tr>\n",
       "      <th>0</th>\n",
       "      <td>Response</td>\n",
       "      <td>ER Registration</td>\n",
       "      <td>Leucocytes</td>\n",
       "    </tr>\n",
       "    <tr>\n",
       "      <th>1</th>\n",
       "      <td>Response</td>\n",
       "      <td>ER Registration</td>\n",
       "      <td>CRP</td>\n",
       "    </tr>\n",
       "    <tr>\n",
       "      <th>2</th>\n",
       "      <td>Response</td>\n",
       "      <td>ER Registration</td>\n",
       "      <td>LacticAcid</td>\n",
       "    </tr>\n",
       "    <tr>\n",
       "      <th>3</th>\n",
       "      <td>Response</td>\n",
       "      <td>ER Registration</td>\n",
       "      <td>ER Triage</td>\n",
       "    </tr>\n",
       "    <tr>\n",
       "      <th>4</th>\n",
       "      <td>Response</td>\n",
       "      <td>ER Registration</td>\n",
       "      <td>ER Sepsis Triage</td>\n",
       "    </tr>\n",
       "    <tr>\n",
       "      <th>5</th>\n",
       "      <td>Response</td>\n",
       "      <td>ER Triage</td>\n",
       "      <td>Leucocytes</td>\n",
       "    </tr>\n",
       "    <tr>\n",
       "      <th>6</th>\n",
       "      <td>Response</td>\n",
       "      <td>ER Triage</td>\n",
       "      <td>CRP</td>\n",
       "    </tr>\n",
       "    <tr>\n",
       "      <th>7</th>\n",
       "      <td>Response</td>\n",
       "      <td>ER Triage</td>\n",
       "      <td>ER Sepsis Triage</td>\n",
       "    </tr>\n",
       "    <tr>\n",
       "      <th>8</th>\n",
       "      <td>Response</td>\n",
       "      <td>ER Sepsis Triage</td>\n",
       "      <td>Leucocytes</td>\n",
       "    </tr>\n",
       "    <tr>\n",
       "      <th>9</th>\n",
       "      <td>Response</td>\n",
       "      <td>ER Sepsis Triage</td>\n",
       "      <td>CRP</td>\n",
       "    </tr>\n",
       "  </tbody>\n",
       "</table>\n",
       "</div>"
      ],
      "text/plain": [
       "   template        activation            target\n",
       "0  Response   ER Registration        Leucocytes\n",
       "1  Response   ER Registration               CRP\n",
       "2  Response   ER Registration        LacticAcid\n",
       "3  Response   ER Registration         ER Triage\n",
       "4  Response   ER Registration  ER Sepsis Triage\n",
       "5  Response         ER Triage        Leucocytes\n",
       "6  Response         ER Triage               CRP\n",
       "7  Response         ER Triage  ER Sepsis Triage\n",
       "8  Response  ER Sepsis Triage        Leucocytes\n",
       "9  Response  ER Sepsis Triage               CRP"
      ]
     },
     "execution_count": 4,
     "metadata": {},
     "output_type": "execute_result"
    }
   ],
   "source": [
    "query_checker = DeclareQueryChecker(log=event_log, consider_vacuity=False, template='Response', min_support=0.8, return_first=False)\n",
    "query_check_res: DeclareResultsBrowser = query_checker.run()\n",
    "    \n",
    "query_check_res.filter_query_checking(queries=['template', 'activation', 'target'])"
   ]
  },
  {
   "cell_type": "markdown",
   "id": "1588738c",
   "metadata": {},
   "source": [
    "As last example, we set the activation and the target and ask for the template:"
   ]
  },
  {
   "cell_type": "code",
   "execution_count": 5,
   "id": "cba37244",
   "metadata": {},
   "outputs": [
    {
     "data": {
      "text/html": [
       "<div>\n",
       "<style scoped>\n",
       "    .dataframe tbody tr th:only-of-type {\n",
       "        vertical-align: middle;\n",
       "    }\n",
       "\n",
       "    .dataframe tbody tr th {\n",
       "        vertical-align: top;\n",
       "    }\n",
       "\n",
       "    .dataframe thead th {\n",
       "        text-align: right;\n",
       "    }\n",
       "</style>\n",
       "<table border=\"1\" class=\"dataframe\">\n",
       "  <thead>\n",
       "    <tr style=\"text-align: right;\">\n",
       "      <th></th>\n",
       "      <th>template</th>\n",
       "      <th>activation</th>\n",
       "      <th>target</th>\n",
       "    </tr>\n",
       "  </thead>\n",
       "  <tbody>\n",
       "    <tr>\n",
       "      <th>0</th>\n",
       "      <td>Choice</td>\n",
       "      <td>ER Registration</td>\n",
       "      <td>CRP</td>\n",
       "    </tr>\n",
       "    <tr>\n",
       "      <th>1</th>\n",
       "      <td>Responded Existence</td>\n",
       "      <td>ER Registration</td>\n",
       "      <td>CRP</td>\n",
       "    </tr>\n",
       "    <tr>\n",
       "      <th>2</th>\n",
       "      <td>Response</td>\n",
       "      <td>ER Registration</td>\n",
       "      <td>CRP</td>\n",
       "    </tr>\n",
       "    <tr>\n",
       "      <th>3</th>\n",
       "      <td>Alternate Response</td>\n",
       "      <td>ER Registration</td>\n",
       "      <td>CRP</td>\n",
       "    </tr>\n",
       "    <tr>\n",
       "      <th>4</th>\n",
       "      <td>Precedence</td>\n",
       "      <td>ER Registration</td>\n",
       "      <td>CRP</td>\n",
       "    </tr>\n",
       "    <tr>\n",
       "      <th>5</th>\n",
       "      <td>Alternate Precedence</td>\n",
       "      <td>ER Registration</td>\n",
       "      <td>CRP</td>\n",
       "    </tr>\n",
       "    <tr>\n",
       "      <th>6</th>\n",
       "      <td>Not Chain Response</td>\n",
       "      <td>ER Registration</td>\n",
       "      <td>CRP</td>\n",
       "    </tr>\n",
       "    <tr>\n",
       "      <th>7</th>\n",
       "      <td>Not Chain Precedence</td>\n",
       "      <td>ER Registration</td>\n",
       "      <td>CRP</td>\n",
       "    </tr>\n",
       "  </tbody>\n",
       "</table>\n",
       "</div>"
      ],
      "text/plain": [
       "               template       activation target\n",
       "0                Choice  ER Registration    CRP\n",
       "1   Responded Existence  ER Registration    CRP\n",
       "2              Response  ER Registration    CRP\n",
       "3    Alternate Response  ER Registration    CRP\n",
       "4            Precedence  ER Registration    CRP\n",
       "5  Alternate Precedence  ER Registration    CRP\n",
       "6    Not Chain Response  ER Registration    CRP\n",
       "7  Not Chain Precedence  ER Registration    CRP"
      ]
     },
     "execution_count": 5,
     "metadata": {},
     "output_type": "execute_result"
    }
   ],
   "source": [
    "query_checker = DeclareQueryChecker(log=event_log, consider_vacuity=False, activation='ER Registration', target='CRP', min_support=0.2, return_first=False)\n",
    "query_check_res: DeclareResultsBrowser = query_checker.run()\n",
    "\n",
    "query_check_res.filter_query_checking(queries=['template', 'activation', 'target'])"
   ]
  }
 ],
 "metadata": {
  "kernelspec": {
   "display_name": "Python 3 (ipykernel)",
   "language": "python",
   "name": "python3"
  },
  "language_info": {
   "codemirror_mode": {
    "name": "ipython",
    "version": 3
   },
   "file_extension": ".py",
   "mimetype": "text/x-python",
   "name": "python",
   "nbconvert_exporter": "python",
   "pygments_lexer": "ipython3",
   "version": "3.9.7"
  }
 },
 "nbformat": 4,
 "nbformat_minor": 5
}
