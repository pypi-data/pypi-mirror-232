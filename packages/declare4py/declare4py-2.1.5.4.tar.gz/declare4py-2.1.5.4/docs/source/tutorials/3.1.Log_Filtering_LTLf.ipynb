{
 "cells": [
  {
   "cell_type": "markdown",
   "id": "32aa537a",
   "metadata": {},
   "source": [
    "# Log Filtering with Linear Temporal Properties\n",
    "\n",
    "The filtering of a log according to Linear Temporal Logic properties is implemented with an LTLf checker based on automata. First of all we create an `D4PyEventLog` object that wraps the log."
   ]
  },
  {
   "cell_type": "code",
   "execution_count": 7,
   "id": "9d990bb6",
   "metadata": {},
   "outputs": [
    {
     "data": {
      "application/vnd.jupyter.widget-view+json": {
       "model_id": "22099d9d2c754422a5f5dc63f3b4c68d",
       "version_major": 2,
       "version_minor": 0
      },
      "text/plain": [
       "parsing log, completed traces ::   0%|          | 0/1050 [00:00<?, ?it/s]"
      ]
     },
     "metadata": {},
     "output_type": "display_data"
    },
    {
     "name": "stderr",
     "output_type": "stream",
     "text": [
      "/usr/local/lib/python3.11/dist-packages/pm4py/utils.py:486: UserWarning: the EventLog class has been deprecated and will be removed in a future release.\n",
      "  warnings.warn(\"the EventLog class has been deprecated and will be removed in a future release.\")\n"
     ]
    }
   ],
   "source": [
    "import sys\n",
    "import os\n",
    "import pathlib\n",
    "\n",
    "SCRIPT_DIR = pathlib.Path(\"../../../\", \"src\").resolve()\n",
    "sys.path.append(os.path.dirname(SCRIPT_DIR))\n",
    "\n",
    "from src.Declare4Py.D4PyEventLog import D4PyEventLog\n",
    "\n",
    "log_path = os.path.join(\"../../../\", \"tests\", \"test_logs\",\"Sepsis Cases.xes.gz\")\n",
    "event_log = D4PyEventLog()\n",
    "event_log.parse_xes_log(log_path)"
   ]
  },
  {
   "cell_type": "markdown",
   "id": "c94bd30b",
   "metadata": {},
   "source": [
    "The classes `LTLTemplate` and `LTLModel` are responsible for the LTLf template definitions and their instantiations into LTLf models given some activities and/or payload names:"
   ]
  },
  {
   "cell_type": "code",
   "execution_count": 17,
   "id": "0bd4cf1e",
   "metadata": {},
   "outputs": [],
   "source": [
    "from src.Declare4Py.ProcessModels.LTLModel import LTLTemplate\n",
    "from src.Declare4Py.ProcessModels.LTLModel import LTLModel\n",
    "    \n",
    "template : LTLTemplate = LTLTemplate('is_first_state_a')\n",
    "model_1 : LTLModel= template.fill_template(['ER Registration'], attr_type=['concept:name'])\n",
    "\n",
    "template: LTLTemplate = LTLTemplate('eventually_a')\n",
    "model_2 : LTLModel = template.fill_template(['Leucocytes'], attr_type=['concept:name'])"
   ]
  },
  {
   "cell_type": "markdown",
   "id": "49a04a06",
   "metadata": {},
   "source": [
    "The class `LTLAnalyzer` is therefore needed to analyze the log and filtering its traces according to multiple input LTLf models."
   ]
  },
  {
   "cell_type": "code",
   "execution_count": null,
   "id": "640ee035",
   "metadata": {},
   "outputs": [],
   "source": [
    "from src.Declare4Py.ProcessMiningTasks.ConformanceChecking.LTLAnalyzer import LTLAnalyzer\n",
    "\n",
    "analyzer = LTLAnalyzer(event_log, [model_1, model_2])\n",
    "conf_check_res_df = analyzer.run_multiple_models(minimize_automaton=False)"
   ]
  },
  {
   "cell_type": "markdown",
   "id": "357cc566",
   "metadata": {},
   "source": [
    "The output is a Pandas DataFrame that can be easily queried."
   ]
  },
  {
   "cell_type": "code",
   "execution_count": null,
   "id": "044c6751",
   "metadata": {},
   "outputs": [],
   "source": [
    "print(f\"Accepted traces: {len(conf_check_res_df[conf_check_res_df['accepted'] == True])}\")\n",
    "conf_check_res_df"
   ]
  },
  {
   "cell_type": "markdown",
   "id": "65182b29",
   "metadata": {},
   "source": [
    "The same easy coding holds also for Branched-DECLARE templates:"
   ]
  },
  {
   "cell_type": "code",
   "execution_count": null,
   "id": "a7681857",
   "metadata": {},
   "outputs": [],
   "source": [
    "template = LTLTemplate('alternate_response')\n",
    "activities_a = [\"Er Registration\", \"IV Liquid\"]\n",
    "activities_b = [\"CRP\", \"IV Antibiotics\"]\n",
    "model_1 = template.fill_template(activities_a, activities_b)\n",
    "\n",
    "template = LTLTemplate('not_precedence')\n",
    "activities_a = [\"ER Sepsis Triage\", \"CRP\"]\n",
    "activities_b = [\"IV Antibiotics\", \"LacticAcid\"]\n",
    "model_2 = template.fill_template(activities_a, activities_b)\n",
    "\n",
    "analyzer = LTLAnalyzer(event_log, [model_1, model_2])\n",
    "conf_check_res_df = analyzer.run_multiple_models()"
   ]
  },
  {
   "cell_type": "markdown",
   "id": "7995aecc",
   "metadata": {},
   "source": [
    "We therefore access the Pandas Dataframe"
   ]
  },
  {
   "cell_type": "code",
   "execution_count": null,
   "id": "eaf068af",
   "metadata": {},
   "outputs": [],
   "source": [
    "print(f\"Accepted traces: {len(conf_check_res_df[conf_check_res_df['accepted'] == True])}\")\n",
    "conf_check_res_df"
   ]
  },
  {
   "cell_type": "markdown",
   "id": "21c94d81",
   "metadata": {},
   "source": [
    "More information about managing process models and the LTLf or B-Declare templates can be found in tutorials 2 and 3."
   ]
  }
 ],
 "metadata": {
  "kernelspec": {
   "display_name": "Python 3 (ipykernel)",
   "language": "python",
   "name": "python3"
  },
  "language_info": {
   "codemirror_mode": {
    "name": "ipython",
    "version": 3
   },
   "file_extension": ".py",
   "mimetype": "text/x-python",
   "name": "python",
   "nbconvert_exporter": "python",
   "pygments_lexer": "ipython3",
   "version": "3.9.7"
  }
 },
 "nbformat": 4,
 "nbformat_minor": 5
}
