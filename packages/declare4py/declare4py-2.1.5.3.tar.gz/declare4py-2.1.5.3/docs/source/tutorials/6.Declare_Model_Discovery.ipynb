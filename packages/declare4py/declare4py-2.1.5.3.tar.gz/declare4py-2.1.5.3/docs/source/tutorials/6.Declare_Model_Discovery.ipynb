{
 "cells": [
  {
   "cell_type": "markdown",
   "id": "b3e8c31a",
   "metadata": {},
   "source": [
    "# Model Discovery with the DECLARE Miner\n",
    "\n",
    "This tutorial explains how to perform the discovery of a DECLARE model (without payload) and how to save the discovered model. We first import the relative `DeclareMiner` class and the load the log."
   ]
  },
  {
   "cell_type": "code",
   "execution_count": 1,
   "id": "14602e4d",
   "metadata": {},
   "outputs": [
    {
     "data": {
      "application/vnd.jupyter.widget-view+json": {
       "model_id": "e0920056321340e0b89236f9e9c3ce1f",
       "version_major": 2,
       "version_minor": 0
      },
      "text/plain": [
       "parsing log, completed traces ::   0%|          | 0/1050 [00:00<?, ?it/s]"
      ]
     },
     "metadata": {},
     "output_type": "display_data"
    }
   ],
   "source": [
    "import sys\n",
    "import os\n",
    "import pathlib\n",
    "\n",
    "SCRIPT_DIR = pathlib.Path(\"../../../\", \"src\").resolve()\n",
    "sys.path.append(os.path.dirname(SCRIPT_DIR))\n",
    "\n",
    "from src.Declare4Py.ProcessModels.DeclareModel import DeclareModel\n",
    "from src.Declare4Py.ProcessMiningTasks.Discovery.DeclareMiner import DeclareMiner\n",
    "from src.Declare4Py.D4PyEventLog import D4PyEventLog\n",
    "\n",
    "log_path = os.path.join(\"../../../\", \"tests\", \"test_logs\",\"Sepsis Cases.xes.gz\")\n",
    "event_log = D4PyEventLog(case_name=\"case:concept:name\")\n",
    "event_log.parse_xes_log(log_path)"
   ]
  },
  {
   "cell_type": "markdown",
   "id": "3a62f54f",
   "metadata": {},
   "source": [
    "The discovery of a DECLARE model is performed with the `DeclareMiner` class by setting:\n",
    "\n",
    "1. the computing of the frequent itemsets with an input support and of length 2. However, this is hidden to the programmer and he just needs to set the float parameter `itemsets_support` when instantiating the `DeclareMiner` class.\n",
    "2. Some other paramenters of the `DeclareMiner` class have to be set:\n",
    "    1. the event log;\n",
    "    2. The boolean parameter `consider_vacuity=true` that considers vacuously satisfied traces as satisfied, violated otherwise.\n",
    "    3. the float parameter `min_support` that sets the support to be satisfied in the log by each discovered constraint.\n",
    "    4. The integer parameter `max_declare_cardinality` sets the cardinality of the Exactly, Existence and Absence templates.\n",
    "\n",
    "Then, the model is discovery by calling the`DeclareMiner.run()` method that returns an `DeclareModel` object."
   ]
  },
  {
   "cell_type": "code",
   "execution_count": 2,
   "id": "bc829527",
   "metadata": {},
   "outputs": [
    {
     "name": "stdout",
     "output_type": "stream",
     "text": [
      "Computing discovery ...\n"
     ]
    }
   ],
   "source": [
    "discovery = DeclareMiner(log=event_log, consider_vacuity=False, min_support=0.2, itemsets_support=0.9, max_declare_cardinality=3)\n",
    "discovered_model: DeclareModel = discovery.run()"
   ]
  },
  {
   "cell_type": "markdown",
   "id": "0a9afda6",
   "metadata": {},
   "source": [
    "The discovered model can be inspected by showing the list of `serialized_constraints`:"
   ]
  },
  {
   "cell_type": "code",
   "execution_count": 3,
   "id": "609476d4",
   "metadata": {},
   "outputs": [
    {
     "data": {
      "text/plain": [
       "['Existence1[ER Triage] | |',\n",
       " 'Absence2[ER Triage] | |',\n",
       " 'Absence3[ER Triage] | |',\n",
       " 'Exactly1[ER Triage] | |',\n",
       " 'Existence1[ER Registration] | |',\n",
       " 'Absence2[ER Registration] | |',\n",
       " 'Absence3[ER Registration] | |',\n",
       " 'Exactly1[ER Registration] | |',\n",
       " 'Init[ER Registration] | |',\n",
       " 'Existence1[ER Sepsis Triage] | |',\n",
       " 'Absence2[ER Sepsis Triage] | |',\n",
       " 'Absence3[ER Sepsis Triage] | |',\n",
       " 'Exactly1[ER Sepsis Triage] | |',\n",
       " 'Existence1[Leucocytes] | |',\n",
       " 'Existence2[Leucocytes] | |',\n",
       " 'Existence3[Leucocytes] | |',\n",
       " 'Absence2[Leucocytes] | |',\n",
       " 'Absence3[Leucocytes] | |',\n",
       " 'Exactly1[Leucocytes] | |',\n",
       " 'Exactly2[Leucocytes] | |',\n",
       " 'Existence1[CRP] | |',\n",
       " 'Existence2[CRP] | |',\n",
       " 'Existence3[CRP] | |',\n",
       " 'Absence2[CRP] | |',\n",
       " 'Absence3[CRP] | |',\n",
       " 'Exactly1[CRP] | |',\n",
       " 'Exactly2[CRP] | |',\n",
       " 'Choice[ER Registration, ER Triage] | |',\n",
       " 'Choice[ER Triage, ER Registration] | |',\n",
       " 'Responded Existence[ER Registration, ER Triage] | |',\n",
       " 'Responded Existence[ER Triage, ER Registration] | |',\n",
       " 'Response[ER Registration, ER Triage] | |',\n",
       " 'Alternate Response[ER Registration, ER Triage] | |',\n",
       " 'Chain Response[ER Registration, ER Triage] | |',\n",
       " 'Precedence[ER Registration, ER Triage] | |',\n",
       " 'Alternate Precedence[ER Registration, ER Triage] | |',\n",
       " 'Chain Precedence[ER Registration, ER Triage] | |',\n",
       " 'Not Response[ER Triage, ER Registration] | |',\n",
       " 'Not Precedence[ER Triage, ER Registration] | |',\n",
       " 'Not Chain Response[ER Triage, ER Registration] | |',\n",
       " 'Not Chain Precedence[ER Triage, ER Registration] | |',\n",
       " 'Choice[ER Registration, ER Sepsis Triage] | |',\n",
       " 'Choice[ER Sepsis Triage, ER Registration] | |',\n",
       " 'Responded Existence[ER Registration, ER Sepsis Triage] | |',\n",
       " 'Responded Existence[ER Sepsis Triage, ER Registration] | |',\n",
       " 'Response[ER Registration, ER Sepsis Triage] | |',\n",
       " 'Alternate Response[ER Registration, ER Sepsis Triage] | |',\n",
       " 'Precedence[ER Registration, ER Sepsis Triage] | |',\n",
       " 'Alternate Precedence[ER Registration, ER Sepsis Triage] | |',\n",
       " 'Not Response[ER Sepsis Triage, ER Registration] | |',\n",
       " 'Not Precedence[ER Sepsis Triage, ER Registration] | |',\n",
       " 'Not Chain Response[ER Registration, ER Sepsis Triage] | |',\n",
       " 'Not Chain Response[ER Sepsis Triage, ER Registration] | |',\n",
       " 'Not Chain Precedence[ER Registration, ER Sepsis Triage] | |',\n",
       " 'Not Chain Precedence[ER Sepsis Triage, ER Registration] | |',\n",
       " 'Choice[ER Triage, ER Sepsis Triage] | |',\n",
       " 'Choice[ER Sepsis Triage, ER Triage] | |',\n",
       " 'Responded Existence[ER Triage, ER Sepsis Triage] | |',\n",
       " 'Responded Existence[ER Sepsis Triage, ER Triage] | |',\n",
       " 'Response[ER Triage, ER Sepsis Triage] | |',\n",
       " 'Alternate Response[ER Triage, ER Sepsis Triage] | |',\n",
       " 'Chain Response[ER Triage, ER Sepsis Triage] | |',\n",
       " 'Precedence[ER Triage, ER Sepsis Triage] | |',\n",
       " 'Alternate Precedence[ER Triage, ER Sepsis Triage] | |',\n",
       " 'Chain Precedence[ER Triage, ER Sepsis Triage] | |',\n",
       " 'Not Response[ER Sepsis Triage, ER Triage] | |',\n",
       " 'Not Precedence[ER Sepsis Triage, ER Triage] | |',\n",
       " 'Not Chain Response[ER Sepsis Triage, ER Triage] | |',\n",
       " 'Not Chain Precedence[ER Sepsis Triage, ER Triage] | |',\n",
       " 'Choice[Leucocytes, ER Registration] | |',\n",
       " 'Choice[ER Registration, Leucocytes] | |',\n",
       " 'Responded Existence[Leucocytes, ER Registration] | |',\n",
       " 'Responded Existence[ER Registration, Leucocytes] | |',\n",
       " 'Response[ER Registration, Leucocytes] | |',\n",
       " 'Alternate Response[ER Registration, Leucocytes] | |',\n",
       " 'Precedence[ER Registration, Leucocytes] | |',\n",
       " 'Alternate Precedence[ER Registration, Leucocytes] | |',\n",
       " 'Not Response[Leucocytes, ER Registration] | |',\n",
       " 'Not Precedence[Leucocytes, ER Registration] | |',\n",
       " 'Not Chain Response[Leucocytes, ER Registration] | |',\n",
       " 'Not Chain Response[ER Registration, Leucocytes] | |',\n",
       " 'Not Chain Precedence[Leucocytes, ER Registration] | |',\n",
       " 'Not Chain Precedence[ER Registration, Leucocytes] | |',\n",
       " 'Choice[Leucocytes, ER Triage] | |',\n",
       " 'Choice[ER Triage, Leucocytes] | |',\n",
       " 'Responded Existence[Leucocytes, ER Triage] | |',\n",
       " 'Responded Existence[ER Triage, Leucocytes] | |',\n",
       " 'Response[ER Triage, Leucocytes] | |',\n",
       " 'Alternate Response[ER Triage, Leucocytes] | |',\n",
       " 'Precedence[ER Triage, Leucocytes] | |',\n",
       " 'Alternate Precedence[ER Triage, Leucocytes] | |',\n",
       " 'Not Response[Leucocytes, ER Triage] | |',\n",
       " 'Not Precedence[Leucocytes, ER Triage] | |',\n",
       " 'Not Chain Response[Leucocytes, ER Triage] | |',\n",
       " 'Not Chain Response[ER Triage, Leucocytes] | |',\n",
       " 'Not Chain Precedence[Leucocytes, ER Triage] | |',\n",
       " 'Not Chain Precedence[ER Triage, Leucocytes] | |',\n",
       " 'Choice[Leucocytes, ER Sepsis Triage] | |',\n",
       " 'Choice[ER Sepsis Triage, Leucocytes] | |',\n",
       " 'Responded Existence[Leucocytes, ER Sepsis Triage] | |',\n",
       " 'Responded Existence[ER Sepsis Triage, Leucocytes] | |',\n",
       " 'Response[ER Sepsis Triage, Leucocytes] | |',\n",
       " 'Alternate Response[ER Sepsis Triage, Leucocytes] | |',\n",
       " 'Chain Response[ER Sepsis Triage, Leucocytes] | |',\n",
       " 'Precedence[ER Sepsis Triage, Leucocytes] | |',\n",
       " 'Alternate Precedence[ER Sepsis Triage, Leucocytes] | |',\n",
       " 'Not Response[Leucocytes, ER Sepsis Triage] | |',\n",
       " 'Not Precedence[Leucocytes, ER Sepsis Triage] | |',\n",
       " 'Not Chain Response[Leucocytes, ER Sepsis Triage] | |',\n",
       " 'Not Chain Response[ER Sepsis Triage, Leucocytes] | |',\n",
       " 'Not Chain Precedence[Leucocytes, ER Sepsis Triage] | |',\n",
       " 'Not Chain Precedence[ER Sepsis Triage, Leucocytes] | |',\n",
       " 'Choice[ER Registration, CRP] | |',\n",
       " 'Choice[CRP, ER Registration] | |',\n",
       " 'Responded Existence[ER Registration, CRP] | |',\n",
       " 'Responded Existence[CRP, ER Registration] | |',\n",
       " 'Response[ER Registration, CRP] | |',\n",
       " 'Alternate Response[ER Registration, CRP] | |',\n",
       " 'Precedence[ER Registration, CRP] | |',\n",
       " 'Alternate Precedence[ER Registration, CRP] | |',\n",
       " 'Not Response[CRP, ER Registration] | |',\n",
       " 'Not Precedence[CRP, ER Registration] | |',\n",
       " 'Not Chain Response[ER Registration, CRP] | |',\n",
       " 'Not Chain Response[CRP, ER Registration] | |',\n",
       " 'Not Chain Precedence[ER Registration, CRP] | |',\n",
       " 'Not Chain Precedence[CRP, ER Registration] | |',\n",
       " 'Choice[ER Triage, CRP] | |',\n",
       " 'Choice[CRP, ER Triage] | |',\n",
       " 'Responded Existence[ER Triage, CRP] | |',\n",
       " 'Responded Existence[CRP, ER Triage] | |',\n",
       " 'Response[ER Triage, CRP] | |',\n",
       " 'Alternate Response[ER Triage, CRP] | |',\n",
       " 'Precedence[ER Triage, CRP] | |',\n",
       " 'Alternate Precedence[ER Triage, CRP] | |',\n",
       " 'Not Response[CRP, ER Triage] | |',\n",
       " 'Not Precedence[CRP, ER Triage] | |',\n",
       " 'Not Chain Response[ER Triage, CRP] | |',\n",
       " 'Not Chain Response[CRP, ER Triage] | |',\n",
       " 'Not Chain Precedence[ER Triage, CRP] | |',\n",
       " 'Not Chain Precedence[CRP, ER Triage] | |',\n",
       " 'Choice[Leucocytes, CRP] | |',\n",
       " 'Choice[CRP, Leucocytes] | |',\n",
       " 'Responded Existence[Leucocytes, CRP] | |',\n",
       " 'Responded Existence[CRP, Leucocytes] | |',\n",
       " 'Response[Leucocytes, CRP] | |',\n",
       " 'Response[CRP, Leucocytes] | |',\n",
       " 'Alternate Response[Leucocytes, CRP] | |',\n",
       " 'Alternate Response[CRP, Leucocytes] | |',\n",
       " 'Chain Response[Leucocytes, CRP] | |',\n",
       " 'Precedence[Leucocytes, CRP] | |',\n",
       " 'Precedence[CRP, Leucocytes] | |',\n",
       " 'Alternate Precedence[Leucocytes, CRP] | |',\n",
       " 'Alternate Precedence[CRP, Leucocytes] | |',\n",
       " 'Chain Precedence[Leucocytes, CRP] | |',\n",
       " 'Not Chain Response[Leucocytes, CRP] | |',\n",
       " 'Not Chain Response[CRP, Leucocytes] | |',\n",
       " 'Not Chain Precedence[Leucocytes, CRP] | |',\n",
       " 'Not Chain Precedence[CRP, Leucocytes] | |',\n",
       " 'Choice[ER Sepsis Triage, CRP] | |',\n",
       " 'Choice[CRP, ER Sepsis Triage] | |',\n",
       " 'Responded Existence[ER Sepsis Triage, CRP] | |',\n",
       " 'Responded Existence[CRP, ER Sepsis Triage] | |',\n",
       " 'Response[ER Sepsis Triage, CRP] | |',\n",
       " 'Alternate Response[ER Sepsis Triage, CRP] | |',\n",
       " 'Precedence[ER Sepsis Triage, CRP] | |',\n",
       " 'Alternate Precedence[ER Sepsis Triage, CRP] | |',\n",
       " 'Not Response[CRP, ER Sepsis Triage] | |',\n",
       " 'Not Precedence[CRP, ER Sepsis Triage] | |',\n",
       " 'Not Chain Response[ER Sepsis Triage, CRP] | |',\n",
       " 'Not Chain Response[CRP, ER Sepsis Triage] | |',\n",
       " 'Not Chain Precedence[ER Sepsis Triage, CRP] | |',\n",
       " 'Not Chain Precedence[CRP, ER Sepsis Triage] | |']"
      ]
     },
     "execution_count": 3,
     "metadata": {},
     "output_type": "execute_result"
    }
   ],
   "source": [
    "discovered_model.serialized_constraints"
   ]
  },
  {
   "cell_type": "markdown",
   "id": "c13bd3a7",
   "metadata": {},
   "source": [
    "In addition, it is possible to save the discovered model in the file system:"
   ]
  },
  {
   "cell_type": "code",
   "execution_count": 5,
   "id": "2fb924cf",
   "metadata": {},
   "outputs": [],
   "source": [
    "discovered_model.to_file(\"sepsis_discovered_model.decl\")"
   ]
  }
 ],
 "metadata": {
  "kernelspec": {
   "display_name": "Python 3 (ipykernel)",
   "language": "python",
   "name": "python3"
  },
  "language_info": {
   "codemirror_mode": {
    "name": "ipython",
    "version": 3
   },
   "file_extension": ".py",
   "mimetype": "text/x-python",
   "name": "python",
   "nbconvert_exporter": "python",
   "pygments_lexer": "ipython3",
   "version": "3.9.7"
  }
 },
 "nbformat": 4,
 "nbformat_minor": 5
}
