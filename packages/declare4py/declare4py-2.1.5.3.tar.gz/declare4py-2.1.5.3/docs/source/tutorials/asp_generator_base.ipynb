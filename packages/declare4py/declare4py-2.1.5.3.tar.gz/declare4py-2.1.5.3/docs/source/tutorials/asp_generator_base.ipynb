{
 "cells": [
  {
   "cell_type": "markdown",
   "id": "0009d44f-be72-4bb2-9ca6-487a2be24ce1",
   "metadata": {
    "tags": []
   },
   "source": [
    "# Generate pm4py log using ASP Generator\n",
    "\n",
    "ASP log generator uses the decl model which converts the model into abudction logic programming and pass to the clingo.\n",
    "Clingo generates the output which is turned into the pm4py log or can be created a .xes file.\n"
   ]
  },
  {
   "cell_type": "code",
   "execution_count": 1,
   "id": "1eb21bf2-bf41-46b2-96e3-806047cc8cb1",
   "metadata": {
    "scrolled": true
   },
   "outputs": [
    {
     "name": "stdout",
     "output_type": "stream",
     "text": [
      "Python 3.11.2\r\n"
     ]
    }
   ],
   "source": [
    "!python3 --version"
   ]
  },
  {
   "cell_type": "code",
   "execution_count": 2,
   "id": "2938753f-7b7c-4095-b918-1a667621e50d",
   "metadata": {
    "tags": []
   },
   "outputs": [
    {
     "name": "stderr",
     "output_type": "stream",
     "text": [
      "/usr/local/lib/python3.11/dist-packages/lark/utils.py:163: DeprecationWarning: module 'sre_parse' is deprecated\n",
      "  import sre_parse\n",
      "/usr/local/lib/python3.11/dist-packages/lark/utils.py:164: DeprecationWarning: module 'sre_constants' is deprecated\n",
      "  import sre_constants\n"
     ]
    }
   ],
   "source": [
    "import sys\n",
    "import os\n",
    "import pathlib\n",
    "\n",
    "SCRIPT_DIR = pathlib.Path(\"../../../\", \"src\").resolve()\n",
    "sys.path.append(os.path.dirname(SCRIPT_DIR))\n",
    "\n",
    "from src.Declare4Py.ProcessMiningTasks.ASPLogGeneration.asp_generator import AspGenerator\n",
    "from src.Declare4Py.ProcessModels.DeclareModel import DeclareModel"
   ]
  },
  {
   "cell_type": "code",
   "execution_count": 3,
   "id": "0b9d5123-dc4f-4a75-bdd1-d4235d636772",
   "metadata": {
    "tags": []
   },
   "outputs": [],
   "source": [
    "decl_model_1 = \"decl_files/Response.decl\"\n",
    "decl_model_2 = \"decl_files/MikeModel.decl\"\n",
    "decl_model_3 = \"decl_files/reference10.decl\"\n",
    "decl_model_4 = \"diagonisis.decl\"\n",
    "decl_folder = \"decl_files\"\n",
    "\n",
    "decl_filename = decl_model_4.split(\".\")[0]\n",
    "output_file = pathlib.Path(\".\", f\"{decl_filename}.xes\")\n",
    "decl_file = pathlib.Path(\".\", decl_folder, decl_model_4)"
   ]
  },
  {
   "cell_type": "code",
   "execution_count": 4,
   "id": "4b2d84b6-6a5a-4b3c-a0bb-335981eb6374",
   "metadata": {},
   "outputs": [],
   "source": [
    "# Create Declare model by reading declare model from a file.\n",
    "\n",
    "model: DeclareModel = DeclareModel().parse_from_file(decl_file)"
   ]
  },
  {
   "cell_type": "code",
   "execution_count": 5,
   "id": "f4b87ba4-2740-4006-b40f-b0ae95bab202",
   "metadata": {},
   "outputs": [],
   "source": [
    "#general Setting\n",
    "\n",
    "# Number of traces that should be generated\n",
    "num_of_traces = 10\n",
    "\n",
    "# Minimum and maximum number of events a trace can contain\n",
    "(num_min_events, num_max_events) = (2, 25)\n"
   ]
  },
  {
   "cell_type": "code",
   "execution_count": 6,
   "id": "b9dc4474-319b-40e0-95a7-c8ac36a18f2b",
   "metadata": {},
   "outputs": [],
   "source": [
    "# Initializing ASP generator with default distributor which is uniform.\n",
    "\n",
    "asp = AspGenerator(model, num_of_traces, num_min_events, num_max_events)"
   ]
  },
  {
   "cell_type": "code",
   "execution_count": 7,
   "id": "d9696dfe",
   "metadata": {},
   "outputs": [
    {
     "data": {
      "text/plain": [
       "{'activities': ['ER Triage',\n",
       "  'ER Registration',\n",
       "  'ER Sepsis Triage',\n",
       "  'Leucocytes',\n",
       "  'CRP',\n",
       "  'LacticAcid',\n",
       "  'IV Antibiotics',\n",
       "  'Admission NC',\n",
       "  'IV Liquid',\n",
       "  'Release A',\n",
       "  'Release B',\n",
       "  'Return ER',\n",
       "  'Admission IC'],\n",
       " 'formula': '',\n",
       " 'parsed_formula': None,\n",
       " 'parameters': [],\n",
       " 'backend': 'lydia',\n",
       " 'attribute_type': [],\n",
       " 'payload': [],\n",
       " 'serialized_constraints': ['Chain Response[Admission NC, Release B] |A.org:group is K |T.org:group is E |',\n",
       "  'Chain Response[Admission NC, Release A] |A.org:group is I |T.org:group is E |133020,957701,s',\n",
       "  'Chain Precedence[IV Liquid, Admission NC] |A.org:group is I |T.org:group is A |92,14473,s',\n",
       "  'Chain Response[ER Registration, ER Triage] |(A.DiagnosticArtAstrup is false) AND (A.SIRSCritHeartRate is true) AND (A.org:group is A) AND (A.DiagnosticBlood is true) AND (A.DisfuncOrg is false) AND (A.DiagnosticECG is true) AND (A.Age >= 45) AND (A.InfectionSuspected is true) AND (A.DiagnosticLacticAcid is true) AND (A.DiagnosticSputum is true) AND (A.Hypoxie is false) AND (A.DiagnosticUrinaryCulture is true) AND (A.DiagnosticLiquor is false) AND (A.SIRSCritTemperature is true) AND (A.Infusion is true) AND (A.Hypotensie is false) AND (A.DiagnosticUrinarySediment is true) AND (A.Oligurie is false) AND (A.Age <= 80) AND (A.SIRSCritTachypnea is true) AND (A.DiagnosticOther is false) AND (A.SIRSCritLeucos is false) AND (A.DiagnosticIC is true) AND (A.SIRSCriteria2OrMore is true) AND (A.DiagnosticXthorax is true) |T.org:group is C |52,2154,s',\n",
       "  'Chain Precedence[Release A, Return ER] |A.org:group is ? |T.org:group is E |1121801,1121801,s',\n",
       "  'Chain Precedence[ER Sepsis Triage, IV Antibiotics] |A.org:group is L |T.org:group is L |15,11000,s',\n",
       "  'Chain Response[ER Sepsis Triage, IV Antibiotics] |A.org:group is L |T.org:group is L |15,11000,s',\n",
       "  'Chain Precedence[Admission IC, Admission NC] |A.org:group is J |T.org:group is J |',\n",
       "  'Chain Precedence[IV Antibiotics, Admission NC] |A.org:group is F |T.org:group is A |92,14459,s',\n",
       "  'Chain Precedence[Admission NC, Release B] |A.org:group is E |T.org:group is K |48225,48225,s',\n",
       "  'Chain Response[Admission IC, Admission NC] |A.org:group is J |T.org:group is J |61534,61534,s',\n",
       "  'Chain Response[LacticAcid, Leucocytes] |A.LacticAcid <= 0.8 |T.Leucocytes >= 13.8 |0,2778,m',\n",
       "  'Chain Precedence[ER Registration, ER Triage] |A.org:group is C |(T.InfectionSuspected is true) AND (T.SIRSCritTemperature is true) AND (T.DiagnosticLacticAcid is true) AND (T.DiagnosticBlood is true) AND (T.DiagnosticIC is true) AND (T.SIRSCriteria2OrMore is true) AND (T.DiagnosticECG is true) |52,2154,s'],\n",
       " 'constraints': [{'template': \"<Template.Chain Response: 11 >\",\n",
       "   'activities': ['Admission NC', 'Release B'],\n",
       "   'condition': ['A.org:group is K', 'T.org:group is E', '']},\n",
       "  {'template': \"<Template.Chain Response: 11 >\",\n",
       "   'activities': ['Admission NC', 'Release A'],\n",
       "   'condition': ['A.org:group is I', 'T.org:group is E', '133020,957701,s']},\n",
       "  {'template': \"<Template.Chain Precedence: 14 >\",\n",
       "   'activities': ['IV Liquid', 'Admission NC'],\n",
       "   'condition': ['A.org:group is I', 'T.org:group is A', '92,14473,s']},\n",
       "  {'template': \"<Template.Chain Response: 11 >\",\n",
       "   'activities': ['ER Registration', 'ER Triage'],\n",
       "   'condition': ['(A.DiagnosticArtAstrup is false) AND (A.SIRSCritHeartRate is true) AND (A.org:group is A) AND (A.DiagnosticBlood is true) AND (A.DisfuncOrg is false) AND (A.DiagnosticECG is true) AND (A.Age >= 45) AND (A.InfectionSuspected is true) AND (A.DiagnosticLacticAcid is true) AND (A.DiagnosticSputum is true) AND (A.Hypoxie is false) AND (A.DiagnosticUrinaryCulture is true) AND (A.DiagnosticLiquor is false) AND (A.SIRSCritTemperature is true) AND (A.Infusion is true) AND (A.Hypotensie is false) AND (A.DiagnosticUrinarySediment is true) AND (A.Oligurie is false) AND (A.Age <= 80) AND (A.SIRSCritTachypnea is true) AND (A.DiagnosticOther is false) AND (A.SIRSCritLeucos is false) AND (A.DiagnosticIC is true) AND (A.SIRSCriteria2OrMore is true) AND (A.DiagnosticXthorax is true)',\n",
       "    'T.org:group is C',\n",
       "    '52,2154,s']},\n",
       "  {'template': \"<Template.Chain Precedence: 14 >\",\n",
       "   'activities': ['Release A', 'Return ER'],\n",
       "   'condition': ['A.org:group is ?', 'T.org:group is E', '1121801,1121801,s']},\n",
       "  {'template': \"<Template.Chain Precedence: 14 >\",\n",
       "   'activities': ['ER Sepsis Triage', 'IV Antibiotics'],\n",
       "   'condition': ['A.org:group is L', 'T.org:group is L', '15,11000,s']},\n",
       "  {'template': \"<Template.Chain Response: 11 >\",\n",
       "   'activities': ['ER Sepsis Triage', 'IV Antibiotics'],\n",
       "   'condition': ['A.org:group is L', 'T.org:group is L', '15,11000,s']},\n",
       "  {'template': \"<Template.Chain Precedence: 14 >\",\n",
       "   'activities': ['Admission IC', 'Admission NC'],\n",
       "   'condition': ['A.org:group is J', 'T.org:group is J', '']},\n",
       "  {'template': \"<Template.Chain Precedence: 14 >\",\n",
       "   'activities': ['IV Antibiotics', 'Admission NC'],\n",
       "   'condition': ['A.org:group is F', 'T.org:group is A', '92,14459,s']},\n",
       "  {'template': \"<Template.Chain Precedence: 14 >\",\n",
       "   'activities': ['Admission NC', 'Release B'],\n",
       "   'condition': ['A.org:group is E', 'T.org:group is K', '48225,48225,s']},\n",
       "  {'template': \"<Template.Chain Response: 11 >\",\n",
       "   'activities': ['Admission IC', 'Admission NC'],\n",
       "   'condition': ['A.org:group is J', 'T.org:group is J', '61534,61534,s']},\n",
       "  {'template': \"<Template.Chain Response: 11 >\",\n",
       "   'activities': ['LacticAcid', 'Leucocytes'],\n",
       "   'condition': ['A.LacticAcid <= 0.8', 'T.Leucocytes >= 13.8', '0,2778,m']},\n",
       "  {'template': \"<Template.Chain Precedence: 14 >\",\n",
       "   'activities': ['ER Registration', 'ER Triage'],\n",
       "   'condition': ['A.org:group is C',\n",
       "    '(T.InfectionSuspected is true) AND (T.SIRSCritTemperature is true) AND (T.DiagnosticLacticAcid is true) AND (T.DiagnosticBlood is true) AND (T.DiagnosticIC is true) AND (T.SIRSCriteria2OrMore is true) AND (T.DiagnosticECG is true)',\n",
       "    '52,2154,s']}],\n",
       " 'parsed_model': <src.Declare4Py.ProcessModels.DeclareModel.DeclareParsedDataModel at 0x7f6986291250>,\n",
       " 'declare_model_lines': ['activity ER Triage\\n',\n",
       "  'bind ER Triage: org:group, Diagnose, Age\\n',\n",
       "  'activity ER Registration\\n',\n",
       "  'bind ER Registration: InfectionSuspected, org:group, DiagnosticBlood, DisfuncOrg, SIRSCritTachypnea, Hypotensie, SIRSCritHeartRate, Infusion, DiagnosticArtAstrup, Age, DiagnosticIC, DiagnosticSputum, DiagnosticLiquor, DiagnosticOther, SIRSCriteria2OrMore, DiagnosticXthorax, SIRSCritTemperature, DiagnosticUrinaryCulture, SIRSCritLeucos, Oligurie, DiagnosticLacticAcid, Diagnose, Hypoxie, DiagnosticUrinarySediment, DiagnosticECG\\n',\n",
       "  'activity ER Sepsis Triage\\n',\n",
       "  'bind ER Sepsis Triage: org:group, Diagnose, Age\\n',\n",
       "  'activity Leucocytes\\n',\n",
       "  'bind Leucocytes: Leucocytes, org:group, Diagnose, Age\\n',\n",
       "  'activity CRP\\n',\n",
       "  'bind CRP: CRP, org:group, Diagnose, Age\\n',\n",
       "  'activity LacticAcid\\n',\n",
       "  'bind LacticAcid: org:group, LacticAcid\\n',\n",
       "  'activity IV Antibiotics\\n',\n",
       "  'bind IV Antibiotics: org:group\\n',\n",
       "  'activity Admission NC\\n',\n",
       "  'bind Admission NC: org:group\\n',\n",
       "  'activity IV Liquid\\n',\n",
       "  'bind IV Liquid: org:group, Diagnose, Age\\n',\n",
       "  'activity Release A\\n',\n",
       "  'bind Release A: org:group\\n',\n",
       "  'activity Release B\\n',\n",
       "  'bind Release B: org:group\\n',\n",
       "  'activity Return ER\\n',\n",
       "  'bind Return ER: org:group\\n',\n",
       "  'activity Admission IC\\n',\n",
       "  'bind Admission IC: org:group\\n',\n",
       "  'CRP: float between 5.0 and 573.0\\n',\n",
       "  'InfectionSuspected: true, false\\n',\n",
       "  'org:group: A, B, C, D, E, F, G, H, I, J, K, L, M, N, O, P, Q, R, S, T, U, V, W, X, Y, ?\\n',\n",
       "  'DiagnosticBlood: true, false\\n',\n",
       "  'DisfuncOrg: true, false\\n',\n",
       "  'SIRSCritTachypnea: true, false\\n',\n",
       "  'Hypotensie: true, false\\n',\n",
       "  'SIRSCritHeartRate: true, false\\n',\n",
       "  'Infusion: true, false\\n',\n",
       "  'Leucocytes: float between 0.2 and 381.3\\n',\n",
       "  'DiagnosticArtAstrup: true, false\\n',\n",
       "  'LacticAcid: float between 0.2 and 14.9\\n',\n",
       "  'Age: integer between 20 and 90\\n',\n",
       "  'DiagnosticIC: true, false\\n',\n",
       "  'DiagnosticSputum: false, true\\n',\n",
       "  'DiagnosticLiquor: false, true\\n',\n",
       "  'DiagnosticOther: false, true\\n',\n",
       "  'SIRSCriteria2OrMore: true, false\\n',\n",
       "  'DiagnosticXthorax: true, false\\n',\n",
       "  'SIRSCritTemperature: true, false\\n',\n",
       "  'DiagnosticUrinaryCulture: true, false\\n',\n",
       "  'SIRSCritLeucos: false, true\\n',\n",
       "  'Oligurie: false, true\\n',\n",
       "  'DiagnosticLacticAcid: true, false\\n',\n",
       "  'Diagnose: YA, YB, YC, YD, QA, QB, QC, QD, QE, IA, IB, IC, ID, IE, AA, AB, AC, AD, AE, ZA, ZB, ZC, ZD, RA, RB, RC, RD, JA, JB, JC, JD, JE, BA, BB, A, BC, B, BD, C, BE, D, E, F, G, H, I, J, K, L, M, N, SA, O, SB, P, SC, Q, SD, R, S, T, U, V, KA, W, KB, X, KC, Y, KD, Z, KE, CA, CB, CC, CD, CE, TA, TB, TC, TD, LA, LB, LC, LD, LE, DA, DB, DC, DD, DE, UA, UB, UC, UD, MA, MB, MC, MD, ME, EA, EB, EC, ED, EE, VA, VB, VC, VD, NA, NB, NC, ND, FA, FB, FC, FD, FE, WA, WB, WC, WD, OA, OB, OC, OD, OE, GA, GB, GC, GD, GE, XA, XB, XC, XD, PA, PB, PC, PD, PE, HA, HB, HC, HD, HE\\n',\n",
       "  'Hypoxie: false, true\\n',\n",
       "  'DiagnosticUrinarySediment: true, false\\n',\n",
       "  'DiagnosticECG: true, false\\n',\n",
       "  'Chain Response[Admission NC, Release B] |A.org:group is K |T.org:group is E |\\n',\n",
       "  'Chain Response[Admission NC, Release A] |A.org:group is I |T.org:group is E |133020,957701,s\\n',\n",
       "  'Chain Precedence[IV Liquid, Admission NC] |A.org:group is I |T.org:group is A |92,14473,s\\n',\n",
       "  'Chain Response[ER Registration, ER Triage] |(A.DiagnosticArtAstrup is false) AND (A.SIRSCritHeartRate is true) AND (A.org:group is A) AND (A.DiagnosticBlood is true) AND (A.DisfuncOrg is false) AND (A.DiagnosticECG is true) AND (A.Age >= 45) AND (A.InfectionSuspected is true) AND (A.DiagnosticLacticAcid is true) AND (A.DiagnosticSputum is true) AND (A.Hypoxie is false) AND (A.DiagnosticUrinaryCulture is true) AND (A.DiagnosticLiquor is false) AND (A.SIRSCritTemperature is true) AND (A.Infusion is true) AND (A.Hypotensie is false) AND (A.DiagnosticUrinarySediment is true) AND (A.Oligurie is false) AND (A.Age <= 80) AND (A.SIRSCritTachypnea is true) AND (A.DiagnosticOther is false) AND (A.SIRSCritLeucos is false) AND (A.DiagnosticIC is true) AND (A.SIRSCriteria2OrMore is true) AND (A.DiagnosticXthorax is true) |T.org:group is C |52,2154,s\\n',\n",
       "  'Chain Precedence[Release A, Return ER] |A.org:group is ? |T.org:group is E |1121801,1121801,s\\n',\n",
       "  'Chain Precedence[ER Sepsis Triage, IV Antibiotics] |A.org:group is L |T.org:group is L |15,11000,s\\n',\n",
       "  'Chain Response[ER Sepsis Triage, IV Antibiotics] |A.org:group is L |T.org:group is L |15,11000,s\\n',\n",
       "  'Chain Precedence[Admission IC, Admission NC] |A.org:group is J |T.org:group is J |\\n',\n",
       "  'Chain Precedence[IV Antibiotics, Admission NC] |A.org:group is F |T.org:group is A |92,14459,s\\n',\n",
       "  'Chain Precedence[Admission NC, Release B] |A.org:group is E |T.org:group is K |48225,48225,s\\n',\n",
       "  'Chain Response[Admission IC, Admission NC] |A.org:group is J |T.org:group is J |61534,61534,s\\n',\n",
       "  'Chain Response[LacticAcid, Leucocytes] |A.LacticAcid <= 0.8 |T.Leucocytes >= 13.8 |0,2778,m\\n',\n",
       "  'Chain Precedence[ER Registration, ER Triage] |A.org:group is C |(T.InfectionSuspected is true) AND (T.SIRSCritTemperature is true) AND (T.DiagnosticLacticAcid is true) AND (T.DiagnosticBlood is true) AND (T.DiagnosticIC is true) AND (T.SIRSCriteria2OrMore is true) AND (T.DiagnosticECG is true) |52,2154,s\\n']}"
      ]
     },
     "execution_count": 7,
     "metadata": {},
     "output_type": "execute_result"
    }
   ],
   "source": [
    "model.__dict__\n"
   ]
  },
  {
   "cell_type": "code",
   "execution_count": 10,
   "id": "974a92ad-6497-433f-99e4-2f0d79a6e150",
   "metadata": {
    "scrolled": true
   },
   "outputs": [],
   "source": [
    "# Generate the traces and parse the result produced by clingo\n",
    "asp.run()  # Run accets 1 optional value whether to create file for the ASP generated from given declare model\n"
   ]
  },
  {
   "cell_type": "code",
   "execution_count": 11,
   "id": "a03b7b40-e718-4783-a8e4-36528bd4d01d",
   "metadata": {},
   "outputs": [
    {
     "ename": "Exception",
     "evalue": "the dataframe should (at least) contain a column of type date",
     "output_type": "error",
     "traceback": [
      "\u001b[0;31m---------------------------------------------------------------------------\u001b[0m",
      "\u001b[0;31mException\u001b[0m                                 Traceback (most recent call last)",
      "Cell \u001b[0;32mIn [11], line 2\u001b[0m\n\u001b[1;32m      1\u001b[0m \u001b[38;5;66;03m# Save file to xes\u001b[39;00m\n\u001b[0;32m----> 2\u001b[0m \u001b[43masp\u001b[49m\u001b[38;5;241;43m.\u001b[39;49m\u001b[43mto_xes\u001b[49m\u001b[43m(\u001b[49m\u001b[43moutput_file\u001b[49m\u001b[38;5;241;43m.\u001b[39;49m\u001b[43mas_posix\u001b[49m\u001b[43m(\u001b[49m\u001b[43m)\u001b[49m\u001b[43m)\u001b[49m\n",
      "File \u001b[0;32m/home/xhedj/Desktop/Declare4Py/src/Declare4Py/ProcessMiningTasks/ASPLogGeneration/asp_generator.py:577\u001b[0m, in \u001b[0;36mAspGenerator.to_xes\u001b[0;34m(self, output_fn)\u001b[0m\n\u001b[1;32m    575\u001b[0m pd_dataframe \u001b[38;5;241m=\u001b[39m \u001b[38;5;28mself\u001b[39m\u001b[38;5;241m.\u001b[39mtoPD(\u001b[38;5;28mself\u001b[39m\u001b[38;5;241m.\u001b[39mtraces_generated_events)\n\u001b[1;32m    576\u001b[0m \u001b[38;5;66;03m# pm4py.write_xes(self.event_log.log, output_fn)\u001b[39;00m\n\u001b[0;32m--> 577\u001b[0m \u001b[43mpm4py\u001b[49m\u001b[38;5;241;43m.\u001b[39;49m\u001b[43mwrite_xes\u001b[49m\u001b[43m(\u001b[49m\u001b[43mpd_dataframe\u001b[49m\u001b[43m,\u001b[49m\u001b[43m \u001b[49m\u001b[43moutput_fn\u001b[49m\u001b[43m)\u001b[49m\n",
      "File \u001b[0;32m/usr/local/lib/python3.11/dist-packages/pm4py/write.py:56\u001b[0m, in \u001b[0;36mwrite_xes\u001b[0;34m(log, file_path, case_id_key, extensions, **kwargs)\u001b[0m\n\u001b[1;32m     53\u001b[0m __event_log_deprecation_warning(log)\n\u001b[1;32m     55\u001b[0m \u001b[38;5;28;01mif\u001b[39;00m check_is_pandas_dataframe(log):\n\u001b[0;32m---> 56\u001b[0m     \u001b[43mcheck_pandas_dataframe_columns\u001b[49m\u001b[43m(\u001b[49m\u001b[43mlog\u001b[49m\u001b[43m,\u001b[49m\u001b[43m \u001b[49m\u001b[43mcase_id_key\u001b[49m\u001b[38;5;241;43m=\u001b[39;49m\u001b[43mcase_id_key\u001b[49m\u001b[43m)\u001b[49m\n\u001b[1;32m     58\u001b[0m file_path \u001b[38;5;241m=\u001b[39m \u001b[38;5;28mstr\u001b[39m(file_path)\n\u001b[1;32m     59\u001b[0m \u001b[38;5;28;01mif\u001b[39;00m \u001b[38;5;129;01mnot\u001b[39;00m (file_path\u001b[38;5;241m.\u001b[39mlower()\u001b[38;5;241m.\u001b[39mendswith(\u001b[38;5;124m\"\u001b[39m\u001b[38;5;124mxes\u001b[39m\u001b[38;5;124m\"\u001b[39m) \u001b[38;5;129;01mor\u001b[39;00m file_path\u001b[38;5;241m.\u001b[39mlower()\u001b[38;5;241m.\u001b[39mendswith(\u001b[38;5;124m\"\u001b[39m\u001b[38;5;124mxes.gz\u001b[39m\u001b[38;5;124m\"\u001b[39m)):\n",
      "File \u001b[0;32m/usr/local/lib/python3.11/dist-packages/pm4py/util/pandas_utils.py:285\u001b[0m, in \u001b[0;36mcheck_pandas_dataframe_columns\u001b[0;34m(df, activity_key, case_id_key, timestamp_key)\u001b[0m\n\u001b[1;32m    282\u001b[0m     \u001b[38;5;28;01mraise\u001b[39;00m \u001b[38;5;167;01mException\u001b[39;00m(\u001b[38;5;124m\"\u001b[39m\u001b[38;5;124mthe dataframe should (at least) contain a column of type string for the case identifier and a column of type string for the activity.\u001b[39m\u001b[38;5;124m\"\u001b[39m)\n\u001b[1;32m    284\u001b[0m \u001b[38;5;28;01mif\u001b[39;00m \u001b[38;5;28mlen\u001b[39m(timest_columns) \u001b[38;5;241m<\u001b[39m \u001b[38;5;241m1\u001b[39m:\n\u001b[0;32m--> 285\u001b[0m     \u001b[38;5;28;01mraise\u001b[39;00m \u001b[38;5;167;01mException\u001b[39;00m(\u001b[38;5;124m\"\u001b[39m\u001b[38;5;124mthe dataframe should (at least) contain a column of type date\u001b[39m\u001b[38;5;124m\"\u001b[39m)\n\u001b[1;32m    287\u001b[0m \u001b[38;5;28;01mif\u001b[39;00m case_id_key \u001b[38;5;129;01mis\u001b[39;00m \u001b[38;5;129;01mnot\u001b[39;00m \u001b[38;5;28;01mNone\u001b[39;00m:\n\u001b[1;32m    288\u001b[0m     \u001b[38;5;28;01mif\u001b[39;00m case_id_key \u001b[38;5;129;01mnot\u001b[39;00m \u001b[38;5;129;01min\u001b[39;00m df\u001b[38;5;241m.\u001b[39mcolumns:\n",
      "\u001b[0;31mException\u001b[0m: the dataframe should (at least) contain a column of type date"
     ]
    }
   ],
   "source": [
    "# Save file to xes\n",
    "asp.to_xes(output_file.as_posix())"
   ]
  },
  {
   "cell_type": "code",
   "execution_count": null,
   "id": "16c4df61",
   "metadata": {},
   "outputs": [],
   "source": [
    "asp.set_distribution(\"custom\", custom_probabilities=[0.0, 0.9, 0.0, 0.0, 0.1])"
   ]
  },
  {
   "cell_type": "code",
   "execution_count": null,
   "id": "eae4ba22",
   "metadata": {},
   "outputs": [],
   "source": [
    "asp.run()"
   ]
  },
  {
   "cell_type": "code",
   "execution_count": null,
   "id": "a6e602c3",
   "metadata": {},
   "outputs": [],
   "source": [
    "asp.to_xes(output_file.as_posix())"
   ]
  },
  {
   "cell_type": "code",
   "execution_count": null,
   "id": "fe003e19",
   "metadata": {},
   "outputs": [],
   "source": []
  }
 ],
 "metadata": {
  "kernelspec": {
   "display_name": "Python 3 (ipykernel)",
   "language": "python",
   "name": "python3"
  },
  "language_info": {
   "codemirror_mode": {
    "name": "ipython",
    "version": 3
   },
   "file_extension": ".py",
   "mimetype": "text/x-python",
   "name": "python",
   "nbconvert_exporter": "python",
   "pygments_lexer": "ipython3",
   "version": "3.11.2"
  }
 },
 "nbformat": 4,
 "nbformat_minor": 5
}
