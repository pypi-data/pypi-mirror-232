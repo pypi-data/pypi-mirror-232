{
 "cells": [
  {
   "cell_type": "code",
   "execution_count": 10,
   "id": "a107eb9e-253a-46b1-8c64-8a4ffa4ab684",
   "metadata": {},
   "outputs": [],
   "source": [
    "import joblib\n",
    "import os\n",
    "import pandas as pd"
   ]
  },
  {
   "cell_type": "code",
   "execution_count": 13,
   "id": "7a573d94-620a-40f8-9ffc-762431196d1f",
   "metadata": {},
   "outputs": [],
   "source": [
    "from typing import Final\n",
    "\n",
    "BASE_DIR = os.getcwd()\n"
   ]
  },
  {
   "cell_type": "code",
   "execution_count": 6,
   "id": "9c06e14b-4266-4d1d-852b-65659587bbaa",
   "metadata": {},
   "outputs": [],
   "source": [
    "model = joblib.load('ml_model')"
   ]
  },
  {
   "cell_type": "code",
   "execution_count": 11,
   "id": "5564c43e-ff50-4856-a921-c91df1db7a27",
   "metadata": {},
   "outputs": [],
   "source": [
    "def pickle_loads(file_path):\n",
    "    from os import path\n",
    "    if os.stat(file_path).st_size <=5:\n",
    "        raise Exception(f\"{file_path} file data is too small, less than 5 bytes\")\n",
    "    \n",
    "    if path.exists(file_path):\n",
    "        pickled_file = open(file_path, \"rb\")\n",
    "        obj = pd.compat.pickle_compat.load(pickled_file)\n",
    "        pickled_file.close()\n",
    "        return obj\n"
   ]
  },
  {
   "cell_type": "code",
   "execution_count": 17,
   "id": "0114249f-80ac-40c5-97f7-1ef8531b6ac3",
   "metadata": {},
   "outputs": [],
   "source": [
    "class ModelConstants:\n",
    "    MODEL_DIR: Final = os.path.join(BASE_DIR)\n",
    "    MODEL_FILE: Final = \"ml_model\"\n",
    "    X_TRAIN: Final = \"x_train\"\n",
    "    X_TEST: Final = \"x_test\"\n",
    "    Y_TRAIN: Final = \"y_train\"\n",
    "    Y_TEST: Final = \"y_test\"\n",
    "    SCORING_FUN: Final = \"scoring_func\"\n",
    "    Reverse_Map: Final = \"label_map\"\n",
    "    Meta_Info: Final = \"meta_info\"\n",
    "    Requirments: Final = \"requirement\""
   ]
  },
  {
   "cell_type": "code",
   "execution_count": 18,
   "id": "10cc1d33-4546-4e12-9470-3d0b3555f11b",
   "metadata": {},
   "outputs": [],
   "source": [
    "meta_info = pickle_loads(os.path.join(ModelConstants.MODEL_DIR, ModelConstants.Meta_Info))\n",
    "x_train = pickle_loads(os.path.join(ModelConstants.MODEL_DIR, ModelConstants.X_TRAIN))\n",
    "y_train = pickle_loads(os.path.join(ModelConstants.MODEL_DIR, ModelConstants.Y_TRAIN))\n",
    "x_test = pickle_loads(os.path.join(ModelConstants.MODEL_DIR, ModelConstants.X_TEST))\n",
    "y_test = pickle_loads(os.path.join(ModelConstants.MODEL_DIR, ModelConstants.Y_TEST))\n",
    "requirements = pickle_loads(os.path.join(ModelConstants.MODEL_DIR, ModelConstants.Requirments))"
   ]
  },
  {
   "cell_type": "code",
   "execution_count": 32,
   "id": "b5abe12f-8943-47cc-a68f-9bb3f56a0835",
   "metadata": {},
   "outputs": [],
   "source": [
    "import plotly.express as px\n",
    "import matplotlib.pyplot as plt"
   ]
  },
  {
   "cell_type": "code",
   "execution_count": 43,
   "id": "408634f9-dbe7-4a1b-8121-7ddd209eb4b2",
   "metadata": {},
   "outputs": [
    {
     "data": {
      "text/plain": [
       "array([False, False, False, ..., False, False, False])"
      ]
     },
     "execution_count": 43,
     "metadata": {},
     "output_type": "execute_result"
    }
   ],
   "source": [
    "probs[:,0] == probs[:,1]"
   ]
  },
  {
   "cell_type": "code",
   "execution_count": 48,
   "id": "52fa0563-e8b1-4510-a6b6-bd097aa2b56f",
   "metadata": {},
   "outputs": [
    {
     "name": "stdout",
     "output_type": "stream",
     "text": [
      "(4486, 2)\n",
      "[2.   1.   0.99 0.98 0.97 0.95 0.  ]\n"
     ]
    },
    {
     "data": {
      "image/png": "[encoded data removed]",
      "text/plain": [
       "<Figure size 640x480 with 1 Axes>"
      ]
     },
     "metadata": {},
     "output_type": "display_data"
    }
   ],
   "source": [
    "import sklearn.metrics as metrics\n",
    "probs = model.predict_proba(x_test)\n",
    "print(probs.shape)\n",
    "no_classes = probs.shape[1]\n",
    "for i in range(no_classes):\n",
    "    if i==0:\n",
    "        fpr, tpr, threshold = metrics.roc_curve(y_test, probs[:,i], pos_label=i)\n",
    "        plt.plot(fpr,tpr)\n",
    "        print(threshold)"
   ]
  },
  {
   "cell_type": "code",
   "execution_count": 49,
   "id": "92cde1a6-a03a-4a97-bfbd-f72662d0db66",
   "metadata": {},
   "outputs": [
    {
     "name": "stdout",
     "output_type": "stream",
     "text": [
      "[2.   1.   0.04 0.03 0.02 0.01 0.  ]\n"
     ]
    },
    {
     "data": {
      "image/png": "[encoded data removed]",
      "text/plain": [
       "<Figure size 640x480 with 1 Axes>"
      ]
     },
     "metadata": {},
     "output_type": "display_data"
    }
   ],
   "source": [
    "for i in range(no_classes):\n",
    "    if i==1:\n",
    "        fpr, tpr, threshold = metrics.roc_curve(y_test, probs[:,i], pos_label=i)\n",
    "        plt.plot(fpr,tpr)\n",
    "        print(threshold)"
   ]
  },
  {
   "cell_type": "code",
   "execution_count": null,
   "id": "c9b8dbc9-28e9-41f7-95cb-3b0ffbad4a31",
   "metadata": {},
   "outputs": [],
   "source": []
  }
 ],
 "metadata": {
  "kernelspec": {
   "display_name": "Python 3 (ipykernel)",
   "language": "python",
   "name": "python3"
  },
  "language_info": {
   "codemirror_mode": {
    "name": "ipython",
    "version": 3
   },
   "file_extension": ".py",
   "mimetype": "text/x-python",
   "name": "python",
   "nbconvert_exporter": "python",
   "pygments_lexer": "ipython3",
   "version": "3.8.13"
  }
 },
 "nbformat": 4,
 "nbformat_minor": 5
}
