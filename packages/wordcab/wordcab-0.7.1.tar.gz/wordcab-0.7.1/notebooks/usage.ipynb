{
 "cells": [
  {
   "cell_type": "markdown",
   "metadata": {},
   "source": [
    "# Wordcab Python\n",
    "\n",
    "Notebook for demonstrating the usage of the Wordcab python package that allows you to launch summarization tasks."
   ]
  },
  {
   "cell_type": "markdown",
   "metadata": {},
   "source": [
    "## Installation\n",
    "\n",
    "```bash\n",
    "$ pip install wordcab\n",
    "```"
   ]
  },
  {
   "cell_type": "code",
   "execution_count": null,
   "metadata": {},
   "outputs": [],
   "source": [
    "%pip install wordcab==0.2"
   ]
  },
  {
   "cell_type": "markdown",
   "metadata": {},
   "source": [
    "## Login\n",
    "\n",
    "```bash\n",
    "$ wordcab login\n",
    "```"
   ]
  },
  {
   "cell_type": "markdown",
   "metadata": {},
   "source": [
    "## Usage"
   ]
  },
  {
   "cell_type": "code",
   "execution_count": null,
   "metadata": {},
   "outputs": [],
   "source": [
    "from wordcab import (\n",
    "    change_speaker_labels,\n",
    "    delete_job,\n",
    "    get_stats,\n",
    "    list_jobs,\n",
    "    list_summaries,\n",
    "    list_transcripts,\n",
    "    retrieve_job,\n",
    "    retrieve_summary,\n",
    "    retrieve_transcript,\n",
    "    start_extract,\n",
    "    start_summary,\n",
    ")"
   ]
  },
  {
   "cell_type": "markdown",
   "metadata": {},
   "source": [
    "#### Simple functions"
   ]
  },
  {
   "cell_type": "code",
   "execution_count": null,
   "metadata": {},
   "outputs": [],
   "source": [
    "stats = get_stats()\n",
    "stats"
   ]
  },
  {
   "cell_type": "markdown",
   "metadata": {},
   "source": [
    "#### Client"
   ]
  },
  {
   "cell_type": "code",
   "execution_count": null,
   "metadata": {},
   "outputs": [],
   "source": [
    "from wordcab import Client\n",
    "\n",
    "with Client() as client:\n",
    "    jobs = client.list_jobs(client)\n",
    "\n",
    "jobs"
   ]
  },
  {
   "cell_type": "markdown",
   "metadata": {},
   "source": [
    "## Start Summary\n",
    "\n",
    "`start_summary` usage.\n",
    "\n",
    "#### With Text\n",
    "\n",
    "Let's start with a summary of a transcript stored as a text file."
   ]
  },
  {
   "cell_type": "code",
   "execution_count": null,
   "metadata": {},
   "outputs": [],
   "source": [
    "from wordcab.core_objects import GenericSource\n",
    "\n",
    "source = GenericSource(\"./samples/sample_1.txt\")\n",
    "job = start_summary(\n",
    "    source_object=source,\n",
    "    display_name=\"sample_txt\",\n",
    "    summary_type=\"no_speaker\",\n",
    "    summary_lens=3,\n",
    "    tags=[\"sample\", \"text\"],\n",
    ")\n",
    "job"
   ]
  },
  {
   "cell_type": "code",
   "execution_count": null,
   "metadata": {},
   "outputs": [],
   "source": [
    "# Checking the job status\n",
    "job = retrieve_job(job.job_name)\n",
    "job.job_status"
   ]
  },
  {
   "cell_type": "code",
   "execution_count": null,
   "metadata": {},
   "outputs": [],
   "source": [
    "summary_id = job.summary_details[\"summary_id\"]\n",
    "summary_id"
   ]
  },
  {
   "cell_type": "code",
   "execution_count": null,
   "metadata": {},
   "outputs": [],
   "source": [
    "summary = retrieve_summary(summary_id)\n",
    "for k, v in summary.__dict__.items():\n",
    "    print(f\"{k}: {v}\")"
   ]
  },
  {
   "cell_type": "code",
   "execution_count": null,
   "metadata": {},
   "outputs": [],
   "source": [
    "for utterance in summary.summary[\"3\"][\"structured_summary\"]:\n",
    "    print(utterance.summary)"
   ]
  },
  {
   "cell_type": "markdown",
   "metadata": {},
   "source": [
    "#### With Audio"
   ]
  },
  {
   "cell_type": "code",
   "execution_count": null,
   "metadata": {},
   "outputs": [],
   "source": [
    "from wordcab.core_objects import AudioSource\n",
    "\n",
    "\n",
    "# Find any audio sample with a duration of 1 minute or more\n",
    "AUDIO = \"/path/to/audio/file.mp3\"\n",
    "\n",
    "source = AudioSource(AUDIO)\n",
    "job = start_summary(\n",
    "    source_object=source,\n",
    "    display_name=\"sample_audio\",\n",
    "    summary_type=\"narrative\",\n",
    "    summary_lens=3,\n",
    "    tags=[\"sample\", \"audio\"],\n",
    ")"
   ]
  },
  {
   "cell_type": "code",
   "execution_count": null,
   "metadata": {},
   "outputs": [],
   "source": [
    "# Checking the job status\n",
    "job = retrieve_job(job.job_name)\n",
    "job.job_status"
   ]
  },
  {
   "cell_type": "code",
   "execution_count": null,
   "metadata": {},
   "outputs": [],
   "source": [
    "summary_id = job.summary_details[\"summary_id\"]\n",
    "summary_id"
   ]
  },
  {
   "cell_type": "code",
   "execution_count": null,
   "metadata": {},
   "outputs": [],
   "source": [
    "summary = retrieve_summary(summary_id)\n",
    "for k, v in summary.__dict__.items():\n",
    "    print(f\"{k}: {v}\")"
   ]
  },
  {
   "cell_type": "code",
   "execution_count": null,
   "metadata": {},
   "outputs": [],
   "source": [
    "for utterance in summary.summary[\"3\"][\"structured_summary\"]:\n",
    "    print(utterance.summary)"
   ]
  },
  {
   "cell_type": "markdown",
   "metadata": {},
   "source": [
    "#### More on the official documentation: https://wordcab-python.readthedocs.io/en/latest/\n",
    "\n",
    "Thanks for watching 🤗!"
   ]
  }
 ],
 "metadata": {
  "kernelspec": {
   "display_name": "Python 3.8.15 ('sdk')",
   "language": "python",
   "name": "python3"
  },
  "language_info": {
   "codemirror_mode": {
    "name": "ipython",
    "version": 3
   },
   "file_extension": ".py",
   "mimetype": "text/x-python",
   "name": "python",
   "nbconvert_exporter": "python",
   "pygments_lexer": "ipython3",
   "version": "3.8.15"
  },
  "orig_nbformat": 4,
  "vscode": {
   "interpreter": {
    "hash": "a5e7802a138ef4612170ff921f873c06e52bcb268c5c5935b6c729d00f394ddb"
   }
  }
 },
 "nbformat": 4,
 "nbformat_minor": 2
}
