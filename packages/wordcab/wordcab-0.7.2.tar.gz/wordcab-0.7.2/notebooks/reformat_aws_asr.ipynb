{
 "cells": [
  {
   "cell_type": "code",
   "execution_count": null,
   "metadata": {},
   "outputs": [],
   "source": [
    "# Description: Reformat the JSON output from AWS Transcribe to a more readable format\n",
    "import json\n",
    "\n",
    "\n",
    "with open(\"asrOutput.json\", \"r\") as f:\n",
    "    data = json.load(f)\n",
    "\n",
    "n_speakers = data[\"speaker_labels\"][\"speakers\"]\n",
    "speaker_labels = list(set([label[\"speaker_label\"] for label in data[\"speaker_labels\"][\"segments\"]]))\n",
    "\n",
    "assert len(speaker_labels) == n_speakers\n",
    "\n",
    "# Map speakers to letters\n",
    "speaker_map = {speaker: chr(ord(\"A\") + i) for i, speaker in enumerate(speaker_labels)}\n",
    "\n",
    "# Reformat the data\n",
    "utterance = None\n",
    "speaker = None\n",
    "for item in data[\"items\"]:\n",
    "    if not speaker:\n",
    "        speaker = item[\"speaker_label\"]\n",
    "        utterance = item[\"alternatives\"][0][\"content\"]\n",
    "    elif speaker == item[\"speaker_label\"]:\n",
    "        utterance += \" \" + item[\"alternatives\"][0][\"content\"]\n",
    "    else:\n",
    "        with open(\"results.txt\", \"a\") as f:\n",
    "            f.write(f\"SPEAKER {speaker_map[speaker]}: {utterance}\\n\")\n",
    "        speaker = item[\"speaker_label\"]\n",
    "        utterance = item[\"alternatives\"][0][\"content\"]"
   ]
  }
 ],
 "metadata": {
  "kernelspec": {
   "display_name": "Python 3.10.6 64-bit",
   "language": "python",
   "name": "python3"
  },
  "language_info": {
   "name": "python",
   "version": "3.10.6"
  },
  "orig_nbformat": 4,
  "vscode": {
   "interpreter": {
    "hash": "31f2aee4e71d21fbe5cf8b01ff0e069b9275f58929596ceb00d14d90e3e16cd6"
   }
  }
 },
 "nbformat": 4,
 "nbformat_minor": 2
}
